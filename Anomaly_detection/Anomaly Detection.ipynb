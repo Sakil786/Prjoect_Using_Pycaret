{
 "cells": [
  {
   "cell_type": "code",
   "execution_count": 1,
   "metadata": {
    "scrolled": true
   },
   "outputs": [
    {
     "name": "stdout",
     "output_type": "stream",
     "text": [
      "\n",
      "Setup Succesfully Completed!\n"
     ]
    },
    {
     "data": {
      "text/html": [
       "<style  type=\"text/css\" >\n",
       "</style><table id=\"T_fa995df0_88bc_11ea_a0c2_c8f733042b03\" ><thead>    <tr>        <th class=\"blank level0\" ></th>        <th class=\"col_heading level0 col0\" >Description</th>        <th class=\"col_heading level0 col1\" >Value</th>    </tr></thead><tbody>\n",
       "                <tr>\n",
       "                        <th id=\"T_fa995df0_88bc_11ea_a0c2_c8f733042b03level0_row0\" class=\"row_heading level0 row0\" >0</th>\n",
       "                        <td id=\"T_fa995df0_88bc_11ea_a0c2_c8f733042b03row0_col0\" class=\"data row0 col0\" >session_id </td>\n",
       "                        <td id=\"T_fa995df0_88bc_11ea_a0c2_c8f733042b03row0_col1\" class=\"data row0 col1\" >4210</td>\n",
       "            </tr>\n",
       "            <tr>\n",
       "                        <th id=\"T_fa995df0_88bc_11ea_a0c2_c8f733042b03level0_row1\" class=\"row_heading level0 row1\" >1</th>\n",
       "                        <td id=\"T_fa995df0_88bc_11ea_a0c2_c8f733042b03row1_col0\" class=\"data row1 col0\" >Original Data </td>\n",
       "                        <td id=\"T_fa995df0_88bc_11ea_a0c2_c8f733042b03row1_col1\" class=\"data row1 col1\" >(1000, 10)</td>\n",
       "            </tr>\n",
       "            <tr>\n",
       "                        <th id=\"T_fa995df0_88bc_11ea_a0c2_c8f733042b03level0_row2\" class=\"row_heading level0 row2\" >2</th>\n",
       "                        <td id=\"T_fa995df0_88bc_11ea_a0c2_c8f733042b03row2_col0\" class=\"data row2 col0\" >Missing Values </td>\n",
       "                        <td id=\"T_fa995df0_88bc_11ea_a0c2_c8f733042b03row2_col1\" class=\"data row2 col1\" >False</td>\n",
       "            </tr>\n",
       "            <tr>\n",
       "                        <th id=\"T_fa995df0_88bc_11ea_a0c2_c8f733042b03level0_row3\" class=\"row_heading level0 row3\" >3</th>\n",
       "                        <td id=\"T_fa995df0_88bc_11ea_a0c2_c8f733042b03row3_col0\" class=\"data row3 col0\" >Numeric Features </td>\n",
       "                        <td id=\"T_fa995df0_88bc_11ea_a0c2_c8f733042b03row3_col1\" class=\"data row3 col1\" >10</td>\n",
       "            </tr>\n",
       "            <tr>\n",
       "                        <th id=\"T_fa995df0_88bc_11ea_a0c2_c8f733042b03level0_row4\" class=\"row_heading level0 row4\" >4</th>\n",
       "                        <td id=\"T_fa995df0_88bc_11ea_a0c2_c8f733042b03row4_col0\" class=\"data row4 col0\" >Categorical Features </td>\n",
       "                        <td id=\"T_fa995df0_88bc_11ea_a0c2_c8f733042b03row4_col1\" class=\"data row4 col1\" >0</td>\n",
       "            </tr>\n",
       "            <tr>\n",
       "                        <th id=\"T_fa995df0_88bc_11ea_a0c2_c8f733042b03level0_row5\" class=\"row_heading level0 row5\" >5</th>\n",
       "                        <td id=\"T_fa995df0_88bc_11ea_a0c2_c8f733042b03row5_col0\" class=\"data row5 col0\" >Ordinal Features </td>\n",
       "                        <td id=\"T_fa995df0_88bc_11ea_a0c2_c8f733042b03row5_col1\" class=\"data row5 col1\" >False</td>\n",
       "            </tr>\n",
       "            <tr>\n",
       "                        <th id=\"T_fa995df0_88bc_11ea_a0c2_c8f733042b03level0_row6\" class=\"row_heading level0 row6\" >6</th>\n",
       "                        <td id=\"T_fa995df0_88bc_11ea_a0c2_c8f733042b03row6_col0\" class=\"data row6 col0\" >High Cardinality Features </td>\n",
       "                        <td id=\"T_fa995df0_88bc_11ea_a0c2_c8f733042b03row6_col1\" class=\"data row6 col1\" >False</td>\n",
       "            </tr>\n",
       "            <tr>\n",
       "                        <th id=\"T_fa995df0_88bc_11ea_a0c2_c8f733042b03level0_row7\" class=\"row_heading level0 row7\" >7</th>\n",
       "                        <td id=\"T_fa995df0_88bc_11ea_a0c2_c8f733042b03row7_col0\" class=\"data row7 col0\" >Transformed Data </td>\n",
       "                        <td id=\"T_fa995df0_88bc_11ea_a0c2_c8f733042b03row7_col1\" class=\"data row7 col1\" >(1000, 10)</td>\n",
       "            </tr>\n",
       "            <tr>\n",
       "                        <th id=\"T_fa995df0_88bc_11ea_a0c2_c8f733042b03level0_row8\" class=\"row_heading level0 row8\" >8</th>\n",
       "                        <td id=\"T_fa995df0_88bc_11ea_a0c2_c8f733042b03row8_col0\" class=\"data row8 col0\" >Numeric Imputer </td>\n",
       "                        <td id=\"T_fa995df0_88bc_11ea_a0c2_c8f733042b03row8_col1\" class=\"data row8 col1\" >mean</td>\n",
       "            </tr>\n",
       "            <tr>\n",
       "                        <th id=\"T_fa995df0_88bc_11ea_a0c2_c8f733042b03level0_row9\" class=\"row_heading level0 row9\" >9</th>\n",
       "                        <td id=\"T_fa995df0_88bc_11ea_a0c2_c8f733042b03row9_col0\" class=\"data row9 col0\" >Categorical Imputer </td>\n",
       "                        <td id=\"T_fa995df0_88bc_11ea_a0c2_c8f733042b03row9_col1\" class=\"data row9 col1\" >constant</td>\n",
       "            </tr>\n",
       "            <tr>\n",
       "                        <th id=\"T_fa995df0_88bc_11ea_a0c2_c8f733042b03level0_row10\" class=\"row_heading level0 row10\" >10</th>\n",
       "                        <td id=\"T_fa995df0_88bc_11ea_a0c2_c8f733042b03row10_col0\" class=\"data row10 col0\" >Normalize </td>\n",
       "                        <td id=\"T_fa995df0_88bc_11ea_a0c2_c8f733042b03row10_col1\" class=\"data row10 col1\" >False</td>\n",
       "            </tr>\n",
       "            <tr>\n",
       "                        <th id=\"T_fa995df0_88bc_11ea_a0c2_c8f733042b03level0_row11\" class=\"row_heading level0 row11\" >11</th>\n",
       "                        <td id=\"T_fa995df0_88bc_11ea_a0c2_c8f733042b03row11_col0\" class=\"data row11 col0\" >Normalize Method </td>\n",
       "                        <td id=\"T_fa995df0_88bc_11ea_a0c2_c8f733042b03row11_col1\" class=\"data row11 col1\" >None</td>\n",
       "            </tr>\n",
       "            <tr>\n",
       "                        <th id=\"T_fa995df0_88bc_11ea_a0c2_c8f733042b03level0_row12\" class=\"row_heading level0 row12\" >12</th>\n",
       "                        <td id=\"T_fa995df0_88bc_11ea_a0c2_c8f733042b03row12_col0\" class=\"data row12 col0\" >Transformation </td>\n",
       "                        <td id=\"T_fa995df0_88bc_11ea_a0c2_c8f733042b03row12_col1\" class=\"data row12 col1\" >False</td>\n",
       "            </tr>\n",
       "            <tr>\n",
       "                        <th id=\"T_fa995df0_88bc_11ea_a0c2_c8f733042b03level0_row13\" class=\"row_heading level0 row13\" >13</th>\n",
       "                        <td id=\"T_fa995df0_88bc_11ea_a0c2_c8f733042b03row13_col0\" class=\"data row13 col0\" >Transformation Method </td>\n",
       "                        <td id=\"T_fa995df0_88bc_11ea_a0c2_c8f733042b03row13_col1\" class=\"data row13 col1\" >None</td>\n",
       "            </tr>\n",
       "            <tr>\n",
       "                        <th id=\"T_fa995df0_88bc_11ea_a0c2_c8f733042b03level0_row14\" class=\"row_heading level0 row14\" >14</th>\n",
       "                        <td id=\"T_fa995df0_88bc_11ea_a0c2_c8f733042b03row14_col0\" class=\"data row14 col0\" >PCA </td>\n",
       "                        <td id=\"T_fa995df0_88bc_11ea_a0c2_c8f733042b03row14_col1\" class=\"data row14 col1\" >False</td>\n",
       "            </tr>\n",
       "            <tr>\n",
       "                        <th id=\"T_fa995df0_88bc_11ea_a0c2_c8f733042b03level0_row15\" class=\"row_heading level0 row15\" >15</th>\n",
       "                        <td id=\"T_fa995df0_88bc_11ea_a0c2_c8f733042b03row15_col0\" class=\"data row15 col0\" >PCA Method </td>\n",
       "                        <td id=\"T_fa995df0_88bc_11ea_a0c2_c8f733042b03row15_col1\" class=\"data row15 col1\" >None</td>\n",
       "            </tr>\n",
       "            <tr>\n",
       "                        <th id=\"T_fa995df0_88bc_11ea_a0c2_c8f733042b03level0_row16\" class=\"row_heading level0 row16\" >16</th>\n",
       "                        <td id=\"T_fa995df0_88bc_11ea_a0c2_c8f733042b03row16_col0\" class=\"data row16 col0\" >PCA components </td>\n",
       "                        <td id=\"T_fa995df0_88bc_11ea_a0c2_c8f733042b03row16_col1\" class=\"data row16 col1\" >None</td>\n",
       "            </tr>\n",
       "            <tr>\n",
       "                        <th id=\"T_fa995df0_88bc_11ea_a0c2_c8f733042b03level0_row17\" class=\"row_heading level0 row17\" >17</th>\n",
       "                        <td id=\"T_fa995df0_88bc_11ea_a0c2_c8f733042b03row17_col0\" class=\"data row17 col0\" >Ignore Low Variance </td>\n",
       "                        <td id=\"T_fa995df0_88bc_11ea_a0c2_c8f733042b03row17_col1\" class=\"data row17 col1\" >False</td>\n",
       "            </tr>\n",
       "            <tr>\n",
       "                        <th id=\"T_fa995df0_88bc_11ea_a0c2_c8f733042b03level0_row18\" class=\"row_heading level0 row18\" >18</th>\n",
       "                        <td id=\"T_fa995df0_88bc_11ea_a0c2_c8f733042b03row18_col0\" class=\"data row18 col0\" >Combine Rare Levels </td>\n",
       "                        <td id=\"T_fa995df0_88bc_11ea_a0c2_c8f733042b03row18_col1\" class=\"data row18 col1\" >False</td>\n",
       "            </tr>\n",
       "            <tr>\n",
       "                        <th id=\"T_fa995df0_88bc_11ea_a0c2_c8f733042b03level0_row19\" class=\"row_heading level0 row19\" >19</th>\n",
       "                        <td id=\"T_fa995df0_88bc_11ea_a0c2_c8f733042b03row19_col0\" class=\"data row19 col0\" >Rare Level Threshold </td>\n",
       "                        <td id=\"T_fa995df0_88bc_11ea_a0c2_c8f733042b03row19_col1\" class=\"data row19 col1\" >None</td>\n",
       "            </tr>\n",
       "            <tr>\n",
       "                        <th id=\"T_fa995df0_88bc_11ea_a0c2_c8f733042b03level0_row20\" class=\"row_heading level0 row20\" >20</th>\n",
       "                        <td id=\"T_fa995df0_88bc_11ea_a0c2_c8f733042b03row20_col0\" class=\"data row20 col0\" >Numeric Binning </td>\n",
       "                        <td id=\"T_fa995df0_88bc_11ea_a0c2_c8f733042b03row20_col1\" class=\"data row20 col1\" >False</td>\n",
       "            </tr>\n",
       "            <tr>\n",
       "                        <th id=\"T_fa995df0_88bc_11ea_a0c2_c8f733042b03level0_row21\" class=\"row_heading level0 row21\" >21</th>\n",
       "                        <td id=\"T_fa995df0_88bc_11ea_a0c2_c8f733042b03row21_col0\" class=\"data row21 col0\" >Remove Multicollinearity </td>\n",
       "                        <td id=\"T_fa995df0_88bc_11ea_a0c2_c8f733042b03row21_col1\" class=\"data row21 col1\" >False</td>\n",
       "            </tr>\n",
       "            <tr>\n",
       "                        <th id=\"T_fa995df0_88bc_11ea_a0c2_c8f733042b03level0_row22\" class=\"row_heading level0 row22\" >22</th>\n",
       "                        <td id=\"T_fa995df0_88bc_11ea_a0c2_c8f733042b03row22_col0\" class=\"data row22 col0\" >Multicollinearity Threshold </td>\n",
       "                        <td id=\"T_fa995df0_88bc_11ea_a0c2_c8f733042b03row22_col1\" class=\"data row22 col1\" >None</td>\n",
       "            </tr>\n",
       "            <tr>\n",
       "                        <th id=\"T_fa995df0_88bc_11ea_a0c2_c8f733042b03level0_row23\" class=\"row_heading level0 row23\" >23</th>\n",
       "                        <td id=\"T_fa995df0_88bc_11ea_a0c2_c8f733042b03row23_col0\" class=\"data row23 col0\" >Group Features </td>\n",
       "                        <td id=\"T_fa995df0_88bc_11ea_a0c2_c8f733042b03row23_col1\" class=\"data row23 col1\" >False</td>\n",
       "            </tr>\n",
       "    </tbody></table>"
      ],
      "text/plain": [
       "<pandas.io.formats.style.Styler at 0x7fc8dfcd8208>"
      ]
     },
     "metadata": {},
     "output_type": "display_data"
    }
   ],
   "source": [
    "#import the dataset from pycaret repository\n",
    "from pycaret.datasets import get_data\n",
    "anomaly = get_data('anomaly')\n",
    "#import anomaly detection module\n",
    "from pycaret.anomaly import *\n",
    "#intialize the setup\n",
    "exp_ano = setup(anomaly)"
   ]
  },
  {
   "cell_type": "markdown",
   "metadata": {},
   "source": [
    "# Create Model"
   ]
  },
  {
   "cell_type": "code",
   "execution_count": 2,
   "metadata": {},
   "outputs": [],
   "source": [
    "knn = create_model('knn')"
   ]
  },
  {
   "cell_type": "code",
   "execution_count": 3,
   "metadata": {},
   "outputs": [],
   "source": [
    "# create a model\n",
    "knn = create_model('knn')\n",
    "# assign a model \n",
    "knn_df = assign_model(knn)"
   ]
  },
  {
   "cell_type": "code",
   "execution_count": 4,
   "metadata": {
    "scrolled": true
   },
   "outputs": [
    {
     "data": {
      "text/html": [
       "<div>\n",
       "<style scoped>\n",
       "    .dataframe tbody tr th:only-of-type {\n",
       "        vertical-align: middle;\n",
       "    }\n",
       "\n",
       "    .dataframe tbody tr th {\n",
       "        vertical-align: top;\n",
       "    }\n",
       "\n",
       "    .dataframe thead th {\n",
       "        text-align: right;\n",
       "    }\n",
       "</style>\n",
       "<table border=\"1\" class=\"dataframe\">\n",
       "  <thead>\n",
       "    <tr style=\"text-align: right;\">\n",
       "      <th></th>\n",
       "      <th>Col1</th>\n",
       "      <th>Col2</th>\n",
       "      <th>Col3</th>\n",
       "      <th>Col4</th>\n",
       "      <th>Col5</th>\n",
       "      <th>Col6</th>\n",
       "      <th>Col7</th>\n",
       "      <th>Col8</th>\n",
       "      <th>Col9</th>\n",
       "      <th>Col10</th>\n",
       "      <th>Label</th>\n",
       "      <th>Score</th>\n",
       "    </tr>\n",
       "  </thead>\n",
       "  <tbody>\n",
       "    <tr>\n",
       "      <th>0</th>\n",
       "      <td>0.263995</td>\n",
       "      <td>0.764929</td>\n",
       "      <td>0.138424</td>\n",
       "      <td>0.935242</td>\n",
       "      <td>0.605867</td>\n",
       "      <td>0.518790</td>\n",
       "      <td>0.912225</td>\n",
       "      <td>0.608234</td>\n",
       "      <td>0.723782</td>\n",
       "      <td>0.733591</td>\n",
       "      <td>0</td>\n",
       "      <td>0.569672</td>\n",
       "    </tr>\n",
       "    <tr>\n",
       "      <th>1</th>\n",
       "      <td>0.546092</td>\n",
       "      <td>0.653975</td>\n",
       "      <td>0.065575</td>\n",
       "      <td>0.227772</td>\n",
       "      <td>0.845269</td>\n",
       "      <td>0.837066</td>\n",
       "      <td>0.272379</td>\n",
       "      <td>0.331679</td>\n",
       "      <td>0.429297</td>\n",
       "      <td>0.367422</td>\n",
       "      <td>0</td>\n",
       "      <td>0.484217</td>\n",
       "    </tr>\n",
       "    <tr>\n",
       "      <th>2</th>\n",
       "      <td>0.336714</td>\n",
       "      <td>0.538842</td>\n",
       "      <td>0.192801</td>\n",
       "      <td>0.553563</td>\n",
       "      <td>0.074515</td>\n",
       "      <td>0.332993</td>\n",
       "      <td>0.365792</td>\n",
       "      <td>0.861309</td>\n",
       "      <td>0.899017</td>\n",
       "      <td>0.088600</td>\n",
       "      <td>1</td>\n",
       "      <td>0.691915</td>\n",
       "    </tr>\n",
       "    <tr>\n",
       "      <th>3</th>\n",
       "      <td>0.092108</td>\n",
       "      <td>0.995017</td>\n",
       "      <td>0.014465</td>\n",
       "      <td>0.176371</td>\n",
       "      <td>0.241530</td>\n",
       "      <td>0.514724</td>\n",
       "      <td>0.562208</td>\n",
       "      <td>0.158963</td>\n",
       "      <td>0.073715</td>\n",
       "      <td>0.208463</td>\n",
       "      <td>1</td>\n",
       "      <td>0.811600</td>\n",
       "    </tr>\n",
       "    <tr>\n",
       "      <th>4</th>\n",
       "      <td>0.325261</td>\n",
       "      <td>0.805968</td>\n",
       "      <td>0.957033</td>\n",
       "      <td>0.331665</td>\n",
       "      <td>0.307923</td>\n",
       "      <td>0.355315</td>\n",
       "      <td>0.501899</td>\n",
       "      <td>0.558449</td>\n",
       "      <td>0.885169</td>\n",
       "      <td>0.182754</td>\n",
       "      <td>0</td>\n",
       "      <td>0.634337</td>\n",
       "    </tr>\n",
       "    <tr>\n",
       "      <th>...</th>\n",
       "      <td>...</td>\n",
       "      <td>...</td>\n",
       "      <td>...</td>\n",
       "      <td>...</td>\n",
       "      <td>...</td>\n",
       "      <td>...</td>\n",
       "      <td>...</td>\n",
       "      <td>...</td>\n",
       "      <td>...</td>\n",
       "      <td>...</td>\n",
       "      <td>...</td>\n",
       "      <td>...</td>\n",
       "    </tr>\n",
       "    <tr>\n",
       "      <th>995</th>\n",
       "      <td>0.305055</td>\n",
       "      <td>0.656837</td>\n",
       "      <td>0.331665</td>\n",
       "      <td>0.822525</td>\n",
       "      <td>0.907127</td>\n",
       "      <td>0.882276</td>\n",
       "      <td>0.855732</td>\n",
       "      <td>0.584786</td>\n",
       "      <td>0.808640</td>\n",
       "      <td>0.242762</td>\n",
       "      <td>0</td>\n",
       "      <td>0.294537</td>\n",
       "    </tr>\n",
       "    <tr>\n",
       "      <th>996</th>\n",
       "      <td>0.812627</td>\n",
       "      <td>0.864258</td>\n",
       "      <td>0.616604</td>\n",
       "      <td>0.167966</td>\n",
       "      <td>0.811223</td>\n",
       "      <td>0.938071</td>\n",
       "      <td>0.418462</td>\n",
       "      <td>0.472306</td>\n",
       "      <td>0.348347</td>\n",
       "      <td>0.671129</td>\n",
       "      <td>0</td>\n",
       "      <td>0.414982</td>\n",
       "    </tr>\n",
       "    <tr>\n",
       "      <th>997</th>\n",
       "      <td>0.250967</td>\n",
       "      <td>0.138627</td>\n",
       "      <td>0.919703</td>\n",
       "      <td>0.461234</td>\n",
       "      <td>0.886555</td>\n",
       "      <td>0.869888</td>\n",
       "      <td>0.800908</td>\n",
       "      <td>0.530324</td>\n",
       "      <td>0.779433</td>\n",
       "      <td>0.234952</td>\n",
       "      <td>0</td>\n",
       "      <td>0.361396</td>\n",
       "    </tr>\n",
       "    <tr>\n",
       "      <th>998</th>\n",
       "      <td>0.502436</td>\n",
       "      <td>0.936820</td>\n",
       "      <td>0.580062</td>\n",
       "      <td>0.540773</td>\n",
       "      <td>0.151995</td>\n",
       "      <td>0.059452</td>\n",
       "      <td>0.225220</td>\n",
       "      <td>0.242755</td>\n",
       "      <td>0.279385</td>\n",
       "      <td>0.538755</td>\n",
       "      <td>0</td>\n",
       "      <td>0.337370</td>\n",
       "    </tr>\n",
       "    <tr>\n",
       "      <th>999</th>\n",
       "      <td>0.457991</td>\n",
       "      <td>0.017755</td>\n",
       "      <td>0.714113</td>\n",
       "      <td>0.125992</td>\n",
       "      <td>0.063316</td>\n",
       "      <td>0.154739</td>\n",
       "      <td>0.922974</td>\n",
       "      <td>0.692299</td>\n",
       "      <td>0.816777</td>\n",
       "      <td>0.307592</td>\n",
       "      <td>0</td>\n",
       "      <td>0.377357</td>\n",
       "    </tr>\n",
       "  </tbody>\n",
       "</table>\n",
       "<p>1000 rows × 12 columns</p>\n",
       "</div>"
      ],
      "text/plain": [
       "         Col1      Col2      Col3      Col4      Col5      Col6      Col7  \\\n",
       "0    0.263995  0.764929  0.138424  0.935242  0.605867  0.518790  0.912225   \n",
       "1    0.546092  0.653975  0.065575  0.227772  0.845269  0.837066  0.272379   \n",
       "2    0.336714  0.538842  0.192801  0.553563  0.074515  0.332993  0.365792   \n",
       "3    0.092108  0.995017  0.014465  0.176371  0.241530  0.514724  0.562208   \n",
       "4    0.325261  0.805968  0.957033  0.331665  0.307923  0.355315  0.501899   \n",
       "..        ...       ...       ...       ...       ...       ...       ...   \n",
       "995  0.305055  0.656837  0.331665  0.822525  0.907127  0.882276  0.855732   \n",
       "996  0.812627  0.864258  0.616604  0.167966  0.811223  0.938071  0.418462   \n",
       "997  0.250967  0.138627  0.919703  0.461234  0.886555  0.869888  0.800908   \n",
       "998  0.502436  0.936820  0.580062  0.540773  0.151995  0.059452  0.225220   \n",
       "999  0.457991  0.017755  0.714113  0.125992  0.063316  0.154739  0.922974   \n",
       "\n",
       "         Col8      Col9     Col10  Label     Score  \n",
       "0    0.608234  0.723782  0.733591      0  0.569672  \n",
       "1    0.331679  0.429297  0.367422      0  0.484217  \n",
       "2    0.861309  0.899017  0.088600      1  0.691915  \n",
       "3    0.158963  0.073715  0.208463      1  0.811600  \n",
       "4    0.558449  0.885169  0.182754      0  0.634337  \n",
       "..        ...       ...       ...    ...       ...  \n",
       "995  0.584786  0.808640  0.242762      0  0.294537  \n",
       "996  0.472306  0.348347  0.671129      0  0.414982  \n",
       "997  0.530324  0.779433  0.234952      0  0.361396  \n",
       "998  0.242755  0.279385  0.538755      0  0.337370  \n",
       "999  0.692299  0.816777  0.307592      0  0.377357  \n",
       "\n",
       "[1000 rows x 12 columns]"
      ]
     },
     "execution_count": 4,
     "metadata": {},
     "output_type": "execute_result"
    }
   ],
   "source": [
    "knn_df"
   ]
  },
  {
   "cell_type": "code",
   "execution_count": 5,
   "metadata": {
    "scrolled": true
   },
   "outputs": [
    {
     "data": {
      "text/html": [
       "        <script type=\"text/javascript\">\n",
       "        window.PlotlyConfig = {MathJaxConfig: 'local'};\n",
       "        if (window.MathJax) {MathJax.Hub.Config({SVG: {font: \"STIX-Web\"}});}\n",
       "        if (typeof require !== 'undefined') {\n",
       "        require.undef(\"plotly\");\n",
       "        requirejs.config({\n",
       "            paths: {\n",
       "                'plotly': ['https://cdn.plot.ly/plotly-latest.min']\n",
       "            }\n",
       "        });\n",
       "        require(['plotly'], function(Plotly) {\n",
       "            window._Plotly = Plotly;\n",
       "        });\n",
       "        }\n",
       "        </script>\n",
       "        "
      ]
     },
     "metadata": {},
     "output_type": "display_data"
    },
    {
     "data": {
      "application/vnd.plotly.v1+json": {
       "config": {
        "plotlyServerURL": "https://plot.ly"
       },
       "data": [
        {
         "customdata": [
          [
           0.263995357
          ],
          [
           0.546092303
          ],
          [
           0.33671410399999996
          ],
          [
           0.092107835
          ],
          [
           0.325261175
          ],
          [
           0.212464853
          ],
          [
           0.258565714
          ],
          [
           0.869236755
          ],
          [
           0.197077957
          ],
          [
           0.292984504
          ],
          [
           0.82178316
          ],
          [
           0.796622959
          ],
          [
           0.045577010999999994
          ],
          [
           0.613660351
          ],
          [
           0.9507445659999999
          ],
          [
           0.33634633700000005
          ],
          [
           0.034440667
          ],
          [
           0.741544275
          ],
          [
           0.18443265
          ],
          [
           0.664514943
          ],
          [
           0.16282485800000002
          ],
          [
           0.729838445
          ],
          [
           0.62837389
          ],
          [
           0.057883660999999996
          ],
          [
           0.445534827
          ],
          [
           0.80183695
          ],
          [
           0.27709612
          ],
          [
           0.228634015
          ],
          [
           0.834860657
          ],
          [
           0.6697665110000001
          ],
          [
           0.532527349
          ],
          [
           0.17045907100000002
          ],
          [
           0.5102884679999999
          ],
          [
           0.977561989
          ],
          [
           0.249775993
          ],
          [
           0.9755006820000001
          ],
          [
           0.613701727
          ],
          [
           0.16742036300000002
          ],
          [
           0.537472516
          ],
          [
           0.379899131
          ],
          [
           0.633897303
          ],
          [
           0.633960424
          ],
          [
           0.5499746529999999
          ],
          [
           0.178172988
          ],
          [
           0.85563814
          ],
          [
           0.321796672
          ],
          [
           0.8174905370000001
          ],
          [
           0.254879417
          ],
          [
           0.344140513
          ],
          [
           0.8061457259999999
          ],
          [
           0.27708167100000003
          ],
          [
           0.544328519
          ],
          [
           0.07708393
          ],
          [
           0.273081458
          ],
          [
           0.390877336
          ],
          [
           0.349621385
          ],
          [
           0.214549744
          ],
          [
           0.206075222
          ],
          [
           0.86461997
          ],
          [
           0.9817088540000001
          ],
          [
           0.33482964600000004
          ],
          [
           0.648387061
          ],
          [
           0.093643561
          ],
          [
           0.837802698
          ],
          [
           0.7603439670000001
          ],
          [
           0.29140417399999996
          ],
          [
           0.3413454
          ],
          [
           0.7611124840000001
          ],
          [
           0.541899775
          ],
          [
           0.684176639
          ],
          [
           0.983535597
          ],
          [
           0.52081245
          ],
          [
           0.328227724
          ],
          [
           0.09715793800000001
          ],
          [
           0.876088593
          ],
          [
           0.870214512
          ],
          [
           0.656086992
          ],
          [
           0.306791514
          ],
          [
           0.48126734
          ],
          [
           0.259559174
          ],
          [
           0.326123655
          ],
          [
           0.930568042
          ],
          [
           0.6583894
          ],
          [
           0.689992335
          ],
          [
           0.315781109
          ],
          [
           0.5669050929999999
          ],
          [
           0.637526619
          ],
          [
           0.687540723
          ],
          [
           0.324300602
          ],
          [
           0.592704906
          ],
          [
           0.7402531259999999
          ],
          [
           0.5940328770000001
          ],
          [
           0.596452977
          ],
          [
           0.27768081699999997
          ],
          [
           0.258329663
          ],
          [
           0.142460864
          ],
          [
           0.435533461
          ],
          [
           0.7024990440000001
          ],
          [
           0.58897535
          ],
          [
           0.653304374
          ],
          [
           0.336968524
          ],
          [
           0.631244736
          ],
          [
           0.73530076
          ],
          [
           0.050390366
          ],
          [
           0.064264924
          ],
          [
           0.665359476
          ],
          [
           0.917835245
          ],
          [
           0.44651012
          ],
          [
           0.661938199
          ],
          [
           0.43935985299999997
          ],
          [
           0.6875724040000001
          ],
          [
           0.363462248
          ],
          [
           0.6542621820000001
          ],
          [
           0.578553536
          ],
          [
           0.065927945
          ],
          [
           0.550148559
          ],
          [
           0.13918281400000002
          ],
          [
           0.080004635
          ],
          [
           0.278228358
          ],
          [
           0.560124266
          ],
          [
           0.53639864
          ],
          [
           0.42653190399999996
          ],
          [
           0.789109796
          ],
          [
           0.742900474
          ],
          [
           0.901692589
          ],
          [
           0.650337401
          ],
          [
           0.114057311
          ],
          [
           0.260812592
          ],
          [
           0.43991232
          ],
          [
           0.964409284
          ],
          [
           0.184401415
          ],
          [
           0.345145446
          ],
          [
           0.17589458100000002
          ],
          [
           0.312514453
          ],
          [
           0.674131879
          ],
          [
           0.32825045
          ],
          [
           0.598231057
          ],
          [
           0.09259881699999999
          ],
          [
           0.497916521
          ],
          [
           0.419776521
          ],
          [
           0.31217670000000003
          ],
          [
           0.937857107
          ],
          [
           0.049030963
          ],
          [
           0.47610452600000003
          ],
          [
           0.447397526
          ],
          [
           0.295806058
          ],
          [
           0.737363977
          ],
          [
           0.625896253
          ],
          [
           0.408813429
          ],
          [
           0.437511156
          ],
          [
           0.691351375
          ],
          [
           0.935555275
          ],
          [
           0.437846654
          ],
          [
           0.072217715
          ],
          [
           0.67636067
          ],
          [
           0.468883999
          ],
          [
           0.543820644
          ],
          [
           0.6555226470000001
          ],
          [
           0.6935289240000001
          ],
          [
           0.10887831199999999
          ],
          [
           0.285463743
          ],
          [
           0
          ],
          [
           0.706495497
          ],
          [
           0.273530633
          ],
          [
           0.292320271
          ],
          [
           0.673984307
          ],
          [
           0.12612182800000002
          ],
          [
           0.9467074590000001
          ],
          [
           0.9363388979999999
          ],
          [
           0.8537553640000001
          ],
          [
           0.7060713609999999
          ],
          [
           0.693682186
          ],
          [
           0.508527882
          ],
          [
           0.34717038899999997
          ],
          [
           0.704154263
          ],
          [
           0.658730088
          ],
          [
           0.155841557
          ],
          [
           0.311085435
          ],
          [
           0.281135347
          ],
          [
           0.094587802
          ],
          [
           0.6832609540000001
          ],
          [
           0.9077292509999999
          ],
          [
           0.29151267399999997
          ],
          [
           0.752734459
          ],
          [
           0.93482964
          ],
          [
           0.071413953
          ],
          [
           0.5948963270000001
          ],
          [
           0.404672015
          ],
          [
           0.13837621
          ],
          [
           0.7473384679999999
          ],
          [
           0.530882486
          ],
          [
           0.282649594
          ],
          [
           0.699335734
          ],
          [
           0.056111250999999994
          ],
          [
           0.855234998
          ],
          [
           0.07789512700000001
          ],
          [
           0.891649583
          ],
          [
           0.38674227899999997
          ],
          [
           0.27113158
          ],
          [
           0.958888961
          ],
          [
           0.085120869
          ],
          [
           0.5269022489999999
          ],
          [
           0.066577785
          ],
          [
           0.841506738
          ],
          [
           0.255342095
          ],
          [
           0.060545771
          ],
          [
           0.073385869
          ],
          [
           0.187493723
          ],
          [
           0.858365688
          ],
          [
           0.090640352
          ],
          [
           0.7097252270000001
          ],
          [
           0.631300647
          ],
          [
           0.24750447399999997
          ],
          [
           0.822843584
          ],
          [
           0.373476759
          ],
          [
           0.625538582
          ],
          [
           0.292951715
          ],
          [
           0.299730324
          ],
          [
           0.25121407
          ],
          [
           0.344480551
          ],
          [
           0.293064767
          ],
          [
           0.7628032240000001
          ],
          [
           0.7384708040000001
          ],
          [
           0.674883265
          ],
          [
           0.719151612
          ],
          [
           0.13098021599999998
          ],
          [
           0.511328036
          ],
          [
           0.04492903
          ],
          [
           0.560914449
          ],
          [
           0.7440406409999999
          ],
          [
           0.266961634
          ],
          [
           0.644231853
          ],
          [
           0.038113352
          ],
          [
           0.05715529900000001
          ],
          [
           0.34139246100000004
          ],
          [
           0.7204636320000001
          ],
          [
           0.402878236
          ],
          [
           0.635148967
          ],
          [
           0.320729467
          ],
          [
           0.09120969400000001
          ],
          [
           0.23414609
          ],
          [
           0.8902211309999999
          ],
          [
           0.602170884
          ],
          [
           0.633652055
          ],
          [
           0.806240837
          ],
          [
           0.739731184
          ],
          [
           0.465231269
          ],
          [
           0.7321109
          ],
          [
           0.373874305
          ],
          [
           0.501587947
          ],
          [
           0.11538315800000001
          ],
          [
           0.7319466040000001
          ],
          [
           0.41829872799999995
          ],
          [
           0.062259590999999996
          ],
          [
           0.391496379
          ],
          [
           0.35984929
          ],
          [
           0.24523562699999998
          ],
          [
           0.610028339
          ],
          [
           0.43540360200000006
          ],
          [
           0.434309675
          ],
          [
           0.523763344
          ],
          [
           0.17118786600000002
          ],
          [
           0.18773430300000002
          ],
          [
           0.945014638
          ],
          [
           0.027851097000000002
          ],
          [
           0.68445706
          ],
          [
           0.178014532
          ],
          [
           0.643427879
          ],
          [
           0.59588355
          ],
          [
           0.372361682
          ],
          [
           0.586103584
          ],
          [
           0.271658852
          ],
          [
           0.59951107
          ],
          [
           0.468363088
          ],
          [
           0.314515565
          ],
          [
           0.21893726
          ],
          [
           0.254716562
          ],
          [
           0.25612815
          ],
          [
           0.602259755
          ],
          [
           0.134381075
          ],
          [
           0.513887424
          ],
          [
           0.624241636
          ],
          [
           0.160251854
          ],
          [
           0.580708108
          ],
          [
           0.270540486
          ],
          [
           0.832919932
          ],
          [
           0.93032134
          ],
          [
           0.719157884
          ],
          [
           0.886720033
          ],
          [
           0.098792281
          ],
          [
           0.787174286
          ],
          [
           0.365592376
          ],
          [
           0.719576193
          ],
          [
           0.8058956
          ],
          [
           0.7555783340000001
          ],
          [
           0.526005909
          ],
          [
           0.68880424
          ],
          [
           0.22111531199999998
          ],
          [
           0.739369477
          ],
          [
           0.408440236
          ],
          [
           0.348926542
          ],
          [
           0.433713763
          ],
          [
           0.5964966070000001
          ],
          [
           0.6942953000000001
          ],
          [
           0.7090309659999999
          ],
          [
           0.867652984
          ],
          [
           0.89332545
          ],
          [
           0.746020922
          ],
          [
           0.538284443
          ],
          [
           0.8922193140000001
          ],
          [
           0.935175765
          ],
          [
           0.260527707
          ],
          [
           0.956780449
          ],
          [
           0.204932484
          ],
          [
           0.687733351
          ],
          [
           0.329063619
          ],
          [
           0.632149831
          ],
          [
           0.463744506
          ],
          [
           0.698859621
          ],
          [
           0.385446564
          ],
          [
           0.47997537700000004
          ],
          [
           0.732279108
          ],
          [
           0.3813543
          ],
          [
           0.459326013
          ],
          [
           0.257401434
          ],
          [
           0.665014804
          ],
          [
           0.103399542
          ],
          [
           0.425284413
          ],
          [
           0.943529051
          ],
          [
           0.594750236
          ],
          [
           0.543776817
          ],
          [
           0.18203988
          ],
          [
           0.23584208399999998
          ],
          [
           0.585984497
          ],
          [
           0.762013168
          ],
          [
           0.6849829070000001
          ],
          [
           0.676936933
          ],
          [
           0.290184964
          ],
          [
           0.48106822200000005
          ],
          [
           0.492766033
          ],
          [
           0.22185623399999999
          ],
          [
           0.053875998
          ],
          [
           0.082751144
          ],
          [
           0.385366225
          ],
          [
           0.702513961
          ],
          [
           0.91553156
          ],
          [
           0.082087436
          ],
          [
           0.251280378
          ],
          [
           0.41672181700000005
          ],
          [
           0.277032672
          ],
          [
           0.579539754
          ],
          [
           0.569363476
          ],
          [
           0.133399703
          ],
          [
           0.265045463
          ],
          [
           0.936571901
          ],
          [
           0.252618554
          ],
          [
           0.054033081
          ],
          [
           0.802481439
          ],
          [
           0.528197693
          ],
          [
           0.9515026
          ],
          [
           0.572121173
          ],
          [
           0.752938227
          ],
          [
           0.143857535
          ],
          [
           0.513484576
          ],
          [
           0.313322389
          ],
          [
           0.6877973959999999
          ],
          [
           0.37705984
          ],
          [
           0.348226142
          ],
          [
           0.67763282
          ],
          [
           0.24138752100000002
          ],
          [
           0.8506501790000001
          ],
          [
           0.22034810300000002
          ],
          [
           0.476445464
          ],
          [
           0.690324025
          ],
          [
           0.364695946
          ],
          [
           0.6492491970000001
          ],
          [
           0.9437019209999999
          ],
          [
           0.529645971
          ],
          [
           0.299097002
          ],
          [
           0.96696247
          ],
          [
           0.272005242
          ],
          [
           0.314161447
          ],
          [
           0.752020991
          ],
          [
           0.221882453
          ],
          [
           0.7203326729999999
          ],
          [
           0.379204782
          ],
          [
           0.60168653
          ],
          [
           0.582932673
          ],
          [
           0.950809853
          ],
          [
           0.58830141
          ],
          [
           0.880887227
          ],
          [
           0.467857701
          ],
          [
           0.8799021709999999
          ],
          [
           0.619844009
          ],
          [
           0.359002573
          ],
          [
           0.291511278
          ],
          [
           0.694157143
          ],
          [
           0.727960353
          ],
          [
           0.617703921
          ],
          [
           0.39581257
          ],
          [
           0.58317282
          ],
          [
           0.710332374
          ],
          [
           0.253753693
          ],
          [
           0.049412227999999996
          ],
          [
           0.728378695
          ],
          [
           0.432432881
          ],
          [
           0.58612345
          ],
          [
           0.052342373
          ],
          [
           0.053483902
          ],
          [
           0.518729378
          ],
          [
           0.933040208
          ],
          [
           0.7035542840000001
          ],
          [
           0.268989899
          ],
          [
           0.733006927
          ],
          [
           0.44435246700000003
          ],
          [
           0.5833946210000001
          ],
          [
           0.871172692
          ],
          [
           0.42876707799999997
          ],
          [
           0.30046084100000003
          ],
          [
           0.9533294590000001
          ],
          [
           0.606443965
          ],
          [
           0.90986815
          ],
          [
           0.714896449
          ],
          [
           0.49734950899999997
          ],
          [
           0.8530974859999999
          ],
          [
           0.721804145
          ],
          [
           0.303467328
          ],
          [
           0.664485096
          ],
          [
           0.27978062
          ],
          [
           0.569481665
          ],
          [
           0.628628926
          ],
          [
           0.088368123
          ],
          [
           0.733567326
          ],
          [
           0.537436778
          ],
          [
           0.638593691
          ],
          [
           0.954726948
          ],
          [
           0.632202332
          ],
          [
           0.642134651
          ],
          [
           0.744653087
          ],
          [
           0.115714007
          ],
          [
           0.48625007299999995
          ],
          [
           0.440356144
          ],
          [
           0.08272289
          ],
          [
           0.511591027
          ],
          [
           0.394627555
          ],
          [
           0.224394
          ],
          [
           0.626927584
          ],
          [
           0.290254057
          ],
          [
           0.779008053
          ],
          [
           0.86610579
          ],
          [
           0.873326081
          ],
          [
           0.49548916
          ],
          [
           0.594297695
          ],
          [
           0.9182015840000001
          ],
          [
           0.5770427539999999
          ],
          [
           0.019467671000000002
          ],
          [
           0.6702982820000001
          ],
          [
           0.546595316
          ],
          [
           0.591665146
          ],
          [
           0.42155819
          ],
          [
           0.6856085590000001
          ],
          [
           0.340303024
          ],
          [
           0.675626741
          ],
          [
           0.319067345
          ],
          [
           0.38849966399999997
          ],
          [
           0.706949589
          ],
          [
           0.559409515
          ],
          [
           0.687663508
          ],
          [
           0.7088045540000001
          ],
          [
           0.6818880940000001
          ],
          [
           0.42253510899999996
          ],
          [
           0.320004605
          ],
          [
           0.6582813679999999
          ],
          [
           0.634154867
          ],
          [
           0.7773320090000001
          ],
          [
           0.812677205
          ],
          [
           0.074280797
          ],
          [
           0.39600217
          ],
          [
           0.054933913
          ],
          [
           0.825058925
          ],
          [
           0.382642009
          ],
          [
           0.8687298179999999
          ],
          [
           0.588043346
          ],
          [
           0.891551577
          ],
          [
           0.10920046
          ],
          [
           0.647682781
          ],
          [
           0.724342512
          ],
          [
           0.07016304400000001
          ],
          [
           0.280882054
          ],
          [
           0.039113261
          ],
          [
           0.579641592
          ],
          [
           0.639000922
          ],
          [
           0.281745925
          ],
          [
           0.647857744
          ],
          [
           0.6479057970000001
          ],
          [
           0.875226264
          ],
          [
           0.567603305
          ],
          [
           0.262940591
          ],
          [
           0.268026042
          ],
          [
           0.40519133
          ],
          [
           0.479965451
          ],
          [
           0.33552403
          ],
          [
           0.777165379
          ],
          [
           0.42548796299999997
          ],
          [
           0.237986115
          ],
          [
           0.142522971
          ],
          [
           0.724176488
          ],
          [
           0.234698933
          ],
          [
           0.07818228099999999
          ],
          [
           0.855990155
          ],
          [
           0.270251765
          ],
          [
           0.435517841
          ],
          [
           0.762697513
          ],
          [
           0.46448725799999996
          ],
          [
           0.396112685
          ],
          [
           0.37638092100000003
          ],
          [
           0.29459467699999997
          ],
          [
           0.6944921209999999
          ],
          [
           0.622767949
          ],
          [
           0.8475597220000001
          ],
          [
           0.301463054
          ],
          [
           0.912937812
          ],
          [
           0.500017182
          ],
          [
           0.902587935
          ],
          [
           0.304517943
          ],
          [
           0.299165673
          ],
          [
           0.092014087
          ],
          [
           0.488548917
          ],
          [
           0.664664437
          ],
          [
           0.26534954899999996
          ],
          [
           0.723657021
          ],
          [
           0.149262385
          ],
          [
           0.04577339
          ],
          [
           0.69661064
          ],
          [
           0.42181486
          ],
          [
           0.733845785
          ],
          [
           0.418795386
          ],
          [
           0.677443529
          ],
          [
           0.26128360300000003
          ],
          [
           0.268527767
          ],
          [
           0.5443222360000001
          ],
          [
           0.431632036
          ],
          [
           0.981018141
          ],
          [
           0.21498072399999998
          ],
          [
           0.39472999299999995
          ],
          [
           0.122224944
          ],
          [
           0.297496875
          ],
          [
           0.37490443100000004
          ],
          [
           0.68698771
          ],
          [
           0.388549207
          ],
          [
           0.039296071
          ],
          [
           0.73553424
          ],
          [
           0.37929489299999997
          ],
          [
           0.7321233859999999
          ],
          [
           0.33922143899999996
          ],
          [
           0.659450594
          ],
          [
           0.054838642
          ],
          [
           0.640112102
          ],
          [
           0.30714170399999996
          ],
          [
           0.39661190700000004
          ],
          [
           0.420439161
          ],
          [
           0.24171497399999997
          ],
          [
           0.065893153
          ],
          [
           0.9105219370000001
          ],
          [
           0.697163103
          ],
          [
           0.072559853
          ],
          [
           0.81825094
          ],
          [
           0.311888815
          ],
          [
           0.961644609
          ],
          [
           0.816325524
          ],
          [
           0.14647302
          ],
          [
           0.548753945
          ],
          [
           0.946158087
          ],
          [
           0.293992717
          ],
          [
           0.331479643
          ],
          [
           0.9062200309999999
          ],
          [
           0.525540416
          ],
          [
           0.83301411
          ],
          [
           0.514849806
          ],
          [
           0.574609024
          ],
          [
           0.46871185299999996
          ],
          [
           0.71002775
          ],
          [
           0.645973276
          ],
          [
           0.229794416
          ],
          [
           0.551783393
          ],
          [
           0.055822990999999995
          ],
          [
           0.331750941
          ],
          [
           0.715520198
          ],
          [
           0.583924357
          ],
          [
           0.30695769100000003
          ],
          [
           0.7914782370000001
          ],
          [
           0.16423663900000002
          ],
          [
           0.065711219
          ],
          [
           0.948993132
          ],
          [
           0.080423835
          ],
          [
           0.052495426
          ],
          [
           0.566346135
          ],
          [
           0.3630266
          ],
          [
           0.605442195
          ],
          [
           0.6308505839999999
          ],
          [
           0.065791238
          ],
          [
           0.28681707100000003
          ],
          [
           0.685462839
          ],
          [
           0.260853706
          ],
          [
           0.659122429
          ],
          [
           0.44317392200000005
          ],
          [
           0.602063986
          ],
          [
           0.060366910999999995
          ],
          [
           0.781903153
          ],
          [
           0.5145798070000001
          ],
          [
           0.48388621299999995
          ],
          [
           0.600213807
          ],
          [
           0.49736405200000006
          ],
          [
           0.411145245
          ],
          [
           0.116999171
          ],
          [
           0.34189014100000004
          ],
          [
           0.746950848
          ],
          [
           0.39629274600000003
          ],
          [
           0.6221438429999999
          ],
          [
           0.335271141
          ],
          [
           0.140257137
          ],
          [
           0.081620681
          ],
          [
           0.069837569
          ],
          [
           0.46894000799999996
          ],
          [
           0.9908574170000001
          ],
          [
           0.896616832
          ],
          [
           0.255310561
          ],
          [
           0.22464526699999998
          ],
          [
           0.01991825
          ],
          [
           0.296480415
          ],
          [
           0.155458996
          ],
          [
           0.577916714
          ],
          [
           0.9563030309999999
          ],
          [
           0.813464394
          ],
          [
           0.529675785
          ],
          [
           0.287671353
          ],
          [
           0.48039136
          ],
          [
           0.28104482199999997
          ],
          [
           0.633196521
          ],
          [
           0.09332537699999999
          ],
          [
           0.28447398100000004
          ],
          [
           0.052223775
          ],
          [
           0.051129385
          ],
          [
           0.967405608
          ],
          [
           0.040045727999999996
          ],
          [
           0.9085829209999999
          ],
          [
           0.6621174160000001
          ],
          [
           0.42470320899999997
          ],
          [
           0.72207806
          ],
          [
           0.666193327
          ],
          [
           0.509681253
          ],
          [
           0.7513536209999999
          ],
          [
           0.279073124
          ],
          [
           0.074927
          ],
          [
           0.916359535
          ],
          [
           0.31040327
          ],
          [
           0.716604052
          ],
          [
           0.485587085
          ],
          [
           0.30607518100000003
          ],
          [
           0.477558204
          ],
          [
           0.7119239409999999
          ],
          [
           0.066348638
          ],
          [
           0.27453935100000004
          ],
          [
           0.31082252
          ],
          [
           0.47607312700000004
          ],
          [
           0.186795565
          ],
          [
           0.26654207
          ],
          [
           0.070231142
          ],
          [
           0.26951927
          ],
          [
           0.800004713
          ],
          [
           0.27363366699999997
          ],
          [
           0.14647919199999998
          ],
          [
           0.378318951
          ],
          [
           0.373849065
          ],
          [
           0.242170835
          ],
          [
           0.249796488
          ],
          [
           0.066591188
          ],
          [
           0.372956798
          ],
          [
           0.501812291
          ],
          [
           0.313097752
          ],
          [
           0.8802021959999999
          ],
          [
           0.51981893
          ],
          [
           0.364138746
          ],
          [
           0.49268289600000004
          ],
          [
           0.285732652
          ],
          [
           0.890114985
          ],
          [
           0.316419561
          ],
          [
           0.26866354
          ],
          [
           0.771975959
          ],
          [
           0.968888992
          ],
          [
           0.080334377
          ],
          [
           0.7368282209999999
          ],
          [
           0.30055807100000004
          ],
          [
           0.9179503929999999
          ],
          [
           0.465815039
          ],
          [
           0.054036682
          ],
          [
           0.963150123
          ],
          [
           0.08965350300000001
          ],
          [
           0.7076932340000001
          ],
          [
           0.636416037
          ],
          [
           0.539521117
          ],
          [
           0.114757161
          ],
          [
           0.357312419
          ],
          [
           0.67639834
          ],
          [
           0.43482839
          ],
          [
           0.032326387000000005
          ],
          [
           0.711365605
          ],
          [
           0.187486519
          ],
          [
           0.052789653
          ],
          [
           0.5058636129999999
          ],
          [
           0.927431873
          ],
          [
           0.6809842559999999
          ],
          [
           0.882822186
          ],
          [
           0.495705441
          ],
          [
           0.596240398
          ],
          [
           0.320610701
          ],
          [
           0.3413685
          ],
          [
           0.159681797
          ],
          [
           0.318133669
          ],
          [
           0.8393010479999999
          ],
          [
           0.06435925099999999
          ],
          [
           0.470216633
          ],
          [
           0.7762522909999999
          ],
          [
           0.635843383
          ],
          [
           0.62510543
          ],
          [
           0.52959065
          ],
          [
           0.986900166
          ],
          [
           0.078585688
          ],
          [
           0.233284267
          ],
          [
           0.363330957
          ],
          [
           0.7167169809999999
          ],
          [
           0.37588979200000006
          ],
          [
           0.223316889
          ],
          [
           0.299343986
          ],
          [
           0.538595767
          ],
          [
           0.730297124
          ],
          [
           0.66033077
          ],
          [
           0.435296009
          ],
          [
           0.326494313
          ],
          [
           0.854402708
          ],
          [
           0.5734938470000001
          ],
          [
           0.757786135
          ],
          [
           0.704743233
          ],
          [
           0.281575597
          ],
          [
           0.671968208
          ],
          [
           0.313726015
          ],
          [
           0.364338275
          ],
          [
           0.368216396
          ],
          [
           0.38629520700000003
          ],
          [
           0.655971865
          ],
          [
           0.5660252729999999
          ],
          [
           0.424999093
          ],
          [
           0.090110371
          ],
          [
           0.772350538
          ],
          [
           0.331047258
          ],
          [
           0.273716188
          ],
          [
           0.23877568
          ],
          [
           0.37307977200000003
          ],
          [
           0.331185868
          ],
          [
           0.256134531
          ],
          [
           0.678373225
          ],
          [
           0.43463833799999996
          ],
          [
           0.654668307
          ],
          [
           0.986681065
          ],
          [
           0.371520495
          ],
          [
           0.408359618
          ],
          [
           0.40932365
          ],
          [
           0.283412082
          ],
          [
           0.395246531
          ],
          [
           0.010984428000000001
          ],
          [
           0.306013869
          ],
          [
           0.266194806
          ],
          [
           0.299318521
          ],
          [
           0.318293946
          ],
          [
           0.74282591
          ],
          [
           0.09766432900000001
          ],
          [
           0.079666942
          ],
          [
           0.613258767
          ],
          [
           0.99443072
          ],
          [
           0.568835082
          ],
          [
           0.7080345159999999
          ],
          [
           0.37059271899999996
          ],
          [
           0.669867361
          ],
          [
           0.651295625
          ],
          [
           0.462531569
          ],
          [
           0.7196256190000001
          ],
          [
           0.45377248
          ],
          [
           0.394863946
          ],
          [
           0.323974831
          ],
          [
           0.146454724
          ],
          [
           0.7790670409999999
          ],
          [
           0.401828915
          ],
          [
           0.601479585
          ],
          [
           0.856423023
          ],
          [
           0.565242962
          ],
          [
           0.301225108
          ],
          [
           0.282108144
          ],
          [
           0.594378011
          ],
          [
           0.705312368
          ],
          [
           0.5408696279999999
          ],
          [
           0.319249574
          ],
          [
           0.36176613799999996
          ],
          [
           0.625000704
          ],
          [
           0.316287401
          ],
          [
           0.047239021
          ],
          [
           0.801182233
          ],
          [
           0.508474436
          ],
          [
           0.8178934109999999
          ],
          [
           0.399235601
          ],
          [
           0.9740519990000001
          ],
          [
           0.72241535
          ],
          [
           0.039564764
          ],
          [
           0.908684108
          ],
          [
           0.47301013399999997
          ],
          [
           0.7180496279999999
          ],
          [
           0.7634790690000001
          ],
          [
           0.6475965370000001
          ],
          [
           0.8949973859999999
          ],
          [
           0.22282590100000002
          ],
          [
           0.359012234
          ],
          [
           0.944910252
          ],
          [
           0.297877816
          ],
          [
           0.172517997
          ],
          [
           0.556586265
          ],
          [
           0.876481735
          ],
          [
           0.48667784299999994
          ],
          [
           0.459496733
          ],
          [
           0.47412637700000004
          ],
          [
           0.70101144
          ],
          [
           0.337597387
          ],
          [
           0.537578886
          ],
          [
           0.966992448
          ],
          [
           0.056849545
          ],
          [
           0.233249065
          ],
          [
           0.380054711
          ],
          [
           0.602929443
          ],
          [
           0.303847999
          ],
          [
           0.170194553
          ],
          [
           0.972168554
          ],
          [
           0.332168927
          ],
          [
           0.6887286890000001
          ],
          [
           0.110773401
          ],
          [
           0.273352065
          ],
          [
           0.572939678
          ],
          [
           0.491457065
          ],
          [
           0.281389999
          ],
          [
           0.821697261
          ],
          [
           0.6749776829999999
          ],
          [
           0.585134549
          ],
          [
           0.7105961159999999
          ],
          [
           0.040488789
          ],
          [
           0.568054311
          ],
          [
           0.321752928
          ],
          [
           0.611850232
          ],
          [
           0.926096887
          ],
          [
           0.618347428
          ],
          [
           0.667629785
          ],
          [
           0.39773346600000004
          ],
          [
           0.290875487
          ],
          [
           0.594375103
          ],
          [
           0.508255233
          ],
          [
           0.338571357
          ],
          [
           0.43230234700000003
          ],
          [
           0.302221978
          ],
          [
           0.87619819
          ],
          [
           0.080204492
          ],
          [
           0.092333532
          ],
          [
           0.09365644699999999
          ],
          [
           0.6084523510000001
          ],
          [
           0.732654598
          ],
          [
           0.944158855
          ],
          [
           0.26742308
          ],
          [
           0.731124201
          ],
          [
           0.661308553
          ],
          [
           0.38776626200000003
          ],
          [
           0.962585273
          ],
          [
           0.322067067
          ],
          [
           0.6340810929999999
          ],
          [
           0.475345002
          ],
          [
           0.35355897299999994
          ],
          [
           0.8859363159999999
          ],
          [
           0.876798106
          ],
          [
           0.221581064
          ],
          [
           0.394362449
          ],
          [
           0.8050356759999999
          ],
          [
           0.452898486
          ],
          [
           0.592520516
          ],
          [
           0.761026394
          ],
          [
           0.245049023
          ],
          [
           0.37213936299999995
          ],
          [
           0.681054822
          ],
          [
           0.7471431479999999
          ],
          [
           0.9207395290000001
          ],
          [
           0.097207945
          ],
          [
           0.699302998
          ],
          [
           0.721647006
          ],
          [
           0.5353561139999999
          ],
          [
           0.738293805
          ],
          [
           0.7064675509999999
          ],
          [
           0.67395061
          ],
          [
           0.7112122909999999
          ],
          [
           0.302558708
          ],
          [
           0.080097855
          ],
          [
           0.707010837
          ],
          [
           0.512248622
          ],
          [
           0.659627472
          ],
          [
           0.657559694
          ],
          [
           0.100645606
          ],
          [
           0.92665363
          ],
          [
           0.892879338
          ],
          [
           0.839157508
          ],
          [
           0.890959718
          ],
          [
           0.556754471
          ],
          [
           0.960361937
          ],
          [
           0.631037864
          ],
          [
           0.029838065
          ],
          [
           0.278843351
          ],
          [
           0.926157705
          ],
          [
           0.551504258
          ],
          [
           0.485942349
          ],
          [
           0.43723469600000003
          ],
          [
           0.25231801800000003
          ],
          [
           0.515466972
          ],
          [
           0.43725229600000004
          ],
          [
           0.493724207
          ],
          [
           0.83324725
          ],
          [
           0.317521477
          ],
          [
           0.28623456199999997
          ],
          [
           0.726833965
          ],
          [
           0.495667033
          ],
          [
           0.028645255
          ],
          [
           0.31967191699999997
          ],
          [
           0.674344598
          ],
          [
           0.7660371890000001
          ],
          [
           0.65456992
          ],
          [
           0.7565143809999999
          ],
          [
           0.528253719
          ],
          [
           0.38971949100000003
          ],
          [
           0.355087459
          ],
          [
           0.87015202
          ],
          [
           0.7390833059999999
          ],
          [
           0.305761846
          ],
          [
           0.411587673
          ],
          [
           0.063633094
          ],
          [
           0.735409395
          ],
          [
           0.605916669
          ],
          [
           0.539395562
          ],
          [
           0.566183532
          ],
          [
           0.674795186
          ],
          [
           0.070993366
          ],
          [
           0.12526410000000002
          ],
          [
           0.279601492
          ],
          [
           0.952174402
          ],
          [
           0.233806762
          ],
          [
           0.43724742899999997
          ],
          [
           0.925423095
          ],
          [
           0.433498634
          ],
          [
           0.52517902
          ],
          [
           0.088435529
          ],
          [
           0.447677638
          ],
          [
           0.647000631
          ],
          [
           0.9036033370000001
          ],
          [
           0.265790738
          ],
          [
           0.66419695
          ],
          [
           0.498120658
          ],
          [
           0.49018894399999996
          ],
          [
           0.747084187
          ],
          [
           0.906783648
          ],
          [
           0.678770917
          ],
          [
           0.348599859
          ],
          [
           0.294839683
          ],
          [
           0.705691827
          ],
          [
           0.211917931
          ],
          [
           0.063201124
          ],
          [
           0.276699543
          ],
          [
           0.672459395
          ],
          [
           0.8082059490000001
          ],
          [
           0.296538373
          ],
          [
           0.16012686199999998
          ],
          [
           0.439385032
          ],
          [
           0.555951416
          ],
          [
           0.386240112
          ],
          [
           0.158689619
          ],
          [
           0.214499855
          ],
          [
           0.299579429
          ],
          [
           0.569161656
          ],
          [
           0.488614799
          ],
          [
           0.8782950209999999
          ],
          [
           0.649380949
          ],
          [
           0.465713341
          ],
          [
           0.16813774
          ],
          [
           0.87529545
          ],
          [
           0.8411323409999999
          ],
          [
           0.33292081
          ],
          [
           0.5130478589999999
          ],
          [
           0.30505507800000004
          ],
          [
           0.8126269909999999
          ],
          [
           0.25096706
          ],
          [
           0.5024355779999999
          ],
          [
           0.45799074100000003
          ]
         ],
         "hoverlabel": {
          "namelength": 0
         },
         "hovertemplate": "0=%{x}<br>1=%{y}<br>2=%{z}<br>Feature=%{customdata[0]}<br>Label=%{marker.color}",
         "legendgroup": "",
         "marker": {
          "color": [
           0,
           0,
           1,
           1,
           0,
           0,
           0,
           0,
           1,
           1,
           0,
           1,
           0,
           1,
           1,
           1,
           0,
           1,
           1,
           0,
           1,
           0,
           0,
           1,
           1,
           1,
           0,
           0,
           1,
           1,
           0,
           0,
           1,
           1,
           0,
           0,
           1,
           0,
           0,
           0,
           0,
           0,
           0,
           1,
           0,
           1,
           1,
           0,
           1,
           0,
           0,
           1,
           0,
           1,
           1,
           1,
           1,
           0,
           0,
           1,
           0,
           1,
           0,
           1,
           0,
           1,
           0,
           0,
           0,
           0,
           0,
           0,
           0,
           0,
           0,
           0,
           0,
           0,
           0,
           0,
           0,
           0,
           0,
           0,
           0,
           0,
           0,
           0,
           0,
           0,
           0,
           0,
           0,
           0,
           0,
           0,
           0,
           0,
           0,
           0,
           0,
           0,
           0,
           0,
           0,
           0,
           0,
           0,
           0,
           0,
           0,
           0,
           0,
           0,
           0,
           0,
           0,
           0,
           0,
           0,
           0,
           0,
           0,
           0,
           0,
           0,
           0,
           0,
           0,
           0,
           0,
           0,
           0,
           0,
           0,
           0,
           0,
           0,
           0,
           0,
           0,
           0,
           0,
           0,
           0,
           0,
           0,
           0,
           0,
           0,
           0,
           0,
           0,
           0,
           0,
           0,
           0,
           0,
           0,
           0,
           0,
           0,
           0,
           0,
           0,
           0,
           0,
           0,
           0,
           0,
           0,
           0,
           0,
           0,
           0,
           0,
           0,
           0,
           0,
           0,
           0,
           0,
           0,
           0,
           0,
           0,
           0,
           0,
           0,
           0,
           0,
           0,
           0,
           0,
           0,
           0,
           0,
           0,
           0,
           0,
           0,
           0,
           0,
           0,
           0,
           0,
           0,
           0,
           0,
           0,
           0,
           0,
           0,
           0,
           0,
           0,
           0,
           0,
           0,
           0,
           0,
           0,
           0,
           0,
           0,
           0,
           0,
           0,
           0,
           0,
           0,
           0,
           0,
           0,
           0,
           0,
           0,
           0,
           0,
           0,
           0,
           0,
           0,
           0,
           0,
           0,
           0,
           0,
           0,
           0,
           0,
           0,
           0,
           0,
           0,
           0,
           0,
           0,
           0,
           0,
           0,
           0,
           0,
           0,
           0,
           0,
           0,
           0,
           0,
           0,
           0,
           0,
           0,
           0,
           0,
           0,
           0,
           0,
           0,
           0,
           0,
           0,
           0,
           0,
           0,
           0,
           0,
           0,
           0,
           0,
           0,
           0,
           0,
           0,
           0,
           0,
           0,
           0,
           0,
           0,
           0,
           0,
           0,
           0,
           0,
           0,
           0,
           0,
           0,
           0,
           0,
           0,
           0,
           0,
           0,
           0,
           0,
           0,
           0,
           0,
           0,
           0,
           0,
           0,
           0,
           0,
           0,
           0,
           0,
           0,
           0,
           0,
           0,
           0,
           0,
           0,
           0,
           0,
           0,
           0,
           0,
           0,
           0,
           0,
           0,
           0,
           0,
           0,
           0,
           0,
           0,
           0,
           0,
           0,
           0,
           0,
           0,
           0,
           0,
           0,
           0,
           0,
           0,
           0,
           0,
           0,
           0,
           0,
           0,
           0,
           0,
           0,
           0,
           0,
           0,
           0,
           0,
           0,
           0,
           0,
           0,
           0,
           0,
           0,
           0,
           0,
           0,
           0,
           0,
           0,
           0,
           0,
           0,
           0,
           0,
           0,
           0,
           0,
           0,
           0,
           0,
           0,
           0,
           0,
           0,
           0,
           0,
           0,
           0,
           0,
           0,
           0,
           0,
           0,
           0,
           0,
           0,
           0,
           0,
           0,
           0,
           0,
           0,
           0,
           0,
           0,
           0,
           0,
           0,
           0,
           0,
           0,
           0,
           0,
           0,
           0,
           0,
           0,
           0,
           0,
           0,
           0,
           0,
           0,
           0,
           0,
           0,
           0,
           0,
           0,
           0,
           0,
           0,
           0,
           0,
           0,
           0,
           0,
           0,
           0,
           0,
           0,
           0,
           0,
           0,
           0,
           0,
           0,
           0,
           0,
           0,
           0,
           0,
           0,
           0,
           0,
           0,
           0,
           0,
           0,
           0,
           0,
           0,
           0,
           0,
           0,
           0,
           0,
           0,
           0,
           0,
           0,
           0,
           0,
           0,
           0,
           0,
           0,
           0,
           0,
           0,
           0,
           0,
           0,
           0,
           0,
           0,
           0,
           0,
           0,
           0,
           0,
           0,
           0,
           0,
           0,
           0,
           0,
           0,
           0,
           0,
           0,
           0,
           0,
           0,
           0,
           0,
           0,
           0,
           0,
           0,
           0,
           0,
           0,
           0,
           0,
           0,
           0,
           0,
           0,
           0,
           0,
           0,
           0,
           0,
           0,
           0,
           0,
           0,
           0,
           0,
           0,
           0,
           0,
           0,
           0,
           0,
           0,
           0,
           0,
           0,
           0,
           0,
           0,
           0,
           0,
           0,
           0,
           0,
           0,
           0,
           0,
           0,
           0,
           0,
           0,
           0,
           0,
           0,
           0,
           0,
           0,
           0,
           0,
           0,
           0,
           0,
           0,
           0,
           0,
           0,
           0,
           0,
           0,
           0,
           0,
           0,
           0,
           0,
           0,
           0,
           0,
           0,
           0,
           0,
           0,
           0,
           0,
           0,
           0,
           0,
           0,
           0,
           0,
           0,
           0,
           0,
           0,
           0,
           0,
           0,
           0,
           0,
           0,
           0,
           0,
           0,
           0,
           0,
           0,
           0,
           0,
           0,
           0,
           0,
           0,
           0,
           0,
           0,
           0,
           0,
           0,
           0,
           0,
           0,
           0,
           0,
           0,
           0,
           0,
           0,
           0,
           0,
           0,
           0,
           0,
           0,
           0,
           0,
           0,
           0,
           0,
           0,
           0,
           0,
           0,
           0,
           0,
           0,
           0,
           0,
           0,
           0,
           0,
           0,
           0,
           0,
           0,
           0,
           0,
           0,
           0,
           0,
           0,
           0,
           0,
           0,
           0,
           0,
           0,
           0,
           0,
           0,
           0,
           0,
           0,
           0,
           0,
           0,
           0,
           1,
           1,
           0,
           1,
           0,
           0,
           0,
           1,
           1,
           1,
           1,
           0,
           1,
           1,
           1,
           0,
           1,
           1,
           1,
           0,
           1,
           0,
           1,
           1,
           1,
           1,
           0,
           0,
           0,
           0,
           0,
           0,
           0,
           0,
           0,
           0,
           0,
           0,
           0,
           0,
           0,
           0,
           0,
           0,
           0,
           0,
           0,
           0,
           0,
           0,
           0,
           0,
           0,
           0,
           0,
           0,
           0,
           0,
           0,
           0,
           0,
           0,
           0,
           0,
           0,
           0,
           0,
           0,
           0,
           0,
           0,
           0,
           0,
           0,
           0,
           0,
           0,
           0,
           0,
           0,
           0,
           0,
           0,
           0,
           0,
           0,
           0,
           0,
           0,
           0,
           0,
           0,
           0,
           0,
           0,
           0,
           0,
           0,
           0,
           0,
           0,
           0,
           0,
           0,
           0,
           0,
           0,
           0,
           0,
           0,
           0,
           0,
           0,
           0,
           0,
           0,
           0,
           0,
           0,
           0,
           0,
           0,
           0,
           0,
           0,
           0,
           0,
           0,
           0,
           0,
           0,
           0,
           0,
           0,
           0,
           0,
           0,
           0,
           0,
           0,
           0,
           0,
           0,
           0,
           0,
           0,
           0,
           0,
           0,
           0,
           0,
           0,
           0,
           0,
           0,
           0,
           0,
           0,
           0,
           0,
           0,
           0,
           0,
           0,
           0,
           0,
           0,
           0,
           0,
           0,
           0,
           0,
           0,
           0,
           0,
           0,
           0,
           0,
           0,
           0,
           0,
           0,
           0,
           0,
           0,
           0,
           0,
           0,
           0,
           0,
           0,
           0,
           0,
           0,
           0,
           0,
           0,
           0,
           0,
           0,
           0,
           0,
           0,
           0,
           0,
           0,
           0,
           0,
           0,
           0,
           0,
           0,
           0,
           0,
           0,
           0,
           0,
           0,
           0,
           0,
           0,
           0,
           0,
           0,
           0,
           0,
           0,
           0,
           0,
           0,
           0,
           0,
           0,
           0,
           0,
           0,
           0,
           0,
           0,
           0,
           0,
           0,
           0,
           0,
           0,
           0,
           0,
           0,
           0,
           0,
           0,
           0,
           0,
           0,
           0,
           0,
           0,
           0,
           0,
           0,
           0,
           0,
           0,
           0,
           0,
           0,
           0,
           0,
           0,
           0,
           0,
           0,
           0,
           0,
           0,
           0,
           0,
           0,
           0,
           0,
           0,
           0,
           0,
           0,
           0,
           0,
           0,
           0,
           0,
           0,
           0,
           0,
           0,
           0,
           0,
           0,
           0,
           0,
           0,
           0
          ],
          "coloraxis": "coloraxis",
          "opacity": 0.7,
          "symbol": "circle"
         },
         "mode": "markers",
         "name": "",
         "scene": "scene",
         "showlegend": false,
         "type": "scatter3d",
         "x": [
          2.174189567565918,
          0.3496287763118744,
          4.8081817626953125,
          10.115253448486328,
          0.34038376808166504,
          8.938645362854004,
          -1.6293647289276123,
          3.0890378952026367,
          2.8571524620056152,
          4.167530059814453,
          1.991641879081726,
          -1.5494428873062134,
          10.969195365905762,
          -3.146042823791504,
          0.7815486788749695,
          -1.0580973625183105,
          10.907331466674805,
          -8.33031940460205,
          5.8384928703308105,
          -2.2832446098327637,
          9.24043083190918,
          -2.0519845485687256,
          -2.3918864727020264,
          3.491299867630005,
          5.3684163093566895,
          -2.414355754852295,
          -1.5385221242904663,
          -0.9238978624343872,
          0.12097923457622528,
          4.179050922393799,
          0.2587408423423767,
          2.6832640171051025,
          -4.463637351989746,
          -0.15303343534469604,
          1.3768997192382812,
          -1.8491464853286743,
          -0.05545107275247574,
          -1.244712233543396,
          -2.2411272525787354,
          7.451602458953857,
          -3.648453950881958,
          1.5189012289047241,
          -1.4953516721725464,
          6.4569478034973145,
          1.9177287817001343,
          -1.8621623516082764,
          1.0052424669265747,
          3.106049060821533,
          -1.5403391122817993,
          -4.861261367797852,
          5.597289085388184,
          -1.0873494148254395,
          -1.0508654117584229,
          -1.6609758138656616,
          9.320955276489258,
          6.555526256561279,
          6.984812259674072,
          5.516160011291504,
          0.1209007054567337,
          0.10729269683361053,
          4.817693710327148,
          -4.904972553253174,
          1.8890149593353271,
          1.591947078704834,
          -0.6419662833213806,
          0.5347381830215454,
          3.131166696548462,
          -7.8165388107299805,
          -0.4821625351905823,
          4.585829734802246,
          4.142265319824219,
          6.360456943511963,
          -1.3477717638015747,
          8.254404067993164,
          -3.8782410621643066,
          -2.8365702629089355,
          1.3875871896743774,
          2.902996301651001,
          -7.9481730461120605,
          -7.079959869384766,
          -6.128828048706055,
          -4.815499305725098,
          4.942887306213379,
          -5.004518508911133,
          -1.7684926986694336,
          0.9277978539466858,
          -1.4098044633865356,
          -4.690669536590576,
          2.608431339263916,
          -4.83038854598999,
          -3.187713146209717,
          4.039141654968262,
          -0.1623523086309433,
          -1.4600492715835571,
          4.279795169830322,
          2.83543062210083,
          -4.121815204620361,
          -1.2100263833999634,
          -7.188507556915283,
          2.632449150085449,
          -1.1240838766098022,
          -4.648947238922119,
          -0.773273766040802,
          -1.7817273139953613,
          1.6564217805862427,
          -4.947696208953857,
          -3.17556095123291,
          -2.8748064041137695,
          -4.418139934539795,
          2.29992938041687,
          -6.036046028137207,
          -2.82340669631958,
          3.8274176120758057,
          -2.6716957092285156,
          1.8280689716339111,
          -6.9608473777771,
          2.428701877593994,
          -1.4442261457443237,
          9.413570404052734,
          -7.286897659301758,
          -7.418500900268555,
          2.3016891479492188,
          -4.563786029815674,
          -3.513496160507202,
          -4.986004829406738,
          -0.39425474405288696,
          5.152044773101807,
          8.34665298461914,
          -2.0848612785339355,
          -1.223823070526123,
          4.829886436462402,
          -3.2762670516967773,
          6.107022762298584,
          -0.0021251377183943987,
          -3.590247631072998,
          0.5352030992507935,
          -0.5211915969848633,
          8.5141019821167,
          1.7072234153747559,
          1.733507752418518,
          7.244734764099121,
          -4.955043792724609,
          -0.8780717253684998,
          3.5075302124023438,
          -7.854471683502197,
          -6.14555549621582,
          3.6015071868896484,
          -6.179519176483154,
          1.369470477104187,
          -1.2376559972763062,
          -6.0719990730285645,
          -4.440949440002441,
          0.2056746780872345,
          -0.42116984724998474,
          -2.15895676612854,
          -5.000635623931885,
          -1.2166670560836792,
          -2.812962055206299,
          -3.336575984954834,
          8.38591480255127,
          2.186091899871826,
          3.403757095336914,
          -6.026965141296387,
          -9.077924728393555,
          8.178418159484863,
          -3.2958672046661377,
          8.00958251953125,
          5.174103260040283,
          2.2957634925842285,
          -5.222208499908447,
          -2.833728313446045,
          -0.24230638146400452,
          6.141898155212402,
          1.93072509765625,
          -2.484417676925659,
          -5.065247058868408,
          8.218528747558594,
          2.077892541885376,
          1.8114956617355347,
          8.576848983764648,
          0.21011820435523987,
          2.817927598953247,
          1.6693562269210815,
          5.993971347808838,
          5.747492790222168,
          1.7180010080337524,
          3.7234063148498535,
          4.112464904785156,
          -4.9598188400268555,
          -4.576751232147217,
          -5.475761413574219,
          2.522773027420044,
          3.5583925247192383,
          2.973494291305542,
          0.9058495163917542,
          0.42048850655555725,
          0.30355003476142883,
          -2.8844857215881348,
          -0.7304609417915344,
          -4.431059837341309,
          3.887873411178589,
          -0.16644567251205444,
          4.945416450500488,
          4.636379718780518,
          3.6199522018432617,
          3.1255359649658203,
          -9.188945770263672,
          4.16290283203125,
          3.114100456237793,
          4.276989459991455,
          -3.4596505165100098,
          5.140589714050293,
          1.264949083328247,
          -6.830973148345947,
          2.546440839767456,
          0.7585611343383789,
          3.4287848472595215,
          4.033642768859863,
          1.9863502979278564,
          2.259895086288452,
          4.22953462600708,
          -3.396451950073242,
          3.6092939376831055,
          -5.623900413513184,
          -0.7164987921714783,
          -9.18308162689209,
          -2.3169398307800293,
          -6.348015308380127,
          -3.3915367126464844,
          7.931753158569336,
          -0.3759295344352722,
          -0.27091550827026367,
          7.932277202606201,
          8.561694145202637,
          -6.152090072631836,
          -3.807569980621338,
          4.315908908843994,
          -4.451173782348633,
          8.076910972595215,
          2.3119654655456543,
          3.952394723892212,
          -1.881973147392273,
          1.8160276412963867,
          -3.2005820274353027,
          3.7151479721069336,
          -1.6011607646942139,
          -2.7932770252227783,
          -7.893972873687744,
          -2.678121566772461,
          -1.8240008354187012,
          2.271623134613037,
          -0.07580823451280594,
          6.643495082855225,
          3.4474544525146484,
          -5.551056861877441,
          2.4244401454925537,
          1.4170619249343872,
          -2.7334773540496826,
          7.977927207946777,
          -8.077363967895508,
          0.8789799809455872,
          3.3794877529144287,
          3.000174045562744,
          -1.0407711267471313,
          0.3649665117263794,
          -3.267019510269165,
          7.34945011138916,
          0.8675625920295715,
          -4.371657371520996,
          -2.8244948387145996,
          -2.68794846534729,
          2.6759250164031982,
          0.11417948454618454,
          1.0856324434280396,
          8.724162101745605,
          -0.564666748046875,
          2.3288557529449463,
          2.327200412750244,
          -3.039767265319824,
          -4.614408016204834,
          -2.5260207653045654,
          0.9043908715248108,
          -4.781466960906982,
          -0.4077760577201843,
          1.8241907358169556,
          -4.855609893798828,
          -6.520420074462891,
          -2.8991527557373047,
          -2.9909281730651855,
          0.09633279591798782,
          -5.849040985107422,
          -2.28235125541687,
          -3.0865931510925293,
          -5.251780986785889,
          -4.853161811828613,
          6.201985836029053,
          4.4315924644470215,
          -9.558793067932129,
          -2.3083302974700928,
          0.35281696915626526,
          1.9460681676864624,
          -1.5656557083129883,
          3.043226957321167,
          4.341190814971924,
          4.906208515167236,
          -4.4034199714660645,
          -2.9429378509521484,
          -5.006908416748047,
          -4.256730556488037,
          6.033095836639404,
          5.902284622192383,
          -6.147115230560303,
          2.955484390258789,
          1.7261216640472412,
          0.9033533930778503,
          1.3919289112091064,
          -5.472725868225098,
          -1.128801941871643,
          -4.989836692810059,
          4.375609874725342,
          1.0297915935516357,
          -2.344843626022339,
          7.154536724090576,
          2.7913405895233154,
          -9.69349193572998,
          -1.5497380495071411,
          7.839756488800049,
          6.0785064697265625,
          4.4006547927856445,
          5.464785575866699,
          1.1947953701019287,
          4.05016565322876,
          2.6837642192840576,
          -4.513261795043945,
          -5.188070774078369,
          2.3173775672912598,
          -1.1553725004196167,
          1.0957127809524536,
          3.5430057048797607,
          4.97114896774292,
          1.3841960430145264,
          -5.659814834594727,
          9.561623573303223,
          0.241516575217247,
          3.9570236206054688,
          4.6314778327941895,
          0.5606250762939453,
          -3.732536554336548,
          8.296591758728027,
          4.369421482086182,
          -0.18309944868087769,
          0.07308444380760193,
          -8.221368789672852,
          2.8339526653289795,
          -6.542965888977051,
          -4.970745086669922,
          0.08952204883098602,
          -2.950639247894287,
          3.2992513179779053,
          -2.5626027584075928,
          0.021986261010169983,
          -2.4518861770629883,
          2.610436201095581,
          -4.451634883880615,
          7.436992645263672,
          -6.460582733154297,
          1.1869884729385376,
          0.49223265051841736,
          -2.650594711303711,
          -2.793942928314209,
          -2.938581705093384,
          3.726214647293091,
          1.4759442806243896,
          3.3058149814605713,
          7.266152858734131,
          -3.9500489234924316,
          -5.024234294891357,
          5.619874954223633,
          4.051910877227783,
          -3.6759965419769287,
          7.120884418487549,
          1.4037816524505615,
          -3.617628574371338,
          -0.9554824829101562,
          -0.810278594493866,
          -4.012383460998535,
          -2.967219591140747,
          -2.150236129760742,
          -3.8176429271698,
          -3.410282850265503,
          -5.626651763916016,
          -4.514026641845703,
          -1.345449447631836,
          -4.563297271728516,
          -6.868931770324707,
          2.874957799911499,
          -4.578405380249023,
          4.030028820037842,
          -1.6252830028533936,
          -3.118164300918579,
          -7.008060932159424,
          -5.389120578765869,
          -6.552933216094971,
          2.5544230937957764,
          4.6134538650512695,
          1.142497181892395,
          1.076263427734375,
          1.7388765811920166,
          8.528060913085938,
          -0.10499149560928345,
          -4.195504188537598,
          -4.439448833465576,
          1.168552041053772,
          -5.725306510925293,
          -1.3838082551956177,
          -0.9130638837814331,
          -6.189011573791504,
          -0.7855903506278992,
          6.325942039489746,
          4.44795036315918,
          -3.5355749130249023,
          -2.1886556148529053,
          -3.747767448425293,
          1.0560519695281982,
          2.157982349395752,
          -3.1475167274475098,
          -0.7292544841766357,
          5.044424057006836,
          -0.31668636202812195,
          1.7503224611282349,
          -6.376124858856201,
          0.9417117238044739,
          -5.628467082977295,
          6.076086521148682,
          3.3183789253234863,
          -1.394004464149475,
          -7.392756462097168,
          2.3592453002929688,
          -5.046382427215576,
          3.9139161109924316,
          -4.942138195037842,
          -8.404216766357422,
          3.0643391609191895,
          2.31797194480896,
          1.1068289279937744,
          7.710577487945557,
          3.518320083618164,
          -0.24505040049552917,
          -0.8640822768211365,
          1.8779371976852417,
          -5.394855499267578,
          -0.19463787972927094,
          -3.6054165363311768,
          -4.961266040802002,
          3.8891658782958984,
          4.888767719268799,
          -1.6608175039291382,
          -0.05592700466513634,
          -7.264750003814697,
          -2.299182891845703,
          -0.9681757688522339,
          1.6776821613311768,
          -0.9742138385772705,
          -5.207434177398682,
          1.3533838987350464,
          -3.245063304901123,
          -4.371456623077393,
          3.9523367881774902,
          -3.5359909534454346,
          2.3633787631988525,
          -7.78732967376709,
          -6.270289421081543,
          -1.0837383270263672,
          -1.853421688079834,
          -4.2992024421691895,
          0.34784096479415894,
          0.13817904889583588,
          6.205780982971191,
          2.1690375804901123,
          -2.7682268619537354,
          -3.7013652324676514,
          -5.4012346267700195,
          5.064943790435791,
          3.5252130031585693,
          2.0919253826141357,
          2.808258295059204,
          -0.47901684045791626,
          -0.10722234100103378,
          1.1455026865005493,
          1.8873449563980103,
          -7.4870123863220215,
          5.373696804046631,
          7.320268154144287,
          2.6087565422058105,
          1.8269565105438232,
          3.461254358291626,
          -0.9104018211364746,
          7.24017858505249,
          -0.1932956874370575,
          -4.532359600067139,
          1.516089677810669,
          -0.3598364591598511,
          -2.2235848903656006,
          2.464921712875366,
          0.13185231387615204,
          1.5104076862335205,
          -5.724662780761719,
          -5.053473472595215,
          -0.7858564257621765,
          2.8079464435577393,
          1.259911298751831,
          -2.877601385116577,
          -3.878908634185791,
          4.6626362800598145,
          -8.461709976196289,
          0.10101047158241272,
          1.137672781944275,
          -6.5528244972229,
          -0.4507143795490265,
          -3.2046055793762207,
          -2.4146339893341064,
          5.65106725692749,
          6.293664932250977,
          4.637880802154541,
          2.313141345977783,
          2.832228899002075,
          0.03608201816678047,
          -1.5705021619796753,
          -2.3085811138153076,
          1.5998733043670654,
          -0.9753007888793945,
          1.8554422855377197,
          8.519529342651367,
          -2.457777500152588,
          5.6968913078308105,
          5.949794292449951,
          0.8312145471572876,
          3.9038898944854736,
          2.045412540435791,
          -2.6948323249816895,
          2.159728527069092,
          5.816589832305908,
          -4.4036478996276855,
          2.1307849884033203,
          -3.5045135021209717,
          7.895354270935059,
          -6.026503086090088,
          6.33226203918457,
          3.824157953262329,
          -5.232182025909424,
          -2.2948200702667236,
          -1.357162356376648,
          1.14982271194458,
          -3.255711793899536,
          -0.21622493863105774,
          0.49268797039985657,
          8.626023292541504,
          -2.7998578548431396,
          7.103087425231934,
          2.427867889404297,
          2.0489020347595215,
          1.753717303276062,
          -0.8191376328468323,
          2.792065382003784,
          -6.920614242553711,
          -8.371942520141602,
          -4.544342994689941,
          -0.11631537973880768,
          1.7885061502456665,
          3.412980556488037,
          0.8882308602333069,
          4.598613739013672,
          3.4913461208343506,
          4.326995849609375,
          0.7353532910346985,
          5.652897834777832,
          -1.15431809425354,
          -3.8651773929595947,
          -0.05655946582555771,
          -8.006837844848633,
          -2.6191811561584473,
          -7.199891090393066,
          2.968822479248047,
          -0.3912426233291626,
          -4.021458148956299,
          -9.273035049438477,
          1.741563320159912,
          -4.22297477722168,
          -0.07211843132972717,
          1.3551510572433472,
          -5.331329822540283,
          -3.4927055835723877,
          3.1977157592773438,
          3.8726437091827393,
          3.415334463119507,
          -0.7094023823738098,
          5.313414573669434,
          1.2455450296401978,
          5.270419597625732,
          2.352329730987549,
          8.779831886291504,
          2.7167809009552,
          2.7988662719726562,
          -0.08084149658679962,
          4.6263933181762695,
          1.8689253330230713,
          5.3449482917785645,
          2.6287736892700195,
          -7.644649982452393,
          1.9087224006652832,
          6.7074103355407715,
          -5.495152473449707,
          -3.1539387702941895,
          1.0844576358795166,
          -4.495772361755371,
          -1.5216747522354126,
          1.50247323513031,
          3.312033176422119,
          -5.571445465087891,
          1.503525733947754,
          2.5892317295074463,
          -0.9045336246490479,
          1.3281546831130981,
          -0.08374089002609253,
          3.945122003555298,
          3.7369863986968994,
          1.7655704021453857,
          1.027081847190857,
          2.2985968589782715,
          -5.630669593811035,
          4.182189464569092,
          -3.8118152618408203,
          -4.881102085113525,
          5.280625343322754,
          -4.547002792358398,
          1.9735016822814941,
          -6.798646450042725,
          2.805948495864868,
          3.6742563247680664,
          3.931198835372925,
          3.697134256362915,
          4.3649396896362305,
          0.40465468168258667,
          -4.499954700469971,
          2.8390262126922607,
          -6.6971659660339355,
          2.0082457065582275,
          -0.9318314790725708,
          4.351929187774658,
          -0.8235616683959961,
          -2.283973217010498,
          -5.136154651641846,
          1.901464581489563,
          7.763890743255615,
          -5.284854888916016,
          3.134841203689575,
          3.464334726333618,
          -0.3615260720252991,
          -0.9150415658950806,
          2.806957483291626,
          4.004071235656738,
          -0.561388373374939,
          1.7483737468719482,
          1.1091537475585938,
          5.848298072814941,
          4.370950698852539,
          9.33993911743164,
          0.47807759046554565,
          -2.7795932292938232,
          -5.643837928771973,
          2.2986698150634766,
          -5.097149848937988,
          1.2319283485412598,
          3.7307724952697754,
          7.916212558746338,
          -2.8086869716644287,
          3.4327127933502197,
          5.272615432739258,
          5.670467376708984,
          -0.204562246799469,
          2.802093744277954,
          -2.1955153942108154,
          0.8172785043716431,
          6.268851280212402,
          -0.9661873579025269,
          -5.207724094390869,
          -6.859634876251221,
          -3.533217191696167,
          3.274383544921875,
          4.991602897644043,
          2.064157009124756,
          6.025735378265381,
          1.6091241836547852,
          -1.167740821838379,
          4.164079666137695,
          9.316269874572754,
          -2.488210439682007,
          -8.925853729248047,
          -3.743290901184082,
          3.9332497119903564,
          3.4995577335357666,
          -11.158968925476074,
          -3.1584372520446777,
          0.08483321964740753,
          -2.709378242492676,
          5.520471096038818,
          3.89121675491333,
          6.79279899597168,
          2.5975570678710938,
          6.370898246765137,
          0.03627430275082588,
          -3.0167384147644043,
          -4.539009094238281,
          -2.4156551361083984,
          -0.9875172972679138,
          7.1244215965271,
          8.899273872375488,
          -2.0889828205108643,
          -0.9385892152786255,
          -1.8932642936706543,
          5.81669807434082,
          3.113917350769043,
          -0.7303539514541626,
          -1.0845271348953247,
          1.7980144023895264,
          -4.497613430023193,
          2.2597198486328125,
          10.005413055419922,
          8.498961448669434,
          7.5633134841918945,
          -3.583664894104004,
          0.9418384432792664,
          3.440669298171997,
          -6.64157247543335,
          -0.7900667190551758,
          3.1905312538146973,
          -6.509102821350098,
          -8.524910926818848,
          -8.73637580871582,
          6.01311731338501,
          -1.1541225910186768,
          -2.029292583465576,
          -1.3319954872131348,
          8.182714462280273,
          -1.844100832939148,
          -9.259963035583496,
          -8.81495189666748,
          4.920253276824951,
          0.4672805964946747,
          3.727168321609497,
          0.31794193387031555,
          1.355352759361267,
          4.122495174407959,
          0.9272398948669434,
          -3.256755828857422,
          2.5201075077056885,
          -7.096272945404053,
          3.258603572845459,
          4.150878429412842,
          -4.622929096221924,
          5.332228660583496,
          1.3871662616729736,
          -2.869077444076538,
          -5.819543838500977,
          1.3456685543060303,
          0.6450147032737732,
          1.1979427337646484,
          1.9114824533462524,
          -0.8117026686668396,
          2.4352898597717285,
          -6.6204423904418945,
          1.5115046501159668,
          1.8059983253479004,
          -0.482126384973526,
          -1.2973631620407104,
          -4.0317463874816895,
          2.1354570388793945,
          2.0957283973693848,
          -4.721245765686035,
          -1.146234393119812,
          -5.738612651824951,
          1.0320806503295898,
          -0.0411151722073555,
          -6.166645526885986,
          -8.59023666381836,
          4.655269622802734,
          2.6457526683807373,
          7.479771614074707,
          -8.956710815429688,
          -9.361388206481934,
          4.6992621421813965,
          -4.342535972595215,
          7.686257839202881,
          -3.8704187870025635,
          1.2804009914398193,
          1.9061652421951294,
          -3.2183797359466553,
          -0.3341744840145111,
          -6.135259628295898,
          -6.540693283081055,
          0.9747442007064819,
          0.7207479476928711,
          -1.5592808723449707,
          1.0036829710006714,
          2.3799526691436768,
          -4.121738433837891,
          0.40383243560791016,
          -0.079834945499897,
          6.636887073516846,
          -3.2759461402893066,
          2.6901800632476807,
          8.370530128479004,
          -4.311750888824463,
          -3.0136663913726807,
          0.2631818354129791,
          -0.7385033369064331,
          -1.6416417360305786,
          3.9059865474700928,
          7.7911787033081055,
          6.666234493255615,
          2.683248996734619,
          1.3333473205566406,
          -9.79964542388916,
          2.1198999881744385,
          -4.206048011779785,
          -6.388488292694092,
          6.44832706451416,
          -7.675951957702637,
          -2.641214370727539,
          2.3922812938690186,
          0.8233135938644409,
          -2.4803473949432373,
          2.41787052154541,
          7.375256538391113,
          -0.23724885284900665,
          5.453789710998535,
          1.2741044759750366,
          3.105587959289551,
          2.7679288387298584,
          0.06095857545733452,
          -6.2735700607299805,
          -1.6537880897521973,
          7.187592029571533,
          -2.9128708839416504,
          -1.5781499147415161,
          7.05343770980835,
          -0.7650495171546936,
          -6.6368184089660645,
          -6.53541374206543,
          -5.19455623626709,
          8.599496841430664,
          -3.4738576412200928,
          -0.03645094111561775,
          -6.689520359039307,
          -3.2685723304748535,
          -3.3610377311706543,
          0.375471830368042,
          7.215425968170166,
          -8.89102554321289,
          7.766205787658691,
          -2.048722743988037,
          -7.72674036026001,
          2.002873659133911,
          -9.016860961914062,
          -3.1566436290740967,
          8.232617378234863,
          -1.002311110496521,
          -9.1216402053833,
          5.014437198638916,
          -4.94003438949585,
          1.5207911729812622,
          -2.393549680709839,
          -1.3663651943206787,
          -7.272944450378418,
          4.054221153259277,
          -3.4203038215637207,
          -6.382227420806885,
          1.560659408569336,
          0.4798148274421692,
          2.8884527683258057,
          -5.994708061218262,
          -6.9230875968933105,
          -4.964102268218994,
          6.776378154754639,
          3.8414134979248047,
          4.170156955718994,
          -1.5348155498504639,
          -2.5809037685394287,
          0.7738722562789917,
          6.515909194946289,
          3.222180128097534,
          5.531393051147461,
          3.168426036834717,
          -5.342092514038086,
          6.203995704650879,
          -4.665003776550293,
          -0.5749551057815552,
          -4.199230194091797,
          -2.4087302684783936,
          -1.2958204746246338,
          -3.0781056880950928,
          2.927233934402466,
          -3.367368221282959,
          4.146191120147705,
          -9.643950462341309,
          4.896583557128906,
          4.405906677246094,
          3.5554912090301514,
          3.2843475341796875,
          -5.492979526519775,
          -5.201437473297119,
          -3.8244659900665283,
          0.06735110282897949,
          -3.987074613571167,
          6.944118022918701,
          1.3619953393936157,
          1.7152584791183472,
          -5.024507999420166,
          6.630249500274658,
          3.3642044067382812,
          -2.7907803058624268,
          6.050073623657227,
          -7.633115768432617,
          -4.033730983734131,
          -2.5153796672821045,
          -6.397815227508545,
          2.3948378562927246,
          1.4414793252944946,
          -2.229207754135132,
          -3.2299206256866455,
          1.9697089195251465,
          -0.5459733605384827,
          -1.305288553237915,
          3.8402247428894043,
          4.494702339172363,
          1.8026444911956787,
          -4.508448600769043,
          3.8477420806884766,
          1.3129081726074219,
          2.6976070404052734,
          0.8513984084129333,
          4.352880001068115,
          -8.322983741760254,
          7.721282005310059,
          -5.88510799407959,
          5.463876724243164,
          -7.728316307067871,
          -3.03963565826416,
          -3.2669179439544678,
          2.261096954345703,
          2.5021941661834717,
          1.208315372467041,
          3.7584712505340576,
          7.6044487953186035,
          -1.5846766233444214,
          -6.244024276733398,
          4.099637985229492,
          3.3400590419769287,
          7.650686264038086,
          2.7477874755859375,
          -0.20633621513843536,
          -2.2389867305755615,
          2.2914693355560303,
          -6.843746662139893,
          -0.06753985583782196,
          -2.8359313011169434,
          -4.742919445037842,
          -2.6691808700561523,
          5.288661479949951,
          2.5120623111724854,
          2.204901695251465,
          -7.960364818572998,
          1.4711579084396362,
          1.2964118719100952,
          -5.348024368286133,
          -2.280590295791626,
          -3.2639858722686768,
          2.9806759357452393,
          3.446058750152588,
          7.143535137176514,
          6.1659626960754395,
          -1.3378822803497314,
          -10.069252014160156,
          0.7047866582870483,
          3.3843414783477783,
          -5.608647346496582,
          1.8850483894348145,
          4.022988796234131,
          4.210824012756348,
          2.3772666454315186,
          8.178342819213867,
          -3.8075780868530273,
          -7.0307936668396,
          3.7285923957824707,
          5.407764911651611,
          1.0915086269378662,
          -7.637053489685059,
          -8.63449478149414,
          6.003021240234375,
          1.1469076871871948
         ],
         "y": [
          2.1440141201019287,
          3.4959821701049805,
          -8.540201187133789,
          -14.19664192199707,
          -14.91153335571289,
          -7.255666732788086,
          4.4368720054626465,
          -16.843870162963867,
          -0.7662594318389893,
          5.4893012046813965,
          -14.524401664733887,
          -15.947763442993164,
          -11.659292221069336,
          5.448930740356445,
          -12.19482135772705,
          -17.621532440185547,
          -11.6694917678833,
          10.254469871520996,
          -7.466127395629883,
          -14.421778678894043,
          -6.354086399078369,
          0.8018673658370972,
          -9.971131324768066,
          -1.1444398164749146,
          -10.137250900268555,
          -1.3448777198791504,
          -14.487147331237793,
          2.6739296913146973,
          -20.449033737182617,
          -16.160079956054688,
          0.6684197783470154,
          0.14645296335220337,
          7.3062520027160645,
          -12.748724937438965,
          9.853897094726562,
          0.9036020040512085,
          -2.394335985183716,
          2.873121976852417,
          2.152639865875244,
          -7.596145153045654,
          13.487812995910645,
          -13.676376342773438,
          9.375481605529785,
          -8.757075309753418,
          -11.799004554748535,
          -17.989826202392578,
          -11.469258308410645,
          -0.8189361691474915,
          -15.534927368164062,
          7.695188999176025,
          -15.654383659362793,
          -7.277647018432617,
          10.020689964294434,
          -17.81512451171875,
          -9.701851844787598,
          4.2528605461120605,
          -7.044437885284424,
          3.862856864929199,
          -12.799878120422363,
          -11.11758804321289,
          11.307734489440918,
          5.6054840087890625,
          -19.7713623046875,
          -13.749107360839844,
          11.61251449584961,
          -10.69561767578125,
          11.927098274230957,
          9.983570098876953,
          -14.780688285827637,
          -10.056699752807617,
          -21.005897521972656,
          -16.55597496032715,
          1.779550552368164,
          -13.594099998474121,
          10.380951881408691,
          5.517838478088379,
          -14.405647277832031,
          -16.798025131225586,
          11.18205738067627,
          10.801525115966797,
          10.86936092376709,
          4.914902210235596,
          -14.03477954864502,
          4.2898454666137695,
          2.8353989124298096,
          -0.7001521587371826,
          7.313220500946045,
          6.230650424957275,
          7.641738414764404,
          1.906191110610962,
          4.712968349456787,
          -13.768607139587402,
          8.903768539428711,
          6.105781078338623,
          3.5223193168640137,
          -19.927467346191406,
          10.27221965789795,
          -0.37296968698501587,
          4.79180908203125,
          -14.398244857788086,
          0.3116806447505951,
          9.149622917175293,
          0.15891394019126892,
          12.006502151489258,
          -20.960689544677734,
          10.605142593383789,
          7.0038604736328125,
          -0.2948339581489563,
          10.829126358032227,
          -16.116296768188477,
          3.056440830230713,
          -0.9404361844062805,
          -11.859976768493652,
          7.304165363311768,
          -12.349325180053711,
          5.546522617340088,
          5.770887851715088,
          6.3459649085998535,
          -13.473809242248535,
          6.549210071563721,
          6.400872707366943,
          6.319787979125977,
          -0.6776826977729797,
          10.007940292358398,
          2.039539337158203,
          1.9877147674560547,
          2.8317348957061768,
          -14.532737731933594,
          2.8131887912750244,
          2.6225669384002686,
          8.606359481811523,
          10.488061904907227,
          -16.49772834777832,
          1.3660097122192383,
          8.805293083190918,
          6.505765438079834,
          -11.38314437866211,
          -16.770231246948242,
          2.5388424396514893,
          3.2852447032928467,
          -14.086713790893555,
          1.8832955360412598,
          11.953213691711426,
          -14.51630973815918,
          7.804823875427246,
          11.016780853271484,
          -13.55521011352539,
          10.346060752868652,
          2.5400748252868652,
          5.3640265464782715,
          1.9132367372512817,
          7.170979022979736,
          -2.1032021045684814,
          12.954617500305176,
          1.6769087314605713,
          10.49303150177002,
          12.755301475524902,
          10.922808647155762,
          6.40016508102417,
          -11.376302719116211,
          4.77176570892334,
          11.969335556030273,
          6.360450744628906,
          11.676894187927246,
          -12.650654792785645,
          9.373723983764648,
          -14.662734031677246,
          -17.853422164916992,
          -10.90352725982666,
          3.6797409057617188,
          7.876369953155518,
          -1.0582953691482544,
          -10.488872528076172,
          -10.448566436767578,
          1.5193222761154175,
          7.418076515197754,
          -10.138752937316895,
          -9.728965759277344,
          1.9795924425125122,
          -16.614458084106445,
          4.334750175476074,
          -11.026408195495605,
          -1.0660910606384277,
          -18.88570785522461,
          -18.097532272338867,
          6.524643898010254,
          -13.427370071411133,
          9.306056022644043,
          9.848078727722168,
          6.454404354095459,
          10.110774993896484,
          -14.575113296508789,
          -14.487174034118652,
          -11.288043975830078,
          8.222519874572754,
          3.555513620376587,
          5.111917495727539,
          -1.6459531784057617,
          -0.7947339415550232,
          1.3351812362670898,
          6.67864465713501,
          4.119441032409668,
          1.6952532529830933,
          -14.870894432067871,
          -10.072854995727539,
          -0.10724522173404694,
          11.148734092712402,
          7.031238555908203,
          -10.962053298950195,
          2.9151151180267334,
          2.125788450241089,
          -14.826674461364746,
          -16.421613693237305,
          4.15750789642334,
          6.157807350158691,
          5.9538750648498535,
          2.892193078994751,
          -17.527795791625977,
          -19.518606185913086,
          1.8746743202209473,
          -10.074642181396484,
          1.7124749422073364,
          -14.45063591003418,
          11.252594947814941,
          7.549798011779785,
          9.851099014282227,
          10.685423851013184,
          9.707423210144043,
          9.608649253845215,
          -13.643804550170898,
          3.964273452758789,
          9.205843925476074,
          -15.827958106994629,
          -16.694297790527344,
          8.116759300231934,
          1.351468563079834,
          2.6071836948394775,
          6.764462471008301,
          -14.694548606872559,
          -8.32399845123291,
          7.069040298461914,
          -2.438023090362549,
          -8.652448654174805,
          4.8653059005737305,
          -15.73945140838623,
          7.887644290924072,
          8.984097480773926,
          8.686208724975586,
          10.927838325500488,
          -10.290480613708496,
          12.68503189086914,
          2.1515581607818604,
          -16.19137191772461,
          11.628730773925781,
          10.925865173339844,
          -0.6448654532432556,
          4.571772575378418,
          7.346471309661865,
          -13.435690879821777,
          7.377110958099365,
          -9.082378387451172,
          10.201761245727539,
          -13.4374361038208,
          3.2345595359802246,
          12.866230964660645,
          4.573737144470215,
          -17.75558090209961,
          6.384166240692139,
          10.673202514648438,
          -3.301558256149292,
          -0.615591824054718,
          1.6941115856170654,
          6.732565402984619,
          -8.119489669799805,
          -11.711435317993164,
          14.167561531066895,
          -18.109066009521484,
          -14.625661849975586,
          0.42240339517593384,
          9.881037712097168,
          10.512709617614746,
          -8.306849479675293,
          11.097541809082031,
          4.782565116882324,
          -12.298064231872559,
          1.235042929649353,
          7.559383392333984,
          1.7795418500900269,
          6.638794898986816,
          -0.639795184135437,
          1.2044932842254639,
          0.710791826248169,
          7.093311309814453,
          2.3411314487457275,
          4.23627233505249,
          -12.604836463928223,
          -13.073515892028809,
          10.27658748626709,
          4.968112945556641,
          3.363525629043579,
          -0.7455048561096191,
          7.343711853027344,
          -18.195926666259766,
          -16.16095542907715,
          -12.45436954498291,
          7.656585693359375,
          -0.9389464855194092,
          6.989233016967773,
          12.715099334716797,
          -18.09856414794922,
          -17.243667602539062,
          11.728353500366211,
          -10.920998573303223,
          -8.302743911743164,
          7.33444356918335,
          3.45412278175354,
          3.626861810684204,
          4.257187366485596,
          8.470080375671387,
          1.9608644247055054,
          -0.497469037771225,
          7.3248491287231445,
          -16.586685180664062,
          1.2776951789855957,
          7.348520755767822,
          2.7194721698760986,
          -18.143882751464844,
          -17.77733039855957,
          -11.634265899658203,
          -12.531618118286133,
          6.637504577636719,
          -17.40709686279297,
          9.463519096374512,
          10.416571617126465,
          6.3448357582092285,
          -13.546603202819824,
          1.8939881324768066,
          6.837304592132568,
          -13.702754020690918,
          -15.989615440368652,
          6.629934310913086,
          12.755784034729004,
          -13.423091888427734,
          12.98216724395752,
          -16.880142211914062,
          -12.817334175109863,
          1.2718085050582886,
          11.833740234375,
          -14.044217109680176,
          -17.895587921142578,
          1.6497316360473633,
          7.373490333557129,
          7.152889728546143,
          2.2038414478302,
          7.546416759490967,
          12.7681884765625,
          9.447610855102539,
          2.141768217086792,
          -20.655990600585938,
          0.4304882287979126,
          1.3910813331604004,
          0.15514515340328217,
          3.2666332721710205,
          11.548471450805664,
          -15.46990966796875,
          6.600753307342529,
          -18.05837059020996,
          7.840721130371094,
          7.758620738983154,
          -0.17246665060520172,
          8.008061408996582,
          7.067976951599121,
          -14.915373802185059,
          -11.357060432434082,
          -16.549280166625977,
          9.533903121948242,
          8.86978530883789,
          -13.237028121948242,
          2.3979532718658447,
          2.2881784439086914,
          -12.906036376953125,
          4.404104232788086,
          9.161918640136719,
          2.520777940750122,
          1.6330139636993408,
          9.553940773010254,
          7.15435791015625,
          6.173194885253906,
          0.8203690052032471,
          -0.05845648795366287,
          7.585359573364258,
          10.56920337677002,
          6.303854942321777,
          7.452211380004883,
          7.09685754776001,
          1.9166123867034912,
          10.323452949523926,
          -16.04645347595215,
          2.7323358058929443,
          9.938410758972168,
          6.071800231933594,
          5.410691261291504,
          11.615069389343262,
          -0.3089735805988312,
          -18.28461265563965,
          5.840972900390625,
          -11.08826732635498,
          5.148627758026123,
          -10.446138381958008,
          -2.1802072525024414,
          3.255692481994629,
          3.516077756881714,
          -20.89007568359375,
          7.584670543670654,
          0.5543810725212097,
          9.220401763916016,
          6.643886089324951,
          3.4271512031555176,
          -17.474468231201172,
          -13.089543342590332,
          -0.28899142146110535,
          5.562936782836914,
          1.62065851688385,
          0.9024266600608826,
          -11.833612442016602,
          7.972977638244629,
          4.40487003326416,
          -12.622795104980469,
          1.653203010559082,
          -14.420023918151855,
          5.206487655639648,
          5.4470391273498535,
          4.644981861114502,
          -14.494278907775879,
          -20.925731658935547,
          3.8613221645355225,
          9.083499908447266,
          -14.38715648651123,
          10.758161544799805,
          -10.748117446899414,
          10.557994842529297,
          10.372758865356445,
          -11.336908340454102,
          -17.028976440429688,
          7.671512603759766,
          -10.768109321594238,
          -18.91632080078125,
          12.76457405090332,
          -9.755474090576172,
          -12.100829124450684,
          6.334534645080566,
          -12.180306434631348,
          10.085602760314941,
          7.763613700866699,
          -12.450837135314941,
          2.934929609298706,
          -0.8375189304351807,
          -10.761551856994629,
          10.713961601257324,
          2.6696527004241943,
          1.227735161781311,
          -11.711177825927734,
          8.663302421569824,
          12.978461265563965,
          0.15147854387760162,
          4.833130836486816,
          11.063457489013672,
          -19.84538459777832,
          9.280976295471191,
          -11.152737617492676,
          7.423925399780273,
          10.60661506652832,
          8.078344345092773,
          7.8093109130859375,
          8.963507652282715,
          8.284988403320312,
          3.0488901138305664,
          -12.062049865722656,
          4.650278568267822,
          3.886646270751953,
          11.822402000427246,
          5.046113967895508,
          -13.302189826965332,
          -15.471013069152832,
          5.829994201660156,
          -16.026351928710938,
          -1.6213982105255127,
          1.6464842557907104,
          5.794146537780762,
          -8.688227653503418,
          7.719557762145996,
          -12.44601058959961,
          -11.431459426879883,
          -18.491870880126953,
          -9.387972831726074,
          -13.661150932312012,
          -1.9699543714523315,
          -11.35608959197998,
          11.814603805541992,
          1.5495833158493042,
          2.72204327583313,
          2.2785568237304688,
          1.9612528085708618,
          7.059188365936279,
          1.8382647037506104,
          -8.783275604248047,
          10.514039993286133,
          11.640767097473145,
          1.3728331327438354,
          -10.388716697692871,
          -14.320771217346191,
          11.187788963317871,
          -1.842703104019165,
          -15.604927062988281,
          11.074919700622559,
          12.25812816619873,
          12.025456428527832,
          10.847856521606445,
          1.6643986701965332,
          -1.6233904361724854,
          0.5540048480033875,
          -14.329824447631836,
          -13.19843864440918,
          -12.006011962890625,
          -19.939491271972656,
          6.6474528312683105,
          2.71336030960083,
          7.45486307144165,
          1.0763589143753052,
          4.47734260559082,
          0.012058897875249386,
          -17.11899185180664,
          -12.341588020324707,
          7.714118957519531,
          -11.358259201049805,
          -16.398639678955078,
          -1.6860694885253906,
          -15.651761054992676,
          3.8492178916931152,
          -2.8956356048583984,
          1.905777096748352,
          -11.71912956237793,
          3.044450044631958,
          1.9400877952575684,
          11.284746170043945,
          -14.517725944519043,
          10.91192626953125,
          -13.611178398132324,
          -13.762803077697754,
          11.035670280456543,
          11.607656478881836,
          5.926601886749268,
          -13.539691925048828,
          6.419494152069092,
          13.618563652038574,
          1.5523943901062012,
          -11.273092269897461,
          9.447051048278809,
          -18.208330154418945,
          -0.7797848582267761,
          -17.182849884033203,
          -19.94837188720703,
          14.118205070495605,
          -12.615019798278809,
          7.47672700881958,
          12.093282699584961,
          8.658594131469727,
          2.4296369552612305,
          -13.70193862915039,
          -11.514542579650879,
          2.249253749847412,
          -11.747832298278809,
          -17.116811752319336,
          -18.262556076049805,
          0.6125674247741699,
          -19.1096134185791,
          3.8327276706695557,
          6.2659525871276855,
          4.611806869506836,
          5.968647480010986,
          -0.07089313864707947,
          7.2971510887146,
          -11.21034049987793,
          3.51589298248291,
          12.6696138381958,
          11.426421165466309,
          4.046043395996094,
          8.452997207641602,
          8.112771987915039,
          -17.897518157958984,
          4.7049994468688965,
          12.87981128692627,
          -0.06757736206054688,
          -17.80608558654785,
          1.67849862575531,
          11.923852920532227,
          -16.307714462280273,
          -16.609447479248047,
          -11.687089920043945,
          -16.24495506286621,
          -14.679808616638184,
          7.0879225730896,
          -9.89449691772461,
          5.163838863372803,
          -11.105278015136719,
          2.68388032913208,
          -17.812030792236328,
          -18.469844818115234,
          6.720255374908447,
          0.05001172795891762,
          -12.543645858764648,
          2.6266441345214844,
          1.3321176767349243,
          5.943556785583496,
          12.639970779418945,
          13.635273933410645,
          5.155200958251953,
          7.387863636016846,
          3.0776662826538086,
          4.719071865081787,
          1.993815541267395,
          10.960261344909668,
          12.870898246765137,
          1.58367121219635,
          -11.768606185913086,
          -19.920066833496094,
          5.297040939331055,
          -12.70659351348877,
          5.115108966827393,
          13.02758502960205,
          9.854398727416992,
          -1.3287830352783203,
          10.314910888671875,
          -14.159086227416992,
          1.6039361953735352,
          3.820971727371216,
          2.720787286758423,
          2.148746967315674,
          -12.142838478088379,
          2.406203269958496,
          -9.747960090637207,
          2.8529834747314453,
          3.669090509414673,
          2.517138957977295,
          -16.52518081665039,
          6.766910552978516,
          -10.270060539245605,
          7.591179370880127,
          -11.709155082702637,
          6.970788478851318,
          10.610799789428711,
          8.414776802062988,
          4.1989850997924805,
          -15.441991806030273,
          7.8276238441467285,
          1.045028567314148,
          -14.315936088562012,
          5.307986259460449,
          6.3031721115112305,
          -16.49974822998047,
          -19.105985641479492,
          10.13718318939209,
          0.33600524067878723,
          3.019408702850342,
          -12.644183158874512,
          2.6797292232513428,
          -15.91778564453125,
          1.4596058130264282,
          -1.6349583864212036,
          8.568256378173828,
          2.8598906993865967,
          12.430567741394043,
          11.818062782287598,
          3.2633819580078125,
          -10.87704849243164,
          11.695220947265625,
          1.8142828941345215,
          -11.263520240783691,
          -14.08130931854248,
          1.3268011808395386,
          -10.529569625854492,
          9.416426658630371,
          7.470271110534668,
          -10.300969123840332,
          14.926008224487305,
          8.651652336120605,
          10.874825477600098,
          12.622718811035156,
          -13.822639465332031,
          -18.239395141601562,
          -15.677424430847168,
          -16.095458984375,
          -20.397262573242188,
          -1.3676143884658813,
          -13.796420097351074,
          -11.5848970413208,
          1.8052645921707153,
          9.554290771484375,
          5.023477077484131,
          -12.613057136535645,
          5.8368239402771,
          10.286115646362305,
          5.4884114265441895,
          -20.47524070739746,
          10.044170379638672,
          4.035202503204346,
          -15.346110343933105,
          -15.946091651916504,
          2.1091060638427734,
          -9.57709789276123,
          -12.160057067871094,
          10.613053321838379,
          4.425970554351807,
          -1.5238758325576782,
          7.541566371917725,
          -9.063006401062012,
          -6.951927661895752,
          -17.72614860534668,
          7.540987491607666,
          7.045196056365967,
          -7.494839668273926,
          7.040643215179443,
          -2.892427444458008,
          -7.294334888458252,
          -7.864924430847168,
          7.452227592468262,
          -11.372238159179688,
          -11.28343391418457,
          -16.71919822692871,
          -7.733747482299805,
          2.277937650680542,
          -15.287734031677246,
          2.9563870429992676,
          4.945448875427246,
          -1.304419994354248,
          -12.666197776794434,
          4.699036121368408,
          8.8270263671875,
          10.4151029586792,
          -12.273297309875488,
          4.394650936126709,
          4.629615783691406,
          5.166549205780029,
          -12.445412635803223,
          2.6411726474761963,
          10.141203880310059,
          7.093642711639404,
          -11.915495872497559,
          -10.509552001953125,
          -19.733333587646484,
          2.554661512374878,
          -14.091452598571777,
          4.063297271728516,
          8.182392120361328,
          11.562240600585938,
          -10.047317504882812,
          10.624999046325684,
          10.107969284057617,
          -15.850613594055176,
          11.602378845214844,
          -18.83695411682129,
          11.798293113708496,
          9.057839393615723,
          7.886620998382568,
          2.995138168334961,
          7.2055559158325195,
          5.918788433074951,
          -14.98149299621582,
          4.096968173980713,
          -15.289091110229492,
          10.509662628173828,
          4.7995734214782715,
          0.8785935640335083,
          3.8638803958892822,
          3.5391366481781006,
          13.277799606323242,
          5.019623756408691,
          5.383384704589844,
          10.206524848937988,
          4.356252670288086,
          6.543172359466553,
          6.319680690765381,
          -0.9641855359077454,
          2.3025553226470947,
          8.960973739624023,
          -19.551284790039062,
          10.530593872070312,
          -11.053848266601562,
          11.771629333496094,
          9.453574180603027,
          -18.68789291381836,
          7.94872522354126,
          -12.9194917678833,
          8.161619186401367,
          7.787363529205322,
          -0.4692973792552948,
          11.73240852355957,
          -10.17623519897461,
          7.441649913787842,
          10.985684394836426,
          7.788780212402344,
          4.552911281585693,
          1.6193681955337524,
          2.7245664596557617,
          -8.97715950012207,
          8.923056602478027,
          12.457886695861816,
          1.0323965549468994,
          -14.271332740783691,
          7.122776031494141,
          -13.784013748168945,
          -11.753149032592773,
          8.920282363891602,
          -0.761537492275238,
          -1.228078842163086,
          -9.716374397277832,
          0.4522475302219391,
          -18.903213500976562,
          -9.449419021606445,
          -14.448683738708496,
          -12.654624938964844,
          -8.037285804748535,
          10.834953308105469,
          0.1567293256521225,
          -1.528181552886963,
          10.061367988586426,
          -14.149604797363281,
          10.455480575561523,
          5.704280376434326,
          -17.57542610168457,
          1.7632472515106201,
          1.7502167224884033,
          -19.011722564697266,
          -11.45041561126709,
          -10.501459121704102,
          -10.765345573425293,
          -16.337162017822266,
          -14.627721786499023,
          -11.495450019836426,
          12.344496726989746,
          6.691678524017334,
          11.732897758483887,
          -14.802846908569336,
          0.8345159292221069,
          5.335361957550049,
          -11.098912239074707,
          -2.5400474071502686,
          7.307620048522949,
          2.891639471054077,
          2.2017011642456055,
          -11.42360782623291,
          1.4298101663589478,
          12.676934242248535,
          6.47646427154541,
          1.4096477031707764,
          -2.3037912845611572,
          4.614089012145996,
          -13.532909393310547,
          10.26280403137207,
          -13.147666931152344,
          1.2352372407913208,
          9.664006233215332,
          -1.4199247360229492,
          6.827765464782715,
          -1.467479944229126,
          -16.5905704498291,
          6.807222843170166,
          9.586526870727539,
          -11.321768760681152,
          2.004035711288452,
          -12.839249610900879,
          11.581562995910645,
          7.303708553314209,
          3.313119888305664,
          3.130173921585083,
          8.176219940185547,
          7.297947883605957,
          7.214105606079102,
          3.901216506958008,
          -9.984506607055664,
          1.3355650901794434,
          5.568826675415039,
          12.35267448425293,
          -17.652677536010742,
          -16.259389877319336,
          -12.33738899230957,
          4.345390796661377,
          6.080793857574463,
          3.763592481613159,
          -10.368042945861816,
          -14.36453914642334,
          -17.293004989624023,
          -11.422719955444336,
          11.399524688720703,
          -18.1121826171875,
          4.9773945808410645,
          6.787391662597656,
          7.8757829666137695,
          0.5931895971298218,
          0.2923010289669037,
          1.7342426776885986,
          10.38145923614502,
          12.725502014160156,
          -19.55119514465332,
          7.142608642578125,
          -14.86327075958252,
          -13.717130661010742,
          0.1542622148990631,
          -11.389949798583984,
          11.100674629211426,
          4.027514457702637,
          7.779993534088135,
          9.234063148498535,
          10.552017211914062,
          -11.993252754211426,
          -13.301531791687012,
          3.771449565887451,
          -0.29628047347068787,
          -13.076645851135254,
          -13.023538589477539,
          0.9253675937652588,
          -16.765226364135742,
          5.606335639953613,
          9.125542640686035,
          -2.851104974746704,
          1.235110878944397,
          2.7707996368408203,
          3.9904088973999023,
          4.700628280639648,
          -2.2972006797790527,
          -14.247447967529297,
          10.966384887695312,
          7.044371604919434,
          -19.00208282470703,
          -16.05623435974121,
          -13.623784065246582,
          10.196805000305176,
          -10.084118843078613,
          1.8247928619384766,
          -12.813180923461914,
          -11.271320343017578,
          8.956581115722656,
          10.745026588439941,
          -11.410947799682617,
          8.025510787963867,
          -13.583452224731445,
          7.938658714294434,
          6.903542518615723,
          0.6691417694091797,
          3.8574094772338867,
          4.880605220794678,
          4.710909843444824,
          -18.62022590637207,
          -16.495681762695312,
          6.009191036224365,
          6.614670753479004,
          -13.49770450592041,
          -14.355155944824219,
          -11.283818244934082,
          6.976686000823975,
          8.352934837341309,
          5.864691734313965,
          -9.131463050842285,
          10.092621803283691,
          4.949763298034668,
          11.098047256469727,
          2.719548463821411,
          6.102866172790527,
          -12.253644943237305,
          9.211234092712402,
          -18.49966049194336,
          6.391490459442139,
          7.2077813148498535,
          -13.362924575805664,
          9.634934425354004,
          5.900622844696045,
          4.350049018859863,
          -17.757829666137695,
          2.881160259246826,
          -10.617450714111328,
          -12.548396110534668,
          0.08312603831291199,
          10.18464469909668,
          6.321014404296875,
          -17.824783325195312,
          5.626493453979492,
          7.457545280456543,
          -12.3056640625,
          -11.736238479614258,
          -16.344167709350586,
          -12.160018920898438,
          8.560174942016602,
          6.412858486175537,
          -10.151430130004883,
          -14.46834659576416,
          4.897597789764404,
          7.302321434020996,
          11.372718811035156,
          -13.489850997924805,
          -15.862932205200195
         ],
         "z": [
          8.567544937133789,
          -9.259587287902832,
          11.324315071105957,
          -3.050082206726074,
          12.82435417175293,
          -2.421452522277832,
          -15.030322074890137,
          -5.787783145904541,
          1.7351899147033691,
          -15.520689964294434,
          -7.81625509262085,
          10.182377815246582,
          -8.128678321838379,
          1.926317572593689,
          5.292543411254883,
          3.717114210128784,
          -8.133326530456543,
          -4.683310031890869,
          10.88790225982666,
          8.7431058883667,
          -2.3323352336883545,
          7.5635552406311035,
          9.943697929382324,
          1.1820664405822754,
          0.36251407861709595,
          4.703863620758057,
          9.449654579162598,
          1.4338489770889282,
          -1.4693669080734253,
          0.19174067676067352,
          1.4357953071594238,
          -9.690145492553711,
          2.753931999206543,
          3.5848357677459717,
          -1.0844029188156128,
          5.438052654266357,
          0.6564374566078186,
          1.6817870140075684,
          10.198649406433105,
          -3.167332649230957,
          -8.9138765335083,
          0.7240939140319824,
          -6.0009589195251465,
          2.2476279735565186,
          2.529452085494995,
          3.6024200916290283,
          2.3884358406066895,
          1.1824865341186523,
          9.977054595947266,
          -8.887968063354492,
          -9.176565170288086,
          3.3252103328704834,
          0.26211071014404297,
          3.498906373977661,
          -2.2672698497772217,
          -12.534817695617676,
          -4.336575984954834,
          -8.084955215454102,
          2.8431689739227295,
          7.386782169342041,
          -1.879778504371643,
          -3.7175464630126953,
          5.190555572509766,
          0.08077725023031235,
          -7.042606353759766,
          2.256617784500122,
          -3.300598382949829,
          -3.9419357776641846,
          9.721083641052246,
          -2.673007011413574,
          0.10788809508085251,
          -3.175020217895508,
          11.404229164123535,
          -6.820452690124512,
          11.248223304748535,
          7.316445827484131,
          8.27889633178711,
          1.8286188840866089,
          12.564583778381348,
          8.607550621032715,
          8.67110538482666,
          7.383624076843262,
          10.233272552490234,
          -3.6942412853240967,
          -12.283899307250977,
          -7.4031982421875,
          -8.465685844421387,
          -11.709176063537598,
          -3.7195630073547363,
          8.336135864257812,
          10.311492919921875,
          -7.025488376617432,
          -5.311244487762451,
          -14.954217910766602,
          -11.361065864562988,
          3.9675886631011963,
          -0.6266949772834778,
          -6.321465015411377,
          -2.689260721206665,
          8.316400527954102,
          10.358184814453125,
          -9.072513580322266,
          -6.0006561279296875,
          -0.28803619742393494,
          3.745476722717285,
          2.4479165077209473,
          -2.446868419647217,
          -10.393932342529297,
          10.43436050415039,
          0.8498209714889526,
          9.572936058044434,
          9.909228324890137,
          -9.335464477539062,
          7.056406021118164,
          12.130952835083008,
          8.516982078552246,
          -13.330914497375488,
          -15.233670234680176,
          -4.639225959777832,
          -2.2588751316070557,
          8.569083213806152,
          -2.315729856491089,
          -9.605820655822754,
          -6.808096885681152,
          -1.3406764268875122,
          -8.044594764709473,
          -10.241975784301758,
          -3.2821438312530518,
          -11.570996284484863,
          -7.238137722015381,
          -2.0806381702423096,
          -0.43197450041770935,
          -8.256128311157227,
          -12.804033279418945,
          -10.44325065612793,
          7.51438570022583,
          11.38652229309082,
          -6.430549144744873,
          -7.332075119018555,
          -2.202819347381592,
          -7.155867576599121,
          6.501694202423096,
          -0.06511896848678589,
          11.128294944763184,
          -1.9562124013900757,
          5.226744174957275,
          -4.831960201263428,
          -8.722663879394531,
          -8.504150390625,
          -0.5350974798202515,
          9.479841232299805,
          9.132144927978516,
          -4.412266731262207,
          -0.42744290828704834,
          8.976520538330078,
          -1.5104570388793945,
          -7.023564338684082,
          -8.259317398071289,
          12.868921279907227,
          -4.776823997497559,
          -14.63447093963623,
          -0.664592981338501,
          12.088878631591797,
          11.296353340148926,
          -3.096442937850952,
          -9.136730194091797,
          -7.1151123046875,
          -0.42207998037338257,
          7.5539751052856445,
          -0.875583827495575,
          -2.60473895072937,
          -5.876403331756592,
          -1.0309852361679077,
          11.888340950012207,
          -2.8134114742279053,
          -10.704533576965332,
          -1.8252530097961426,
          11.184950828552246,
          -9.311990737915039,
          -4.688149452209473,
          -3.985448122024536,
          -1.8532803058624268,
          -10.113658905029297,
          2.1192245483398438,
          0.4312971532344818,
          -14.309182167053223,
          2.0304067134857178,
          -1.9245266914367676,
          6.774277687072754,
          8.8692045211792,
          -8.913579940795898,
          11.827397346496582,
          -7.634056091308594,
          12.318671226501465,
          -10.301840782165527,
          -15.071462631225586,
          -4.702611923217773,
          -10.730027198791504,
          11.059181213378906,
          -1.6876646280288696,
          -1.2729419469833374,
          -0.9989326596260071,
          -11.675870895385742,
          9.966753959655762,
          11.476188659667969,
          -9.924344062805176,
          7.9230170249938965,
          -1.8123435974121094,
          -2.8507306575775146,
          -8.20234203338623,
          -3.4549520015716553,
          3.0955638885498047,
          2.197904348373413,
          8.604887962341309,
          -2.3915648460388184,
          -3.271228075027466,
          -7.810510158538818,
          2.4917426109313965,
          2.630568265914917,
          -1.828596591949463,
          11.96088981628418,
          -7.688610076904297,
          9.623626708984375,
          11.211864471435547,
          -10.366477966308594,
          7.86665678024292,
          -5.304741382598877,
          6.378988265991211,
          -10.737250328063965,
          2.6310648918151855,
          -14.009185791015625,
          -5.678432941436768,
          -5.371906280517578,
          -5.845532417297363,
          -0.2975698709487915,
          -7.361159324645996,
          -5.612900733947754,
          7.981105327606201,
          -3.0994253158569336,
          11.801513671875,
          -2.282524347305298,
          -7.220866680145264,
          9.269124031066895,
          -11.31872844696045,
          -3.07680082321167,
          -10.286028861999512,
          7.602879524230957,
          13.207178115844727,
          -4.746086597442627,
          10.486464500427246,
          1.0319486856460571,
          -2.5028090476989746,
          -2.7540295124053955,
          -0.9110856056213379,
          3.248945474624634,
          -1.0208981037139893,
          8.93311595916748,
          -12.508563995361328,
          3.448981761932373,
          -1.5630265474319458,
          10.348316192626953,
          -0.526511013507843,
          12.855401039123535,
          -3.5326833724975586,
          1.62331223487854,
          -11.042990684509277,
          -6.611886978149414,
          -10.967839241027832,
          10.226517677307129,
          -9.812438011169434,
          -8.734329223632812,
          -12.353740692138672,
          9.557392120361328,
          10.146443367004395,
          -3.353595495223999,
          -2.8332338333129883,
          4.330924987792969,
          11.860075950622559,
          -9.186578750610352,
          6.578461170196533,
          -5.891470909118652,
          9.821640014648438,
          5.476088047027588,
          6.411942481994629,
          11.346684455871582,
          -9.136422157287598,
          -5.194858551025391,
          -7.782273292541504,
          -11.46117877960205,
          10.94790267944336,
          8.39897632598877,
          -11.009359359741211,
          -1.9330295324325562,
          -8.563017845153809,
          -3.843461275100708,
          -8.296052932739258,
          -3.960493326187134,
          10.870821952819824,
          -2.277883768081665,
          8.45209789276123,
          -7.778104305267334,
          -13.535536766052246,
          0.6209270358085632,
          -3.582221031188965,
          -1.6800256967544556,
          12.218729972839355,
          -6.946921348571777,
          11.344722747802734,
          -8.418769836425781,
          0.8813633918762207,
          0.35685813426971436,
          -9.257899284362793,
          -0.9170936346054077,
          11.32620620727539,
          -5.357322692871094,
          9.870856285095215,
          -1.075559377670288,
          -12.207771301269531,
          12.80817985534668,
          -12.067713737487793,
          -7.731949806213379,
          9.630158424377441,
          -4.0241193771362305,
          -6.234679698944092,
          8.948400497436523,
          7.477626323699951,
          -5.197436809539795,
          -6.3632707595825195,
          6.714609146118164,
          -2.8612582683563232,
          -11.147515296936035,
          4.021877765655518,
          0.8839629888534546,
          0.8245368599891663,
          -11.383654594421387,
          8.137957572937012,
          -7.575003623962402,
          7.431393623352051,
          1.6793538331985474,
          4.353509426116943,
          8.540389060974121,
          6.541994571685791,
          -4.904768466949463,
          -0.9907582402229309,
          -5.504858016967773,
          8.14164924621582,
          -13.465761184692383,
          -10.77315616607666,
          -3.9044508934020996,
          3.737536668777466,
          -1.428876519203186,
          9.124066352844238,
          -0.7386119365692139,
          -12.022115707397461,
          -5.18612813949585,
          6.823336124420166,
          -1.0713286399841309,
          -5.910802841186523,
          2.62011981010437,
          6.183284282684326,
          -8.82889461517334,
          -6.815324783325195,
          2.018547773361206,
          -7.495772361755371,
          -4.404946804046631,
          12.079072952270508,
          0.8441000580787659,
          -13.839707374572754,
          -12.1129789352417,
          -11.163966178894043,
          -6.289028167724609,
          -2.4438860416412354,
          9.665572166442871,
          5.382075786590576,
          -3.951322555541992,
          -5.451674461364746,
          11.067103385925293,
          -2.3722286224365234,
          -12.124850273132324,
          6.404559135437012,
          -5.199825763702393,
          -0.5403127670288086,
          10.033642768859863,
          12.11854076385498,
          -8.373905181884766,
          -0.7159909009933472,
          -1.4616304636001587,
          -1.1014981269836426,
          -2.4620020389556885,
          10.367440223693848,
          -6.5299553871154785,
          -0.082676000893116,
          10.66346549987793,
          8.469688415527344,
          -0.7415352463722229,
          -12.133615493774414,
          2.5751404762268066,
          -2.807614326477051,
          8.748435020446777,
          7.371901988983154,
          -2.1353940963745117,
          -6.333856582641602,
          -9.066567420959473,
          -10.509390830993652,
          -3.93113374710083,
          -11.917343139648438,
          8.903130531311035,
          0.8602572679519653,
          -5.925321102142334,
          -10.059853553771973,
          -9.710797309875488,
          7.02524471282959,
          2.1891162395477295,
          12.127302169799805,
          -11.542932510375977,
          -5.842585563659668,
          -10.613645553588867,
          -10.659706115722656,
          -6.723841190338135,
          7.9603047370910645,
          10.425769805908203,
          -4.347818374633789,
          -7.762813091278076,
          -8.077322006225586,
          7.34098482131958,
          -10.881903648376465,
          -13.810404777526855,
          -2.3517332077026367,
          10.43488597869873,
          7.869259357452393,
          8.524757385253906,
          -14.949971199035645,
          -3.683356285095215,
          -2.3586277961730957,
          0.5224742889404297,
          -3.8428115844726562,
          -2.7447762489318848,
          9.36004638671875,
          10.984746932983398,
          11.053633689880371,
          3.3361575603485107,
          12.43099594116211,
          11.591104507446289,
          7.674988746643066,
          -2.5963921546936035,
          -2.034327983856201,
          -0.030175909399986267,
          -2.8674914836883545,
          9.558587074279785,
          -2.916332244873047,
          -6.160287380218506,
          11.104999542236328,
          -6.215086936950684,
          12.244305610656738,
          -8.194889068603516,
          -10.596090316772461,
          -2.214698314666748,
          10.970707893371582,
          12.576723098754883,
          12.425724029541016,
          -8.97413444519043,
          10.454591751098633,
          -7.089000225067139,
          8.597277641296387,
          -0.3150005638599396,
          10.622820854187012,
          9.967191696166992,
          -1.3484389781951904,
          -9.52560043334961,
          8.35329532623291,
          8.415543556213379,
          -1.5229566097259521,
          -8.155641555786133,
          8.260224342346191,
          -5.262938976287842,
          -10.878106117248535,
          -14.444515228271484,
          -0.9843580722808838,
          6.837341785430908,
          -9.991082191467285,
          -7.813365459442139,
          -5.016427040100098,
          -1.046815037727356,
          7.3767547607421875,
          -13.915301322937012,
          8.398115158081055,
          -5.006795883178711,
          11.32387924194336,
          7.926854133605957,
          12.893807411193848,
          12.088990211486816,
          -8.086979866027832,
          0.7276658415794373,
          0.22631560266017914,
          8.932448387145996,
          -4.053415298461914,
          -10.508183479309082,
          -6.17641544342041,
          -1.429876446723938,
          9.297002792358398,
          -7.456117630004883,
          0.9004611372947693,
          7.192915439605713,
          -3.589639663696289,
          10.363368034362793,
          12.262702941894531,
          13.075007438659668,
          -10.47684097290039,
          11.978116035461426,
          -0.9250787496566772,
          12.275703430175781,
          -8.79788875579834,
          -7.178870677947998,
          3.650998115539551,
          11.352927207946777,
          -4.3974432945251465,
          0.6509668231010437,
          13.069488525390625,
          -1.4656603336334229,
          -7.674262046813965,
          12.051003456115723,
          8.72363567352295,
          2.2677769660949707,
          6.420907974243164,
          3.401747226715088,
          -12.438612937927246,
          11.976877212524414,
          -13.440937995910645,
          -2.393623113632202,
          10.790547370910645,
          -5.957431316375732,
          1.3492430448532104,
          -6.547856330871582,
          -6.147302627563477,
          -7.174947261810303,
          0.5828967690467834,
          -10.088732719421387,
          9.575031280517578,
          3.998506546020508,
          -9.992915153503418,
          -3.154665231704712,
          -4.224944591522217,
          -9.632134437561035,
          -8.719828605651855,
          -11.080708503723145,
          -8.736741065979004,
          4.070796489715576,
          -4.318663120269775,
          -3.310753107070923,
          4.926506519317627,
          -1.9592616558074951,
          6.855656147003174,
          10.07451343536377,
          12.798151969909668,
          -2.9198551177978516,
          -4.949787139892578,
          -6.209598064422607,
          11.731953620910645,
          -6.199050426483154,
          -1.2741336822509766,
          8.277373313903809,
          2.390740394592285,
          -3.096491813659668,
          -5.5394062995910645,
          -4.061683177947998,
          8.872379302978516,
          -7.910712242126465,
          0.4864961504936218,
          -3.9202964305877686,
          -6.657527446746826,
          9.62042236328125,
          -7.198135852813721,
          -4.309239387512207,
          4.042538642883301,
          -10.261065483093262,
          -0.040768418461084366,
          -10.688302040100098,
          -12.124833106994629,
          7.050870895385742,
          9.3441162109375,
          10.235629081726074,
          10.718878746032715,
          5.958535194396973,
          -11.456116676330566,
          -8.386466026306152,
          7.719980239868164,
          10.379606246948242,
          -3.8087761402130127,
          -11.604843139648438,
          1.000612735748291,
          -6.775964260101318,
          -5.017479419708252,
          -0.33494260907173157,
          -3.7656819820404053,
          -0.632972240447998,
          0.4286011755466461,
          -4.310013294219971,
          1.7708162069320679,
          -1.5149140357971191,
          7.950575828552246,
          -6.040968418121338,
          -1.21047043800354,
          -0.3596267104148865,
          -14.633625984191895,
          -3.684570789337158,
          -7.58858585357666,
          -6.017183303833008,
          4.762042999267578,
          -3.0241777896881104,
          -6.517097473144531,
          2.3037028312683105,
          7.971020698547363,
          11.678661346435547,
          9.404410362243652,
          7.599600791931152,
          -3.696293592453003,
          -4.508632659912109,
          -4.454387664794922,
          -1.245510458946228,
          10.494894981384277,
          1.7807451486587524,
          -0.47219306230545044,
          1.2547470331192017,
          -0.6464232802391052,
          6.405095100402832,
          -3.1623587608337402,
          -14.192251205444336,
          12.835065841674805,
          -0.23183010518550873,
          8.691787719726562,
          0.6050341725349426,
          -10.09768295288086,
          13.253288269042969,
          9.402812957763672,
          8.403733253479004,
          4.301202774047852,
          7.333374977111816,
          1.3258922100067139,
          -7.859577178955078,
          -0.26258090138435364,
          11.432233810424805,
          -8.547075271606445,
          -14.69927978515625,
          6.400801181793213,
          4.302825927734375,
          12.989248275756836,
          8.655755996704102,
          6.8479180335998535,
          -0.1379503309726715,
          10.00255012512207,
          -5.25826358795166,
          -7.818896293640137,
          -1.1578537225723267,
          -7.270192623138428,
          -10.528705596923828,
          -7.015127182006836,
          9.113006591796875,
          7.174900531768799,
          -0.4613734185695648,
          1.0529539585113525,
          -0.08530420809984207,
          -0.8497641682624817,
          -0.21287667751312256,
          8.652192115783691,
          -4.1908392906188965,
          -6.0041375160217285,
          -6.191120624542236,
          -13.166657447814941,
          -10.913275718688965,
          -9.64367961883545,
          -2.5404577255249023,
          6.1090826988220215,
          0.4964908957481384,
          0.7436133027076721,
          -3.5722930431365967,
          -2.8181281089782715,
          -8.998753547668457,
          -8.899332046508789,
          -3.5649356842041016,
          -12.672616004943848,
          7.380856513977051,
          -6.25364351272583,
          8.857791900634766,
          -1.2290347814559937,
          -1.4372330904006958,
          -10.073014259338379,
          4.417686462402344,
          -9.88800048828125,
          -7.347261905670166,
          -0.05986800789833069,
          3.9904415607452393,
          0.5705770254135132,
          2.1067304611206055,
          -3.763104200363159,
          -9.169270515441895,
          -6.170109272003174,
          6.589024543762207,
          7.660285949707031,
          11.58749771118164,
          2.542686700820923,
          -4.401702404022217,
          8.333637237548828,
          1.9425715208053589,
          -1.4984248876571655,
          6.465600490570068,
          -12.341434478759766,
          -6.611280918121338,
          5.329925060272217,
          3.162747383117676,
          2.0927093029022217,
          3.19303035736084,
          -7.578482627868652,
          -0.6499554514884949,
          4.53886079788208,
          2.69569730758667,
          -4.9203057289123535,
          -2.425982713699341,
          2.810458183288574,
          2.706406354904175,
          -4.119073867797852,
          10.901395797729492,
          -11.63744831085205,
          -4.985440731048584,
          3.300797939300537,
          -0.9122220873832703,
          2.7391364574432373,
          -2.2574462890625,
          -6.475879192352295,
          -3.4468774795532227,
          -2.6022396087646484,
          -3.845048189163208,
          8.623687744140625,
          0.8708302974700928,
          0.08722825348377228,
          -2.226879596710205,
          -7.53365421295166,
          8.66513729095459,
          11.338003158569336,
          11.50645923614502,
          3.420858860015869,
          -0.639409065246582,
          5.986155986785889,
          6.775774955749512,
          1.601426601409912,
          8.755931854248047,
          10.955374717712402,
          8.293418884277344,
          -8.753039360046387,
          11.245074272155762,
          0.01589244417846203,
          -9.033385276794434,
          10.009407043457031,
          -11.824043273925781,
          -10.453993797302246,
          -5.961862087249756,
          11.589290618896484,
          8.355051040649414,
          -0.9450896382331848,
          3.7475383281707764,
          -10.631263732910156,
          1.5597413778305054,
          0.6890137791633606,
          -3.867814779281616,
          -11.917476654052734,
          9.551570892333984,
          -13.558050155639648,
          -11.97866439819336,
          11.098986625671387,
          -12.370570182800293,
          12.395197868347168,
          8.384414672851562,
          6.026216983795166,
          1.1181836128234863,
          -13.710113525390625,
          7.543344020843506,
          -5.630224704742432,
          -0.283176988363266,
          -4.300354957580566,
          13.230137825012207,
          9.166208267211914,
          8.175597190856934,
          -13.000910758972168,
          -6.308077812194824,
          9.077591896057129,
          12.935598373413086,
          0.4012959599494934,
          0.7195589542388916,
          -4.144311428070068,
          9.994012832641602,
          6.786859512329102,
          -4.6282830238342285,
          7.596827983856201,
          3.087986469268799,
          12.510106086730957,
          -11.409317970275879,
          -10.953462600708008,
          -3.87090802192688,
          9.870590209960938,
          9.665762901306152,
          -8.184799194335938,
          -2.3753700256347656,
          0.39863502979278564,
          -1.8635107278823853,
          -9.750374794006348,
          12.158538818359375,
          -9.61294937133789,
          -4.174665927886963,
          -5.336217880249023,
          -7.642153263092041,
          -5.917769432067871,
          9.404231071472168,
          0.5593239068984985,
          12.444067001342773,
          9.846981048583984,
          -6.85469388961792,
          9.383411407470703,
          -6.248298168182373,
          -2.9659626483917236,
          -1.465875506401062,
          -4.667876720428467,
          -5.691798210144043,
          11.060860633850098,
          11.468472480773926,
          -5.956665515899658,
          -6.492032051086426,
          -1.7964404821395874,
          -7.573280334472656,
          9.495515823364258,
          10.500433921813965,
          2.05953311920166,
          -4.773942470550537,
          6.692682266235352,
          4.662084102630615,
          1.069132924079895,
          11.45443344116211,
          -3.0937530994415283,
          8.943278312683105,
          12.435005187988281,
          -5.169501781463623,
          -2.8451013565063477,
          9.156682014465332,
          -0.10732415318489075,
          -4.64705753326416,
          -9.734400749206543,
          -12.486422538757324,
          -6.425378799438477,
          -8.228883743286133,
          9.488402366638184,
          9.14227294921875,
          -1.1768019199371338,
          -6.007309913635254,
          11.691615104675293,
          -1.4373023509979248,
          8.84660530090332,
          -2.5080790519714355,
          -8.48043155670166,
          -2.828413724899292,
          -9.027179718017578,
          9.054725646972656,
          2.7643227577209473,
          9.66260814666748,
          8.282333374023438,
          -1.9494842290878296,
          7.789331436157227,
          -7.155081272125244,
          -6.316097259521484,
          -15.33472728729248,
          7.2073516845703125,
          -3.948422431945801,
          7.163986682891846,
          -3.636331558227539,
          -2.270280599594116,
          -8.718863487243652,
          9.143548011779785,
          -13.05801773071289,
          -3.9124808311462402,
          -0.4229831397533417,
          -4.568492412567139,
          5.851643085479736,
          10.128740310668945,
          7.581827163696289,
          12.91317367553711,
          6.1257853507995605,
          -2.9984889030456543,
          -3.0866827964782715,
          -9.093310356140137,
          9.128122329711914,
          -2.2063846588134766,
          8.629751205444336,
          1.9387544393539429,
          9.87523365020752,
          0.8409243226051331,
          7.144944667816162,
          6.174360752105713,
          2.0727202892303467,
          7.559146881103516,
          7.458434104919434,
          -11.004945755004883,
          -2.407820224761963,
          -0.6168243885040283,
          -7.112250328063965,
          -0.9213504791259766,
          -4.666912078857422,
          -2.8135225772857666,
          9.195755004882812,
          10.460870742797852,
          -4.08870792388916,
          -9.036325454711914,
          6.660334587097168,
          11.683408737182617,
          -7.455259799957275,
          -3.8130688667297363,
          -5.394484996795654,
          11.757160186767578,
          3.158661127090454,
          13.021294593811035,
          5.561931610107422,
          -9.057165145874023,
          -8.717175483703613,
          -8.409330368041992,
          11.10184383392334,
          -8.087968826293945,
          -2.1198785305023193,
          7.380886077880859,
          -9.11436939239502,
          9.019691467285156,
          -11.819808959960938,
          6.336310863494873,
          -2.5275790691375732,
          -8.920747756958008,
          13.435467720031738,
          -2.883199453353882,
          -7.7698187828063965,
          -1.0331716537475586,
          -3.5127651691436768,
          7.768631458282471,
          -1.042553186416626,
          9.9996919631958,
          -9.056974411010742,
          -6.254908084869385,
          7.961167812347412,
          -1.9916417598724365,
          11.83187198638916,
          -7.016087532043457,
          12.595844268798828,
          3.501915454864502,
          12.03994083404541,
          10.157869338989258,
          -8.314482688903809,
          -12.220388412475586,
          6.393363952636719,
          0.443114697933197,
          -3.1481258869171143,
          -4.824674129486084,
          -0.633133590221405,
          -10.602267265319824,
          -8.992280960083008,
          1.0099990367889404,
          1.1334718465805054,
          -3.8670551776885986,
          -12.042865753173828,
          -4.210423469543457,
          11.003690719604492,
          12.60322380065918,
          7.125380992889404,
          -9.277215957641602,
          -8.006637573242188,
          12.4220552444458,
          2.621946096420288,
          0.2858779728412628,
          2.910456657409668,
          10.35148811340332,
          8.499704360961914,
          12.55861759185791,
          7.170416831970215,
          -11.203877449035645,
          -10.376585960388184,
          3.7566847801208496,
          0.7461629509925842,
          -4.188625812530518,
          2.4928441047668457,
          10.418630599975586,
          10.239888191223145,
          -14.60765266418457,
          3.0936930179595947,
          -6.677124977111816,
          -4.166868686676025,
          -3.8510775566101074,
          -6.802570343017578,
          8.854962348937988,
          -4.058095455169678,
          12.582427024841309,
          13.036389350891113,
          9.953781127929688,
          2.385284423828125,
          6.898749351501465,
          -3.276851177215576,
          9.542763710021973,
          -2.6298816204071045,
          8.712102890014648
         ]
        }
       ],
       "layout": {
        "coloraxis": {
         "colorbar": {
          "title": {
           "text": "Label"
          }
         },
         "colorscale": [
          [
           0,
           "#0d0887"
          ],
          [
           0.1111111111111111,
           "#46039f"
          ],
          [
           0.2222222222222222,
           "#7201a8"
          ],
          [
           0.3333333333333333,
           "#9c179e"
          ],
          [
           0.4444444444444444,
           "#bd3786"
          ],
          [
           0.5555555555555556,
           "#d8576b"
          ],
          [
           0.6666666666666666,
           "#ed7953"
          ],
          [
           0.7777777777777778,
           "#fb9f3a"
          ],
          [
           0.8888888888888888,
           "#fdca26"
          ],
          [
           1,
           "#f0f921"
          ]
         ]
        },
        "height": 800,
        "legend": {
         "tracegroupgap": 0
        },
        "scene": {
         "domain": {
          "x": [
           0,
           1
          ],
          "y": [
           0,
           1
          ]
         },
         "xaxis": {
          "title": {
           "text": "0"
          }
         },
         "yaxis": {
          "title": {
           "text": "1"
          }
         },
         "zaxis": {
          "title": {
           "text": "2"
          }
         }
        },
        "template": {
         "data": {
          "bar": [
           {
            "error_x": {
             "color": "#2a3f5f"
            },
            "error_y": {
             "color": "#2a3f5f"
            },
            "marker": {
             "line": {
              "color": "#E5ECF6",
              "width": 0.5
             }
            },
            "type": "bar"
           }
          ],
          "barpolar": [
           {
            "marker": {
             "line": {
              "color": "#E5ECF6",
              "width": 0.5
             }
            },
            "type": "barpolar"
           }
          ],
          "carpet": [
           {
            "aaxis": {
             "endlinecolor": "#2a3f5f",
             "gridcolor": "white",
             "linecolor": "white",
             "minorgridcolor": "white",
             "startlinecolor": "#2a3f5f"
            },
            "baxis": {
             "endlinecolor": "#2a3f5f",
             "gridcolor": "white",
             "linecolor": "white",
             "minorgridcolor": "white",
             "startlinecolor": "#2a3f5f"
            },
            "type": "carpet"
           }
          ],
          "choropleth": [
           {
            "colorbar": {
             "outlinewidth": 0,
             "ticks": ""
            },
            "type": "choropleth"
           }
          ],
          "contour": [
           {
            "colorbar": {
             "outlinewidth": 0,
             "ticks": ""
            },
            "colorscale": [
             [
              0,
              "#0d0887"
             ],
             [
              0.1111111111111111,
              "#46039f"
             ],
             [
              0.2222222222222222,
              "#7201a8"
             ],
             [
              0.3333333333333333,
              "#9c179e"
             ],
             [
              0.4444444444444444,
              "#bd3786"
             ],
             [
              0.5555555555555556,
              "#d8576b"
             ],
             [
              0.6666666666666666,
              "#ed7953"
             ],
             [
              0.7777777777777778,
              "#fb9f3a"
             ],
             [
              0.8888888888888888,
              "#fdca26"
             ],
             [
              1,
              "#f0f921"
             ]
            ],
            "type": "contour"
           }
          ],
          "contourcarpet": [
           {
            "colorbar": {
             "outlinewidth": 0,
             "ticks": ""
            },
            "type": "contourcarpet"
           }
          ],
          "heatmap": [
           {
            "colorbar": {
             "outlinewidth": 0,
             "ticks": ""
            },
            "colorscale": [
             [
              0,
              "#0d0887"
             ],
             [
              0.1111111111111111,
              "#46039f"
             ],
             [
              0.2222222222222222,
              "#7201a8"
             ],
             [
              0.3333333333333333,
              "#9c179e"
             ],
             [
              0.4444444444444444,
              "#bd3786"
             ],
             [
              0.5555555555555556,
              "#d8576b"
             ],
             [
              0.6666666666666666,
              "#ed7953"
             ],
             [
              0.7777777777777778,
              "#fb9f3a"
             ],
             [
              0.8888888888888888,
              "#fdca26"
             ],
             [
              1,
              "#f0f921"
             ]
            ],
            "type": "heatmap"
           }
          ],
          "heatmapgl": [
           {
            "colorbar": {
             "outlinewidth": 0,
             "ticks": ""
            },
            "colorscale": [
             [
              0,
              "#0d0887"
             ],
             [
              0.1111111111111111,
              "#46039f"
             ],
             [
              0.2222222222222222,
              "#7201a8"
             ],
             [
              0.3333333333333333,
              "#9c179e"
             ],
             [
              0.4444444444444444,
              "#bd3786"
             ],
             [
              0.5555555555555556,
              "#d8576b"
             ],
             [
              0.6666666666666666,
              "#ed7953"
             ],
             [
              0.7777777777777778,
              "#fb9f3a"
             ],
             [
              0.8888888888888888,
              "#fdca26"
             ],
             [
              1,
              "#f0f921"
             ]
            ],
            "type": "heatmapgl"
           }
          ],
          "histogram": [
           {
            "marker": {
             "colorbar": {
              "outlinewidth": 0,
              "ticks": ""
             }
            },
            "type": "histogram"
           }
          ],
          "histogram2d": [
           {
            "colorbar": {
             "outlinewidth": 0,
             "ticks": ""
            },
            "colorscale": [
             [
              0,
              "#0d0887"
             ],
             [
              0.1111111111111111,
              "#46039f"
             ],
             [
              0.2222222222222222,
              "#7201a8"
             ],
             [
              0.3333333333333333,
              "#9c179e"
             ],
             [
              0.4444444444444444,
              "#bd3786"
             ],
             [
              0.5555555555555556,
              "#d8576b"
             ],
             [
              0.6666666666666666,
              "#ed7953"
             ],
             [
              0.7777777777777778,
              "#fb9f3a"
             ],
             [
              0.8888888888888888,
              "#fdca26"
             ],
             [
              1,
              "#f0f921"
             ]
            ],
            "type": "histogram2d"
           }
          ],
          "histogram2dcontour": [
           {
            "colorbar": {
             "outlinewidth": 0,
             "ticks": ""
            },
            "colorscale": [
             [
              0,
              "#0d0887"
             ],
             [
              0.1111111111111111,
              "#46039f"
             ],
             [
              0.2222222222222222,
              "#7201a8"
             ],
             [
              0.3333333333333333,
              "#9c179e"
             ],
             [
              0.4444444444444444,
              "#bd3786"
             ],
             [
              0.5555555555555556,
              "#d8576b"
             ],
             [
              0.6666666666666666,
              "#ed7953"
             ],
             [
              0.7777777777777778,
              "#fb9f3a"
             ],
             [
              0.8888888888888888,
              "#fdca26"
             ],
             [
              1,
              "#f0f921"
             ]
            ],
            "type": "histogram2dcontour"
           }
          ],
          "mesh3d": [
           {
            "colorbar": {
             "outlinewidth": 0,
             "ticks": ""
            },
            "type": "mesh3d"
           }
          ],
          "parcoords": [
           {
            "line": {
             "colorbar": {
              "outlinewidth": 0,
              "ticks": ""
             }
            },
            "type": "parcoords"
           }
          ],
          "pie": [
           {
            "automargin": true,
            "type": "pie"
           }
          ],
          "scatter": [
           {
            "marker": {
             "colorbar": {
              "outlinewidth": 0,
              "ticks": ""
             }
            },
            "type": "scatter"
           }
          ],
          "scatter3d": [
           {
            "line": {
             "colorbar": {
              "outlinewidth": 0,
              "ticks": ""
             }
            },
            "marker": {
             "colorbar": {
              "outlinewidth": 0,
              "ticks": ""
             }
            },
            "type": "scatter3d"
           }
          ],
          "scattercarpet": [
           {
            "marker": {
             "colorbar": {
              "outlinewidth": 0,
              "ticks": ""
             }
            },
            "type": "scattercarpet"
           }
          ],
          "scattergeo": [
           {
            "marker": {
             "colorbar": {
              "outlinewidth": 0,
              "ticks": ""
             }
            },
            "type": "scattergeo"
           }
          ],
          "scattergl": [
           {
            "marker": {
             "colorbar": {
              "outlinewidth": 0,
              "ticks": ""
             }
            },
            "type": "scattergl"
           }
          ],
          "scattermapbox": [
           {
            "marker": {
             "colorbar": {
              "outlinewidth": 0,
              "ticks": ""
             }
            },
            "type": "scattermapbox"
           }
          ],
          "scatterpolar": [
           {
            "marker": {
             "colorbar": {
              "outlinewidth": 0,
              "ticks": ""
             }
            },
            "type": "scatterpolar"
           }
          ],
          "scatterpolargl": [
           {
            "marker": {
             "colorbar": {
              "outlinewidth": 0,
              "ticks": ""
             }
            },
            "type": "scatterpolargl"
           }
          ],
          "scatterternary": [
           {
            "marker": {
             "colorbar": {
              "outlinewidth": 0,
              "ticks": ""
             }
            },
            "type": "scatterternary"
           }
          ],
          "surface": [
           {
            "colorbar": {
             "outlinewidth": 0,
             "ticks": ""
            },
            "colorscale": [
             [
              0,
              "#0d0887"
             ],
             [
              0.1111111111111111,
              "#46039f"
             ],
             [
              0.2222222222222222,
              "#7201a8"
             ],
             [
              0.3333333333333333,
              "#9c179e"
             ],
             [
              0.4444444444444444,
              "#bd3786"
             ],
             [
              0.5555555555555556,
              "#d8576b"
             ],
             [
              0.6666666666666666,
              "#ed7953"
             ],
             [
              0.7777777777777778,
              "#fb9f3a"
             ],
             [
              0.8888888888888888,
              "#fdca26"
             ],
             [
              1,
              "#f0f921"
             ]
            ],
            "type": "surface"
           }
          ],
          "table": [
           {
            "cells": {
             "fill": {
              "color": "#EBF0F8"
             },
             "line": {
              "color": "white"
             }
            },
            "header": {
             "fill": {
              "color": "#C8D4E3"
             },
             "line": {
              "color": "white"
             }
            },
            "type": "table"
           }
          ]
         },
         "layout": {
          "annotationdefaults": {
           "arrowcolor": "#2a3f5f",
           "arrowhead": 0,
           "arrowwidth": 1
          },
          "coloraxis": {
           "colorbar": {
            "outlinewidth": 0,
            "ticks": ""
           }
          },
          "colorscale": {
           "diverging": [
            [
             0,
             "#8e0152"
            ],
            [
             0.1,
             "#c51b7d"
            ],
            [
             0.2,
             "#de77ae"
            ],
            [
             0.3,
             "#f1b6da"
            ],
            [
             0.4,
             "#fde0ef"
            ],
            [
             0.5,
             "#f7f7f7"
            ],
            [
             0.6,
             "#e6f5d0"
            ],
            [
             0.7,
             "#b8e186"
            ],
            [
             0.8,
             "#7fbc41"
            ],
            [
             0.9,
             "#4d9221"
            ],
            [
             1,
             "#276419"
            ]
           ],
           "sequential": [
            [
             0,
             "#0d0887"
            ],
            [
             0.1111111111111111,
             "#46039f"
            ],
            [
             0.2222222222222222,
             "#7201a8"
            ],
            [
             0.3333333333333333,
             "#9c179e"
            ],
            [
             0.4444444444444444,
             "#bd3786"
            ],
            [
             0.5555555555555556,
             "#d8576b"
            ],
            [
             0.6666666666666666,
             "#ed7953"
            ],
            [
             0.7777777777777778,
             "#fb9f3a"
            ],
            [
             0.8888888888888888,
             "#fdca26"
            ],
            [
             1,
             "#f0f921"
            ]
           ],
           "sequentialminus": [
            [
             0,
             "#0d0887"
            ],
            [
             0.1111111111111111,
             "#46039f"
            ],
            [
             0.2222222222222222,
             "#7201a8"
            ],
            [
             0.3333333333333333,
             "#9c179e"
            ],
            [
             0.4444444444444444,
             "#bd3786"
            ],
            [
             0.5555555555555556,
             "#d8576b"
            ],
            [
             0.6666666666666666,
             "#ed7953"
            ],
            [
             0.7777777777777778,
             "#fb9f3a"
            ],
            [
             0.8888888888888888,
             "#fdca26"
            ],
            [
             1,
             "#f0f921"
            ]
           ]
          },
          "colorway": [
           "#636efa",
           "#EF553B",
           "#00cc96",
           "#ab63fa",
           "#FFA15A",
           "#19d3f3",
           "#FF6692",
           "#B6E880",
           "#FF97FF",
           "#FECB52"
          ],
          "font": {
           "color": "#2a3f5f"
          },
          "geo": {
           "bgcolor": "white",
           "lakecolor": "white",
           "landcolor": "#E5ECF6",
           "showlakes": true,
           "showland": true,
           "subunitcolor": "white"
          },
          "hoverlabel": {
           "align": "left"
          },
          "hovermode": "closest",
          "mapbox": {
           "style": "light"
          },
          "paper_bgcolor": "white",
          "plot_bgcolor": "#E5ECF6",
          "polar": {
           "angularaxis": {
            "gridcolor": "white",
            "linecolor": "white",
            "ticks": ""
           },
           "bgcolor": "#E5ECF6",
           "radialaxis": {
            "gridcolor": "white",
            "linecolor": "white",
            "ticks": ""
           }
          },
          "scene": {
           "xaxis": {
            "backgroundcolor": "#E5ECF6",
            "gridcolor": "white",
            "gridwidth": 2,
            "linecolor": "white",
            "showbackground": true,
            "ticks": "",
            "zerolinecolor": "white"
           },
           "yaxis": {
            "backgroundcolor": "#E5ECF6",
            "gridcolor": "white",
            "gridwidth": 2,
            "linecolor": "white",
            "showbackground": true,
            "ticks": "",
            "zerolinecolor": "white"
           },
           "zaxis": {
            "backgroundcolor": "#E5ECF6",
            "gridcolor": "white",
            "gridwidth": 2,
            "linecolor": "white",
            "showbackground": true,
            "ticks": "",
            "zerolinecolor": "white"
           }
          },
          "shapedefaults": {
           "line": {
            "color": "#2a3f5f"
           }
          },
          "ternary": {
           "aaxis": {
            "gridcolor": "white",
            "linecolor": "white",
            "ticks": ""
           },
           "baxis": {
            "gridcolor": "white",
            "linecolor": "white",
            "ticks": ""
           },
           "bgcolor": "#E5ECF6",
           "caxis": {
            "gridcolor": "white",
            "linecolor": "white",
            "ticks": ""
           }
          },
          "title": {
           "x": 0.05
          },
          "xaxis": {
           "automargin": true,
           "gridcolor": "white",
           "linecolor": "white",
           "ticks": "",
           "title": {
            "standoff": 15
           },
           "zerolinecolor": "white",
           "zerolinewidth": 2
          },
          "yaxis": {
           "automargin": true,
           "gridcolor": "white",
           "linecolor": "white",
           "ticks": "",
           "title": {
            "standoff": 15
           },
           "zerolinecolor": "white",
           "zerolinewidth": 2
          }
         }
        },
        "title": {
         "text": "3d TSNE Plot for Outliers"
        },
        "width": 900
       }
      },
      "text/html": [
       "<div>\n",
       "        \n",
       "        \n",
       "            <div id=\"28f08299-70e3-4cf8-8a55-f5b8756b903a\" class=\"plotly-graph-div\" style=\"height:800px; width:900px;\"></div>\n",
       "            <script type=\"text/javascript\">\n",
       "                require([\"plotly\"], function(Plotly) {\n",
       "                    window.PLOTLYENV=window.PLOTLYENV || {};\n",
       "                    \n",
       "                if (document.getElementById(\"28f08299-70e3-4cf8-8a55-f5b8756b903a\")) {\n",
       "                    Plotly.newPlot(\n",
       "                        '28f08299-70e3-4cf8-8a55-f5b8756b903a',\n",
       "                        [{\"customdata\": [[0.263995357], [0.546092303], [0.33671410399999996], [0.092107835], [0.325261175], [0.212464853], [0.258565714], [0.869236755], [0.197077957], [0.292984504], [0.82178316], [0.796622959], [0.045577010999999994], [0.613660351], [0.9507445659999999], [0.33634633700000005], [0.034440667], [0.741544275], [0.18443265], [0.664514943], [0.16282485800000002], [0.729838445], [0.62837389], [0.057883660999999996], [0.445534827], [0.80183695], [0.27709612], [0.228634015], [0.834860657], [0.6697665110000001], [0.532527349], [0.17045907100000002], [0.5102884679999999], [0.977561989], [0.249775993], [0.9755006820000001], [0.613701727], [0.16742036300000002], [0.537472516], [0.379899131], [0.633897303], [0.633960424], [0.5499746529999999], [0.178172988], [0.85563814], [0.321796672], [0.8174905370000001], [0.254879417], [0.344140513], [0.8061457259999999], [0.27708167100000003], [0.544328519], [0.07708393], [0.273081458], [0.390877336], [0.349621385], [0.214549744], [0.206075222], [0.86461997], [0.9817088540000001], [0.33482964600000004], [0.648387061], [0.093643561], [0.837802698], [0.7603439670000001], [0.29140417399999996], [0.3413454], [0.7611124840000001], [0.541899775], [0.684176639], [0.983535597], [0.52081245], [0.328227724], [0.09715793800000001], [0.876088593], [0.870214512], [0.656086992], [0.306791514], [0.48126734], [0.259559174], [0.326123655], [0.930568042], [0.6583894], [0.689992335], [0.315781109], [0.5669050929999999], [0.637526619], [0.687540723], [0.324300602], [0.592704906], [0.7402531259999999], [0.5940328770000001], [0.596452977], [0.27768081699999997], [0.258329663], [0.142460864], [0.435533461], [0.7024990440000001], [0.58897535], [0.653304374], [0.336968524], [0.631244736], [0.73530076], [0.050390366], [0.064264924], [0.665359476], [0.917835245], [0.44651012], [0.661938199], [0.43935985299999997], [0.6875724040000001], [0.363462248], [0.6542621820000001], [0.578553536], [0.065927945], [0.550148559], [0.13918281400000002], [0.080004635], [0.278228358], [0.560124266], [0.53639864], [0.42653190399999996], [0.789109796], [0.742900474], [0.901692589], [0.650337401], [0.114057311], [0.260812592], [0.43991232], [0.964409284], [0.184401415], [0.345145446], [0.17589458100000002], [0.312514453], [0.674131879], [0.32825045], [0.598231057], [0.09259881699999999], [0.497916521], [0.419776521], [0.31217670000000003], [0.937857107], [0.049030963], [0.47610452600000003], [0.447397526], [0.295806058], [0.737363977], [0.625896253], [0.408813429], [0.437511156], [0.691351375], [0.935555275], [0.437846654], [0.072217715], [0.67636067], [0.468883999], [0.543820644], [0.6555226470000001], [0.6935289240000001], [0.10887831199999999], [0.285463743], [0.0], [0.706495497], [0.273530633], [0.292320271], [0.673984307], [0.12612182800000002], [0.9467074590000001], [0.9363388979999999], [0.8537553640000001], [0.7060713609999999], [0.693682186], [0.508527882], [0.34717038899999997], [0.704154263], [0.658730088], [0.155841557], [0.311085435], [0.281135347], [0.094587802], [0.6832609540000001], [0.9077292509999999], [0.29151267399999997], [0.752734459], [0.93482964], [0.071413953], [0.5948963270000001], [0.404672015], [0.13837621], [0.7473384679999999], [0.530882486], [0.282649594], [0.699335734], [0.056111250999999994], [0.855234998], [0.07789512700000001], [0.891649583], [0.38674227899999997], [0.27113158], [0.958888961], [0.085120869], [0.5269022489999999], [0.066577785], [0.841506738], [0.255342095], [0.060545771], [0.073385869], [0.187493723], [0.858365688], [0.090640352], [0.7097252270000001], [0.631300647], [0.24750447399999997], [0.822843584], [0.373476759], [0.625538582], [0.292951715], [0.299730324], [0.25121407], [0.344480551], [0.293064767], [0.7628032240000001], [0.7384708040000001], [0.674883265], [0.719151612], [0.13098021599999998], [0.511328036], [0.04492903], [0.560914449], [0.7440406409999999], [0.266961634], [0.644231853], [0.038113352], [0.05715529900000001], [0.34139246100000004], [0.7204636320000001], [0.402878236], [0.635148967], [0.320729467], [0.09120969400000001], [0.23414609], [0.8902211309999999], [0.602170884], [0.633652055], [0.806240837], [0.739731184], [0.465231269], [0.7321109], [0.373874305], [0.501587947], [0.11538315800000001], [0.7319466040000001], [0.41829872799999995], [0.062259590999999996], [0.391496379], [0.35984929], [0.24523562699999998], [0.610028339], [0.43540360200000006], [0.434309675], [0.523763344], [0.17118786600000002], [0.18773430300000002], [0.945014638], [0.027851097000000002], [0.68445706], [0.178014532], [0.643427879], [0.59588355], [0.372361682], [0.586103584], [0.271658852], [0.59951107], [0.468363088], [0.314515565], [0.21893726], [0.254716562], [0.25612815], [0.602259755], [0.134381075], [0.513887424], [0.624241636], [0.160251854], [0.580708108], [0.270540486], [0.832919932], [0.93032134], [0.719157884], [0.886720033], [0.098792281], [0.787174286], [0.365592376], [0.719576193], [0.8058956], [0.7555783340000001], [0.526005909], [0.68880424], [0.22111531199999998], [0.739369477], [0.408440236], [0.348926542], [0.433713763], [0.5964966070000001], [0.6942953000000001], [0.7090309659999999], [0.867652984], [0.89332545], [0.746020922], [0.538284443], [0.8922193140000001], [0.935175765], [0.260527707], [0.956780449], [0.204932484], [0.687733351], [0.329063619], [0.632149831], [0.463744506], [0.698859621], [0.385446564], [0.47997537700000004], [0.732279108], [0.3813543], [0.459326013], [0.257401434], [0.665014804], [0.103399542], [0.425284413], [0.943529051], [0.594750236], [0.543776817], [0.18203988], [0.23584208399999998], [0.585984497], [0.762013168], [0.6849829070000001], [0.676936933], [0.290184964], [0.48106822200000005], [0.492766033], [0.22185623399999999], [0.053875998], [0.082751144], [0.385366225], [0.702513961], [0.91553156], [0.082087436], [0.251280378], [0.41672181700000005], [0.277032672], [0.579539754], [0.569363476], [0.133399703], [0.265045463], [0.936571901], [0.252618554], [0.054033081], [0.802481439], [0.528197693], [0.9515026], [0.572121173], [0.752938227], [0.143857535], [0.513484576], [0.313322389], [0.6877973959999999], [0.37705984], [0.348226142], [0.67763282], [0.24138752100000002], [0.8506501790000001], [0.22034810300000002], [0.476445464], [0.690324025], [0.364695946], [0.6492491970000001], [0.9437019209999999], [0.529645971], [0.299097002], [0.96696247], [0.272005242], [0.314161447], [0.752020991], [0.221882453], [0.7203326729999999], [0.379204782], [0.60168653], [0.582932673], [0.950809853], [0.58830141], [0.880887227], [0.467857701], [0.8799021709999999], [0.619844009], [0.359002573], [0.291511278], [0.694157143], [0.727960353], [0.617703921], [0.39581257], [0.58317282], [0.710332374], [0.253753693], [0.049412227999999996], [0.728378695], [0.432432881], [0.58612345], [0.052342373], [0.053483902], [0.518729378], [0.933040208], [0.7035542840000001], [0.268989899], [0.733006927], [0.44435246700000003], [0.5833946210000001], [0.871172692], [0.42876707799999997], [0.30046084100000003], [0.9533294590000001], [0.606443965], [0.90986815], [0.714896449], [0.49734950899999997], [0.8530974859999999], [0.721804145], [0.303467328], [0.664485096], [0.27978062], [0.569481665], [0.628628926], [0.088368123], [0.733567326], [0.537436778], [0.638593691], [0.954726948], [0.632202332], [0.642134651], [0.744653087], [0.115714007], [0.48625007299999995], [0.440356144], [0.08272289], [0.511591027], [0.394627555], [0.224394], [0.626927584], [0.290254057], [0.779008053], [0.86610579], [0.873326081], [0.49548916], [0.594297695], [0.9182015840000001], [0.5770427539999999], [0.019467671000000002], [0.6702982820000001], [0.546595316], [0.591665146], [0.42155819], [0.6856085590000001], [0.340303024], [0.675626741], [0.319067345], [0.38849966399999997], [0.706949589], [0.559409515], [0.687663508], [0.7088045540000001], [0.6818880940000001], [0.42253510899999996], [0.320004605], [0.6582813679999999], [0.634154867], [0.7773320090000001], [0.812677205], [0.074280797], [0.39600217], [0.054933913], [0.825058925], [0.382642009], [0.8687298179999999], [0.588043346], [0.891551577], [0.10920046], [0.647682781], [0.724342512], [0.07016304400000001], [0.280882054], [0.039113261], [0.579641592], [0.639000922], [0.281745925], [0.647857744], [0.6479057970000001], [0.875226264], [0.567603305], [0.262940591], [0.268026042], [0.40519133], [0.479965451], [0.33552403], [0.777165379], [0.42548796299999997], [0.237986115], [0.142522971], [0.724176488], [0.234698933], [0.07818228099999999], [0.855990155], [0.270251765], [0.435517841], [0.762697513], [0.46448725799999996], [0.396112685], [0.37638092100000003], [0.29459467699999997], [0.6944921209999999], [0.622767949], [0.8475597220000001], [0.301463054], [0.912937812], [0.500017182], [0.902587935], [0.304517943], [0.299165673], [0.092014087], [0.488548917], [0.664664437], [0.26534954899999996], [0.723657021], [0.149262385], [0.04577339], [0.69661064], [0.42181486], [0.733845785], [0.418795386], [0.677443529], [0.26128360300000003], [0.268527767], [0.5443222360000001], [0.431632036], [0.981018141], [0.21498072399999998], [0.39472999299999995], [0.122224944], [0.297496875], [0.37490443100000004], [0.68698771], [0.388549207], [0.039296071], [0.73553424], [0.37929489299999997], [0.7321233859999999], [0.33922143899999996], [0.659450594], [0.054838642], [0.640112102], [0.30714170399999996], [0.39661190700000004], [0.420439161], [0.24171497399999997], [0.065893153], [0.9105219370000001], [0.697163103], [0.072559853], [0.81825094], [0.311888815], [0.961644609], [0.816325524], [0.14647302], [0.548753945], [0.946158087], [0.293992717], [0.331479643], [0.9062200309999999], [0.525540416], [0.83301411], [0.514849806], [0.574609024], [0.46871185299999996], [0.71002775], [0.645973276], [0.229794416], [0.551783393], [0.055822990999999995], [0.331750941], [0.715520198], [0.583924357], [0.30695769100000003], [0.7914782370000001], [0.16423663900000002], [0.065711219], [0.948993132], [0.080423835], [0.052495426], [0.566346135], [0.3630266], [0.605442195], [0.6308505839999999], [0.065791238], [0.28681707100000003], [0.685462839], [0.260853706], [0.659122429], [0.44317392200000005], [0.602063986], [0.060366910999999995], [0.781903153], [0.5145798070000001], [0.48388621299999995], [0.600213807], [0.49736405200000006], [0.411145245], [0.116999171], [0.34189014100000004], [0.746950848], [0.39629274600000003], [0.6221438429999999], [0.335271141], [0.140257137], [0.081620681], [0.069837569], [0.46894000799999996], [0.9908574170000001], [0.896616832], [0.255310561], [0.22464526699999998], [0.01991825], [0.296480415], [0.155458996], [0.577916714], [0.9563030309999999], [0.813464394], [0.529675785], [0.287671353], [0.48039136], [0.28104482199999997], [0.633196521], [0.09332537699999999], [0.28447398100000004], [0.052223775], [0.051129385], [0.967405608], [0.040045727999999996], [0.9085829209999999], [0.6621174160000001], [0.42470320899999997], [0.72207806], [0.666193327], [0.509681253], [0.7513536209999999], [0.279073124], [0.074927], [0.916359535], [0.31040327], [0.716604052], [0.485587085], [0.30607518100000003], [0.477558204], [0.7119239409999999], [0.066348638], [0.27453935100000004], [0.31082252], [0.47607312700000004], [0.186795565], [0.26654207], [0.070231142], [0.26951927], [0.800004713], [0.27363366699999997], [0.14647919199999998], [0.378318951], [0.373849065], [0.242170835], [0.249796488], [0.066591188], [0.372956798], [0.501812291], [0.313097752], [0.8802021959999999], [0.51981893], [0.364138746], [0.49268289600000004], [0.285732652], [0.890114985], [0.316419561], [0.26866354], [0.771975959], [0.968888992], [0.080334377], [0.7368282209999999], [0.30055807100000004], [0.9179503929999999], [0.465815039], [0.054036682], [0.963150123], [0.08965350300000001], [0.7076932340000001], [0.636416037], [0.539521117], [0.114757161], [0.357312419], [0.67639834], [0.43482839], [0.032326387000000005], [0.711365605], [0.187486519], [0.052789653], [0.5058636129999999], [0.927431873], [0.6809842559999999], [0.882822186], [0.495705441], [0.596240398], [0.320610701], [0.3413685], [0.159681797], [0.318133669], [0.8393010479999999], [0.06435925099999999], [0.470216633], [0.7762522909999999], [0.635843383], [0.62510543], [0.52959065], [0.986900166], [0.078585688], [0.233284267], [0.363330957], [0.7167169809999999], [0.37588979200000006], [0.223316889], [0.299343986], [0.538595767], [0.730297124], [0.66033077], [0.435296009], [0.326494313], [0.854402708], [0.5734938470000001], [0.757786135], [0.704743233], [0.281575597], [0.671968208], [0.313726015], [0.364338275], [0.368216396], [0.38629520700000003], [0.655971865], [0.5660252729999999], [0.424999093], [0.090110371], [0.772350538], [0.331047258], [0.273716188], [0.23877568], [0.37307977200000003], [0.331185868], [0.256134531], [0.678373225], [0.43463833799999996], [0.654668307], [0.986681065], [0.371520495], [0.408359618], [0.40932365], [0.283412082], [0.395246531], [0.010984428000000001], [0.306013869], [0.266194806], [0.299318521], [0.318293946], [0.74282591], [0.09766432900000001], [0.079666942], [0.613258767], [0.99443072], [0.568835082], [0.7080345159999999], [0.37059271899999996], [0.669867361], [0.651295625], [0.462531569], [0.7196256190000001], [0.45377248], [0.394863946], [0.323974831], [0.146454724], [0.7790670409999999], [0.401828915], [0.601479585], [0.856423023], [0.565242962], [0.301225108], [0.282108144], [0.594378011], [0.705312368], [0.5408696279999999], [0.319249574], [0.36176613799999996], [0.625000704], [0.316287401], [0.047239021], [0.801182233], [0.508474436], [0.8178934109999999], [0.399235601], [0.9740519990000001], [0.72241535], [0.039564764], [0.908684108], [0.47301013399999997], [0.7180496279999999], [0.7634790690000001], [0.6475965370000001], [0.8949973859999999], [0.22282590100000002], [0.359012234], [0.944910252], [0.297877816], [0.172517997], [0.556586265], [0.876481735], [0.48667784299999994], [0.459496733], [0.47412637700000004], [0.70101144], [0.337597387], [0.537578886], [0.966992448], [0.056849545], [0.233249065], [0.380054711], [0.602929443], [0.303847999], [0.170194553], [0.972168554], [0.332168927], [0.6887286890000001], [0.110773401], [0.273352065], [0.572939678], [0.491457065], [0.281389999], [0.821697261], [0.6749776829999999], [0.585134549], [0.7105961159999999], [0.040488789], [0.568054311], [0.321752928], [0.611850232], [0.926096887], [0.618347428], [0.667629785], [0.39773346600000004], [0.290875487], [0.594375103], [0.508255233], [0.338571357], [0.43230234700000003], [0.302221978], [0.87619819], [0.080204492], [0.092333532], [0.09365644699999999], [0.6084523510000001], [0.732654598], [0.944158855], [0.26742308], [0.731124201], [0.661308553], [0.38776626200000003], [0.962585273], [0.322067067], [0.6340810929999999], [0.475345002], [0.35355897299999994], [0.8859363159999999], [0.876798106], [0.221581064], [0.394362449], [0.8050356759999999], [0.452898486], [0.592520516], [0.761026394], [0.245049023], [0.37213936299999995], [0.681054822], [0.7471431479999999], [0.9207395290000001], [0.097207945], [0.699302998], [0.721647006], [0.5353561139999999], [0.738293805], [0.7064675509999999], [0.67395061], [0.7112122909999999], [0.302558708], [0.080097855], [0.707010837], [0.512248622], [0.659627472], [0.657559694], [0.100645606], [0.92665363], [0.892879338], [0.839157508], [0.890959718], [0.556754471], [0.960361937], [0.631037864], [0.029838065], [0.278843351], [0.926157705], [0.551504258], [0.485942349], [0.43723469600000003], [0.25231801800000003], [0.515466972], [0.43725229600000004], [0.493724207], [0.83324725], [0.317521477], [0.28623456199999997], [0.726833965], [0.495667033], [0.028645255], [0.31967191699999997], [0.674344598], [0.7660371890000001], [0.65456992], [0.7565143809999999], [0.528253719], [0.38971949100000003], [0.355087459], [0.87015202], [0.7390833059999999], [0.305761846], [0.411587673], [0.063633094], [0.735409395], [0.605916669], [0.539395562], [0.566183532], [0.674795186], [0.070993366], [0.12526410000000002], [0.279601492], [0.952174402], [0.233806762], [0.43724742899999997], [0.925423095], [0.433498634], [0.52517902], [0.088435529], [0.447677638], [0.647000631], [0.9036033370000001], [0.265790738], [0.66419695], [0.498120658], [0.49018894399999996], [0.747084187], [0.906783648], [0.678770917], [0.348599859], [0.294839683], [0.705691827], [0.211917931], [0.063201124], [0.276699543], [0.672459395], [0.8082059490000001], [0.296538373], [0.16012686199999998], [0.439385032], [0.555951416], [0.386240112], [0.158689619], [0.214499855], [0.299579429], [0.569161656], [0.488614799], [0.8782950209999999], [0.649380949], [0.465713341], [0.16813774], [0.87529545], [0.8411323409999999], [0.33292081], [0.5130478589999999], [0.30505507800000004], [0.8126269909999999], [0.25096706], [0.5024355779999999], [0.45799074100000003]], \"hoverlabel\": {\"namelength\": 0}, \"hovertemplate\": \"0=%{x}<br>1=%{y}<br>2=%{z}<br>Feature=%{customdata[0]}<br>Label=%{marker.color}\", \"legendgroup\": \"\", \"marker\": {\"color\": [0, 0, 1, 1, 0, 0, 0, 0, 1, 1, 0, 1, 0, 1, 1, 1, 0, 1, 1, 0, 1, 0, 0, 1, 1, 1, 0, 0, 1, 1, 0, 0, 1, 1, 0, 0, 1, 0, 0, 0, 0, 0, 0, 1, 0, 1, 1, 0, 1, 0, 0, 1, 0, 1, 1, 1, 1, 0, 0, 1, 0, 1, 0, 1, 0, 1, 0, 0, 0, 0, 0, 0, 0, 0, 0, 0, 0, 0, 0, 0, 0, 0, 0, 0, 0, 0, 0, 0, 0, 0, 0, 0, 0, 0, 0, 0, 0, 0, 0, 0, 0, 0, 0, 0, 0, 0, 0, 0, 0, 0, 0, 0, 0, 0, 0, 0, 0, 0, 0, 0, 0, 0, 0, 0, 0, 0, 0, 0, 0, 0, 0, 0, 0, 0, 0, 0, 0, 0, 0, 0, 0, 0, 0, 0, 0, 0, 0, 0, 0, 0, 0, 0, 0, 0, 0, 0, 0, 0, 0, 0, 0, 0, 0, 0, 0, 0, 0, 0, 0, 0, 0, 0, 0, 0, 0, 0, 0, 0, 0, 0, 0, 0, 0, 0, 0, 0, 0, 0, 0, 0, 0, 0, 0, 0, 0, 0, 0, 0, 0, 0, 0, 0, 0, 0, 0, 0, 0, 0, 0, 0, 0, 0, 0, 0, 0, 0, 0, 0, 0, 0, 0, 0, 0, 0, 0, 0, 0, 0, 0, 0, 0, 0, 0, 0, 0, 0, 0, 0, 0, 0, 0, 0, 0, 0, 0, 0, 0, 0, 0, 0, 0, 0, 0, 0, 0, 0, 0, 0, 0, 0, 0, 0, 0, 0, 0, 0, 0, 0, 0, 0, 0, 0, 0, 0, 0, 0, 0, 0, 0, 0, 0, 0, 0, 0, 0, 0, 0, 0, 0, 0, 0, 0, 0, 0, 0, 0, 0, 0, 0, 0, 0, 0, 0, 0, 0, 0, 0, 0, 0, 0, 0, 0, 0, 0, 0, 0, 0, 0, 0, 0, 0, 0, 0, 0, 0, 0, 0, 0, 0, 0, 0, 0, 0, 0, 0, 0, 0, 0, 0, 0, 0, 0, 0, 0, 0, 0, 0, 0, 0, 0, 0, 0, 0, 0, 0, 0, 0, 0, 0, 0, 0, 0, 0, 0, 0, 0, 0, 0, 0, 0, 0, 0, 0, 0, 0, 0, 0, 0, 0, 0, 0, 0, 0, 0, 0, 0, 0, 0, 0, 0, 0, 0, 0, 0, 0, 0, 0, 0, 0, 0, 0, 0, 0, 0, 0, 0, 0, 0, 0, 0, 0, 0, 0, 0, 0, 0, 0, 0, 0, 0, 0, 0, 0, 0, 0, 0, 0, 0, 0, 0, 0, 0, 0, 0, 0, 0, 0, 0, 0, 0, 0, 0, 0, 0, 0, 0, 0, 0, 0, 0, 0, 0, 0, 0, 0, 0, 0, 0, 0, 0, 0, 0, 0, 0, 0, 0, 0, 0, 0, 0, 0, 0, 0, 0, 0, 0, 0, 0, 0, 0, 0, 0, 0, 0, 0, 0, 0, 0, 0, 0, 0, 0, 0, 0, 0, 0, 0, 0, 0, 0, 0, 0, 0, 0, 0, 0, 0, 0, 0, 0, 0, 0, 0, 0, 0, 0, 0, 0, 0, 0, 0, 0, 0, 0, 0, 0, 0, 0, 0, 0, 0, 0, 0, 0, 0, 0, 0, 0, 0, 0, 0, 0, 0, 0, 0, 0, 0, 0, 0, 0, 0, 0, 0, 0, 0, 0, 0, 0, 0, 0, 0, 0, 0, 0, 0, 0, 0, 0, 0, 0, 0, 0, 0, 0, 0, 0, 0, 0, 0, 0, 0, 0, 0, 0, 0, 0, 0, 0, 0, 0, 0, 0, 0, 0, 0, 0, 0, 0, 0, 0, 0, 0, 0, 0, 0, 0, 0, 0, 0, 0, 0, 0, 0, 0, 0, 0, 0, 0, 0, 0, 0, 0, 0, 0, 0, 0, 0, 0, 0, 0, 0, 0, 0, 0, 0, 0, 0, 0, 0, 0, 0, 0, 0, 0, 0, 0, 0, 0, 0, 0, 0, 0, 0, 0, 0, 0, 0, 0, 0, 0, 0, 0, 0, 0, 0, 0, 0, 0, 0, 0, 0, 0, 0, 0, 0, 0, 0, 0, 0, 0, 0, 0, 0, 0, 0, 0, 0, 0, 0, 0, 0, 0, 0, 0, 0, 0, 0, 0, 0, 0, 1, 1, 0, 1, 0, 0, 0, 1, 1, 1, 1, 0, 1, 1, 1, 0, 1, 1, 1, 0, 1, 0, 1, 1, 1, 1, 0, 0, 0, 0, 0, 0, 0, 0, 0, 0, 0, 0, 0, 0, 0, 0, 0, 0, 0, 0, 0, 0, 0, 0, 0, 0, 0, 0, 0, 0, 0, 0, 0, 0, 0, 0, 0, 0, 0, 0, 0, 0, 0, 0, 0, 0, 0, 0, 0, 0, 0, 0, 0, 0, 0, 0, 0, 0, 0, 0, 0, 0, 0, 0, 0, 0, 0, 0, 0, 0, 0, 0, 0, 0, 0, 0, 0, 0, 0, 0, 0, 0, 0, 0, 0, 0, 0, 0, 0, 0, 0, 0, 0, 0, 0, 0, 0, 0, 0, 0, 0, 0, 0, 0, 0, 0, 0, 0, 0, 0, 0, 0, 0, 0, 0, 0, 0, 0, 0, 0, 0, 0, 0, 0, 0, 0, 0, 0, 0, 0, 0, 0, 0, 0, 0, 0, 0, 0, 0, 0, 0, 0, 0, 0, 0, 0, 0, 0, 0, 0, 0, 0, 0, 0, 0, 0, 0, 0, 0, 0, 0, 0, 0, 0, 0, 0, 0, 0, 0, 0, 0, 0, 0, 0, 0, 0, 0, 0, 0, 0, 0, 0, 0, 0, 0, 0, 0, 0, 0, 0, 0, 0, 0, 0, 0, 0, 0, 0, 0, 0, 0, 0, 0, 0, 0, 0, 0, 0, 0, 0, 0, 0, 0, 0, 0, 0, 0, 0, 0, 0, 0, 0, 0, 0, 0, 0, 0, 0, 0, 0, 0, 0, 0, 0, 0, 0, 0, 0, 0, 0, 0, 0, 0, 0, 0, 0, 0, 0, 0, 0, 0, 0, 0, 0, 0, 0, 0, 0, 0, 0, 0, 0, 0, 0, 0, 0, 0, 0, 0, 0, 0, 0, 0, 0], \"coloraxis\": \"coloraxis\", \"opacity\": 0.7, \"symbol\": \"circle\"}, \"mode\": \"markers\", \"name\": \"\", \"scene\": \"scene\", \"showlegend\": false, \"type\": \"scatter3d\", \"x\": [2.174189567565918, 0.3496287763118744, 4.8081817626953125, 10.115253448486328, 0.34038376808166504, 8.938645362854004, -1.6293647289276123, 3.0890378952026367, 2.8571524620056152, 4.167530059814453, 1.991641879081726, -1.5494428873062134, 10.969195365905762, -3.146042823791504, 0.7815486788749695, -1.0580973625183105, 10.907331466674805, -8.33031940460205, 5.8384928703308105, -2.2832446098327637, 9.24043083190918, -2.0519845485687256, -2.3918864727020264, 3.491299867630005, 5.3684163093566895, -2.414355754852295, -1.5385221242904663, -0.9238978624343872, 0.12097923457622528, 4.179050922393799, 0.2587408423423767, 2.6832640171051025, -4.463637351989746, -0.15303343534469604, 1.3768997192382812, -1.8491464853286743, -0.05545107275247574, -1.244712233543396, -2.2411272525787354, 7.451602458953857, -3.648453950881958, 1.5189012289047241, -1.4953516721725464, 6.4569478034973145, 1.9177287817001343, -1.8621623516082764, 1.0052424669265747, 3.106049060821533, -1.5403391122817993, -4.861261367797852, 5.597289085388184, -1.0873494148254395, -1.0508654117584229, -1.6609758138656616, 9.320955276489258, 6.555526256561279, 6.984812259674072, 5.516160011291504, 0.1209007054567337, 0.10729269683361053, 4.817693710327148, -4.904972553253174, 1.8890149593353271, 1.591947078704834, -0.6419662833213806, 0.5347381830215454, 3.131166696548462, -7.8165388107299805, -0.4821625351905823, 4.585829734802246, 4.142265319824219, 6.360456943511963, -1.3477717638015747, 8.254404067993164, -3.8782410621643066, -2.8365702629089355, 1.3875871896743774, 2.902996301651001, -7.9481730461120605, -7.079959869384766, -6.128828048706055, -4.815499305725098, 4.942887306213379, -5.004518508911133, -1.7684926986694336, 0.9277978539466858, -1.4098044633865356, -4.690669536590576, 2.608431339263916, -4.83038854598999, -3.187713146209717, 4.039141654968262, -0.1623523086309433, -1.4600492715835571, 4.279795169830322, 2.83543062210083, -4.121815204620361, -1.2100263833999634, -7.188507556915283, 2.632449150085449, -1.1240838766098022, -4.648947238922119, -0.773273766040802, -1.7817273139953613, 1.6564217805862427, -4.947696208953857, -3.17556095123291, -2.8748064041137695, -4.418139934539795, 2.29992938041687, -6.036046028137207, -2.82340669631958, 3.8274176120758057, -2.6716957092285156, 1.8280689716339111, -6.9608473777771, 2.428701877593994, -1.4442261457443237, 9.413570404052734, -7.286897659301758, -7.418500900268555, 2.3016891479492188, -4.563786029815674, -3.513496160507202, -4.986004829406738, -0.39425474405288696, 5.152044773101807, 8.34665298461914, -2.0848612785339355, -1.223823070526123, 4.829886436462402, -3.2762670516967773, 6.107022762298584, -0.0021251377183943987, -3.590247631072998, 0.5352030992507935, -0.5211915969848633, 8.5141019821167, 1.7072234153747559, 1.733507752418518, 7.244734764099121, -4.955043792724609, -0.8780717253684998, 3.5075302124023438, -7.854471683502197, -6.14555549621582, 3.6015071868896484, -6.179519176483154, 1.369470477104187, -1.2376559972763062, -6.0719990730285645, -4.440949440002441, 0.2056746780872345, -0.42116984724998474, -2.15895676612854, -5.000635623931885, -1.2166670560836792, -2.812962055206299, -3.336575984954834, 8.38591480255127, 2.186091899871826, 3.403757095336914, -6.026965141296387, -9.077924728393555, 8.178418159484863, -3.2958672046661377, 8.00958251953125, 5.174103260040283, 2.2957634925842285, -5.222208499908447, -2.833728313446045, -0.24230638146400452, 6.141898155212402, 1.93072509765625, -2.484417676925659, -5.065247058868408, 8.218528747558594, 2.077892541885376, 1.8114956617355347, 8.576848983764648, 0.21011820435523987, 2.817927598953247, 1.6693562269210815, 5.993971347808838, 5.747492790222168, 1.7180010080337524, 3.7234063148498535, 4.112464904785156, -4.9598188400268555, -4.576751232147217, -5.475761413574219, 2.522773027420044, 3.5583925247192383, 2.973494291305542, 0.9058495163917542, 0.42048850655555725, 0.30355003476142883, -2.8844857215881348, -0.7304609417915344, -4.431059837341309, 3.887873411178589, -0.16644567251205444, 4.945416450500488, 4.636379718780518, 3.6199522018432617, 3.1255359649658203, -9.188945770263672, 4.16290283203125, 3.114100456237793, 4.276989459991455, -3.4596505165100098, 5.140589714050293, 1.264949083328247, -6.830973148345947, 2.546440839767456, 0.7585611343383789, 3.4287848472595215, 4.033642768859863, 1.9863502979278564, 2.259895086288452, 4.22953462600708, -3.396451950073242, 3.6092939376831055, -5.623900413513184, -0.7164987921714783, -9.18308162689209, -2.3169398307800293, -6.348015308380127, -3.3915367126464844, 7.931753158569336, -0.3759295344352722, -0.27091550827026367, 7.932277202606201, 8.561694145202637, -6.152090072631836, -3.807569980621338, 4.315908908843994, -4.451173782348633, 8.076910972595215, 2.3119654655456543, 3.952394723892212, -1.881973147392273, 1.8160276412963867, -3.2005820274353027, 3.7151479721069336, -1.6011607646942139, -2.7932770252227783, -7.893972873687744, -2.678121566772461, -1.8240008354187012, 2.271623134613037, -0.07580823451280594, 6.643495082855225, 3.4474544525146484, -5.551056861877441, 2.4244401454925537, 1.4170619249343872, -2.7334773540496826, 7.977927207946777, -8.077363967895508, 0.8789799809455872, 3.3794877529144287, 3.000174045562744, -1.0407711267471313, 0.3649665117263794, -3.267019510269165, 7.34945011138916, 0.8675625920295715, -4.371657371520996, -2.8244948387145996, -2.68794846534729, 2.6759250164031982, 0.11417948454618454, 1.0856324434280396, 8.724162101745605, -0.564666748046875, 2.3288557529449463, 2.327200412750244, -3.039767265319824, -4.614408016204834, -2.5260207653045654, 0.9043908715248108, -4.781466960906982, -0.4077760577201843, 1.8241907358169556, -4.855609893798828, -6.520420074462891, -2.8991527557373047, -2.9909281730651855, 0.09633279591798782, -5.849040985107422, -2.28235125541687, -3.0865931510925293, -5.251780986785889, -4.853161811828613, 6.201985836029053, 4.4315924644470215, -9.558793067932129, -2.3083302974700928, 0.35281696915626526, 1.9460681676864624, -1.5656557083129883, 3.043226957321167, 4.341190814971924, 4.906208515167236, -4.4034199714660645, -2.9429378509521484, -5.006908416748047, -4.256730556488037, 6.033095836639404, 5.902284622192383, -6.147115230560303, 2.955484390258789, 1.7261216640472412, 0.9033533930778503, 1.3919289112091064, -5.472725868225098, -1.128801941871643, -4.989836692810059, 4.375609874725342, 1.0297915935516357, -2.344843626022339, 7.154536724090576, 2.7913405895233154, -9.69349193572998, -1.5497380495071411, 7.839756488800049, 6.0785064697265625, 4.4006547927856445, 5.464785575866699, 1.1947953701019287, 4.05016565322876, 2.6837642192840576, -4.513261795043945, -5.188070774078369, 2.3173775672912598, -1.1553725004196167, 1.0957127809524536, 3.5430057048797607, 4.97114896774292, 1.3841960430145264, -5.659814834594727, 9.561623573303223, 0.241516575217247, 3.9570236206054688, 4.6314778327941895, 0.5606250762939453, -3.732536554336548, 8.296591758728027, 4.369421482086182, -0.18309944868087769, 0.07308444380760193, -8.221368789672852, 2.8339526653289795, -6.542965888977051, -4.970745086669922, 0.08952204883098602, -2.950639247894287, 3.2992513179779053, -2.5626027584075928, 0.021986261010169983, -2.4518861770629883, 2.610436201095581, -4.451634883880615, 7.436992645263672, -6.460582733154297, 1.1869884729385376, 0.49223265051841736, -2.650594711303711, -2.793942928314209, -2.938581705093384, 3.726214647293091, 1.4759442806243896, 3.3058149814605713, 7.266152858734131, -3.9500489234924316, -5.024234294891357, 5.619874954223633, 4.051910877227783, -3.6759965419769287, 7.120884418487549, 1.4037816524505615, -3.617628574371338, -0.9554824829101562, -0.810278594493866, -4.012383460998535, -2.967219591140747, -2.150236129760742, -3.8176429271698, -3.410282850265503, -5.626651763916016, -4.514026641845703, -1.345449447631836, -4.563297271728516, -6.868931770324707, 2.874957799911499, -4.578405380249023, 4.030028820037842, -1.6252830028533936, -3.118164300918579, -7.008060932159424, -5.389120578765869, -6.552933216094971, 2.5544230937957764, 4.6134538650512695, 1.142497181892395, 1.076263427734375, 1.7388765811920166, 8.528060913085938, -0.10499149560928345, -4.195504188537598, -4.439448833465576, 1.168552041053772, -5.725306510925293, -1.3838082551956177, -0.9130638837814331, -6.189011573791504, -0.7855903506278992, 6.325942039489746, 4.44795036315918, -3.5355749130249023, -2.1886556148529053, -3.747767448425293, 1.0560519695281982, 2.157982349395752, -3.1475167274475098, -0.7292544841766357, 5.044424057006836, -0.31668636202812195, 1.7503224611282349, -6.376124858856201, 0.9417117238044739, -5.628467082977295, 6.076086521148682, 3.3183789253234863, -1.394004464149475, -7.392756462097168, 2.3592453002929688, -5.046382427215576, 3.9139161109924316, -4.942138195037842, -8.404216766357422, 3.0643391609191895, 2.31797194480896, 1.1068289279937744, 7.710577487945557, 3.518320083618164, -0.24505040049552917, -0.8640822768211365, 1.8779371976852417, -5.394855499267578, -0.19463787972927094, -3.6054165363311768, -4.961266040802002, 3.8891658782958984, 4.888767719268799, -1.6608175039291382, -0.05592700466513634, -7.264750003814697, -2.299182891845703, -0.9681757688522339, 1.6776821613311768, -0.9742138385772705, -5.207434177398682, 1.3533838987350464, -3.245063304901123, -4.371456623077393, 3.9523367881774902, -3.5359909534454346, 2.3633787631988525, -7.78732967376709, -6.270289421081543, -1.0837383270263672, -1.853421688079834, -4.2992024421691895, 0.34784096479415894, 0.13817904889583588, 6.205780982971191, 2.1690375804901123, -2.7682268619537354, -3.7013652324676514, -5.4012346267700195, 5.064943790435791, 3.5252130031585693, 2.0919253826141357, 2.808258295059204, -0.47901684045791626, -0.10722234100103378, 1.1455026865005493, 1.8873449563980103, -7.4870123863220215, 5.373696804046631, 7.320268154144287, 2.6087565422058105, 1.8269565105438232, 3.461254358291626, -0.9104018211364746, 7.24017858505249, -0.1932956874370575, -4.532359600067139, 1.516089677810669, -0.3598364591598511, -2.2235848903656006, 2.464921712875366, 0.13185231387615204, 1.5104076862335205, -5.724662780761719, -5.053473472595215, -0.7858564257621765, 2.8079464435577393, 1.259911298751831, -2.877601385116577, -3.878908634185791, 4.6626362800598145, -8.461709976196289, 0.10101047158241272, 1.137672781944275, -6.5528244972229, -0.4507143795490265, -3.2046055793762207, -2.4146339893341064, 5.65106725692749, 6.293664932250977, 4.637880802154541, 2.313141345977783, 2.832228899002075, 0.03608201816678047, -1.5705021619796753, -2.3085811138153076, 1.5998733043670654, -0.9753007888793945, 1.8554422855377197, 8.519529342651367, -2.457777500152588, 5.6968913078308105, 5.949794292449951, 0.8312145471572876, 3.9038898944854736, 2.045412540435791, -2.6948323249816895, 2.159728527069092, 5.816589832305908, -4.4036478996276855, 2.1307849884033203, -3.5045135021209717, 7.895354270935059, -6.026503086090088, 6.33226203918457, 3.824157953262329, -5.232182025909424, -2.2948200702667236, -1.357162356376648, 1.14982271194458, -3.255711793899536, -0.21622493863105774, 0.49268797039985657, 8.626023292541504, -2.7998578548431396, 7.103087425231934, 2.427867889404297, 2.0489020347595215, 1.753717303276062, -0.8191376328468323, 2.792065382003784, -6.920614242553711, -8.371942520141602, -4.544342994689941, -0.11631537973880768, 1.7885061502456665, 3.412980556488037, 0.8882308602333069, 4.598613739013672, 3.4913461208343506, 4.326995849609375, 0.7353532910346985, 5.652897834777832, -1.15431809425354, -3.8651773929595947, -0.05655946582555771, -8.006837844848633, -2.6191811561584473, -7.199891090393066, 2.968822479248047, -0.3912426233291626, -4.021458148956299, -9.273035049438477, 1.741563320159912, -4.22297477722168, -0.07211843132972717, 1.3551510572433472, -5.331329822540283, -3.4927055835723877, 3.1977157592773438, 3.8726437091827393, 3.415334463119507, -0.7094023823738098, 5.313414573669434, 1.2455450296401978, 5.270419597625732, 2.352329730987549, 8.779831886291504, 2.7167809009552, 2.7988662719726562, -0.08084149658679962, 4.6263933181762695, 1.8689253330230713, 5.3449482917785645, 2.6287736892700195, -7.644649982452393, 1.9087224006652832, 6.7074103355407715, -5.495152473449707, -3.1539387702941895, 1.0844576358795166, -4.495772361755371, -1.5216747522354126, 1.50247323513031, 3.312033176422119, -5.571445465087891, 1.503525733947754, 2.5892317295074463, -0.9045336246490479, 1.3281546831130981, -0.08374089002609253, 3.945122003555298, 3.7369863986968994, 1.7655704021453857, 1.027081847190857, 2.2985968589782715, -5.630669593811035, 4.182189464569092, -3.8118152618408203, -4.881102085113525, 5.280625343322754, -4.547002792358398, 1.9735016822814941, -6.798646450042725, 2.805948495864868, 3.6742563247680664, 3.931198835372925, 3.697134256362915, 4.3649396896362305, 0.40465468168258667, -4.499954700469971, 2.8390262126922607, -6.6971659660339355, 2.0082457065582275, -0.9318314790725708, 4.351929187774658, -0.8235616683959961, -2.283973217010498, -5.136154651641846, 1.901464581489563, 7.763890743255615, -5.284854888916016, 3.134841203689575, 3.464334726333618, -0.3615260720252991, -0.9150415658950806, 2.806957483291626, 4.004071235656738, -0.561388373374939, 1.7483737468719482, 1.1091537475585938, 5.848298072814941, 4.370950698852539, 9.33993911743164, 0.47807759046554565, -2.7795932292938232, -5.643837928771973, 2.2986698150634766, -5.097149848937988, 1.2319283485412598, 3.7307724952697754, 7.916212558746338, -2.8086869716644287, 3.4327127933502197, 5.272615432739258, 5.670467376708984, -0.204562246799469, 2.802093744277954, -2.1955153942108154, 0.8172785043716431, 6.268851280212402, -0.9661873579025269, -5.207724094390869, -6.859634876251221, -3.533217191696167, 3.274383544921875, 4.991602897644043, 2.064157009124756, 6.025735378265381, 1.6091241836547852, -1.167740821838379, 4.164079666137695, 9.316269874572754, -2.488210439682007, -8.925853729248047, -3.743290901184082, 3.9332497119903564, 3.4995577335357666, -11.158968925476074, -3.1584372520446777, 0.08483321964740753, -2.709378242492676, 5.520471096038818, 3.89121675491333, 6.79279899597168, 2.5975570678710938, 6.370898246765137, 0.03627430275082588, -3.0167384147644043, -4.539009094238281, -2.4156551361083984, -0.9875172972679138, 7.1244215965271, 8.899273872375488, -2.0889828205108643, -0.9385892152786255, -1.8932642936706543, 5.81669807434082, 3.113917350769043, -0.7303539514541626, -1.0845271348953247, 1.7980144023895264, -4.497613430023193, 2.2597198486328125, 10.005413055419922, 8.498961448669434, 7.5633134841918945, -3.583664894104004, 0.9418384432792664, 3.440669298171997, -6.64157247543335, -0.7900667190551758, 3.1905312538146973, -6.509102821350098, -8.524910926818848, -8.73637580871582, 6.01311731338501, -1.1541225910186768, -2.029292583465576, -1.3319954872131348, 8.182714462280273, -1.844100832939148, -9.259963035583496, -8.81495189666748, 4.920253276824951, 0.4672805964946747, 3.727168321609497, 0.31794193387031555, 1.355352759361267, 4.122495174407959, 0.9272398948669434, -3.256755828857422, 2.5201075077056885, -7.096272945404053, 3.258603572845459, 4.150878429412842, -4.622929096221924, 5.332228660583496, 1.3871662616729736, -2.869077444076538, -5.819543838500977, 1.3456685543060303, 0.6450147032737732, 1.1979427337646484, 1.9114824533462524, -0.8117026686668396, 2.4352898597717285, -6.6204423904418945, 1.5115046501159668, 1.8059983253479004, -0.482126384973526, -1.2973631620407104, -4.0317463874816895, 2.1354570388793945, 2.0957283973693848, -4.721245765686035, -1.146234393119812, -5.738612651824951, 1.0320806503295898, -0.0411151722073555, -6.166645526885986, -8.59023666381836, 4.655269622802734, 2.6457526683807373, 7.479771614074707, -8.956710815429688, -9.361388206481934, 4.6992621421813965, -4.342535972595215, 7.686257839202881, -3.8704187870025635, 1.2804009914398193, 1.9061652421951294, -3.2183797359466553, -0.3341744840145111, -6.135259628295898, -6.540693283081055, 0.9747442007064819, 0.7207479476928711, -1.5592808723449707, 1.0036829710006714, 2.3799526691436768, -4.121738433837891, 0.40383243560791016, -0.079834945499897, 6.636887073516846, -3.2759461402893066, 2.6901800632476807, 8.370530128479004, -4.311750888824463, -3.0136663913726807, 0.2631818354129791, -0.7385033369064331, -1.6416417360305786, 3.9059865474700928, 7.7911787033081055, 6.666234493255615, 2.683248996734619, 1.3333473205566406, -9.79964542388916, 2.1198999881744385, -4.206048011779785, -6.388488292694092, 6.44832706451416, -7.675951957702637, -2.641214370727539, 2.3922812938690186, 0.8233135938644409, -2.4803473949432373, 2.41787052154541, 7.375256538391113, -0.23724885284900665, 5.453789710998535, 1.2741044759750366, 3.105587959289551, 2.7679288387298584, 0.06095857545733452, -6.2735700607299805, -1.6537880897521973, 7.187592029571533, -2.9128708839416504, -1.5781499147415161, 7.05343770980835, -0.7650495171546936, -6.6368184089660645, -6.53541374206543, -5.19455623626709, 8.599496841430664, -3.4738576412200928, -0.03645094111561775, -6.689520359039307, -3.2685723304748535, -3.3610377311706543, 0.375471830368042, 7.215425968170166, -8.89102554321289, 7.766205787658691, -2.048722743988037, -7.72674036026001, 2.002873659133911, -9.016860961914062, -3.1566436290740967, 8.232617378234863, -1.002311110496521, -9.1216402053833, 5.014437198638916, -4.94003438949585, 1.5207911729812622, -2.393549680709839, -1.3663651943206787, -7.272944450378418, 4.054221153259277, -3.4203038215637207, -6.382227420806885, 1.560659408569336, 0.4798148274421692, 2.8884527683258057, -5.994708061218262, -6.9230875968933105, -4.964102268218994, 6.776378154754639, 3.8414134979248047, 4.170156955718994, -1.5348155498504639, -2.5809037685394287, 0.7738722562789917, 6.515909194946289, 3.222180128097534, 5.531393051147461, 3.168426036834717, -5.342092514038086, 6.203995704650879, -4.665003776550293, -0.5749551057815552, -4.199230194091797, -2.4087302684783936, -1.2958204746246338, -3.0781056880950928, 2.927233934402466, -3.367368221282959, 4.146191120147705, -9.643950462341309, 4.896583557128906, 4.405906677246094, 3.5554912090301514, 3.2843475341796875, -5.492979526519775, -5.201437473297119, -3.8244659900665283, 0.06735110282897949, -3.987074613571167, 6.944118022918701, 1.3619953393936157, 1.7152584791183472, -5.024507999420166, 6.630249500274658, 3.3642044067382812, -2.7907803058624268, 6.050073623657227, -7.633115768432617, -4.033730983734131, -2.5153796672821045, -6.397815227508545, 2.3948378562927246, 1.4414793252944946, -2.229207754135132, -3.2299206256866455, 1.9697089195251465, -0.5459733605384827, -1.305288553237915, 3.8402247428894043, 4.494702339172363, 1.8026444911956787, -4.508448600769043, 3.8477420806884766, 1.3129081726074219, 2.6976070404052734, 0.8513984084129333, 4.352880001068115, -8.322983741760254, 7.721282005310059, -5.88510799407959, 5.463876724243164, -7.728316307067871, -3.03963565826416, -3.2669179439544678, 2.261096954345703, 2.5021941661834717, 1.208315372467041, 3.7584712505340576, 7.6044487953186035, -1.5846766233444214, -6.244024276733398, 4.099637985229492, 3.3400590419769287, 7.650686264038086, 2.7477874755859375, -0.20633621513843536, -2.2389867305755615, 2.2914693355560303, -6.843746662139893, -0.06753985583782196, -2.8359313011169434, -4.742919445037842, -2.6691808700561523, 5.288661479949951, 2.5120623111724854, 2.204901695251465, -7.960364818572998, 1.4711579084396362, 1.2964118719100952, -5.348024368286133, -2.280590295791626, -3.2639858722686768, 2.9806759357452393, 3.446058750152588, 7.143535137176514, 6.1659626960754395, -1.3378822803497314, -10.069252014160156, 0.7047866582870483, 3.3843414783477783, -5.608647346496582, 1.8850483894348145, 4.022988796234131, 4.210824012756348, 2.3772666454315186, 8.178342819213867, -3.8075780868530273, -7.0307936668396, 3.7285923957824707, 5.407764911651611, 1.0915086269378662, -7.637053489685059, -8.63449478149414, 6.003021240234375, 1.1469076871871948], \"y\": [2.1440141201019287, 3.4959821701049805, -8.540201187133789, -14.19664192199707, -14.91153335571289, -7.255666732788086, 4.4368720054626465, -16.843870162963867, -0.7662594318389893, 5.4893012046813965, -14.524401664733887, -15.947763442993164, -11.659292221069336, 5.448930740356445, -12.19482135772705, -17.621532440185547, -11.6694917678833, 10.254469871520996, -7.466127395629883, -14.421778678894043, -6.354086399078369, 0.8018673658370972, -9.971131324768066, -1.1444398164749146, -10.137250900268555, -1.3448777198791504, -14.487147331237793, 2.6739296913146973, -20.449033737182617, -16.160079956054688, 0.6684197783470154, 0.14645296335220337, 7.3062520027160645, -12.748724937438965, 9.853897094726562, 0.9036020040512085, -2.394335985183716, 2.873121976852417, 2.152639865875244, -7.596145153045654, 13.487812995910645, -13.676376342773438, 9.375481605529785, -8.757075309753418, -11.799004554748535, -17.989826202392578, -11.469258308410645, -0.8189361691474915, -15.534927368164062, 7.695188999176025, -15.654383659362793, -7.277647018432617, 10.020689964294434, -17.81512451171875, -9.701851844787598, 4.2528605461120605, -7.044437885284424, 3.862856864929199, -12.799878120422363, -11.11758804321289, 11.307734489440918, 5.6054840087890625, -19.7713623046875, -13.749107360839844, 11.61251449584961, -10.69561767578125, 11.927098274230957, 9.983570098876953, -14.780688285827637, -10.056699752807617, -21.005897521972656, -16.55597496032715, 1.779550552368164, -13.594099998474121, 10.380951881408691, 5.517838478088379, -14.405647277832031, -16.798025131225586, 11.18205738067627, 10.801525115966797, 10.86936092376709, 4.914902210235596, -14.03477954864502, 4.2898454666137695, 2.8353989124298096, -0.7001521587371826, 7.313220500946045, 6.230650424957275, 7.641738414764404, 1.906191110610962, 4.712968349456787, -13.768607139587402, 8.903768539428711, 6.105781078338623, 3.5223193168640137, -19.927467346191406, 10.27221965789795, -0.37296968698501587, 4.79180908203125, -14.398244857788086, 0.3116806447505951, 9.149622917175293, 0.15891394019126892, 12.006502151489258, -20.960689544677734, 10.605142593383789, 7.0038604736328125, -0.2948339581489563, 10.829126358032227, -16.116296768188477, 3.056440830230713, -0.9404361844062805, -11.859976768493652, 7.304165363311768, -12.349325180053711, 5.546522617340088, 5.770887851715088, 6.3459649085998535, -13.473809242248535, 6.549210071563721, 6.400872707366943, 6.319787979125977, -0.6776826977729797, 10.007940292358398, 2.039539337158203, 1.9877147674560547, 2.8317348957061768, -14.532737731933594, 2.8131887912750244, 2.6225669384002686, 8.606359481811523, 10.488061904907227, -16.49772834777832, 1.3660097122192383, 8.805293083190918, 6.505765438079834, -11.38314437866211, -16.770231246948242, 2.5388424396514893, 3.2852447032928467, -14.086713790893555, 1.8832955360412598, 11.953213691711426, -14.51630973815918, 7.804823875427246, 11.016780853271484, -13.55521011352539, 10.346060752868652, 2.5400748252868652, 5.3640265464782715, 1.9132367372512817, 7.170979022979736, -2.1032021045684814, 12.954617500305176, 1.6769087314605713, 10.49303150177002, 12.755301475524902, 10.922808647155762, 6.40016508102417, -11.376302719116211, 4.77176570892334, 11.969335556030273, 6.360450744628906, 11.676894187927246, -12.650654792785645, 9.373723983764648, -14.662734031677246, -17.853422164916992, -10.90352725982666, 3.6797409057617188, 7.876369953155518, -1.0582953691482544, -10.488872528076172, -10.448566436767578, 1.5193222761154175, 7.418076515197754, -10.138752937316895, -9.728965759277344, 1.9795924425125122, -16.614458084106445, 4.334750175476074, -11.026408195495605, -1.0660910606384277, -18.88570785522461, -18.097532272338867, 6.524643898010254, -13.427370071411133, 9.306056022644043, 9.848078727722168, 6.454404354095459, 10.110774993896484, -14.575113296508789, -14.487174034118652, -11.288043975830078, 8.222519874572754, 3.555513620376587, 5.111917495727539, -1.6459531784057617, -0.7947339415550232, 1.3351812362670898, 6.67864465713501, 4.119441032409668, 1.6952532529830933, -14.870894432067871, -10.072854995727539, -0.10724522173404694, 11.148734092712402, 7.031238555908203, -10.962053298950195, 2.9151151180267334, 2.125788450241089, -14.826674461364746, -16.421613693237305, 4.15750789642334, 6.157807350158691, 5.9538750648498535, 2.892193078994751, -17.527795791625977, -19.518606185913086, 1.8746743202209473, -10.074642181396484, 1.7124749422073364, -14.45063591003418, 11.252594947814941, 7.549798011779785, 9.851099014282227, 10.685423851013184, 9.707423210144043, 9.608649253845215, -13.643804550170898, 3.964273452758789, 9.205843925476074, -15.827958106994629, -16.694297790527344, 8.116759300231934, 1.351468563079834, 2.6071836948394775, 6.764462471008301, -14.694548606872559, -8.32399845123291, 7.069040298461914, -2.438023090362549, -8.652448654174805, 4.8653059005737305, -15.73945140838623, 7.887644290924072, 8.984097480773926, 8.686208724975586, 10.927838325500488, -10.290480613708496, 12.68503189086914, 2.1515581607818604, -16.19137191772461, 11.628730773925781, 10.925865173339844, -0.6448654532432556, 4.571772575378418, 7.346471309661865, -13.435690879821777, 7.377110958099365, -9.082378387451172, 10.201761245727539, -13.4374361038208, 3.2345595359802246, 12.866230964660645, 4.573737144470215, -17.75558090209961, 6.384166240692139, 10.673202514648438, -3.301558256149292, -0.615591824054718, 1.6941115856170654, 6.732565402984619, -8.119489669799805, -11.711435317993164, 14.167561531066895, -18.109066009521484, -14.625661849975586, 0.42240339517593384, 9.881037712097168, 10.512709617614746, -8.306849479675293, 11.097541809082031, 4.782565116882324, -12.298064231872559, 1.235042929649353, 7.559383392333984, 1.7795418500900269, 6.638794898986816, -0.639795184135437, 1.2044932842254639, 0.710791826248169, 7.093311309814453, 2.3411314487457275, 4.23627233505249, -12.604836463928223, -13.073515892028809, 10.27658748626709, 4.968112945556641, 3.363525629043579, -0.7455048561096191, 7.343711853027344, -18.195926666259766, -16.16095542907715, -12.45436954498291, 7.656585693359375, -0.9389464855194092, 6.989233016967773, 12.715099334716797, -18.09856414794922, -17.243667602539062, 11.728353500366211, -10.920998573303223, -8.302743911743164, 7.33444356918335, 3.45412278175354, 3.626861810684204, 4.257187366485596, 8.470080375671387, 1.9608644247055054, -0.497469037771225, 7.3248491287231445, -16.586685180664062, 1.2776951789855957, 7.348520755767822, 2.7194721698760986, -18.143882751464844, -17.77733039855957, -11.634265899658203, -12.531618118286133, 6.637504577636719, -17.40709686279297, 9.463519096374512, 10.416571617126465, 6.3448357582092285, -13.546603202819824, 1.8939881324768066, 6.837304592132568, -13.702754020690918, -15.989615440368652, 6.629934310913086, 12.755784034729004, -13.423091888427734, 12.98216724395752, -16.880142211914062, -12.817334175109863, 1.2718085050582886, 11.833740234375, -14.044217109680176, -17.895587921142578, 1.6497316360473633, 7.373490333557129, 7.152889728546143, 2.2038414478302, 7.546416759490967, 12.7681884765625, 9.447610855102539, 2.141768217086792, -20.655990600585938, 0.4304882287979126, 1.3910813331604004, 0.15514515340328217, 3.2666332721710205, 11.548471450805664, -15.46990966796875, 6.600753307342529, -18.05837059020996, 7.840721130371094, 7.758620738983154, -0.17246665060520172, 8.008061408996582, 7.067976951599121, -14.915373802185059, -11.357060432434082, -16.549280166625977, 9.533903121948242, 8.86978530883789, -13.237028121948242, 2.3979532718658447, 2.2881784439086914, -12.906036376953125, 4.404104232788086, 9.161918640136719, 2.520777940750122, 1.6330139636993408, 9.553940773010254, 7.15435791015625, 6.173194885253906, 0.8203690052032471, -0.05845648795366287, 7.585359573364258, 10.56920337677002, 6.303854942321777, 7.452211380004883, 7.09685754776001, 1.9166123867034912, 10.323452949523926, -16.04645347595215, 2.7323358058929443, 9.938410758972168, 6.071800231933594, 5.410691261291504, 11.615069389343262, -0.3089735805988312, -18.28461265563965, 5.840972900390625, -11.08826732635498, 5.148627758026123, -10.446138381958008, -2.1802072525024414, 3.255692481994629, 3.516077756881714, -20.89007568359375, 7.584670543670654, 0.5543810725212097, 9.220401763916016, 6.643886089324951, 3.4271512031555176, -17.474468231201172, -13.089543342590332, -0.28899142146110535, 5.562936782836914, 1.62065851688385, 0.9024266600608826, -11.833612442016602, 7.972977638244629, 4.40487003326416, -12.622795104980469, 1.653203010559082, -14.420023918151855, 5.206487655639648, 5.4470391273498535, 4.644981861114502, -14.494278907775879, -20.925731658935547, 3.8613221645355225, 9.083499908447266, -14.38715648651123, 10.758161544799805, -10.748117446899414, 10.557994842529297, 10.372758865356445, -11.336908340454102, -17.028976440429688, 7.671512603759766, -10.768109321594238, -18.91632080078125, 12.76457405090332, -9.755474090576172, -12.100829124450684, 6.334534645080566, -12.180306434631348, 10.085602760314941, 7.763613700866699, -12.450837135314941, 2.934929609298706, -0.8375189304351807, -10.761551856994629, 10.713961601257324, 2.6696527004241943, 1.227735161781311, -11.711177825927734, 8.663302421569824, 12.978461265563965, 0.15147854387760162, 4.833130836486816, 11.063457489013672, -19.84538459777832, 9.280976295471191, -11.152737617492676, 7.423925399780273, 10.60661506652832, 8.078344345092773, 7.8093109130859375, 8.963507652282715, 8.284988403320312, 3.0488901138305664, -12.062049865722656, 4.650278568267822, 3.886646270751953, 11.822402000427246, 5.046113967895508, -13.302189826965332, -15.471013069152832, 5.829994201660156, -16.026351928710938, -1.6213982105255127, 1.6464842557907104, 5.794146537780762, -8.688227653503418, 7.719557762145996, -12.44601058959961, -11.431459426879883, -18.491870880126953, -9.387972831726074, -13.661150932312012, -1.9699543714523315, -11.35608959197998, 11.814603805541992, 1.5495833158493042, 2.72204327583313, 2.2785568237304688, 1.9612528085708618, 7.059188365936279, 1.8382647037506104, -8.783275604248047, 10.514039993286133, 11.640767097473145, 1.3728331327438354, -10.388716697692871, -14.320771217346191, 11.187788963317871, -1.842703104019165, -15.604927062988281, 11.074919700622559, 12.25812816619873, 12.025456428527832, 10.847856521606445, 1.6643986701965332, -1.6233904361724854, 0.5540048480033875, -14.329824447631836, -13.19843864440918, -12.006011962890625, -19.939491271972656, 6.6474528312683105, 2.71336030960083, 7.45486307144165, 1.0763589143753052, 4.47734260559082, 0.012058897875249386, -17.11899185180664, -12.341588020324707, 7.714118957519531, -11.358259201049805, -16.398639678955078, -1.6860694885253906, -15.651761054992676, 3.8492178916931152, -2.8956356048583984, 1.905777096748352, -11.71912956237793, 3.044450044631958, 1.9400877952575684, 11.284746170043945, -14.517725944519043, 10.91192626953125, -13.611178398132324, -13.762803077697754, 11.035670280456543, 11.607656478881836, 5.926601886749268, -13.539691925048828, 6.419494152069092, 13.618563652038574, 1.5523943901062012, -11.273092269897461, 9.447051048278809, -18.208330154418945, -0.7797848582267761, -17.182849884033203, -19.94837188720703, 14.118205070495605, -12.615019798278809, 7.47672700881958, 12.093282699584961, 8.658594131469727, 2.4296369552612305, -13.70193862915039, -11.514542579650879, 2.249253749847412, -11.747832298278809, -17.116811752319336, -18.262556076049805, 0.6125674247741699, -19.1096134185791, 3.8327276706695557, 6.2659525871276855, 4.611806869506836, 5.968647480010986, -0.07089313864707947, 7.2971510887146, -11.21034049987793, 3.51589298248291, 12.6696138381958, 11.426421165466309, 4.046043395996094, 8.452997207641602, 8.112771987915039, -17.897518157958984, 4.7049994468688965, 12.87981128692627, -0.06757736206054688, -17.80608558654785, 1.67849862575531, 11.923852920532227, -16.307714462280273, -16.609447479248047, -11.687089920043945, -16.24495506286621, -14.679808616638184, 7.0879225730896, -9.89449691772461, 5.163838863372803, -11.105278015136719, 2.68388032913208, -17.812030792236328, -18.469844818115234, 6.720255374908447, 0.05001172795891762, -12.543645858764648, 2.6266441345214844, 1.3321176767349243, 5.943556785583496, 12.639970779418945, 13.635273933410645, 5.155200958251953, 7.387863636016846, 3.0776662826538086, 4.719071865081787, 1.993815541267395, 10.960261344909668, 12.870898246765137, 1.58367121219635, -11.768606185913086, -19.920066833496094, 5.297040939331055, -12.70659351348877, 5.115108966827393, 13.02758502960205, 9.854398727416992, -1.3287830352783203, 10.314910888671875, -14.159086227416992, 1.6039361953735352, 3.820971727371216, 2.720787286758423, 2.148746967315674, -12.142838478088379, 2.406203269958496, -9.747960090637207, 2.8529834747314453, 3.669090509414673, 2.517138957977295, -16.52518081665039, 6.766910552978516, -10.270060539245605, 7.591179370880127, -11.709155082702637, 6.970788478851318, 10.610799789428711, 8.414776802062988, 4.1989850997924805, -15.441991806030273, 7.8276238441467285, 1.045028567314148, -14.315936088562012, 5.307986259460449, 6.3031721115112305, -16.49974822998047, -19.105985641479492, 10.13718318939209, 0.33600524067878723, 3.019408702850342, -12.644183158874512, 2.6797292232513428, -15.91778564453125, 1.4596058130264282, -1.6349583864212036, 8.568256378173828, 2.8598906993865967, 12.430567741394043, 11.818062782287598, 3.2633819580078125, -10.87704849243164, 11.695220947265625, 1.8142828941345215, -11.263520240783691, -14.08130931854248, 1.3268011808395386, -10.529569625854492, 9.416426658630371, 7.470271110534668, -10.300969123840332, 14.926008224487305, 8.651652336120605, 10.874825477600098, 12.622718811035156, -13.822639465332031, -18.239395141601562, -15.677424430847168, -16.095458984375, -20.397262573242188, -1.3676143884658813, -13.796420097351074, -11.5848970413208, 1.8052645921707153, 9.554290771484375, 5.023477077484131, -12.613057136535645, 5.8368239402771, 10.286115646362305, 5.4884114265441895, -20.47524070739746, 10.044170379638672, 4.035202503204346, -15.346110343933105, -15.946091651916504, 2.1091060638427734, -9.57709789276123, -12.160057067871094, 10.613053321838379, 4.425970554351807, -1.5238758325576782, 7.541566371917725, -9.063006401062012, -6.951927661895752, -17.72614860534668, 7.540987491607666, 7.045196056365967, -7.494839668273926, 7.040643215179443, -2.892427444458008, -7.294334888458252, -7.864924430847168, 7.452227592468262, -11.372238159179688, -11.28343391418457, -16.71919822692871, -7.733747482299805, 2.277937650680542, -15.287734031677246, 2.9563870429992676, 4.945448875427246, -1.304419994354248, -12.666197776794434, 4.699036121368408, 8.8270263671875, 10.4151029586792, -12.273297309875488, 4.394650936126709, 4.629615783691406, 5.166549205780029, -12.445412635803223, 2.6411726474761963, 10.141203880310059, 7.093642711639404, -11.915495872497559, -10.509552001953125, -19.733333587646484, 2.554661512374878, -14.091452598571777, 4.063297271728516, 8.182392120361328, 11.562240600585938, -10.047317504882812, 10.624999046325684, 10.107969284057617, -15.850613594055176, 11.602378845214844, -18.83695411682129, 11.798293113708496, 9.057839393615723, 7.886620998382568, 2.995138168334961, 7.2055559158325195, 5.918788433074951, -14.98149299621582, 4.096968173980713, -15.289091110229492, 10.509662628173828, 4.7995734214782715, 0.8785935640335083, 3.8638803958892822, 3.5391366481781006, 13.277799606323242, 5.019623756408691, 5.383384704589844, 10.206524848937988, 4.356252670288086, 6.543172359466553, 6.319680690765381, -0.9641855359077454, 2.3025553226470947, 8.960973739624023, -19.551284790039062, 10.530593872070312, -11.053848266601562, 11.771629333496094, 9.453574180603027, -18.68789291381836, 7.94872522354126, -12.9194917678833, 8.161619186401367, 7.787363529205322, -0.4692973792552948, 11.73240852355957, -10.17623519897461, 7.441649913787842, 10.985684394836426, 7.788780212402344, 4.552911281585693, 1.6193681955337524, 2.7245664596557617, -8.97715950012207, 8.923056602478027, 12.457886695861816, 1.0323965549468994, -14.271332740783691, 7.122776031494141, -13.784013748168945, -11.753149032592773, 8.920282363891602, -0.761537492275238, -1.228078842163086, -9.716374397277832, 0.4522475302219391, -18.903213500976562, -9.449419021606445, -14.448683738708496, -12.654624938964844, -8.037285804748535, 10.834953308105469, 0.1567293256521225, -1.528181552886963, 10.061367988586426, -14.149604797363281, 10.455480575561523, 5.704280376434326, -17.57542610168457, 1.7632472515106201, 1.7502167224884033, -19.011722564697266, -11.45041561126709, -10.501459121704102, -10.765345573425293, -16.337162017822266, -14.627721786499023, -11.495450019836426, 12.344496726989746, 6.691678524017334, 11.732897758483887, -14.802846908569336, 0.8345159292221069, 5.335361957550049, -11.098912239074707, -2.5400474071502686, 7.307620048522949, 2.891639471054077, 2.2017011642456055, -11.42360782623291, 1.4298101663589478, 12.676934242248535, 6.47646427154541, 1.4096477031707764, -2.3037912845611572, 4.614089012145996, -13.532909393310547, 10.26280403137207, -13.147666931152344, 1.2352372407913208, 9.664006233215332, -1.4199247360229492, 6.827765464782715, -1.467479944229126, -16.5905704498291, 6.807222843170166, 9.586526870727539, -11.321768760681152, 2.004035711288452, -12.839249610900879, 11.581562995910645, 7.303708553314209, 3.313119888305664, 3.130173921585083, 8.176219940185547, 7.297947883605957, 7.214105606079102, 3.901216506958008, -9.984506607055664, 1.3355650901794434, 5.568826675415039, 12.35267448425293, -17.652677536010742, -16.259389877319336, -12.33738899230957, 4.345390796661377, 6.080793857574463, 3.763592481613159, -10.368042945861816, -14.36453914642334, -17.293004989624023, -11.422719955444336, 11.399524688720703, -18.1121826171875, 4.9773945808410645, 6.787391662597656, 7.8757829666137695, 0.5931895971298218, 0.2923010289669037, 1.7342426776885986, 10.38145923614502, 12.725502014160156, -19.55119514465332, 7.142608642578125, -14.86327075958252, -13.717130661010742, 0.1542622148990631, -11.389949798583984, 11.100674629211426, 4.027514457702637, 7.779993534088135, 9.234063148498535, 10.552017211914062, -11.993252754211426, -13.301531791687012, 3.771449565887451, -0.29628047347068787, -13.076645851135254, -13.023538589477539, 0.9253675937652588, -16.765226364135742, 5.606335639953613, 9.125542640686035, -2.851104974746704, 1.235110878944397, 2.7707996368408203, 3.9904088973999023, 4.700628280639648, -2.2972006797790527, -14.247447967529297, 10.966384887695312, 7.044371604919434, -19.00208282470703, -16.05623435974121, -13.623784065246582, 10.196805000305176, -10.084118843078613, 1.8247928619384766, -12.813180923461914, -11.271320343017578, 8.956581115722656, 10.745026588439941, -11.410947799682617, 8.025510787963867, -13.583452224731445, 7.938658714294434, 6.903542518615723, 0.6691417694091797, 3.8574094772338867, 4.880605220794678, 4.710909843444824, -18.62022590637207, -16.495681762695312, 6.009191036224365, 6.614670753479004, -13.49770450592041, -14.355155944824219, -11.283818244934082, 6.976686000823975, 8.352934837341309, 5.864691734313965, -9.131463050842285, 10.092621803283691, 4.949763298034668, 11.098047256469727, 2.719548463821411, 6.102866172790527, -12.253644943237305, 9.211234092712402, -18.49966049194336, 6.391490459442139, 7.2077813148498535, -13.362924575805664, 9.634934425354004, 5.900622844696045, 4.350049018859863, -17.757829666137695, 2.881160259246826, -10.617450714111328, -12.548396110534668, 0.08312603831291199, 10.18464469909668, 6.321014404296875, -17.824783325195312, 5.626493453979492, 7.457545280456543, -12.3056640625, -11.736238479614258, -16.344167709350586, -12.160018920898438, 8.560174942016602, 6.412858486175537, -10.151430130004883, -14.46834659576416, 4.897597789764404, 7.302321434020996, 11.372718811035156, -13.489850997924805, -15.862932205200195], \"z\": [8.567544937133789, -9.259587287902832, 11.324315071105957, -3.050082206726074, 12.82435417175293, -2.421452522277832, -15.030322074890137, -5.787783145904541, 1.7351899147033691, -15.520689964294434, -7.81625509262085, 10.182377815246582, -8.128678321838379, 1.926317572593689, 5.292543411254883, 3.717114210128784, -8.133326530456543, -4.683310031890869, 10.88790225982666, 8.7431058883667, -2.3323352336883545, 7.5635552406311035, 9.943697929382324, 1.1820664405822754, 0.36251407861709595, 4.703863620758057, 9.449654579162598, 1.4338489770889282, -1.4693669080734253, 0.19174067676067352, 1.4357953071594238, -9.690145492553711, 2.753931999206543, 3.5848357677459717, -1.0844029188156128, 5.438052654266357, 0.6564374566078186, 1.6817870140075684, 10.198649406433105, -3.167332649230957, -8.9138765335083, 0.7240939140319824, -6.0009589195251465, 2.2476279735565186, 2.529452085494995, 3.6024200916290283, 2.3884358406066895, 1.1824865341186523, 9.977054595947266, -8.887968063354492, -9.176565170288086, 3.3252103328704834, 0.26211071014404297, 3.498906373977661, -2.2672698497772217, -12.534817695617676, -4.336575984954834, -8.084955215454102, 2.8431689739227295, 7.386782169342041, -1.879778504371643, -3.7175464630126953, 5.190555572509766, 0.08077725023031235, -7.042606353759766, 2.256617784500122, -3.300598382949829, -3.9419357776641846, 9.721083641052246, -2.673007011413574, 0.10788809508085251, -3.175020217895508, 11.404229164123535, -6.820452690124512, 11.248223304748535, 7.316445827484131, 8.27889633178711, 1.8286188840866089, 12.564583778381348, 8.607550621032715, 8.67110538482666, 7.383624076843262, 10.233272552490234, -3.6942412853240967, -12.283899307250977, -7.4031982421875, -8.465685844421387, -11.709176063537598, -3.7195630073547363, 8.336135864257812, 10.311492919921875, -7.025488376617432, -5.311244487762451, -14.954217910766602, -11.361065864562988, 3.9675886631011963, -0.6266949772834778, -6.321465015411377, -2.689260721206665, 8.316400527954102, 10.358184814453125, -9.072513580322266, -6.0006561279296875, -0.28803619742393494, 3.745476722717285, 2.4479165077209473, -2.446868419647217, -10.393932342529297, 10.43436050415039, 0.8498209714889526, 9.572936058044434, 9.909228324890137, -9.335464477539062, 7.056406021118164, 12.130952835083008, 8.516982078552246, -13.330914497375488, -15.233670234680176, -4.639225959777832, -2.2588751316070557, 8.569083213806152, -2.315729856491089, -9.605820655822754, -6.808096885681152, -1.3406764268875122, -8.044594764709473, -10.241975784301758, -3.2821438312530518, -11.570996284484863, -7.238137722015381, -2.0806381702423096, -0.43197450041770935, -8.256128311157227, -12.804033279418945, -10.44325065612793, 7.51438570022583, 11.38652229309082, -6.430549144744873, -7.332075119018555, -2.202819347381592, -7.155867576599121, 6.501694202423096, -0.06511896848678589, 11.128294944763184, -1.9562124013900757, 5.226744174957275, -4.831960201263428, -8.722663879394531, -8.504150390625, -0.5350974798202515, 9.479841232299805, 9.132144927978516, -4.412266731262207, -0.42744290828704834, 8.976520538330078, -1.5104570388793945, -7.023564338684082, -8.259317398071289, 12.868921279907227, -4.776823997497559, -14.63447093963623, -0.664592981338501, 12.088878631591797, 11.296353340148926, -3.096442937850952, -9.136730194091797, -7.1151123046875, -0.42207998037338257, 7.5539751052856445, -0.875583827495575, -2.60473895072937, -5.876403331756592, -1.0309852361679077, 11.888340950012207, -2.8134114742279053, -10.704533576965332, -1.8252530097961426, 11.184950828552246, -9.311990737915039, -4.688149452209473, -3.985448122024536, -1.8532803058624268, -10.113658905029297, 2.1192245483398438, 0.4312971532344818, -14.309182167053223, 2.0304067134857178, -1.9245266914367676, 6.774277687072754, 8.8692045211792, -8.913579940795898, 11.827397346496582, -7.634056091308594, 12.318671226501465, -10.301840782165527, -15.071462631225586, -4.702611923217773, -10.730027198791504, 11.059181213378906, -1.6876646280288696, -1.2729419469833374, -0.9989326596260071, -11.675870895385742, 9.966753959655762, 11.476188659667969, -9.924344062805176, 7.9230170249938965, -1.8123435974121094, -2.8507306575775146, -8.20234203338623, -3.4549520015716553, 3.0955638885498047, 2.197904348373413, 8.604887962341309, -2.3915648460388184, -3.271228075027466, -7.810510158538818, 2.4917426109313965, 2.630568265914917, -1.828596591949463, 11.96088981628418, -7.688610076904297, 9.623626708984375, 11.211864471435547, -10.366477966308594, 7.86665678024292, -5.304741382598877, 6.378988265991211, -10.737250328063965, 2.6310648918151855, -14.009185791015625, -5.678432941436768, -5.371906280517578, -5.845532417297363, -0.2975698709487915, -7.361159324645996, -5.612900733947754, 7.981105327606201, -3.0994253158569336, 11.801513671875, -2.282524347305298, -7.220866680145264, 9.269124031066895, -11.31872844696045, -3.07680082321167, -10.286028861999512, 7.602879524230957, 13.207178115844727, -4.746086597442627, 10.486464500427246, 1.0319486856460571, -2.5028090476989746, -2.7540295124053955, -0.9110856056213379, 3.248945474624634, -1.0208981037139893, 8.93311595916748, -12.508563995361328, 3.448981761932373, -1.5630265474319458, 10.348316192626953, -0.526511013507843, 12.855401039123535, -3.5326833724975586, 1.62331223487854, -11.042990684509277, -6.611886978149414, -10.967839241027832, 10.226517677307129, -9.812438011169434, -8.734329223632812, -12.353740692138672, 9.557392120361328, 10.146443367004395, -3.353595495223999, -2.8332338333129883, 4.330924987792969, 11.860075950622559, -9.186578750610352, 6.578461170196533, -5.891470909118652, 9.821640014648438, 5.476088047027588, 6.411942481994629, 11.346684455871582, -9.136422157287598, -5.194858551025391, -7.782273292541504, -11.46117877960205, 10.94790267944336, 8.39897632598877, -11.009359359741211, -1.9330295324325562, -8.563017845153809, -3.843461275100708, -8.296052932739258, -3.960493326187134, 10.870821952819824, -2.277883768081665, 8.45209789276123, -7.778104305267334, -13.535536766052246, 0.6209270358085632, -3.582221031188965, -1.6800256967544556, 12.218729972839355, -6.946921348571777, 11.344722747802734, -8.418769836425781, 0.8813633918762207, 0.35685813426971436, -9.257899284362793, -0.9170936346054077, 11.32620620727539, -5.357322692871094, 9.870856285095215, -1.075559377670288, -12.207771301269531, 12.80817985534668, -12.067713737487793, -7.731949806213379, 9.630158424377441, -4.0241193771362305, -6.234679698944092, 8.948400497436523, 7.477626323699951, -5.197436809539795, -6.3632707595825195, 6.714609146118164, -2.8612582683563232, -11.147515296936035, 4.021877765655518, 0.8839629888534546, 0.8245368599891663, -11.383654594421387, 8.137957572937012, -7.575003623962402, 7.431393623352051, 1.6793538331985474, 4.353509426116943, 8.540389060974121, 6.541994571685791, -4.904768466949463, -0.9907582402229309, -5.504858016967773, 8.14164924621582, -13.465761184692383, -10.77315616607666, -3.9044508934020996, 3.737536668777466, -1.428876519203186, 9.124066352844238, -0.7386119365692139, -12.022115707397461, -5.18612813949585, 6.823336124420166, -1.0713286399841309, -5.910802841186523, 2.62011981010437, 6.183284282684326, -8.82889461517334, -6.815324783325195, 2.018547773361206, -7.495772361755371, -4.404946804046631, 12.079072952270508, 0.8441000580787659, -13.839707374572754, -12.1129789352417, -11.163966178894043, -6.289028167724609, -2.4438860416412354, 9.665572166442871, 5.382075786590576, -3.951322555541992, -5.451674461364746, 11.067103385925293, -2.3722286224365234, -12.124850273132324, 6.404559135437012, -5.199825763702393, -0.5403127670288086, 10.033642768859863, 12.11854076385498, -8.373905181884766, -0.7159909009933472, -1.4616304636001587, -1.1014981269836426, -2.4620020389556885, 10.367440223693848, -6.5299553871154785, -0.082676000893116, 10.66346549987793, 8.469688415527344, -0.7415352463722229, -12.133615493774414, 2.5751404762268066, -2.807614326477051, 8.748435020446777, 7.371901988983154, -2.1353940963745117, -6.333856582641602, -9.066567420959473, -10.509390830993652, -3.93113374710083, -11.917343139648438, 8.903130531311035, 0.8602572679519653, -5.925321102142334, -10.059853553771973, -9.710797309875488, 7.02524471282959, 2.1891162395477295, 12.127302169799805, -11.542932510375977, -5.842585563659668, -10.613645553588867, -10.659706115722656, -6.723841190338135, 7.9603047370910645, 10.425769805908203, -4.347818374633789, -7.762813091278076, -8.077322006225586, 7.34098482131958, -10.881903648376465, -13.810404777526855, -2.3517332077026367, 10.43488597869873, 7.869259357452393, 8.524757385253906, -14.949971199035645, -3.683356285095215, -2.3586277961730957, 0.5224742889404297, -3.8428115844726562, -2.7447762489318848, 9.36004638671875, 10.984746932983398, 11.053633689880371, 3.3361575603485107, 12.43099594116211, 11.591104507446289, 7.674988746643066, -2.5963921546936035, -2.034327983856201, -0.030175909399986267, -2.8674914836883545, 9.558587074279785, -2.916332244873047, -6.160287380218506, 11.104999542236328, -6.215086936950684, 12.244305610656738, -8.194889068603516, -10.596090316772461, -2.214698314666748, 10.970707893371582, 12.576723098754883, 12.425724029541016, -8.97413444519043, 10.454591751098633, -7.089000225067139, 8.597277641296387, -0.3150005638599396, 10.622820854187012, 9.967191696166992, -1.3484389781951904, -9.52560043334961, 8.35329532623291, 8.415543556213379, -1.5229566097259521, -8.155641555786133, 8.260224342346191, -5.262938976287842, -10.878106117248535, -14.444515228271484, -0.9843580722808838, 6.837341785430908, -9.991082191467285, -7.813365459442139, -5.016427040100098, -1.046815037727356, 7.3767547607421875, -13.915301322937012, 8.398115158081055, -5.006795883178711, 11.32387924194336, 7.926854133605957, 12.893807411193848, 12.088990211486816, -8.086979866027832, 0.7276658415794373, 0.22631560266017914, 8.932448387145996, -4.053415298461914, -10.508183479309082, -6.17641544342041, -1.429876446723938, 9.297002792358398, -7.456117630004883, 0.9004611372947693, 7.192915439605713, -3.589639663696289, 10.363368034362793, 12.262702941894531, 13.075007438659668, -10.47684097290039, 11.978116035461426, -0.9250787496566772, 12.275703430175781, -8.79788875579834, -7.178870677947998, 3.650998115539551, 11.352927207946777, -4.3974432945251465, 0.6509668231010437, 13.069488525390625, -1.4656603336334229, -7.674262046813965, 12.051003456115723, 8.72363567352295, 2.2677769660949707, 6.420907974243164, 3.401747226715088, -12.438612937927246, 11.976877212524414, -13.440937995910645, -2.393623113632202, 10.790547370910645, -5.957431316375732, 1.3492430448532104, -6.547856330871582, -6.147302627563477, -7.174947261810303, 0.5828967690467834, -10.088732719421387, 9.575031280517578, 3.998506546020508, -9.992915153503418, -3.154665231704712, -4.224944591522217, -9.632134437561035, -8.719828605651855, -11.080708503723145, -8.736741065979004, 4.070796489715576, -4.318663120269775, -3.310753107070923, 4.926506519317627, -1.9592616558074951, 6.855656147003174, 10.07451343536377, 12.798151969909668, -2.9198551177978516, -4.949787139892578, -6.209598064422607, 11.731953620910645, -6.199050426483154, -1.2741336822509766, 8.277373313903809, 2.390740394592285, -3.096491813659668, -5.5394062995910645, -4.061683177947998, 8.872379302978516, -7.910712242126465, 0.4864961504936218, -3.9202964305877686, -6.657527446746826, 9.62042236328125, -7.198135852813721, -4.309239387512207, 4.042538642883301, -10.261065483093262, -0.040768418461084366, -10.688302040100098, -12.124833106994629, 7.050870895385742, 9.3441162109375, 10.235629081726074, 10.718878746032715, 5.958535194396973, -11.456116676330566, -8.386466026306152, 7.719980239868164, 10.379606246948242, -3.8087761402130127, -11.604843139648438, 1.000612735748291, -6.775964260101318, -5.017479419708252, -0.33494260907173157, -3.7656819820404053, -0.632972240447998, 0.4286011755466461, -4.310013294219971, 1.7708162069320679, -1.5149140357971191, 7.950575828552246, -6.040968418121338, -1.21047043800354, -0.3596267104148865, -14.633625984191895, -3.684570789337158, -7.58858585357666, -6.017183303833008, 4.762042999267578, -3.0241777896881104, -6.517097473144531, 2.3037028312683105, 7.971020698547363, 11.678661346435547, 9.404410362243652, 7.599600791931152, -3.696293592453003, -4.508632659912109, -4.454387664794922, -1.245510458946228, 10.494894981384277, 1.7807451486587524, -0.47219306230545044, 1.2547470331192017, -0.6464232802391052, 6.405095100402832, -3.1623587608337402, -14.192251205444336, 12.835065841674805, -0.23183010518550873, 8.691787719726562, 0.6050341725349426, -10.09768295288086, 13.253288269042969, 9.402812957763672, 8.403733253479004, 4.301202774047852, 7.333374977111816, 1.3258922100067139, -7.859577178955078, -0.26258090138435364, 11.432233810424805, -8.547075271606445, -14.69927978515625, 6.400801181793213, 4.302825927734375, 12.989248275756836, 8.655755996704102, 6.8479180335998535, -0.1379503309726715, 10.00255012512207, -5.25826358795166, -7.818896293640137, -1.1578537225723267, -7.270192623138428, -10.528705596923828, -7.015127182006836, 9.113006591796875, 7.174900531768799, -0.4613734185695648, 1.0529539585113525, -0.08530420809984207, -0.8497641682624817, -0.21287667751312256, 8.652192115783691, -4.1908392906188965, -6.0041375160217285, -6.191120624542236, -13.166657447814941, -10.913275718688965, -9.64367961883545, -2.5404577255249023, 6.1090826988220215, 0.4964908957481384, 0.7436133027076721, -3.5722930431365967, -2.8181281089782715, -8.998753547668457, -8.899332046508789, -3.5649356842041016, -12.672616004943848, 7.380856513977051, -6.25364351272583, 8.857791900634766, -1.2290347814559937, -1.4372330904006958, -10.073014259338379, 4.417686462402344, -9.88800048828125, -7.347261905670166, -0.05986800789833069, 3.9904415607452393, 0.5705770254135132, 2.1067304611206055, -3.763104200363159, -9.169270515441895, -6.170109272003174, 6.589024543762207, 7.660285949707031, 11.58749771118164, 2.542686700820923, -4.401702404022217, 8.333637237548828, 1.9425715208053589, -1.4984248876571655, 6.465600490570068, -12.341434478759766, -6.611280918121338, 5.329925060272217, 3.162747383117676, 2.0927093029022217, 3.19303035736084, -7.578482627868652, -0.6499554514884949, 4.53886079788208, 2.69569730758667, -4.9203057289123535, -2.425982713699341, 2.810458183288574, 2.706406354904175, -4.119073867797852, 10.901395797729492, -11.63744831085205, -4.985440731048584, 3.300797939300537, -0.9122220873832703, 2.7391364574432373, -2.2574462890625, -6.475879192352295, -3.4468774795532227, -2.6022396087646484, -3.845048189163208, 8.623687744140625, 0.8708302974700928, 0.08722825348377228, -2.226879596710205, -7.53365421295166, 8.66513729095459, 11.338003158569336, 11.50645923614502, 3.420858860015869, -0.639409065246582, 5.986155986785889, 6.775774955749512, 1.601426601409912, 8.755931854248047, 10.955374717712402, 8.293418884277344, -8.753039360046387, 11.245074272155762, 0.01589244417846203, -9.033385276794434, 10.009407043457031, -11.824043273925781, -10.453993797302246, -5.961862087249756, 11.589290618896484, 8.355051040649414, -0.9450896382331848, 3.7475383281707764, -10.631263732910156, 1.5597413778305054, 0.6890137791633606, -3.867814779281616, -11.917476654052734, 9.551570892333984, -13.558050155639648, -11.97866439819336, 11.098986625671387, -12.370570182800293, 12.395197868347168, 8.384414672851562, 6.026216983795166, 1.1181836128234863, -13.710113525390625, 7.543344020843506, -5.630224704742432, -0.283176988363266, -4.300354957580566, 13.230137825012207, 9.166208267211914, 8.175597190856934, -13.000910758972168, -6.308077812194824, 9.077591896057129, 12.935598373413086, 0.4012959599494934, 0.7195589542388916, -4.144311428070068, 9.994012832641602, 6.786859512329102, -4.6282830238342285, 7.596827983856201, 3.087986469268799, 12.510106086730957, -11.409317970275879, -10.953462600708008, -3.87090802192688, 9.870590209960938, 9.665762901306152, -8.184799194335938, -2.3753700256347656, 0.39863502979278564, -1.8635107278823853, -9.750374794006348, 12.158538818359375, -9.61294937133789, -4.174665927886963, -5.336217880249023, -7.642153263092041, -5.917769432067871, 9.404231071472168, 0.5593239068984985, 12.444067001342773, 9.846981048583984, -6.85469388961792, 9.383411407470703, -6.248298168182373, -2.9659626483917236, -1.465875506401062, -4.667876720428467, -5.691798210144043, 11.060860633850098, 11.468472480773926, -5.956665515899658, -6.492032051086426, -1.7964404821395874, -7.573280334472656, 9.495515823364258, 10.500433921813965, 2.05953311920166, -4.773942470550537, 6.692682266235352, 4.662084102630615, 1.069132924079895, 11.45443344116211, -3.0937530994415283, 8.943278312683105, 12.435005187988281, -5.169501781463623, -2.8451013565063477, 9.156682014465332, -0.10732415318489075, -4.64705753326416, -9.734400749206543, -12.486422538757324, -6.425378799438477, -8.228883743286133, 9.488402366638184, 9.14227294921875, -1.1768019199371338, -6.007309913635254, 11.691615104675293, -1.4373023509979248, 8.84660530090332, -2.5080790519714355, -8.48043155670166, -2.828413724899292, -9.027179718017578, 9.054725646972656, 2.7643227577209473, 9.66260814666748, 8.282333374023438, -1.9494842290878296, 7.789331436157227, -7.155081272125244, -6.316097259521484, -15.33472728729248, 7.2073516845703125, -3.948422431945801, 7.163986682891846, -3.636331558227539, -2.270280599594116, -8.718863487243652, 9.143548011779785, -13.05801773071289, -3.9124808311462402, -0.4229831397533417, -4.568492412567139, 5.851643085479736, 10.128740310668945, 7.581827163696289, 12.91317367553711, 6.1257853507995605, -2.9984889030456543, -3.0866827964782715, -9.093310356140137, 9.128122329711914, -2.2063846588134766, 8.629751205444336, 1.9387544393539429, 9.87523365020752, 0.8409243226051331, 7.144944667816162, 6.174360752105713, 2.0727202892303467, 7.559146881103516, 7.458434104919434, -11.004945755004883, -2.407820224761963, -0.6168243885040283, -7.112250328063965, -0.9213504791259766, -4.666912078857422, -2.8135225772857666, 9.195755004882812, 10.460870742797852, -4.08870792388916, -9.036325454711914, 6.660334587097168, 11.683408737182617, -7.455259799957275, -3.8130688667297363, -5.394484996795654, 11.757160186767578, 3.158661127090454, 13.021294593811035, 5.561931610107422, -9.057165145874023, -8.717175483703613, -8.409330368041992, 11.10184383392334, -8.087968826293945, -2.1198785305023193, 7.380886077880859, -9.11436939239502, 9.019691467285156, -11.819808959960938, 6.336310863494873, -2.5275790691375732, -8.920747756958008, 13.435467720031738, -2.883199453353882, -7.7698187828063965, -1.0331716537475586, -3.5127651691436768, 7.768631458282471, -1.042553186416626, 9.9996919631958, -9.056974411010742, -6.254908084869385, 7.961167812347412, -1.9916417598724365, 11.83187198638916, -7.016087532043457, 12.595844268798828, 3.501915454864502, 12.03994083404541, 10.157869338989258, -8.314482688903809, -12.220388412475586, 6.393363952636719, 0.443114697933197, -3.1481258869171143, -4.824674129486084, -0.633133590221405, -10.602267265319824, -8.992280960083008, 1.0099990367889404, 1.1334718465805054, -3.8670551776885986, -12.042865753173828, -4.210423469543457, 11.003690719604492, 12.60322380065918, 7.125380992889404, -9.277215957641602, -8.006637573242188, 12.4220552444458, 2.621946096420288, 0.2858779728412628, 2.910456657409668, 10.35148811340332, 8.499704360961914, 12.55861759185791, 7.170416831970215, -11.203877449035645, -10.376585960388184, 3.7566847801208496, 0.7461629509925842, -4.188625812530518, 2.4928441047668457, 10.418630599975586, 10.239888191223145, -14.60765266418457, 3.0936930179595947, -6.677124977111816, -4.166868686676025, -3.8510775566101074, -6.802570343017578, 8.854962348937988, -4.058095455169678, 12.582427024841309, 13.036389350891113, 9.953781127929688, 2.385284423828125, 6.898749351501465, -3.276851177215576, 9.542763710021973, -2.6298816204071045, 8.712102890014648]}],\n",
       "                        {\"coloraxis\": {\"colorbar\": {\"title\": {\"text\": \"Label\"}}, \"colorscale\": [[0.0, \"#0d0887\"], [0.1111111111111111, \"#46039f\"], [0.2222222222222222, \"#7201a8\"], [0.3333333333333333, \"#9c179e\"], [0.4444444444444444, \"#bd3786\"], [0.5555555555555556, \"#d8576b\"], [0.6666666666666666, \"#ed7953\"], [0.7777777777777778, \"#fb9f3a\"], [0.8888888888888888, \"#fdca26\"], [1.0, \"#f0f921\"]]}, \"height\": 800, \"legend\": {\"tracegroupgap\": 0}, \"scene\": {\"domain\": {\"x\": [0.0, 1.0], \"y\": [0.0, 1.0]}, \"xaxis\": {\"title\": {\"text\": \"0\"}}, \"yaxis\": {\"title\": {\"text\": \"1\"}}, \"zaxis\": {\"title\": {\"text\": \"2\"}}}, \"template\": {\"data\": {\"bar\": [{\"error_x\": {\"color\": \"#2a3f5f\"}, \"error_y\": {\"color\": \"#2a3f5f\"}, \"marker\": {\"line\": {\"color\": \"#E5ECF6\", \"width\": 0.5}}, \"type\": \"bar\"}], \"barpolar\": [{\"marker\": {\"line\": {\"color\": \"#E5ECF6\", \"width\": 0.5}}, \"type\": \"barpolar\"}], \"carpet\": [{\"aaxis\": {\"endlinecolor\": \"#2a3f5f\", \"gridcolor\": \"white\", \"linecolor\": \"white\", \"minorgridcolor\": \"white\", \"startlinecolor\": \"#2a3f5f\"}, \"baxis\": {\"endlinecolor\": \"#2a3f5f\", \"gridcolor\": \"white\", \"linecolor\": \"white\", \"minorgridcolor\": \"white\", \"startlinecolor\": \"#2a3f5f\"}, \"type\": \"carpet\"}], \"choropleth\": [{\"colorbar\": {\"outlinewidth\": 0, \"ticks\": \"\"}, \"type\": \"choropleth\"}], \"contour\": [{\"colorbar\": {\"outlinewidth\": 0, \"ticks\": \"\"}, \"colorscale\": [[0.0, \"#0d0887\"], [0.1111111111111111, \"#46039f\"], [0.2222222222222222, \"#7201a8\"], [0.3333333333333333, \"#9c179e\"], [0.4444444444444444, \"#bd3786\"], [0.5555555555555556, \"#d8576b\"], [0.6666666666666666, \"#ed7953\"], [0.7777777777777778, \"#fb9f3a\"], [0.8888888888888888, \"#fdca26\"], [1.0, \"#f0f921\"]], \"type\": \"contour\"}], \"contourcarpet\": [{\"colorbar\": {\"outlinewidth\": 0, \"ticks\": \"\"}, \"type\": \"contourcarpet\"}], \"heatmap\": [{\"colorbar\": {\"outlinewidth\": 0, \"ticks\": \"\"}, \"colorscale\": [[0.0, \"#0d0887\"], [0.1111111111111111, \"#46039f\"], [0.2222222222222222, \"#7201a8\"], [0.3333333333333333, \"#9c179e\"], [0.4444444444444444, \"#bd3786\"], [0.5555555555555556, \"#d8576b\"], [0.6666666666666666, \"#ed7953\"], [0.7777777777777778, \"#fb9f3a\"], [0.8888888888888888, \"#fdca26\"], [1.0, \"#f0f921\"]], \"type\": \"heatmap\"}], \"heatmapgl\": [{\"colorbar\": {\"outlinewidth\": 0, \"ticks\": \"\"}, \"colorscale\": [[0.0, \"#0d0887\"], [0.1111111111111111, \"#46039f\"], [0.2222222222222222, \"#7201a8\"], [0.3333333333333333, \"#9c179e\"], [0.4444444444444444, \"#bd3786\"], [0.5555555555555556, \"#d8576b\"], [0.6666666666666666, \"#ed7953\"], [0.7777777777777778, \"#fb9f3a\"], [0.8888888888888888, \"#fdca26\"], [1.0, \"#f0f921\"]], \"type\": \"heatmapgl\"}], \"histogram\": [{\"marker\": {\"colorbar\": {\"outlinewidth\": 0, \"ticks\": \"\"}}, \"type\": \"histogram\"}], \"histogram2d\": [{\"colorbar\": {\"outlinewidth\": 0, \"ticks\": \"\"}, \"colorscale\": [[0.0, \"#0d0887\"], [0.1111111111111111, \"#46039f\"], [0.2222222222222222, \"#7201a8\"], [0.3333333333333333, \"#9c179e\"], [0.4444444444444444, \"#bd3786\"], [0.5555555555555556, \"#d8576b\"], [0.6666666666666666, \"#ed7953\"], [0.7777777777777778, \"#fb9f3a\"], [0.8888888888888888, \"#fdca26\"], [1.0, \"#f0f921\"]], \"type\": \"histogram2d\"}], \"histogram2dcontour\": [{\"colorbar\": {\"outlinewidth\": 0, \"ticks\": \"\"}, \"colorscale\": [[0.0, \"#0d0887\"], [0.1111111111111111, \"#46039f\"], [0.2222222222222222, \"#7201a8\"], [0.3333333333333333, \"#9c179e\"], [0.4444444444444444, \"#bd3786\"], [0.5555555555555556, \"#d8576b\"], [0.6666666666666666, \"#ed7953\"], [0.7777777777777778, \"#fb9f3a\"], [0.8888888888888888, \"#fdca26\"], [1.0, \"#f0f921\"]], \"type\": \"histogram2dcontour\"}], \"mesh3d\": [{\"colorbar\": {\"outlinewidth\": 0, \"ticks\": \"\"}, \"type\": \"mesh3d\"}], \"parcoords\": [{\"line\": {\"colorbar\": {\"outlinewidth\": 0, \"ticks\": \"\"}}, \"type\": \"parcoords\"}], \"pie\": [{\"automargin\": true, \"type\": \"pie\"}], \"scatter\": [{\"marker\": {\"colorbar\": {\"outlinewidth\": 0, \"ticks\": \"\"}}, \"type\": \"scatter\"}], \"scatter3d\": [{\"line\": {\"colorbar\": {\"outlinewidth\": 0, \"ticks\": \"\"}}, \"marker\": {\"colorbar\": {\"outlinewidth\": 0, \"ticks\": \"\"}}, \"type\": \"scatter3d\"}], \"scattercarpet\": [{\"marker\": {\"colorbar\": {\"outlinewidth\": 0, \"ticks\": \"\"}}, \"type\": \"scattercarpet\"}], \"scattergeo\": [{\"marker\": {\"colorbar\": {\"outlinewidth\": 0, \"ticks\": \"\"}}, \"type\": \"scattergeo\"}], \"scattergl\": [{\"marker\": {\"colorbar\": {\"outlinewidth\": 0, \"ticks\": \"\"}}, \"type\": \"scattergl\"}], \"scattermapbox\": [{\"marker\": {\"colorbar\": {\"outlinewidth\": 0, \"ticks\": \"\"}}, \"type\": \"scattermapbox\"}], \"scatterpolar\": [{\"marker\": {\"colorbar\": {\"outlinewidth\": 0, \"ticks\": \"\"}}, \"type\": \"scatterpolar\"}], \"scatterpolargl\": [{\"marker\": {\"colorbar\": {\"outlinewidth\": 0, \"ticks\": \"\"}}, \"type\": \"scatterpolargl\"}], \"scatterternary\": [{\"marker\": {\"colorbar\": {\"outlinewidth\": 0, \"ticks\": \"\"}}, \"type\": \"scatterternary\"}], \"surface\": [{\"colorbar\": {\"outlinewidth\": 0, \"ticks\": \"\"}, \"colorscale\": [[0.0, \"#0d0887\"], [0.1111111111111111, \"#46039f\"], [0.2222222222222222, \"#7201a8\"], [0.3333333333333333, \"#9c179e\"], [0.4444444444444444, \"#bd3786\"], [0.5555555555555556, \"#d8576b\"], [0.6666666666666666, \"#ed7953\"], [0.7777777777777778, \"#fb9f3a\"], [0.8888888888888888, \"#fdca26\"], [1.0, \"#f0f921\"]], \"type\": \"surface\"}], \"table\": [{\"cells\": {\"fill\": {\"color\": \"#EBF0F8\"}, \"line\": {\"color\": \"white\"}}, \"header\": {\"fill\": {\"color\": \"#C8D4E3\"}, \"line\": {\"color\": \"white\"}}, \"type\": \"table\"}]}, \"layout\": {\"annotationdefaults\": {\"arrowcolor\": \"#2a3f5f\", \"arrowhead\": 0, \"arrowwidth\": 1}, \"coloraxis\": {\"colorbar\": {\"outlinewidth\": 0, \"ticks\": \"\"}}, \"colorscale\": {\"diverging\": [[0, \"#8e0152\"], [0.1, \"#c51b7d\"], [0.2, \"#de77ae\"], [0.3, \"#f1b6da\"], [0.4, \"#fde0ef\"], [0.5, \"#f7f7f7\"], [0.6, \"#e6f5d0\"], [0.7, \"#b8e186\"], [0.8, \"#7fbc41\"], [0.9, \"#4d9221\"], [1, \"#276419\"]], \"sequential\": [[0.0, \"#0d0887\"], [0.1111111111111111, \"#46039f\"], [0.2222222222222222, \"#7201a8\"], [0.3333333333333333, \"#9c179e\"], [0.4444444444444444, \"#bd3786\"], [0.5555555555555556, \"#d8576b\"], [0.6666666666666666, \"#ed7953\"], [0.7777777777777778, \"#fb9f3a\"], [0.8888888888888888, \"#fdca26\"], [1.0, \"#f0f921\"]], \"sequentialminus\": [[0.0, \"#0d0887\"], [0.1111111111111111, \"#46039f\"], [0.2222222222222222, \"#7201a8\"], [0.3333333333333333, \"#9c179e\"], [0.4444444444444444, \"#bd3786\"], [0.5555555555555556, \"#d8576b\"], [0.6666666666666666, \"#ed7953\"], [0.7777777777777778, \"#fb9f3a\"], [0.8888888888888888, \"#fdca26\"], [1.0, \"#f0f921\"]]}, \"colorway\": [\"#636efa\", \"#EF553B\", \"#00cc96\", \"#ab63fa\", \"#FFA15A\", \"#19d3f3\", \"#FF6692\", \"#B6E880\", \"#FF97FF\", \"#FECB52\"], \"font\": {\"color\": \"#2a3f5f\"}, \"geo\": {\"bgcolor\": \"white\", \"lakecolor\": \"white\", \"landcolor\": \"#E5ECF6\", \"showlakes\": true, \"showland\": true, \"subunitcolor\": \"white\"}, \"hoverlabel\": {\"align\": \"left\"}, \"hovermode\": \"closest\", \"mapbox\": {\"style\": \"light\"}, \"paper_bgcolor\": \"white\", \"plot_bgcolor\": \"#E5ECF6\", \"polar\": {\"angularaxis\": {\"gridcolor\": \"white\", \"linecolor\": \"white\", \"ticks\": \"\"}, \"bgcolor\": \"#E5ECF6\", \"radialaxis\": {\"gridcolor\": \"white\", \"linecolor\": \"white\", \"ticks\": \"\"}}, \"scene\": {\"xaxis\": {\"backgroundcolor\": \"#E5ECF6\", \"gridcolor\": \"white\", \"gridwidth\": 2, \"linecolor\": \"white\", \"showbackground\": true, \"ticks\": \"\", \"zerolinecolor\": \"white\"}, \"yaxis\": {\"backgroundcolor\": \"#E5ECF6\", \"gridcolor\": \"white\", \"gridwidth\": 2, \"linecolor\": \"white\", \"showbackground\": true, \"ticks\": \"\", \"zerolinecolor\": \"white\"}, \"zaxis\": {\"backgroundcolor\": \"#E5ECF6\", \"gridcolor\": \"white\", \"gridwidth\": 2, \"linecolor\": \"white\", \"showbackground\": true, \"ticks\": \"\", \"zerolinecolor\": \"white\"}}, \"shapedefaults\": {\"line\": {\"color\": \"#2a3f5f\"}}, \"ternary\": {\"aaxis\": {\"gridcolor\": \"white\", \"linecolor\": \"white\", \"ticks\": \"\"}, \"baxis\": {\"gridcolor\": \"white\", \"linecolor\": \"white\", \"ticks\": \"\"}, \"bgcolor\": \"#E5ECF6\", \"caxis\": {\"gridcolor\": \"white\", \"linecolor\": \"white\", \"ticks\": \"\"}}, \"title\": {\"x\": 0.05}, \"xaxis\": {\"automargin\": true, \"gridcolor\": \"white\", \"linecolor\": \"white\", \"ticks\": \"\", \"title\": {\"standoff\": 15}, \"zerolinecolor\": \"white\", \"zerolinewidth\": 2}, \"yaxis\": {\"automargin\": true, \"gridcolor\": \"white\", \"linecolor\": \"white\", \"ticks\": \"\", \"title\": {\"standoff\": 15}, \"zerolinecolor\": \"white\", \"zerolinewidth\": 2}}}, \"title\": {\"text\": \"3d TSNE Plot for Outliers\"}, \"width\": 900},\n",
       "                        {\"responsive\": true}\n",
       "                    ).then(function(){\n",
       "                            \n",
       "var gd = document.getElementById('28f08299-70e3-4cf8-8a55-f5b8756b903a');\n",
       "var x = new MutationObserver(function (mutations, observer) {{\n",
       "        var display = window.getComputedStyle(gd).display;\n",
       "        if (!display || display === 'none') {{\n",
       "            console.log([gd, 'removed!']);\n",
       "            Plotly.purge(gd);\n",
       "            observer.disconnect();\n",
       "        }}\n",
       "}});\n",
       "\n",
       "// Listen for the removal of the full notebook cells\n",
       "var notebookContainer = gd.closest('#notebook-container');\n",
       "if (notebookContainer) {{\n",
       "    x.observe(notebookContainer, {childList: true});\n",
       "}}\n",
       "\n",
       "// Listen for the clearing of the current output cell\n",
       "var outputEl = gd.closest('.output');\n",
       "if (outputEl) {{\n",
       "    x.observe(outputEl, {childList: true});\n",
       "}}\n",
       "\n",
       "                        })\n",
       "                };\n",
       "                });\n",
       "            </script>\n",
       "        </div>"
      ]
     },
     "metadata": {},
     "output_type": "display_data"
    }
   ],
   "source": [
    "# create a model\n",
    "knn = create_model('knn')\n",
    "# plot a model\n",
    "plot_model(knn)"
   ]
  },
  {
   "cell_type": "markdown",
   "metadata": {},
   "source": [
    "# Predict Model"
   ]
  },
  {
   "cell_type": "code",
   "execution_count": 6,
   "metadata": {},
   "outputs": [],
   "source": [
    "# create a model\n",
    "knn = create_model('knn')\n",
    "# generate predictions using trained model\n",
    "knn_predictions = predict_model(knn, data = anomaly)"
   ]
  },
  {
   "cell_type": "code",
   "execution_count": 7,
   "metadata": {},
   "outputs": [
    {
     "data": {
      "text/html": [
       "<div>\n",
       "<style scoped>\n",
       "    .dataframe tbody tr th:only-of-type {\n",
       "        vertical-align: middle;\n",
       "    }\n",
       "\n",
       "    .dataframe tbody tr th {\n",
       "        vertical-align: top;\n",
       "    }\n",
       "\n",
       "    .dataframe thead th {\n",
       "        text-align: right;\n",
       "    }\n",
       "</style>\n",
       "<table border=\"1\" class=\"dataframe\">\n",
       "  <thead>\n",
       "    <tr style=\"text-align: right;\">\n",
       "      <th></th>\n",
       "      <th>Col1</th>\n",
       "      <th>Col2</th>\n",
       "      <th>Col3</th>\n",
       "      <th>Col4</th>\n",
       "      <th>Col5</th>\n",
       "      <th>Col6</th>\n",
       "      <th>Col7</th>\n",
       "      <th>Col8</th>\n",
       "      <th>Col9</th>\n",
       "      <th>Col10</th>\n",
       "      <th>Label</th>\n",
       "      <th>Score</th>\n",
       "    </tr>\n",
       "  </thead>\n",
       "  <tbody>\n",
       "    <tr>\n",
       "      <th>0</th>\n",
       "      <td>0.263995</td>\n",
       "      <td>0.764929</td>\n",
       "      <td>0.138424</td>\n",
       "      <td>0.935242</td>\n",
       "      <td>0.605867</td>\n",
       "      <td>0.518790</td>\n",
       "      <td>0.912225</td>\n",
       "      <td>0.608234</td>\n",
       "      <td>0.723782</td>\n",
       "      <td>0.733591</td>\n",
       "      <td>0</td>\n",
       "      <td>0.558927</td>\n",
       "    </tr>\n",
       "    <tr>\n",
       "      <th>1</th>\n",
       "      <td>0.546092</td>\n",
       "      <td>0.653975</td>\n",
       "      <td>0.065575</td>\n",
       "      <td>0.227772</td>\n",
       "      <td>0.845269</td>\n",
       "      <td>0.837066</td>\n",
       "      <td>0.272379</td>\n",
       "      <td>0.331679</td>\n",
       "      <td>0.429297</td>\n",
       "      <td>0.367422</td>\n",
       "      <td>0</td>\n",
       "      <td>0.477482</td>\n",
       "    </tr>\n",
       "    <tr>\n",
       "      <th>2</th>\n",
       "      <td>0.336714</td>\n",
       "      <td>0.538842</td>\n",
       "      <td>0.192801</td>\n",
       "      <td>0.553563</td>\n",
       "      <td>0.074515</td>\n",
       "      <td>0.332993</td>\n",
       "      <td>0.365792</td>\n",
       "      <td>0.861309</td>\n",
       "      <td>0.899017</td>\n",
       "      <td>0.088600</td>\n",
       "      <td>0</td>\n",
       "      <td>0.676207</td>\n",
       "    </tr>\n",
       "    <tr>\n",
       "      <th>3</th>\n",
       "      <td>0.092108</td>\n",
       "      <td>0.995017</td>\n",
       "      <td>0.014465</td>\n",
       "      <td>0.176371</td>\n",
       "      <td>0.241530</td>\n",
       "      <td>0.514724</td>\n",
       "      <td>0.562208</td>\n",
       "      <td>0.158963</td>\n",
       "      <td>0.073715</td>\n",
       "      <td>0.208463</td>\n",
       "      <td>1</td>\n",
       "      <td>0.804769</td>\n",
       "    </tr>\n",
       "    <tr>\n",
       "      <th>4</th>\n",
       "      <td>0.325261</td>\n",
       "      <td>0.805968</td>\n",
       "      <td>0.957033</td>\n",
       "      <td>0.331665</td>\n",
       "      <td>0.307923</td>\n",
       "      <td>0.355315</td>\n",
       "      <td>0.501899</td>\n",
       "      <td>0.558449</td>\n",
       "      <td>0.885169</td>\n",
       "      <td>0.182754</td>\n",
       "      <td>0</td>\n",
       "      <td>0.630836</td>\n",
       "    </tr>\n",
       "    <tr>\n",
       "      <th>...</th>\n",
       "      <td>...</td>\n",
       "      <td>...</td>\n",
       "      <td>...</td>\n",
       "      <td>...</td>\n",
       "      <td>...</td>\n",
       "      <td>...</td>\n",
       "      <td>...</td>\n",
       "      <td>...</td>\n",
       "      <td>...</td>\n",
       "      <td>...</td>\n",
       "      <td>...</td>\n",
       "      <td>...</td>\n",
       "    </tr>\n",
       "    <tr>\n",
       "      <th>995</th>\n",
       "      <td>0.305055</td>\n",
       "      <td>0.656837</td>\n",
       "      <td>0.331665</td>\n",
       "      <td>0.822525</td>\n",
       "      <td>0.907127</td>\n",
       "      <td>0.882276</td>\n",
       "      <td>0.855732</td>\n",
       "      <td>0.584786</td>\n",
       "      <td>0.808640</td>\n",
       "      <td>0.242762</td>\n",
       "      <td>0</td>\n",
       "      <td>0.266822</td>\n",
       "    </tr>\n",
       "    <tr>\n",
       "      <th>996</th>\n",
       "      <td>0.812627</td>\n",
       "      <td>0.864258</td>\n",
       "      <td>0.616604</td>\n",
       "      <td>0.167966</td>\n",
       "      <td>0.811223</td>\n",
       "      <td>0.938071</td>\n",
       "      <td>0.418462</td>\n",
       "      <td>0.472306</td>\n",
       "      <td>0.348347</td>\n",
       "      <td>0.671129</td>\n",
       "      <td>0</td>\n",
       "      <td>0.403480</td>\n",
       "    </tr>\n",
       "    <tr>\n",
       "      <th>997</th>\n",
       "      <td>0.250967</td>\n",
       "      <td>0.138627</td>\n",
       "      <td>0.919703</td>\n",
       "      <td>0.461234</td>\n",
       "      <td>0.886555</td>\n",
       "      <td>0.869888</td>\n",
       "      <td>0.800908</td>\n",
       "      <td>0.530324</td>\n",
       "      <td>0.779433</td>\n",
       "      <td>0.234952</td>\n",
       "      <td>0</td>\n",
       "      <td>0.337727</td>\n",
       "    </tr>\n",
       "    <tr>\n",
       "      <th>998</th>\n",
       "      <td>0.502436</td>\n",
       "      <td>0.936820</td>\n",
       "      <td>0.580062</td>\n",
       "      <td>0.540773</td>\n",
       "      <td>0.151995</td>\n",
       "      <td>0.059452</td>\n",
       "      <td>0.225220</td>\n",
       "      <td>0.242755</td>\n",
       "      <td>0.279385</td>\n",
       "      <td>0.538755</td>\n",
       "      <td>0</td>\n",
       "      <td>0.300265</td>\n",
       "    </tr>\n",
       "    <tr>\n",
       "      <th>999</th>\n",
       "      <td>0.457991</td>\n",
       "      <td>0.017755</td>\n",
       "      <td>0.714113</td>\n",
       "      <td>0.125992</td>\n",
       "      <td>0.063316</td>\n",
       "      <td>0.154739</td>\n",
       "      <td>0.922974</td>\n",
       "      <td>0.692299</td>\n",
       "      <td>0.816777</td>\n",
       "      <td>0.307592</td>\n",
       "      <td>0</td>\n",
       "      <td>0.367867</td>\n",
       "    </tr>\n",
       "  </tbody>\n",
       "</table>\n",
       "<p>1000 rows × 12 columns</p>\n",
       "</div>"
      ],
      "text/plain": [
       "         Col1      Col2      Col3      Col4      Col5      Col6      Col7  \\\n",
       "0    0.263995  0.764929  0.138424  0.935242  0.605867  0.518790  0.912225   \n",
       "1    0.546092  0.653975  0.065575  0.227772  0.845269  0.837066  0.272379   \n",
       "2    0.336714  0.538842  0.192801  0.553563  0.074515  0.332993  0.365792   \n",
       "3    0.092108  0.995017  0.014465  0.176371  0.241530  0.514724  0.562208   \n",
       "4    0.325261  0.805968  0.957033  0.331665  0.307923  0.355315  0.501899   \n",
       "..        ...       ...       ...       ...       ...       ...       ...   \n",
       "995  0.305055  0.656837  0.331665  0.822525  0.907127  0.882276  0.855732   \n",
       "996  0.812627  0.864258  0.616604  0.167966  0.811223  0.938071  0.418462   \n",
       "997  0.250967  0.138627  0.919703  0.461234  0.886555  0.869888  0.800908   \n",
       "998  0.502436  0.936820  0.580062  0.540773  0.151995  0.059452  0.225220   \n",
       "999  0.457991  0.017755  0.714113  0.125992  0.063316  0.154739  0.922974   \n",
       "\n",
       "         Col8      Col9     Col10  Label     Score  \n",
       "0    0.608234  0.723782  0.733591      0  0.558927  \n",
       "1    0.331679  0.429297  0.367422      0  0.477482  \n",
       "2    0.861309  0.899017  0.088600      0  0.676207  \n",
       "3    0.158963  0.073715  0.208463      1  0.804769  \n",
       "4    0.558449  0.885169  0.182754      0  0.630836  \n",
       "..        ...       ...       ...    ...       ...  \n",
       "995  0.584786  0.808640  0.242762      0  0.266822  \n",
       "996  0.472306  0.348347  0.671129      0  0.403480  \n",
       "997  0.530324  0.779433  0.234952      0  0.337727  \n",
       "998  0.242755  0.279385  0.538755      0  0.300265  \n",
       "999  0.692299  0.816777  0.307592      0  0.367867  \n",
       "\n",
       "[1000 rows x 12 columns]"
      ]
     },
     "execution_count": 7,
     "metadata": {},
     "output_type": "execute_result"
    }
   ],
   "source": [
    "knn_predictions"
   ]
  }
 ],
 "metadata": {
  "kernelspec": {
   "display_name": "Python 3",
   "language": "python",
   "name": "python3"
  },
  "language_info": {
   "codemirror_mode": {
    "name": "ipython",
    "version": 3
   },
   "file_extension": ".py",
   "mimetype": "text/x-python",
   "name": "python",
   "nbconvert_exporter": "python",
   "pygments_lexer": "ipython3",
   "version": "3.6.10"
  }
 },
 "nbformat": 4,
 "nbformat_minor": 4
}
