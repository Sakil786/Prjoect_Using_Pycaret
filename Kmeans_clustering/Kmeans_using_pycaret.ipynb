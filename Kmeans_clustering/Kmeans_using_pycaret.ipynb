{
 "cells": [
  {
   "cell_type": "markdown",
   "metadata": {},
   "source": [
    "# import the dataset from pycaret repository"
   ]
  },
  {
   "cell_type": "code",
   "execution_count": 1,
   "metadata": {
    "scrolled": true
   },
   "outputs": [
    {
     "data": {
      "text/html": [
       "<div>\n",
       "<style scoped>\n",
       "    .dataframe tbody tr th:only-of-type {\n",
       "        vertical-align: middle;\n",
       "    }\n",
       "\n",
       "    .dataframe tbody tr th {\n",
       "        vertical-align: top;\n",
       "    }\n",
       "\n",
       "    .dataframe thead th {\n",
       "        text-align: right;\n",
       "    }\n",
       "</style>\n",
       "<table border=\"1\" class=\"dataframe\">\n",
       "  <thead>\n",
       "    <tr style=\"text-align: right;\">\n",
       "      <th></th>\n",
       "      <th>Age</th>\n",
       "      <th>Income</th>\n",
       "      <th>SpendingScore</th>\n",
       "      <th>Savings</th>\n",
       "    </tr>\n",
       "  </thead>\n",
       "  <tbody>\n",
       "    <tr>\n",
       "      <th>0</th>\n",
       "      <td>58</td>\n",
       "      <td>77769</td>\n",
       "      <td>0.791329</td>\n",
       "      <td>6559.829923</td>\n",
       "    </tr>\n",
       "    <tr>\n",
       "      <th>1</th>\n",
       "      <td>59</td>\n",
       "      <td>81799</td>\n",
       "      <td>0.791082</td>\n",
       "      <td>5417.661426</td>\n",
       "    </tr>\n",
       "    <tr>\n",
       "      <th>2</th>\n",
       "      <td>62</td>\n",
       "      <td>74751</td>\n",
       "      <td>0.702657</td>\n",
       "      <td>9258.992965</td>\n",
       "    </tr>\n",
       "    <tr>\n",
       "      <th>3</th>\n",
       "      <td>59</td>\n",
       "      <td>74373</td>\n",
       "      <td>0.765680</td>\n",
       "      <td>7346.334504</td>\n",
       "    </tr>\n",
       "    <tr>\n",
       "      <th>4</th>\n",
       "      <td>87</td>\n",
       "      <td>17760</td>\n",
       "      <td>0.348778</td>\n",
       "      <td>16869.507130</td>\n",
       "    </tr>\n",
       "  </tbody>\n",
       "</table>\n",
       "</div>"
      ],
      "text/plain": [
       "   Age  Income  SpendingScore       Savings\n",
       "0   58   77769       0.791329   6559.829923\n",
       "1   59   81799       0.791082   5417.661426\n",
       "2   62   74751       0.702657   9258.992965\n",
       "3   59   74373       0.765680   7346.334504\n",
       "4   87   17760       0.348778  16869.507130"
      ]
     },
     "metadata": {},
     "output_type": "display_data"
    }
   ],
   "source": [
    "from pycaret.datasets import get_data\n",
    "jewellery = get_data('jewellery')\n"
   ]
  },
  {
   "cell_type": "markdown",
   "metadata": {},
   "source": [
    "# Data needs normalization, so normalize=True"
   ]
  },
  {
   "cell_type": "code",
   "execution_count": 2,
   "metadata": {
    "scrolled": false
   },
   "outputs": [
    {
     "name": "stdout",
     "output_type": "stream",
     "text": [
      "\n",
      "Setup Succesfully Completed!\n"
     ]
    },
    {
     "data": {
      "text/html": [
       "<style  type=\"text/css\" >\n",
       "    #T_d0b2e74e_8e35_11ea_a96d_c8f733042b03row10_col1 {\n",
       "            background-color:  lightgreen;\n",
       "        }</style><table id=\"T_d0b2e74e_8e35_11ea_a96d_c8f733042b03\" ><thead>    <tr>        <th class=\"blank level0\" ></th>        <th class=\"col_heading level0 col0\" >Description</th>        <th class=\"col_heading level0 col1\" >Value</th>    </tr></thead><tbody>\n",
       "                <tr>\n",
       "                        <th id=\"T_d0b2e74e_8e35_11ea_a96d_c8f733042b03level0_row0\" class=\"row_heading level0 row0\" >0</th>\n",
       "                        <td id=\"T_d0b2e74e_8e35_11ea_a96d_c8f733042b03row0_col0\" class=\"data row0 col0\" >session_id </td>\n",
       "                        <td id=\"T_d0b2e74e_8e35_11ea_a96d_c8f733042b03row0_col1\" class=\"data row0 col1\" >123</td>\n",
       "            </tr>\n",
       "            <tr>\n",
       "                        <th id=\"T_d0b2e74e_8e35_11ea_a96d_c8f733042b03level0_row1\" class=\"row_heading level0 row1\" >1</th>\n",
       "                        <td id=\"T_d0b2e74e_8e35_11ea_a96d_c8f733042b03row1_col0\" class=\"data row1 col0\" >Original Data </td>\n",
       "                        <td id=\"T_d0b2e74e_8e35_11ea_a96d_c8f733042b03row1_col1\" class=\"data row1 col1\" >(505, 4)</td>\n",
       "            </tr>\n",
       "            <tr>\n",
       "                        <th id=\"T_d0b2e74e_8e35_11ea_a96d_c8f733042b03level0_row2\" class=\"row_heading level0 row2\" >2</th>\n",
       "                        <td id=\"T_d0b2e74e_8e35_11ea_a96d_c8f733042b03row2_col0\" class=\"data row2 col0\" >Missing Values </td>\n",
       "                        <td id=\"T_d0b2e74e_8e35_11ea_a96d_c8f733042b03row2_col1\" class=\"data row2 col1\" >False</td>\n",
       "            </tr>\n",
       "            <tr>\n",
       "                        <th id=\"T_d0b2e74e_8e35_11ea_a96d_c8f733042b03level0_row3\" class=\"row_heading level0 row3\" >3</th>\n",
       "                        <td id=\"T_d0b2e74e_8e35_11ea_a96d_c8f733042b03row3_col0\" class=\"data row3 col0\" >Numeric Features </td>\n",
       "                        <td id=\"T_d0b2e74e_8e35_11ea_a96d_c8f733042b03row3_col1\" class=\"data row3 col1\" >4</td>\n",
       "            </tr>\n",
       "            <tr>\n",
       "                        <th id=\"T_d0b2e74e_8e35_11ea_a96d_c8f733042b03level0_row4\" class=\"row_heading level0 row4\" >4</th>\n",
       "                        <td id=\"T_d0b2e74e_8e35_11ea_a96d_c8f733042b03row4_col0\" class=\"data row4 col0\" >Categorical Features </td>\n",
       "                        <td id=\"T_d0b2e74e_8e35_11ea_a96d_c8f733042b03row4_col1\" class=\"data row4 col1\" >0</td>\n",
       "            </tr>\n",
       "            <tr>\n",
       "                        <th id=\"T_d0b2e74e_8e35_11ea_a96d_c8f733042b03level0_row5\" class=\"row_heading level0 row5\" >5</th>\n",
       "                        <td id=\"T_d0b2e74e_8e35_11ea_a96d_c8f733042b03row5_col0\" class=\"data row5 col0\" >Ordinal Features </td>\n",
       "                        <td id=\"T_d0b2e74e_8e35_11ea_a96d_c8f733042b03row5_col1\" class=\"data row5 col1\" >False</td>\n",
       "            </tr>\n",
       "            <tr>\n",
       "                        <th id=\"T_d0b2e74e_8e35_11ea_a96d_c8f733042b03level0_row6\" class=\"row_heading level0 row6\" >6</th>\n",
       "                        <td id=\"T_d0b2e74e_8e35_11ea_a96d_c8f733042b03row6_col0\" class=\"data row6 col0\" >High Cardinality Features </td>\n",
       "                        <td id=\"T_d0b2e74e_8e35_11ea_a96d_c8f733042b03row6_col1\" class=\"data row6 col1\" >False</td>\n",
       "            </tr>\n",
       "            <tr>\n",
       "                        <th id=\"T_d0b2e74e_8e35_11ea_a96d_c8f733042b03level0_row7\" class=\"row_heading level0 row7\" >7</th>\n",
       "                        <td id=\"T_d0b2e74e_8e35_11ea_a96d_c8f733042b03row7_col0\" class=\"data row7 col0\" >Transformed Data </td>\n",
       "                        <td id=\"T_d0b2e74e_8e35_11ea_a96d_c8f733042b03row7_col1\" class=\"data row7 col1\" >(505, 4)</td>\n",
       "            </tr>\n",
       "            <tr>\n",
       "                        <th id=\"T_d0b2e74e_8e35_11ea_a96d_c8f733042b03level0_row8\" class=\"row_heading level0 row8\" >8</th>\n",
       "                        <td id=\"T_d0b2e74e_8e35_11ea_a96d_c8f733042b03row8_col0\" class=\"data row8 col0\" >Numeric Imputer </td>\n",
       "                        <td id=\"T_d0b2e74e_8e35_11ea_a96d_c8f733042b03row8_col1\" class=\"data row8 col1\" >mean</td>\n",
       "            </tr>\n",
       "            <tr>\n",
       "                        <th id=\"T_d0b2e74e_8e35_11ea_a96d_c8f733042b03level0_row9\" class=\"row_heading level0 row9\" >9</th>\n",
       "                        <td id=\"T_d0b2e74e_8e35_11ea_a96d_c8f733042b03row9_col0\" class=\"data row9 col0\" >Categorical Imputer </td>\n",
       "                        <td id=\"T_d0b2e74e_8e35_11ea_a96d_c8f733042b03row9_col1\" class=\"data row9 col1\" >constant</td>\n",
       "            </tr>\n",
       "            <tr>\n",
       "                        <th id=\"T_d0b2e74e_8e35_11ea_a96d_c8f733042b03level0_row10\" class=\"row_heading level0 row10\" >10</th>\n",
       "                        <td id=\"T_d0b2e74e_8e35_11ea_a96d_c8f733042b03row10_col0\" class=\"data row10 col0\" >Normalize </td>\n",
       "                        <td id=\"T_d0b2e74e_8e35_11ea_a96d_c8f733042b03row10_col1\" class=\"data row10 col1\" >True</td>\n",
       "            </tr>\n",
       "            <tr>\n",
       "                        <th id=\"T_d0b2e74e_8e35_11ea_a96d_c8f733042b03level0_row11\" class=\"row_heading level0 row11\" >11</th>\n",
       "                        <td id=\"T_d0b2e74e_8e35_11ea_a96d_c8f733042b03row11_col0\" class=\"data row11 col0\" >Normalize Method </td>\n",
       "                        <td id=\"T_d0b2e74e_8e35_11ea_a96d_c8f733042b03row11_col1\" class=\"data row11 col1\" >zscore</td>\n",
       "            </tr>\n",
       "            <tr>\n",
       "                        <th id=\"T_d0b2e74e_8e35_11ea_a96d_c8f733042b03level0_row12\" class=\"row_heading level0 row12\" >12</th>\n",
       "                        <td id=\"T_d0b2e74e_8e35_11ea_a96d_c8f733042b03row12_col0\" class=\"data row12 col0\" >Transformation </td>\n",
       "                        <td id=\"T_d0b2e74e_8e35_11ea_a96d_c8f733042b03row12_col1\" class=\"data row12 col1\" >False</td>\n",
       "            </tr>\n",
       "            <tr>\n",
       "                        <th id=\"T_d0b2e74e_8e35_11ea_a96d_c8f733042b03level0_row13\" class=\"row_heading level0 row13\" >13</th>\n",
       "                        <td id=\"T_d0b2e74e_8e35_11ea_a96d_c8f733042b03row13_col0\" class=\"data row13 col0\" >Transformation Method </td>\n",
       "                        <td id=\"T_d0b2e74e_8e35_11ea_a96d_c8f733042b03row13_col1\" class=\"data row13 col1\" >None</td>\n",
       "            </tr>\n",
       "            <tr>\n",
       "                        <th id=\"T_d0b2e74e_8e35_11ea_a96d_c8f733042b03level0_row14\" class=\"row_heading level0 row14\" >14</th>\n",
       "                        <td id=\"T_d0b2e74e_8e35_11ea_a96d_c8f733042b03row14_col0\" class=\"data row14 col0\" >PCA </td>\n",
       "                        <td id=\"T_d0b2e74e_8e35_11ea_a96d_c8f733042b03row14_col1\" class=\"data row14 col1\" >False</td>\n",
       "            </tr>\n",
       "            <tr>\n",
       "                        <th id=\"T_d0b2e74e_8e35_11ea_a96d_c8f733042b03level0_row15\" class=\"row_heading level0 row15\" >15</th>\n",
       "                        <td id=\"T_d0b2e74e_8e35_11ea_a96d_c8f733042b03row15_col0\" class=\"data row15 col0\" >PCA Method </td>\n",
       "                        <td id=\"T_d0b2e74e_8e35_11ea_a96d_c8f733042b03row15_col1\" class=\"data row15 col1\" >None</td>\n",
       "            </tr>\n",
       "            <tr>\n",
       "                        <th id=\"T_d0b2e74e_8e35_11ea_a96d_c8f733042b03level0_row16\" class=\"row_heading level0 row16\" >16</th>\n",
       "                        <td id=\"T_d0b2e74e_8e35_11ea_a96d_c8f733042b03row16_col0\" class=\"data row16 col0\" >PCA components </td>\n",
       "                        <td id=\"T_d0b2e74e_8e35_11ea_a96d_c8f733042b03row16_col1\" class=\"data row16 col1\" >None</td>\n",
       "            </tr>\n",
       "            <tr>\n",
       "                        <th id=\"T_d0b2e74e_8e35_11ea_a96d_c8f733042b03level0_row17\" class=\"row_heading level0 row17\" >17</th>\n",
       "                        <td id=\"T_d0b2e74e_8e35_11ea_a96d_c8f733042b03row17_col0\" class=\"data row17 col0\" >Ignore Low Variance </td>\n",
       "                        <td id=\"T_d0b2e74e_8e35_11ea_a96d_c8f733042b03row17_col1\" class=\"data row17 col1\" >False</td>\n",
       "            </tr>\n",
       "            <tr>\n",
       "                        <th id=\"T_d0b2e74e_8e35_11ea_a96d_c8f733042b03level0_row18\" class=\"row_heading level0 row18\" >18</th>\n",
       "                        <td id=\"T_d0b2e74e_8e35_11ea_a96d_c8f733042b03row18_col0\" class=\"data row18 col0\" >Combine Rare Levels </td>\n",
       "                        <td id=\"T_d0b2e74e_8e35_11ea_a96d_c8f733042b03row18_col1\" class=\"data row18 col1\" >False</td>\n",
       "            </tr>\n",
       "            <tr>\n",
       "                        <th id=\"T_d0b2e74e_8e35_11ea_a96d_c8f733042b03level0_row19\" class=\"row_heading level0 row19\" >19</th>\n",
       "                        <td id=\"T_d0b2e74e_8e35_11ea_a96d_c8f733042b03row19_col0\" class=\"data row19 col0\" >Rare Level Threshold </td>\n",
       "                        <td id=\"T_d0b2e74e_8e35_11ea_a96d_c8f733042b03row19_col1\" class=\"data row19 col1\" >None</td>\n",
       "            </tr>\n",
       "            <tr>\n",
       "                        <th id=\"T_d0b2e74e_8e35_11ea_a96d_c8f733042b03level0_row20\" class=\"row_heading level0 row20\" >20</th>\n",
       "                        <td id=\"T_d0b2e74e_8e35_11ea_a96d_c8f733042b03row20_col0\" class=\"data row20 col0\" >Numeric Binning </td>\n",
       "                        <td id=\"T_d0b2e74e_8e35_11ea_a96d_c8f733042b03row20_col1\" class=\"data row20 col1\" >False</td>\n",
       "            </tr>\n",
       "            <tr>\n",
       "                        <th id=\"T_d0b2e74e_8e35_11ea_a96d_c8f733042b03level0_row21\" class=\"row_heading level0 row21\" >21</th>\n",
       "                        <td id=\"T_d0b2e74e_8e35_11ea_a96d_c8f733042b03row21_col0\" class=\"data row21 col0\" >Remove Multicollinearity </td>\n",
       "                        <td id=\"T_d0b2e74e_8e35_11ea_a96d_c8f733042b03row21_col1\" class=\"data row21 col1\" >False</td>\n",
       "            </tr>\n",
       "            <tr>\n",
       "                        <th id=\"T_d0b2e74e_8e35_11ea_a96d_c8f733042b03level0_row22\" class=\"row_heading level0 row22\" >22</th>\n",
       "                        <td id=\"T_d0b2e74e_8e35_11ea_a96d_c8f733042b03row22_col0\" class=\"data row22 col0\" >Multicollinearity Threshold </td>\n",
       "                        <td id=\"T_d0b2e74e_8e35_11ea_a96d_c8f733042b03row22_col1\" class=\"data row22 col1\" >None</td>\n",
       "            </tr>\n",
       "            <tr>\n",
       "                        <th id=\"T_d0b2e74e_8e35_11ea_a96d_c8f733042b03level0_row23\" class=\"row_heading level0 row23\" >23</th>\n",
       "                        <td id=\"T_d0b2e74e_8e35_11ea_a96d_c8f733042b03row23_col0\" class=\"data row23 col0\" >Group Features </td>\n",
       "                        <td id=\"T_d0b2e74e_8e35_11ea_a96d_c8f733042b03row23_col1\" class=\"data row23 col1\" >False</td>\n",
       "            </tr>\n",
       "    </tbody></table>"
      ],
      "text/plain": [
       "<pandas.io.formats.style.Styler at 0x7f7374eb1278>"
      ]
     },
     "metadata": {},
     "output_type": "display_data"
    }
   ],
   "source": [
    "#import clustering module\n",
    "from pycaret.clustering import *\n",
    "#intialize the setup\n",
    "exp_clu = setup(jewellery,normalize=True,session_id=123)"
   ]
  },
  {
   "cell_type": "markdown",
   "metadata": {},
   "source": [
    "# Create Model"
   ]
  },
  {
   "cell_type": "code",
   "execution_count": 3,
   "metadata": {},
   "outputs": [],
   "source": [
    "kmeans = create_model('kmeans')"
   ]
  },
  {
   "cell_type": "code",
   "execution_count": 4,
   "metadata": {
    "scrolled": false
   },
   "outputs": [
    {
     "name": "stdout",
     "output_type": "stream",
     "text": [
      "KMeans(algorithm='auto', copy_x=True, init='k-means++', max_iter=300,\n",
      "       n_clusters=4, n_init=10, n_jobs=None, precompute_distances='auto',\n",
      "       random_state=123, tol=0.0001, verbose=0)\n"
     ]
    }
   ],
   "source": [
    "print(kmeans)"
   ]
  },
  {
   "cell_type": "code",
   "execution_count": 5,
   "metadata": {},
   "outputs": [],
   "source": [
    "kmodes=create_model('kmodes')"
   ]
  },
  {
   "cell_type": "markdown",
   "metadata": {},
   "source": [
    "# Plot Model"
   ]
  },
  {
   "cell_type": "code",
   "execution_count": 6,
   "metadata": {
    "scrolled": true
   },
   "outputs": [
    {
     "data": {
      "text/html": [
       "        <script type=\"text/javascript\">\n",
       "        window.PlotlyConfig = {MathJaxConfig: 'local'};\n",
       "        if (window.MathJax) {MathJax.Hub.Config({SVG: {font: \"STIX-Web\"}});}\n",
       "        if (typeof require !== 'undefined') {\n",
       "        require.undef(\"plotly\");\n",
       "        requirejs.config({\n",
       "            paths: {\n",
       "                'plotly': ['https://cdn.plot.ly/plotly-latest.min']\n",
       "            }\n",
       "        });\n",
       "        require(['plotly'], function(Plotly) {\n",
       "            window._Plotly = Plotly;\n",
       "        });\n",
       "        }\n",
       "        </script>\n",
       "        "
      ]
     },
     "metadata": {},
     "output_type": "display_data"
    },
    {
     "data": {
      "application/vnd.plotly.v1+json": {
       "config": {
        "plotlyServerURL": "https://plot.ly"
       },
       "data": [
        {
         "customdata": [
          [
           58
          ],
          [
           59
          ],
          [
           62
          ],
          [
           59
          ],
          [
           87
          ],
          [
           29
          ],
          [
           54
          ],
          [
           87
          ],
          [
           83
          ],
          [
           84
          ],
          [
           85
          ],
          [
           36
          ],
          [
           30
          ],
          [
           31
          ],
          [
           61
          ],
          [
           92
          ],
          [
           55
          ],
          [
           87
          ],
          [
           82
          ],
          [
           88
          ],
          [
           30
          ],
          [
           84
          ],
          [
           53
          ],
          [
           91
          ],
          [
           89
          ],
          [
           30
          ],
          [
           17
          ],
          [
           55
          ],
          [
           90
          ],
          [
           61
          ],
          [
           59
          ],
          [
           59
          ],
          [
           88
          ],
          [
           56
          ],
          [
           33
          ],
          [
           61
          ],
          [
           84
          ],
          [
           61
          ],
          [
           39
          ],
          [
           31
          ],
          [
           60
          ],
          [
           87
          ],
          [
           20
          ],
          [
           57
          ],
          [
           61
          ],
          [
           18
          ],
          [
           83
          ],
          [
           25
          ],
          [
           31
          ],
          [
           55
          ],
          [
           84
          ],
          [
           36
          ],
          [
           27
          ],
          [
           91
          ],
          [
           53
          ],
          [
           91
          ],
          [
           25
          ],
          [
           83
          ],
          [
           87
          ],
          [
           90
          ],
          [
           83
          ],
          [
           83
          ],
          [
           83
          ],
          [
           61
          ],
          [
           64
          ],
          [
           62
          ],
          [
           91
          ],
          [
           28
          ],
          [
           23
          ],
          [
           55
          ],
          [
           58
          ],
          [
           31
          ],
          [
           83
          ],
          [
           91
          ],
          [
           30
          ],
          [
           57
          ],
          [
           33
          ],
          [
           59
          ],
          [
           58
          ],
          [
           29
          ],
          [
           59
          ],
          [
           84
          ],
          [
           64
          ],
          [
           87
          ],
          [
           88
          ],
          [
           35
          ],
          [
           34
          ],
          [
           58
          ],
          [
           56
          ],
          [
           63
          ],
          [
           58
          ],
          [
           60
          ],
          [
           24
          ],
          [
           94
          ],
          [
           58
          ],
          [
           25
          ],
          [
           36
          ],
          [
           62
          ],
          [
           66
          ],
          [
           37
          ],
          [
           27
          ],
          [
           24
          ],
          [
           31
          ],
          [
           23
          ],
          [
           34
          ],
          [
           88
          ],
          [
           89
          ],
          [
           32
          ],
          [
           38
          ],
          [
           57
          ],
          [
           90
          ],
          [
           33
          ],
          [
           66
          ],
          [
           35
          ],
          [
           31
          ],
          [
           35
          ],
          [
           63
          ],
          [
           30
          ],
          [
           22
          ],
          [
           84
          ],
          [
           28
          ],
          [
           88
          ],
          [
           84
          ],
          [
           88
          ],
          [
           35
          ],
          [
           82
          ],
          [
           64
          ],
          [
           91
          ],
          [
           62
          ],
          [
           62
          ],
          [
           34
          ],
          [
           60
          ],
          [
           32
          ],
          [
           65
          ],
          [
           24
          ],
          [
           88
          ],
          [
           82
          ],
          [
           26
          ],
          [
           60
          ],
          [
           31
          ],
          [
           85
          ],
          [
           63
          ],
          [
           56
          ],
          [
           28
          ],
          [
           58
          ],
          [
           26
          ],
          [
           62
          ]
         ],
         "hoverlabel": {
          "namelength": 0
         },
         "hovertemplate": "Cluster=Cluster 0<br>PCA1=%{x}<br>PCA2=%{y}<br>Feature=%{customdata[0]}",
         "legendgroup": "Cluster=Cluster 0",
         "marker": {
          "color": "#636efa",
          "opacity": 0.5,
          "symbol": "circle"
         },
         "mode": "markers",
         "name": "Cluster=Cluster 0",
         "showlegend": true,
         "textposition": "top center",
         "type": "scatter",
         "x": [
          -1.8925095897849658,
          -2.446140160757747,
          -2.441357605583527,
          -1.923770671392853,
          -2.5674016692568205,
          -2.10557676978175,
          -2.1884137458001387,
          -2.061750671528569,
          -2.302294823582739,
          -2.0517528473246758,
          -2.2875821930106666,
          -1.9803939141158555,
          -2.1869226131682136,
          -1.988863183385004,
          -2.49573669182569,
          -2.0693762964387403,
          -2.0606756806150894,
          -1.8568485736915787,
          -1.8605670216000896,
          -1.8598619693857628,
          -1.8583743926785907,
          -1.8125975524734323,
          -2.1810456339921496,
          -2.121996756830085,
          -1.9440772638285442,
          -2.0897730590776415,
          -2.133873375437624,
          -1.9494241538920554,
          -2.0392937236687163,
          -2.263831371784564,
          -2.0596222048150743,
          -2.10454801458888,
          -1.8776591205911963,
          -1.5876424070308888,
          -2.470855662566069,
          -1.8108771287321312,
          -1.9874389571144322,
          -2.084895679082328,
          -2.0752451694250342,
          -2.0773059062778336,
          -2.1082650995906382,
          -2.404282795281649,
          -2.240862786058077,
          -1.6518965066453775,
          -2.196654266057618,
          -2.1063109238772055,
          -1.6872601620843282,
          -1.9126165039691827,
          -2.3511033696083463,
          -2.3779001055093985,
          -2.16015050002124,
          -1.8555916730543978,
          -2.1368663938271366,
          -1.9100567056110205,
          -2.419934136344303,
          -2.3536232207695864,
          -2.3908000397890454,
          -2.2267334938713415,
          -1.7605101374801235,
          -1.7579711361468453,
          -2.011017713972394,
          -2.0545284512429562,
          -2.109974098686101,
          -2.034198748653999,
          -2.2967076393132486,
          -2.3114407943933193,
          -2.0640271102315433,
          -2.1894947083723957,
          -2.2135642651570673,
          -1.719667129639251,
          -1.6415100650814392,
          -1.9635142458032893,
          -1.8819534226210899,
          -1.9593512363007382,
          -2.198749352915008,
          -2.1246147200397294,
          -1.9475645155039583,
          -2.269624656288542,
          -2.025714963983886,
          -1.9876134251003665,
          -2.2367450734831027,
          -2.155529921358396,
          -1.947941817418434,
          -2.3241773584583005,
          -2.079401575264757,
          -2.1601323784762823,
          -2.3256650491394484,
          -1.8905345144688737,
          -2.1279588861954566,
          -1.8501139685727854,
          -2.0660309181406156,
          -2.284116990837202,
          -2.4086260642869344,
          -2.054961187666106,
          -2.1151354628191026,
          -2.2149141760374715,
          -1.8268447244940127,
          -2.0488757021496706,
          -2.0740642538713145,
          -1.7799235192347713,
          -2.1132550417378466,
          -2.1665824308323005,
          -2.1383706929358315,
          -2.1009645123920055,
          -2.271968787809278,
          -2.172607765490567,
          -1.9797364990940145,
          -2.209528558264984,
          -1.9316929551371966,
          -2.1905824937019074,
          -2.0875236208819117,
          -2.0325472705689434,
          -1.844956620415013,
          -2.054698745177119,
          -2.316873052085718,
          -2.015669748035298,
          -2.137447997624237,
          -1.8744645085902425,
          -2.1795387106089716,
          -1.8540490620627044,
          -2.3009029155907292,
          -1.9614734056434326,
          -2.062018685906421,
          -1.6899781808562517,
          -2.0057279390592413,
          -1.9113850700343138,
          -2.372239544607541,
          -1.7185088708977916,
          -2.6650846583612235,
          -2.034846468636312,
          -1.912234448382509,
          -1.8777106813838271,
          -2.0219203394149847,
          -2.1763682340027484,
          -1.9208509762972357,
          -2.0072052418036423,
          -2.012610070884195,
          -2.1694528134423297,
          -1.9726821199006939,
          -1.692013628626964,
          -1.734049603714174,
          -2.3091831219391437,
          -2.396385677611187,
          -1.8945486862980763,
          -2.0904897478361413,
          -2.061047259090129,
          -2.1423467445619977
         ],
         "xaxis": "x",
         "y": [
          -0.6046140743649857,
          -0.2782958121660545,
          -0.5181762804706672,
          -0.6273745804073416,
          -0.5584255957106539,
          -0.5517801808504563,
          -0.40186520150586585,
          -0.3999166324402653,
          -0.11431720648490447,
          -0.1596190077179877,
          -0.8755633773850932,
          -0.4501762590044244,
          -0.8067996212840708,
          -0.4677241371348223,
          -0.3681076374785838,
          -0.5698596894777446,
          -0.5417891354062117,
          -0.7054104619627656,
          -0.5908679677439632,
          -0.43428120968778017,
          -0.5353794688999868,
          -0.1989647713401206,
          -0.4708774021313869,
          -0.7167506618303235,
          -0.529842437012474,
          -0.4424074768818486,
          -0.5696768258353342,
          -0.62805322086761,
          -0.4053444865885517,
          -0.45444436189663545,
          -0.6563181145633048,
          -0.6480071376920643,
          -0.7015103278988358,
          -1.0908349743729873,
          -0.24687035895140358,
          -0.6893554007497759,
          -0.5169981859854392,
          -0.5585027178988963,
          -0.3794031179857119,
          -0.6825634482605113,
          -0.31381840959720286,
          -0.7173392608021748,
          -0.7895587863902825,
          -0.29117612134014287,
          -0.6273116903520713,
          -0.2844962156885227,
          -0.7954904250788061,
          -0.31220070651227133,
          -0.6846140012021048,
          -0.5926924289070147,
          -0.6676343574450291,
          -0.5744380394471978,
          -0.5519564277302009,
          -0.19150559117938454,
          -0.5971884962338547,
          -0.1032059586119966,
          -0.548099530008726,
          -0.46464097183952097,
          -0.17396284600895817,
          -0.6274956549984148,
          -0.5766039501282598,
          -0.500990497550684,
          -0.782659439205194,
          -0.40722345775334606,
          -0.19658009534834947,
          -0.05758803729897522,
          -0.7464151909747632,
          -0.586917282289816,
          -0.25504594814323395,
          -0.6422730874122043,
          -0.32005215896405736,
          -0.9640476175553684,
          -0.2942210193492456,
          -0.3045947776793817,
          -0.613838497033093,
          -0.4603720841261821,
          -0.5215544921627991,
          -0.28863269148647974,
          -0.5390371901880996,
          -0.6418532328723235,
          -0.5264186674622461,
          -0.39829073077162835,
          -0.6458563890675622,
          -0.5246607618196142,
          -0.560857328010204,
          -0.5893188243316024,
          -0.5350079457244143,
          -0.5393496345610035,
          -0.13911050955892112,
          -0.42749579016726674,
          -0.15270213209842448,
          -0.49585713306577506,
          -0.44874412686031634,
          -0.7539529667062309,
          -0.42973693179827144,
          -0.5241277430730586,
          -0.3671606043681585,
          -0.2910284972139782,
          -0.45389619403733233,
          -0.644154024408457,
          -0.36960815277275066,
          -0.750523372316151,
          -0.8410374693291163,
          -0.5619385969416542,
          -0.4491529312687195,
          -0.23068591812322728,
          -0.45659388161346526,
          -0.5797517175013484,
          -0.30034032915907505,
          -0.6014849208442846,
          -0.6338688283250102,
          -0.5563918767716808,
          -0.7365498233237937,
          -0.7520088083183664,
          -0.40881865259866457,
          -0.6102171785163254,
          -0.3834394277664598,
          -0.6191144891899748,
          -0.6347763051102634,
          -0.5275820942133451,
          -0.6493932039655955,
          -0.6400389582975555,
          -0.5549713663452895,
          -0.6934908566370718,
          -0.420030908747873,
          -0.5456030144233351,
          -0.5161724467895031,
          -0.7034946401142954,
          -0.35627439719442244,
          -0.5728525421573042,
          -0.6857125193728727,
          -0.6206342550540291,
          -0.5746310288907686,
          -0.6740201072246887,
          -0.9227843227305292,
          -0.5682785784481224,
          -0.6402759030847448,
          -0.3689559187245852,
          -0.20918448481197793,
          -0.46643970407898705,
          -0.32696547958162353,
          -0.6093340903885872,
          -0.10743758074499056,
          -0.303052476321125,
          -0.440174995240743,
          -0.4187225802621202,
          -0.30471150451590334
         ],
         "yaxis": "y"
        },
        {
         "customdata": [
          [
           86
          ],
          [
           56
          ],
          [
           91
          ],
          [
           59
          ],
          [
           28
          ],
          [
           85
          ],
          [
           65
          ],
          [
           94
          ],
          [
           86
          ],
          [
           30
          ],
          [
           62
          ],
          [
           85
          ],
          [
           59
          ],
          [
           30
          ],
          [
           83
          ],
          [
           66
          ],
          [
           31
          ],
          [
           88
          ],
          [
           28
          ],
          [
           85
          ],
          [
           64
          ],
          [
           33
          ],
          [
           62
          ],
          [
           89
          ],
          [
           61
          ],
          [
           29
          ],
          [
           56
          ],
          [
           92
          ],
          [
           62
          ],
          [
           60
          ],
          [
           85
          ],
          [
           88
          ],
          [
           94
          ],
          [
           62
          ],
          [
           64
          ],
          [
           29
          ],
          [
           27
          ],
          [
           31
          ],
          [
           87
          ],
          [
           32
          ],
          [
           63
          ],
          [
           58
          ],
          [
           62
          ],
          [
           32
          ],
          [
           93
          ],
          [
           59
          ],
          [
           61
          ],
          [
           53
          ],
          [
           82
          ],
          [
           28
          ],
          [
           32
          ],
          [
           89
          ],
          [
           84
          ],
          [
           87
          ],
          [
           29
          ],
          [
           58
          ],
          [
           29
          ],
          [
           55
          ],
          [
           25
          ],
          [
           60
          ],
          [
           88
          ],
          [
           24
          ],
          [
           56
          ],
          [
           95
          ],
          [
           89
          ],
          [
           86
          ],
          [
           85
          ],
          [
           60
          ],
          [
           87
          ],
          [
           29
          ],
          [
           23
          ],
          [
           31
          ],
          [
           89
          ],
          [
           58
          ],
          [
           56
          ],
          [
           37
          ],
          [
           89
          ],
          [
           29
          ],
          [
           23
          ],
          [
           34
          ],
          [
           64
          ],
          [
           63
          ],
          [
           85
          ],
          [
           62
          ],
          [
           59
          ],
          [
           92
          ],
          [
           67
          ],
          [
           58
          ],
          [
           58
          ],
          [
           38
          ],
          [
           57
          ],
          [
           31
          ],
          [
           36
          ],
          [
           25
          ],
          [
           66
          ],
          [
           64
          ],
          [
           59
          ],
          [
           90
          ],
          [
           68
          ],
          [
           35
          ],
          [
           84
          ],
          [
           24
          ],
          [
           29
          ],
          [
           28
          ],
          [
           81
          ],
          [
           57
          ],
          [
           37
          ],
          [
           91
          ],
          [
           82
          ],
          [
           36
          ],
          [
           31
          ],
          [
           61
          ],
          [
           64
          ],
          [
           83
          ],
          [
           63
          ],
          [
           55
          ],
          [
           86
          ],
          [
           57
          ],
          [
           94
          ],
          [
           37
          ],
          [
           26
          ],
          [
           57
          ],
          [
           37
          ],
          [
           88
          ],
          [
           61
          ],
          [
           91
          ],
          [
           84
          ],
          [
           43
          ],
          [
           59
          ],
          [
           90
          ],
          [
           88
          ],
          [
           59
          ],
          [
           59
          ],
          [
           88
          ],
          [
           37
          ],
          [
           33
          ],
          [
           90
          ],
          [
           31
          ],
          [
           90
          ],
          [
           91
          ],
          [
           29
          ],
          [
           83
          ],
          [
           84
          ],
          [
           87
          ],
          [
           22
          ],
          [
           58
          ],
          [
           31
          ],
          [
           33
          ],
          [
           56
          ],
          [
           30
          ],
          [
           85
          ],
          [
           87
          ],
          [
           34
          ],
          [
           61
          ],
          [
           30
          ],
          [
           88
          ],
          [
           56
          ]
         ],
         "hoverlabel": {
          "namelength": 0
         },
         "hovertemplate": "Cluster=Cluster 1<br>PCA1=%{x}<br>PCA2=%{y}<br>Feature=%{customdata[0]}",
         "legendgroup": "Cluster=Cluster 1",
         "marker": {
          "color": "#EF553B",
          "opacity": 0.5,
          "symbol": "circle"
         },
         "mode": "markers",
         "name": "Cluster=Cluster 1",
         "showlegend": true,
         "textposition": "top center",
         "type": "scatter",
         "x": [
          0.705960132584332,
          0.9384815206365379,
          0.6609924399624045,
          1.2113148794028372,
          0.7160189011130952,
          1.1328882478675122,
          1.206217019803309,
          0.9146569289484546,
          0.927873274804375,
          1.2454279477002406,
          0.7728732967285864,
          1.1074480842930179,
          0.865296962355503,
          1.2687191339124442,
          0.944953181049823,
          1.3021698734876512,
          0.7622312538155266,
          1.016968437745996,
          1.0103743470275062,
          0.7954780839040367,
          1.1841091620117863,
          1.1080733166694265,
          0.8997248200204973,
          1.0437351291207941,
          0.5968294407661451,
          0.9777645610618011,
          1.0725421887357214,
          0.8566260104748825,
          1.2474049189999226,
          0.7324374019115761,
          1.0077913715380575,
          1.047772672981662,
          1.1951063868113272,
          1.0101209417475778,
          1.2191798209512175,
          1.30297706445491,
          0.9578529290723364,
          0.9594904151707258,
          1.192920131453533,
          0.9890446575971698,
          1.2806117217574302,
          0.7310246913783344,
          0.6935247132809574,
          1.1100288460565033,
          1.05744764299172,
          1.026201536276119,
          1.3206465830820056,
          1.3467047630036353,
          0.8764462552030109,
          1.0464738658383361,
          0.9431474617111347,
          0.9041625554202822,
          0.86455084465975,
          0.9352338032415246,
          0.9425920842727983,
          0.8657576810841421,
          0.9030632708475183,
          0.8473239348850601,
          0.9366545674773807,
          1.086048959435074,
          1.0019402928638474,
          1.121955893775162,
          0.9119073306227607,
          0.9605009147406067,
          0.7580640338652364,
          1.1851490814357706,
          0.84639361167422,
          1.1666392930506004,
          0.8220018797190899,
          0.9389336366942208,
          1.0372284182819442,
          0.6350507066641514,
          0.8416809200835698,
          0.5770891570682695,
          0.8637286786394431,
          1.0205116659415405,
          0.7065493332712821,
          0.8861290446638928,
          1.1682836952682378,
          1.169578697484043,
          1.1412703225148813,
          0.969448651407411,
          1.1194004313191626,
          0.9700286211087099,
          1.3791573620518485,
          0.9214394300852425,
          0.9629568323883781,
          0.9783089030768444,
          0.9549237171607519,
          1.1697156964393145,
          1.012103568858779,
          0.8598961870636603,
          0.7344588131589223,
          0.9008413612961551,
          0.8612097432639744,
          0.7821931813367389,
          1.2041502207536745,
          1.2062689497452441,
          1.0852610998583696,
          0.8459435566343757,
          0.8943128181071506,
          0.8726422942483533,
          0.9041298872560475,
          0.9066282307180077,
          0.9808089660272761,
          1.0768594303469528,
          1.0636835366613568,
          0.6491556935907044,
          1.1276584984477684,
          1.3253417570495634,
          0.5838881567779773,
          0.9688223571812672,
          1.1878058329819863,
          0.9680414758663426,
          0.9446702776811146,
          1.3514664493639819,
          1.1107919243742002,
          0.9694492313376492,
          0.9863668251962459,
          0.8854326475001871,
          0.8404752544111019,
          1.1788965189308618,
          0.9128901325524063,
          0.9540261060166757,
          0.9951066450213126,
          0.9904005881248411,
          1.2097308387793182,
          0.8545271008465525,
          1.211399418663462,
          0.6485204612673691,
          1.1686594728243833,
          0.9780919204240469,
          0.9415026759594852,
          1.1543312202045433,
          0.9390626169708238,
          0.9404516999424055,
          1.217598067359455,
          0.8417702555140072,
          0.8659576049053314,
          0.998359310548084,
          0.6555737925941142,
          0.7918438918708312,
          1.0488446824470017,
          0.6643083460223334,
          0.7759052326393509,
          1.4165248374797492,
          1.0276427518256996,
          1.3211848342680668,
          0.787478939446823,
          0.8919397398920383,
          1.2856257430723261,
          1.0405649089171716,
          0.9312354331359779,
          0.9819717331282923,
          1.1042747917137976,
          1.0590705402473424,
          0.7440274435369172
         ],
         "xaxis": "x",
         "y": [
          -1.0135587140245308,
          -0.9114183410585573,
          -1.0233877290925233,
          -1.3413428364930244,
          -0.8559836223979524,
          -1.3481125844605004,
          -0.9890970443948699,
          -1.0457975031508708,
          -1.3218178340944107,
          -1.1350939020290103,
          -1.449832485117915,
          -0.9032411369754084,
          -1.0111196385057328,
          -1.2877279248601612,
          -1.082704404076162,
          -1.1317551953661236,
          -1.1008297456136789,
          -1.101990215943494,
          -1.2406547778963677,
          -0.8398827450139132,
          -1.2783963581665232,
          -1.0491406865936395,
          -1.0180186936588627,
          -1.1407848018775495,
          -1.246671996168802,
          -1.0054322619478404,
          -1.3410544630128924,
          -1.0899100944779336,
          -1.308909738052708,
          -1.2033210903474534,
          -0.9251206446811977,
          -0.9909497647105316,
          -1.5360719893942936,
          -0.7192448172061606,
          -0.9339130674309717,
          -1.0354555954607716,
          -0.7304668179805255,
          -1.0207959083693434,
          -1.323719757102428,
          -0.7460962118978061,
          -1.148785106091435,
          -1.2106187417042018,
          -0.8048184801870043,
          -1.2312023094915123,
          -0.9625591198201093,
          -1.078436449494177,
          -0.8439511939731806,
          -1.071824081722866,
          -0.9881938067627613,
          -1.1669308528476006,
          -1.223675394304704,
          -0.9268789035839298,
          -0.836363732718586,
          -1.0689487378608191,
          -1.4138817485017527,
          -1.009322873761527,
          -0.957116477220279,
          -1.095857660045824,
          -1.0537811559664199,
          -1.1540810359701277,
          -0.8672710102715026,
          -0.936193652033931,
          -1.0921091469780628,
          -1.1213907779373695,
          -1.0899601918216402,
          -0.9262420090302059,
          -0.7750478107632968,
          -0.9858205041431777,
          -0.7151245952184759,
          -1.1841016892453562,
          -1.1311765695507565,
          -0.8444885614543408,
          -1.0551123740756223,
          -1.1057267042149983,
          -0.6305227798075267,
          -1.0690001134515035,
          -1.007164100687336,
          -1.311451520078682,
          -1.000182085617143,
          -0.9948423727509872,
          -1.128260965589225,
          -0.516651688481335,
          -0.9454616857976533,
          -1.0226848440078247,
          -1.1911313993639174,
          -0.9607789273306271,
          -1.05635394023014,
          -1.2837073567549362,
          -1.42796516260207,
          -1.3232677261395929,
          -1.2827358496231809,
          -1.230773854568756,
          -1.1739385019057174,
          -1.0551957541596506,
          -1.3076655287014902,
          -0.9017110432639888,
          -1.1104901972275882,
          -0.7873291474081517,
          -1.0005435426275442,
          -1.025556149900055,
          -0.8956355018132007,
          -1.012864418959096,
          -1.3387063346994068,
          -0.8129183784091509,
          -1.1529580194551652,
          -0.8646271783466046,
          -1.0687676737545566,
          -0.7130075134432767,
          -1.1423072812706652,
          -1.0537885061046233,
          -0.7095235126984967,
          -0.9508264849933749,
          -0.9010032516632611,
          -1.1378583987331634,
          -0.8512722958346944,
          -0.9684157700140718,
          -0.850467667609997,
          -0.9652549553138374,
          -1.2147598476858894,
          -0.98720303319995,
          -1.0083836167628986,
          -1.1914816105339103,
          -1.287788972881838,
          -1.105011838537084,
          -0.8446993421453309,
          -1.0986216031201455,
          -1.0174122943432224,
          -0.9365448556375334,
          -1.3813314590579011,
          -1.2345567696571151,
          -1.3828850833445006,
          -0.8932650726560928,
          -0.8738517947581397,
          -0.8986911745233586,
          -0.8248210946873342,
          -1.0093416719979809,
          -1.0940498671468717,
          -1.1315541637852449,
          -0.9501853289012729,
          -0.726145613726388,
          -0.9506074539298878,
          -1.0428462548367572,
          -1.0341294915473902,
          -0.8901299590394515,
          -1.0307952243839231,
          -1.1874054711995603,
          -1.2614198577861813,
          -1.0112114362969775,
          -1.0185756237002803,
          -0.9244827733793158,
          -1.0491610499540125,
          -1.087901380418689,
          -1.1517194616311848,
          -1.2111098779679834,
          -0.9261338838834451,
          -0.8907998373596879,
          -1.0170300594710444
         ],
         "yaxis": "y"
        },
        {
         "customdata": [
          [
           30
          ],
          [
           25
          ],
          [
           61
          ],
          [
           88
          ],
          [
           37
          ],
          [
           35
          ],
          [
           85
          ],
          [
           85
          ],
          [
           88
          ],
          [
           59
          ],
          [
           90
          ],
          [
           33
          ],
          [
           62
          ],
          [
           59
          ],
          [
           91
          ],
          [
           33
          ],
          [
           87
          ],
          [
           26
          ],
          [
           88
          ],
          [
           24
          ],
          [
           91
          ],
          [
           86
          ],
          [
           36
          ],
          [
           87
          ],
          [
           33
          ],
          [
           59
          ],
          [
           29
          ],
          [
           59
          ],
          [
           57
          ],
          [
           40
          ],
          [
           42
          ],
          [
           89
          ],
          [
           93
          ],
          [
           17
          ],
          [
           24
          ],
          [
           34
          ],
          [
           90
          ],
          [
           20
          ],
          [
           92
          ],
          [
           84
          ],
          [
           59
          ],
          [
           61
          ],
          [
           67
          ],
          [
           82
          ],
          [
           94
          ],
          [
           28
          ],
          [
           36
          ],
          [
           91
          ],
          [
           34
          ],
          [
           77
          ],
          [
           63
          ],
          [
           35
          ],
          [
           21
          ],
          [
           86
          ],
          [
           56
          ],
          [
           83
          ],
          [
           28
          ],
          [
           59
          ],
          [
           83
          ],
          [
           83
          ],
          [
           58
          ],
          [
           91
          ],
          [
           29
          ],
          [
           61
          ],
          [
           84
          ],
          [
           34
          ],
          [
           33
          ],
          [
           55
          ],
          [
           88
          ],
          [
           91
          ],
          [
           91
          ],
          [
           84
          ],
          [
           87
          ],
          [
           39
          ],
          [
           38
          ],
          [
           89
          ],
          [
           59
          ],
          [
           35
          ],
          [
           59
          ],
          [
           87
          ],
          [
           94
          ],
          [
           86
          ],
          [
           60
          ],
          [
           79
          ],
          [
           86
          ],
          [
           60
          ],
          [
           85
          ],
          [
           92
          ],
          [
           37
          ],
          [
           89
          ],
          [
           67
          ],
          [
           31
          ],
          [
           20
          ],
          [
           37
          ],
          [
           57
          ],
          [
           87
          ],
          [
           33
          ],
          [
           56
          ],
          [
           67
          ],
          [
           58
          ],
          [
           89
          ],
          [
           34
          ],
          [
           25
          ],
          [
           44
          ],
          [
           68
          ],
          [
           31
          ],
          [
           58
          ],
          [
           55
          ],
          [
           21
          ],
          [
           36
          ],
          [
           88
          ],
          [
           26
          ],
          [
           29
          ],
          [
           38
          ],
          [
           79
          ],
          [
           51
          ],
          [
           82
          ],
          [
           39
          ],
          [
           87
          ],
          [
           36
          ],
          [
           57
          ],
          [
           61
          ],
          [
           86
          ],
          [
           86
          ],
          [
           35
          ],
          [
           89
          ],
          [
           30
          ],
          [
           60
          ],
          [
           64
          ],
          [
           37
          ],
          [
           65
          ],
          [
           90
          ],
          [
           59
          ],
          [
           29
          ],
          [
           58
          ],
          [
           88
          ],
          [
           63
          ],
          [
           92
          ],
          [
           17
          ],
          [
           34
          ],
          [
           22
          ],
          [
           24
          ],
          [
           36
          ],
          [
           34
          ],
          [
           87
          ],
          [
           85
          ],
          [
           61
          ],
          [
           27
          ],
          [
           59
          ],
          [
           31
          ],
          [
           31
          ]
         ],
         "hoverlabel": {
          "namelength": 0
         },
         "hovertemplate": "Cluster=Cluster 2<br>PCA1=%{x}<br>PCA2=%{y}<br>Feature=%{customdata[0]}",
         "legendgroup": "Cluster=Cluster 2",
         "marker": {
          "color": "#00cc96",
          "opacity": 0.5,
          "symbol": "circle"
         },
         "mode": "markers",
         "name": "Cluster=Cluster 2",
         "showlegend": true,
         "textposition": "top center",
         "type": "scatter",
         "x": [
          0.21730435467967066,
          0.5268484808304671,
          0.3029434706256703,
          0.47040269632573123,
          -0.047600827314626774,
          -1.039253322806655,
          -1.2481136308096634,
          0.012671787887797338,
          0.23417752734878852,
          0.1826946195781907,
          0.2905261959912064,
          0.32006464176635113,
          0.2853176036269745,
          0.06669631899033684,
          0.1368969591281352,
          0.03699652595531637,
          0.162454025889262,
          -0.08843572500885023,
          -1.1277989637296855,
          0.4950549797276423,
          -0.13748781978277386,
          0.22836606891011413,
          -1.2098766939416907,
          0.3295581031834375,
          0.31097931393516276,
          0.15596871389086978,
          0.2357552461915188,
          -1.2666202942359164,
          0.38809548013295475,
          0.147113239994178,
          0.21406800732462514,
          0.3292128525895105,
          0.0244578226481246,
          0.18989268715206056,
          -0.06863316322720008,
          0.34747535196273943,
          -0.9541647633394382,
          0.2030776463525922,
          0.3138346481443743,
          -1.2921524193726306,
          0.3278263950648025,
          0.05098713908239967,
          -0.9031905384342062,
          0.307129804353312,
          -1.09756128639746,
          -0.09633291726944994,
          -1.095230165607461,
          0.4327565778337944,
          0.4262593499045808,
          -0.1530455400866977,
          -1.3983098956237923,
          0.22944947667940532,
          0.4196125902321766,
          -0.11069420961116067,
          0.574733731682875,
          0.3580626040375044,
          0.3769089864980641,
          -0.01530123141944497,
          0.18176350885902318,
          0.11017438417753331,
          -1.1975955672718566,
          0.014221867438113602,
          0.4086853250530214,
          -0.9670629789192079,
          -0.04815845077814475,
          0.40538312130197085,
          0.40994650694802337,
          0.4899908703924904,
          0.7206925273591878,
          0.20455623212017313,
          0.10836347318943501,
          0.3752452101139475,
          0.4277487650886825,
          0.13276127294357026,
          -0.019187077996087328,
          -0.033678149928641765,
          0.4708579465871162,
          -1.1784391467069222,
          0.14166261513287337,
          0.40889347821008704,
          0.13527400782880913,
          0.2284306236654786,
          0.16150143221687138,
          0.3904823989123015,
          0.1424807686638524,
          0.46704746883449044,
          0.2407997419143353,
          0.6209177507357927,
          0.1001509153171107,
          -0.7634175173608074,
          0.4193999411748166,
          0.4717466661568948,
          -0.17843249653309745,
          0.07082605153271505,
          0.19313298634049833,
          0.14987782216455,
          0.2862547884765353,
          0.24302673025668717,
          -1.0903662935204657,
          -1.0432102831151377,
          -1.6249127430069024,
          -1.0212922532716064,
          0.2220005782816064,
          0.0702100531080758,
          0.3460102393617335,
          0.18708410242978668,
          -0.9552849141153795,
          0.15203685002687256,
          0.33337648740104775,
          0.1653983200766036,
          0.403193833599474,
          0.25349503241612104,
          0.10798190058984088,
          0.25297563513141946,
          -0.229383228542457,
          0.4200019343818134,
          0.5330680712134547,
          -1.190867339912667,
          0.2587062020833514,
          0.1047100012970359,
          0.44920708207115867,
          -0.15415709193410432,
          0.18370795062716713,
          -0.9675568893676613,
          0.10755108508674988,
          0.23395699056963098,
          0.388629728592709,
          -0.01708534040912222,
          -0.057304364971380785,
          0.2957481233756107,
          0.26865424372509583,
          0.08619071169016368,
          -0.024306157939931277,
          0.2528098087690156,
          0.39567428791378023,
          0.2742149626718295,
          0.3833588948858261,
          0.21584757434291457,
          0.42412684344445367,
          0.23046755174871847,
          0.24405114390161747,
          0.2857222853600731,
          -0.18547996102691167,
          0.3379530566558627,
          -1.1915520132735637,
          -0.8348660931609554,
          0.1886534920817924,
          0.5702846658702908,
          0.23536289651427975,
          -1.2427853767437969,
          0.31007183452466375
         ],
         "xaxis": "x",
         "y": [
          1.384014522876722,
          1.7074318218407187,
          1.5526622411688595,
          1.6505084996032604,
          1.4687294065128105,
          1.3135300085049453,
          1.582262820380453,
          1.8431367518566453,
          1.4609129883083158,
          1.6082293763350155,
          1.790195446838695,
          1.4396322171548483,
          1.7974611331867154,
          1.7356202049003784,
          1.6224836294264187,
          1.5980239942453693,
          1.4691569298802005,
          1.8279336436841285,
          1.3804689910581296,
          1.6722886114391171,
          1.9393261128601889,
          1.39469615120912,
          1.3846394558355009,
          1.5755302126404722,
          1.5576452898348832,
          1.590601795594417,
          1.2902314805603055,
          1.3289766502178693,
          1.4121023143885476,
          1.685223232611325,
          1.4915248227159281,
          1.623856707703742,
          1.8809434698484198,
          1.7329710114649197,
          1.5834939724414436,
          1.6445951084064119,
          0.9893579587027433,
          1.7269874703999861,
          1.5917902501952998,
          1.3272071763520197,
          1.604914659716268,
          1.8996637897019282,
          1.2898572849628362,
          1.5713309270832816,
          1.2589971663896353,
          1.3905682153302215,
          1.1727357480096146,
          1.6303414494518091,
          1.4308145886105168,
          1.7117805728388222,
          1.3795671604603486,
          1.4856662654007757,
          1.5081257807041504,
          1.7989045127992147,
          1.8315728831631133,
          1.562804421373091,
          1.654140538436513,
          1.7923009042777567,
          1.5598097467716743,
          1.7275528425655686,
          1.4958440971752984,
          1.5946021328890443,
          1.9740726916979436,
          1.0706344743849519,
          1.778221936364588,
          1.7628076139252222,
          1.6457159924518585,
          1.749254771399951,
          1.3508523655450229,
          1.719241587132492,
          1.8203269670337323,
          1.7995711192335861,
          1.7193222116272984,
          1.623962125926678,
          1.4381686236979379,
          1.5181028187383006,
          1.7797650239988716,
          1.3195282764801826,
          1.6379037642684533,
          1.4115550115262077,
          1.7136273793662258,
          1.3602033219527676,
          1.1885111312875818,
          1.3470472053452571,
          1.769753235090879,
          1.907339239789904,
          1.7288554287947324,
          1.5672686115149193,
          1.6948995404561913,
          1.224390569436602,
          1.7434933069475496,
          1.8495581449807577,
          1.5557084700763375,
          1.6776867634780128,
          1.6485887470162064,
          1.6099944737064713,
          1.1386863139592105,
          1.6242223408461092,
          1.2543911693969447,
          1.5599327855338165,
          1.534334821024275,
          1.2016266528184776,
          1.8694706303149442,
          1.969740090814904,
          1.5959800051209434,
          1.5100587099446192,
          1.1784851028922105,
          1.748243580243543,
          1.4389177814030158,
          1.3074850566242175,
          1.6709257322872977,
          1.6210649353601796,
          1.9551017996442492,
          1.8050070243718772,
          1.8646990361592344,
          1.5791511608334934,
          1.5752059572403638,
          1.2792909148990574,
          1.685659669848364,
          1.7883368761196345,
          1.8500054307192841,
          1.6299545294665474,
          1.627493070349842,
          1.4027015503072442,
          1.4363191019927872,
          1.6203935255650788,
          1.7142458564436687,
          1.6424215762727297,
          1.8753575087932144,
          1.3939503953960752,
          1.6683769189727975,
          1.6215238023833032,
          1.7425572621420302,
          1.8908250189134694,
          1.6332620132734996,
          1.6670982942623447,
          1.607073611254969,
          1.7098543918628821,
          1.6521558450649372,
          1.3890042815995527,
          1.979956117424565,
          1.8709051484183294,
          1.6505739249517304,
          1.5676659909614301,
          1.207173719903081,
          1.6633252395563793,
          1.6265685160315266,
          1.6086501902260182,
          1.5278631393450823,
          1.247215544724656,
          1.9068400748266205
         ],
         "yaxis": "y"
        },
        {
         "customdata": [
          [
           93
          ],
          [
           17
          ],
          [
           35
          ],
          [
           28
          ],
          [
           94
          ],
          [
           28
          ],
          [
           33
          ],
          [
           56
          ],
          [
           28
          ],
          [
           86
          ],
          [
           92
          ],
          [
           18
          ],
          [
           61
          ],
          [
           32
          ],
          [
           63
          ],
          [
           58
          ],
          [
           31
          ],
          [
           62
          ],
          [
           60
          ],
          [
           62
          ],
          [
           90
          ],
          [
           33
          ],
          [
           33
          ],
          [
           65
          ],
          [
           59
          ],
          [
           65
          ],
          [
           86
          ],
          [
           32
          ],
          [
           84
          ],
          [
           84
          ],
          [
           90
          ],
          [
           91
          ],
          [
           26
          ],
          [
           92
          ],
          [
           97
          ],
          [
           84
          ],
          [
           58
          ],
          [
           61
          ],
          [
           92
          ],
          [
           87
          ],
          [
           66
          ],
          [
           22
          ],
          [
           91
          ],
          [
           30
          ],
          [
           25
          ],
          [
           28
          ],
          [
           93
          ],
          [
           90
          ],
          [
           91
          ],
          [
           89
          ]
         ],
         "hoverlabel": {
          "namelength": 0
         },
         "hovertemplate": "Cluster=Cluster 3<br>PCA1=%{x}<br>PCA2=%{y}<br>Feature=%{customdata[0]}",
         "legendgroup": "Cluster=Cluster 3",
         "marker": {
          "color": "#ab63fa",
          "opacity": 0.5,
          "symbol": "circle"
         },
         "mode": "markers",
         "name": "Cluster=Cluster 3",
         "showlegend": true,
         "textposition": "top center",
         "type": "scatter",
         "x": [
          2.877220034434989,
          3.2896660154381476,
          3.31478317673642,
          3.606010988942631,
          2.9684909174839387,
          3.0222113935352852,
          2.996529406432554,
          3.0233418584153773,
          3.028470896387115,
          2.7928142831949754,
          2.82108474539495,
          2.8857013023696743,
          2.9555457095355515,
          3.027670206389645,
          2.9081920658185774,
          3.2271349453035016,
          3.0574046817961857,
          2.9467083871516704,
          2.744122979622826,
          3.3345886626480663,
          3.106051448050941,
          3.0625443677337785,
          2.9645299234642795,
          2.582432363895039,
          2.9946137974454574,
          3.1899017602988406,
          2.910054489537696,
          3.128438397098393,
          2.979040966693557,
          3.029682620095989,
          3.203383958847762,
          2.7615134947467292,
          2.727690785816718,
          3.0185007100577725,
          3.018464842587771,
          3.133688706632407,
          3.2480214128887974,
          3.136928622207274,
          2.8772063806314505,
          2.836009023908767,
          3.1090476869811656,
          2.6580310820936806,
          2.6248468777351874,
          2.683442984898974,
          3.0785132765298853,
          3.3186573180598904,
          3.019478668443559,
          2.9969656824919335,
          2.61263292037678,
          2.8596495767532826
         ],
         "xaxis": "x",
         "y": [
          -0.15961207601032115,
          0.05549885010228615,
          -0.060191286110540664,
          -0.020802594388019253,
          0.09709131313614322,
          0.12765054813998628,
          0.10028255459809986,
          -0.27978958147663374,
          -0.005101881786272981,
          -0.132967069088288,
          -0.016743632671321333,
          -0.28749257811745615,
          0.2758659944964195,
          0.03958601925244075,
          0.0145945224487298,
          0.023558589191053768,
          -0.3726669924440928,
          0.07393602233269038,
          0.2284658232356106,
          -0.023427309652840893,
          0.046652904377657116,
          -0.02478841991027424,
          0.030777141517696893,
          -0.011831537531314426,
          0.004345606896142186,
          -0.393418119366225,
          0.2423480880123421,
          -0.12386302402716862,
          -0.17767732357540042,
          -0.11781860782167393,
          -0.04759533103028815,
          0.02747241290219645,
          0.06575239595018269,
          0.26981599359456865,
          0.025679213632869475,
          0.005365716800778713,
          0.22315486970440793,
          -0.333842157427347,
          0.15353831097127438,
          -0.07559247056152114,
          -0.22672837204209706,
          0.22000581925195445,
          -0.10508688865152636,
          0.038764552849501505,
          0.11283442639345087,
          0.1814948327214732,
          0.12620199728755516,
          -0.32384241029404487,
          0.007656281784057894,
          0.2720229987464245
         ],
         "yaxis": "y"
        }
       ],
       "layout": {
        "height": 600,
        "legend": {
         "tracegroupgap": 0
        },
        "margin": {
         "t": 60
        },
        "plot_bgcolor": "rgb(240,240,240)",
        "template": {
         "data": {
          "bar": [
           {
            "error_x": {
             "color": "#2a3f5f"
            },
            "error_y": {
             "color": "#2a3f5f"
            },
            "marker": {
             "line": {
              "color": "#E5ECF6",
              "width": 0.5
             }
            },
            "type": "bar"
           }
          ],
          "barpolar": [
           {
            "marker": {
             "line": {
              "color": "#E5ECF6",
              "width": 0.5
             }
            },
            "type": "barpolar"
           }
          ],
          "carpet": [
           {
            "aaxis": {
             "endlinecolor": "#2a3f5f",
             "gridcolor": "white",
             "linecolor": "white",
             "minorgridcolor": "white",
             "startlinecolor": "#2a3f5f"
            },
            "baxis": {
             "endlinecolor": "#2a3f5f",
             "gridcolor": "white",
             "linecolor": "white",
             "minorgridcolor": "white",
             "startlinecolor": "#2a3f5f"
            },
            "type": "carpet"
           }
          ],
          "choropleth": [
           {
            "colorbar": {
             "outlinewidth": 0,
             "ticks": ""
            },
            "type": "choropleth"
           }
          ],
          "contour": [
           {
            "colorbar": {
             "outlinewidth": 0,
             "ticks": ""
            },
            "colorscale": [
             [
              0,
              "#0d0887"
             ],
             [
              0.1111111111111111,
              "#46039f"
             ],
             [
              0.2222222222222222,
              "#7201a8"
             ],
             [
              0.3333333333333333,
              "#9c179e"
             ],
             [
              0.4444444444444444,
              "#bd3786"
             ],
             [
              0.5555555555555556,
              "#d8576b"
             ],
             [
              0.6666666666666666,
              "#ed7953"
             ],
             [
              0.7777777777777778,
              "#fb9f3a"
             ],
             [
              0.8888888888888888,
              "#fdca26"
             ],
             [
              1,
              "#f0f921"
             ]
            ],
            "type": "contour"
           }
          ],
          "contourcarpet": [
           {
            "colorbar": {
             "outlinewidth": 0,
             "ticks": ""
            },
            "type": "contourcarpet"
           }
          ],
          "heatmap": [
           {
            "colorbar": {
             "outlinewidth": 0,
             "ticks": ""
            },
            "colorscale": [
             [
              0,
              "#0d0887"
             ],
             [
              0.1111111111111111,
              "#46039f"
             ],
             [
              0.2222222222222222,
              "#7201a8"
             ],
             [
              0.3333333333333333,
              "#9c179e"
             ],
             [
              0.4444444444444444,
              "#bd3786"
             ],
             [
              0.5555555555555556,
              "#d8576b"
             ],
             [
              0.6666666666666666,
              "#ed7953"
             ],
             [
              0.7777777777777778,
              "#fb9f3a"
             ],
             [
              0.8888888888888888,
              "#fdca26"
             ],
             [
              1,
              "#f0f921"
             ]
            ],
            "type": "heatmap"
           }
          ],
          "heatmapgl": [
           {
            "colorbar": {
             "outlinewidth": 0,
             "ticks": ""
            },
            "colorscale": [
             [
              0,
              "#0d0887"
             ],
             [
              0.1111111111111111,
              "#46039f"
             ],
             [
              0.2222222222222222,
              "#7201a8"
             ],
             [
              0.3333333333333333,
              "#9c179e"
             ],
             [
              0.4444444444444444,
              "#bd3786"
             ],
             [
              0.5555555555555556,
              "#d8576b"
             ],
             [
              0.6666666666666666,
              "#ed7953"
             ],
             [
              0.7777777777777778,
              "#fb9f3a"
             ],
             [
              0.8888888888888888,
              "#fdca26"
             ],
             [
              1,
              "#f0f921"
             ]
            ],
            "type": "heatmapgl"
           }
          ],
          "histogram": [
           {
            "marker": {
             "colorbar": {
              "outlinewidth": 0,
              "ticks": ""
             }
            },
            "type": "histogram"
           }
          ],
          "histogram2d": [
           {
            "colorbar": {
             "outlinewidth": 0,
             "ticks": ""
            },
            "colorscale": [
             [
              0,
              "#0d0887"
             ],
             [
              0.1111111111111111,
              "#46039f"
             ],
             [
              0.2222222222222222,
              "#7201a8"
             ],
             [
              0.3333333333333333,
              "#9c179e"
             ],
             [
              0.4444444444444444,
              "#bd3786"
             ],
             [
              0.5555555555555556,
              "#d8576b"
             ],
             [
              0.6666666666666666,
              "#ed7953"
             ],
             [
              0.7777777777777778,
              "#fb9f3a"
             ],
             [
              0.8888888888888888,
              "#fdca26"
             ],
             [
              1,
              "#f0f921"
             ]
            ],
            "type": "histogram2d"
           }
          ],
          "histogram2dcontour": [
           {
            "colorbar": {
             "outlinewidth": 0,
             "ticks": ""
            },
            "colorscale": [
             [
              0,
              "#0d0887"
             ],
             [
              0.1111111111111111,
              "#46039f"
             ],
             [
              0.2222222222222222,
              "#7201a8"
             ],
             [
              0.3333333333333333,
              "#9c179e"
             ],
             [
              0.4444444444444444,
              "#bd3786"
             ],
             [
              0.5555555555555556,
              "#d8576b"
             ],
             [
              0.6666666666666666,
              "#ed7953"
             ],
             [
              0.7777777777777778,
              "#fb9f3a"
             ],
             [
              0.8888888888888888,
              "#fdca26"
             ],
             [
              1,
              "#f0f921"
             ]
            ],
            "type": "histogram2dcontour"
           }
          ],
          "mesh3d": [
           {
            "colorbar": {
             "outlinewidth": 0,
             "ticks": ""
            },
            "type": "mesh3d"
           }
          ],
          "parcoords": [
           {
            "line": {
             "colorbar": {
              "outlinewidth": 0,
              "ticks": ""
             }
            },
            "type": "parcoords"
           }
          ],
          "pie": [
           {
            "automargin": true,
            "type": "pie"
           }
          ],
          "scatter": [
           {
            "marker": {
             "colorbar": {
              "outlinewidth": 0,
              "ticks": ""
             }
            },
            "type": "scatter"
           }
          ],
          "scatter3d": [
           {
            "line": {
             "colorbar": {
              "outlinewidth": 0,
              "ticks": ""
             }
            },
            "marker": {
             "colorbar": {
              "outlinewidth": 0,
              "ticks": ""
             }
            },
            "type": "scatter3d"
           }
          ],
          "scattercarpet": [
           {
            "marker": {
             "colorbar": {
              "outlinewidth": 0,
              "ticks": ""
             }
            },
            "type": "scattercarpet"
           }
          ],
          "scattergeo": [
           {
            "marker": {
             "colorbar": {
              "outlinewidth": 0,
              "ticks": ""
             }
            },
            "type": "scattergeo"
           }
          ],
          "scattergl": [
           {
            "marker": {
             "colorbar": {
              "outlinewidth": 0,
              "ticks": ""
             }
            },
            "type": "scattergl"
           }
          ],
          "scattermapbox": [
           {
            "marker": {
             "colorbar": {
              "outlinewidth": 0,
              "ticks": ""
             }
            },
            "type": "scattermapbox"
           }
          ],
          "scatterpolar": [
           {
            "marker": {
             "colorbar": {
              "outlinewidth": 0,
              "ticks": ""
             }
            },
            "type": "scatterpolar"
           }
          ],
          "scatterpolargl": [
           {
            "marker": {
             "colorbar": {
              "outlinewidth": 0,
              "ticks": ""
             }
            },
            "type": "scatterpolargl"
           }
          ],
          "scatterternary": [
           {
            "marker": {
             "colorbar": {
              "outlinewidth": 0,
              "ticks": ""
             }
            },
            "type": "scatterternary"
           }
          ],
          "surface": [
           {
            "colorbar": {
             "outlinewidth": 0,
             "ticks": ""
            },
            "colorscale": [
             [
              0,
              "#0d0887"
             ],
             [
              0.1111111111111111,
              "#46039f"
             ],
             [
              0.2222222222222222,
              "#7201a8"
             ],
             [
              0.3333333333333333,
              "#9c179e"
             ],
             [
              0.4444444444444444,
              "#bd3786"
             ],
             [
              0.5555555555555556,
              "#d8576b"
             ],
             [
              0.6666666666666666,
              "#ed7953"
             ],
             [
              0.7777777777777778,
              "#fb9f3a"
             ],
             [
              0.8888888888888888,
              "#fdca26"
             ],
             [
              1,
              "#f0f921"
             ]
            ],
            "type": "surface"
           }
          ],
          "table": [
           {
            "cells": {
             "fill": {
              "color": "#EBF0F8"
             },
             "line": {
              "color": "white"
             }
            },
            "header": {
             "fill": {
              "color": "#C8D4E3"
             },
             "line": {
              "color": "white"
             }
            },
            "type": "table"
           }
          ]
         },
         "layout": {
          "annotationdefaults": {
           "arrowcolor": "#2a3f5f",
           "arrowhead": 0,
           "arrowwidth": 1
          },
          "coloraxis": {
           "colorbar": {
            "outlinewidth": 0,
            "ticks": ""
           }
          },
          "colorscale": {
           "diverging": [
            [
             0,
             "#8e0152"
            ],
            [
             0.1,
             "#c51b7d"
            ],
            [
             0.2,
             "#de77ae"
            ],
            [
             0.3,
             "#f1b6da"
            ],
            [
             0.4,
             "#fde0ef"
            ],
            [
             0.5,
             "#f7f7f7"
            ],
            [
             0.6,
             "#e6f5d0"
            ],
            [
             0.7,
             "#b8e186"
            ],
            [
             0.8,
             "#7fbc41"
            ],
            [
             0.9,
             "#4d9221"
            ],
            [
             1,
             "#276419"
            ]
           ],
           "sequential": [
            [
             0,
             "#0d0887"
            ],
            [
             0.1111111111111111,
             "#46039f"
            ],
            [
             0.2222222222222222,
             "#7201a8"
            ],
            [
             0.3333333333333333,
             "#9c179e"
            ],
            [
             0.4444444444444444,
             "#bd3786"
            ],
            [
             0.5555555555555556,
             "#d8576b"
            ],
            [
             0.6666666666666666,
             "#ed7953"
            ],
            [
             0.7777777777777778,
             "#fb9f3a"
            ],
            [
             0.8888888888888888,
             "#fdca26"
            ],
            [
             1,
             "#f0f921"
            ]
           ],
           "sequentialminus": [
            [
             0,
             "#0d0887"
            ],
            [
             0.1111111111111111,
             "#46039f"
            ],
            [
             0.2222222222222222,
             "#7201a8"
            ],
            [
             0.3333333333333333,
             "#9c179e"
            ],
            [
             0.4444444444444444,
             "#bd3786"
            ],
            [
             0.5555555555555556,
             "#d8576b"
            ],
            [
             0.6666666666666666,
             "#ed7953"
            ],
            [
             0.7777777777777778,
             "#fb9f3a"
            ],
            [
             0.8888888888888888,
             "#fdca26"
            ],
            [
             1,
             "#f0f921"
            ]
           ]
          },
          "colorway": [
           "#636efa",
           "#EF553B",
           "#00cc96",
           "#ab63fa",
           "#FFA15A",
           "#19d3f3",
           "#FF6692",
           "#B6E880",
           "#FF97FF",
           "#FECB52"
          ],
          "font": {
           "color": "#2a3f5f"
          },
          "geo": {
           "bgcolor": "white",
           "lakecolor": "white",
           "landcolor": "#E5ECF6",
           "showlakes": true,
           "showland": true,
           "subunitcolor": "white"
          },
          "hoverlabel": {
           "align": "left"
          },
          "hovermode": "closest",
          "mapbox": {
           "style": "light"
          },
          "paper_bgcolor": "white",
          "plot_bgcolor": "#E5ECF6",
          "polar": {
           "angularaxis": {
            "gridcolor": "white",
            "linecolor": "white",
            "ticks": ""
           },
           "bgcolor": "#E5ECF6",
           "radialaxis": {
            "gridcolor": "white",
            "linecolor": "white",
            "ticks": ""
           }
          },
          "scene": {
           "xaxis": {
            "backgroundcolor": "#E5ECF6",
            "gridcolor": "white",
            "gridwidth": 2,
            "linecolor": "white",
            "showbackground": true,
            "ticks": "",
            "zerolinecolor": "white"
           },
           "yaxis": {
            "backgroundcolor": "#E5ECF6",
            "gridcolor": "white",
            "gridwidth": 2,
            "linecolor": "white",
            "showbackground": true,
            "ticks": "",
            "zerolinecolor": "white"
           },
           "zaxis": {
            "backgroundcolor": "#E5ECF6",
            "gridcolor": "white",
            "gridwidth": 2,
            "linecolor": "white",
            "showbackground": true,
            "ticks": "",
            "zerolinecolor": "white"
           }
          },
          "shapedefaults": {
           "line": {
            "color": "#2a3f5f"
           }
          },
          "ternary": {
           "aaxis": {
            "gridcolor": "white",
            "linecolor": "white",
            "ticks": ""
           },
           "baxis": {
            "gridcolor": "white",
            "linecolor": "white",
            "ticks": ""
           },
           "bgcolor": "#E5ECF6",
           "caxis": {
            "gridcolor": "white",
            "linecolor": "white",
            "ticks": ""
           }
          },
          "title": {
           "x": 0.05
          },
          "xaxis": {
           "automargin": true,
           "gridcolor": "white",
           "linecolor": "white",
           "ticks": "",
           "title": {
            "standoff": 15
           },
           "zerolinecolor": "white",
           "zerolinewidth": 2
          },
          "yaxis": {
           "automargin": true,
           "gridcolor": "white",
           "linecolor": "white",
           "ticks": "",
           "title": {
            "standoff": 15
           },
           "zerolinecolor": "white",
           "zerolinewidth": 2
          }
         }
        },
        "title": {
         "text": "2D Cluster PCA Plot"
        },
        "xaxis": {
         "anchor": "y",
         "domain": [
          0,
          1
         ],
         "title": {
          "text": "PCA1"
         }
        },
        "yaxis": {
         "anchor": "x",
         "domain": [
          0,
          1
         ],
         "title": {
          "text": "PCA2"
         }
        }
       }
      },
      "text/html": [
       "<div>\n",
       "        \n",
       "        \n",
       "            <div id=\"34ae60ab-b767-435d-87df-a939738dc547\" class=\"plotly-graph-div\" style=\"height:600px; width:100%;\"></div>\n",
       "            <script type=\"text/javascript\">\n",
       "                require([\"plotly\"], function(Plotly) {\n",
       "                    window.PLOTLYENV=window.PLOTLYENV || {};\n",
       "                    \n",
       "                if (document.getElementById(\"34ae60ab-b767-435d-87df-a939738dc547\")) {\n",
       "                    Plotly.newPlot(\n",
       "                        '34ae60ab-b767-435d-87df-a939738dc547',\n",
       "                        [{\"customdata\": [[58], [59], [62], [59], [87], [29], [54], [87], [83], [84], [85], [36], [30], [31], [61], [92], [55], [87], [82], [88], [30], [84], [53], [91], [89], [30], [17], [55], [90], [61], [59], [59], [88], [56], [33], [61], [84], [61], [39], [31], [60], [87], [20], [57], [61], [18], [83], [25], [31], [55], [84], [36], [27], [91], [53], [91], [25], [83], [87], [90], [83], [83], [83], [61], [64], [62], [91], [28], [23], [55], [58], [31], [83], [91], [30], [57], [33], [59], [58], [29], [59], [84], [64], [87], [88], [35], [34], [58], [56], [63], [58], [60], [24], [94], [58], [25], [36], [62], [66], [37], [27], [24], [31], [23], [34], [88], [89], [32], [38], [57], [90], [33], [66], [35], [31], [35], [63], [30], [22], [84], [28], [88], [84], [88], [35], [82], [64], [91], [62], [62], [34], [60], [32], [65], [24], [88], [82], [26], [60], [31], [85], [63], [56], [28], [58], [26], [62]], \"hoverlabel\": {\"namelength\": 0}, \"hovertemplate\": \"Cluster=Cluster 0<br>PCA1=%{x}<br>PCA2=%{y}<br>Feature=%{customdata[0]}\", \"legendgroup\": \"Cluster=Cluster 0\", \"marker\": {\"color\": \"#636efa\", \"opacity\": 0.5, \"symbol\": \"circle\"}, \"mode\": \"markers\", \"name\": \"Cluster=Cluster 0\", \"showlegend\": true, \"textposition\": \"top center\", \"type\": \"scatter\", \"x\": [-1.8925095897849658, -2.446140160757747, -2.441357605583527, -1.923770671392853, -2.5674016692568205, -2.10557676978175, -2.1884137458001387, -2.061750671528569, -2.302294823582739, -2.0517528473246758, -2.2875821930106666, -1.9803939141158555, -2.1869226131682136, -1.988863183385004, -2.49573669182569, -2.0693762964387403, -2.0606756806150894, -1.8568485736915787, -1.8605670216000896, -1.8598619693857628, -1.8583743926785907, -1.8125975524734323, -2.1810456339921496, -2.121996756830085, -1.9440772638285442, -2.0897730590776415, -2.133873375437624, -1.9494241538920554, -2.0392937236687163, -2.263831371784564, -2.0596222048150743, -2.10454801458888, -1.8776591205911963, -1.5876424070308888, -2.470855662566069, -1.8108771287321312, -1.9874389571144322, -2.084895679082328, -2.0752451694250342, -2.0773059062778336, -2.1082650995906382, -2.404282795281649, -2.240862786058077, -1.6518965066453775, -2.196654266057618, -2.1063109238772055, -1.6872601620843282, -1.9126165039691827, -2.3511033696083463, -2.3779001055093985, -2.16015050002124, -1.8555916730543978, -2.1368663938271366, -1.9100567056110205, -2.419934136344303, -2.3536232207695864, -2.3908000397890454, -2.2267334938713415, -1.7605101374801235, -1.7579711361468453, -2.011017713972394, -2.0545284512429562, -2.109974098686101, -2.034198748653999, -2.2967076393132486, -2.3114407943933193, -2.0640271102315433, -2.1894947083723957, -2.2135642651570673, -1.719667129639251, -1.6415100650814392, -1.9635142458032893, -1.8819534226210899, -1.9593512363007382, -2.198749352915008, -2.1246147200397294, -1.9475645155039583, -2.269624656288542, -2.025714963983886, -1.9876134251003665, -2.2367450734831027, -2.155529921358396, -1.947941817418434, -2.3241773584583005, -2.079401575264757, -2.1601323784762823, -2.3256650491394484, -1.8905345144688737, -2.1279588861954566, -1.8501139685727854, -2.0660309181406156, -2.284116990837202, -2.4086260642869344, -2.054961187666106, -2.1151354628191026, -2.2149141760374715, -1.8268447244940127, -2.0488757021496706, -2.0740642538713145, -1.7799235192347713, -2.1132550417378466, -2.1665824308323005, -2.1383706929358315, -2.1009645123920055, -2.271968787809278, -2.172607765490567, -1.9797364990940145, -2.209528558264984, -1.9316929551371966, -2.1905824937019074, -2.0875236208819117, -2.0325472705689434, -1.844956620415013, -2.054698745177119, -2.316873052085718, -2.015669748035298, -2.137447997624237, -1.8744645085902425, -2.1795387106089716, -1.8540490620627044, -2.3009029155907292, -1.9614734056434326, -2.062018685906421, -1.6899781808562517, -2.0057279390592413, -1.9113850700343138, -2.372239544607541, -1.7185088708977916, -2.6650846583612235, -2.034846468636312, -1.912234448382509, -1.8777106813838271, -2.0219203394149847, -2.1763682340027484, -1.9208509762972357, -2.0072052418036423, -2.012610070884195, -2.1694528134423297, -1.9726821199006939, -1.692013628626964, -1.734049603714174, -2.3091831219391437, -2.396385677611187, -1.8945486862980763, -2.0904897478361413, -2.061047259090129, -2.1423467445619977], \"xaxis\": \"x\", \"y\": [-0.6046140743649857, -0.2782958121660545, -0.5181762804706672, -0.6273745804073416, -0.5584255957106539, -0.5517801808504563, -0.40186520150586585, -0.3999166324402653, -0.11431720648490447, -0.1596190077179877, -0.8755633773850932, -0.4501762590044244, -0.8067996212840708, -0.4677241371348223, -0.3681076374785838, -0.5698596894777446, -0.5417891354062117, -0.7054104619627656, -0.5908679677439632, -0.43428120968778017, -0.5353794688999868, -0.1989647713401206, -0.4708774021313869, -0.7167506618303235, -0.529842437012474, -0.4424074768818486, -0.5696768258353342, -0.62805322086761, -0.4053444865885517, -0.45444436189663545, -0.6563181145633048, -0.6480071376920643, -0.7015103278988358, -1.0908349743729873, -0.24687035895140358, -0.6893554007497759, -0.5169981859854392, -0.5585027178988963, -0.3794031179857119, -0.6825634482605113, -0.31381840959720286, -0.7173392608021748, -0.7895587863902825, -0.29117612134014287, -0.6273116903520713, -0.2844962156885227, -0.7954904250788061, -0.31220070651227133, -0.6846140012021048, -0.5926924289070147, -0.6676343574450291, -0.5744380394471978, -0.5519564277302009, -0.19150559117938454, -0.5971884962338547, -0.1032059586119966, -0.548099530008726, -0.46464097183952097, -0.17396284600895817, -0.6274956549984148, -0.5766039501282598, -0.500990497550684, -0.782659439205194, -0.40722345775334606, -0.19658009534834947, -0.05758803729897522, -0.7464151909747632, -0.586917282289816, -0.25504594814323395, -0.6422730874122043, -0.32005215896405736, -0.9640476175553684, -0.2942210193492456, -0.3045947776793817, -0.613838497033093, -0.4603720841261821, -0.5215544921627991, -0.28863269148647974, -0.5390371901880996, -0.6418532328723235, -0.5264186674622461, -0.39829073077162835, -0.6458563890675622, -0.5246607618196142, -0.560857328010204, -0.5893188243316024, -0.5350079457244143, -0.5393496345610035, -0.13911050955892112, -0.42749579016726674, -0.15270213209842448, -0.49585713306577506, -0.44874412686031634, -0.7539529667062309, -0.42973693179827144, -0.5241277430730586, -0.3671606043681585, -0.2910284972139782, -0.45389619403733233, -0.644154024408457, -0.36960815277275066, -0.750523372316151, -0.8410374693291163, -0.5619385969416542, -0.4491529312687195, -0.23068591812322728, -0.45659388161346526, -0.5797517175013484, -0.30034032915907505, -0.6014849208442846, -0.6338688283250102, -0.5563918767716808, -0.7365498233237937, -0.7520088083183664, -0.40881865259866457, -0.6102171785163254, -0.3834394277664598, -0.6191144891899748, -0.6347763051102634, -0.5275820942133451, -0.6493932039655955, -0.6400389582975555, -0.5549713663452895, -0.6934908566370718, -0.420030908747873, -0.5456030144233351, -0.5161724467895031, -0.7034946401142954, -0.35627439719442244, -0.5728525421573042, -0.6857125193728727, -0.6206342550540291, -0.5746310288907686, -0.6740201072246887, -0.9227843227305292, -0.5682785784481224, -0.6402759030847448, -0.3689559187245852, -0.20918448481197793, -0.46643970407898705, -0.32696547958162353, -0.6093340903885872, -0.10743758074499056, -0.303052476321125, -0.440174995240743, -0.4187225802621202, -0.30471150451590334], \"yaxis\": \"y\"}, {\"customdata\": [[86], [56], [91], [59], [28], [85], [65], [94], [86], [30], [62], [85], [59], [30], [83], [66], [31], [88], [28], [85], [64], [33], [62], [89], [61], [29], [56], [92], [62], [60], [85], [88], [94], [62], [64], [29], [27], [31], [87], [32], [63], [58], [62], [32], [93], [59], [61], [53], [82], [28], [32], [89], [84], [87], [29], [58], [29], [55], [25], [60], [88], [24], [56], [95], [89], [86], [85], [60], [87], [29], [23], [31], [89], [58], [56], [37], [89], [29], [23], [34], [64], [63], [85], [62], [59], [92], [67], [58], [58], [38], [57], [31], [36], [25], [66], [64], [59], [90], [68], [35], [84], [24], [29], [28], [81], [57], [37], [91], [82], [36], [31], [61], [64], [83], [63], [55], [86], [57], [94], [37], [26], [57], [37], [88], [61], [91], [84], [43], [59], [90], [88], [59], [59], [88], [37], [33], [90], [31], [90], [91], [29], [83], [84], [87], [22], [58], [31], [33], [56], [30], [85], [87], [34], [61], [30], [88], [56]], \"hoverlabel\": {\"namelength\": 0}, \"hovertemplate\": \"Cluster=Cluster 1<br>PCA1=%{x}<br>PCA2=%{y}<br>Feature=%{customdata[0]}\", \"legendgroup\": \"Cluster=Cluster 1\", \"marker\": {\"color\": \"#EF553B\", \"opacity\": 0.5, \"symbol\": \"circle\"}, \"mode\": \"markers\", \"name\": \"Cluster=Cluster 1\", \"showlegend\": true, \"textposition\": \"top center\", \"type\": \"scatter\", \"x\": [0.705960132584332, 0.9384815206365379, 0.6609924399624045, 1.2113148794028372, 0.7160189011130952, 1.1328882478675122, 1.206217019803309, 0.9146569289484546, 0.927873274804375, 1.2454279477002406, 0.7728732967285864, 1.1074480842930179, 0.865296962355503, 1.2687191339124442, 0.944953181049823, 1.3021698734876512, 0.7622312538155266, 1.016968437745996, 1.0103743470275062, 0.7954780839040367, 1.1841091620117863, 1.1080733166694265, 0.8997248200204973, 1.0437351291207941, 0.5968294407661451, 0.9777645610618011, 1.0725421887357214, 0.8566260104748825, 1.2474049189999226, 0.7324374019115761, 1.0077913715380575, 1.047772672981662, 1.1951063868113272, 1.0101209417475778, 1.2191798209512175, 1.30297706445491, 0.9578529290723364, 0.9594904151707258, 1.192920131453533, 0.9890446575971698, 1.2806117217574302, 0.7310246913783344, 0.6935247132809574, 1.1100288460565033, 1.05744764299172, 1.026201536276119, 1.3206465830820056, 1.3467047630036353, 0.8764462552030109, 1.0464738658383361, 0.9431474617111347, 0.9041625554202822, 0.86455084465975, 0.9352338032415246, 0.9425920842727983, 0.8657576810841421, 0.9030632708475183, 0.8473239348850601, 0.9366545674773807, 1.086048959435074, 1.0019402928638474, 1.121955893775162, 0.9119073306227607, 0.9605009147406067, 0.7580640338652364, 1.1851490814357706, 0.84639361167422, 1.1666392930506004, 0.8220018797190899, 0.9389336366942208, 1.0372284182819442, 0.6350507066641514, 0.8416809200835698, 0.5770891570682695, 0.8637286786394431, 1.0205116659415405, 0.7065493332712821, 0.8861290446638928, 1.1682836952682378, 1.169578697484043, 1.1412703225148813, 0.969448651407411, 1.1194004313191626, 0.9700286211087099, 1.3791573620518485, 0.9214394300852425, 0.9629568323883781, 0.9783089030768444, 0.9549237171607519, 1.1697156964393145, 1.012103568858779, 0.8598961870636603, 0.7344588131589223, 0.9008413612961551, 0.8612097432639744, 0.7821931813367389, 1.2041502207536745, 1.2062689497452441, 1.0852610998583696, 0.8459435566343757, 0.8943128181071506, 0.8726422942483533, 0.9041298872560475, 0.9066282307180077, 0.9808089660272761, 1.0768594303469528, 1.0636835366613568, 0.6491556935907044, 1.1276584984477684, 1.3253417570495634, 0.5838881567779773, 0.9688223571812672, 1.1878058329819863, 0.9680414758663426, 0.9446702776811146, 1.3514664493639819, 1.1107919243742002, 0.9694492313376492, 0.9863668251962459, 0.8854326475001871, 0.8404752544111019, 1.1788965189308618, 0.9128901325524063, 0.9540261060166757, 0.9951066450213126, 0.9904005881248411, 1.2097308387793182, 0.8545271008465525, 1.211399418663462, 0.6485204612673691, 1.1686594728243833, 0.9780919204240469, 0.9415026759594852, 1.1543312202045433, 0.9390626169708238, 0.9404516999424055, 1.217598067359455, 0.8417702555140072, 0.8659576049053314, 0.998359310548084, 0.6555737925941142, 0.7918438918708312, 1.0488446824470017, 0.6643083460223334, 0.7759052326393509, 1.4165248374797492, 1.0276427518256996, 1.3211848342680668, 0.787478939446823, 0.8919397398920383, 1.2856257430723261, 1.0405649089171716, 0.9312354331359779, 0.9819717331282923, 1.1042747917137976, 1.0590705402473424, 0.7440274435369172], \"xaxis\": \"x\", \"y\": [-1.0135587140245308, -0.9114183410585573, -1.0233877290925233, -1.3413428364930244, -0.8559836223979524, -1.3481125844605004, -0.9890970443948699, -1.0457975031508708, -1.3218178340944107, -1.1350939020290103, -1.449832485117915, -0.9032411369754084, -1.0111196385057328, -1.2877279248601612, -1.082704404076162, -1.1317551953661236, -1.1008297456136789, -1.101990215943494, -1.2406547778963677, -0.8398827450139132, -1.2783963581665232, -1.0491406865936395, -1.0180186936588627, -1.1407848018775495, -1.246671996168802, -1.0054322619478404, -1.3410544630128924, -1.0899100944779336, -1.308909738052708, -1.2033210903474534, -0.9251206446811977, -0.9909497647105316, -1.5360719893942936, -0.7192448172061606, -0.9339130674309717, -1.0354555954607716, -0.7304668179805255, -1.0207959083693434, -1.323719757102428, -0.7460962118978061, -1.148785106091435, -1.2106187417042018, -0.8048184801870043, -1.2312023094915123, -0.9625591198201093, -1.078436449494177, -0.8439511939731806, -1.071824081722866, -0.9881938067627613, -1.1669308528476006, -1.223675394304704, -0.9268789035839298, -0.836363732718586, -1.0689487378608191, -1.4138817485017527, -1.009322873761527, -0.957116477220279, -1.095857660045824, -1.0537811559664199, -1.1540810359701277, -0.8672710102715026, -0.936193652033931, -1.0921091469780628, -1.1213907779373695, -1.0899601918216402, -0.9262420090302059, -0.7750478107632968, -0.9858205041431777, -0.7151245952184759, -1.1841016892453562, -1.1311765695507565, -0.8444885614543408, -1.0551123740756223, -1.1057267042149983, -0.6305227798075267, -1.0690001134515035, -1.007164100687336, -1.311451520078682, -1.000182085617143, -0.9948423727509872, -1.128260965589225, -0.516651688481335, -0.9454616857976533, -1.0226848440078247, -1.1911313993639174, -0.9607789273306271, -1.05635394023014, -1.2837073567549362, -1.42796516260207, -1.3232677261395929, -1.2827358496231809, -1.230773854568756, -1.1739385019057174, -1.0551957541596506, -1.3076655287014902, -0.9017110432639888, -1.1104901972275882, -0.7873291474081517, -1.0005435426275442, -1.025556149900055, -0.8956355018132007, -1.012864418959096, -1.3387063346994068, -0.8129183784091509, -1.1529580194551652, -0.8646271783466046, -1.0687676737545566, -0.7130075134432767, -1.1423072812706652, -1.0537885061046233, -0.7095235126984967, -0.9508264849933749, -0.9010032516632611, -1.1378583987331634, -0.8512722958346944, -0.9684157700140718, -0.850467667609997, -0.9652549553138374, -1.2147598476858894, -0.98720303319995, -1.0083836167628986, -1.1914816105339103, -1.287788972881838, -1.105011838537084, -0.8446993421453309, -1.0986216031201455, -1.0174122943432224, -0.9365448556375334, -1.3813314590579011, -1.2345567696571151, -1.3828850833445006, -0.8932650726560928, -0.8738517947581397, -0.8986911745233586, -0.8248210946873342, -1.0093416719979809, -1.0940498671468717, -1.1315541637852449, -0.9501853289012729, -0.726145613726388, -0.9506074539298878, -1.0428462548367572, -1.0341294915473902, -0.8901299590394515, -1.0307952243839231, -1.1874054711995603, -1.2614198577861813, -1.0112114362969775, -1.0185756237002803, -0.9244827733793158, -1.0491610499540125, -1.087901380418689, -1.1517194616311848, -1.2111098779679834, -0.9261338838834451, -0.8907998373596879, -1.0170300594710444], \"yaxis\": \"y\"}, {\"customdata\": [[30], [25], [61], [88], [37], [35], [85], [85], [88], [59], [90], [33], [62], [59], [91], [33], [87], [26], [88], [24], [91], [86], [36], [87], [33], [59], [29], [59], [57], [40], [42], [89], [93], [17], [24], [34], [90], [20], [92], [84], [59], [61], [67], [82], [94], [28], [36], [91], [34], [77], [63], [35], [21], [86], [56], [83], [28], [59], [83], [83], [58], [91], [29], [61], [84], [34], [33], [55], [88], [91], [91], [84], [87], [39], [38], [89], [59], [35], [59], [87], [94], [86], [60], [79], [86], [60], [85], [92], [37], [89], [67], [31], [20], [37], [57], [87], [33], [56], [67], [58], [89], [34], [25], [44], [68], [31], [58], [55], [21], [36], [88], [26], [29], [38], [79], [51], [82], [39], [87], [36], [57], [61], [86], [86], [35], [89], [30], [60], [64], [37], [65], [90], [59], [29], [58], [88], [63], [92], [17], [34], [22], [24], [36], [34], [87], [85], [61], [27], [59], [31], [31]], \"hoverlabel\": {\"namelength\": 0}, \"hovertemplate\": \"Cluster=Cluster 2<br>PCA1=%{x}<br>PCA2=%{y}<br>Feature=%{customdata[0]}\", \"legendgroup\": \"Cluster=Cluster 2\", \"marker\": {\"color\": \"#00cc96\", \"opacity\": 0.5, \"symbol\": \"circle\"}, \"mode\": \"markers\", \"name\": \"Cluster=Cluster 2\", \"showlegend\": true, \"textposition\": \"top center\", \"type\": \"scatter\", \"x\": [0.21730435467967066, 0.5268484808304671, 0.3029434706256703, 0.47040269632573123, -0.047600827314626774, -1.039253322806655, -1.2481136308096634, 0.012671787887797338, 0.23417752734878852, 0.1826946195781907, 0.2905261959912064, 0.32006464176635113, 0.2853176036269745, 0.06669631899033684, 0.1368969591281352, 0.03699652595531637, 0.162454025889262, -0.08843572500885023, -1.1277989637296855, 0.4950549797276423, -0.13748781978277386, 0.22836606891011413, -1.2098766939416907, 0.3295581031834375, 0.31097931393516276, 0.15596871389086978, 0.2357552461915188, -1.2666202942359164, 0.38809548013295475, 0.147113239994178, 0.21406800732462514, 0.3292128525895105, 0.0244578226481246, 0.18989268715206056, -0.06863316322720008, 0.34747535196273943, -0.9541647633394382, 0.2030776463525922, 0.3138346481443743, -1.2921524193726306, 0.3278263950648025, 0.05098713908239967, -0.9031905384342062, 0.307129804353312, -1.09756128639746, -0.09633291726944994, -1.095230165607461, 0.4327565778337944, 0.4262593499045808, -0.1530455400866977, -1.3983098956237923, 0.22944947667940532, 0.4196125902321766, -0.11069420961116067, 0.574733731682875, 0.3580626040375044, 0.3769089864980641, -0.01530123141944497, 0.18176350885902318, 0.11017438417753331, -1.1975955672718566, 0.014221867438113602, 0.4086853250530214, -0.9670629789192079, -0.04815845077814475, 0.40538312130197085, 0.40994650694802337, 0.4899908703924904, 0.7206925273591878, 0.20455623212017313, 0.10836347318943501, 0.3752452101139475, 0.4277487650886825, 0.13276127294357026, -0.019187077996087328, -0.033678149928641765, 0.4708579465871162, -1.1784391467069222, 0.14166261513287337, 0.40889347821008704, 0.13527400782880913, 0.2284306236654786, 0.16150143221687138, 0.3904823989123015, 0.1424807686638524, 0.46704746883449044, 0.2407997419143353, 0.6209177507357927, 0.1001509153171107, -0.7634175173608074, 0.4193999411748166, 0.4717466661568948, -0.17843249653309745, 0.07082605153271505, 0.19313298634049833, 0.14987782216455, 0.2862547884765353, 0.24302673025668717, -1.0903662935204657, -1.0432102831151377, -1.6249127430069024, -1.0212922532716064, 0.2220005782816064, 0.0702100531080758, 0.3460102393617335, 0.18708410242978668, -0.9552849141153795, 0.15203685002687256, 0.33337648740104775, 0.1653983200766036, 0.403193833599474, 0.25349503241612104, 0.10798190058984088, 0.25297563513141946, -0.229383228542457, 0.4200019343818134, 0.5330680712134547, -1.190867339912667, 0.2587062020833514, 0.1047100012970359, 0.44920708207115867, -0.15415709193410432, 0.18370795062716713, -0.9675568893676613, 0.10755108508674988, 0.23395699056963098, 0.388629728592709, -0.01708534040912222, -0.057304364971380785, 0.2957481233756107, 0.26865424372509583, 0.08619071169016368, -0.024306157939931277, 0.2528098087690156, 0.39567428791378023, 0.2742149626718295, 0.3833588948858261, 0.21584757434291457, 0.42412684344445367, 0.23046755174871847, 0.24405114390161747, 0.2857222853600731, -0.18547996102691167, 0.3379530566558627, -1.1915520132735637, -0.8348660931609554, 0.1886534920817924, 0.5702846658702908, 0.23536289651427975, -1.2427853767437969, 0.31007183452466375], \"xaxis\": \"x\", \"y\": [1.384014522876722, 1.7074318218407187, 1.5526622411688595, 1.6505084996032604, 1.4687294065128105, 1.3135300085049453, 1.582262820380453, 1.8431367518566453, 1.4609129883083158, 1.6082293763350155, 1.790195446838695, 1.4396322171548483, 1.7974611331867154, 1.7356202049003784, 1.6224836294264187, 1.5980239942453693, 1.4691569298802005, 1.8279336436841285, 1.3804689910581296, 1.6722886114391171, 1.9393261128601889, 1.39469615120912, 1.3846394558355009, 1.5755302126404722, 1.5576452898348832, 1.590601795594417, 1.2902314805603055, 1.3289766502178693, 1.4121023143885476, 1.685223232611325, 1.4915248227159281, 1.623856707703742, 1.8809434698484198, 1.7329710114649197, 1.5834939724414436, 1.6445951084064119, 0.9893579587027433, 1.7269874703999861, 1.5917902501952998, 1.3272071763520197, 1.604914659716268, 1.8996637897019282, 1.2898572849628362, 1.5713309270832816, 1.2589971663896353, 1.3905682153302215, 1.1727357480096146, 1.6303414494518091, 1.4308145886105168, 1.7117805728388222, 1.3795671604603486, 1.4856662654007757, 1.5081257807041504, 1.7989045127992147, 1.8315728831631133, 1.562804421373091, 1.654140538436513, 1.7923009042777567, 1.5598097467716743, 1.7275528425655686, 1.4958440971752984, 1.5946021328890443, 1.9740726916979436, 1.0706344743849519, 1.778221936364588, 1.7628076139252222, 1.6457159924518585, 1.749254771399951, 1.3508523655450229, 1.719241587132492, 1.8203269670337323, 1.7995711192335861, 1.7193222116272984, 1.623962125926678, 1.4381686236979379, 1.5181028187383006, 1.7797650239988716, 1.3195282764801826, 1.6379037642684533, 1.4115550115262077, 1.7136273793662258, 1.3602033219527676, 1.1885111312875818, 1.3470472053452571, 1.769753235090879, 1.907339239789904, 1.7288554287947324, 1.5672686115149193, 1.6948995404561913, 1.224390569436602, 1.7434933069475496, 1.8495581449807577, 1.5557084700763375, 1.6776867634780128, 1.6485887470162064, 1.6099944737064713, 1.1386863139592105, 1.6242223408461092, 1.2543911693969447, 1.5599327855338165, 1.534334821024275, 1.2016266528184776, 1.8694706303149442, 1.969740090814904, 1.5959800051209434, 1.5100587099446192, 1.1784851028922105, 1.748243580243543, 1.4389177814030158, 1.3074850566242175, 1.6709257322872977, 1.6210649353601796, 1.9551017996442492, 1.8050070243718772, 1.8646990361592344, 1.5791511608334934, 1.5752059572403638, 1.2792909148990574, 1.685659669848364, 1.7883368761196345, 1.8500054307192841, 1.6299545294665474, 1.627493070349842, 1.4027015503072442, 1.4363191019927872, 1.6203935255650788, 1.7142458564436687, 1.6424215762727297, 1.8753575087932144, 1.3939503953960752, 1.6683769189727975, 1.6215238023833032, 1.7425572621420302, 1.8908250189134694, 1.6332620132734996, 1.6670982942623447, 1.607073611254969, 1.7098543918628821, 1.6521558450649372, 1.3890042815995527, 1.979956117424565, 1.8709051484183294, 1.6505739249517304, 1.5676659909614301, 1.207173719903081, 1.6633252395563793, 1.6265685160315266, 1.6086501902260182, 1.5278631393450823, 1.247215544724656, 1.9068400748266205], \"yaxis\": \"y\"}, {\"customdata\": [[93], [17], [35], [28], [94], [28], [33], [56], [28], [86], [92], [18], [61], [32], [63], [58], [31], [62], [60], [62], [90], [33], [33], [65], [59], [65], [86], [32], [84], [84], [90], [91], [26], [92], [97], [84], [58], [61], [92], [87], [66], [22], [91], [30], [25], [28], [93], [90], [91], [89]], \"hoverlabel\": {\"namelength\": 0}, \"hovertemplate\": \"Cluster=Cluster 3<br>PCA1=%{x}<br>PCA2=%{y}<br>Feature=%{customdata[0]}\", \"legendgroup\": \"Cluster=Cluster 3\", \"marker\": {\"color\": \"#ab63fa\", \"opacity\": 0.5, \"symbol\": \"circle\"}, \"mode\": \"markers\", \"name\": \"Cluster=Cluster 3\", \"showlegend\": true, \"textposition\": \"top center\", \"type\": \"scatter\", \"x\": [2.877220034434989, 3.2896660154381476, 3.31478317673642, 3.606010988942631, 2.9684909174839387, 3.0222113935352852, 2.996529406432554, 3.0233418584153773, 3.028470896387115, 2.7928142831949754, 2.82108474539495, 2.8857013023696743, 2.9555457095355515, 3.027670206389645, 2.9081920658185774, 3.2271349453035016, 3.0574046817961857, 2.9467083871516704, 2.744122979622826, 3.3345886626480663, 3.106051448050941, 3.0625443677337785, 2.9645299234642795, 2.582432363895039, 2.9946137974454574, 3.1899017602988406, 2.910054489537696, 3.128438397098393, 2.979040966693557, 3.029682620095989, 3.203383958847762, 2.7615134947467292, 2.727690785816718, 3.0185007100577725, 3.018464842587771, 3.133688706632407, 3.2480214128887974, 3.136928622207274, 2.8772063806314505, 2.836009023908767, 3.1090476869811656, 2.6580310820936806, 2.6248468777351874, 2.683442984898974, 3.0785132765298853, 3.3186573180598904, 3.019478668443559, 2.9969656824919335, 2.61263292037678, 2.8596495767532826], \"xaxis\": \"x\", \"y\": [-0.15961207601032115, 0.05549885010228615, -0.060191286110540664, -0.020802594388019253, 0.09709131313614322, 0.12765054813998628, 0.10028255459809986, -0.27978958147663374, -0.005101881786272981, -0.132967069088288, -0.016743632671321333, -0.28749257811745615, 0.2758659944964195, 0.03958601925244075, 0.0145945224487298, 0.023558589191053768, -0.3726669924440928, 0.07393602233269038, 0.2284658232356106, -0.023427309652840893, 0.046652904377657116, -0.02478841991027424, 0.030777141517696893, -0.011831537531314426, 0.004345606896142186, -0.393418119366225, 0.2423480880123421, -0.12386302402716862, -0.17767732357540042, -0.11781860782167393, -0.04759533103028815, 0.02747241290219645, 0.06575239595018269, 0.26981599359456865, 0.025679213632869475, 0.005365716800778713, 0.22315486970440793, -0.333842157427347, 0.15353831097127438, -0.07559247056152114, -0.22672837204209706, 0.22000581925195445, -0.10508688865152636, 0.038764552849501505, 0.11283442639345087, 0.1814948327214732, 0.12620199728755516, -0.32384241029404487, 0.007656281784057894, 0.2720229987464245], \"yaxis\": \"y\"}],\n",
       "                        {\"height\": 600, \"legend\": {\"tracegroupgap\": 0}, \"margin\": {\"t\": 60}, \"plot_bgcolor\": \"rgb(240,240,240)\", \"template\": {\"data\": {\"bar\": [{\"error_x\": {\"color\": \"#2a3f5f\"}, \"error_y\": {\"color\": \"#2a3f5f\"}, \"marker\": {\"line\": {\"color\": \"#E5ECF6\", \"width\": 0.5}}, \"type\": \"bar\"}], \"barpolar\": [{\"marker\": {\"line\": {\"color\": \"#E5ECF6\", \"width\": 0.5}}, \"type\": \"barpolar\"}], \"carpet\": [{\"aaxis\": {\"endlinecolor\": \"#2a3f5f\", \"gridcolor\": \"white\", \"linecolor\": \"white\", \"minorgridcolor\": \"white\", \"startlinecolor\": \"#2a3f5f\"}, \"baxis\": {\"endlinecolor\": \"#2a3f5f\", \"gridcolor\": \"white\", \"linecolor\": \"white\", \"minorgridcolor\": \"white\", \"startlinecolor\": \"#2a3f5f\"}, \"type\": \"carpet\"}], \"choropleth\": [{\"colorbar\": {\"outlinewidth\": 0, \"ticks\": \"\"}, \"type\": \"choropleth\"}], \"contour\": [{\"colorbar\": {\"outlinewidth\": 0, \"ticks\": \"\"}, \"colorscale\": [[0.0, \"#0d0887\"], [0.1111111111111111, \"#46039f\"], [0.2222222222222222, \"#7201a8\"], [0.3333333333333333, \"#9c179e\"], [0.4444444444444444, \"#bd3786\"], [0.5555555555555556, \"#d8576b\"], [0.6666666666666666, \"#ed7953\"], [0.7777777777777778, \"#fb9f3a\"], [0.8888888888888888, \"#fdca26\"], [1.0, \"#f0f921\"]], \"type\": \"contour\"}], \"contourcarpet\": [{\"colorbar\": {\"outlinewidth\": 0, \"ticks\": \"\"}, \"type\": \"contourcarpet\"}], \"heatmap\": [{\"colorbar\": {\"outlinewidth\": 0, \"ticks\": \"\"}, \"colorscale\": [[0.0, \"#0d0887\"], [0.1111111111111111, \"#46039f\"], [0.2222222222222222, \"#7201a8\"], [0.3333333333333333, \"#9c179e\"], [0.4444444444444444, \"#bd3786\"], [0.5555555555555556, \"#d8576b\"], [0.6666666666666666, \"#ed7953\"], [0.7777777777777778, \"#fb9f3a\"], [0.8888888888888888, \"#fdca26\"], [1.0, \"#f0f921\"]], \"type\": \"heatmap\"}], \"heatmapgl\": [{\"colorbar\": {\"outlinewidth\": 0, \"ticks\": \"\"}, \"colorscale\": [[0.0, \"#0d0887\"], [0.1111111111111111, \"#46039f\"], [0.2222222222222222, \"#7201a8\"], [0.3333333333333333, \"#9c179e\"], [0.4444444444444444, \"#bd3786\"], [0.5555555555555556, \"#d8576b\"], [0.6666666666666666, \"#ed7953\"], [0.7777777777777778, \"#fb9f3a\"], [0.8888888888888888, \"#fdca26\"], [1.0, \"#f0f921\"]], \"type\": \"heatmapgl\"}], \"histogram\": [{\"marker\": {\"colorbar\": {\"outlinewidth\": 0, \"ticks\": \"\"}}, \"type\": \"histogram\"}], \"histogram2d\": [{\"colorbar\": {\"outlinewidth\": 0, \"ticks\": \"\"}, \"colorscale\": [[0.0, \"#0d0887\"], [0.1111111111111111, \"#46039f\"], [0.2222222222222222, \"#7201a8\"], [0.3333333333333333, \"#9c179e\"], [0.4444444444444444, \"#bd3786\"], [0.5555555555555556, \"#d8576b\"], [0.6666666666666666, \"#ed7953\"], [0.7777777777777778, \"#fb9f3a\"], [0.8888888888888888, \"#fdca26\"], [1.0, \"#f0f921\"]], \"type\": \"histogram2d\"}], \"histogram2dcontour\": [{\"colorbar\": {\"outlinewidth\": 0, \"ticks\": \"\"}, \"colorscale\": [[0.0, \"#0d0887\"], [0.1111111111111111, \"#46039f\"], [0.2222222222222222, \"#7201a8\"], [0.3333333333333333, \"#9c179e\"], [0.4444444444444444, \"#bd3786\"], [0.5555555555555556, \"#d8576b\"], [0.6666666666666666, \"#ed7953\"], [0.7777777777777778, \"#fb9f3a\"], [0.8888888888888888, \"#fdca26\"], [1.0, \"#f0f921\"]], \"type\": \"histogram2dcontour\"}], \"mesh3d\": [{\"colorbar\": {\"outlinewidth\": 0, \"ticks\": \"\"}, \"type\": \"mesh3d\"}], \"parcoords\": [{\"line\": {\"colorbar\": {\"outlinewidth\": 0, \"ticks\": \"\"}}, \"type\": \"parcoords\"}], \"pie\": [{\"automargin\": true, \"type\": \"pie\"}], \"scatter\": [{\"marker\": {\"colorbar\": {\"outlinewidth\": 0, \"ticks\": \"\"}}, \"type\": \"scatter\"}], \"scatter3d\": [{\"line\": {\"colorbar\": {\"outlinewidth\": 0, \"ticks\": \"\"}}, \"marker\": {\"colorbar\": {\"outlinewidth\": 0, \"ticks\": \"\"}}, \"type\": \"scatter3d\"}], \"scattercarpet\": [{\"marker\": {\"colorbar\": {\"outlinewidth\": 0, \"ticks\": \"\"}}, \"type\": \"scattercarpet\"}], \"scattergeo\": [{\"marker\": {\"colorbar\": {\"outlinewidth\": 0, \"ticks\": \"\"}}, \"type\": \"scattergeo\"}], \"scattergl\": [{\"marker\": {\"colorbar\": {\"outlinewidth\": 0, \"ticks\": \"\"}}, \"type\": \"scattergl\"}], \"scattermapbox\": [{\"marker\": {\"colorbar\": {\"outlinewidth\": 0, \"ticks\": \"\"}}, \"type\": \"scattermapbox\"}], \"scatterpolar\": [{\"marker\": {\"colorbar\": {\"outlinewidth\": 0, \"ticks\": \"\"}}, \"type\": \"scatterpolar\"}], \"scatterpolargl\": [{\"marker\": {\"colorbar\": {\"outlinewidth\": 0, \"ticks\": \"\"}}, \"type\": \"scatterpolargl\"}], \"scatterternary\": [{\"marker\": {\"colorbar\": {\"outlinewidth\": 0, \"ticks\": \"\"}}, \"type\": \"scatterternary\"}], \"surface\": [{\"colorbar\": {\"outlinewidth\": 0, \"ticks\": \"\"}, \"colorscale\": [[0.0, \"#0d0887\"], [0.1111111111111111, \"#46039f\"], [0.2222222222222222, \"#7201a8\"], [0.3333333333333333, \"#9c179e\"], [0.4444444444444444, \"#bd3786\"], [0.5555555555555556, \"#d8576b\"], [0.6666666666666666, \"#ed7953\"], [0.7777777777777778, \"#fb9f3a\"], [0.8888888888888888, \"#fdca26\"], [1.0, \"#f0f921\"]], \"type\": \"surface\"}], \"table\": [{\"cells\": {\"fill\": {\"color\": \"#EBF0F8\"}, \"line\": {\"color\": \"white\"}}, \"header\": {\"fill\": {\"color\": \"#C8D4E3\"}, \"line\": {\"color\": \"white\"}}, \"type\": \"table\"}]}, \"layout\": {\"annotationdefaults\": {\"arrowcolor\": \"#2a3f5f\", \"arrowhead\": 0, \"arrowwidth\": 1}, \"coloraxis\": {\"colorbar\": {\"outlinewidth\": 0, \"ticks\": \"\"}}, \"colorscale\": {\"diverging\": [[0, \"#8e0152\"], [0.1, \"#c51b7d\"], [0.2, \"#de77ae\"], [0.3, \"#f1b6da\"], [0.4, \"#fde0ef\"], [0.5, \"#f7f7f7\"], [0.6, \"#e6f5d0\"], [0.7, \"#b8e186\"], [0.8, \"#7fbc41\"], [0.9, \"#4d9221\"], [1, \"#276419\"]], \"sequential\": [[0.0, \"#0d0887\"], [0.1111111111111111, \"#46039f\"], [0.2222222222222222, \"#7201a8\"], [0.3333333333333333, \"#9c179e\"], [0.4444444444444444, \"#bd3786\"], [0.5555555555555556, \"#d8576b\"], [0.6666666666666666, \"#ed7953\"], [0.7777777777777778, \"#fb9f3a\"], [0.8888888888888888, \"#fdca26\"], [1.0, \"#f0f921\"]], \"sequentialminus\": [[0.0, \"#0d0887\"], [0.1111111111111111, \"#46039f\"], [0.2222222222222222, \"#7201a8\"], [0.3333333333333333, \"#9c179e\"], [0.4444444444444444, \"#bd3786\"], [0.5555555555555556, \"#d8576b\"], [0.6666666666666666, \"#ed7953\"], [0.7777777777777778, \"#fb9f3a\"], [0.8888888888888888, \"#fdca26\"], [1.0, \"#f0f921\"]]}, \"colorway\": [\"#636efa\", \"#EF553B\", \"#00cc96\", \"#ab63fa\", \"#FFA15A\", \"#19d3f3\", \"#FF6692\", \"#B6E880\", \"#FF97FF\", \"#FECB52\"], \"font\": {\"color\": \"#2a3f5f\"}, \"geo\": {\"bgcolor\": \"white\", \"lakecolor\": \"white\", \"landcolor\": \"#E5ECF6\", \"showlakes\": true, \"showland\": true, \"subunitcolor\": \"white\"}, \"hoverlabel\": {\"align\": \"left\"}, \"hovermode\": \"closest\", \"mapbox\": {\"style\": \"light\"}, \"paper_bgcolor\": \"white\", \"plot_bgcolor\": \"#E5ECF6\", \"polar\": {\"angularaxis\": {\"gridcolor\": \"white\", \"linecolor\": \"white\", \"ticks\": \"\"}, \"bgcolor\": \"#E5ECF6\", \"radialaxis\": {\"gridcolor\": \"white\", \"linecolor\": \"white\", \"ticks\": \"\"}}, \"scene\": {\"xaxis\": {\"backgroundcolor\": \"#E5ECF6\", \"gridcolor\": \"white\", \"gridwidth\": 2, \"linecolor\": \"white\", \"showbackground\": true, \"ticks\": \"\", \"zerolinecolor\": \"white\"}, \"yaxis\": {\"backgroundcolor\": \"#E5ECF6\", \"gridcolor\": \"white\", \"gridwidth\": 2, \"linecolor\": \"white\", \"showbackground\": true, \"ticks\": \"\", \"zerolinecolor\": \"white\"}, \"zaxis\": {\"backgroundcolor\": \"#E5ECF6\", \"gridcolor\": \"white\", \"gridwidth\": 2, \"linecolor\": \"white\", \"showbackground\": true, \"ticks\": \"\", \"zerolinecolor\": \"white\"}}, \"shapedefaults\": {\"line\": {\"color\": \"#2a3f5f\"}}, \"ternary\": {\"aaxis\": {\"gridcolor\": \"white\", \"linecolor\": \"white\", \"ticks\": \"\"}, \"baxis\": {\"gridcolor\": \"white\", \"linecolor\": \"white\", \"ticks\": \"\"}, \"bgcolor\": \"#E5ECF6\", \"caxis\": {\"gridcolor\": \"white\", \"linecolor\": \"white\", \"ticks\": \"\"}}, \"title\": {\"x\": 0.05}, \"xaxis\": {\"automargin\": true, \"gridcolor\": \"white\", \"linecolor\": \"white\", \"ticks\": \"\", \"title\": {\"standoff\": 15}, \"zerolinecolor\": \"white\", \"zerolinewidth\": 2}, \"yaxis\": {\"automargin\": true, \"gridcolor\": \"white\", \"linecolor\": \"white\", \"ticks\": \"\", \"title\": {\"standoff\": 15}, \"zerolinecolor\": \"white\", \"zerolinewidth\": 2}}}, \"title\": {\"text\": \"2D Cluster PCA Plot\"}, \"xaxis\": {\"anchor\": \"y\", \"domain\": [0.0, 1.0], \"title\": {\"text\": \"PCA1\"}}, \"yaxis\": {\"anchor\": \"x\", \"domain\": [0.0, 1.0], \"title\": {\"text\": \"PCA2\"}}},\n",
       "                        {\"responsive\": true}\n",
       "                    ).then(function(){\n",
       "                            \n",
       "var gd = document.getElementById('34ae60ab-b767-435d-87df-a939738dc547');\n",
       "var x = new MutationObserver(function (mutations, observer) {{\n",
       "        var display = window.getComputedStyle(gd).display;\n",
       "        if (!display || display === 'none') {{\n",
       "            console.log([gd, 'removed!']);\n",
       "            Plotly.purge(gd);\n",
       "            observer.disconnect();\n",
       "        }}\n",
       "}});\n",
       "\n",
       "// Listen for the removal of the full notebook cells\n",
       "var notebookContainer = gd.closest('#notebook-container');\n",
       "if (notebookContainer) {{\n",
       "    x.observe(notebookContainer, {childList: true});\n",
       "}}\n",
       "\n",
       "// Listen for the clearing of the current output cell\n",
       "var outputEl = gd.closest('.output');\n",
       "if (outputEl) {{\n",
       "    x.observe(outputEl, {childList: true});\n",
       "}}\n",
       "\n",
       "                        })\n",
       "                };\n",
       "                });\n",
       "            </script>\n",
       "        </div>"
      ]
     },
     "metadata": {},
     "output_type": "display_data"
    }
   ],
   "source": [
    "# plot a model\n",
    "plot_model(kmeans) "
   ]
  },
  {
   "cell_type": "code",
   "execution_count": 7,
   "metadata": {
    "scrolled": true
   },
   "outputs": [
    {
     "data": {
      "text/html": [
       "        <script type=\"text/javascript\">\n",
       "        window.PlotlyConfig = {MathJaxConfig: 'local'};\n",
       "        if (window.MathJax) {MathJax.Hub.Config({SVG: {font: \"STIX-Web\"}});}\n",
       "        if (typeof require !== 'undefined') {\n",
       "        require.undef(\"plotly\");\n",
       "        requirejs.config({\n",
       "            paths: {\n",
       "                'plotly': ['https://cdn.plot.ly/plotly-latest.min']\n",
       "            }\n",
       "        });\n",
       "        require(['plotly'], function(Plotly) {\n",
       "            window._Plotly = Plotly;\n",
       "        });\n",
       "        }\n",
       "        </script>\n",
       "        "
      ]
     },
     "metadata": {},
     "output_type": "display_data"
    },
    {
     "data": {
      "application/vnd.plotly.v1+json": {
       "config": {
        "plotlyServerURL": "https://plot.ly"
       },
       "data": [
        {
         "customdata": [
          [
           58
          ],
          [
           59
          ],
          [
           62
          ],
          [
           59
          ],
          [
           87
          ],
          [
           29
          ],
          [
           54
          ],
          [
           87
          ],
          [
           83
          ],
          [
           84
          ],
          [
           85
          ],
          [
           36
          ],
          [
           30
          ],
          [
           31
          ],
          [
           61
          ],
          [
           92
          ],
          [
           55
          ],
          [
           87
          ],
          [
           82
          ],
          [
           88
          ],
          [
           30
          ],
          [
           84
          ],
          [
           53
          ],
          [
           91
          ],
          [
           89
          ],
          [
           30
          ],
          [
           17
          ],
          [
           55
          ],
          [
           90
          ],
          [
           61
          ],
          [
           59
          ],
          [
           59
          ],
          [
           88
          ],
          [
           56
          ],
          [
           33
          ],
          [
           61
          ],
          [
           84
          ],
          [
           61
          ],
          [
           39
          ],
          [
           31
          ],
          [
           60
          ],
          [
           87
          ],
          [
           20
          ],
          [
           57
          ],
          [
           61
          ],
          [
           18
          ],
          [
           83
          ],
          [
           25
          ],
          [
           31
          ],
          [
           55
          ],
          [
           84
          ],
          [
           36
          ],
          [
           27
          ],
          [
           91
          ],
          [
           53
          ],
          [
           91
          ],
          [
           25
          ],
          [
           83
          ],
          [
           87
          ],
          [
           90
          ],
          [
           83
          ],
          [
           83
          ],
          [
           83
          ],
          [
           61
          ],
          [
           64
          ],
          [
           62
          ],
          [
           91
          ],
          [
           28
          ],
          [
           23
          ],
          [
           55
          ],
          [
           58
          ],
          [
           31
          ],
          [
           83
          ],
          [
           91
          ],
          [
           30
          ],
          [
           57
          ],
          [
           33
          ],
          [
           59
          ],
          [
           58
          ],
          [
           29
          ],
          [
           59
          ],
          [
           84
          ],
          [
           64
          ],
          [
           87
          ],
          [
           88
          ],
          [
           35
          ],
          [
           34
          ],
          [
           58
          ],
          [
           56
          ],
          [
           63
          ],
          [
           58
          ],
          [
           60
          ],
          [
           24
          ],
          [
           94
          ],
          [
           58
          ],
          [
           25
          ],
          [
           36
          ],
          [
           62
          ],
          [
           66
          ],
          [
           37
          ],
          [
           27
          ],
          [
           24
          ],
          [
           31
          ],
          [
           23
          ],
          [
           34
          ],
          [
           88
          ],
          [
           89
          ],
          [
           32
          ],
          [
           38
          ],
          [
           57
          ],
          [
           90
          ],
          [
           33
          ],
          [
           66
          ],
          [
           35
          ],
          [
           31
          ],
          [
           35
          ],
          [
           63
          ],
          [
           30
          ],
          [
           22
          ],
          [
           84
          ],
          [
           28
          ],
          [
           88
          ],
          [
           84
          ],
          [
           88
          ],
          [
           35
          ],
          [
           82
          ],
          [
           64
          ],
          [
           91
          ],
          [
           62
          ],
          [
           62
          ],
          [
           34
          ],
          [
           60
          ],
          [
           32
          ],
          [
           65
          ],
          [
           24
          ],
          [
           88
          ],
          [
           82
          ],
          [
           26
          ],
          [
           60
          ],
          [
           31
          ],
          [
           85
          ],
          [
           63
          ],
          [
           56
          ],
          [
           28
          ],
          [
           58
          ],
          [
           26
          ],
          [
           62
          ]
         ],
         "hoverlabel": {
          "namelength": 0
         },
         "hovertemplate": "Cluster=Cluster 0<br>0=%{x}<br>1=%{y}<br>2=%{z}<br>Feature=%{customdata[0]}",
         "legendgroup": "Cluster=Cluster 0",
         "marker": {
          "color": "#636efa",
          "opacity": 0.7,
          "symbol": "circle"
         },
         "mode": "markers",
         "name": "Cluster=Cluster 0",
         "scene": "scene",
         "showlegend": true,
         "type": "scatter3d",
         "x": [
          13.353453636169434,
          25.242923736572266,
          28.340097427368164,
          6.223514080047607,
          40.49405288696289,
          31.927553176879883,
          14.772905349731445,
          10.19352912902832,
          17.810142517089844,
          -4.957423686981201,
          60.57195281982422,
          -4.881323337554932,
          63.309749603271484,
          -7.5159687995910645,
          36.18089294433594,
          48.918392181396484,
          20.307636260986328,
          1.2969470024108887,
          23.717409133911133,
          3.3484668731689453,
          10.658087730407715,
          -10.689413070678711,
          21.96014976501465,
          5.6976470947265625,
          21.67043113708496,
          -17.45677375793457,
          32.90709686279297,
          37.23848342895508,
          17.776830673217773,
          17.175329208374023,
          30.0054988861084,
          41.28594970703125,
          25.14893341064453,
          34.13444137573242,
          21.30661392211914,
          12.796497344970703,
          188.92642211914062,
          60.72338104248047,
          4.208199501037598,
          53.403228759765625,
          2.404507637023926,
          42.69398498535156,
          47.31563186645508,
          -15.622824668884277,
          -30.006511688232422,
          5.617265701293945,
          39.55706024169922,
          -0.8108930587768555,
          52.64150619506836,
          17.772193908691406,
          48.46966552734375,
          31.9306583404541,
          -6.400073051452637,
          -6.260094165802002,
          47.410526275634766,
          26.151147842407227,
          27.402490615844727,
          -24.706815719604492,
          -16.869932174682617,
          4.997446060180664,
          34.02413558959961,
          -7.299985885620117,
          53.496517181396484,
          10.37298583984375,
          12.5827054977417,
          6.604525089263916,
          34.49016571044922,
          52.621517181396484,
          1.8169597387313843,
          34.044578552246094,
          -9.80173110961914,
          -15.895423889160156,
          -8.768716812133789,
          3.966230630874634,
          35.66146469116211,
          16.275089263916016,
          5.4655842781066895,
          20.29606819152832,
          27.019577026367188,
          5.306448936462402,
          -15.532824516296387,
          -1.9974024295806885,
          18.212377548217773,
          30.73509979248047,
          -15.251409530639648,
          24.060283660888672,
          58.018089294433594,
          20.0771484375,
          0.22509966790676117,
          9.223978996276855,
          -8.335886001586914,
          24.704057693481445,
          51.08721923828125,
          -23.17353630065918,
          -18.790834426879883,
          -2.5713465213775635,
          -5.2368340492248535,
          -7.7730536460876465,
          26.74869728088379,
          25.645587921142578,
          9.201180458068848,
          29.389211654663086,
          49.313621520996094,
          -102.7795181274414,
          26.53186798095703,
          -0.13985925912857056,
          12.22803783416748,
          6.225667953491211,
          -8.421252250671387,
          33.970970153808594,
          35.978946685791016,
          38.937747955322266,
          36.091556549072266,
          39.33545684814453,
          40.57298278808594,
          -17.252593994140625,
          25.4019832611084,
          14.954243659973145,
          38.8646354675293,
          14.069210052490234,
          38.839256286621094,
          26.91873550415039,
          -6.394747734069824,
          12.589601516723633,
          -16.10533332824707,
          2.7474477291107178,
          46.5993766784668,
          22.206329345703125,
          48.1517448425293,
          24.0970458984375,
          32.511688232421875,
          19.507661819458008,
          23.7276554107666,
          -29.950428009033203,
          44.93101119995117,
          -5.838102340698242,
          45.16519546508789,
          5.6734514236450195,
          -18.146921157836914,
          7.243968963623047,
          -1.3138842582702637,
          40.19111633300781,
          19.992277145385742,
          -2.336174726486206,
          48.10202407836914,
          -9.882498741149902,
          26.881126403808594
         ],
         "y": [
          52.3320198059082,
          6.873548984527588,
          -7.814556121826172,
          72.33995056152344,
          -4.297136306762695,
          3.9104537963867188,
          11.632025718688965,
          26.435388565063477,
          20.697099685668945,
          22.071361541748047,
          17.92894172668457,
          61.95780944824219,
          27.1723690032959,
          67.11848449707031,
          8.176838874816895,
          42.1379508972168,
          23.046775817871094,
          56.391971588134766,
          56.135677337646484,
          49.367671966552734,
          52.51218032836914,
          43.98950958251953,
          15.83364486694336,
          88.14215087890625,
          43.6698112487793,
          72.64852142333984,
          17.14137840270996,
          35.36769485473633,
          31.877056121826172,
          -2.542271852493286,
          24.20268440246582,
          27.945070266723633,
          68.80006408691406,
          72.07083129882812,
          0.3031598627567291,
          67.14701843261719,
          -109.47682189941406,
          40.86280059814453,
          28.757810592651367,
          37.74788284301758,
          17.23183822631836,
          -9.851449966430664,
          12.050071716308594,
          40.023094177246094,
          28.96221351623535,
          19.440916061401367,
          63.90447235107422,
          34.296600341796875,
          10.1066255569458,
          -13.26585578918457,
          26.3784236907959,
          51.34731674194336,
          -4.888159275054932,
          30.53486442565918,
          3.4410083293914795,
          27.566675186157227,
          -12.065356254577637,
          -33.1021614074707,
          51.90953826904297,
          53.305606842041016,
          43.087650299072266,
          70.45696258544922,
          31.002153396606445,
          28.424673080444336,
          7.497975826263428,
          6.409698963165283,
          8.898063659667969,
          38.601585388183594,
          13.542613983154297,
          63.847251892089844,
          56.166255950927734,
          -0.5603722929954529,
          47.218544006347656,
          29.363994598388672,
          14.497776985168457,
          16.517654418945312,
          61.159603118896484,
          12.523811340332031,
          34.76821517944336,
          76.33428192138672,
          -16.156774520874023,
          7.809802532196045,
          66.44920349121094,
          -7.157402515411377,
          -1.339841365814209,
          11.592984199523926,
          23.76749038696289,
          43.141204833984375,
          14.112665176391602,
          38.903076171875,
          21.118772506713867,
          2.9079132080078125,
          26.38084602355957,
          13.125372886657715,
          76.3083724975586,
          -6.028290748596191,
          47.85760498046875,
          23.475980758666992,
          37.38239288330078,
          57.614017486572266,
          18.85048484802246,
          12.222204208374023,
          14.096367835998535,
          6.068676471710205,
          4.701615810394287,
          24.99150276184082,
          37.65473175048828,
          -12.174488067626953,
          37.002647399902344,
          12.736117362976074,
          26.123884201049805,
          40.150665283203125,
          55.23127746582031,
          30.943449020385742,
          29.304399490356445,
          -0.47420594096183777,
          27.737266540527344,
          65.24271392822266,
          21.079984664916992,
          53.30485534667969,
          4.094815254211426,
          35.38275909423828,
          82.20172119140625,
          66.70486450195312,
          64.33251953125,
          62.41524887084961,
          18.622303009033203,
          72.34650421142578,
          10.411654472351074,
          26.828157424926758,
          51.75138473510742,
          57.67091369628906,
          15.484475135803223,
          15.260149002075195,
          59.306663513183594,
          76.41927337646484,
          43.182762145996094,
          5.1326069831848145,
          54.989620208740234,
          50.875030517578125,
          40.25257110595703,
          2.2031283378601074,
          12.77782154083252,
          37.95357894897461,
          -5.545678615570068,
          10.592925071716309,
          37.203155517578125
         ],
         "z": [
          -72.2881088256836,
          -73.08716583251953,
          -66.40220642089844,
          -49.17045974731445,
          -66.46126556396484,
          -20.78944206237793,
          -44.78550720214844,
          -9.923065185546875,
          -69.90266418457031,
          -44.243526458740234,
          -30.303136825561523,
          -49.49968719482422,
          -22.516006469726562,
          -19.819711685180664,
          -66.77885437011719,
          -10.983266830444336,
          10.410553932189941,
          -72.8925552368164,
          -23.17087745666504,
          -40.138465881347656,
          -12.762286186218262,
          -16.276187896728516,
          -35.768768310546875,
          -39.13931655883789,
          -20.855493545532227,
          -27.08321189880371,
          -25.97314453125,
          0.7451596260070801,
          -33.990882873535156,
          -51.21308517456055,
          -14.115983009338379,
          -35.30137634277344,
          -34.5977668762207,
          -4.696914196014404,
          -81.22087860107422,
          -12.356318473815918,
          184.00271606445312,
          -9.729860305786133,
          -56.04734802246094,
          -22.851491928100586,
          -58.37150192260742,
          -53.555179595947266,
          -22.4022274017334,
          -34.50746536254883,
          -52.547393798828125,
          -32.8053092956543,
          -40.35868835449219,
          -36.51551818847656,
          -44.0929069519043,
          -66.08598327636719,
          -11.698800086975098,
          -15.637490272521973,
          -55.6623649597168,
          -13.373068809509277,
          -54.59792709350586,
          -71.17475891113281,
          -53.75211715698242,
          34.29662322998047,
          -11.214967727661133,
          -84.26616668701172,
          -6.0341691970825195,
          -36.36526870727539,
          -36.37612533569336,
          -41.522396087646484,
          -75.35942840576172,
          -86.38628387451172,
          7.454230308532715,
          4.953751087188721,
          -71.04640197753906,
          -20.630830764770508,
          -4.888530731201172,
          -33.676273345947266,
          -47.587711334228516,
          -22.520000457763672,
          -42.95079803466797,
          -8.969755172729492,
          -35.72989273071289,
          -58.77028274536133,
          8.619683265686035,
          -35.774906158447266,
          -54.86886215209961,
          -52.384376525878906,
          -44.03202438354492,
          -41.14535903930664,
          -65.34965515136719,
          -20.96160888671875,
          -54.743858337402344,
          -2.2988264560699463,
          -19.049116134643555,
          3.2274177074432373,
          -20.974929809570312,
          -37.73173522949219,
          -64.56407928466797,
          -38.3800163269043,
          -38.42570114135742,
          -66.5381088256836,
          -33.13622283935547,
          -56.47102355957031,
          -40.49568557739258,
          -7.447763919830322,
          1.7857831716537476,
          17.434364318847656,
          -6.557760238647461,
          15.719144821166992,
          -49.729347229003906,
          -68.45726776123047,
          -16.72639274597168,
          -56.511131286621094,
          -55.31374740600586,
          -10.316569328308105,
          12.607772827148438,
          12.471515655517578,
          8.228660583496094,
          -21.650789260864258,
          -59.60285949707031,
          -50.65729904174805,
          -49.17329788208008,
          -27.02117156982422,
          2.4682862758636475,
          -46.9678955078125,
          -33.14374542236328,
          -12.478170394897461,
          -35.65943908691406,
          -70.91041564941406,
          -41.13444900512695,
          -21.01542854309082,
          -56.65721130371094,
          -16.32717514038086,
          -71.85154724121094,
          -2.1320419311523438,
          -29.569665908813477,
          -35.44947814941406,
          1.7245787382125854,
          -53.84856414794922,
          1.9671229124069214,
          -47.776432037353516,
          -38.56555938720703,
          -61.995140075683594,
          -52.16193389892578,
          1.8898237943649292,
          -1.480893611907959,
          -45.06561279296875,
          -84.39807891845703,
          -25.769453048706055,
          -25.94061851501465,
          -61.81051254272461,
          -54.4522705078125
         ]
        },
        {
         "customdata": [
          [
           86
          ],
          [
           56
          ],
          [
           91
          ],
          [
           59
          ],
          [
           28
          ],
          [
           85
          ],
          [
           65
          ],
          [
           94
          ],
          [
           86
          ],
          [
           30
          ],
          [
           62
          ],
          [
           85
          ],
          [
           59
          ],
          [
           30
          ],
          [
           83
          ],
          [
           66
          ],
          [
           31
          ],
          [
           88
          ],
          [
           28
          ],
          [
           85
          ],
          [
           64
          ],
          [
           33
          ],
          [
           62
          ],
          [
           89
          ],
          [
           61
          ],
          [
           29
          ],
          [
           56
          ],
          [
           92
          ],
          [
           62
          ],
          [
           60
          ],
          [
           85
          ],
          [
           88
          ],
          [
           94
          ],
          [
           62
          ],
          [
           64
          ],
          [
           29
          ],
          [
           27
          ],
          [
           31
          ],
          [
           87
          ],
          [
           32
          ],
          [
           63
          ],
          [
           58
          ],
          [
           62
          ],
          [
           32
          ],
          [
           93
          ],
          [
           59
          ],
          [
           61
          ],
          [
           53
          ],
          [
           82
          ],
          [
           28
          ],
          [
           32
          ],
          [
           89
          ],
          [
           84
          ],
          [
           87
          ],
          [
           29
          ],
          [
           58
          ],
          [
           29
          ],
          [
           55
          ],
          [
           25
          ],
          [
           60
          ],
          [
           88
          ],
          [
           24
          ],
          [
           56
          ],
          [
           95
          ],
          [
           89
          ],
          [
           86
          ],
          [
           85
          ],
          [
           60
          ],
          [
           87
          ],
          [
           29
          ],
          [
           23
          ],
          [
           31
          ],
          [
           89
          ],
          [
           58
          ],
          [
           56
          ],
          [
           37
          ],
          [
           89
          ],
          [
           29
          ],
          [
           23
          ],
          [
           34
          ],
          [
           64
          ],
          [
           63
          ],
          [
           85
          ],
          [
           62
          ],
          [
           59
          ],
          [
           92
          ],
          [
           67
          ],
          [
           58
          ],
          [
           58
          ],
          [
           38
          ],
          [
           57
          ],
          [
           31
          ],
          [
           36
          ],
          [
           25
          ],
          [
           66
          ],
          [
           64
          ],
          [
           59
          ],
          [
           90
          ],
          [
           68
          ],
          [
           35
          ],
          [
           84
          ],
          [
           24
          ],
          [
           29
          ],
          [
           28
          ],
          [
           81
          ],
          [
           57
          ],
          [
           37
          ],
          [
           91
          ],
          [
           82
          ],
          [
           36
          ],
          [
           31
          ],
          [
           61
          ],
          [
           64
          ],
          [
           83
          ],
          [
           63
          ],
          [
           55
          ],
          [
           86
          ],
          [
           57
          ],
          [
           94
          ],
          [
           37
          ],
          [
           26
          ],
          [
           57
          ],
          [
           37
          ],
          [
           88
          ],
          [
           61
          ],
          [
           91
          ],
          [
           84
          ],
          [
           43
          ],
          [
           59
          ],
          [
           90
          ],
          [
           88
          ],
          [
           59
          ],
          [
           59
          ],
          [
           88
          ],
          [
           37
          ],
          [
           33
          ],
          [
           90
          ],
          [
           31
          ],
          [
           90
          ],
          [
           91
          ],
          [
           29
          ],
          [
           83
          ],
          [
           84
          ],
          [
           87
          ],
          [
           22
          ],
          [
           58
          ],
          [
           31
          ],
          [
           33
          ],
          [
           56
          ],
          [
           30
          ],
          [
           85
          ],
          [
           87
          ],
          [
           34
          ],
          [
           61
          ],
          [
           30
          ],
          [
           88
          ],
          [
           56
          ]
         ],
         "hoverlabel": {
          "namelength": 0
         },
         "hovertemplate": "Cluster=Cluster 1<br>0=%{x}<br>1=%{y}<br>2=%{z}<br>Feature=%{customdata[0]}",
         "legendgroup": "Cluster=Cluster 1",
         "marker": {
          "color": "#EF553B",
          "opacity": 0.7,
          "symbol": "circle"
         },
         "mode": "markers",
         "name": "Cluster=Cluster 1",
         "scene": "scene",
         "showlegend": true,
         "type": "scatter3d",
         "x": [
          -29.632944107055664,
          7.803252696990967,
          48.485435485839844,
          29.888988494873047,
          38.500709533691406,
          20.16084861755371,
          40.321414947509766,
          -2.9210047721862793,
          10.270552635192871,
          41.560302734375,
          2.4785549640655518,
          -44.450828552246094,
          -32.46477127075195,
          31.7851505279541,
          30.10527801513672,
          44.8056755065918,
          -11.998712539672852,
          15.405771255493164,
          -18.917367935180664,
          15.65884017944336,
          32.1650390625,
          24.907878875732422,
          0.9776431918144226,
          -16.166276931762695,
          64.63954162597656,
          -23.968082427978516,
          16.6865291595459,
          2.73453950881958,
          -101.01337432861328,
          -10.372822761535645,
          -19.17148208618164,
          16.66729736328125,
          21.918176651000977,
          9.318737030029297,
          -5.576872825622559,
          60.84283447265625,
          13.425787925720215,
          31.033668518066406,
          -34.7904052734375,
          13.094103813171387,
          27.112882614135742,
          -22.30447006225586,
          38.34382247924805,
          -23.371288299560547,
          18.54881477355957,
          29.194408416748047,
          -30.773286819458008,
          48.925811767578125,
          7.879727840423584,
          -30.391511917114258,
          11.492447853088379,
          8.4669189453125,
          7.293529510498047,
          22.217639923095703,
          0.23506230115890503,
          12.702507972717285,
          22.000221252441406,
          0.7631223797798157,
          5.544441223144531,
          26.3536376953125,
          -0.8290314674377441,
          -2.0353646278381348,
          26.10623550415039,
          21.449888229370117,
          50.21809387207031,
          -0.5152997970581055,
          22.75196647644043,
          55.761417388916016,
          23.69158363342285,
          18.778566360473633,
          22.400680541992188,
          41.53337860107422,
          -14.145401000976562,
          58.959720611572266,
          6.6538519859313965,
          11.580038070678711,
          44.671852111816406,
          -1.632714867591858,
          56.19084548950195,
          -13.387307167053223,
          -91.58936309814453,
          13.01439094543457,
          -31.35780906677246,
          21.876876831054688,
          46.99332046508789,
          12.636971473693848,
          -8.781919479370117,
          -6.087523460388184,
          -1.3518016338348389,
          17.82916259765625,
          5.015742778778076,
          4.887988090515137,
          54.389015197753906,
          27.624164581298828,
          2.793887138366699,
          27.912904739379883,
          49.15047836303711,
          -13.321727752685547,
          7.054469108581543,
          32.766990661621094,
          22.929550170898438,
          -41.090267181396484,
          -2.443037271499634,
          -1.7389881610870361,
          22.83869743347168,
          -28.697364807128906,
          -28.48548126220703,
          33.59202575683594,
          31.865217208862305,
          54.83245849609375,
          37.93701171875,
          -4.989632606506348,
          -7.187507152557373,
          18.222410202026367,
          23.91214942932129,
          50.69033432006836,
          13.118593215942383,
          -0.752699077129364,
          21.75624656677246,
          13.490280151367188,
          38.08361053466797,
          34.69109344482422,
          19.03497886657715,
          14.726712226867676,
          9.747795104980469,
          9.230317115783691,
          43.27631378173828,
          37.940513610839844,
          25.844301223754883,
          64.76388549804688,
          25.348861694335938,
          24.52911949157715,
          9.1198148727417,
          -12.956937789916992,
          17.80753517150879,
          -41.41244125366211,
          39.94953155517578,
          -2.8185231685638428,
          37.07658004760742,
          19.927242279052734,
          46.82118606567383,
          44.12364196777344,
          -10.253931999206543,
          47.59756088256836,
          -7.081629276275635,
          43.502662658691406,
          18.423812866210938,
          59.19631576538086,
          37.828224182128906,
          4.990314960479736,
          56.39973831176758,
          29.744121551513672,
          11.40809154510498,
          9.372604370117188,
          -2.2694029808044434,
          -28.132326126098633,
          38.917484283447266
         ],
         "y": [
          -78.95035552978516,
          -7.193512439727783,
          -86.85464477539062,
          -67.5209732055664,
          -83.38388061523438,
          -29.10770606994629,
          -18.34413719177246,
          -65.7568359375,
          -24.70395278930664,
          -18.929990768432617,
          -13.404322624206543,
          -17.95771026611328,
          -65.15715789794922,
          -35.85502624511719,
          -38.06742858886719,
          -51.80223083496094,
          -74.01542663574219,
          -26.59255599975586,
          -48.46122741699219,
          -36.83280944824219,
          -78.29306030273438,
          -51.400543212890625,
          -35.29973220825195,
          -48.36326599121094,
          -48.84343719482422,
          -56.91099548339844,
          -42.969364166259766,
          -22.555233001708984,
          -33.098751068115234,
          -69.6186752319336,
          -64.90396881103516,
          -37.604129791259766,
          -61.114383697509766,
          -79.30741882324219,
          -65.07982635498047,
          -36.158931732177734,
          -71.84782409667969,
          -23.823505401611328,
          -25.203998565673828,
          -67.09874725341797,
          -89.23189544677734,
          -69.70893859863281,
          -68.817626953125,
          -34.76729965209961,
          -78.6110610961914,
          -88.8908462524414,
          -66.7258529663086,
          -40.07926940917969,
          82.86611938476562,
          -50.969093322753906,
          -35.23116683959961,
          -62.3270149230957,
          -28.346281051635742,
          -17.639503479003906,
          -45.15861892700195,
          -19.37236213684082,
          -61.358642578125,
          -54.932254791259766,
          -50.02372360229492,
          -14.67629623413086,
          -41.224639892578125,
          -61.44865417480469,
          -67.75471496582031,
          -80.2663803100586,
          -46.126914978027344,
          -85.61168670654297,
          -79.92611694335938,
          -35.54285430908203,
          -77.18851470947266,
          -53.29270553588867,
          -27.146987915039062,
          -68.07276153564453,
          -63.853485107421875,
          -61.308441162109375,
          -46.06005096435547,
          -83.71919250488281,
          -43.50294876098633,
          -24.485197067260742,
          -47.610862731933594,
          -57.34283447265625,
          -30.196880340576172,
          -88.59608459472656,
          -59.11693572998047,
          -50.22950744628906,
          -29.310916900634766,
          -31.58452033996582,
          -40.352115631103516,
          -52.78137969970703,
          -22.830793380737305,
          -42.573829650878906,
          -63.64944839477539,
          -20.630216598510742,
          -51.208900451660156,
          -89.43457794189453,
          -36.42057418823242,
          -42.135169982910156,
          -14.77381420135498,
          -80.95382690429688,
          -78.83839416503906,
          37.43547439575195,
          -31.115909576416016,
          -48.97520446777344,
          -36.85647964477539,
          -38.26904296875,
          -65.21843719482422,
          -49.979434967041016,
          -45.46268081665039,
          -94.68173217773438,
          -41.76519775390625,
          -26.019365310668945,
          -82.05186462402344,
          -73.79061889648438,
          -70.69657135009766,
          -92.16727447509766,
          -63.01415252685547,
          -16.396381378173828,
          -91.86971282958984,
          -63.06346893310547,
          -53.86605453491211,
          -45.08430862426758,
          -45.94941329956055,
          -18.823657989501953,
          -62.84029006958008,
          -62.59740447998047,
          -41.12043380737305,
          -73.17192840576172,
          -44.0089111328125,
          -32.96527862548828,
          -33.678489685058594,
          -56.025333404541016,
          -48.69117736816406,
          -52.558406829833984,
          -52.45336151123047,
          -66.82140350341797,
          -77.92589569091797,
          -59.744773864746094,
          -30.97117805480957,
          -27.98474884033203,
          -80.8868637084961,
          -59.22932434082031,
          -59.872074127197266,
          -31.008028030395508,
          -55.91526412963867,
          -75.55319213867188,
          -26.644054412841797,
          -61.14301300048828,
          -73.77002716064453,
          -58.77153396606445,
          -93.10120391845703,
          -26.08778190612793,
          -48.4674186706543,
          -39.17962646484375,
          -9.842474937438965,
          -46.920467376708984,
          -72.53748321533203,
          -47.90763854980469,
          -53.654415130615234
         ],
         "z": [
          9.31600284576416,
          -13.592665672302246,
          -16.601402282714844,
          32.0557746887207,
          -20.942583084106445,
          31.252214431762695,
          10.567305564880371,
          1.3266160488128662,
          21.480100631713867,
          26.583402633666992,
          26.217615127563477,
          64.47221374511719,
          3.3197643756866455,
          31.25125503540039,
          -9.96167278289795,
          24.919591903686523,
          13.266912460327148,
          1.2879749536514282,
          16.79581642150879,
          -44.01926803588867,
          23.53374481201172,
          -54.80119705200195,
          -10.90838623046875,
          4.485591411590576,
          -21.906919479370117,
          -1.1977564096450806,
          29.11137580871582,
          -6.688974380493164,
          2.018361806869507,
          24.18148422241211,
          -9.683215141296387,
          -4.862860202789307,
          39.50242233276367,
          -34.800743103027344,
          -51.89134216308594,
          28.545860290527344,
          -45.855323791503906,
          -12.12295150756836,
          -40.246856689453125,
          -33.488346099853516,
          24.47414207458496,
          20.616294860839844,
          -31.651933670043945,
          11.350618362426758,
          -11.434564590454102,
          10.063068389892578,
          -28.917316436767578,
          27.11142921447754,
          4.159332752227783,
          15.511788368225098,
          13.466724395751953,
          -17.236675262451172,
          -38.473472595214844,
          -7.933972358703613,
          40.04657745361328,
          -17.430288314819336,
          -14.213716506958008,
          6.3142852783203125,
          -4.229485988616943,
          4.516099452972412,
          -29.73741340637207,
          -32.91297912597656,
          -0.8749586939811707,
          4.734407901763916,
          -21.767629623413086,
          -22.021886825561523,
          -52.73594665527344,
          12.12415885925293,
          -40.27471160888672,
          5.348740577697754,
          8.82859992980957,
          -20.91765785217285,
          8.305596351623535,
          -22.948793411254883,
          -50.77750015258789,
          9.944099426269531,
          -33.6859245300293,
          20.335466384887695,
          13.872182846069336,
          -36.41808319091797,
          35.33260726928711,
          -42.36222457885742,
          -18.236570358276367,
          -8.826525688171387,
          38.85319900512695,
          -17.6577205657959,
          -5.013510227203369,
          21.49972915649414,
          32.945980072021484,
          42.7741813659668,
          22.22374153137207,
          10.806415557861328,
          -12.721719741821289,
          -2.506694793701172,
          26.049728393554688,
          -36.70766067504883,
          38.49089431762695,
          -28.223115921020508,
          -11.81387710571289,
          80.33335876464844,
          -24.77549171447754,
          35.91535949707031,
          17.023168563842773,
          -46.6442985534668,
          10.552083015441895,
          -23.97797203063965,
          1.5388458967208862,
          -22.646713256835938,
          17.16253089904785,
          29.93355941772461,
          -35.768123626708984,
          -10.079873085021973,
          -40.11469268798828,
          4.928149223327637,
          -26.575660705566406,
          14.05312442779541,
          -15.97642707824707,
          -9.918848037719727,
          16.781169891357422,
          -16.453460693359375,
          -17.008264541625977,
          35.456851959228516,
          22.85011100769043,
          1.4673528671264648,
          -30.935300827026367,
          2.93170166015625,
          8.611529350280762,
          -22.728832244873047,
          41.00125503540039,
          -13.25908374786377,
          35.68239974975586,
          -23.91889762878418,
          -26.98533058166504,
          -26.597517013549805,
          -26.920347213745117,
          -0.09794752299785614,
          17.37519073486328,
          2.159978151321411,
          -3.747222900390625,
          -37.72584915161133,
          -27.820714950561523,
          -13.502800941467285,
          -10.460951805114746,
          -27.500030517578125,
          -16.977859497070312,
          32.06068420410156,
          20.368593215942383,
          25.537076950073242,
          -8.78495979309082,
          -26.501771926879883,
          31.2683048248291,
          0.4505711495876312,
          2.1556613445281982,
          15.243961334228516,
          -22.93135643005371,
          -12.900611877441406,
          -40.4642219543457
         ]
        },
        {
         "customdata": [
          [
           30
          ],
          [
           25
          ],
          [
           61
          ],
          [
           88
          ],
          [
           37
          ],
          [
           35
          ],
          [
           85
          ],
          [
           85
          ],
          [
           88
          ],
          [
           59
          ],
          [
           90
          ],
          [
           33
          ],
          [
           62
          ],
          [
           59
          ],
          [
           91
          ],
          [
           33
          ],
          [
           87
          ],
          [
           26
          ],
          [
           88
          ],
          [
           24
          ],
          [
           91
          ],
          [
           86
          ],
          [
           36
          ],
          [
           87
          ],
          [
           33
          ],
          [
           59
          ],
          [
           29
          ],
          [
           59
          ],
          [
           57
          ],
          [
           40
          ],
          [
           42
          ],
          [
           89
          ],
          [
           93
          ],
          [
           17
          ],
          [
           24
          ],
          [
           34
          ],
          [
           90
          ],
          [
           20
          ],
          [
           92
          ],
          [
           84
          ],
          [
           59
          ],
          [
           61
          ],
          [
           67
          ],
          [
           82
          ],
          [
           94
          ],
          [
           28
          ],
          [
           36
          ],
          [
           91
          ],
          [
           34
          ],
          [
           77
          ],
          [
           63
          ],
          [
           35
          ],
          [
           21
          ],
          [
           86
          ],
          [
           56
          ],
          [
           83
          ],
          [
           28
          ],
          [
           59
          ],
          [
           83
          ],
          [
           83
          ],
          [
           58
          ],
          [
           91
          ],
          [
           29
          ],
          [
           61
          ],
          [
           84
          ],
          [
           34
          ],
          [
           33
          ],
          [
           55
          ],
          [
           88
          ],
          [
           91
          ],
          [
           91
          ],
          [
           84
          ],
          [
           87
          ],
          [
           39
          ],
          [
           38
          ],
          [
           89
          ],
          [
           59
          ],
          [
           35
          ],
          [
           59
          ],
          [
           87
          ],
          [
           94
          ],
          [
           86
          ],
          [
           60
          ],
          [
           79
          ],
          [
           86
          ],
          [
           60
          ],
          [
           85
          ],
          [
           92
          ],
          [
           37
          ],
          [
           89
          ],
          [
           67
          ],
          [
           31
          ],
          [
           20
          ],
          [
           37
          ],
          [
           57
          ],
          [
           87
          ],
          [
           33
          ],
          [
           56
          ],
          [
           67
          ],
          [
           58
          ],
          [
           89
          ],
          [
           34
          ],
          [
           25
          ],
          [
           44
          ],
          [
           68
          ],
          [
           31
          ],
          [
           58
          ],
          [
           55
          ],
          [
           21
          ],
          [
           36
          ],
          [
           88
          ],
          [
           26
          ],
          [
           29
          ],
          [
           38
          ],
          [
           79
          ],
          [
           51
          ],
          [
           82
          ],
          [
           39
          ],
          [
           87
          ],
          [
           36
          ],
          [
           57
          ],
          [
           61
          ],
          [
           86
          ],
          [
           86
          ],
          [
           35
          ],
          [
           89
          ],
          [
           30
          ],
          [
           60
          ],
          [
           64
          ],
          [
           37
          ],
          [
           65
          ],
          [
           90
          ],
          [
           59
          ],
          [
           29
          ],
          [
           58
          ],
          [
           88
          ],
          [
           63
          ],
          [
           92
          ],
          [
           17
          ],
          [
           34
          ],
          [
           22
          ],
          [
           24
          ],
          [
           36
          ],
          [
           34
          ],
          [
           87
          ],
          [
           85
          ],
          [
           61
          ],
          [
           27
          ],
          [
           59
          ],
          [
           31
          ],
          [
           31
          ]
         ],
         "hoverlabel": {
          "namelength": 0
         },
         "hovertemplate": "Cluster=Cluster 2<br>0=%{x}<br>1=%{y}<br>2=%{z}<br>Feature=%{customdata[0]}",
         "legendgroup": "Cluster=Cluster 2",
         "marker": {
          "color": "#00cc96",
          "opacity": 0.7,
          "symbol": "circle"
         },
         "mode": "markers",
         "name": "Cluster=Cluster 2",
         "scene": "scene",
         "showlegend": true,
         "type": "scatter3d",
         "x": [
          -66.82523345947266,
          -41.00187301635742,
          -37.478721618652344,
          -44.451053619384766,
          -74.429931640625,
          17.832294464111328,
          19.390567779541016,
          -51.99890899658203,
          -81.88809967041016,
          -56.337059020996094,
          -75.31314086914062,
          -44.966773986816406,
          -46.86214828491211,
          -54.90879821777344,
          93.4921646118164,
          -83.47386932373047,
          -57.88587188720703,
          -69.65359497070312,
          -0.9171764254570007,
          -37.10557556152344,
          -66.30207061767578,
          -57.521907806396484,
          -14.349453926086426,
          -65.56681823730469,
          -33.89071273803711,
          -48.6810417175293,
          -79.0904312133789,
          -3.1402246952056885,
          -44.6746711730957,
          -89.40296173095703,
          -27.248857498168945,
          0.1962374597787857,
          -62.47542190551758,
          -67.29004669189453,
          -78.40474700927734,
          -45.33181381225586,
          7.194401264190674,
          -36.99666213989258,
          -49.58651351928711,
          8.47490406036377,
          -68.24873352050781,
          -56.54629898071289,
          6.108909606933594,
          -65.06582641601562,
          -5.72036600112915,
          -78.85279083251953,
          2.540581703186035,
          -32.25679016113281,
          -68.25202941894531,
          -69.23578643798828,
          7.972735404968262,
          -80.74322509765625,
          -75.53811645507812,
          -65.93292999267578,
          -28.822168350219727,
          -48.593666076660156,
          -63.904762268066406,
          -72.08439636230469,
          -61.9735221862793,
          -70.12389373779297,
          7.7031965255737305,
          -83.74000549316406,
          -69.25355529785156,
          -10.35254955291748,
          -66.96727752685547,
          -76.99573516845703,
          -34.68848419189453,
          -29.473331451416016,
          -40.7013053894043,
          -22.50364875793457,
          -76.49662017822266,
          -27.30282211303711,
          -24.1850643157959,
          -88.90042114257812,
          -68.06282806396484,
          -88.60302734375,
          -24.19487953186035,
          -6.2193193435668945,
          -42.87076950073242,
          -55.04610061645508,
          -18.978763580322266,
          -71.36945343017578,
          -47.9334831237793,
          -66.90608978271484,
          -88.81429290771484,
          -63.42448425292969,
          -42.97931671142578,
          -48.620548248291016,
          -55.9478874206543,
          12.658390045166016,
          -21.82907485961914,
          -32.97797393798828,
          -81.75897216796875,
          -65.89202117919922,
          -56.15040969848633,
          -33.5767936706543,
          -73.7162094116211,
          -10.626832008361816,
          1.2087239027023315,
          16.38890838623047,
          9.758767127990723,
          -1.270317554473877,
          -17.029172897338867,
          -54.751399993896484,
          -34.93978500366211,
          -59.23456573486328,
          -13.794238090515137,
          -79.22122192382812,
          -73.261962890625,
          -70.7975082397461,
          -37.40314865112305,
          -10.650896072387695,
          -60.794334411621094,
          -50.56355667114258,
          -79.33718872070312,
          -59.798240661621094,
          -24.486736297607422,
          -12.34607982635498,
          -66.5999984741211,
          -58.56163787841797,
          -39.29767608642578,
          -79.20703887939453,
          -30.357316970825195,
          11.549498558044434,
          -35.703712463378906,
          -79.7274398803711,
          -45.57990646362305,
          -83.5224838256836,
          -60.48881912231445,
          -58.90793228149414,
          -56.534732818603516,
          -65.92902374267578,
          -76.3289794921875,
          -47.588321685791016,
          -27.779190063476562,
          -22.646984100341797,
          -37.33184814453125,
          -48.33024597167969,
          -35.304473876953125,
          -70.33738708496094,
          -34.26478958129883,
          -63.20504379272461,
          -78.82659912109375,
          -30.04645347595215,
          -3.4614510536193848,
          21.398351669311523,
          -47.935367584228516,
          -52.53456115722656,
          -42.526588439941406,
          12.131980895996094,
          -18.741395950317383
         ],
         "y": [
          -26.300230026245117,
          9.491856575012207,
          -10.8555908203125,
          13.890594482421875,
          -42.72880935668945,
          58.98486328125,
          64.05308532714844,
          62.7035026550293,
          -8.769768714904785,
          -22.986112594604492,
          21.82451820373535,
          0.8776403665542603,
          44.50868225097656,
          -36.88225173950195,
          -89.93196868896484,
          39.67228698730469,
          -13.56004810333252,
          -39.71382522583008,
          75.19268798828125,
          6.633907318115234,
          69.91529083251953,
          12.638108253479004,
          60.99483108520508,
          -10.22319221496582,
          6.646622180938721,
          -20.890684127807617,
          13.570541381835938,
          84.1238021850586,
          2.980954170227051,
          28.96622085571289,
          -3.848881244659424,
          42.93406295776367,
          -26.45427894592285,
          -16.368507385253906,
          53.2796745300293,
          30.535232543945312,
          49.11231231689453,
          36.22959518432617,
          -5.618586540222168,
          84.87883758544922,
          13.527281761169434,
          -31.880115509033203,
          62.00689697265625,
          21.299285888671875,
          63.51665496826172,
          -33.09175491333008,
          61.23493194580078,
          34.09513854980469,
          17.43744468688965,
          63.41577911376953,
          74.41555786132812,
          -16.340484619140625,
          -0.6512179970741272,
          -46.85590362548828,
          1.2745667695999146,
          30.112581253051758,
          0.5530115365982056,
          -28.8002872467041,
          -20.19778823852539,
          40.41999053955078,
          64.15303802490234,
          44.306461334228516,
          3.314889669418335,
          65.21044158935547,
          58.54433059692383,
          -6.438070297241211,
          28.477214813232422,
          18.98297119140625,
          23.875564575195312,
          18.53056526184082,
          37.856929779052734,
          -4.493727684020996,
          -26.774686813354492,
          18.666349411010742,
          -37.86457443237305,
          52.23280715942383,
          8.818914413452148,
          53.07228088378906,
          51.58437728881836,
          10.241105079650879,
          8.693253517150879,
          9.050614356994629,
          -13.193976402282715,
          6.290228843688965,
          28.827129364013672,
          14.511628150939941,
          -22.395553588867188,
          0.2301553189754486,
          -24.76652717590332,
          51.62716293334961,
          23.358835220336914,
          -7.246933460235596,
          66.23245239257812,
          -33.28115463256836,
          37.99032211303711,
          23.697296142578125,
          22.69447898864746,
          8.71615982055664,
          76.2997817993164,
          75.0483627319336,
          87.13937377929688,
          54.04716110229492,
          -11.082330703735352,
          62.21099853515625,
          50.7122802734375,
          35.108154296875,
          76.96810913085938,
          30.89230728149414,
          2.947850227355957,
          -11.746465682983398,
          41.01439666748047,
          9.550668716430664,
          50.71373748779297,
          -13.104668617248535,
          63.58704376220703,
          0.5621603727340698,
          40.783599853515625,
          75.18431091308594,
          26.07378387451172,
          14.519902229309082,
          40.10380554199219,
          59.61255645751953,
          13.14781379699707,
          -115.26171112060547,
          -13.493947982788086,
          19.630149841308594,
          24.120952606201172,
          43.78154754638672,
          69.6347427368164,
          0.31368499994277954,
          30.753662109375,
          46.541473388671875,
          52.72367477416992,
          -20.991546630859375,
          15.17320728302002,
          -0.40178048610687256,
          0.2558899521827698,
          -15.025094032287598,
          21.164222717285156,
          -8.996904373168945,
          -19.38313102722168,
          29.058637619018555,
          69.86553955078125,
          -3.955397844314575,
          68.79789733886719,
          75.91315460205078,
          44.26095199584961,
          10.793514251708984,
          14.357983589172363,
          71.04682159423828,
          -9.527947425842285
         ],
         "z": [
          22.800748825073242,
          -8.913935661315918,
          19.82880973815918,
          7.987857341766357,
          8.665604591369629,
          50.71530532836914,
          37.57232666015625,
          3.4212939739227295,
          12.41819953918457,
          10.828587532043457,
          -10.649557113647461,
          30.59222412109375,
          6.829399585723877,
          -1.408025860786438,
          145.71661376953125,
          19.880111694335938,
          26.675983428955078,
          -14.934930801391602,
          51.88955307006836,
          1.6934876441955566,
          -9.383257865905762,
          39.990501403808594,
          38.57004165649414,
          5.289411544799805,
          26.841651916503906,
          19.514469146728516,
          34.52497863769531,
          39.89859390258789,
          41.64004135131836,
          5.483841896057129,
          43.33713912963867,
          66.09286499023438,
          -25.286277770996094,
          -10.943316459655762,
          23.444189071655273,
          11.98680591583252,
          48.46896743774414,
          30.81089210510254,
          14.68124771118164,
          49.29472732543945,
          5.7402496337890625,
          -16.68535041809082,
          44.015106201171875,
          13.329828262329102,
          26.1508846282959,
          13.447225570678711,
          57.14813995361328,
          6.312736511230469,
          25.630586624145508,
          17.692577362060547,
          40.28837203979492,
          2.7215218544006348,
          4.922188758850098,
          -3.575101852416992,
          -12.45882797241211,
          25.05776596069336,
          -3.299429178237915,
          -16.144376754760742,
          39.60038375854492,
          1.5497698783874512,
          29.613489151000977,
          30.310928344726562,
          -19.87015151977539,
          52.58285903930664,
          4.616027355194092,
          -11.804801940917969,
          17.38137435913086,
          -3.943896532058716,
          -21.007349014282227,
          31.190156936645508,
          -11.206028938293457,
          4.3738112449646,
          -72.25499725341797,
          -2.308652400970459,
          15.79762077331543,
          15.814325332641602,
          1.448358416557312,
          47.71080780029297,
          32.52571487426758,
          27.049209594726562,
          36.00611114501953,
          40.76160430908203,
          40.20441818237305,
          28.553852081298828,
          -9.925493240356445,
          -18.095643997192383,
          -2.96368145942688,
          -2.211475372314453,
          -1.3445441722869873,
          35.52206802368164,
          6.800859451293945,
          -7.20375394821167,
          21.280656814575195,
          0.5946007370948792,
          17.163734436035156,
          37.91933822631836,
          40.15147018432617,
          24.060815811157227,
          27.681886672973633,
          29.053457260131836,
          34.58399200439453,
          34.8543815612793,
          8.263413429260254,
          -8.648550033569336,
          21.87114906311035,
          34.08195877075195,
          45.93901062011719,
          -1.7214666604995728,
          17.281034469604492,
          31.462905883789062,
          14.680717468261719,
          11.745041847229004,
          -10.065101623535156,
          -9.698159217834473,
          -8.574033737182617,
          7.185464859008789,
          14.832036018371582,
          31.639562606811523,
          1.3177083730697632,
          80.99932098388672,
          -3.623354911804199,
          11.260910034179688,
          38.985958099365234,
          21.08107566833496,
          38.26634979248047,
          5.864896774291992,
          -1.2752470970153809,
          5.679407119750977,
          1.9091722965240479,
          34.963253021240234,
          6.579960346221924,
          14.730962753295898,
          -2.1185555458068848,
          -17.60920524597168,
          16.078147888183594,
          22.044021606445312,
          14.40392780303955,
          3.6256141662597656,
          7.18446159362793,
          20.857513427734375,
          -14.699528694152832,
          -12.675881385803223,
          3.4205498695373535,
          29.918922424316406,
          39.69050598144531,
          44.43357849121094,
          24.30731964111328,
          -4.535929203033447,
          33.725730895996094,
          54.76484680175781,
          -2.8826937675476074
         ]
        },
        {
         "customdata": [
          [
           93
          ],
          [
           17
          ],
          [
           35
          ],
          [
           28
          ],
          [
           94
          ],
          [
           28
          ],
          [
           33
          ],
          [
           56
          ],
          [
           28
          ],
          [
           86
          ],
          [
           92
          ],
          [
           18
          ],
          [
           61
          ],
          [
           32
          ],
          [
           63
          ],
          [
           58
          ],
          [
           31
          ],
          [
           62
          ],
          [
           60
          ],
          [
           62
          ],
          [
           90
          ],
          [
           33
          ],
          [
           33
          ],
          [
           65
          ],
          [
           59
          ],
          [
           65
          ],
          [
           86
          ],
          [
           32
          ],
          [
           84
          ],
          [
           84
          ],
          [
           90
          ],
          [
           91
          ],
          [
           26
          ],
          [
           92
          ],
          [
           97
          ],
          [
           84
          ],
          [
           58
          ],
          [
           61
          ],
          [
           92
          ],
          [
           87
          ],
          [
           66
          ],
          [
           22
          ],
          [
           91
          ],
          [
           30
          ],
          [
           25
          ],
          [
           28
          ],
          [
           93
          ],
          [
           90
          ],
          [
           91
          ],
          [
           89
          ]
         ],
         "hoverlabel": {
          "namelength": 0
         },
         "hovertemplate": "Cluster=Cluster 3<br>0=%{x}<br>1=%{y}<br>2=%{z}<br>Feature=%{customdata[0]}",
         "legendgroup": "Cluster=Cluster 3",
         "marker": {
          "color": "#ab63fa",
          "opacity": 0.7,
          "symbol": "circle"
         },
         "mode": "markers",
         "name": "Cluster=Cluster 3",
         "scene": "scene",
         "showlegend": true,
         "type": "scatter3d",
         "x": [
          71.95360565185547,
          8.923187255859375,
          15.466334342956543,
          -2.1651289463043213,
          -15.665629386901855,
          22.626148223876953,
          -57.72608947753906,
          21.521038055419922,
          -8.276922225952148,
          5.428163528442383,
          -9.860814094543457,
          4.0722737312316895,
          8.01909351348877,
          12.249519348144531,
          -14.88221263885498,
          0.24770541489124298,
          13.520207405090332,
          -1.7336090803146362,
          -11.309149742126465,
          -10.097431182861328,
          21.98777961730957,
          8.214229583740234,
          -3.155651569366455,
          23.91594123840332,
          -70.54657745361328,
          -10.925524711608887,
          11.474640846252441,
          3.6448616981506348,
          27.839702606201172,
          -5.512749195098877,
          0.44229838252067566,
          16.66379737854004,
          9.734092712402344,
          12.228292465209961,
          -18.67537498474121,
          19.00394058227539,
          12.519928932189941,
          14.372758865356445,
          1.297208309173584,
          -2.5455455780029297,
          9.785209655761719,
          -3.9310410022735596,
          -12.062212944030762,
          1.1149306297302246,
          -3.623728036880493,
          21.438251495361328,
          34.94378662109375,
          -1.6326243877410889,
          -1.8412126302719116,
          -22.88132667541504
         ],
         "y": [
          -61.50999450683594,
          21.128620147705078,
          21.81382179260254,
          35.88595962524414,
          16.308292388916016,
          -13.063678741455078,
          6.664914131164551,
          -4.546689510345459,
          6.887921333312988,
          -32.735939025878906,
          -16.47611427307129,
          18.368532180786133,
          -9.766197204589844,
          -0.08161553740501404,
          6.126487731933594,
          22.860639572143555,
          -0.4958328306674957,
          0.20104128122329712,
          -10.1217622756958,
          30.28899383544922,
          7.532600402832031,
          8.655449867248535,
          -12.576801300048828,
          -24.92145347595215,
          -50.58146286010742,
          26.164356231689453,
          -20.43175506591797,
          11.963191032409668,
          -13.265883445739746,
          17.822664260864258,
          -0.2646079361438751,
          -23.902780532836914,
          -18.67363739013672,
          -9.940388679504395,
          10.366459846496582,
          -0.5473336577415466,
          6.47118616104126,
          10.739997863769531,
          -6.761020660400391,
          -26.19519805908203,
          21.895601272583008,
          -15.160387992858887,
          -26.766366958618164,
          -20.61076545715332,
          13.4104642868042,
          12.771112442016602,
          2.4002432823181152,
          8.517732620239258,
          -28.103811264038086,
          -3.768270254135132
         ],
         "z": [
          92.08102416992188,
          61.57339096069336,
          72.31796264648438,
          87.56733703613281,
          74.5494613647461,
          62.9258918762207,
          -43.08705520629883,
          85.95426940917969,
          79.49767303466797,
          73.61076354980469,
          67.55809020996094,
          97.91651153564453,
          67.380615234375,
          74.73226165771484,
          66.25240325927734,
          72.85336303710938,
          94.82067108154297,
          68.71112823486328,
          81.33503723144531,
          78.4755630493164,
          71.59477996826172,
          67.73461151123047,
          57.72855758666992,
          87.80693054199219,
          46.4873161315918,
          95.21916961669922,
          60.92369079589844,
          80.07797241210938,
          76.23799133300781,
          85.27696228027344,
          51.50636672973633,
          74.62199401855469,
          85.47235870361328,
          53.856346130371094,
          86.14319610595703,
          62.1196174621582,
          51.554683685302734,
          89.29224395751953,
          78.8476791381836,
          64.20448303222656,
          85.56145477294922,
          89.89423370361328,
          77.39253997802734,
          75.45523834228516,
          64.47160339355469,
          56.7986946105957,
          69.7211685180664,
          94.06929779052734,
          85.88123321533203,
          77.51513671875
         ]
        }
       ],
       "layout": {
        "height": 800,
        "legend": {
         "tracegroupgap": 0
        },
        "scene": {
         "domain": {
          "x": [
           0,
           1
          ],
          "y": [
           0,
           1
          ]
         },
         "xaxis": {
          "title": {
           "text": "0"
          }
         },
         "yaxis": {
          "title": {
           "text": "1"
          }
         },
         "zaxis": {
          "title": {
           "text": "2"
          }
         }
        },
        "template": {
         "data": {
          "bar": [
           {
            "error_x": {
             "color": "#2a3f5f"
            },
            "error_y": {
             "color": "#2a3f5f"
            },
            "marker": {
             "line": {
              "color": "#E5ECF6",
              "width": 0.5
             }
            },
            "type": "bar"
           }
          ],
          "barpolar": [
           {
            "marker": {
             "line": {
              "color": "#E5ECF6",
              "width": 0.5
             }
            },
            "type": "barpolar"
           }
          ],
          "carpet": [
           {
            "aaxis": {
             "endlinecolor": "#2a3f5f",
             "gridcolor": "white",
             "linecolor": "white",
             "minorgridcolor": "white",
             "startlinecolor": "#2a3f5f"
            },
            "baxis": {
             "endlinecolor": "#2a3f5f",
             "gridcolor": "white",
             "linecolor": "white",
             "minorgridcolor": "white",
             "startlinecolor": "#2a3f5f"
            },
            "type": "carpet"
           }
          ],
          "choropleth": [
           {
            "colorbar": {
             "outlinewidth": 0,
             "ticks": ""
            },
            "type": "choropleth"
           }
          ],
          "contour": [
           {
            "colorbar": {
             "outlinewidth": 0,
             "ticks": ""
            },
            "colorscale": [
             [
              0,
              "#0d0887"
             ],
             [
              0.1111111111111111,
              "#46039f"
             ],
             [
              0.2222222222222222,
              "#7201a8"
             ],
             [
              0.3333333333333333,
              "#9c179e"
             ],
             [
              0.4444444444444444,
              "#bd3786"
             ],
             [
              0.5555555555555556,
              "#d8576b"
             ],
             [
              0.6666666666666666,
              "#ed7953"
             ],
             [
              0.7777777777777778,
              "#fb9f3a"
             ],
             [
              0.8888888888888888,
              "#fdca26"
             ],
             [
              1,
              "#f0f921"
             ]
            ],
            "type": "contour"
           }
          ],
          "contourcarpet": [
           {
            "colorbar": {
             "outlinewidth": 0,
             "ticks": ""
            },
            "type": "contourcarpet"
           }
          ],
          "heatmap": [
           {
            "colorbar": {
             "outlinewidth": 0,
             "ticks": ""
            },
            "colorscale": [
             [
              0,
              "#0d0887"
             ],
             [
              0.1111111111111111,
              "#46039f"
             ],
             [
              0.2222222222222222,
              "#7201a8"
             ],
             [
              0.3333333333333333,
              "#9c179e"
             ],
             [
              0.4444444444444444,
              "#bd3786"
             ],
             [
              0.5555555555555556,
              "#d8576b"
             ],
             [
              0.6666666666666666,
              "#ed7953"
             ],
             [
              0.7777777777777778,
              "#fb9f3a"
             ],
             [
              0.8888888888888888,
              "#fdca26"
             ],
             [
              1,
              "#f0f921"
             ]
            ],
            "type": "heatmap"
           }
          ],
          "heatmapgl": [
           {
            "colorbar": {
             "outlinewidth": 0,
             "ticks": ""
            },
            "colorscale": [
             [
              0,
              "#0d0887"
             ],
             [
              0.1111111111111111,
              "#46039f"
             ],
             [
              0.2222222222222222,
              "#7201a8"
             ],
             [
              0.3333333333333333,
              "#9c179e"
             ],
             [
              0.4444444444444444,
              "#bd3786"
             ],
             [
              0.5555555555555556,
              "#d8576b"
             ],
             [
              0.6666666666666666,
              "#ed7953"
             ],
             [
              0.7777777777777778,
              "#fb9f3a"
             ],
             [
              0.8888888888888888,
              "#fdca26"
             ],
             [
              1,
              "#f0f921"
             ]
            ],
            "type": "heatmapgl"
           }
          ],
          "histogram": [
           {
            "marker": {
             "colorbar": {
              "outlinewidth": 0,
              "ticks": ""
             }
            },
            "type": "histogram"
           }
          ],
          "histogram2d": [
           {
            "colorbar": {
             "outlinewidth": 0,
             "ticks": ""
            },
            "colorscale": [
             [
              0,
              "#0d0887"
             ],
             [
              0.1111111111111111,
              "#46039f"
             ],
             [
              0.2222222222222222,
              "#7201a8"
             ],
             [
              0.3333333333333333,
              "#9c179e"
             ],
             [
              0.4444444444444444,
              "#bd3786"
             ],
             [
              0.5555555555555556,
              "#d8576b"
             ],
             [
              0.6666666666666666,
              "#ed7953"
             ],
             [
              0.7777777777777778,
              "#fb9f3a"
             ],
             [
              0.8888888888888888,
              "#fdca26"
             ],
             [
              1,
              "#f0f921"
             ]
            ],
            "type": "histogram2d"
           }
          ],
          "histogram2dcontour": [
           {
            "colorbar": {
             "outlinewidth": 0,
             "ticks": ""
            },
            "colorscale": [
             [
              0,
              "#0d0887"
             ],
             [
              0.1111111111111111,
              "#46039f"
             ],
             [
              0.2222222222222222,
              "#7201a8"
             ],
             [
              0.3333333333333333,
              "#9c179e"
             ],
             [
              0.4444444444444444,
              "#bd3786"
             ],
             [
              0.5555555555555556,
              "#d8576b"
             ],
             [
              0.6666666666666666,
              "#ed7953"
             ],
             [
              0.7777777777777778,
              "#fb9f3a"
             ],
             [
              0.8888888888888888,
              "#fdca26"
             ],
             [
              1,
              "#f0f921"
             ]
            ],
            "type": "histogram2dcontour"
           }
          ],
          "mesh3d": [
           {
            "colorbar": {
             "outlinewidth": 0,
             "ticks": ""
            },
            "type": "mesh3d"
           }
          ],
          "parcoords": [
           {
            "line": {
             "colorbar": {
              "outlinewidth": 0,
              "ticks": ""
             }
            },
            "type": "parcoords"
           }
          ],
          "pie": [
           {
            "automargin": true,
            "type": "pie"
           }
          ],
          "scatter": [
           {
            "marker": {
             "colorbar": {
              "outlinewidth": 0,
              "ticks": ""
             }
            },
            "type": "scatter"
           }
          ],
          "scatter3d": [
           {
            "line": {
             "colorbar": {
              "outlinewidth": 0,
              "ticks": ""
             }
            },
            "marker": {
             "colorbar": {
              "outlinewidth": 0,
              "ticks": ""
             }
            },
            "type": "scatter3d"
           }
          ],
          "scattercarpet": [
           {
            "marker": {
             "colorbar": {
              "outlinewidth": 0,
              "ticks": ""
             }
            },
            "type": "scattercarpet"
           }
          ],
          "scattergeo": [
           {
            "marker": {
             "colorbar": {
              "outlinewidth": 0,
              "ticks": ""
             }
            },
            "type": "scattergeo"
           }
          ],
          "scattergl": [
           {
            "marker": {
             "colorbar": {
              "outlinewidth": 0,
              "ticks": ""
             }
            },
            "type": "scattergl"
           }
          ],
          "scattermapbox": [
           {
            "marker": {
             "colorbar": {
              "outlinewidth": 0,
              "ticks": ""
             }
            },
            "type": "scattermapbox"
           }
          ],
          "scatterpolar": [
           {
            "marker": {
             "colorbar": {
              "outlinewidth": 0,
              "ticks": ""
             }
            },
            "type": "scatterpolar"
           }
          ],
          "scatterpolargl": [
           {
            "marker": {
             "colorbar": {
              "outlinewidth": 0,
              "ticks": ""
             }
            },
            "type": "scatterpolargl"
           }
          ],
          "scatterternary": [
           {
            "marker": {
             "colorbar": {
              "outlinewidth": 0,
              "ticks": ""
             }
            },
            "type": "scatterternary"
           }
          ],
          "surface": [
           {
            "colorbar": {
             "outlinewidth": 0,
             "ticks": ""
            },
            "colorscale": [
             [
              0,
              "#0d0887"
             ],
             [
              0.1111111111111111,
              "#46039f"
             ],
             [
              0.2222222222222222,
              "#7201a8"
             ],
             [
              0.3333333333333333,
              "#9c179e"
             ],
             [
              0.4444444444444444,
              "#bd3786"
             ],
             [
              0.5555555555555556,
              "#d8576b"
             ],
             [
              0.6666666666666666,
              "#ed7953"
             ],
             [
              0.7777777777777778,
              "#fb9f3a"
             ],
             [
              0.8888888888888888,
              "#fdca26"
             ],
             [
              1,
              "#f0f921"
             ]
            ],
            "type": "surface"
           }
          ],
          "table": [
           {
            "cells": {
             "fill": {
              "color": "#EBF0F8"
             },
             "line": {
              "color": "white"
             }
            },
            "header": {
             "fill": {
              "color": "#C8D4E3"
             },
             "line": {
              "color": "white"
             }
            },
            "type": "table"
           }
          ]
         },
         "layout": {
          "annotationdefaults": {
           "arrowcolor": "#2a3f5f",
           "arrowhead": 0,
           "arrowwidth": 1
          },
          "coloraxis": {
           "colorbar": {
            "outlinewidth": 0,
            "ticks": ""
           }
          },
          "colorscale": {
           "diverging": [
            [
             0,
             "#8e0152"
            ],
            [
             0.1,
             "#c51b7d"
            ],
            [
             0.2,
             "#de77ae"
            ],
            [
             0.3,
             "#f1b6da"
            ],
            [
             0.4,
             "#fde0ef"
            ],
            [
             0.5,
             "#f7f7f7"
            ],
            [
             0.6,
             "#e6f5d0"
            ],
            [
             0.7,
             "#b8e186"
            ],
            [
             0.8,
             "#7fbc41"
            ],
            [
             0.9,
             "#4d9221"
            ],
            [
             1,
             "#276419"
            ]
           ],
           "sequential": [
            [
             0,
             "#0d0887"
            ],
            [
             0.1111111111111111,
             "#46039f"
            ],
            [
             0.2222222222222222,
             "#7201a8"
            ],
            [
             0.3333333333333333,
             "#9c179e"
            ],
            [
             0.4444444444444444,
             "#bd3786"
            ],
            [
             0.5555555555555556,
             "#d8576b"
            ],
            [
             0.6666666666666666,
             "#ed7953"
            ],
            [
             0.7777777777777778,
             "#fb9f3a"
            ],
            [
             0.8888888888888888,
             "#fdca26"
            ],
            [
             1,
             "#f0f921"
            ]
           ],
           "sequentialminus": [
            [
             0,
             "#0d0887"
            ],
            [
             0.1111111111111111,
             "#46039f"
            ],
            [
             0.2222222222222222,
             "#7201a8"
            ],
            [
             0.3333333333333333,
             "#9c179e"
            ],
            [
             0.4444444444444444,
             "#bd3786"
            ],
            [
             0.5555555555555556,
             "#d8576b"
            ],
            [
             0.6666666666666666,
             "#ed7953"
            ],
            [
             0.7777777777777778,
             "#fb9f3a"
            ],
            [
             0.8888888888888888,
             "#fdca26"
            ],
            [
             1,
             "#f0f921"
            ]
           ]
          },
          "colorway": [
           "#636efa",
           "#EF553B",
           "#00cc96",
           "#ab63fa",
           "#FFA15A",
           "#19d3f3",
           "#FF6692",
           "#B6E880",
           "#FF97FF",
           "#FECB52"
          ],
          "font": {
           "color": "#2a3f5f"
          },
          "geo": {
           "bgcolor": "white",
           "lakecolor": "white",
           "landcolor": "#E5ECF6",
           "showlakes": true,
           "showland": true,
           "subunitcolor": "white"
          },
          "hoverlabel": {
           "align": "left"
          },
          "hovermode": "closest",
          "mapbox": {
           "style": "light"
          },
          "paper_bgcolor": "white",
          "plot_bgcolor": "#E5ECF6",
          "polar": {
           "angularaxis": {
            "gridcolor": "white",
            "linecolor": "white",
            "ticks": ""
           },
           "bgcolor": "#E5ECF6",
           "radialaxis": {
            "gridcolor": "white",
            "linecolor": "white",
            "ticks": ""
           }
          },
          "scene": {
           "xaxis": {
            "backgroundcolor": "#E5ECF6",
            "gridcolor": "white",
            "gridwidth": 2,
            "linecolor": "white",
            "showbackground": true,
            "ticks": "",
            "zerolinecolor": "white"
           },
           "yaxis": {
            "backgroundcolor": "#E5ECF6",
            "gridcolor": "white",
            "gridwidth": 2,
            "linecolor": "white",
            "showbackground": true,
            "ticks": "",
            "zerolinecolor": "white"
           },
           "zaxis": {
            "backgroundcolor": "#E5ECF6",
            "gridcolor": "white",
            "gridwidth": 2,
            "linecolor": "white",
            "showbackground": true,
            "ticks": "",
            "zerolinecolor": "white"
           }
          },
          "shapedefaults": {
           "line": {
            "color": "#2a3f5f"
           }
          },
          "ternary": {
           "aaxis": {
            "gridcolor": "white",
            "linecolor": "white",
            "ticks": ""
           },
           "baxis": {
            "gridcolor": "white",
            "linecolor": "white",
            "ticks": ""
           },
           "bgcolor": "#E5ECF6",
           "caxis": {
            "gridcolor": "white",
            "linecolor": "white",
            "ticks": ""
           }
          },
          "title": {
           "x": 0.05
          },
          "xaxis": {
           "automargin": true,
           "gridcolor": "white",
           "linecolor": "white",
           "ticks": "",
           "title": {
            "standoff": 15
           },
           "zerolinecolor": "white",
           "zerolinewidth": 2
          },
          "yaxis": {
           "automargin": true,
           "gridcolor": "white",
           "linecolor": "white",
           "ticks": "",
           "title": {
            "standoff": 15
           },
           "zerolinecolor": "white",
           "zerolinewidth": 2
          }
         }
        },
        "title": {
         "text": "3d TSNE Plot for Clusters"
        },
        "width": 900
       }
      },
      "text/html": [
       "<div>\n",
       "        \n",
       "        \n",
       "            <div id=\"b37ca5cb-512f-492f-9507-d8e19895a4f3\" class=\"plotly-graph-div\" style=\"height:800px; width:900px;\"></div>\n",
       "            <script type=\"text/javascript\">\n",
       "                require([\"plotly\"], function(Plotly) {\n",
       "                    window.PLOTLYENV=window.PLOTLYENV || {};\n",
       "                    \n",
       "                if (document.getElementById(\"b37ca5cb-512f-492f-9507-d8e19895a4f3\")) {\n",
       "                    Plotly.newPlot(\n",
       "                        'b37ca5cb-512f-492f-9507-d8e19895a4f3',\n",
       "                        [{\"customdata\": [[58], [59], [62], [59], [87], [29], [54], [87], [83], [84], [85], [36], [30], [31], [61], [92], [55], [87], [82], [88], [30], [84], [53], [91], [89], [30], [17], [55], [90], [61], [59], [59], [88], [56], [33], [61], [84], [61], [39], [31], [60], [87], [20], [57], [61], [18], [83], [25], [31], [55], [84], [36], [27], [91], [53], [91], [25], [83], [87], [90], [83], [83], [83], [61], [64], [62], [91], [28], [23], [55], [58], [31], [83], [91], [30], [57], [33], [59], [58], [29], [59], [84], [64], [87], [88], [35], [34], [58], [56], [63], [58], [60], [24], [94], [58], [25], [36], [62], [66], [37], [27], [24], [31], [23], [34], [88], [89], [32], [38], [57], [90], [33], [66], [35], [31], [35], [63], [30], [22], [84], [28], [88], [84], [88], [35], [82], [64], [91], [62], [62], [34], [60], [32], [65], [24], [88], [82], [26], [60], [31], [85], [63], [56], [28], [58], [26], [62]], \"hoverlabel\": {\"namelength\": 0}, \"hovertemplate\": \"Cluster=Cluster 0<br>0=%{x}<br>1=%{y}<br>2=%{z}<br>Feature=%{customdata[0]}\", \"legendgroup\": \"Cluster=Cluster 0\", \"marker\": {\"color\": \"#636efa\", \"opacity\": 0.7, \"symbol\": \"circle\"}, \"mode\": \"markers\", \"name\": \"Cluster=Cluster 0\", \"scene\": \"scene\", \"showlegend\": true, \"type\": \"scatter3d\", \"x\": [13.353453636169434, 25.242923736572266, 28.340097427368164, 6.223514080047607, 40.49405288696289, 31.927553176879883, 14.772905349731445, 10.19352912902832, 17.810142517089844, -4.957423686981201, 60.57195281982422, -4.881323337554932, 63.309749603271484, -7.5159687995910645, 36.18089294433594, 48.918392181396484, 20.307636260986328, 1.2969470024108887, 23.717409133911133, 3.3484668731689453, 10.658087730407715, -10.689413070678711, 21.96014976501465, 5.6976470947265625, 21.67043113708496, -17.45677375793457, 32.90709686279297, 37.23848342895508, 17.776830673217773, 17.175329208374023, 30.0054988861084, 41.28594970703125, 25.14893341064453, 34.13444137573242, 21.30661392211914, 12.796497344970703, 188.92642211914062, 60.72338104248047, 4.208199501037598, 53.403228759765625, 2.404507637023926, 42.69398498535156, 47.31563186645508, -15.622824668884277, -30.006511688232422, 5.617265701293945, 39.55706024169922, -0.8108930587768555, 52.64150619506836, 17.772193908691406, 48.46966552734375, 31.9306583404541, -6.400073051452637, -6.260094165802002, 47.410526275634766, 26.151147842407227, 27.402490615844727, -24.706815719604492, -16.869932174682617, 4.997446060180664, 34.02413558959961, -7.299985885620117, 53.496517181396484, 10.37298583984375, 12.5827054977417, 6.604525089263916, 34.49016571044922, 52.621517181396484, 1.8169597387313843, 34.044578552246094, -9.80173110961914, -15.895423889160156, -8.768716812133789, 3.966230630874634, 35.66146469116211, 16.275089263916016, 5.4655842781066895, 20.29606819152832, 27.019577026367188, 5.306448936462402, -15.532824516296387, -1.9974024295806885, 18.212377548217773, 30.73509979248047, -15.251409530639648, 24.060283660888672, 58.018089294433594, 20.0771484375, 0.22509966790676117, 9.223978996276855, -8.335886001586914, 24.704057693481445, 51.08721923828125, -23.17353630065918, -18.790834426879883, -2.5713465213775635, -5.2368340492248535, -7.7730536460876465, 26.74869728088379, 25.645587921142578, 9.201180458068848, 29.389211654663086, 49.313621520996094, -102.7795181274414, 26.53186798095703, -0.13985925912857056, 12.22803783416748, 6.225667953491211, -8.421252250671387, 33.970970153808594, 35.978946685791016, 38.937747955322266, 36.091556549072266, 39.33545684814453, 40.57298278808594, -17.252593994140625, 25.4019832611084, 14.954243659973145, 38.8646354675293, 14.069210052490234, 38.839256286621094, 26.91873550415039, -6.394747734069824, 12.589601516723633, -16.10533332824707, 2.7474477291107178, 46.5993766784668, 22.206329345703125, 48.1517448425293, 24.0970458984375, 32.511688232421875, 19.507661819458008, 23.7276554107666, -29.950428009033203, 44.93101119995117, -5.838102340698242, 45.16519546508789, 5.6734514236450195, -18.146921157836914, 7.243968963623047, -1.3138842582702637, 40.19111633300781, 19.992277145385742, -2.336174726486206, 48.10202407836914, -9.882498741149902, 26.881126403808594], \"y\": [52.3320198059082, 6.873548984527588, -7.814556121826172, 72.33995056152344, -4.297136306762695, 3.9104537963867188, 11.632025718688965, 26.435388565063477, 20.697099685668945, 22.071361541748047, 17.92894172668457, 61.95780944824219, 27.1723690032959, 67.11848449707031, 8.176838874816895, 42.1379508972168, 23.046775817871094, 56.391971588134766, 56.135677337646484, 49.367671966552734, 52.51218032836914, 43.98950958251953, 15.83364486694336, 88.14215087890625, 43.6698112487793, 72.64852142333984, 17.14137840270996, 35.36769485473633, 31.877056121826172, -2.542271852493286, 24.20268440246582, 27.945070266723633, 68.80006408691406, 72.07083129882812, 0.3031598627567291, 67.14701843261719, -109.47682189941406, 40.86280059814453, 28.757810592651367, 37.74788284301758, 17.23183822631836, -9.851449966430664, 12.050071716308594, 40.023094177246094, 28.96221351623535, 19.440916061401367, 63.90447235107422, 34.296600341796875, 10.1066255569458, -13.26585578918457, 26.3784236907959, 51.34731674194336, -4.888159275054932, 30.53486442565918, 3.4410083293914795, 27.566675186157227, -12.065356254577637, -33.1021614074707, 51.90953826904297, 53.305606842041016, 43.087650299072266, 70.45696258544922, 31.002153396606445, 28.424673080444336, 7.497975826263428, 6.409698963165283, 8.898063659667969, 38.601585388183594, 13.542613983154297, 63.847251892089844, 56.166255950927734, -0.5603722929954529, 47.218544006347656, 29.363994598388672, 14.497776985168457, 16.517654418945312, 61.159603118896484, 12.523811340332031, 34.76821517944336, 76.33428192138672, -16.156774520874023, 7.809802532196045, 66.44920349121094, -7.157402515411377, -1.339841365814209, 11.592984199523926, 23.76749038696289, 43.141204833984375, 14.112665176391602, 38.903076171875, 21.118772506713867, 2.9079132080078125, 26.38084602355957, 13.125372886657715, 76.3083724975586, -6.028290748596191, 47.85760498046875, 23.475980758666992, 37.38239288330078, 57.614017486572266, 18.85048484802246, 12.222204208374023, 14.096367835998535, 6.068676471710205, 4.701615810394287, 24.99150276184082, 37.65473175048828, -12.174488067626953, 37.002647399902344, 12.736117362976074, 26.123884201049805, 40.150665283203125, 55.23127746582031, 30.943449020385742, 29.304399490356445, -0.47420594096183777, 27.737266540527344, 65.24271392822266, 21.079984664916992, 53.30485534667969, 4.094815254211426, 35.38275909423828, 82.20172119140625, 66.70486450195312, 64.33251953125, 62.41524887084961, 18.622303009033203, 72.34650421142578, 10.411654472351074, 26.828157424926758, 51.75138473510742, 57.67091369628906, 15.484475135803223, 15.260149002075195, 59.306663513183594, 76.41927337646484, 43.182762145996094, 5.1326069831848145, 54.989620208740234, 50.875030517578125, 40.25257110595703, 2.2031283378601074, 12.77782154083252, 37.95357894897461, -5.545678615570068, 10.592925071716309, 37.203155517578125], \"z\": [-72.2881088256836, -73.08716583251953, -66.40220642089844, -49.17045974731445, -66.46126556396484, -20.78944206237793, -44.78550720214844, -9.923065185546875, -69.90266418457031, -44.243526458740234, -30.303136825561523, -49.49968719482422, -22.516006469726562, -19.819711685180664, -66.77885437011719, -10.983266830444336, 10.410553932189941, -72.8925552368164, -23.17087745666504, -40.138465881347656, -12.762286186218262, -16.276187896728516, -35.768768310546875, -39.13931655883789, -20.855493545532227, -27.08321189880371, -25.97314453125, 0.7451596260070801, -33.990882873535156, -51.21308517456055, -14.115983009338379, -35.30137634277344, -34.5977668762207, -4.696914196014404, -81.22087860107422, -12.356318473815918, 184.00271606445312, -9.729860305786133, -56.04734802246094, -22.851491928100586, -58.37150192260742, -53.555179595947266, -22.4022274017334, -34.50746536254883, -52.547393798828125, -32.8053092956543, -40.35868835449219, -36.51551818847656, -44.0929069519043, -66.08598327636719, -11.698800086975098, -15.637490272521973, -55.6623649597168, -13.373068809509277, -54.59792709350586, -71.17475891113281, -53.75211715698242, 34.29662322998047, -11.214967727661133, -84.26616668701172, -6.0341691970825195, -36.36526870727539, -36.37612533569336, -41.522396087646484, -75.35942840576172, -86.38628387451172, 7.454230308532715, 4.953751087188721, -71.04640197753906, -20.630830764770508, -4.888530731201172, -33.676273345947266, -47.587711334228516, -22.520000457763672, -42.95079803466797, -8.969755172729492, -35.72989273071289, -58.77028274536133, 8.619683265686035, -35.774906158447266, -54.86886215209961, -52.384376525878906, -44.03202438354492, -41.14535903930664, -65.34965515136719, -20.96160888671875, -54.743858337402344, -2.2988264560699463, -19.049116134643555, 3.2274177074432373, -20.974929809570312, -37.73173522949219, -64.56407928466797, -38.3800163269043, -38.42570114135742, -66.5381088256836, -33.13622283935547, -56.47102355957031, -40.49568557739258, -7.447763919830322, 1.7857831716537476, 17.434364318847656, -6.557760238647461, 15.719144821166992, -49.729347229003906, -68.45726776123047, -16.72639274597168, -56.511131286621094, -55.31374740600586, -10.316569328308105, 12.607772827148438, 12.471515655517578, 8.228660583496094, -21.650789260864258, -59.60285949707031, -50.65729904174805, -49.17329788208008, -27.02117156982422, 2.4682862758636475, -46.9678955078125, -33.14374542236328, -12.478170394897461, -35.65943908691406, -70.91041564941406, -41.13444900512695, -21.01542854309082, -56.65721130371094, -16.32717514038086, -71.85154724121094, -2.1320419311523438, -29.569665908813477, -35.44947814941406, 1.7245787382125854, -53.84856414794922, 1.9671229124069214, -47.776432037353516, -38.56555938720703, -61.995140075683594, -52.16193389892578, 1.8898237943649292, -1.480893611907959, -45.06561279296875, -84.39807891845703, -25.769453048706055, -25.94061851501465, -61.81051254272461, -54.4522705078125]}, {\"customdata\": [[86], [56], [91], [59], [28], [85], [65], [94], [86], [30], [62], [85], [59], [30], [83], [66], [31], [88], [28], [85], [64], [33], [62], [89], [61], [29], [56], [92], [62], [60], [85], [88], [94], [62], [64], [29], [27], [31], [87], [32], [63], [58], [62], [32], [93], [59], [61], [53], [82], [28], [32], [89], [84], [87], [29], [58], [29], [55], [25], [60], [88], [24], [56], [95], [89], [86], [85], [60], [87], [29], [23], [31], [89], [58], [56], [37], [89], [29], [23], [34], [64], [63], [85], [62], [59], [92], [67], [58], [58], [38], [57], [31], [36], [25], [66], [64], [59], [90], [68], [35], [84], [24], [29], [28], [81], [57], [37], [91], [82], [36], [31], [61], [64], [83], [63], [55], [86], [57], [94], [37], [26], [57], [37], [88], [61], [91], [84], [43], [59], [90], [88], [59], [59], [88], [37], [33], [90], [31], [90], [91], [29], [83], [84], [87], [22], [58], [31], [33], [56], [30], [85], [87], [34], [61], [30], [88], [56]], \"hoverlabel\": {\"namelength\": 0}, \"hovertemplate\": \"Cluster=Cluster 1<br>0=%{x}<br>1=%{y}<br>2=%{z}<br>Feature=%{customdata[0]}\", \"legendgroup\": \"Cluster=Cluster 1\", \"marker\": {\"color\": \"#EF553B\", \"opacity\": 0.7, \"symbol\": \"circle\"}, \"mode\": \"markers\", \"name\": \"Cluster=Cluster 1\", \"scene\": \"scene\", \"showlegend\": true, \"type\": \"scatter3d\", \"x\": [-29.632944107055664, 7.803252696990967, 48.485435485839844, 29.888988494873047, 38.500709533691406, 20.16084861755371, 40.321414947509766, -2.9210047721862793, 10.270552635192871, 41.560302734375, 2.4785549640655518, -44.450828552246094, -32.46477127075195, 31.7851505279541, 30.10527801513672, 44.8056755065918, -11.998712539672852, 15.405771255493164, -18.917367935180664, 15.65884017944336, 32.1650390625, 24.907878875732422, 0.9776431918144226, -16.166276931762695, 64.63954162597656, -23.968082427978516, 16.6865291595459, 2.73453950881958, -101.01337432861328, -10.372822761535645, -19.17148208618164, 16.66729736328125, 21.918176651000977, 9.318737030029297, -5.576872825622559, 60.84283447265625, 13.425787925720215, 31.033668518066406, -34.7904052734375, 13.094103813171387, 27.112882614135742, -22.30447006225586, 38.34382247924805, -23.371288299560547, 18.54881477355957, 29.194408416748047, -30.773286819458008, 48.925811767578125, 7.879727840423584, -30.391511917114258, 11.492447853088379, 8.4669189453125, 7.293529510498047, 22.217639923095703, 0.23506230115890503, 12.702507972717285, 22.000221252441406, 0.7631223797798157, 5.544441223144531, 26.3536376953125, -0.8290314674377441, -2.0353646278381348, 26.10623550415039, 21.449888229370117, 50.21809387207031, -0.5152997970581055, 22.75196647644043, 55.761417388916016, 23.69158363342285, 18.778566360473633, 22.400680541992188, 41.53337860107422, -14.145401000976562, 58.959720611572266, 6.6538519859313965, 11.580038070678711, 44.671852111816406, -1.632714867591858, 56.19084548950195, -13.387307167053223, -91.58936309814453, 13.01439094543457, -31.35780906677246, 21.876876831054688, 46.99332046508789, 12.636971473693848, -8.781919479370117, -6.087523460388184, -1.3518016338348389, 17.82916259765625, 5.015742778778076, 4.887988090515137, 54.389015197753906, 27.624164581298828, 2.793887138366699, 27.912904739379883, 49.15047836303711, -13.321727752685547, 7.054469108581543, 32.766990661621094, 22.929550170898438, -41.090267181396484, -2.443037271499634, -1.7389881610870361, 22.83869743347168, -28.697364807128906, -28.48548126220703, 33.59202575683594, 31.865217208862305, 54.83245849609375, 37.93701171875, -4.989632606506348, -7.187507152557373, 18.222410202026367, 23.91214942932129, 50.69033432006836, 13.118593215942383, -0.752699077129364, 21.75624656677246, 13.490280151367188, 38.08361053466797, 34.69109344482422, 19.03497886657715, 14.726712226867676, 9.747795104980469, 9.230317115783691, 43.27631378173828, 37.940513610839844, 25.844301223754883, 64.76388549804688, 25.348861694335938, 24.52911949157715, 9.1198148727417, -12.956937789916992, 17.80753517150879, -41.41244125366211, 39.94953155517578, -2.8185231685638428, 37.07658004760742, 19.927242279052734, 46.82118606567383, 44.12364196777344, -10.253931999206543, 47.59756088256836, -7.081629276275635, 43.502662658691406, 18.423812866210938, 59.19631576538086, 37.828224182128906, 4.990314960479736, 56.39973831176758, 29.744121551513672, 11.40809154510498, 9.372604370117188, -2.2694029808044434, -28.132326126098633, 38.917484283447266], \"y\": [-78.95035552978516, -7.193512439727783, -86.85464477539062, -67.5209732055664, -83.38388061523438, -29.10770606994629, -18.34413719177246, -65.7568359375, -24.70395278930664, -18.929990768432617, -13.404322624206543, -17.95771026611328, -65.15715789794922, -35.85502624511719, -38.06742858886719, -51.80223083496094, -74.01542663574219, -26.59255599975586, -48.46122741699219, -36.83280944824219, -78.29306030273438, -51.400543212890625, -35.29973220825195, -48.36326599121094, -48.84343719482422, -56.91099548339844, -42.969364166259766, -22.555233001708984, -33.098751068115234, -69.6186752319336, -64.90396881103516, -37.604129791259766, -61.114383697509766, -79.30741882324219, -65.07982635498047, -36.158931732177734, -71.84782409667969, -23.823505401611328, -25.203998565673828, -67.09874725341797, -89.23189544677734, -69.70893859863281, -68.817626953125, -34.76729965209961, -78.6110610961914, -88.8908462524414, -66.7258529663086, -40.07926940917969, 82.86611938476562, -50.969093322753906, -35.23116683959961, -62.3270149230957, -28.346281051635742, -17.639503479003906, -45.15861892700195, -19.37236213684082, -61.358642578125, -54.932254791259766, -50.02372360229492, -14.67629623413086, -41.224639892578125, -61.44865417480469, -67.75471496582031, -80.2663803100586, -46.126914978027344, -85.61168670654297, -79.92611694335938, -35.54285430908203, -77.18851470947266, -53.29270553588867, -27.146987915039062, -68.07276153564453, -63.853485107421875, -61.308441162109375, -46.06005096435547, -83.71919250488281, -43.50294876098633, -24.485197067260742, -47.610862731933594, -57.34283447265625, -30.196880340576172, -88.59608459472656, -59.11693572998047, -50.22950744628906, -29.310916900634766, -31.58452033996582, -40.352115631103516, -52.78137969970703, -22.830793380737305, -42.573829650878906, -63.64944839477539, -20.630216598510742, -51.208900451660156, -89.43457794189453, -36.42057418823242, -42.135169982910156, -14.77381420135498, -80.95382690429688, -78.83839416503906, 37.43547439575195, -31.115909576416016, -48.97520446777344, -36.85647964477539, -38.26904296875, -65.21843719482422, -49.979434967041016, -45.46268081665039, -94.68173217773438, -41.76519775390625, -26.019365310668945, -82.05186462402344, -73.79061889648438, -70.69657135009766, -92.16727447509766, -63.01415252685547, -16.396381378173828, -91.86971282958984, -63.06346893310547, -53.86605453491211, -45.08430862426758, -45.94941329956055, -18.823657989501953, -62.84029006958008, -62.59740447998047, -41.12043380737305, -73.17192840576172, -44.0089111328125, -32.96527862548828, -33.678489685058594, -56.025333404541016, -48.69117736816406, -52.558406829833984, -52.45336151123047, -66.82140350341797, -77.92589569091797, -59.744773864746094, -30.97117805480957, -27.98474884033203, -80.8868637084961, -59.22932434082031, -59.872074127197266, -31.008028030395508, -55.91526412963867, -75.55319213867188, -26.644054412841797, -61.14301300048828, -73.77002716064453, -58.77153396606445, -93.10120391845703, -26.08778190612793, -48.4674186706543, -39.17962646484375, -9.842474937438965, -46.920467376708984, -72.53748321533203, -47.90763854980469, -53.654415130615234], \"z\": [9.31600284576416, -13.592665672302246, -16.601402282714844, 32.0557746887207, -20.942583084106445, 31.252214431762695, 10.567305564880371, 1.3266160488128662, 21.480100631713867, 26.583402633666992, 26.217615127563477, 64.47221374511719, 3.3197643756866455, 31.25125503540039, -9.96167278289795, 24.919591903686523, 13.266912460327148, 1.2879749536514282, 16.79581642150879, -44.01926803588867, 23.53374481201172, -54.80119705200195, -10.90838623046875, 4.485591411590576, -21.906919479370117, -1.1977564096450806, 29.11137580871582, -6.688974380493164, 2.018361806869507, 24.18148422241211, -9.683215141296387, -4.862860202789307, 39.50242233276367, -34.800743103027344, -51.89134216308594, 28.545860290527344, -45.855323791503906, -12.12295150756836, -40.246856689453125, -33.488346099853516, 24.47414207458496, 20.616294860839844, -31.651933670043945, 11.350618362426758, -11.434564590454102, 10.063068389892578, -28.917316436767578, 27.11142921447754, 4.159332752227783, 15.511788368225098, 13.466724395751953, -17.236675262451172, -38.473472595214844, -7.933972358703613, 40.04657745361328, -17.430288314819336, -14.213716506958008, 6.3142852783203125, -4.229485988616943, 4.516099452972412, -29.73741340637207, -32.91297912597656, -0.8749586939811707, 4.734407901763916, -21.767629623413086, -22.021886825561523, -52.73594665527344, 12.12415885925293, -40.27471160888672, 5.348740577697754, 8.82859992980957, -20.91765785217285, 8.305596351623535, -22.948793411254883, -50.77750015258789, 9.944099426269531, -33.6859245300293, 20.335466384887695, 13.872182846069336, -36.41808319091797, 35.33260726928711, -42.36222457885742, -18.236570358276367, -8.826525688171387, 38.85319900512695, -17.6577205657959, -5.013510227203369, 21.49972915649414, 32.945980072021484, 42.7741813659668, 22.22374153137207, 10.806415557861328, -12.721719741821289, -2.506694793701172, 26.049728393554688, -36.70766067504883, 38.49089431762695, -28.223115921020508, -11.81387710571289, 80.33335876464844, -24.77549171447754, 35.91535949707031, 17.023168563842773, -46.6442985534668, 10.552083015441895, -23.97797203063965, 1.5388458967208862, -22.646713256835938, 17.16253089904785, 29.93355941772461, -35.768123626708984, -10.079873085021973, -40.11469268798828, 4.928149223327637, -26.575660705566406, 14.05312442779541, -15.97642707824707, -9.918848037719727, 16.781169891357422, -16.453460693359375, -17.008264541625977, 35.456851959228516, 22.85011100769043, 1.4673528671264648, -30.935300827026367, 2.93170166015625, 8.611529350280762, -22.728832244873047, 41.00125503540039, -13.25908374786377, 35.68239974975586, -23.91889762878418, -26.98533058166504, -26.597517013549805, -26.920347213745117, -0.09794752299785614, 17.37519073486328, 2.159978151321411, -3.747222900390625, -37.72584915161133, -27.820714950561523, -13.502800941467285, -10.460951805114746, -27.500030517578125, -16.977859497070312, 32.06068420410156, 20.368593215942383, 25.537076950073242, -8.78495979309082, -26.501771926879883, 31.2683048248291, 0.4505711495876312, 2.1556613445281982, 15.243961334228516, -22.93135643005371, -12.900611877441406, -40.4642219543457]}, {\"customdata\": [[30], [25], [61], [88], [37], [35], [85], [85], [88], [59], [90], [33], [62], [59], [91], [33], [87], [26], [88], [24], [91], [86], [36], [87], [33], [59], [29], [59], [57], [40], [42], [89], [93], [17], [24], [34], [90], [20], [92], [84], [59], [61], [67], [82], [94], [28], [36], [91], [34], [77], [63], [35], [21], [86], [56], [83], [28], [59], [83], [83], [58], [91], [29], [61], [84], [34], [33], [55], [88], [91], [91], [84], [87], [39], [38], [89], [59], [35], [59], [87], [94], [86], [60], [79], [86], [60], [85], [92], [37], [89], [67], [31], [20], [37], [57], [87], [33], [56], [67], [58], [89], [34], [25], [44], [68], [31], [58], [55], [21], [36], [88], [26], [29], [38], [79], [51], [82], [39], [87], [36], [57], [61], [86], [86], [35], [89], [30], [60], [64], [37], [65], [90], [59], [29], [58], [88], [63], [92], [17], [34], [22], [24], [36], [34], [87], [85], [61], [27], [59], [31], [31]], \"hoverlabel\": {\"namelength\": 0}, \"hovertemplate\": \"Cluster=Cluster 2<br>0=%{x}<br>1=%{y}<br>2=%{z}<br>Feature=%{customdata[0]}\", \"legendgroup\": \"Cluster=Cluster 2\", \"marker\": {\"color\": \"#00cc96\", \"opacity\": 0.7, \"symbol\": \"circle\"}, \"mode\": \"markers\", \"name\": \"Cluster=Cluster 2\", \"scene\": \"scene\", \"showlegend\": true, \"type\": \"scatter3d\", \"x\": [-66.82523345947266, -41.00187301635742, -37.478721618652344, -44.451053619384766, -74.429931640625, 17.832294464111328, 19.390567779541016, -51.99890899658203, -81.88809967041016, -56.337059020996094, -75.31314086914062, -44.966773986816406, -46.86214828491211, -54.90879821777344, 93.4921646118164, -83.47386932373047, -57.88587188720703, -69.65359497070312, -0.9171764254570007, -37.10557556152344, -66.30207061767578, -57.521907806396484, -14.349453926086426, -65.56681823730469, -33.89071273803711, -48.6810417175293, -79.0904312133789, -3.1402246952056885, -44.6746711730957, -89.40296173095703, -27.248857498168945, 0.1962374597787857, -62.47542190551758, -67.29004669189453, -78.40474700927734, -45.33181381225586, 7.194401264190674, -36.99666213989258, -49.58651351928711, 8.47490406036377, -68.24873352050781, -56.54629898071289, 6.108909606933594, -65.06582641601562, -5.72036600112915, -78.85279083251953, 2.540581703186035, -32.25679016113281, -68.25202941894531, -69.23578643798828, 7.972735404968262, -80.74322509765625, -75.53811645507812, -65.93292999267578, -28.822168350219727, -48.593666076660156, -63.904762268066406, -72.08439636230469, -61.9735221862793, -70.12389373779297, 7.7031965255737305, -83.74000549316406, -69.25355529785156, -10.35254955291748, -66.96727752685547, -76.99573516845703, -34.68848419189453, -29.473331451416016, -40.7013053894043, -22.50364875793457, -76.49662017822266, -27.30282211303711, -24.1850643157959, -88.90042114257812, -68.06282806396484, -88.60302734375, -24.19487953186035, -6.2193193435668945, -42.87076950073242, -55.04610061645508, -18.978763580322266, -71.36945343017578, -47.9334831237793, -66.90608978271484, -88.81429290771484, -63.42448425292969, -42.97931671142578, -48.620548248291016, -55.9478874206543, 12.658390045166016, -21.82907485961914, -32.97797393798828, -81.75897216796875, -65.89202117919922, -56.15040969848633, -33.5767936706543, -73.7162094116211, -10.626832008361816, 1.2087239027023315, 16.38890838623047, 9.758767127990723, -1.270317554473877, -17.029172897338867, -54.751399993896484, -34.93978500366211, -59.23456573486328, -13.794238090515137, -79.22122192382812, -73.261962890625, -70.7975082397461, -37.40314865112305, -10.650896072387695, -60.794334411621094, -50.56355667114258, -79.33718872070312, -59.798240661621094, -24.486736297607422, -12.34607982635498, -66.5999984741211, -58.56163787841797, -39.29767608642578, -79.20703887939453, -30.357316970825195, 11.549498558044434, -35.703712463378906, -79.7274398803711, -45.57990646362305, -83.5224838256836, -60.48881912231445, -58.90793228149414, -56.534732818603516, -65.92902374267578, -76.3289794921875, -47.588321685791016, -27.779190063476562, -22.646984100341797, -37.33184814453125, -48.33024597167969, -35.304473876953125, -70.33738708496094, -34.26478958129883, -63.20504379272461, -78.82659912109375, -30.04645347595215, -3.4614510536193848, 21.398351669311523, -47.935367584228516, -52.53456115722656, -42.526588439941406, 12.131980895996094, -18.741395950317383], \"y\": [-26.300230026245117, 9.491856575012207, -10.8555908203125, 13.890594482421875, -42.72880935668945, 58.98486328125, 64.05308532714844, 62.7035026550293, -8.769768714904785, -22.986112594604492, 21.82451820373535, 0.8776403665542603, 44.50868225097656, -36.88225173950195, -89.93196868896484, 39.67228698730469, -13.56004810333252, -39.71382522583008, 75.19268798828125, 6.633907318115234, 69.91529083251953, 12.638108253479004, 60.99483108520508, -10.22319221496582, 6.646622180938721, -20.890684127807617, 13.570541381835938, 84.1238021850586, 2.980954170227051, 28.96622085571289, -3.848881244659424, 42.93406295776367, -26.45427894592285, -16.368507385253906, 53.2796745300293, 30.535232543945312, 49.11231231689453, 36.22959518432617, -5.618586540222168, 84.87883758544922, 13.527281761169434, -31.880115509033203, 62.00689697265625, 21.299285888671875, 63.51665496826172, -33.09175491333008, 61.23493194580078, 34.09513854980469, 17.43744468688965, 63.41577911376953, 74.41555786132812, -16.340484619140625, -0.6512179970741272, -46.85590362548828, 1.2745667695999146, 30.112581253051758, 0.5530115365982056, -28.8002872467041, -20.19778823852539, 40.41999053955078, 64.15303802490234, 44.306461334228516, 3.314889669418335, 65.21044158935547, 58.54433059692383, -6.438070297241211, 28.477214813232422, 18.98297119140625, 23.875564575195312, 18.53056526184082, 37.856929779052734, -4.493727684020996, -26.774686813354492, 18.666349411010742, -37.86457443237305, 52.23280715942383, 8.818914413452148, 53.07228088378906, 51.58437728881836, 10.241105079650879, 8.693253517150879, 9.050614356994629, -13.193976402282715, 6.290228843688965, 28.827129364013672, 14.511628150939941, -22.395553588867188, 0.2301553189754486, -24.76652717590332, 51.62716293334961, 23.358835220336914, -7.246933460235596, 66.23245239257812, -33.28115463256836, 37.99032211303711, 23.697296142578125, 22.69447898864746, 8.71615982055664, 76.2997817993164, 75.0483627319336, 87.13937377929688, 54.04716110229492, -11.082330703735352, 62.21099853515625, 50.7122802734375, 35.108154296875, 76.96810913085938, 30.89230728149414, 2.947850227355957, -11.746465682983398, 41.01439666748047, 9.550668716430664, 50.71373748779297, -13.104668617248535, 63.58704376220703, 0.5621603727340698, 40.783599853515625, 75.18431091308594, 26.07378387451172, 14.519902229309082, 40.10380554199219, 59.61255645751953, 13.14781379699707, -115.26171112060547, -13.493947982788086, 19.630149841308594, 24.120952606201172, 43.78154754638672, 69.6347427368164, 0.31368499994277954, 30.753662109375, 46.541473388671875, 52.72367477416992, -20.991546630859375, 15.17320728302002, -0.40178048610687256, 0.2558899521827698, -15.025094032287598, 21.164222717285156, -8.996904373168945, -19.38313102722168, 29.058637619018555, 69.86553955078125, -3.955397844314575, 68.79789733886719, 75.91315460205078, 44.26095199584961, 10.793514251708984, 14.357983589172363, 71.04682159423828, -9.527947425842285], \"z\": [22.800748825073242, -8.913935661315918, 19.82880973815918, 7.987857341766357, 8.665604591369629, 50.71530532836914, 37.57232666015625, 3.4212939739227295, 12.41819953918457, 10.828587532043457, -10.649557113647461, 30.59222412109375, 6.829399585723877, -1.408025860786438, 145.71661376953125, 19.880111694335938, 26.675983428955078, -14.934930801391602, 51.88955307006836, 1.6934876441955566, -9.383257865905762, 39.990501403808594, 38.57004165649414, 5.289411544799805, 26.841651916503906, 19.514469146728516, 34.52497863769531, 39.89859390258789, 41.64004135131836, 5.483841896057129, 43.33713912963867, 66.09286499023438, -25.286277770996094, -10.943316459655762, 23.444189071655273, 11.98680591583252, 48.46896743774414, 30.81089210510254, 14.68124771118164, 49.29472732543945, 5.7402496337890625, -16.68535041809082, 44.015106201171875, 13.329828262329102, 26.1508846282959, 13.447225570678711, 57.14813995361328, 6.312736511230469, 25.630586624145508, 17.692577362060547, 40.28837203979492, 2.7215218544006348, 4.922188758850098, -3.575101852416992, -12.45882797241211, 25.05776596069336, -3.299429178237915, -16.144376754760742, 39.60038375854492, 1.5497698783874512, 29.613489151000977, 30.310928344726562, -19.87015151977539, 52.58285903930664, 4.616027355194092, -11.804801940917969, 17.38137435913086, -3.943896532058716, -21.007349014282227, 31.190156936645508, -11.206028938293457, 4.3738112449646, -72.25499725341797, -2.308652400970459, 15.79762077331543, 15.814325332641602, 1.448358416557312, 47.71080780029297, 32.52571487426758, 27.049209594726562, 36.00611114501953, 40.76160430908203, 40.20441818237305, 28.553852081298828, -9.925493240356445, -18.095643997192383, -2.96368145942688, -2.211475372314453, -1.3445441722869873, 35.52206802368164, 6.800859451293945, -7.20375394821167, 21.280656814575195, 0.5946007370948792, 17.163734436035156, 37.91933822631836, 40.15147018432617, 24.060815811157227, 27.681886672973633, 29.053457260131836, 34.58399200439453, 34.8543815612793, 8.263413429260254, -8.648550033569336, 21.87114906311035, 34.08195877075195, 45.93901062011719, -1.7214666604995728, 17.281034469604492, 31.462905883789062, 14.680717468261719, 11.745041847229004, -10.065101623535156, -9.698159217834473, -8.574033737182617, 7.185464859008789, 14.832036018371582, 31.639562606811523, 1.3177083730697632, 80.99932098388672, -3.623354911804199, 11.260910034179688, 38.985958099365234, 21.08107566833496, 38.26634979248047, 5.864896774291992, -1.2752470970153809, 5.679407119750977, 1.9091722965240479, 34.963253021240234, 6.579960346221924, 14.730962753295898, -2.1185555458068848, -17.60920524597168, 16.078147888183594, 22.044021606445312, 14.40392780303955, 3.6256141662597656, 7.18446159362793, 20.857513427734375, -14.699528694152832, -12.675881385803223, 3.4205498695373535, 29.918922424316406, 39.69050598144531, 44.43357849121094, 24.30731964111328, -4.535929203033447, 33.725730895996094, 54.76484680175781, -2.8826937675476074]}, {\"customdata\": [[93], [17], [35], [28], [94], [28], [33], [56], [28], [86], [92], [18], [61], [32], [63], [58], [31], [62], [60], [62], [90], [33], [33], [65], [59], [65], [86], [32], [84], [84], [90], [91], [26], [92], [97], [84], [58], [61], [92], [87], [66], [22], [91], [30], [25], [28], [93], [90], [91], [89]], \"hoverlabel\": {\"namelength\": 0}, \"hovertemplate\": \"Cluster=Cluster 3<br>0=%{x}<br>1=%{y}<br>2=%{z}<br>Feature=%{customdata[0]}\", \"legendgroup\": \"Cluster=Cluster 3\", \"marker\": {\"color\": \"#ab63fa\", \"opacity\": 0.7, \"symbol\": \"circle\"}, \"mode\": \"markers\", \"name\": \"Cluster=Cluster 3\", \"scene\": \"scene\", \"showlegend\": true, \"type\": \"scatter3d\", \"x\": [71.95360565185547, 8.923187255859375, 15.466334342956543, -2.1651289463043213, -15.665629386901855, 22.626148223876953, -57.72608947753906, 21.521038055419922, -8.276922225952148, 5.428163528442383, -9.860814094543457, 4.0722737312316895, 8.01909351348877, 12.249519348144531, -14.88221263885498, 0.24770541489124298, 13.520207405090332, -1.7336090803146362, -11.309149742126465, -10.097431182861328, 21.98777961730957, 8.214229583740234, -3.155651569366455, 23.91594123840332, -70.54657745361328, -10.925524711608887, 11.474640846252441, 3.6448616981506348, 27.839702606201172, -5.512749195098877, 0.44229838252067566, 16.66379737854004, 9.734092712402344, 12.228292465209961, -18.67537498474121, 19.00394058227539, 12.519928932189941, 14.372758865356445, 1.297208309173584, -2.5455455780029297, 9.785209655761719, -3.9310410022735596, -12.062212944030762, 1.1149306297302246, -3.623728036880493, 21.438251495361328, 34.94378662109375, -1.6326243877410889, -1.8412126302719116, -22.88132667541504], \"y\": [-61.50999450683594, 21.128620147705078, 21.81382179260254, 35.88595962524414, 16.308292388916016, -13.063678741455078, 6.664914131164551, -4.546689510345459, 6.887921333312988, -32.735939025878906, -16.47611427307129, 18.368532180786133, -9.766197204589844, -0.08161553740501404, 6.126487731933594, 22.860639572143555, -0.4958328306674957, 0.20104128122329712, -10.1217622756958, 30.28899383544922, 7.532600402832031, 8.655449867248535, -12.576801300048828, -24.92145347595215, -50.58146286010742, 26.164356231689453, -20.43175506591797, 11.963191032409668, -13.265883445739746, 17.822664260864258, -0.2646079361438751, -23.902780532836914, -18.67363739013672, -9.940388679504395, 10.366459846496582, -0.5473336577415466, 6.47118616104126, 10.739997863769531, -6.761020660400391, -26.19519805908203, 21.895601272583008, -15.160387992858887, -26.766366958618164, -20.61076545715332, 13.4104642868042, 12.771112442016602, 2.4002432823181152, 8.517732620239258, -28.103811264038086, -3.768270254135132], \"z\": [92.08102416992188, 61.57339096069336, 72.31796264648438, 87.56733703613281, 74.5494613647461, 62.9258918762207, -43.08705520629883, 85.95426940917969, 79.49767303466797, 73.61076354980469, 67.55809020996094, 97.91651153564453, 67.380615234375, 74.73226165771484, 66.25240325927734, 72.85336303710938, 94.82067108154297, 68.71112823486328, 81.33503723144531, 78.4755630493164, 71.59477996826172, 67.73461151123047, 57.72855758666992, 87.80693054199219, 46.4873161315918, 95.21916961669922, 60.92369079589844, 80.07797241210938, 76.23799133300781, 85.27696228027344, 51.50636672973633, 74.62199401855469, 85.47235870361328, 53.856346130371094, 86.14319610595703, 62.1196174621582, 51.554683685302734, 89.29224395751953, 78.8476791381836, 64.20448303222656, 85.56145477294922, 89.89423370361328, 77.39253997802734, 75.45523834228516, 64.47160339355469, 56.7986946105957, 69.7211685180664, 94.06929779052734, 85.88123321533203, 77.51513671875]}],\n",
       "                        {\"height\": 800, \"legend\": {\"tracegroupgap\": 0}, \"scene\": {\"domain\": {\"x\": [0.0, 1.0], \"y\": [0.0, 1.0]}, \"xaxis\": {\"title\": {\"text\": \"0\"}}, \"yaxis\": {\"title\": {\"text\": \"1\"}}, \"zaxis\": {\"title\": {\"text\": \"2\"}}}, \"template\": {\"data\": {\"bar\": [{\"error_x\": {\"color\": \"#2a3f5f\"}, \"error_y\": {\"color\": \"#2a3f5f\"}, \"marker\": {\"line\": {\"color\": \"#E5ECF6\", \"width\": 0.5}}, \"type\": \"bar\"}], \"barpolar\": [{\"marker\": {\"line\": {\"color\": \"#E5ECF6\", \"width\": 0.5}}, \"type\": \"barpolar\"}], \"carpet\": [{\"aaxis\": {\"endlinecolor\": \"#2a3f5f\", \"gridcolor\": \"white\", \"linecolor\": \"white\", \"minorgridcolor\": \"white\", \"startlinecolor\": \"#2a3f5f\"}, \"baxis\": {\"endlinecolor\": \"#2a3f5f\", \"gridcolor\": \"white\", \"linecolor\": \"white\", \"minorgridcolor\": \"white\", \"startlinecolor\": \"#2a3f5f\"}, \"type\": \"carpet\"}], \"choropleth\": [{\"colorbar\": {\"outlinewidth\": 0, \"ticks\": \"\"}, \"type\": \"choropleth\"}], \"contour\": [{\"colorbar\": {\"outlinewidth\": 0, \"ticks\": \"\"}, \"colorscale\": [[0.0, \"#0d0887\"], [0.1111111111111111, \"#46039f\"], [0.2222222222222222, \"#7201a8\"], [0.3333333333333333, \"#9c179e\"], [0.4444444444444444, \"#bd3786\"], [0.5555555555555556, \"#d8576b\"], [0.6666666666666666, \"#ed7953\"], [0.7777777777777778, \"#fb9f3a\"], [0.8888888888888888, \"#fdca26\"], [1.0, \"#f0f921\"]], \"type\": \"contour\"}], \"contourcarpet\": [{\"colorbar\": {\"outlinewidth\": 0, \"ticks\": \"\"}, \"type\": \"contourcarpet\"}], \"heatmap\": [{\"colorbar\": {\"outlinewidth\": 0, \"ticks\": \"\"}, \"colorscale\": [[0.0, \"#0d0887\"], [0.1111111111111111, \"#46039f\"], [0.2222222222222222, \"#7201a8\"], [0.3333333333333333, \"#9c179e\"], [0.4444444444444444, \"#bd3786\"], [0.5555555555555556, \"#d8576b\"], [0.6666666666666666, \"#ed7953\"], [0.7777777777777778, \"#fb9f3a\"], [0.8888888888888888, \"#fdca26\"], [1.0, \"#f0f921\"]], \"type\": \"heatmap\"}], \"heatmapgl\": [{\"colorbar\": {\"outlinewidth\": 0, \"ticks\": \"\"}, \"colorscale\": [[0.0, \"#0d0887\"], [0.1111111111111111, \"#46039f\"], [0.2222222222222222, \"#7201a8\"], [0.3333333333333333, \"#9c179e\"], [0.4444444444444444, \"#bd3786\"], [0.5555555555555556, \"#d8576b\"], [0.6666666666666666, \"#ed7953\"], [0.7777777777777778, \"#fb9f3a\"], [0.8888888888888888, \"#fdca26\"], [1.0, \"#f0f921\"]], \"type\": \"heatmapgl\"}], \"histogram\": [{\"marker\": {\"colorbar\": {\"outlinewidth\": 0, \"ticks\": \"\"}}, \"type\": \"histogram\"}], \"histogram2d\": [{\"colorbar\": {\"outlinewidth\": 0, \"ticks\": \"\"}, \"colorscale\": [[0.0, \"#0d0887\"], [0.1111111111111111, \"#46039f\"], [0.2222222222222222, \"#7201a8\"], [0.3333333333333333, \"#9c179e\"], [0.4444444444444444, \"#bd3786\"], [0.5555555555555556, \"#d8576b\"], [0.6666666666666666, \"#ed7953\"], [0.7777777777777778, \"#fb9f3a\"], [0.8888888888888888, \"#fdca26\"], [1.0, \"#f0f921\"]], \"type\": \"histogram2d\"}], \"histogram2dcontour\": [{\"colorbar\": {\"outlinewidth\": 0, \"ticks\": \"\"}, \"colorscale\": [[0.0, \"#0d0887\"], [0.1111111111111111, \"#46039f\"], [0.2222222222222222, \"#7201a8\"], [0.3333333333333333, \"#9c179e\"], [0.4444444444444444, \"#bd3786\"], [0.5555555555555556, \"#d8576b\"], [0.6666666666666666, \"#ed7953\"], [0.7777777777777778, \"#fb9f3a\"], [0.8888888888888888, \"#fdca26\"], [1.0, \"#f0f921\"]], \"type\": \"histogram2dcontour\"}], \"mesh3d\": [{\"colorbar\": {\"outlinewidth\": 0, \"ticks\": \"\"}, \"type\": \"mesh3d\"}], \"parcoords\": [{\"line\": {\"colorbar\": {\"outlinewidth\": 0, \"ticks\": \"\"}}, \"type\": \"parcoords\"}], \"pie\": [{\"automargin\": true, \"type\": \"pie\"}], \"scatter\": [{\"marker\": {\"colorbar\": {\"outlinewidth\": 0, \"ticks\": \"\"}}, \"type\": \"scatter\"}], \"scatter3d\": [{\"line\": {\"colorbar\": {\"outlinewidth\": 0, \"ticks\": \"\"}}, \"marker\": {\"colorbar\": {\"outlinewidth\": 0, \"ticks\": \"\"}}, \"type\": \"scatter3d\"}], \"scattercarpet\": [{\"marker\": {\"colorbar\": {\"outlinewidth\": 0, \"ticks\": \"\"}}, \"type\": \"scattercarpet\"}], \"scattergeo\": [{\"marker\": {\"colorbar\": {\"outlinewidth\": 0, \"ticks\": \"\"}}, \"type\": \"scattergeo\"}], \"scattergl\": [{\"marker\": {\"colorbar\": {\"outlinewidth\": 0, \"ticks\": \"\"}}, \"type\": \"scattergl\"}], \"scattermapbox\": [{\"marker\": {\"colorbar\": {\"outlinewidth\": 0, \"ticks\": \"\"}}, \"type\": \"scattermapbox\"}], \"scatterpolar\": [{\"marker\": {\"colorbar\": {\"outlinewidth\": 0, \"ticks\": \"\"}}, \"type\": \"scatterpolar\"}], \"scatterpolargl\": [{\"marker\": {\"colorbar\": {\"outlinewidth\": 0, \"ticks\": \"\"}}, \"type\": \"scatterpolargl\"}], \"scatterternary\": [{\"marker\": {\"colorbar\": {\"outlinewidth\": 0, \"ticks\": \"\"}}, \"type\": \"scatterternary\"}], \"surface\": [{\"colorbar\": {\"outlinewidth\": 0, \"ticks\": \"\"}, \"colorscale\": [[0.0, \"#0d0887\"], [0.1111111111111111, \"#46039f\"], [0.2222222222222222, \"#7201a8\"], [0.3333333333333333, \"#9c179e\"], [0.4444444444444444, \"#bd3786\"], [0.5555555555555556, \"#d8576b\"], [0.6666666666666666, \"#ed7953\"], [0.7777777777777778, \"#fb9f3a\"], [0.8888888888888888, \"#fdca26\"], [1.0, \"#f0f921\"]], \"type\": \"surface\"}], \"table\": [{\"cells\": {\"fill\": {\"color\": \"#EBF0F8\"}, \"line\": {\"color\": \"white\"}}, \"header\": {\"fill\": {\"color\": \"#C8D4E3\"}, \"line\": {\"color\": \"white\"}}, \"type\": \"table\"}]}, \"layout\": {\"annotationdefaults\": {\"arrowcolor\": \"#2a3f5f\", \"arrowhead\": 0, \"arrowwidth\": 1}, \"coloraxis\": {\"colorbar\": {\"outlinewidth\": 0, \"ticks\": \"\"}}, \"colorscale\": {\"diverging\": [[0, \"#8e0152\"], [0.1, \"#c51b7d\"], [0.2, \"#de77ae\"], [0.3, \"#f1b6da\"], [0.4, \"#fde0ef\"], [0.5, \"#f7f7f7\"], [0.6, \"#e6f5d0\"], [0.7, \"#b8e186\"], [0.8, \"#7fbc41\"], [0.9, \"#4d9221\"], [1, \"#276419\"]], \"sequential\": [[0.0, \"#0d0887\"], [0.1111111111111111, \"#46039f\"], [0.2222222222222222, \"#7201a8\"], [0.3333333333333333, \"#9c179e\"], [0.4444444444444444, \"#bd3786\"], [0.5555555555555556, \"#d8576b\"], [0.6666666666666666, \"#ed7953\"], [0.7777777777777778, \"#fb9f3a\"], [0.8888888888888888, \"#fdca26\"], [1.0, \"#f0f921\"]], \"sequentialminus\": [[0.0, \"#0d0887\"], [0.1111111111111111, \"#46039f\"], [0.2222222222222222, \"#7201a8\"], [0.3333333333333333, \"#9c179e\"], [0.4444444444444444, \"#bd3786\"], [0.5555555555555556, \"#d8576b\"], [0.6666666666666666, \"#ed7953\"], [0.7777777777777778, \"#fb9f3a\"], [0.8888888888888888, \"#fdca26\"], [1.0, \"#f0f921\"]]}, \"colorway\": [\"#636efa\", \"#EF553B\", \"#00cc96\", \"#ab63fa\", \"#FFA15A\", \"#19d3f3\", \"#FF6692\", \"#B6E880\", \"#FF97FF\", \"#FECB52\"], \"font\": {\"color\": \"#2a3f5f\"}, \"geo\": {\"bgcolor\": \"white\", \"lakecolor\": \"white\", \"landcolor\": \"#E5ECF6\", \"showlakes\": true, \"showland\": true, \"subunitcolor\": \"white\"}, \"hoverlabel\": {\"align\": \"left\"}, \"hovermode\": \"closest\", \"mapbox\": {\"style\": \"light\"}, \"paper_bgcolor\": \"white\", \"plot_bgcolor\": \"#E5ECF6\", \"polar\": {\"angularaxis\": {\"gridcolor\": \"white\", \"linecolor\": \"white\", \"ticks\": \"\"}, \"bgcolor\": \"#E5ECF6\", \"radialaxis\": {\"gridcolor\": \"white\", \"linecolor\": \"white\", \"ticks\": \"\"}}, \"scene\": {\"xaxis\": {\"backgroundcolor\": \"#E5ECF6\", \"gridcolor\": \"white\", \"gridwidth\": 2, \"linecolor\": \"white\", \"showbackground\": true, \"ticks\": \"\", \"zerolinecolor\": \"white\"}, \"yaxis\": {\"backgroundcolor\": \"#E5ECF6\", \"gridcolor\": \"white\", \"gridwidth\": 2, \"linecolor\": \"white\", \"showbackground\": true, \"ticks\": \"\", \"zerolinecolor\": \"white\"}, \"zaxis\": {\"backgroundcolor\": \"#E5ECF6\", \"gridcolor\": \"white\", \"gridwidth\": 2, \"linecolor\": \"white\", \"showbackground\": true, \"ticks\": \"\", \"zerolinecolor\": \"white\"}}, \"shapedefaults\": {\"line\": {\"color\": \"#2a3f5f\"}}, \"ternary\": {\"aaxis\": {\"gridcolor\": \"white\", \"linecolor\": \"white\", \"ticks\": \"\"}, \"baxis\": {\"gridcolor\": \"white\", \"linecolor\": \"white\", \"ticks\": \"\"}, \"bgcolor\": \"#E5ECF6\", \"caxis\": {\"gridcolor\": \"white\", \"linecolor\": \"white\", \"ticks\": \"\"}}, \"title\": {\"x\": 0.05}, \"xaxis\": {\"automargin\": true, \"gridcolor\": \"white\", \"linecolor\": \"white\", \"ticks\": \"\", \"title\": {\"standoff\": 15}, \"zerolinecolor\": \"white\", \"zerolinewidth\": 2}, \"yaxis\": {\"automargin\": true, \"gridcolor\": \"white\", \"linecolor\": \"white\", \"ticks\": \"\", \"title\": {\"standoff\": 15}, \"zerolinecolor\": \"white\", \"zerolinewidth\": 2}}}, \"title\": {\"text\": \"3d TSNE Plot for Clusters\"}, \"width\": 900},\n",
       "                        {\"responsive\": true}\n",
       "                    ).then(function(){\n",
       "                            \n",
       "var gd = document.getElementById('b37ca5cb-512f-492f-9507-d8e19895a4f3');\n",
       "var x = new MutationObserver(function (mutations, observer) {{\n",
       "        var display = window.getComputedStyle(gd).display;\n",
       "        if (!display || display === 'none') {{\n",
       "            console.log([gd, 'removed!']);\n",
       "            Plotly.purge(gd);\n",
       "            observer.disconnect();\n",
       "        }}\n",
       "}});\n",
       "\n",
       "// Listen for the removal of the full notebook cells\n",
       "var notebookContainer = gd.closest('#notebook-container');\n",
       "if (notebookContainer) {{\n",
       "    x.observe(notebookContainer, {childList: true});\n",
       "}}\n",
       "\n",
       "// Listen for the clearing of the current output cell\n",
       "var outputEl = gd.closest('.output');\n",
       "if (outputEl) {{\n",
       "    x.observe(outputEl, {childList: true});\n",
       "}}\n",
       "\n",
       "                        })\n",
       "                };\n",
       "                });\n",
       "            </script>\n",
       "        </div>"
      ]
     },
     "metadata": {},
     "output_type": "display_data"
    }
   ],
   "source": [
    "# plot a model\n",
    "plot_model(kmeans,plot='tsne') "
   ]
  },
  {
   "cell_type": "code",
   "execution_count": 8,
   "metadata": {
    "scrolled": false
   },
   "outputs": [
    {
     "data": {
      "text/html": [
       "        <script type=\"text/javascript\">\n",
       "        window.PlotlyConfig = {MathJaxConfig: 'local'};\n",
       "        if (window.MathJax) {MathJax.Hub.Config({SVG: {font: \"STIX-Web\"}});}\n",
       "        if (typeof require !== 'undefined') {\n",
       "        require.undef(\"plotly\");\n",
       "        requirejs.config({\n",
       "            paths: {\n",
       "                'plotly': ['https://cdn.plot.ly/plotly-latest.min']\n",
       "            }\n",
       "        });\n",
       "        require(['plotly'], function(Plotly) {\n",
       "            window._Plotly = Plotly;\n",
       "        });\n",
       "        }\n",
       "        </script>\n",
       "        "
      ]
     },
     "metadata": {},
     "output_type": "display_data"
    },
    {
     "data": {
      "image/png": "[encoded data removed]",
      "text/plain": [
       "<Figure size 576x396 with 1 Axes>"
      ]
     },
     "metadata": {},
     "output_type": "display_data"
    }
   ],
   "source": [
    "# plot a model\n",
    "plot_model(kmeans,plot='elbow') "
   ]
  },
  {
   "cell_type": "code",
   "execution_count": 14,
   "metadata": {},
   "outputs": [
    {
     "data": {
      "text/html": [
       "        <script type=\"text/javascript\">\n",
       "        window.PlotlyConfig = {MathJaxConfig: 'local'};\n",
       "        if (window.MathJax) {MathJax.Hub.Config({SVG: {font: \"STIX-Web\"}});}\n",
       "        if (typeof require !== 'undefined') {\n",
       "        require.undef(\"plotly\");\n",
       "        requirejs.config({\n",
       "            paths: {\n",
       "                'plotly': ['https://cdn.plot.ly/plotly-latest.min']\n",
       "            }\n",
       "        });\n",
       "        require(['plotly'], function(Plotly) {\n",
       "            window._Plotly = Plotly;\n",
       "        });\n",
       "        }\n",
       "        </script>\n",
       "        "
      ]
     },
     "metadata": {},
     "output_type": "display_data"
    },
    {
     "data": {
      "image/png": "[encoded data removed]",
      "text/plain": [
       "<Figure size 576x396 with 1 Axes>"
      ]
     },
     "metadata": {},
     "output_type": "display_data"
    }
   ],
   "source": [
    "# plot a model\n",
    "plot_model(kmeans,plot='silhouette') "
   ]
  },
  {
   "cell_type": "code",
   "execution_count": 15,
   "metadata": {},
   "outputs": [
    {
     "data": {
      "text/html": [
       "        <script type=\"text/javascript\">\n",
       "        window.PlotlyConfig = {MathJaxConfig: 'local'};\n",
       "        if (window.MathJax) {MathJax.Hub.Config({SVG: {font: \"STIX-Web\"}});}\n",
       "        if (typeof require !== 'undefined') {\n",
       "        require.undef(\"plotly\");\n",
       "        requirejs.config({\n",
       "            paths: {\n",
       "                'plotly': ['https://cdn.plot.ly/plotly-latest.min']\n",
       "            }\n",
       "        });\n",
       "        require(['plotly'], function(Plotly) {\n",
       "            window._Plotly = Plotly;\n",
       "        });\n",
       "        }\n",
       "        </script>\n",
       "        "
      ]
     },
     "metadata": {},
     "output_type": "display_data"
    },
    {
     "data": {
      "image/png": "[encoded data removed]",
      "text/plain": [
       "<Figure size 576x396 with 2 Axes>"
      ]
     },
     "metadata": {},
     "output_type": "display_data"
    }
   ],
   "source": [
    "# plot a model\n",
    "plot_model(kmeans,plot='distance') "
   ]
  },
  {
   "cell_type": "code",
   "execution_count": 9,
   "metadata": {
    "scrolled": true
   },
   "outputs": [
    {
     "data": {
      "text/html": [
       "        <script type=\"text/javascript\">\n",
       "        window.PlotlyConfig = {MathJaxConfig: 'local'};\n",
       "        if (window.MathJax) {MathJax.Hub.Config({SVG: {font: \"STIX-Web\"}});}\n",
       "        if (typeof require !== 'undefined') {\n",
       "        require.undef(\"plotly\");\n",
       "        requirejs.config({\n",
       "            paths: {\n",
       "                'plotly': ['https://cdn.plot.ly/plotly-latest.min']\n",
       "            }\n",
       "        });\n",
       "        require(['plotly'], function(Plotly) {\n",
       "            window._Plotly = Plotly;\n",
       "        });\n",
       "        }\n",
       "        </script>\n",
       "        "
      ]
     },
     "metadata": {},
     "output_type": "display_data"
    },
    {
     "data": {
      "application/vnd.plotly.v1+json": {
       "config": {
        "plotlyServerURL": "https://plot.ly"
       },
       "data": [
        {
         "alignmentgroup": "True",
         "bingroup": "x",
         "hoverlabel": {
          "namelength": 0
         },
         "hovertemplate": "Cluster=Cluster 0<br>Age=%{x}<br>count=%{y}",
         "legendgroup": "Cluster=Cluster 0",
         "marker": {
          "color": "#636efa",
          "opacity": 0.7
         },
         "name": "Cluster=Cluster 0",
         "offsetgroup": "Cluster=Cluster 0",
         "orientation": "v",
         "showlegend": true,
         "type": "histogram",
         "x": [
          89,
          91,
          92,
          90,
          93,
          89,
          88,
          87,
          86,
          82,
          91,
          88,
          87,
          91,
          90,
          85,
          91,
          88,
          85,
          85,
          88,
          84,
          88,
          94,
          86,
          94,
          89,
          87,
          84,
          91,
          91,
          88,
          88,
          89,
          91,
          90,
          89,
          83,
          83,
          86,
          84,
          94,
          94,
          79,
          88,
          85,
          82,
          82,
          91,
          91,
          89,
          84,
          87,
          81,
          93,
          84,
          95,
          89,
          86,
          85,
          87,
          92,
          89,
          85,
          88,
          86,
          94,
          87,
          85,
          83,
          87,
          88,
          84,
          85,
          91,
          90,
          88,
          89,
          88,
          92,
          90,
          85,
          88,
          94,
          84,
          91,
          88,
          87,
          86,
          83,
          83,
          91,
          86,
          89,
          92,
          87,
          84,
          83,
          83,
          85,
          90,
          97,
          92,
          87,
          91,
          83,
          87,
          91,
          82,
          91,
          90,
          86,
          85,
          90,
          84,
          87,
          84,
          88,
          91,
          84,
          94,
          89,
          92,
          89,
          90,
          90,
          88,
          88,
          93,
          90,
          87,
          87,
          91,
          87,
          87,
          92,
          84,
          87,
          87,
          83,
          79,
          92,
          91,
          83,
          86,
          84,
          82
         ],
         "xaxis": "x",
         "yaxis": "y"
        },
        {
         "alignmentgroup": "True",
         "customdata": [
          [
           89,
           30267,
           0.2893100658351509,
           14386.351879589123,
           "Cluster 0"
          ],
          [
           91,
           29082,
           0.28248852137129143,
           18794.488169074688,
           "Cluster 0"
          ],
          [
           92,
           22484,
           0.3317732623948493,
           18615.632589788456,
           "Cluster 0"
          ],
          [
           90,
           33490,
           0.4199085281737912,
           17091.904228934392,
           "Cluster 0"
          ],
          [
           93,
           17672,
           0.3032923688871533,
           18516.451810726718,
           "Cluster 0"
          ],
          [
           89,
           26940,
           0.3260051328059917,
           16555.159377159824,
           "Cluster 0"
          ],
          [
           88,
           28409,
           0.30565353367521064,
           17326.175608364214,
           "Cluster 0"
          ],
          [
           87,
           30178,
           0.2793159778940049,
           16123.070750832,
           "Cluster 0"
          ],
          [
           86,
           31994,
           0.24947694035510065,
           18210.088099070614,
           "Cluster 0"
          ],
          [
           82,
           33610,
           0.3012532342412973,
           17755.664940228176,
           "Cluster 0"
          ],
          [
           91,
           12038,
           0.3498032558856572,
           16464.960504438823,
           "Cluster 0"
          ],
          [
           88,
           35051,
           0.3860515062876169,
           17593.24679258195,
           "Cluster 0"
          ],
          [
           87,
           12000,
           0.3429910076112659,
           16180.26525174153,
           "Cluster 0"
          ],
          [
           91,
           36639,
           0.3261988874784867,
           16275.703341192586,
           "Cluster 0"
          ],
          [
           90,
           22288,
           0.2713268321051208,
           18434.099152391347,
           "Cluster 0"
          ],
          [
           85,
           21250,
           0.3104101151420252,
           16033.971166673777,
           "Cluster 0"
          ],
          [
           91,
           30148,
           0.2773889467565771,
           15324.287405101717,
           "Cluster 0"
          ],
          [
           88,
           26351,
           0.3041682062164747,
           14035.917553542351,
           "Cluster 0"
          ],
          [
           85,
           28401,
           0.3694371368158697,
           15990.49413056604,
           "Cluster 0"
          ],
          [
           85,
           34634,
           0.3690001696241634,
           16719.815875018445,
           "Cluster 0"
          ],
          [
           88,
           34001,
           0.33756932388752803,
           15530.934134298665,
           "Cluster 0"
          ],
          [
           84,
           42018,
           0.29799360218993026,
           16148.370454036614,
           "Cluster 0"
          ],
          [
           88,
           26092,
           0.3128732065230775,
           17105.79392615357,
           "Cluster 0"
          ],
          [
           94,
           28352,
           0.37687573531685575,
           16798.886114738052,
           "Cluster 0"
          ],
          [
           86,
           28779,
           0.3365233301816881,
           16047.268331461928,
           "Cluster 0"
          ],
          [
           94,
           38923,
           0.33022601809734325,
           16971.181554867213,
           "Cluster 0"
          ],
          [
           89,
           25252,
           0.32176522093208865,
           16539.364186086335,
           "Cluster 0"
          ],
          [
           87,
           25566,
           0.3167603729756968,
           15188.058749407255,
           "Cluster 0"
          ],
          [
           84,
           27384,
           0.31364671699548896,
           16734.672754073246,
           "Cluster 0"
          ],
          [
           91,
           28777,
           0.324193555035782,
           17808.2662415687,
           "Cluster 0"
          ],
          [
           91,
           27168,
           0.3322388165540652,
           15893.729773516614,
           "Cluster 0"
          ],
          [
           88,
           22602,
           0.35674482887974684,
           16740.343496726702,
           "Cluster 0"
          ],
          [
           88,
           28802,
           0.4083878319987073,
           16293.038332542192,
           "Cluster 0"
          ],
          [
           89,
           24520,
           0.44383270684567067,
           13556.9358834699,
           "Cluster 0"
          ],
          [
           91,
           29750,
           0.2884703320713124,
           19201.11991627576,
           "Cluster 0"
          ],
          [
           90,
           33259,
           0.377571058498228,
           15315.028503741696,
           "Cluster 0"
          ],
          [
           89,
           33311,
           0.3761469685086391,
           17093.06995548225,
           "Cluster 0"
          ],
          [
           83,
           18162,
           0.3013734548863509,
           16029.469213914268,
           "Cluster 0"
          ],
          [
           83,
           26882,
           0.34797963237384105,
           17775.22817123954,
           "Cluster 0"
          ],
          [
           86,
           18812,
           0.34154576038705153,
           16157.734142403422,
           "Cluster 0"
          ],
          [
           84,
           29492,
           0.3336031402694437,
           17954.09505703969,
           "Cluster 0"
          ],
          [
           94,
           18937,
           0.3470950600753079,
           17739.776098377628,
           "Cluster 0"
          ],
          [
           94,
           20719,
           0.336402269797664,
           16281.832273239006,
           "Cluster 0"
          ],
          [
           79,
           38201,
           0.3697828881534748,
           16393.395697309446,
           "Cluster 0"
          ],
          [
           88,
           19510,
           0.3167510258154691,
           16529.20080632274,
           "Cluster 0"
          ],
          [
           85,
           30794,
           0.2862292747117072,
           17096.39150937826,
           "Cluster 0"
          ],
          [
           82,
           24221,
           0.4735496605323542,
           16251.759445212669,
           "Cluster 0"
          ],
          [
           82,
           32494,
           0.3273154026360584,
           16799.444266662453,
           "Cluster 0"
          ],
          [
           91,
           16950,
           0.32300404344763,
           17172.609400509067,
           "Cluster 0"
          ],
          [
           91,
           20681,
           0.3546791690549572,
           18401.08844474873,
           "Cluster 0"
          ],
          [
           89,
           20292,
           0.3121481952107594,
           16023.4456584523,
           "Cluster 0"
          ],
          [
           84,
           27179,
           0.3474234168306904,
           15612.628547766899,
           "Cluster 0"
          ],
          [
           87,
           24578,
           0.37616545875063534,
           17789.247521813828,
           "Cluster 0"
          ],
          [
           81,
           34425,
           0.2726097792323641,
           16262.623790655764,
           "Cluster 0"
          ],
          [
           93,
           20440,
           0.2975730342292497,
           17406.074017844054,
           "Cluster 0"
          ],
          [
           84,
           27544,
           0.2309337663207005,
           18207.36169648481,
           "Cluster 0"
          ],
          [
           95,
           27038,
           0.3313520070109344,
           18126.577451151075,
           "Cluster 0"
          ],
          [
           89,
           26127,
           0.3044743722681633,
           17194.828018777476,
           "Cluster 0"
          ],
          [
           86,
           46977,
           0.2827283910152334,
           15628.957075805025,
           "Cluster 0"
          ],
          [
           85,
           27599,
           0.2819950483303406,
           13470.97060503703,
           "Cluster 0"
          ],
          [
           87,
           25701,
           0.3152205738281265,
           15738.859295516553,
           "Cluster 0"
          ],
          [
           92,
           35877,
           0.3668917159124752,
           17287.907016982324,
           "Cluster 0"
          ],
          [
           89,
           19202,
           0.3819877440174351,
           16626.22236147723,
           "Cluster 0"
          ],
          [
           85,
           29204,
           0.3254914498834959,
           16918.903460369133,
           "Cluster 0"
          ],
          [
           88,
           33251,
           0.3043913649608802,
           18868.24161249696,
           "Cluster 0"
          ],
          [
           86,
           35998,
           0.3216356471662456,
           20000,
           "Cluster 0"
          ],
          [
           94,
           27169,
           0.3141730453838618,
           15061.776215142369,
           "Cluster 0"
          ],
          [
           87,
           18459,
           0.2645499059687874,
           15637.59765457844,
           "Cluster 0"
          ],
          [
           85,
           29610,
           0.3181352453742131,
           18475.487468080933,
           "Cluster 0"
          ],
          [
           83,
           28497,
           0.3938023931664613,
           15510.112981164848,
           "Cluster 0"
          ],
          [
           87,
           46910,
           0.3085616998317755,
           14789.14847617646,
           "Cluster 0"
          ],
          [
           88,
           17388,
           0.4661894446652393,
           16698.6210372462,
           "Cluster 0"
          ],
          [
           84,
           38042,
           0.3660858718547989,
           17465.856285855403,
           "Cluster 0"
          ],
          [
           85,
           34802,
           0.2987969233586417,
           16450.003270402787,
           "Cluster 0"
          ],
          [
           91,
           25237,
           0.3535018242414266,
           17292.733103848248,
           "Cluster 0"
          ],
          [
           90,
           30178,
           0.2823512821567113,
           16182.8384364088,
           "Cluster 0"
          ],
          [
           88,
           32708,
           0.3682153159958089,
           16711.0679804242,
           "Cluster 0"
          ],
          [
           89,
           31096,
           0.2785878455435617,
           17736.94259966666,
           "Cluster 0"
          ],
          [
           88,
           27169,
           0.28005950486141434,
           15260.635546195437,
           "Cluster 0"
          ],
          [
           92,
           32915,
           0.3885749195868542,
           16694.706839244012,
           "Cluster 0"
          ],
          [
           90,
           25733,
           0.3385629680709827,
           17631.56888411863,
           "Cluster 0"
          ],
          [
           85,
           26355,
           0.34234066669498114,
           17971.19363998381,
           "Cluster 0"
          ],
          [
           88,
           28585,
           0.3977396663840213,
           16725.841854363774,
           "Cluster 0"
          ],
          [
           94,
           27771,
           0.3025032231546657,
           17303.957194969433,
           "Cluster 0"
          ],
          [
           84,
           22286,
           0.3955062459001081,
           17886.53737311577,
           "Cluster 0"
          ],
          [
           91,
           26424,
           0.3193886529047028,
           16501.46877669979,
           "Cluster 0"
          ],
          [
           88,
           17946,
           0.26964363039994416,
           16715.160017840968,
           "Cluster 0"
          ],
          [
           87,
           30812,
           0.3144631516753479,
           15238.118997598334,
           "Cluster 0"
          ],
          [
           86,
           36031,
           0.2401766350783482,
           16945.326244896307,
           "Cluster 0"
          ],
          [
           83,
           30492,
           0.3016314685914632,
           15365.85846293255,
           "Cluster 0"
          ],
          [
           83,
           33170,
           0.24107774427464634,
           16620.010473689304,
           "Cluster 0"
          ],
          [
           91,
           25886,
           0.30175376758370465,
           17266.045729118025,
           "Cluster 0"
          ],
          [
           86,
           15695,
           0.25717496647489363,
           17366.186263516567,
           "Cluster 0"
          ],
          [
           89,
           22008,
           0.3819060693389532,
           16458.398097731253,
           "Cluster 0"
          ],
          [
           92,
           36032,
           0.3369683066109672,
           17348.5998812573,
           "Cluster 0"
          ],
          [
           87,
           23042,
           0.3663120107544869,
           18149.035872923057,
           "Cluster 0"
          ],
          [
           84,
           36463,
           0.3536209572557781,
           16563.372591147832,
           "Cluster 0"
          ],
          [
           83,
           30721,
           0.3311418077630257,
           17705.99238527814,
           "Cluster 0"
          ],
          [
           83,
           23206,
           0.3212403632065312,
           16870.672003783384,
           "Cluster 0"
          ],
          [
           85,
           28408,
           0.3580738593579665,
           15063.335797441836,
           "Cluster 0"
          ],
          [
           90,
           33188,
           0.24881006879023135,
           15866.913937696345,
           "Cluster 0"
          ],
          [
           97,
           27271,
           0.28392289527040304,
           14928.165597390327,
           "Cluster 0"
          ],
          [
           92,
           18724,
           0.3278623148176303,
           15341.381109594675,
           "Cluster 0"
          ],
          [
           87,
           23322,
           0.30682119734644964,
           16131.267659393414,
           "Cluster 0"
          ],
          [
           91,
           28165,
           0.3036929225036061,
           17460.179350212424,
           "Cluster 0"
          ],
          [
           83,
           28727,
           0.3082630418510537,
           18205.33626089001,
           "Cluster 0"
          ],
          [
           87,
           31481,
           0.317423970601333,
           16180.68808203422,
           "Cluster 0"
          ],
          [
           91,
           26917,
           0.37671353045834655,
           17986.618644605885,
           "Cluster 0"
          ],
          [
           82,
           33636,
           0.3717829785401914,
           17866.83359752812,
           "Cluster 0"
          ],
          [
           91,
           24370,
           0.2963285713632805,
           16141.048981383728,
           "Cluster 0"
          ],
          [
           90,
           24376,
           0.2812794569155436,
           15134.994226396464,
           "Cluster 0"
          ],
          [
           86,
           23400,
           0.27803553844702666,
           15215.28126373834,
           "Cluster 0"
          ],
          [
           85,
           21652,
           0.3184561372216806,
           14175.16988549895,
           "Cluster 0"
          ],
          [
           90,
           22782,
           0.3563068710287742,
           15924.071707885845,
           "Cluster 0"
          ],
          [
           84,
           18244,
           0.29266337446440194,
           17815.348406878897,
           "Cluster 0"
          ],
          [
           87,
           26665,
           0.4021456613889217,
           17376.914743318182,
           "Cluster 0"
          ],
          [
           84,
           24105,
           0.2718090229374729,
           16524.902538052145,
           "Cluster 0"
          ],
          [
           88,
           31366,
           0.3796208481334848,
           16079.622699815933,
           "Cluster 0"
          ],
          [
           91,
           22672,
           0.2710645345158169,
           15407.646761130874,
           "Cluster 0"
          ],
          [
           84,
           30481,
           0.3970228936031003,
           16837.205964813103,
           "Cluster 0"
          ],
          [
           94,
           23854,
           0.3144466826182581,
           16828.410118749016,
           "Cluster 0"
          ],
          [
           89,
           28160,
           0.3388488510290433,
           15607.061781887898,
           "Cluster 0"
          ],
          [
           92,
           33550,
           0.3685156285793065,
           17106.32591058189,
           "Cluster 0"
          ],
          [
           89,
           34524,
           0.348118273264174,
           14051.256515312789,
           "Cluster 0"
          ],
          [
           90,
           37503,
           0.35778831446458764,
           17258.57497274541,
           "Cluster 0"
          ],
          [
           90,
           35297,
           0.35514901905663643,
           16091.401954058958,
           "Cluster 0"
          ],
          [
           88,
           17851,
           0.2898659849627828,
           17472.470686173863,
           "Cluster 0"
          ],
          [
           88,
           33303,
           0.39971568554521497,
           15232.598068845287,
           "Cluster 0"
          ],
          [
           93,
           19934,
           0.20314023979537812,
           17969.693768505334,
           "Cluster 0"
          ],
          [
           90,
           29029,
           0.30375897133462404,
           15592.991530526488,
           "Cluster 0"
          ],
          [
           87,
           26045,
           0.3752921226023748,
           15903.558359374925,
           "Cluster 0"
          ],
          [
           87,
           30102,
           0.3903905943444749,
           16330.081190027211,
           "Cluster 0"
          ],
          [
           91,
           30756,
           0.30369803009825364,
           15492.004711465304,
           "Cluster 0"
          ],
          [
           87,
           17760,
           0.34877754843050746,
           16869.507130301474,
           "Cluster 0"
          ],
          [
           87,
           15671,
           0.3507250914944152,
           14326.601120246103,
           "Cluster 0"
          ],
          [
           92,
           35484,
           0.3970636039704499,
           17324.045112814925,
           "Cluster 0"
          ],
          [
           84,
           20704,
           0.3794963151514172,
           16816.911895743782,
           "Cluster 0"
          ],
          [
           87,
           29909,
           0.3421516318130469,
           18142.232746738577,
           "Cluster 0"
          ],
          [
           87,
           42592,
           0.35528968203827593,
           18086.287157859304,
           "Cluster 0"
          ],
          [
           83,
           34384,
           0.3247186821733417,
           14783.379085794499,
           "Cluster 0"
          ],
          [
           79,
           32421,
           0.3032762059432743,
           15319.467662272391,
           "Cluster 0"
          ],
          [
           92,
           22616,
           0.3228506824321553,
           17275.66131398456,
           "Cluster 0"
          ],
          [
           91,
           36991,
           0.2685979050949868,
           19047.77233878285,
           "Cluster 0"
          ],
          [
           83,
           34529,
           0.3172075114569807,
           16517.208746949746,
           "Cluster 0"
          ],
          [
           86,
           27705,
           0.3293769514872405,
           17130.85610211788,
           "Cluster 0"
          ],
          [
           84,
           27693,
           0.3670629731870412,
           17879.558905551898,
           "Cluster 0"
          ],
          [
           82,
           24391,
           0.27610134635529604,
           17053.03010738692,
           "Cluster 0"
          ]
         ],
         "hoverlabel": {
          "namelength": 0
         },
         "hovertemplate": "Cluster=%{customdata[4]}<br>Age=%{customdata[0]}<br>Income=%{customdata[1]}<br>SpendingScore=%{customdata[2]}<br>Savings=%{customdata[3]}",
         "legendgroup": "Cluster=Cluster 0",
         "marker": {
          "color": "#636efa"
         },
         "name": "Cluster=Cluster 0",
         "notched": true,
         "offsetgroup": "Cluster=Cluster 0",
         "showlegend": false,
         "type": "box",
         "x": [
          89,
          91,
          92,
          90,
          93,
          89,
          88,
          87,
          86,
          82,
          91,
          88,
          87,
          91,
          90,
          85,
          91,
          88,
          85,
          85,
          88,
          84,
          88,
          94,
          86,
          94,
          89,
          87,
          84,
          91,
          91,
          88,
          88,
          89,
          91,
          90,
          89,
          83,
          83,
          86,
          84,
          94,
          94,
          79,
          88,
          85,
          82,
          82,
          91,
          91,
          89,
          84,
          87,
          81,
          93,
          84,
          95,
          89,
          86,
          85,
          87,
          92,
          89,
          85,
          88,
          86,
          94,
          87,
          85,
          83,
          87,
          88,
          84,
          85,
          91,
          90,
          88,
          89,
          88,
          92,
          90,
          85,
          88,
          94,
          84,
          91,
          88,
          87,
          86,
          83,
          83,
          91,
          86,
          89,
          92,
          87,
          84,
          83,
          83,
          85,
          90,
          97,
          92,
          87,
          91,
          83,
          87,
          91,
          82,
          91,
          90,
          86,
          85,
          90,
          84,
          87,
          84,
          88,
          91,
          84,
          94,
          89,
          92,
          89,
          90,
          90,
          88,
          88,
          93,
          90,
          87,
          87,
          91,
          87,
          87,
          92,
          84,
          87,
          87,
          83,
          79,
          92,
          91,
          83,
          86,
          84,
          82
         ],
         "xaxis": "x2",
         "yaxis": "y2"
        },
        {
         "alignmentgroup": "True",
         "bingroup": "x",
         "hoverlabel": {
          "namelength": 0
         },
         "hovertemplate": "Cluster=Cluster 1<br>Age=%{x}<br>count=%{y}",
         "legendgroup": "Cluster=Cluster 1",
         "marker": {
          "color": "#EF553B",
          "opacity": 0.7
         },
         "name": "Cluster=Cluster 1",
         "offsetgroup": "Cluster=Cluster 1",
         "orientation": "v",
         "showlegend": true,
         "type": "histogram",
         "x": [
          65,
          57,
          65,
          59,
          61,
          60,
          55,
          63,
          62,
          59,
          67,
          58,
          66,
          58,
          57,
          57,
          66,
          59,
          68,
          61,
          58,
          59,
          61,
          64,
          63,
          64,
          62,
          61,
          62,
          67,
          61,
          57,
          63,
          56,
          51,
          59,
          58,
          55,
          61,
          55,
          58,
          68,
          58,
          67,
          56,
          59,
          59,
          57,
          60,
          67,
          61,
          60,
          59,
          57,
          59,
          59,
          58,
          63,
          61,
          56,
          58,
          56,
          59,
          61,
          60,
          56,
          63,
          58,
          59,
          62,
          59,
          59,
          65,
          64,
          59,
          59,
          61,
          64,
          58,
          57,
          58,
          56,
          63,
          58,
          60,
          58,
          62,
          66,
          66,
          63,
          64,
          62,
          62,
          60,
          65,
          60,
          63,
          56,
          58,
          62,
          56,
          59,
          65,
          62,
          59,
          64,
          66,
          59,
          59,
          59,
          62,
          59,
          54,
          61,
          55,
          53,
          55,
          61,
          59,
          59,
          56,
          61,
          61,
          60,
          57,
          61,
          55,
          53,
          61,
          64,
          62,
          55,
          58,
          57,
          58,
          64,
          57,
          62,
          56,
          53,
          60,
          56,
          62,
          61,
          62,
          55,
          60,
          58,
          61,
          59,
          58,
          56,
          60,
          62,
          58,
          64,
          63
         ],
         "xaxis": "x",
         "yaxis": "y"
        },
        {
         "alignmentgroup": "True",
         "customdata": [
          [
           65,
           70430,
           0.6969942581249643,
           6971.164886262858,
           "Cluster 1"
          ],
          [
           57,
           69655,
           0.6748906779058501,
           5889.831167170132,
           "Cluster 1"
          ],
          [
           65,
           71229,
           0.7878897626638453,
           9024.337460598084,
           "Cluster 1"
          ],
          [
           59,
           69408,
           0.8799059975919311,
           6491.771149967824,
           "Cluster 1"
          ],
          [
           61,
           73495,
           0.7727563051023116,
           9288.189785744367,
           "Cluster 1"
          ],
          [
           60,
           65942,
           0.8005783854654352,
           5253.2650066086435,
           "Cluster 1"
          ],
          [
           55,
           73895,
           0.7471254610291731,
           5563.906948891499,
           "Cluster 1"
          ],
          [
           63,
           75078,
           0.7831591503681397,
           7468.8510795028005,
           "Cluster 1"
          ],
          [
           62,
           62747,
           0.7705945596869115,
           5852.326242628098,
           "Cluster 1"
          ],
          [
           59,
           75505,
           0.7682786576081454,
           5006.528691371692,
           "Cluster 1"
          ],
          [
           67,
           59243,
           0.7436599996604758,
           5446.557472721708,
           "Cluster 1"
          ],
          [
           58,
           77559,
           0.7122963723872477,
           5742.524488088997,
           "Cluster 1"
          ],
          [
           66,
           77052,
           0.7072624347132287,
           6296.417311227459,
           "Cluster 1"
          ],
          [
           58,
           70272,
           0.8229596005059499,
           5290.087044285296,
           "Cluster 1"
          ],
          [
           57,
           65608,
           0.7662313009024402,
           6904.318224287022,
           "Cluster 1"
          ],
          [
           57,
           76573,
           0.8405990704520518,
           6225.3760824332285,
           "Cluster 1"
          ],
          [
           66,
           71672,
           0.7538892176112998,
           7387.835437850721,
           "Cluster 1"
          ],
          [
           59,
           69460,
           0.7527238381125997,
           6101.372146632121,
           "Cluster 1"
          ],
          [
           68,
           77648,
           0.7965446939835457,
           6190.864082788901,
           "Cluster 1"
          ],
          [
           61,
           74282,
           0.6922364738673796,
           7286.754751068365,
           "Cluster 1"
          ],
          [
           58,
           70369,
           0.9045204855363144,
           7461.567502649429,
           "Cluster 1"
          ],
          [
           59,
           75495,
           0.7945029052198103,
           6702.9519263157545,
           "Cluster 1"
          ],
          [
           61,
           71171,
           0.7210804930623951,
           6457.790641224788,
           "Cluster 1"
          ],
          [
           64,
           76410,
           0.7756041848937439,
           6135.308197117819,
           "Cluster 1"
          ],
          [
           63,
           56875,
           0.7622805817657738,
           7837.233619544163,
           "Cluster 1"
          ],
          [
           64,
           78801,
           0.7403674891662984,
           6420.9440712002615,
           "Cluster 1"
          ],
          [
           62,
           67731,
           0.8191699488980382,
           5956.555677017446,
           "Cluster 1"
          ],
          [
           61,
           67372,
           0.7340673095092516,
           6618.549336247915,
           "Cluster 1"
          ],
          [
           62,
           73675,
           0.7966191667425384,
           4688.657157271711,
           "Cluster 1"
          ],
          [
           67,
           68663,
           0.7738336308243648,
           7451.9940140258705,
           "Cluster 1"
          ],
          [
           61,
           78837,
           0.7459489746307642,
           6811.303235949058,
           "Cluster 1"
          ],
          [
           57,
           72055,
           0.7549723463413129,
           6544.847498075687,
           "Cluster 1"
          ],
          [
           63,
           67370,
           0.8999405530923943,
           5985.077029740457,
           "Cluster 1"
          ],
          [
           56,
           80431,
           0.7594315957853627,
           8150.55743948241,
           "Cluster 1"
          ],
          [
           51,
           72086,
           0.7911147257599156,
           6732.096068632267,
           "Cluster 1"
          ],
          [
           59,
           82199,
           0.8035145098215853,
           5880.814834306347,
           "Cluster 1"
          ],
          [
           58,
           80248,
           0.7249557054919687,
           7641.16038162423,
           "Cluster 1"
          ],
          [
           55,
           64768,
           0.7332568512323248,
           6486.353872691102,
           "Cluster 1"
          ],
          [
           61,
           68842,
           0.7544065421993587,
           4077.6586565080543,
           "Cluster 1"
          ],
          [
           55,
           76831,
           0.7421137340413241,
           7806.398750466399,
           "Cluster 1"
          ],
          [
           58,
           78611,
           0.910416682938019,
           7665.884294519009,
           "Cluster 1"
          ],
          [
           68,
           68944,
           0.7455674638713768,
           6828.709702363695,
           "Cluster 1"
          ],
          [
           58,
           69247,
           0.7237211912021976,
           8715.67957429646,
           "Cluster 1"
          ],
          [
           67,
           78702,
           0.7632736815688779,
           5030.364838791924,
           "Cluster 1"
          ],
          [
           56,
           73516,
           0.806499154055182,
           7696.832373798451,
           "Cluster 1"
          ],
          [
           59,
           73596,
           0.8567042188430352,
           8281.718740320448,
           "Cluster 1"
          ],
          [
           59,
           90422,
           0.8062102206275251,
           6746.281083820821,
           "Cluster 1"
          ],
          [
           57,
           79794,
           0.82240840085096,
           5893.975284946178,
           "Cluster 1"
          ],
          [
           60,
           70054,
           0.7143393610830643,
           6609.918507412548,
           "Cluster 1"
          ],
          [
           67,
           80914,
           0.8196642592960329,
           6833.507136694643,
           "Cluster 1"
          ],
          [
           61,
           65914,
           0.7781022309770123,
           6406.8771303520325,
           "Cluster 1"
          ],
          [
           60,
           74460,
           0.7545393292392412,
           7567.6476522203675,
           "Cluster 1"
          ],
          [
           59,
           73350,
           0.6797735912164855,
           6710.5740183754415,
           "Cluster 1"
          ],
          [
           57,
           64803,
           0.7285849289103553,
           6255.552641057161,
           "Cluster 1"
          ],
          [
           59,
           56321,
           0.806565925193039,
           6129.288986032587,
           "Cluster 1"
          ],
          [
           59,
           67401,
           0.7114339697492305,
           6529.586309935448,
           "Cluster 1"
          ],
          [
           58,
           70676,
           0.7640283880376706,
           7664.415650964042,
           "Cluster 1"
          ],
          [
           63,
           70580,
           0.7665090449070475,
           7262.108723452133,
           "Cluster 1"
          ],
          [
           61,
           72027,
           0.7623249166772856,
           6926.123598416466,
           "Cluster 1"
          ],
          [
           56,
           65313,
           0.7546029986455771,
           5574.2436767070985,
           "Cluster 1"
          ],
          [
           58,
           76052,
           0.7215881830727278,
           6681.9843863770275,
           "Cluster 1"
          ],
          [
           56,
           75599,
           0.7737370986430746,
           6799.625271842961,
           "Cluster 1"
          ],
          [
           59,
           68038,
           0.8014869916095588,
           7719.283632687176,
           "Cluster 1"
          ],
          [
           61,
           72060,
           0.8334590233217959,
           7924.6411381540165,
           "Cluster 1"
          ],
          [
           60,
           63476,
           0.7519000198498227,
           7543.542801728056,
           "Cluster 1"
          ],
          [
           56,
           78992,
           0.8122757021441627,
           7285.18043685174,
           "Cluster 1"
          ],
          [
           63,
           82343,
           0.7323186222078123,
           8090.706739679063,
           "Cluster 1"
          ],
          [
           58,
           78078,
           0.7837795500405715,
           6483.049643745244,
           "Cluster 1"
          ],
          [
           59,
           77978,
           0.7188952048526104,
           8316.31110205122,
           "Cluster 1"
          ],
          [
           62,
           69326,
           0.7980123380544829,
           7003.095703317772,
           "Cluster 1"
          ],
          [
           59,
           69115,
           0.7598834338453199,
           5997.690199856996,
           "Cluster 1"
          ],
          [
           59,
           67346,
           0.7251568963089163,
           8857.849116294088,
           "Cluster 1"
          ],
          [
           65,
           74430,
           0.7517741617758547,
           7145.251128357927,
           "Cluster 1"
          ],
          [
           64,
           62886,
           0.7480162682831766,
           8302.588638401632,
           "Cluster 1"
          ],
          [
           59,
           80876,
           0.6573140731575163,
           7232.825142650888,
           "Cluster 1"
          ],
          [
           59,
           73057,
           0.8302949092020397,
           7819.393215767329,
           "Cluster 1"
          ],
          [
           61,
           65647,
           0.7174899773841509,
           7497.231607003855,
           "Cluster 1"
          ],
          [
           64,
           64331,
           0.7571277508774099,
           5815.660096290825,
           "Cluster 1"
          ],
          [
           58,
           77769,
           0.7913287771988531,
           6559.8299230048315,
           "Cluster 1"
          ],
          [
           57,
           76594,
           0.7906578552491133,
           6584.654681310476,
           "Cluster 1"
          ],
          [
           58,
           70798,
           0.7535283874245788,
           5330.73989989779,
           "Cluster 1"
          ],
          [
           56,
           86484,
           0.7321233689266612,
           8777.496176839057,
           "Cluster 1"
          ],
          [
           63,
           85761,
           0.8005979105724924,
           7175.090218501247,
           "Cluster 1"
          ],
          [
           58,
           70259,
           0.7697129169369328,
           7101.674514204499,
           "Cluster 1"
          ],
          [
           60,
           79969,
           0.812104912914789,
           4879.334872972362,
           "Cluster 1"
          ],
          [
           58,
           69879,
           0.7209986871945887,
           6669.033518051874,
           "Cluster 1"
          ],
          [
           62,
           73480,
           0.7391949797931453,
           6277.675150528886,
           "Cluster 1"
          ],
          [
           66,
           72571,
           0.8115483367376335,
           6509.41150610998,
           "Cluster 1"
          ],
          [
           66,
           64866,
           0.7665941891374249,
           5037.899138583947,
           "Cluster 1"
          ],
          [
           63,
           72815,
           0.8200359737627068,
           5504.385543801038,
           "Cluster 1"
          ],
          [
           64,
           71692,
           0.8426521453196145,
           7002.9765543033545,
           "Cluster 1"
          ],
          [
           62,
           63596,
           0.7453271943508174,
           6142.201619345869,
           "Cluster 1"
          ],
          [
           62,
           62650,
           0.766572365027147,
           7533.673609198676,
           "Cluster 1"
          ],
          [
           60,
           71436,
           0.8320590985324969,
           8557.86012627717,
           "Cluster 1"
          ],
          [
           65,
           65736,
           0.7785687658100923,
           6387.2196944302905,
           "Cluster 1"
          ],
          [
           60,
           70663,
           0.7153396972946453,
           7557.937593550947,
           "Cluster 1"
          ],
          [
           63,
           80705,
           0.7626699527314824,
           5154.330634621805,
           "Cluster 1"
          ],
          [
           56,
           84386,
           0.7849450699605269,
           7270.41953428175,
           "Cluster 1"
          ],
          [
           58,
           75757,
           0.8097944168848634,
           7390.5772934370325,
           "Cluster 1"
          ],
          [
           62,
           71050,
           0.7353568506694507,
           6988.197368273879,
           "Cluster 1"
          ],
          [
           56,
           68698,
           0.7162678503859907,
           7070.967006969191,
           "Cluster 1"
          ],
          [
           59,
           67781,
           0.7225483489421433,
           6701.527664794541,
           "Cluster 1"
          ],
          [
           65,
           66017,
           0.7861892594159869,
           6159.662935925753,
           "Cluster 1"
          ],
          [
           62,
           80093,
           0.6909167811268888,
           6756.749072752337,
           "Cluster 1"
          ],
          [
           59,
           67988,
           0.8114707012366371,
           7255.903114334659,
           "Cluster 1"
          ],
          [
           64,
           88361,
           0.7745562258521365,
           7240.759687480846,
           "Cluster 1"
          ],
          [
           66,
           82526,
           0.7696800667721441,
           6205.662650191712,
           "Cluster 1"
          ],
          [
           59,
           74576,
           0.7812961239072382,
           10547.775367695343,
           "Cluster 1"
          ],
          [
           59,
           72588,
           0.8017156979122673,
           6300.8437570950255,
           "Cluster 1"
          ],
          [
           59,
           81799,
           0.7910820467274178,
           5417.661426197439,
           "Cluster 1"
          ],
          [
           62,
           74751,
           0.7026569520102857,
           9258.99296503407,
           "Cluster 1"
          ],
          [
           59,
           74373,
           0.7656795619984281,
           7346.334503537976,
           "Cluster 1"
          ],
          [
           54,
           76500,
           0.7851978501165687,
           6878.884248553974,
           "Cluster 1"
          ],
          [
           61,
           71933,
           0.8441067966472876,
           8022.208541100706,
           "Cluster 1"
          ],
          [
           55,
           71621,
           0.7533426836166189,
           7780.589913955977,
           "Cluster 1"
          ],
          [
           53,
           76667,
           0.7600576501232099,
           5168.225474983632,
           "Cluster 1"
          ],
          [
           55,
           78761,
           0.8271741985123882,
           8376.74947779104,
           "Cluster 1"
          ],
          [
           61,
           76955,
           0.7771175646074471,
           7467.036702314494,
           "Cluster 1"
          ],
          [
           59,
           65700,
           0.8114711740198254,
           6932.487932327357,
           "Cluster 1"
          ],
          [
           59,
           69738,
           0.7421121217155721,
           7151.650866065035,
           "Cluster 1"
          ],
          [
           56,
           63866,
           0.7618879582513512,
           7762.255066659051,
           "Cluster 1"
          ],
          [
           61,
           74117,
           0.7702140596767938,
           5103.609230428381,
           "Cluster 1"
          ],
          [
           61,
           63846,
           0.8278622414878984,
           7283.504772674617,
           "Cluster 1"
          ],
          [
           60,
           70012,
           0.7944610508231513,
           7263.242447729872,
           "Cluster 1"
          ],
          [
           57,
           75332,
           0.7215024376129366,
           6845.056822204781,
           "Cluster 1"
          ],
          [
           61,
           73245,
           0.811160373170345,
           7413.784487271215,
           "Cluster 1"
          ],
          [
           55,
           74356,
           0.7998269700906482,
           6484.630737953294,
           "Cluster 1"
          ],
          [
           53,
           62117,
           0.7331388477995737,
           7500.452413594261,
           "Cluster 1"
          ],
          [
           61,
           69001,
           0.8216687745413516,
           5074.12121172259,
           "Cluster 1"
          ],
          [
           64,
           60493,
           0.7680563479442216,
           7708.112609459162,
           "Cluster 1"
          ],
          [
           62,
           69741,
           0.8462196017575947,
           5781.658046536959,
           "Cluster 1"
          ],
          [
           55,
           71056,
           0.7565897119333272,
           7464.163256732262,
           "Cluster 1"
          ],
          [
           58,
           74340,
           0.7351650452097145,
           7259.540921675672,
           "Cluster 1"
          ],
          [
           57,
           79470,
           0.7734352958312237,
           6773.049089777121,
           "Cluster 1"
          ],
          [
           58,
           77101,
           0.7667195837506832,
           8148.49184821177,
           "Cluster 1"
          ],
          [
           64,
           76364,
           0.6993887663543108,
           5772.1171358549755,
           "Cluster 1"
          ],
          [
           57,
           74014,
           0.787378081122989,
           5783.846928267082,
           "Cluster 1"
          ],
          [
           62,
           67030,
           0.7467384433463651,
           6740.765182071713,
           "Cluster 1"
          ],
          [
           56,
           68463,
           0.8157116929554062,
           8995.180087953215,
           "Cluster 1"
          ],
          [
           53,
           74996,
           0.7387310917031671,
           7821.447803561914,
           "Cluster 1"
          ],
          [
           60,
           65340,
           0.7316484923943142,
           8354.196507802662,
           "Cluster 1"
          ],
          [
           56,
           60059,
           0.7275840223364691,
           7166.858605155183,
           "Cluster 1"
          ],
          [
           62,
           78413,
           0.7907090657200839,
           6961.2041923680945,
           "Cluster 1"
          ],
          [
           61,
           69698,
           0.7416839698444291,
           8777.077471725162,
           "Cluster 1"
          ],
          [
           62,
           68279,
           0.7196850779929922,
           7028.675510384212,
           "Cluster 1"
          ],
          [
           55,
           76057,
           0.8778279844516369,
           6132.898204816149,
           "Cluster 1"
          ],
          [
           60,
           67491,
           0.84661848692906,
           7180.713788260257,
           "Cluster 1"
          ],
          [
           58,
           83351,
           0.8406978038692191,
           6673.909711092488,
           "Cluster 1"
          ],
          [
           61,
           71033,
           0.8380950724014863,
           9456.876962701137,
           "Cluster 1"
          ],
          [
           59,
           71302,
           0.7020090041734849,
           6595.726010227134,
           "Cluster 1"
          ],
          [
           58,
           80278,
           0.8233589910091558,
           6335.97831998802,
           "Cluster 1"
          ],
          [
           56,
           67274,
           0.7798516671891869,
           6652.391024403152,
           "Cluster 1"
          ],
          [
           60,
           65054,
           0.7086131723969877,
           5417.237293788358,
           "Cluster 1"
          ],
          [
           62,
           69391,
           0.7921059737158539,
           6518.283467894094,
           "Cluster 1"
          ],
          [
           58,
           78635,
           0.7864400503429185,
           7162.739043055361,
           "Cluster 1"
          ],
          [
           64,
           86283,
           0.7568019251873561,
           6852.5548669147165,
           "Cluster 1"
          ],
          [
           63,
           69849,
           0.7403870808915297,
           7670.6909659413295,
           "Cluster 1"
          ]
         ],
         "hoverlabel": {
          "namelength": 0
         },
         "hovertemplate": "Cluster=%{customdata[4]}<br>Age=%{customdata[0]}<br>Income=%{customdata[1]}<br>SpendingScore=%{customdata[2]}<br>Savings=%{customdata[3]}",
         "legendgroup": "Cluster=Cluster 1",
         "marker": {
          "color": "#EF553B"
         },
         "name": "Cluster=Cluster 1",
         "notched": true,
         "offsetgroup": "Cluster=Cluster 1",
         "showlegend": false,
         "type": "box",
         "x": [
          65,
          57,
          65,
          59,
          61,
          60,
          55,
          63,
          62,
          59,
          67,
          58,
          66,
          58,
          57,
          57,
          66,
          59,
          68,
          61,
          58,
          59,
          61,
          64,
          63,
          64,
          62,
          61,
          62,
          67,
          61,
          57,
          63,
          56,
          51,
          59,
          58,
          55,
          61,
          55,
          58,
          68,
          58,
          67,
          56,
          59,
          59,
          57,
          60,
          67,
          61,
          60,
          59,
          57,
          59,
          59,
          58,
          63,
          61,
          56,
          58,
          56,
          59,
          61,
          60,
          56,
          63,
          58,
          59,
          62,
          59,
          59,
          65,
          64,
          59,
          59,
          61,
          64,
          58,
          57,
          58,
          56,
          63,
          58,
          60,
          58,
          62,
          66,
          66,
          63,
          64,
          62,
          62,
          60,
          65,
          60,
          63,
          56,
          58,
          62,
          56,
          59,
          65,
          62,
          59,
          64,
          66,
          59,
          59,
          59,
          62,
          59,
          54,
          61,
          55,
          53,
          55,
          61,
          59,
          59,
          56,
          61,
          61,
          60,
          57,
          61,
          55,
          53,
          61,
          64,
          62,
          55,
          58,
          57,
          58,
          64,
          57,
          62,
          56,
          53,
          60,
          56,
          62,
          61,
          62,
          55,
          60,
          58,
          61,
          59,
          58,
          56,
          60,
          62,
          58,
          64,
          63
         ],
         "xaxis": "x2",
         "yaxis": "y2"
        },
        {
         "alignmentgroup": "True",
         "bingroup": "x",
         "hoverlabel": {
          "namelength": 0
         },
         "hovertemplate": "Cluster=Cluster 2<br>Age=%{x}<br>count=%{y}",
         "legendgroup": "Cluster=Cluster 2",
         "marker": {
          "color": "#00cc96",
          "opacity": 0.7
         },
         "name": "Cluster=Cluster 2",
         "offsetgroup": "Cluster=Cluster 2",
         "orientation": "v",
         "showlegend": true,
         "type": "histogram",
         "x": [
          38,
          29,
          36,
          31,
          39,
          88,
          86,
          35,
          30,
          35,
          25,
          37,
          30,
          36,
          34,
          33,
          36,
          32,
          83,
          31,
          37,
          36,
          90,
          31,
          37,
          35,
          33,
          84,
          37,
          29,
          44,
          32,
          31,
          29,
          36,
          31,
          90,
          33,
          33,
          89,
          29,
          32,
          84,
          30,
          88,
          38,
          92,
          31,
          30,
          36,
          85,
          30,
          28,
          37,
          29,
          31,
          29,
          31,
          33,
          31,
          83,
          34,
          22,
          87,
          34,
          25,
          31,
          31,
          31,
          35,
          28,
          33,
          31,
          28,
          39,
          36,
          32,
          93,
          36,
          34,
          37,
          33,
          43,
          33,
          26,
          24,
          31,
          29,
          36,
          86,
          33,
          29,
          40,
          35,
          32,
          37,
          34,
          34,
          84,
          82,
          88,
          85,
          35,
          33,
          33,
          29,
          83,
          28,
          31,
          37,
          31,
          33,
          30,
          30,
          34,
          30,
          30,
          86,
          29,
          30,
          28,
          37,
          37,
          82,
          42,
          28,
          30,
          32,
          35,
          35,
          31,
          35,
          33,
          29,
          35,
          38,
          34,
          33,
          32,
          34,
          31,
          27,
          39,
          38,
          84,
          77,
          34,
          28,
          36,
          91,
          34
         ],
         "xaxis": "x",
         "yaxis": "y"
        },
        {
         "alignmentgroup": "True",
         "customdata": [
          [
           38,
           104738,
           0.4059588503683713,
           15634.313868027426,
           "Cluster 2"
          ],
          [
           29,
           112531,
           0.3427661743407053,
           14361.334979176147,
           "Cluster 2"
          ],
          [
           36,
           109809,
           0.355660187354229,
           14978.502144076487,
           "Cluster 2"
          ],
          [
           31,
           110882,
           0.3252806065281125,
           14004.61374291491,
           "Cluster 2"
          ],
          [
           39,
           100661,
           0.3766412501689559,
           16873.128638209408,
           "Cluster 2"
          ],
          [
           88,
           123651,
           0.02902714029105191,
           13504.577571797938,
           "Cluster 2"
          ],
          [
           86,
           124372,
           0,
           15374.465952896948,
           "Cluster 2"
          ],
          [
           35,
           108499,
           0.2612719132713158,
           16046.08301542436,
           "Cluster 2"
          ],
          [
           30,
           96241,
           0.3773384910014747,
           15485.156009739387,
           "Cluster 2"
          ],
          [
           35,
           106588,
           0.3422142051018276,
           15648.65667046098,
           "Cluster 2"
          ],
          [
           25,
           101503,
           0.28846885607409833,
           15026.262148820157,
           "Cluster 2"
          ],
          [
           37,
           106894,
           0.3432357689892068,
           14075.217365594552,
           "Cluster 2"
          ],
          [
           30,
           107302,
           0.2396771776819925,
           13993.24401848172,
           "Cluster 2"
          ],
          [
           36,
           109038,
           0.3242132027621541,
           16502.389477657125,
           "Cluster 2"
          ],
          [
           34,
           103204,
           0.30108735378393314,
           15149.810421179482,
           "Cluster 2"
          ],
          [
           33,
           98033,
           0.30951111585458696,
           15774.690605560645,
           "Cluster 2"
          ],
          [
           36,
           101811,
           0.3406667947415742,
           15048.89961242685,
           "Cluster 2"
          ],
          [
           32,
           101905,
           0.3074763135926987,
           17532.16478349903,
           "Cluster 2"
          ],
          [
           83,
           117943,
           0.07721324003343044,
           15391.95219220651,
           "Cluster 2"
          ],
          [
           31,
           112943,
           0.34123950330738706,
           14297.702229457283,
           "Cluster 2"
          ],
          [
           37,
           108651,
           0.1923436158292553,
           15881.242198260683,
           "Cluster 2"
          ],
          [
           36,
           100158,
           0.31606041409802405,
           13832.379370734528,
           "Cluster 2"
          ],
          [
           90,
           124170,
           0.030751314393913882,
           14773.407205599842,
           "Cluster 2"
          ],
          [
           31,
           105006,
           0.3741658782934958,
           15419.41776312329,
           "Cluster 2"
          ],
          [
           37,
           110732,
           0.3226762482802641,
           14265.351840497759,
           "Cluster 2"
          ],
          [
           35,
           104678,
           0.3279928581002429,
           15422.055799721802,
           "Cluster 2"
          ],
          [
           33,
           92569,
           0.33607980556714456,
           13765.685995748696,
           "Cluster 2"
          ],
          [
           84,
           114406,
           0.12383837464097253,
           16840.570583774286,
           "Cluster 2"
          ],
          [
           37,
           107958,
           0.34666907654318496,
           13641.009538079368,
           "Cluster 2"
          ],
          [
           29,
           99161,
           0.3079200040396055,
           15631.836772980834,
           "Cluster 2"
          ],
          [
           44,
           114642,
           0.3092049154534188,
           14067.617788950563,
           "Cluster 2"
          ],
          [
           32,
           106543,
           0.3107432443044589,
           14337.288328489092,
           "Cluster 2"
          ],
          [
           31,
           105036,
           0.2722279930569666,
           16465.063521972657,
           "Cluster 2"
          ],
          [
           29,
           103223,
           0.3388162937437745,
           16252.883053065632,
           "Cluster 2"
          ],
          [
           36,
           98137,
           0.29740129315965397,
           15978.332837131276,
           "Cluster 2"
          ],
          [
           31,
           105826,
           0.2862743235826754,
           13856.805832195869,
           "Cluster 2"
          ],
          [
           90,
           117668,
           0.08272274299401555,
           12554.692742420659,
           "Cluster 2"
          ],
          [
           33,
           106757,
           0.25839611372125515,
           14431.652799234367,
           "Cluster 2"
          ],
          [
           33,
           107100,
           0.3424354833732075,
           14895.473479049117,
           "Cluster 2"
          ],
          [
           89,
           119697,
           0.0916792017028315,
           16215.399076555514,
           "Cluster 2"
          ],
          [
           29,
           101943,
           0.3256230614429721,
           14619.354282159029,
           "Cluster 2"
          ],
          [
           32,
           108417,
           0.28737086714008075,
           16696.398659007995,
           "Cluster 2"
          ],
          [
           84,
           122696,
           0.08218683192473558,
           13809.734086698068,
           "Cluster 2"
          ],
          [
           30,
           101073,
           0.3143871202044516,
           14324.555977118509,
           "Cluster 2"
          ],
          [
           88,
           120678,
           0.06327285129660287,
           14264.473846639943,
           "Cluster 2"
          ],
          [
           38,
           94775,
           0.3803902009461493,
           16867.13082002739,
           "Cluster 2"
          ],
          [
           92,
           122879,
           0.0607240352184939,
           13709.670274517475,
           "Cluster 2"
          ],
          [
           31,
           107963,
           0.2905086327499087,
           13407.081391032512,
           "Cluster 2"
          ],
          [
           30,
           99949,
           0.344679223509786,
           13621.639726331408,
           "Cluster 2"
          ],
          [
           36,
           99780,
           0.2654326074020303,
           16398.40133318453,
           "Cluster 2"
          ],
          [
           85,
           111389,
           0.0367953622110323,
           16009.237762922363,
           "Cluster 2"
          ],
          [
           30,
           98030,
           0.4111117138132285,
           16316.842905166694,
           "Cluster 2"
          ],
          [
           28,
           101206,
           0.3874406981253433,
           14936.775388622864,
           "Cluster 2"
          ],
          [
           37,
           107877,
           0.3346179841546032,
           17968.55392863446,
           "Cluster 2"
          ],
          [
           29,
           119366,
           0.3587713900686116,
           15012.853014226299,
           "Cluster 2"
          ],
          [
           31,
           102618,
           0.2763779214063509,
           13209.301612848929,
           "Cluster 2"
          ],
          [
           29,
           106014,
           0.34794511357773106,
           15038.010746320377,
           "Cluster 2"
          ],
          [
           31,
           101209,
           0.3043229953712128,
           16917.571691218804,
           "Cluster 2"
          ],
          [
           33,
           101058,
           0.3150815497840024,
           14911.868398206978,
           "Cluster 2"
          ],
          [
           31,
           101481,
           0.2702350511848681,
           15226.614133627569,
           "Cluster 2"
          ],
          [
           83,
           119429,
           0.042154801078558464,
           15607.561541234569,
           "Cluster 2"
          ],
          [
           34,
           98993,
           0.3229930887837502,
           16138.079373431863,
           "Cluster 2"
          ],
          [
           22,
           109152,
           0.32344641636242355,
           16022.482482363523,
           "Cluster 2"
          ],
          [
           87,
           117564,
           0.1282795957567026,
           14000.248964992143,
           "Cluster 2"
          ],
          [
           34,
           102291,
           0.24786227611431386,
           15819.577601160518,
           "Cluster 2"
          ],
          [
           25,
           106772,
           0.3909047196000217,
           16353.471790615497,
           "Cluster 2"
          ],
          [
           31,
           107994,
           0.2944689389706671,
           13685.972361738892,
           "Cluster 2"
          ],
          [
           31,
           114833,
           0.3050696862135815,
           13953.029721407644,
           "Cluster 2"
          ],
          [
           31,
           107932,
           0.3742421881649845,
           12207.526078087714,
           "Cluster 2"
          ],
          [
           35,
           110106,
           0.2867692710102035,
           14924.537223475552,
           "Cluster 2"
          ],
          [
           28,
           100592,
           0.2595983487762325,
           15520.355775683653,
           "Cluster 2"
          ],
          [
           33,
           116616,
           0.3209300476959025,
           15104.49811363824,
           "Cluster 2"
          ],
          [
           31,
           111449,
           0.29410620308282165,
           13929.62155143948,
           "Cluster 2"
          ],
          [
           28,
           94762,
           0.3035961911057213,
           15352.521936894913,
           "Cluster 2"
          ],
          [
           39,
           100540,
           0.3849229829012918,
           16741.013894847743,
           "Cluster 2"
          ],
          [
           36,
           96336,
           0.28809756719298163,
           15286.769335194167,
           "Cluster 2"
          ],
          [
           32,
           117050,
           0.3113555349689566,
           14310.546206532163,
           "Cluster 2"
          ],
          [
           93,
           126601,
           0.025170169477345742,
           14117.44703707058,
           "Cluster 2"
          ],
          [
           36,
           104285,
           0.2123600508972585,
           13347.558779497918,
           "Cluster 2"
          ],
          [
           34,
           104284,
           0.34454541177986714,
           13541.801770810564,
           "Cluster 2"
          ],
          [
           37,
           110595,
           0.28664850500199834,
           15235.445457133224,
           "Cluster 2"
          ],
          [
           33,
           94964,
           0.3302325026567214,
           14018.349867336628,
           "Cluster 2"
          ],
          [
           43,
           101641,
           0.3819838041034955,
           14424.097995592982,
           "Cluster 2"
          ],
          [
           33,
           100275,
           0.3630856827120957,
           13735.438742381079,
           "Cluster 2"
          ],
          [
           26,
           97750,
           0.2934087605160681,
           15823.032361634105,
           "Cluster 2"
          ],
          [
           24,
           110564,
           0.3049430059244969,
           14967.839625179657,
           "Cluster 2"
          ],
          [
           31,
           107115,
           0.3280420856997338,
           15693.499570389358,
           "Cluster 2"
          ],
          [
           29,
           111426,
           0.4002811559385194,
           14352.643773230728,
           "Cluster 2"
          ],
          [
           36,
           108004,
           0.3089229914936124,
           15813.964573146997,
           "Cluster 2"
          ],
          [
           86,
           128378,
           0.12608340975849852,
           13585.778624417357,
           "Cluster 2"
          ],
          [
           33,
           114555,
           0.2792568364789493,
           13746.745438440072,
           "Cluster 2"
          ],
          [
           29,
           116451,
           0.3406596106851227,
           15294.661511529368,
           "Cluster 2"
          ],
          [
           40,
           98821,
           0.27908085018704903,
           15995.160053914664,
           "Cluster 2"
          ],
          [
           35,
           105991,
           0.34337797815210225,
           16616.088239618915,
           "Cluster 2"
          ],
          [
           32,
           102035,
           0.26207035616469115,
           14209.932802396092,
           "Cluster 2"
          ],
          [
           37,
           106664,
           0.2775867542026021,
           14479.374117495967,
           "Cluster 2"
          ],
          [
           34,
           89598,
           0.3401523810436963,
           12832.768720823738,
           "Cluster 2"
          ],
          [
           34,
           107255,
           0.3283430294033384,
           15130.595225546444,
           "Cluster 2"
          ],
          [
           84,
           115237,
           0.06877820981367339,
           14396.568282311468,
           "Cluster 2"
          ],
          [
           82,
           126257,
           0.07809619439943333,
           15816.101922357922,
           "Cluster 2"
          ],
          [
           88,
           114767,
           0.032207542338926365,
           17833.093470094427,
           "Cluster 2"
          ],
          [
           85,
           118169,
           0.123196057747337,
           14855.951023927619,
           "Cluster 2"
          ],
          [
           35,
           117112,
           0.3047918711384766,
           15908.035997555322,
           "Cluster 2"
          ],
          [
           33,
           111813,
           0.2382437868013801,
           15901.238967721652,
           "Cluster 2"
          ],
          [
           33,
           105667,
           0.25075080562386165,
           12869.761073905089,
           "Cluster 2"
          ],
          [
           29,
           91375,
           0.2354504258588228,
           13104.962760687613,
           "Cluster 2"
          ],
          [
           83,
           117347,
           0.15569409232860987,
           15086.701120471576,
           "Cluster 2"
          ],
          [
           28,
           99611,
           0.2795578681222758,
           15345.658121390226,
           "Cluster 2"
          ],
          [
           31,
           99457,
           0.3658064971511749,
           14580.613477014092,
           "Cluster 2"
          ],
          [
           37,
           97831,
           0.3744658274308825,
           14935.144813058325,
           "Cluster 2"
          ],
          [
           31,
           108067,
           0.2686742663930692,
           13316.767286164832,
           "Cluster 2"
          ],
          [
           33,
           106345,
           0.3392354218755358,
           15300.45379012999,
           "Cluster 2"
          ],
          [
           30,
           107926,
           0.2301607310342209,
           15520.536309707046,
           "Cluster 2"
          ],
          [
           30,
           108581,
           0.3094467811568005,
           15628.791650531211,
           "Cluster 2"
          ],
          [
           34,
           98165,
           0.17412049382306485,
           15721.86284266975,
           "Cluster 2"
          ],
          [
           30,
           106350,
           0.3694162857692797,
           14863.233588279092,
           "Cluster 2"
          ],
          [
           30,
           107525,
           0.2948164301396663,
           12702.847385049918,
           "Cluster 2"
          ],
          [
           86,
           115689,
           0.057842956133581036,
           14803.153273493916,
           "Cluster 2"
          ],
          [
           29,
           102028,
           0.2889604994756899,
           14634.430692347907,
           "Cluster 2"
          ],
          [
           30,
           102056,
           0.2607006223919937,
           15370.66882713054,
           "Cluster 2"
          ],
          [
           28,
           111937,
           0.2537347301209012,
           13669.110632506934,
           "Cluster 2"
          ],
          [
           37,
           97678,
           0.2574704443875843,
           15834.113173627364,
           "Cluster 2"
          ],
          [
           37,
           108635,
           0.28649570314839057,
           14558.054542315444,
           "Cluster 2"
          ],
          [
           82,
           121642,
           0.054653190464209855,
           14177.513323069668,
           "Cluster 2"
          ],
          [
           42,
           106990,
           0.330065422314764,
           14856.938997469417,
           "Cluster 2"
          ],
          [
           28,
           97965,
           0.3134915614599665,
           14981.402201916082,
           "Cluster 2"
          ],
          [
           30,
           108928,
           0.30386361503665704,
           14339.652917342728,
           "Cluster 2"
          ],
          [
           32,
           95536,
           0.26624605681014885,
           15420.625644002741,
           "Cluster 2"
          ],
          [
           35,
           107131,
           0.2424731551814769,
           16200.013010637644,
           "Cluster 2"
          ],
          [
           35,
           101691,
           0.3491110181825554,
           14152.671689505803,
           "Cluster 2"
          ],
          [
           31,
           104388,
           0.2864732316476225,
           14406.561248437842,
           "Cluster 2"
          ],
          [
           35,
           102308,
           0.2751372175012177,
           14874.557991326978,
           "Cluster 2"
          ],
          [
           33,
           99637,
           0.2282170773869075,
           15139.403142647532,
           "Cluster 2"
          ],
          [
           29,
           110860,
           0.31944030103524745,
           16260.42103081417,
           "Cluster 2"
          ],
          [
           35,
           112878,
           0.3009135799974076,
           13755.48230187328,
           "Cluster 2"
          ],
          [
           38,
           115146,
           0.3144900731288347,
           14798.868153501797,
           "Cluster 2"
          ],
          [
           34,
           111303,
           0.34531257710928803,
           14624.318634976555,
           "Cluster 2"
          ],
          [
           33,
           108345,
           0.32541328975821004,
           15646.32171735943,
           "Cluster 2"
          ],
          [
           32,
           110439,
           0.30699015827427256,
           13873.50756985278,
           "Cluster 2"
          ],
          [
           34,
           98752,
           0.3720337099315751,
           14975.384238944334,
           "Cluster 2"
          ],
          [
           31,
           116247,
           0.2943151380482853,
           16178.204715186297,
           "Cluster 2"
          ],
          [
           27,
           106758,
           0.2662947092346973,
           14942.560723173168,
           "Cluster 2"
          ],
          [
           39,
           99216,
           0.21660614339457274,
           15230.345105300736,
           "Cluster 2"
          ],
          [
           38,
           113659,
           0.3334859873871594,
           14364.693391419,
           "Cluster 2"
          ],
          [
           84,
           110582,
           0.07904903227945975,
           14937.995169685584,
           "Cluster 2"
          ],
          [
           77,
           128596,
           0.04082407066250976,
           14503.410786381415,
           "Cluster 2"
          ],
          [
           34,
           103428,
           0.2474244093916156,
           13791.035761571968,
           "Cluster 2"
          ],
          [
           28,
           109075,
           0.36276196062401134,
           14082.458238005996,
           "Cluster 2"
          ],
          [
           36,
           105567,
           0.3126388486955741,
           14355.31094653896,
           "Cluster 2"
          ],
          [
           91,
           118794,
           0.0192120658984376,
           14047.388986415735,
           "Cluster 2"
          ],
          [
           34,
           119877,
           0.3054369951589357,
           15634.788286084158,
           "Cluster 2"
          ]
         ],
         "hoverlabel": {
          "namelength": 0
         },
         "hovertemplate": "Cluster=%{customdata[4]}<br>Age=%{customdata[0]}<br>Income=%{customdata[1]}<br>SpendingScore=%{customdata[2]}<br>Savings=%{customdata[3]}",
         "legendgroup": "Cluster=Cluster 2",
         "marker": {
          "color": "#00cc96"
         },
         "name": "Cluster=Cluster 2",
         "notched": true,
         "offsetgroup": "Cluster=Cluster 2",
         "showlegend": false,
         "type": "box",
         "x": [
          38,
          29,
          36,
          31,
          39,
          88,
          86,
          35,
          30,
          35,
          25,
          37,
          30,
          36,
          34,
          33,
          36,
          32,
          83,
          31,
          37,
          36,
          90,
          31,
          37,
          35,
          33,
          84,
          37,
          29,
          44,
          32,
          31,
          29,
          36,
          31,
          90,
          33,
          33,
          89,
          29,
          32,
          84,
          30,
          88,
          38,
          92,
          31,
          30,
          36,
          85,
          30,
          28,
          37,
          29,
          31,
          29,
          31,
          33,
          31,
          83,
          34,
          22,
          87,
          34,
          25,
          31,
          31,
          31,
          35,
          28,
          33,
          31,
          28,
          39,
          36,
          32,
          93,
          36,
          34,
          37,
          33,
          43,
          33,
          26,
          24,
          31,
          29,
          36,
          86,
          33,
          29,
          40,
          35,
          32,
          37,
          34,
          34,
          84,
          82,
          88,
          85,
          35,
          33,
          33,
          29,
          83,
          28,
          31,
          37,
          31,
          33,
          30,
          30,
          34,
          30,
          30,
          86,
          29,
          30,
          28,
          37,
          37,
          82,
          42,
          28,
          30,
          32,
          35,
          35,
          31,
          35,
          33,
          29,
          35,
          38,
          34,
          33,
          32,
          34,
          31,
          27,
          39,
          38,
          84,
          77,
          34,
          28,
          36,
          91,
          34
         ],
         "xaxis": "x2",
         "yaxis": "y2"
        },
        {
         "alignmentgroup": "True",
         "bingroup": "x",
         "hoverlabel": {
          "namelength": 0
         },
         "hovertemplate": "Cluster=Cluster 3<br>Age=%{x}<br>count=%{y}",
         "legendgroup": "Cluster=Cluster 3",
         "marker": {
          "color": "#ab63fa",
          "opacity": 0.7
         },
         "name": "Cluster=Cluster 3",
         "offsetgroup": "Cluster=Cluster 3",
         "orientation": "v",
         "showlegend": true,
         "type": "histogram",
         "x": [
          27,
          23,
          25,
          17,
          24,
          20,
          23,
          26,
          23,
          27,
          23,
          31,
          22,
          24,
          29,
          22,
          28,
          26,
          25,
          24,
          24,
          25,
          20,
          30,
          25,
          28,
          20,
          24,
          22,
          26,
          17,
          26,
          28,
          18,
          21,
          21,
          17,
          27,
          25,
          24,
          28,
          26,
          28,
          25,
          24,
          17,
          29,
          29,
          28,
          18
         ],
         "xaxis": "x",
         "yaxis": "y"
        },
        {
         "alignmentgroup": "True",
         "customdata": [
          [
           27,
           122671,
           0.910107112831516,
           4206.287238709509,
           "Cluster 3"
          ],
          [
           23,
           138443,
           0.9226565539031124,
           3297.058843994153,
           "Cluster 3"
          ],
          [
           25,
           138021,
           0.944017175810026,
           3005.577482475175,
           "Cluster 3"
          ],
          [
           17,
           134734,
           0.8579216672301577,
           0,
           "Cluster 3"
          ],
          [
           24,
           129087,
           0.8271179432765905,
           3290.829468618805,
           "Cluster 3"
          ],
          [
           20,
           129469,
           0.9399954311014268,
           5522.573424346325,
           "Cluster 3"
          ],
          [
           23,
           129937,
           0.8727356634334804,
           4102.065424707484,
           "Cluster 3"
          ],
          [
           26,
           123005,
           0.9845261943505972,
           4371.23473281147,
           "Cluster 3"
          ],
          [
           23,
           126500,
           0.8650328592458483,
           3270.150434407087,
           "Cluster 3"
          ],
          [
           27,
           121468,
           0.9206489879585448,
           5011.112062373318,
           "Cluster 3"
          ],
          [
           23,
           120226,
           0.8819129663041946,
           4698.294710949844,
           "Cluster 3"
          ],
          [
           31,
           122924,
           0.89046022417733,
           3071.944576152969,
           "Cluster 3"
          ],
          [
           22,
           134209,
           0.8706980046008759,
           5138.109568643242,
           "Cluster 3"
          ],
          [
           24,
           130974,
           0.9118386021444842,
           4420.0727101369375,
           "Cluster 3"
          ],
          [
           29,
           131578,
           0.8470341025128371,
           3535.5143522162816,
           "Cluster 3"
          ],
          [
           22,
           132948,
           0.8898001728484242,
           2839.7863574778585,
           "Cluster 3"
          ],
          [
           28,
           123153,
           0.9842407862639496,
           3697.5136453853297,
           "Cluster 3"
          ],
          [
           26,
           131827,
           0.8807194909406801,
           4352.699304837541,
           "Cluster 3"
          ],
          [
           25,
           128625,
           0.8167389887954251,
           4914.117127206949,
           "Cluster 3"
          ],
          [
           24,
           136644,
           0.8716976842508705,
           1617.2257000775644,
           "Cluster 3"
          ],
          [
           24,
           134389,
           0.9388521378701832,
           4573.60634580409,
           "Cluster 3"
          ],
          [
           25,
           130934,
           0.9137660194970426,
           3942.389134492165,
           "Cluster 3"
          ],
          [
           20,
           122581,
           0.8940806156500202,
           4444.4476842520535,
           "Cluster 3"
          ],
          [
           30,
           122788,
           0.8728724057273831,
           5706.149573297764,
           "Cluster 3"
          ],
          [
           25,
           130361,
           0.9254385568124625,
           4691.55213906238,
           "Cluster 3"
          ],
          [
           28,
           123229,
           0.8733219541371664,
           610.4462190811464,
           "Cluster 3"
          ],
          [
           20,
           129142,
           0.8870519941988757,
           5603.121027746489,
           "Cluster 3"
          ],
          [
           24,
           127352,
           0.9054521594192038,
           2961.716874324024,
           "Cluster 3"
          ],
          [
           22,
           120525,
           1,
           5495.165732288548,
           "Cluster 3"
          ],
          [
           26,
           126617,
           0.8770521049168103,
           2913.368146562765,
           "Cluster 3"
          ],
          [
           17,
           123828,
           0.9420129076091708,
           3798.8403998790254,
           "Cluster 3"
          ],
          [
           26,
           125662,
           0.9268183658411524,
           6089.47832250152,
           "Cluster 3"
          ],
          [
           28,
           127699,
           0.8814245468734898,
           5490.814955670689,
           "Cluster 3"
          ],
          [
           18,
           130813,
           0.8908912472675831,
           5256.434559627984,
           "Cluster 3"
          ],
          [
           21,
           123678,
           0.8320252689431032,
           2838.8158208359087,
           "Cluster 3"
          ],
          [
           21,
           129726,
           0.9517923119702948,
           4550.7995216878835,
           "Cluster 3"
          ],
          [
           17,
           134966,
           0.9072421746334024,
           4128.044795832438,
           "Cluster 3"
          ],
          [
           27,
           125008,
           0.9596454072349518,
           2963.6377080587795,
           "Cluster 3"
          ],
          [
           25,
           131009,
           0.8640569016468125,
           4792.426581212785,
           "Cluster 3"
          ],
          [
           24,
           120465,
           0.9074853865005544,
           4838.348350281593,
           "Cluster 3"
          ],
          [
           28,
           129019,
           0.9308319590820414,
           3016.8206434862623,
           "Cluster 3"
          ],
          [
           26,
           127320,
           0.8250298045601994,
           5495.642137901324,
           "Cluster 3"
          ],
          [
           28,
           117108,
           0.857078493256913,
           4749.879237491619,
           "Cluster 3"
          ],
          [
           25,
           120957,
           0.8776734245644572,
           5590.447216086322,
           "Cluster 3"
          ],
          [
           24,
           134384,
           0.8747208244890404,
           3731.3397614449186,
           "Cluster 3"
          ],
          [
           17,
           136255,
           0.935876103673024,
           4126.226651408871,
           "Cluster 3"
          ],
          [
           29,
           142000,
           0.9400873084125808,
           5349.821181717665,
           "Cluster 3"
          ],
          [
           29,
           122264,
           0.8985788437238403,
           2494.55627432471,
           "Cluster 3"
          ],
          [
           28,
           121216,
           0.8569692823607705,
           5349.065446955783,
           "Cluster 3"
          ],
          [
           18,
           123718,
           0.8065528615489801,
           4420.445820614172,
           "Cluster 3"
          ]
         ],
         "hoverlabel": {
          "namelength": 0
         },
         "hovertemplate": "Cluster=%{customdata[4]}<br>Age=%{customdata[0]}<br>Income=%{customdata[1]}<br>SpendingScore=%{customdata[2]}<br>Savings=%{customdata[3]}",
         "legendgroup": "Cluster=Cluster 3",
         "marker": {
          "color": "#ab63fa"
         },
         "name": "Cluster=Cluster 3",
         "notched": true,
         "offsetgroup": "Cluster=Cluster 3",
         "showlegend": false,
         "type": "box",
         "x": [
          27,
          23,
          25,
          17,
          24,
          20,
          23,
          26,
          23,
          27,
          23,
          31,
          22,
          24,
          29,
          22,
          28,
          26,
          25,
          24,
          24,
          25,
          20,
          30,
          25,
          28,
          20,
          24,
          22,
          26,
          17,
          26,
          28,
          18,
          21,
          21,
          17,
          27,
          25,
          24,
          28,
          26,
          28,
          25,
          24,
          17,
          29,
          29,
          28,
          18
         ],
         "xaxis": "x2",
         "yaxis": "y2"
        }
       ],
       "layout": {
        "barmode": "relative",
        "legend": {
         "tracegroupgap": 0
        },
        "margin": {
         "t": 60
        },
        "template": {
         "data": {
          "bar": [
           {
            "error_x": {
             "color": "#2a3f5f"
            },
            "error_y": {
             "color": "#2a3f5f"
            },
            "marker": {
             "line": {
              "color": "#E5ECF6",
              "width": 0.5
             }
            },
            "type": "bar"
           }
          ],
          "barpolar": [
           {
            "marker": {
             "line": {
              "color": "#E5ECF6",
              "width": 0.5
             }
            },
            "type": "barpolar"
           }
          ],
          "carpet": [
           {
            "aaxis": {
             "endlinecolor": "#2a3f5f",
             "gridcolor": "white",
             "linecolor": "white",
             "minorgridcolor": "white",
             "startlinecolor": "#2a3f5f"
            },
            "baxis": {
             "endlinecolor": "#2a3f5f",
             "gridcolor": "white",
             "linecolor": "white",
             "minorgridcolor": "white",
             "startlinecolor": "#2a3f5f"
            },
            "type": "carpet"
           }
          ],
          "choropleth": [
           {
            "colorbar": {
             "outlinewidth": 0,
             "ticks": ""
            },
            "type": "choropleth"
           }
          ],
          "contour": [
           {
            "colorbar": {
             "outlinewidth": 0,
             "ticks": ""
            },
            "colorscale": [
             [
              0,
              "#0d0887"
             ],
             [
              0.1111111111111111,
              "#46039f"
             ],
             [
              0.2222222222222222,
              "#7201a8"
             ],
             [
              0.3333333333333333,
              "#9c179e"
             ],
             [
              0.4444444444444444,
              "#bd3786"
             ],
             [
              0.5555555555555556,
              "#d8576b"
             ],
             [
              0.6666666666666666,
              "#ed7953"
             ],
             [
              0.7777777777777778,
              "#fb9f3a"
             ],
             [
              0.8888888888888888,
              "#fdca26"
             ],
             [
              1,
              "#f0f921"
             ]
            ],
            "type": "contour"
           }
          ],
          "contourcarpet": [
           {
            "colorbar": {
             "outlinewidth": 0,
             "ticks": ""
            },
            "type": "contourcarpet"
           }
          ],
          "heatmap": [
           {
            "colorbar": {
             "outlinewidth": 0,
             "ticks": ""
            },
            "colorscale": [
             [
              0,
              "#0d0887"
             ],
             [
              0.1111111111111111,
              "#46039f"
             ],
             [
              0.2222222222222222,
              "#7201a8"
             ],
             [
              0.3333333333333333,
              "#9c179e"
             ],
             [
              0.4444444444444444,
              "#bd3786"
             ],
             [
              0.5555555555555556,
              "#d8576b"
             ],
             [
              0.6666666666666666,
              "#ed7953"
             ],
             [
              0.7777777777777778,
              "#fb9f3a"
             ],
             [
              0.8888888888888888,
              "#fdca26"
             ],
             [
              1,
              "#f0f921"
             ]
            ],
            "type": "heatmap"
           }
          ],
          "heatmapgl": [
           {
            "colorbar": {
             "outlinewidth": 0,
             "ticks": ""
            },
            "colorscale": [
             [
              0,
              "#0d0887"
             ],
             [
              0.1111111111111111,
              "#46039f"
             ],
             [
              0.2222222222222222,
              "#7201a8"
             ],
             [
              0.3333333333333333,
              "#9c179e"
             ],
             [
              0.4444444444444444,
              "#bd3786"
             ],
             [
              0.5555555555555556,
              "#d8576b"
             ],
             [
              0.6666666666666666,
              "#ed7953"
             ],
             [
              0.7777777777777778,
              "#fb9f3a"
             ],
             [
              0.8888888888888888,
              "#fdca26"
             ],
             [
              1,
              "#f0f921"
             ]
            ],
            "type": "heatmapgl"
           }
          ],
          "histogram": [
           {
            "marker": {
             "colorbar": {
              "outlinewidth": 0,
              "ticks": ""
             }
            },
            "type": "histogram"
           }
          ],
          "histogram2d": [
           {
            "colorbar": {
             "outlinewidth": 0,
             "ticks": ""
            },
            "colorscale": [
             [
              0,
              "#0d0887"
             ],
             [
              0.1111111111111111,
              "#46039f"
             ],
             [
              0.2222222222222222,
              "#7201a8"
             ],
             [
              0.3333333333333333,
              "#9c179e"
             ],
             [
              0.4444444444444444,
              "#bd3786"
             ],
             [
              0.5555555555555556,
              "#d8576b"
             ],
             [
              0.6666666666666666,
              "#ed7953"
             ],
             [
              0.7777777777777778,
              "#fb9f3a"
             ],
             [
              0.8888888888888888,
              "#fdca26"
             ],
             [
              1,
              "#f0f921"
             ]
            ],
            "type": "histogram2d"
           }
          ],
          "histogram2dcontour": [
           {
            "colorbar": {
             "outlinewidth": 0,
             "ticks": ""
            },
            "colorscale": [
             [
              0,
              "#0d0887"
             ],
             [
              0.1111111111111111,
              "#46039f"
             ],
             [
              0.2222222222222222,
              "#7201a8"
             ],
             [
              0.3333333333333333,
              "#9c179e"
             ],
             [
              0.4444444444444444,
              "#bd3786"
             ],
             [
              0.5555555555555556,
              "#d8576b"
             ],
             [
              0.6666666666666666,
              "#ed7953"
             ],
             [
              0.7777777777777778,
              "#fb9f3a"
             ],
             [
              0.8888888888888888,
              "#fdca26"
             ],
             [
              1,
              "#f0f921"
             ]
            ],
            "type": "histogram2dcontour"
           }
          ],
          "mesh3d": [
           {
            "colorbar": {
             "outlinewidth": 0,
             "ticks": ""
            },
            "type": "mesh3d"
           }
          ],
          "parcoords": [
           {
            "line": {
             "colorbar": {
              "outlinewidth": 0,
              "ticks": ""
             }
            },
            "type": "parcoords"
           }
          ],
          "pie": [
           {
            "automargin": true,
            "type": "pie"
           }
          ],
          "scatter": [
           {
            "marker": {
             "colorbar": {
              "outlinewidth": 0,
              "ticks": ""
             }
            },
            "type": "scatter"
           }
          ],
          "scatter3d": [
           {
            "line": {
             "colorbar": {
              "outlinewidth": 0,
              "ticks": ""
             }
            },
            "marker": {
             "colorbar": {
              "outlinewidth": 0,
              "ticks": ""
             }
            },
            "type": "scatter3d"
           }
          ],
          "scattercarpet": [
           {
            "marker": {
             "colorbar": {
              "outlinewidth": 0,
              "ticks": ""
             }
            },
            "type": "scattercarpet"
           }
          ],
          "scattergeo": [
           {
            "marker": {
             "colorbar": {
              "outlinewidth": 0,
              "ticks": ""
             }
            },
            "type": "scattergeo"
           }
          ],
          "scattergl": [
           {
            "marker": {
             "colorbar": {
              "outlinewidth": 0,
              "ticks": ""
             }
            },
            "type": "scattergl"
           }
          ],
          "scattermapbox": [
           {
            "marker": {
             "colorbar": {
              "outlinewidth": 0,
              "ticks": ""
             }
            },
            "type": "scattermapbox"
           }
          ],
          "scatterpolar": [
           {
            "marker": {
             "colorbar": {
              "outlinewidth": 0,
              "ticks": ""
             }
            },
            "type": "scatterpolar"
           }
          ],
          "scatterpolargl": [
           {
            "marker": {
             "colorbar": {
              "outlinewidth": 0,
              "ticks": ""
             }
            },
            "type": "scatterpolargl"
           }
          ],
          "scatterternary": [
           {
            "marker": {
             "colorbar": {
              "outlinewidth": 0,
              "ticks": ""
             }
            },
            "type": "scatterternary"
           }
          ],
          "surface": [
           {
            "colorbar": {
             "outlinewidth": 0,
             "ticks": ""
            },
            "colorscale": [
             [
              0,
              "#0d0887"
             ],
             [
              0.1111111111111111,
              "#46039f"
             ],
             [
              0.2222222222222222,
              "#7201a8"
             ],
             [
              0.3333333333333333,
              "#9c179e"
             ],
             [
              0.4444444444444444,
              "#bd3786"
             ],
             [
              0.5555555555555556,
              "#d8576b"
             ],
             [
              0.6666666666666666,
              "#ed7953"
             ],
             [
              0.7777777777777778,
              "#fb9f3a"
             ],
             [
              0.8888888888888888,
              "#fdca26"
             ],
             [
              1,
              "#f0f921"
             ]
            ],
            "type": "surface"
           }
          ],
          "table": [
           {
            "cells": {
             "fill": {
              "color": "#EBF0F8"
             },
             "line": {
              "color": "white"
             }
            },
            "header": {
             "fill": {
              "color": "#C8D4E3"
             },
             "line": {
              "color": "white"
             }
            },
            "type": "table"
           }
          ]
         },
         "layout": {
          "annotationdefaults": {
           "arrowcolor": "#2a3f5f",
           "arrowhead": 0,
           "arrowwidth": 1
          },
          "coloraxis": {
           "colorbar": {
            "outlinewidth": 0,
            "ticks": ""
           }
          },
          "colorscale": {
           "diverging": [
            [
             0,
             "#8e0152"
            ],
            [
             0.1,
             "#c51b7d"
            ],
            [
             0.2,
             "#de77ae"
            ],
            [
             0.3,
             "#f1b6da"
            ],
            [
             0.4,
             "#fde0ef"
            ],
            [
             0.5,
             "#f7f7f7"
            ],
            [
             0.6,
             "#e6f5d0"
            ],
            [
             0.7,
             "#b8e186"
            ],
            [
             0.8,
             "#7fbc41"
            ],
            [
             0.9,
             "#4d9221"
            ],
            [
             1,
             "#276419"
            ]
           ],
           "sequential": [
            [
             0,
             "#0d0887"
            ],
            [
             0.1111111111111111,
             "#46039f"
            ],
            [
             0.2222222222222222,
             "#7201a8"
            ],
            [
             0.3333333333333333,
             "#9c179e"
            ],
            [
             0.4444444444444444,
             "#bd3786"
            ],
            [
             0.5555555555555556,
             "#d8576b"
            ],
            [
             0.6666666666666666,
             "#ed7953"
            ],
            [
             0.7777777777777778,
             "#fb9f3a"
            ],
            [
             0.8888888888888888,
             "#fdca26"
            ],
            [
             1,
             "#f0f921"
            ]
           ],
           "sequentialminus": [
            [
             0,
             "#0d0887"
            ],
            [
             0.1111111111111111,
             "#46039f"
            ],
            [
             0.2222222222222222,
             "#7201a8"
            ],
            [
             0.3333333333333333,
             "#9c179e"
            ],
            [
             0.4444444444444444,
             "#bd3786"
            ],
            [
             0.5555555555555556,
             "#d8576b"
            ],
            [
             0.6666666666666666,
             "#ed7953"
            ],
            [
             0.7777777777777778,
             "#fb9f3a"
            ],
            [
             0.8888888888888888,
             "#fdca26"
            ],
            [
             1,
             "#f0f921"
            ]
           ]
          },
          "colorway": [
           "#636efa",
           "#EF553B",
           "#00cc96",
           "#ab63fa",
           "#FFA15A",
           "#19d3f3",
           "#FF6692",
           "#B6E880",
           "#FF97FF",
           "#FECB52"
          ],
          "font": {
           "color": "#2a3f5f"
          },
          "geo": {
           "bgcolor": "white",
           "lakecolor": "white",
           "landcolor": "#E5ECF6",
           "showlakes": true,
           "showland": true,
           "subunitcolor": "white"
          },
          "hoverlabel": {
           "align": "left"
          },
          "hovermode": "closest",
          "mapbox": {
           "style": "light"
          },
          "paper_bgcolor": "white",
          "plot_bgcolor": "#E5ECF6",
          "polar": {
           "angularaxis": {
            "gridcolor": "white",
            "linecolor": "white",
            "ticks": ""
           },
           "bgcolor": "#E5ECF6",
           "radialaxis": {
            "gridcolor": "white",
            "linecolor": "white",
            "ticks": ""
           }
          },
          "scene": {
           "xaxis": {
            "backgroundcolor": "#E5ECF6",
            "gridcolor": "white",
            "gridwidth": 2,
            "linecolor": "white",
            "showbackground": true,
            "ticks": "",
            "zerolinecolor": "white"
           },
           "yaxis": {
            "backgroundcolor": "#E5ECF6",
            "gridcolor": "white",
            "gridwidth": 2,
            "linecolor": "white",
            "showbackground": true,
            "ticks": "",
            "zerolinecolor": "white"
           },
           "zaxis": {
            "backgroundcolor": "#E5ECF6",
            "gridcolor": "white",
            "gridwidth": 2,
            "linecolor": "white",
            "showbackground": true,
            "ticks": "",
            "zerolinecolor": "white"
           }
          },
          "shapedefaults": {
           "line": {
            "color": "#2a3f5f"
           }
          },
          "ternary": {
           "aaxis": {
            "gridcolor": "white",
            "linecolor": "white",
            "ticks": ""
           },
           "baxis": {
            "gridcolor": "white",
            "linecolor": "white",
            "ticks": ""
           },
           "bgcolor": "#E5ECF6",
           "caxis": {
            "gridcolor": "white",
            "linecolor": "white",
            "ticks": ""
           }
          },
          "title": {
           "x": 0.05
          },
          "xaxis": {
           "automargin": true,
           "gridcolor": "white",
           "linecolor": "white",
           "ticks": "",
           "title": {
            "standoff": 15
           },
           "zerolinecolor": "white",
           "zerolinewidth": 2
          },
          "yaxis": {
           "automargin": true,
           "gridcolor": "white",
           "linecolor": "white",
           "ticks": "",
           "title": {
            "standoff": 15
           },
           "zerolinecolor": "white",
           "zerolinewidth": 2
          }
         }
        },
        "xaxis": {
         "anchor": "y",
         "domain": [
          0,
          1
         ],
         "title": {
          "text": "Age"
         }
        },
        "xaxis2": {
         "anchor": "y2",
         "domain": [
          0,
          1
         ],
         "matches": "x",
         "showgrid": true,
         "showticklabels": false
        },
        "yaxis": {
         "anchor": "x",
         "domain": [
          0,
          0.7326
         ],
         "title": {
          "text": "count"
         }
        },
        "yaxis2": {
         "anchor": "x2",
         "domain": [
          0.7426,
          1
         ],
         "matches": "y2",
         "showgrid": false,
         "showline": false,
         "showticklabels": false,
         "ticks": ""
        }
       }
      },
      "text/html": [
       "<div>\n",
       "        \n",
       "        \n",
       "            <div id=\"efa06ad9-e16d-4747-87cb-d6e07040c305\" class=\"plotly-graph-div\" style=\"height:525px; width:100%;\"></div>\n",
       "            <script type=\"text/javascript\">\n",
       "                require([\"plotly\"], function(Plotly) {\n",
       "                    window.PLOTLYENV=window.PLOTLYENV || {};\n",
       "                    \n",
       "                if (document.getElementById(\"efa06ad9-e16d-4747-87cb-d6e07040c305\")) {\n",
       "                    Plotly.newPlot(\n",
       "                        'efa06ad9-e16d-4747-87cb-d6e07040c305',\n",
       "                        [{\"alignmentgroup\": \"True\", \"bingroup\": \"x\", \"hoverlabel\": {\"namelength\": 0}, \"hovertemplate\": \"Cluster=Cluster 0<br>Age=%{x}<br>count=%{y}\", \"legendgroup\": \"Cluster=Cluster 0\", \"marker\": {\"color\": \"#636efa\", \"opacity\": 0.7}, \"name\": \"Cluster=Cluster 0\", \"offsetgroup\": \"Cluster=Cluster 0\", \"orientation\": \"v\", \"showlegend\": true, \"type\": \"histogram\", \"x\": [89, 91, 92, 90, 93, 89, 88, 87, 86, 82, 91, 88, 87, 91, 90, 85, 91, 88, 85, 85, 88, 84, 88, 94, 86, 94, 89, 87, 84, 91, 91, 88, 88, 89, 91, 90, 89, 83, 83, 86, 84, 94, 94, 79, 88, 85, 82, 82, 91, 91, 89, 84, 87, 81, 93, 84, 95, 89, 86, 85, 87, 92, 89, 85, 88, 86, 94, 87, 85, 83, 87, 88, 84, 85, 91, 90, 88, 89, 88, 92, 90, 85, 88, 94, 84, 91, 88, 87, 86, 83, 83, 91, 86, 89, 92, 87, 84, 83, 83, 85, 90, 97, 92, 87, 91, 83, 87, 91, 82, 91, 90, 86, 85, 90, 84, 87, 84, 88, 91, 84, 94, 89, 92, 89, 90, 90, 88, 88, 93, 90, 87, 87, 91, 87, 87, 92, 84, 87, 87, 83, 79, 92, 91, 83, 86, 84, 82], \"xaxis\": \"x\", \"yaxis\": \"y\"}, {\"alignmentgroup\": \"True\", \"customdata\": [[89.0, 30267.0, 0.2893100658351509, 14386.351879589123, \"Cluster 0\"], [91.0, 29082.0, 0.28248852137129143, 18794.488169074688, \"Cluster 0\"], [92.0, 22484.0, 0.3317732623948493, 18615.632589788456, \"Cluster 0\"], [90.0, 33490.0, 0.4199085281737912, 17091.904228934392, \"Cluster 0\"], [93.0, 17672.0, 0.3032923688871533, 18516.451810726718, \"Cluster 0\"], [89.0, 26940.0, 0.3260051328059917, 16555.159377159824, \"Cluster 0\"], [88.0, 28409.0, 0.30565353367521064, 17326.175608364214, \"Cluster 0\"], [87.0, 30178.0, 0.2793159778940049, 16123.070750832, \"Cluster 0\"], [86.0, 31994.0, 0.24947694035510065, 18210.088099070614, \"Cluster 0\"], [82.0, 33610.0, 0.3012532342412973, 17755.664940228176, \"Cluster 0\"], [91.0, 12038.0, 0.3498032558856572, 16464.960504438823, \"Cluster 0\"], [88.0, 35051.0, 0.3860515062876169, 17593.24679258195, \"Cluster 0\"], [87.0, 12000.0, 0.3429910076112659, 16180.26525174153, \"Cluster 0\"], [91.0, 36639.0, 0.3261988874784867, 16275.703341192586, \"Cluster 0\"], [90.0, 22288.0, 0.2713268321051208, 18434.099152391347, \"Cluster 0\"], [85.0, 21250.0, 0.3104101151420252, 16033.971166673777, \"Cluster 0\"], [91.0, 30148.0, 0.2773889467565771, 15324.287405101717, \"Cluster 0\"], [88.0, 26351.0, 0.3041682062164747, 14035.917553542351, \"Cluster 0\"], [85.0, 28401.0, 0.3694371368158697, 15990.49413056604, \"Cluster 0\"], [85.0, 34634.0, 0.3690001696241634, 16719.815875018445, \"Cluster 0\"], [88.0, 34001.0, 0.33756932388752803, 15530.934134298665, \"Cluster 0\"], [84.0, 42018.0, 0.29799360218993026, 16148.370454036614, \"Cluster 0\"], [88.0, 26092.0, 0.3128732065230775, 17105.79392615357, \"Cluster 0\"], [94.0, 28352.0, 0.37687573531685575, 16798.886114738052, \"Cluster 0\"], [86.0, 28779.0, 0.3365233301816881, 16047.268331461928, \"Cluster 0\"], [94.0, 38923.0, 0.33022601809734325, 16971.181554867213, \"Cluster 0\"], [89.0, 25252.0, 0.32176522093208865, 16539.364186086335, \"Cluster 0\"], [87.0, 25566.0, 0.3167603729756968, 15188.058749407255, \"Cluster 0\"], [84.0, 27384.0, 0.31364671699548896, 16734.672754073246, \"Cluster 0\"], [91.0, 28777.0, 0.324193555035782, 17808.2662415687, \"Cluster 0\"], [91.0, 27168.0, 0.3322388165540652, 15893.729773516614, \"Cluster 0\"], [88.0, 22602.0, 0.35674482887974684, 16740.343496726702, \"Cluster 0\"], [88.0, 28802.0, 0.4083878319987073, 16293.038332542192, \"Cluster 0\"], [89.0, 24520.0, 0.44383270684567067, 13556.9358834699, \"Cluster 0\"], [91.0, 29750.0, 0.2884703320713124, 19201.11991627576, \"Cluster 0\"], [90.0, 33259.0, 0.377571058498228, 15315.028503741696, \"Cluster 0\"], [89.0, 33311.0, 0.3761469685086391, 17093.06995548225, \"Cluster 0\"], [83.0, 18162.0, 0.3013734548863509, 16029.469213914268, \"Cluster 0\"], [83.0, 26882.0, 0.34797963237384105, 17775.22817123954, \"Cluster 0\"], [86.0, 18812.0, 0.34154576038705153, 16157.734142403422, \"Cluster 0\"], [84.0, 29492.0, 0.3336031402694437, 17954.09505703969, \"Cluster 0\"], [94.0, 18937.0, 0.3470950600753079, 17739.776098377628, \"Cluster 0\"], [94.0, 20719.0, 0.336402269797664, 16281.832273239006, \"Cluster 0\"], [79.0, 38201.0, 0.3697828881534748, 16393.395697309446, \"Cluster 0\"], [88.0, 19510.0, 0.3167510258154691, 16529.20080632274, \"Cluster 0\"], [85.0, 30794.0, 0.2862292747117072, 17096.39150937826, \"Cluster 0\"], [82.0, 24221.0, 0.4735496605323542, 16251.759445212669, \"Cluster 0\"], [82.0, 32494.0, 0.3273154026360584, 16799.444266662453, \"Cluster 0\"], [91.0, 16950.0, 0.32300404344763, 17172.609400509067, \"Cluster 0\"], [91.0, 20681.0, 0.3546791690549572, 18401.08844474873, \"Cluster 0\"], [89.0, 20292.0, 0.3121481952107594, 16023.4456584523, \"Cluster 0\"], [84.0, 27179.0, 0.3474234168306904, 15612.628547766899, \"Cluster 0\"], [87.0, 24578.0, 0.37616545875063534, 17789.247521813828, \"Cluster 0\"], [81.0, 34425.0, 0.2726097792323641, 16262.623790655764, \"Cluster 0\"], [93.0, 20440.0, 0.2975730342292497, 17406.074017844054, \"Cluster 0\"], [84.0, 27544.0, 0.2309337663207005, 18207.36169648481, \"Cluster 0\"], [95.0, 27038.0, 0.3313520070109344, 18126.577451151075, \"Cluster 0\"], [89.0, 26127.0, 0.3044743722681633, 17194.828018777476, \"Cluster 0\"], [86.0, 46977.0, 0.2827283910152334, 15628.957075805025, \"Cluster 0\"], [85.0, 27599.0, 0.2819950483303406, 13470.97060503703, \"Cluster 0\"], [87.0, 25701.0, 0.3152205738281265, 15738.859295516553, \"Cluster 0\"], [92.0, 35877.0, 0.3668917159124752, 17287.907016982324, \"Cluster 0\"], [89.0, 19202.0, 0.3819877440174351, 16626.22236147723, \"Cluster 0\"], [85.0, 29204.0, 0.3254914498834959, 16918.903460369133, \"Cluster 0\"], [88.0, 33251.0, 0.3043913649608802, 18868.24161249696, \"Cluster 0\"], [86.0, 35998.0, 0.3216356471662456, 20000.0, \"Cluster 0\"], [94.0, 27169.0, 0.3141730453838618, 15061.776215142369, \"Cluster 0\"], [87.0, 18459.0, 0.2645499059687874, 15637.59765457844, \"Cluster 0\"], [85.0, 29610.0, 0.3181352453742131, 18475.487468080933, \"Cluster 0\"], [83.0, 28497.0, 0.3938023931664613, 15510.112981164848, \"Cluster 0\"], [87.0, 46910.0, 0.3085616998317755, 14789.14847617646, \"Cluster 0\"], [88.0, 17388.0, 0.4661894446652393, 16698.6210372462, \"Cluster 0\"], [84.0, 38042.0, 0.3660858718547989, 17465.856285855403, \"Cluster 0\"], [85.0, 34802.0, 0.2987969233586417, 16450.003270402787, \"Cluster 0\"], [91.0, 25237.0, 0.3535018242414266, 17292.733103848248, \"Cluster 0\"], [90.0, 30178.0, 0.2823512821567113, 16182.8384364088, \"Cluster 0\"], [88.0, 32708.0, 0.3682153159958089, 16711.0679804242, \"Cluster 0\"], [89.0, 31096.0, 0.2785878455435617, 17736.94259966666, \"Cluster 0\"], [88.0, 27169.0, 0.28005950486141434, 15260.635546195437, \"Cluster 0\"], [92.0, 32915.0, 0.3885749195868542, 16694.706839244012, \"Cluster 0\"], [90.0, 25733.0, 0.3385629680709827, 17631.56888411863, \"Cluster 0\"], [85.0, 26355.0, 0.34234066669498114, 17971.19363998381, \"Cluster 0\"], [88.0, 28585.0, 0.3977396663840213, 16725.841854363774, \"Cluster 0\"], [94.0, 27771.0, 0.3025032231546657, 17303.957194969433, \"Cluster 0\"], [84.0, 22286.0, 0.3955062459001081, 17886.53737311577, \"Cluster 0\"], [91.0, 26424.0, 0.3193886529047028, 16501.46877669979, \"Cluster 0\"], [88.0, 17946.0, 0.26964363039994416, 16715.160017840968, \"Cluster 0\"], [87.0, 30812.0, 0.3144631516753479, 15238.118997598334, \"Cluster 0\"], [86.0, 36031.0, 0.2401766350783482, 16945.326244896307, \"Cluster 0\"], [83.0, 30492.0, 0.3016314685914632, 15365.85846293255, \"Cluster 0\"], [83.0, 33170.0, 0.24107774427464634, 16620.010473689304, \"Cluster 0\"], [91.0, 25886.0, 0.30175376758370465, 17266.045729118025, \"Cluster 0\"], [86.0, 15695.0, 0.25717496647489363, 17366.186263516567, \"Cluster 0\"], [89.0, 22008.0, 0.3819060693389532, 16458.398097731253, \"Cluster 0\"], [92.0, 36032.0, 0.3369683066109672, 17348.5998812573, \"Cluster 0\"], [87.0, 23042.0, 0.3663120107544869, 18149.035872923057, \"Cluster 0\"], [84.0, 36463.0, 0.3536209572557781, 16563.372591147832, \"Cluster 0\"], [83.0, 30721.0, 0.3311418077630257, 17705.99238527814, \"Cluster 0\"], [83.0, 23206.0, 0.3212403632065312, 16870.672003783384, \"Cluster 0\"], [85.0, 28408.0, 0.3580738593579665, 15063.335797441836, \"Cluster 0\"], [90.0, 33188.0, 0.24881006879023135, 15866.913937696345, \"Cluster 0\"], [97.0, 27271.0, 0.28392289527040304, 14928.165597390327, \"Cluster 0\"], [92.0, 18724.0, 0.3278623148176303, 15341.381109594675, \"Cluster 0\"], [87.0, 23322.0, 0.30682119734644964, 16131.267659393414, \"Cluster 0\"], [91.0, 28165.0, 0.3036929225036061, 17460.179350212424, \"Cluster 0\"], [83.0, 28727.0, 0.3082630418510537, 18205.33626089001, \"Cluster 0\"], [87.0, 31481.0, 0.317423970601333, 16180.68808203422, \"Cluster 0\"], [91.0, 26917.0, 0.37671353045834655, 17986.618644605885, \"Cluster 0\"], [82.0, 33636.0, 0.3717829785401914, 17866.83359752812, \"Cluster 0\"], [91.0, 24370.0, 0.2963285713632805, 16141.048981383728, \"Cluster 0\"], [90.0, 24376.0, 0.2812794569155436, 15134.994226396464, \"Cluster 0\"], [86.0, 23400.0, 0.27803553844702666, 15215.28126373834, \"Cluster 0\"], [85.0, 21652.0, 0.3184561372216806, 14175.16988549895, \"Cluster 0\"], [90.0, 22782.0, 0.3563068710287742, 15924.071707885845, \"Cluster 0\"], [84.0, 18244.0, 0.29266337446440194, 17815.348406878897, \"Cluster 0\"], [87.0, 26665.0, 0.4021456613889217, 17376.914743318182, \"Cluster 0\"], [84.0, 24105.0, 0.2718090229374729, 16524.902538052145, \"Cluster 0\"], [88.0, 31366.0, 0.3796208481334848, 16079.622699815933, \"Cluster 0\"], [91.0, 22672.0, 0.2710645345158169, 15407.646761130874, \"Cluster 0\"], [84.0, 30481.0, 0.3970228936031003, 16837.205964813103, \"Cluster 0\"], [94.0, 23854.0, 0.3144466826182581, 16828.410118749016, \"Cluster 0\"], [89.0, 28160.0, 0.3388488510290433, 15607.061781887898, \"Cluster 0\"], [92.0, 33550.0, 0.3685156285793065, 17106.32591058189, \"Cluster 0\"], [89.0, 34524.0, 0.348118273264174, 14051.256515312789, \"Cluster 0\"], [90.0, 37503.0, 0.35778831446458764, 17258.57497274541, \"Cluster 0\"], [90.0, 35297.0, 0.35514901905663643, 16091.401954058958, \"Cluster 0\"], [88.0, 17851.0, 0.2898659849627828, 17472.470686173863, \"Cluster 0\"], [88.0, 33303.0, 0.39971568554521497, 15232.598068845287, \"Cluster 0\"], [93.0, 19934.0, 0.20314023979537812, 17969.693768505334, \"Cluster 0\"], [90.0, 29029.0, 0.30375897133462404, 15592.991530526488, \"Cluster 0\"], [87.0, 26045.0, 0.3752921226023748, 15903.558359374925, \"Cluster 0\"], [87.0, 30102.0, 0.3903905943444749, 16330.081190027211, \"Cluster 0\"], [91.0, 30756.0, 0.30369803009825364, 15492.004711465304, \"Cluster 0\"], [87.0, 17760.0, 0.34877754843050746, 16869.507130301474, \"Cluster 0\"], [87.0, 15671.0, 0.3507250914944152, 14326.601120246103, \"Cluster 0\"], [92.0, 35484.0, 0.3970636039704499, 17324.045112814925, \"Cluster 0\"], [84.0, 20704.0, 0.3794963151514172, 16816.911895743782, \"Cluster 0\"], [87.0, 29909.0, 0.3421516318130469, 18142.232746738577, \"Cluster 0\"], [87.0, 42592.0, 0.35528968203827593, 18086.287157859304, \"Cluster 0\"], [83.0, 34384.0, 0.3247186821733417, 14783.379085794499, \"Cluster 0\"], [79.0, 32421.0, 0.3032762059432743, 15319.467662272391, \"Cluster 0\"], [92.0, 22616.0, 0.3228506824321553, 17275.66131398456, \"Cluster 0\"], [91.0, 36991.0, 0.2685979050949868, 19047.77233878285, \"Cluster 0\"], [83.0, 34529.0, 0.3172075114569807, 16517.208746949746, \"Cluster 0\"], [86.0, 27705.0, 0.3293769514872405, 17130.85610211788, \"Cluster 0\"], [84.0, 27693.0, 0.3670629731870412, 17879.558905551898, \"Cluster 0\"], [82.0, 24391.0, 0.27610134635529604, 17053.03010738692, \"Cluster 0\"]], \"hoverlabel\": {\"namelength\": 0}, \"hovertemplate\": \"Cluster=%{customdata[4]}<br>Age=%{customdata[0]}<br>Income=%{customdata[1]}<br>SpendingScore=%{customdata[2]}<br>Savings=%{customdata[3]}\", \"legendgroup\": \"Cluster=Cluster 0\", \"marker\": {\"color\": \"#636efa\"}, \"name\": \"Cluster=Cluster 0\", \"notched\": true, \"offsetgroup\": \"Cluster=Cluster 0\", \"showlegend\": false, \"type\": \"box\", \"x\": [89, 91, 92, 90, 93, 89, 88, 87, 86, 82, 91, 88, 87, 91, 90, 85, 91, 88, 85, 85, 88, 84, 88, 94, 86, 94, 89, 87, 84, 91, 91, 88, 88, 89, 91, 90, 89, 83, 83, 86, 84, 94, 94, 79, 88, 85, 82, 82, 91, 91, 89, 84, 87, 81, 93, 84, 95, 89, 86, 85, 87, 92, 89, 85, 88, 86, 94, 87, 85, 83, 87, 88, 84, 85, 91, 90, 88, 89, 88, 92, 90, 85, 88, 94, 84, 91, 88, 87, 86, 83, 83, 91, 86, 89, 92, 87, 84, 83, 83, 85, 90, 97, 92, 87, 91, 83, 87, 91, 82, 91, 90, 86, 85, 90, 84, 87, 84, 88, 91, 84, 94, 89, 92, 89, 90, 90, 88, 88, 93, 90, 87, 87, 91, 87, 87, 92, 84, 87, 87, 83, 79, 92, 91, 83, 86, 84, 82], \"xaxis\": \"x2\", \"yaxis\": \"y2\"}, {\"alignmentgroup\": \"True\", \"bingroup\": \"x\", \"hoverlabel\": {\"namelength\": 0}, \"hovertemplate\": \"Cluster=Cluster 1<br>Age=%{x}<br>count=%{y}\", \"legendgroup\": \"Cluster=Cluster 1\", \"marker\": {\"color\": \"#EF553B\", \"opacity\": 0.7}, \"name\": \"Cluster=Cluster 1\", \"offsetgroup\": \"Cluster=Cluster 1\", \"orientation\": \"v\", \"showlegend\": true, \"type\": \"histogram\", \"x\": [65, 57, 65, 59, 61, 60, 55, 63, 62, 59, 67, 58, 66, 58, 57, 57, 66, 59, 68, 61, 58, 59, 61, 64, 63, 64, 62, 61, 62, 67, 61, 57, 63, 56, 51, 59, 58, 55, 61, 55, 58, 68, 58, 67, 56, 59, 59, 57, 60, 67, 61, 60, 59, 57, 59, 59, 58, 63, 61, 56, 58, 56, 59, 61, 60, 56, 63, 58, 59, 62, 59, 59, 65, 64, 59, 59, 61, 64, 58, 57, 58, 56, 63, 58, 60, 58, 62, 66, 66, 63, 64, 62, 62, 60, 65, 60, 63, 56, 58, 62, 56, 59, 65, 62, 59, 64, 66, 59, 59, 59, 62, 59, 54, 61, 55, 53, 55, 61, 59, 59, 56, 61, 61, 60, 57, 61, 55, 53, 61, 64, 62, 55, 58, 57, 58, 64, 57, 62, 56, 53, 60, 56, 62, 61, 62, 55, 60, 58, 61, 59, 58, 56, 60, 62, 58, 64, 63], \"xaxis\": \"x\", \"yaxis\": \"y\"}, {\"alignmentgroup\": \"True\", \"customdata\": [[65.0, 70430.0, 0.6969942581249643, 6971.164886262858, \"Cluster 1\"], [57.0, 69655.0, 0.6748906779058501, 5889.831167170132, \"Cluster 1\"], [65.0, 71229.0, 0.7878897626638453, 9024.337460598084, \"Cluster 1\"], [59.0, 69408.0, 0.8799059975919311, 6491.771149967824, \"Cluster 1\"], [61.0, 73495.0, 0.7727563051023116, 9288.189785744367, \"Cluster 1\"], [60.0, 65942.0, 0.8005783854654352, 5253.2650066086435, \"Cluster 1\"], [55.0, 73895.0, 0.7471254610291731, 5563.906948891499, \"Cluster 1\"], [63.0, 75078.0, 0.7831591503681397, 7468.8510795028005, \"Cluster 1\"], [62.0, 62747.0, 0.7705945596869115, 5852.326242628098, \"Cluster 1\"], [59.0, 75505.0, 0.7682786576081454, 5006.528691371692, \"Cluster 1\"], [67.0, 59243.0, 0.7436599996604758, 5446.557472721708, \"Cluster 1\"], [58.0, 77559.0, 0.7122963723872477, 5742.524488088997, \"Cluster 1\"], [66.0, 77052.0, 0.7072624347132287, 6296.417311227459, \"Cluster 1\"], [58.0, 70272.0, 0.8229596005059499, 5290.087044285296, \"Cluster 1\"], [57.0, 65608.0, 0.7662313009024402, 6904.318224287022, \"Cluster 1\"], [57.0, 76573.0, 0.8405990704520518, 6225.3760824332285, \"Cluster 1\"], [66.0, 71672.0, 0.7538892176112998, 7387.835437850721, \"Cluster 1\"], [59.0, 69460.0, 0.7527238381125997, 6101.372146632121, \"Cluster 1\"], [68.0, 77648.0, 0.7965446939835457, 6190.864082788901, \"Cluster 1\"], [61.0, 74282.0, 0.6922364738673796, 7286.754751068365, \"Cluster 1\"], [58.0, 70369.0, 0.9045204855363144, 7461.567502649429, \"Cluster 1\"], [59.0, 75495.0, 0.7945029052198103, 6702.9519263157545, \"Cluster 1\"], [61.0, 71171.0, 0.7210804930623951, 6457.790641224788, \"Cluster 1\"], [64.0, 76410.0, 0.7756041848937439, 6135.308197117819, \"Cluster 1\"], [63.0, 56875.0, 0.7622805817657738, 7837.233619544163, \"Cluster 1\"], [64.0, 78801.0, 0.7403674891662984, 6420.9440712002615, \"Cluster 1\"], [62.0, 67731.0, 0.8191699488980382, 5956.555677017446, \"Cluster 1\"], [61.0, 67372.0, 0.7340673095092516, 6618.549336247915, \"Cluster 1\"], [62.0, 73675.0, 0.7966191667425384, 4688.657157271711, \"Cluster 1\"], [67.0, 68663.0, 0.7738336308243648, 7451.9940140258705, \"Cluster 1\"], [61.0, 78837.0, 0.7459489746307642, 6811.303235949058, \"Cluster 1\"], [57.0, 72055.0, 0.7549723463413129, 6544.847498075687, \"Cluster 1\"], [63.0, 67370.0, 0.8999405530923943, 5985.077029740457, \"Cluster 1\"], [56.0, 80431.0, 0.7594315957853627, 8150.55743948241, \"Cluster 1\"], [51.0, 72086.0, 0.7911147257599156, 6732.096068632267, \"Cluster 1\"], [59.0, 82199.0, 0.8035145098215853, 5880.814834306347, \"Cluster 1\"], [58.0, 80248.0, 0.7249557054919687, 7641.16038162423, \"Cluster 1\"], [55.0, 64768.0, 0.7332568512323248, 6486.353872691102, \"Cluster 1\"], [61.0, 68842.0, 0.7544065421993587, 4077.6586565080543, \"Cluster 1\"], [55.0, 76831.0, 0.7421137340413241, 7806.398750466399, \"Cluster 1\"], [58.0, 78611.0, 0.910416682938019, 7665.884294519009, \"Cluster 1\"], [68.0, 68944.0, 0.7455674638713768, 6828.709702363695, \"Cluster 1\"], [58.0, 69247.0, 0.7237211912021976, 8715.67957429646, \"Cluster 1\"], [67.0, 78702.0, 0.7632736815688779, 5030.364838791924, \"Cluster 1\"], [56.0, 73516.0, 0.806499154055182, 7696.832373798451, \"Cluster 1\"], [59.0, 73596.0, 0.8567042188430352, 8281.718740320448, \"Cluster 1\"], [59.0, 90422.0, 0.8062102206275251, 6746.281083820821, \"Cluster 1\"], [57.0, 79794.0, 0.82240840085096, 5893.975284946178, \"Cluster 1\"], [60.0, 70054.0, 0.7143393610830643, 6609.918507412548, \"Cluster 1\"], [67.0, 80914.0, 0.8196642592960329, 6833.507136694643, \"Cluster 1\"], [61.0, 65914.0, 0.7781022309770123, 6406.8771303520325, \"Cluster 1\"], [60.0, 74460.0, 0.7545393292392412, 7567.6476522203675, \"Cluster 1\"], [59.0, 73350.0, 0.6797735912164855, 6710.5740183754415, \"Cluster 1\"], [57.0, 64803.0, 0.7285849289103553, 6255.552641057161, \"Cluster 1\"], [59.0, 56321.0, 0.806565925193039, 6129.288986032587, \"Cluster 1\"], [59.0, 67401.0, 0.7114339697492305, 6529.586309935448, \"Cluster 1\"], [58.0, 70676.0, 0.7640283880376706, 7664.415650964042, \"Cluster 1\"], [63.0, 70580.0, 0.7665090449070475, 7262.108723452133, \"Cluster 1\"], [61.0, 72027.0, 0.7623249166772856, 6926.123598416466, \"Cluster 1\"], [56.0, 65313.0, 0.7546029986455771, 5574.2436767070985, \"Cluster 1\"], [58.0, 76052.0, 0.7215881830727278, 6681.9843863770275, \"Cluster 1\"], [56.0, 75599.0, 0.7737370986430746, 6799.625271842961, \"Cluster 1\"], [59.0, 68038.0, 0.8014869916095588, 7719.283632687176, \"Cluster 1\"], [61.0, 72060.0, 0.8334590233217959, 7924.6411381540165, \"Cluster 1\"], [60.0, 63476.0, 0.7519000198498227, 7543.542801728056, \"Cluster 1\"], [56.0, 78992.0, 0.8122757021441627, 7285.18043685174, \"Cluster 1\"], [63.0, 82343.0, 0.7323186222078123, 8090.706739679063, \"Cluster 1\"], [58.0, 78078.0, 0.7837795500405715, 6483.049643745244, \"Cluster 1\"], [59.0, 77978.0, 0.7188952048526104, 8316.31110205122, \"Cluster 1\"], [62.0, 69326.0, 0.7980123380544829, 7003.095703317772, \"Cluster 1\"], [59.0, 69115.0, 0.7598834338453199, 5997.690199856996, \"Cluster 1\"], [59.0, 67346.0, 0.7251568963089163, 8857.849116294088, \"Cluster 1\"], [65.0, 74430.0, 0.7517741617758547, 7145.251128357927, \"Cluster 1\"], [64.0, 62886.0, 0.7480162682831766, 8302.588638401632, \"Cluster 1\"], [59.0, 80876.0, 0.6573140731575163, 7232.825142650888, \"Cluster 1\"], [59.0, 73057.0, 0.8302949092020397, 7819.393215767329, \"Cluster 1\"], [61.0, 65647.0, 0.7174899773841509, 7497.231607003855, \"Cluster 1\"], [64.0, 64331.0, 0.7571277508774099, 5815.660096290825, \"Cluster 1\"], [58.0, 77769.0, 0.7913287771988531, 6559.8299230048315, \"Cluster 1\"], [57.0, 76594.0, 0.7906578552491133, 6584.654681310476, \"Cluster 1\"], [58.0, 70798.0, 0.7535283874245788, 5330.73989989779, \"Cluster 1\"], [56.0, 86484.0, 0.7321233689266612, 8777.496176839057, \"Cluster 1\"], [63.0, 85761.0, 0.8005979105724924, 7175.090218501247, \"Cluster 1\"], [58.0, 70259.0, 0.7697129169369328, 7101.674514204499, \"Cluster 1\"], [60.0, 79969.0, 0.812104912914789, 4879.334872972362, \"Cluster 1\"], [58.0, 69879.0, 0.7209986871945887, 6669.033518051874, \"Cluster 1\"], [62.0, 73480.0, 0.7391949797931453, 6277.675150528886, \"Cluster 1\"], [66.0, 72571.0, 0.8115483367376335, 6509.41150610998, \"Cluster 1\"], [66.0, 64866.0, 0.7665941891374249, 5037.899138583947, \"Cluster 1\"], [63.0, 72815.0, 0.8200359737627068, 5504.385543801038, \"Cluster 1\"], [64.0, 71692.0, 0.8426521453196145, 7002.9765543033545, \"Cluster 1\"], [62.0, 63596.0, 0.7453271943508174, 6142.201619345869, \"Cluster 1\"], [62.0, 62650.0, 0.766572365027147, 7533.673609198676, \"Cluster 1\"], [60.0, 71436.0, 0.8320590985324969, 8557.86012627717, \"Cluster 1\"], [65.0, 65736.0, 0.7785687658100923, 6387.2196944302905, \"Cluster 1\"], [60.0, 70663.0, 0.7153396972946453, 7557.937593550947, \"Cluster 1\"], [63.0, 80705.0, 0.7626699527314824, 5154.330634621805, \"Cluster 1\"], [56.0, 84386.0, 0.7849450699605269, 7270.41953428175, \"Cluster 1\"], [58.0, 75757.0, 0.8097944168848634, 7390.5772934370325, \"Cluster 1\"], [62.0, 71050.0, 0.7353568506694507, 6988.197368273879, \"Cluster 1\"], [56.0, 68698.0, 0.7162678503859907, 7070.967006969191, \"Cluster 1\"], [59.0, 67781.0, 0.7225483489421433, 6701.527664794541, \"Cluster 1\"], [65.0, 66017.0, 0.7861892594159869, 6159.662935925753, \"Cluster 1\"], [62.0, 80093.0, 0.6909167811268888, 6756.749072752337, \"Cluster 1\"], [59.0, 67988.0, 0.8114707012366371, 7255.903114334659, \"Cluster 1\"], [64.0, 88361.0, 0.7745562258521365, 7240.759687480846, \"Cluster 1\"], [66.0, 82526.0, 0.7696800667721441, 6205.662650191712, \"Cluster 1\"], [59.0, 74576.0, 0.7812961239072382, 10547.775367695343, \"Cluster 1\"], [59.0, 72588.0, 0.8017156979122673, 6300.8437570950255, \"Cluster 1\"], [59.0, 81799.0, 0.7910820467274178, 5417.661426197439, \"Cluster 1\"], [62.0, 74751.0, 0.7026569520102857, 9258.99296503407, \"Cluster 1\"], [59.0, 74373.0, 0.7656795619984281, 7346.334503537976, \"Cluster 1\"], [54.0, 76500.0, 0.7851978501165687, 6878.884248553974, \"Cluster 1\"], [61.0, 71933.0, 0.8441067966472876, 8022.208541100706, \"Cluster 1\"], [55.0, 71621.0, 0.7533426836166189, 7780.589913955977, \"Cluster 1\"], [53.0, 76667.0, 0.7600576501232099, 5168.225474983632, \"Cluster 1\"], [55.0, 78761.0, 0.8271741985123882, 8376.74947779104, \"Cluster 1\"], [61.0, 76955.0, 0.7771175646074471, 7467.036702314494, \"Cluster 1\"], [59.0, 65700.0, 0.8114711740198254, 6932.487932327357, \"Cluster 1\"], [59.0, 69738.0, 0.7421121217155721, 7151.650866065035, \"Cluster 1\"], [56.0, 63866.0, 0.7618879582513512, 7762.255066659051, \"Cluster 1\"], [61.0, 74117.0, 0.7702140596767938, 5103.609230428381, \"Cluster 1\"], [61.0, 63846.0, 0.8278622414878984, 7283.504772674617, \"Cluster 1\"], [60.0, 70012.0, 0.7944610508231513, 7263.242447729872, \"Cluster 1\"], [57.0, 75332.0, 0.7215024376129366, 6845.056822204781, \"Cluster 1\"], [61.0, 73245.0, 0.811160373170345, 7413.784487271215, \"Cluster 1\"], [55.0, 74356.0, 0.7998269700906482, 6484.630737953294, \"Cluster 1\"], [53.0, 62117.0, 0.7331388477995737, 7500.452413594261, \"Cluster 1\"], [61.0, 69001.0, 0.8216687745413516, 5074.12121172259, \"Cluster 1\"], [64.0, 60493.0, 0.7680563479442216, 7708.112609459162, \"Cluster 1\"], [62.0, 69741.0, 0.8462196017575947, 5781.658046536959, \"Cluster 1\"], [55.0, 71056.0, 0.7565897119333272, 7464.163256732262, \"Cluster 1\"], [58.0, 74340.0, 0.7351650452097145, 7259.540921675672, \"Cluster 1\"], [57.0, 79470.0, 0.7734352958312237, 6773.049089777121, \"Cluster 1\"], [58.0, 77101.0, 0.7667195837506832, 8148.49184821177, \"Cluster 1\"], [64.0, 76364.0, 0.6993887663543108, 5772.1171358549755, \"Cluster 1\"], [57.0, 74014.0, 0.787378081122989, 5783.846928267082, \"Cluster 1\"], [62.0, 67030.0, 0.7467384433463651, 6740.765182071713, \"Cluster 1\"], [56.0, 68463.0, 0.8157116929554062, 8995.180087953215, \"Cluster 1\"], [53.0, 74996.0, 0.7387310917031671, 7821.447803561914, \"Cluster 1\"], [60.0, 65340.0, 0.7316484923943142, 8354.196507802662, \"Cluster 1\"], [56.0, 60059.0, 0.7275840223364691, 7166.858605155183, \"Cluster 1\"], [62.0, 78413.0, 0.7907090657200839, 6961.2041923680945, \"Cluster 1\"], [61.0, 69698.0, 0.7416839698444291, 8777.077471725162, \"Cluster 1\"], [62.0, 68279.0, 0.7196850779929922, 7028.675510384212, \"Cluster 1\"], [55.0, 76057.0, 0.8778279844516369, 6132.898204816149, \"Cluster 1\"], [60.0, 67491.0, 0.84661848692906, 7180.713788260257, \"Cluster 1\"], [58.0, 83351.0, 0.8406978038692191, 6673.909711092488, \"Cluster 1\"], [61.0, 71033.0, 0.8380950724014863, 9456.876962701137, \"Cluster 1\"], [59.0, 71302.0, 0.7020090041734849, 6595.726010227134, \"Cluster 1\"], [58.0, 80278.0, 0.8233589910091558, 6335.97831998802, \"Cluster 1\"], [56.0, 67274.0, 0.7798516671891869, 6652.391024403152, \"Cluster 1\"], [60.0, 65054.0, 0.7086131723969877, 5417.237293788358, \"Cluster 1\"], [62.0, 69391.0, 0.7921059737158539, 6518.283467894094, \"Cluster 1\"], [58.0, 78635.0, 0.7864400503429185, 7162.739043055361, \"Cluster 1\"], [64.0, 86283.0, 0.7568019251873561, 6852.5548669147165, \"Cluster 1\"], [63.0, 69849.0, 0.7403870808915297, 7670.6909659413295, \"Cluster 1\"]], \"hoverlabel\": {\"namelength\": 0}, \"hovertemplate\": \"Cluster=%{customdata[4]}<br>Age=%{customdata[0]}<br>Income=%{customdata[1]}<br>SpendingScore=%{customdata[2]}<br>Savings=%{customdata[3]}\", \"legendgroup\": \"Cluster=Cluster 1\", \"marker\": {\"color\": \"#EF553B\"}, \"name\": \"Cluster=Cluster 1\", \"notched\": true, \"offsetgroup\": \"Cluster=Cluster 1\", \"showlegend\": false, \"type\": \"box\", \"x\": [65, 57, 65, 59, 61, 60, 55, 63, 62, 59, 67, 58, 66, 58, 57, 57, 66, 59, 68, 61, 58, 59, 61, 64, 63, 64, 62, 61, 62, 67, 61, 57, 63, 56, 51, 59, 58, 55, 61, 55, 58, 68, 58, 67, 56, 59, 59, 57, 60, 67, 61, 60, 59, 57, 59, 59, 58, 63, 61, 56, 58, 56, 59, 61, 60, 56, 63, 58, 59, 62, 59, 59, 65, 64, 59, 59, 61, 64, 58, 57, 58, 56, 63, 58, 60, 58, 62, 66, 66, 63, 64, 62, 62, 60, 65, 60, 63, 56, 58, 62, 56, 59, 65, 62, 59, 64, 66, 59, 59, 59, 62, 59, 54, 61, 55, 53, 55, 61, 59, 59, 56, 61, 61, 60, 57, 61, 55, 53, 61, 64, 62, 55, 58, 57, 58, 64, 57, 62, 56, 53, 60, 56, 62, 61, 62, 55, 60, 58, 61, 59, 58, 56, 60, 62, 58, 64, 63], \"xaxis\": \"x2\", \"yaxis\": \"y2\"}, {\"alignmentgroup\": \"True\", \"bingroup\": \"x\", \"hoverlabel\": {\"namelength\": 0}, \"hovertemplate\": \"Cluster=Cluster 2<br>Age=%{x}<br>count=%{y}\", \"legendgroup\": \"Cluster=Cluster 2\", \"marker\": {\"color\": \"#00cc96\", \"opacity\": 0.7}, \"name\": \"Cluster=Cluster 2\", \"offsetgroup\": \"Cluster=Cluster 2\", \"orientation\": \"v\", \"showlegend\": true, \"type\": \"histogram\", \"x\": [38, 29, 36, 31, 39, 88, 86, 35, 30, 35, 25, 37, 30, 36, 34, 33, 36, 32, 83, 31, 37, 36, 90, 31, 37, 35, 33, 84, 37, 29, 44, 32, 31, 29, 36, 31, 90, 33, 33, 89, 29, 32, 84, 30, 88, 38, 92, 31, 30, 36, 85, 30, 28, 37, 29, 31, 29, 31, 33, 31, 83, 34, 22, 87, 34, 25, 31, 31, 31, 35, 28, 33, 31, 28, 39, 36, 32, 93, 36, 34, 37, 33, 43, 33, 26, 24, 31, 29, 36, 86, 33, 29, 40, 35, 32, 37, 34, 34, 84, 82, 88, 85, 35, 33, 33, 29, 83, 28, 31, 37, 31, 33, 30, 30, 34, 30, 30, 86, 29, 30, 28, 37, 37, 82, 42, 28, 30, 32, 35, 35, 31, 35, 33, 29, 35, 38, 34, 33, 32, 34, 31, 27, 39, 38, 84, 77, 34, 28, 36, 91, 34], \"xaxis\": \"x\", \"yaxis\": \"y\"}, {\"alignmentgroup\": \"True\", \"customdata\": [[38.0, 104738.0, 0.4059588503683713, 15634.313868027426, \"Cluster 2\"], [29.0, 112531.0, 0.3427661743407053, 14361.334979176147, \"Cluster 2\"], [36.0, 109809.0, 0.355660187354229, 14978.502144076487, \"Cluster 2\"], [31.0, 110882.0, 0.3252806065281125, 14004.61374291491, \"Cluster 2\"], [39.0, 100661.0, 0.3766412501689559, 16873.128638209408, \"Cluster 2\"], [88.0, 123651.0, 0.02902714029105191, 13504.577571797938, \"Cluster 2\"], [86.0, 124372.0, 0.0, 15374.465952896948, \"Cluster 2\"], [35.0, 108499.0, 0.2612719132713158, 16046.08301542436, \"Cluster 2\"], [30.0, 96241.0, 0.3773384910014747, 15485.156009739387, \"Cluster 2\"], [35.0, 106588.0, 0.3422142051018276, 15648.65667046098, \"Cluster 2\"], [25.0, 101503.0, 0.28846885607409833, 15026.262148820157, \"Cluster 2\"], [37.0, 106894.0, 0.3432357689892068, 14075.217365594552, \"Cluster 2\"], [30.0, 107302.0, 0.2396771776819925, 13993.24401848172, \"Cluster 2\"], [36.0, 109038.0, 0.3242132027621541, 16502.389477657125, \"Cluster 2\"], [34.0, 103204.0, 0.30108735378393314, 15149.810421179482, \"Cluster 2\"], [33.0, 98033.0, 0.30951111585458696, 15774.690605560645, \"Cluster 2\"], [36.0, 101811.0, 0.3406667947415742, 15048.89961242685, \"Cluster 2\"], [32.0, 101905.0, 0.3074763135926987, 17532.16478349903, \"Cluster 2\"], [83.0, 117943.0, 0.07721324003343044, 15391.95219220651, \"Cluster 2\"], [31.0, 112943.0, 0.34123950330738706, 14297.702229457283, \"Cluster 2\"], [37.0, 108651.0, 0.1923436158292553, 15881.242198260683, \"Cluster 2\"], [36.0, 100158.0, 0.31606041409802405, 13832.379370734528, \"Cluster 2\"], [90.0, 124170.0, 0.030751314393913882, 14773.407205599842, \"Cluster 2\"], [31.0, 105006.0, 0.3741658782934958, 15419.41776312329, \"Cluster 2\"], [37.0, 110732.0, 0.3226762482802641, 14265.351840497759, \"Cluster 2\"], [35.0, 104678.0, 0.3279928581002429, 15422.055799721802, \"Cluster 2\"], [33.0, 92569.0, 0.33607980556714456, 13765.685995748696, \"Cluster 2\"], [84.0, 114406.0, 0.12383837464097253, 16840.570583774286, \"Cluster 2\"], [37.0, 107958.0, 0.34666907654318496, 13641.009538079368, \"Cluster 2\"], [29.0, 99161.0, 0.3079200040396055, 15631.836772980834, \"Cluster 2\"], [44.0, 114642.0, 0.3092049154534188, 14067.617788950563, \"Cluster 2\"], [32.0, 106543.0, 0.3107432443044589, 14337.288328489092, \"Cluster 2\"], [31.0, 105036.0, 0.2722279930569666, 16465.063521972657, \"Cluster 2\"], [29.0, 103223.0, 0.3388162937437745, 16252.883053065632, \"Cluster 2\"], [36.0, 98137.0, 0.29740129315965397, 15978.332837131276, \"Cluster 2\"], [31.0, 105826.0, 0.2862743235826754, 13856.805832195869, \"Cluster 2\"], [90.0, 117668.0, 0.08272274299401555, 12554.692742420659, \"Cluster 2\"], [33.0, 106757.0, 0.25839611372125515, 14431.652799234367, \"Cluster 2\"], [33.0, 107100.0, 0.3424354833732075, 14895.473479049117, \"Cluster 2\"], [89.0, 119697.0, 0.0916792017028315, 16215.399076555514, \"Cluster 2\"], [29.0, 101943.0, 0.3256230614429721, 14619.354282159029, \"Cluster 2\"], [32.0, 108417.0, 0.28737086714008075, 16696.398659007995, \"Cluster 2\"], [84.0, 122696.0, 0.08218683192473558, 13809.734086698068, \"Cluster 2\"], [30.0, 101073.0, 0.3143871202044516, 14324.555977118509, \"Cluster 2\"], [88.0, 120678.0, 0.06327285129660287, 14264.473846639943, \"Cluster 2\"], [38.0, 94775.0, 0.3803902009461493, 16867.13082002739, \"Cluster 2\"], [92.0, 122879.0, 0.0607240352184939, 13709.670274517475, \"Cluster 2\"], [31.0, 107963.0, 0.2905086327499087, 13407.081391032512, \"Cluster 2\"], [30.0, 99949.0, 0.344679223509786, 13621.639726331408, \"Cluster 2\"], [36.0, 99780.0, 0.2654326074020303, 16398.40133318453, \"Cluster 2\"], [85.0, 111389.0, 0.0367953622110323, 16009.237762922363, \"Cluster 2\"], [30.0, 98030.0, 0.4111117138132285, 16316.842905166694, \"Cluster 2\"], [28.0, 101206.0, 0.3874406981253433, 14936.775388622864, \"Cluster 2\"], [37.0, 107877.0, 0.3346179841546032, 17968.55392863446, \"Cluster 2\"], [29.0, 119366.0, 0.3587713900686116, 15012.853014226299, \"Cluster 2\"], [31.0, 102618.0, 0.2763779214063509, 13209.301612848929, \"Cluster 2\"], [29.0, 106014.0, 0.34794511357773106, 15038.010746320377, \"Cluster 2\"], [31.0, 101209.0, 0.3043229953712128, 16917.571691218804, \"Cluster 2\"], [33.0, 101058.0, 0.3150815497840024, 14911.868398206978, \"Cluster 2\"], [31.0, 101481.0, 0.2702350511848681, 15226.614133627569, \"Cluster 2\"], [83.0, 119429.0, 0.042154801078558464, 15607.561541234569, \"Cluster 2\"], [34.0, 98993.0, 0.3229930887837502, 16138.079373431863, \"Cluster 2\"], [22.0, 109152.0, 0.32344641636242355, 16022.482482363523, \"Cluster 2\"], [87.0, 117564.0, 0.1282795957567026, 14000.248964992143, \"Cluster 2\"], [34.0, 102291.0, 0.24786227611431386, 15819.577601160518, \"Cluster 2\"], [25.0, 106772.0, 0.3909047196000217, 16353.471790615497, \"Cluster 2\"], [31.0, 107994.0, 0.2944689389706671, 13685.972361738892, \"Cluster 2\"], [31.0, 114833.0, 0.3050696862135815, 13953.029721407644, \"Cluster 2\"], [31.0, 107932.0, 0.3742421881649845, 12207.526078087714, \"Cluster 2\"], [35.0, 110106.0, 0.2867692710102035, 14924.537223475552, \"Cluster 2\"], [28.0, 100592.0, 0.2595983487762325, 15520.355775683653, \"Cluster 2\"], [33.0, 116616.0, 0.3209300476959025, 15104.49811363824, \"Cluster 2\"], [31.0, 111449.0, 0.29410620308282165, 13929.62155143948, \"Cluster 2\"], [28.0, 94762.0, 0.3035961911057213, 15352.521936894913, \"Cluster 2\"], [39.0, 100540.0, 0.3849229829012918, 16741.013894847743, \"Cluster 2\"], [36.0, 96336.0, 0.28809756719298163, 15286.769335194167, \"Cluster 2\"], [32.0, 117050.0, 0.3113555349689566, 14310.546206532163, \"Cluster 2\"], [93.0, 126601.0, 0.025170169477345742, 14117.44703707058, \"Cluster 2\"], [36.0, 104285.0, 0.2123600508972585, 13347.558779497918, \"Cluster 2\"], [34.0, 104284.0, 0.34454541177986714, 13541.801770810564, \"Cluster 2\"], [37.0, 110595.0, 0.28664850500199834, 15235.445457133224, \"Cluster 2\"], [33.0, 94964.0, 0.3302325026567214, 14018.349867336628, \"Cluster 2\"], [43.0, 101641.0, 0.3819838041034955, 14424.097995592982, \"Cluster 2\"], [33.0, 100275.0, 0.3630856827120957, 13735.438742381079, \"Cluster 2\"], [26.0, 97750.0, 0.2934087605160681, 15823.032361634105, \"Cluster 2\"], [24.0, 110564.0, 0.3049430059244969, 14967.839625179657, \"Cluster 2\"], [31.0, 107115.0, 0.3280420856997338, 15693.499570389358, \"Cluster 2\"], [29.0, 111426.0, 0.4002811559385194, 14352.643773230728, \"Cluster 2\"], [36.0, 108004.0, 0.3089229914936124, 15813.964573146997, \"Cluster 2\"], [86.0, 128378.0, 0.12608340975849852, 13585.778624417357, \"Cluster 2\"], [33.0, 114555.0, 0.2792568364789493, 13746.745438440072, \"Cluster 2\"], [29.0, 116451.0, 0.3406596106851227, 15294.661511529368, \"Cluster 2\"], [40.0, 98821.0, 0.27908085018704903, 15995.160053914664, \"Cluster 2\"], [35.0, 105991.0, 0.34337797815210225, 16616.088239618915, \"Cluster 2\"], [32.0, 102035.0, 0.26207035616469115, 14209.932802396092, \"Cluster 2\"], [37.0, 106664.0, 0.2775867542026021, 14479.374117495967, \"Cluster 2\"], [34.0, 89598.0, 0.3401523810436963, 12832.768720823738, \"Cluster 2\"], [34.0, 107255.0, 0.3283430294033384, 15130.595225546444, \"Cluster 2\"], [84.0, 115237.0, 0.06877820981367339, 14396.568282311468, \"Cluster 2\"], [82.0, 126257.0, 0.07809619439943333, 15816.101922357922, \"Cluster 2\"], [88.0, 114767.0, 0.032207542338926365, 17833.093470094427, \"Cluster 2\"], [85.0, 118169.0, 0.123196057747337, 14855.951023927619, \"Cluster 2\"], [35.0, 117112.0, 0.3047918711384766, 15908.035997555322, \"Cluster 2\"], [33.0, 111813.0, 0.2382437868013801, 15901.238967721652, \"Cluster 2\"], [33.0, 105667.0, 0.25075080562386165, 12869.761073905089, \"Cluster 2\"], [29.0, 91375.0, 0.2354504258588228, 13104.962760687613, \"Cluster 2\"], [83.0, 117347.0, 0.15569409232860987, 15086.701120471576, \"Cluster 2\"], [28.0, 99611.0, 0.2795578681222758, 15345.658121390226, \"Cluster 2\"], [31.0, 99457.0, 0.3658064971511749, 14580.613477014092, \"Cluster 2\"], [37.0, 97831.0, 0.3744658274308825, 14935.144813058325, \"Cluster 2\"], [31.0, 108067.0, 0.2686742663930692, 13316.767286164832, \"Cluster 2\"], [33.0, 106345.0, 0.3392354218755358, 15300.45379012999, \"Cluster 2\"], [30.0, 107926.0, 0.2301607310342209, 15520.536309707046, \"Cluster 2\"], [30.0, 108581.0, 0.3094467811568005, 15628.791650531211, \"Cluster 2\"], [34.0, 98165.0, 0.17412049382306485, 15721.86284266975, \"Cluster 2\"], [30.0, 106350.0, 0.3694162857692797, 14863.233588279092, \"Cluster 2\"], [30.0, 107525.0, 0.2948164301396663, 12702.847385049918, \"Cluster 2\"], [86.0, 115689.0, 0.057842956133581036, 14803.153273493916, \"Cluster 2\"], [29.0, 102028.0, 0.2889604994756899, 14634.430692347907, \"Cluster 2\"], [30.0, 102056.0, 0.2607006223919937, 15370.66882713054, \"Cluster 2\"], [28.0, 111937.0, 0.2537347301209012, 13669.110632506934, \"Cluster 2\"], [37.0, 97678.0, 0.2574704443875843, 15834.113173627364, \"Cluster 2\"], [37.0, 108635.0, 0.28649570314839057, 14558.054542315444, \"Cluster 2\"], [82.0, 121642.0, 0.054653190464209855, 14177.513323069668, \"Cluster 2\"], [42.0, 106990.0, 0.330065422314764, 14856.938997469417, \"Cluster 2\"], [28.0, 97965.0, 0.3134915614599665, 14981.402201916082, \"Cluster 2\"], [30.0, 108928.0, 0.30386361503665704, 14339.652917342728, \"Cluster 2\"], [32.0, 95536.0, 0.26624605681014885, 15420.625644002741, \"Cluster 2\"], [35.0, 107131.0, 0.2424731551814769, 16200.013010637644, \"Cluster 2\"], [35.0, 101691.0, 0.3491110181825554, 14152.671689505803, \"Cluster 2\"], [31.0, 104388.0, 0.2864732316476225, 14406.561248437842, \"Cluster 2\"], [35.0, 102308.0, 0.2751372175012177, 14874.557991326978, \"Cluster 2\"], [33.0, 99637.0, 0.2282170773869075, 15139.403142647532, \"Cluster 2\"], [29.0, 110860.0, 0.31944030103524745, 16260.42103081417, \"Cluster 2\"], [35.0, 112878.0, 0.3009135799974076, 13755.48230187328, \"Cluster 2\"], [38.0, 115146.0, 0.3144900731288347, 14798.868153501797, \"Cluster 2\"], [34.0, 111303.0, 0.34531257710928803, 14624.318634976555, \"Cluster 2\"], [33.0, 108345.0, 0.32541328975821004, 15646.32171735943, \"Cluster 2\"], [32.0, 110439.0, 0.30699015827427256, 13873.50756985278, \"Cluster 2\"], [34.0, 98752.0, 0.3720337099315751, 14975.384238944334, \"Cluster 2\"], [31.0, 116247.0, 0.2943151380482853, 16178.204715186297, \"Cluster 2\"], [27.0, 106758.0, 0.2662947092346973, 14942.560723173168, \"Cluster 2\"], [39.0, 99216.0, 0.21660614339457274, 15230.345105300736, \"Cluster 2\"], [38.0, 113659.0, 0.3334859873871594, 14364.693391419, \"Cluster 2\"], [84.0, 110582.0, 0.07904903227945975, 14937.995169685584, \"Cluster 2\"], [77.0, 128596.0, 0.04082407066250976, 14503.410786381415, \"Cluster 2\"], [34.0, 103428.0, 0.2474244093916156, 13791.035761571968, \"Cluster 2\"], [28.0, 109075.0, 0.36276196062401134, 14082.458238005996, \"Cluster 2\"], [36.0, 105567.0, 0.3126388486955741, 14355.31094653896, \"Cluster 2\"], [91.0, 118794.0, 0.0192120658984376, 14047.388986415735, \"Cluster 2\"], [34.0, 119877.0, 0.3054369951589357, 15634.788286084158, \"Cluster 2\"]], \"hoverlabel\": {\"namelength\": 0}, \"hovertemplate\": \"Cluster=%{customdata[4]}<br>Age=%{customdata[0]}<br>Income=%{customdata[1]}<br>SpendingScore=%{customdata[2]}<br>Savings=%{customdata[3]}\", \"legendgroup\": \"Cluster=Cluster 2\", \"marker\": {\"color\": \"#00cc96\"}, \"name\": \"Cluster=Cluster 2\", \"notched\": true, \"offsetgroup\": \"Cluster=Cluster 2\", \"showlegend\": false, \"type\": \"box\", \"x\": [38, 29, 36, 31, 39, 88, 86, 35, 30, 35, 25, 37, 30, 36, 34, 33, 36, 32, 83, 31, 37, 36, 90, 31, 37, 35, 33, 84, 37, 29, 44, 32, 31, 29, 36, 31, 90, 33, 33, 89, 29, 32, 84, 30, 88, 38, 92, 31, 30, 36, 85, 30, 28, 37, 29, 31, 29, 31, 33, 31, 83, 34, 22, 87, 34, 25, 31, 31, 31, 35, 28, 33, 31, 28, 39, 36, 32, 93, 36, 34, 37, 33, 43, 33, 26, 24, 31, 29, 36, 86, 33, 29, 40, 35, 32, 37, 34, 34, 84, 82, 88, 85, 35, 33, 33, 29, 83, 28, 31, 37, 31, 33, 30, 30, 34, 30, 30, 86, 29, 30, 28, 37, 37, 82, 42, 28, 30, 32, 35, 35, 31, 35, 33, 29, 35, 38, 34, 33, 32, 34, 31, 27, 39, 38, 84, 77, 34, 28, 36, 91, 34], \"xaxis\": \"x2\", \"yaxis\": \"y2\"}, {\"alignmentgroup\": \"True\", \"bingroup\": \"x\", \"hoverlabel\": {\"namelength\": 0}, \"hovertemplate\": \"Cluster=Cluster 3<br>Age=%{x}<br>count=%{y}\", \"legendgroup\": \"Cluster=Cluster 3\", \"marker\": {\"color\": \"#ab63fa\", \"opacity\": 0.7}, \"name\": \"Cluster=Cluster 3\", \"offsetgroup\": \"Cluster=Cluster 3\", \"orientation\": \"v\", \"showlegend\": true, \"type\": \"histogram\", \"x\": [27, 23, 25, 17, 24, 20, 23, 26, 23, 27, 23, 31, 22, 24, 29, 22, 28, 26, 25, 24, 24, 25, 20, 30, 25, 28, 20, 24, 22, 26, 17, 26, 28, 18, 21, 21, 17, 27, 25, 24, 28, 26, 28, 25, 24, 17, 29, 29, 28, 18], \"xaxis\": \"x\", \"yaxis\": \"y\"}, {\"alignmentgroup\": \"True\", \"customdata\": [[27.0, 122671.0, 0.910107112831516, 4206.287238709509, \"Cluster 3\"], [23.0, 138443.0, 0.9226565539031124, 3297.058843994153, \"Cluster 3\"], [25.0, 138021.0, 0.944017175810026, 3005.577482475175, \"Cluster 3\"], [17.0, 134734.0, 0.8579216672301577, 0.0, \"Cluster 3\"], [24.0, 129087.0, 0.8271179432765905, 3290.829468618805, \"Cluster 3\"], [20.0, 129469.0, 0.9399954311014268, 5522.573424346325, \"Cluster 3\"], [23.0, 129937.0, 0.8727356634334804, 4102.065424707484, \"Cluster 3\"], [26.0, 123005.0, 0.9845261943505972, 4371.23473281147, \"Cluster 3\"], [23.0, 126500.0, 0.8650328592458483, 3270.150434407087, \"Cluster 3\"], [27.0, 121468.0, 0.9206489879585448, 5011.112062373318, \"Cluster 3\"], [23.0, 120226.0, 0.8819129663041946, 4698.294710949844, \"Cluster 3\"], [31.0, 122924.0, 0.89046022417733, 3071.944576152969, \"Cluster 3\"], [22.0, 134209.0, 0.8706980046008759, 5138.109568643242, \"Cluster 3\"], [24.0, 130974.0, 0.9118386021444842, 4420.0727101369375, \"Cluster 3\"], [29.0, 131578.0, 0.8470341025128371, 3535.5143522162816, \"Cluster 3\"], [22.0, 132948.0, 0.8898001728484242, 2839.7863574778585, \"Cluster 3\"], [28.0, 123153.0, 0.9842407862639496, 3697.5136453853297, \"Cluster 3\"], [26.0, 131827.0, 0.8807194909406801, 4352.699304837541, \"Cluster 3\"], [25.0, 128625.0, 0.8167389887954251, 4914.117127206949, \"Cluster 3\"], [24.0, 136644.0, 0.8716976842508705, 1617.2257000775644, \"Cluster 3\"], [24.0, 134389.0, 0.9388521378701832, 4573.60634580409, \"Cluster 3\"], [25.0, 130934.0, 0.9137660194970426, 3942.389134492165, \"Cluster 3\"], [20.0, 122581.0, 0.8940806156500202, 4444.4476842520535, \"Cluster 3\"], [30.0, 122788.0, 0.8728724057273831, 5706.149573297764, \"Cluster 3\"], [25.0, 130361.0, 0.9254385568124625, 4691.55213906238, \"Cluster 3\"], [28.0, 123229.0, 0.8733219541371664, 610.4462190811464, \"Cluster 3\"], [20.0, 129142.0, 0.8870519941988757, 5603.121027746489, \"Cluster 3\"], [24.0, 127352.0, 0.9054521594192038, 2961.716874324024, \"Cluster 3\"], [22.0, 120525.0, 1.0, 5495.165732288548, \"Cluster 3\"], [26.0, 126617.0, 0.8770521049168103, 2913.368146562765, \"Cluster 3\"], [17.0, 123828.0, 0.9420129076091708, 3798.8403998790254, \"Cluster 3\"], [26.0, 125662.0, 0.9268183658411524, 6089.47832250152, \"Cluster 3\"], [28.0, 127699.0, 0.8814245468734898, 5490.814955670689, \"Cluster 3\"], [18.0, 130813.0, 0.8908912472675831, 5256.434559627984, \"Cluster 3\"], [21.0, 123678.0, 0.8320252689431032, 2838.8158208359087, \"Cluster 3\"], [21.0, 129726.0, 0.9517923119702948, 4550.7995216878835, \"Cluster 3\"], [17.0, 134966.0, 0.9072421746334024, 4128.044795832438, \"Cluster 3\"], [27.0, 125008.0, 0.9596454072349518, 2963.6377080587795, \"Cluster 3\"], [25.0, 131009.0, 0.8640569016468125, 4792.426581212785, \"Cluster 3\"], [24.0, 120465.0, 0.9074853865005544, 4838.348350281593, \"Cluster 3\"], [28.0, 129019.0, 0.9308319590820414, 3016.8206434862623, \"Cluster 3\"], [26.0, 127320.0, 0.8250298045601994, 5495.642137901324, \"Cluster 3\"], [28.0, 117108.0, 0.857078493256913, 4749.879237491619, \"Cluster 3\"], [25.0, 120957.0, 0.8776734245644572, 5590.447216086322, \"Cluster 3\"], [24.0, 134384.0, 0.8747208244890404, 3731.3397614449186, \"Cluster 3\"], [17.0, 136255.0, 0.935876103673024, 4126.226651408871, \"Cluster 3\"], [29.0, 142000.0, 0.9400873084125808, 5349.821181717665, \"Cluster 3\"], [29.0, 122264.0, 0.8985788437238403, 2494.55627432471, \"Cluster 3\"], [28.0, 121216.0, 0.8569692823607705, 5349.065446955783, \"Cluster 3\"], [18.0, 123718.0, 0.8065528615489801, 4420.445820614172, \"Cluster 3\"]], \"hoverlabel\": {\"namelength\": 0}, \"hovertemplate\": \"Cluster=%{customdata[4]}<br>Age=%{customdata[0]}<br>Income=%{customdata[1]}<br>SpendingScore=%{customdata[2]}<br>Savings=%{customdata[3]}\", \"legendgroup\": \"Cluster=Cluster 3\", \"marker\": {\"color\": \"#ab63fa\"}, \"name\": \"Cluster=Cluster 3\", \"notched\": true, \"offsetgroup\": \"Cluster=Cluster 3\", \"showlegend\": false, \"type\": \"box\", \"x\": [27, 23, 25, 17, 24, 20, 23, 26, 23, 27, 23, 31, 22, 24, 29, 22, 28, 26, 25, 24, 24, 25, 20, 30, 25, 28, 20, 24, 22, 26, 17, 26, 28, 18, 21, 21, 17, 27, 25, 24, 28, 26, 28, 25, 24, 17, 29, 29, 28, 18], \"xaxis\": \"x2\", \"yaxis\": \"y2\"}],\n",
       "                        {\"barmode\": \"relative\", \"legend\": {\"tracegroupgap\": 0}, \"margin\": {\"t\": 60}, \"template\": {\"data\": {\"bar\": [{\"error_x\": {\"color\": \"#2a3f5f\"}, \"error_y\": {\"color\": \"#2a3f5f\"}, \"marker\": {\"line\": {\"color\": \"#E5ECF6\", \"width\": 0.5}}, \"type\": \"bar\"}], \"barpolar\": [{\"marker\": {\"line\": {\"color\": \"#E5ECF6\", \"width\": 0.5}}, \"type\": \"barpolar\"}], \"carpet\": [{\"aaxis\": {\"endlinecolor\": \"#2a3f5f\", \"gridcolor\": \"white\", \"linecolor\": \"white\", \"minorgridcolor\": \"white\", \"startlinecolor\": \"#2a3f5f\"}, \"baxis\": {\"endlinecolor\": \"#2a3f5f\", \"gridcolor\": \"white\", \"linecolor\": \"white\", \"minorgridcolor\": \"white\", \"startlinecolor\": \"#2a3f5f\"}, \"type\": \"carpet\"}], \"choropleth\": [{\"colorbar\": {\"outlinewidth\": 0, \"ticks\": \"\"}, \"type\": \"choropleth\"}], \"contour\": [{\"colorbar\": {\"outlinewidth\": 0, \"ticks\": \"\"}, \"colorscale\": [[0.0, \"#0d0887\"], [0.1111111111111111, \"#46039f\"], [0.2222222222222222, \"#7201a8\"], [0.3333333333333333, \"#9c179e\"], [0.4444444444444444, \"#bd3786\"], [0.5555555555555556, \"#d8576b\"], [0.6666666666666666, \"#ed7953\"], [0.7777777777777778, \"#fb9f3a\"], [0.8888888888888888, \"#fdca26\"], [1.0, \"#f0f921\"]], \"type\": \"contour\"}], \"contourcarpet\": [{\"colorbar\": {\"outlinewidth\": 0, \"ticks\": \"\"}, \"type\": \"contourcarpet\"}], \"heatmap\": [{\"colorbar\": {\"outlinewidth\": 0, \"ticks\": \"\"}, \"colorscale\": [[0.0, \"#0d0887\"], [0.1111111111111111, \"#46039f\"], [0.2222222222222222, \"#7201a8\"], [0.3333333333333333, \"#9c179e\"], [0.4444444444444444, \"#bd3786\"], [0.5555555555555556, \"#d8576b\"], [0.6666666666666666, \"#ed7953\"], [0.7777777777777778, \"#fb9f3a\"], [0.8888888888888888, \"#fdca26\"], [1.0, \"#f0f921\"]], \"type\": \"heatmap\"}], \"heatmapgl\": [{\"colorbar\": {\"outlinewidth\": 0, \"ticks\": \"\"}, \"colorscale\": [[0.0, \"#0d0887\"], [0.1111111111111111, \"#46039f\"], [0.2222222222222222, \"#7201a8\"], [0.3333333333333333, \"#9c179e\"], [0.4444444444444444, \"#bd3786\"], [0.5555555555555556, \"#d8576b\"], [0.6666666666666666, \"#ed7953\"], [0.7777777777777778, \"#fb9f3a\"], [0.8888888888888888, \"#fdca26\"], [1.0, \"#f0f921\"]], \"type\": \"heatmapgl\"}], \"histogram\": [{\"marker\": {\"colorbar\": {\"outlinewidth\": 0, \"ticks\": \"\"}}, \"type\": \"histogram\"}], \"histogram2d\": [{\"colorbar\": {\"outlinewidth\": 0, \"ticks\": \"\"}, \"colorscale\": [[0.0, \"#0d0887\"], [0.1111111111111111, \"#46039f\"], [0.2222222222222222, \"#7201a8\"], [0.3333333333333333, \"#9c179e\"], [0.4444444444444444, \"#bd3786\"], [0.5555555555555556, \"#d8576b\"], [0.6666666666666666, \"#ed7953\"], [0.7777777777777778, \"#fb9f3a\"], [0.8888888888888888, \"#fdca26\"], [1.0, \"#f0f921\"]], \"type\": \"histogram2d\"}], \"histogram2dcontour\": [{\"colorbar\": {\"outlinewidth\": 0, \"ticks\": \"\"}, \"colorscale\": [[0.0, \"#0d0887\"], [0.1111111111111111, \"#46039f\"], [0.2222222222222222, \"#7201a8\"], [0.3333333333333333, \"#9c179e\"], [0.4444444444444444, \"#bd3786\"], [0.5555555555555556, \"#d8576b\"], [0.6666666666666666, \"#ed7953\"], [0.7777777777777778, \"#fb9f3a\"], [0.8888888888888888, \"#fdca26\"], [1.0, \"#f0f921\"]], \"type\": \"histogram2dcontour\"}], \"mesh3d\": [{\"colorbar\": {\"outlinewidth\": 0, \"ticks\": \"\"}, \"type\": \"mesh3d\"}], \"parcoords\": [{\"line\": {\"colorbar\": {\"outlinewidth\": 0, \"ticks\": \"\"}}, \"type\": \"parcoords\"}], \"pie\": [{\"automargin\": true, \"type\": \"pie\"}], \"scatter\": [{\"marker\": {\"colorbar\": {\"outlinewidth\": 0, \"ticks\": \"\"}}, \"type\": \"scatter\"}], \"scatter3d\": [{\"line\": {\"colorbar\": {\"outlinewidth\": 0, \"ticks\": \"\"}}, \"marker\": {\"colorbar\": {\"outlinewidth\": 0, \"ticks\": \"\"}}, \"type\": \"scatter3d\"}], \"scattercarpet\": [{\"marker\": {\"colorbar\": {\"outlinewidth\": 0, \"ticks\": \"\"}}, \"type\": \"scattercarpet\"}], \"scattergeo\": [{\"marker\": {\"colorbar\": {\"outlinewidth\": 0, \"ticks\": \"\"}}, \"type\": \"scattergeo\"}], \"scattergl\": [{\"marker\": {\"colorbar\": {\"outlinewidth\": 0, \"ticks\": \"\"}}, \"type\": \"scattergl\"}], \"scattermapbox\": [{\"marker\": {\"colorbar\": {\"outlinewidth\": 0, \"ticks\": \"\"}}, \"type\": \"scattermapbox\"}], \"scatterpolar\": [{\"marker\": {\"colorbar\": {\"outlinewidth\": 0, \"ticks\": \"\"}}, \"type\": \"scatterpolar\"}], \"scatterpolargl\": [{\"marker\": {\"colorbar\": {\"outlinewidth\": 0, \"ticks\": \"\"}}, \"type\": \"scatterpolargl\"}], \"scatterternary\": [{\"marker\": {\"colorbar\": {\"outlinewidth\": 0, \"ticks\": \"\"}}, \"type\": \"scatterternary\"}], \"surface\": [{\"colorbar\": {\"outlinewidth\": 0, \"ticks\": \"\"}, \"colorscale\": [[0.0, \"#0d0887\"], [0.1111111111111111, \"#46039f\"], [0.2222222222222222, \"#7201a8\"], [0.3333333333333333, \"#9c179e\"], [0.4444444444444444, \"#bd3786\"], [0.5555555555555556, \"#d8576b\"], [0.6666666666666666, \"#ed7953\"], [0.7777777777777778, \"#fb9f3a\"], [0.8888888888888888, \"#fdca26\"], [1.0, \"#f0f921\"]], \"type\": \"surface\"}], \"table\": [{\"cells\": {\"fill\": {\"color\": \"#EBF0F8\"}, \"line\": {\"color\": \"white\"}}, \"header\": {\"fill\": {\"color\": \"#C8D4E3\"}, \"line\": {\"color\": \"white\"}}, \"type\": \"table\"}]}, \"layout\": {\"annotationdefaults\": {\"arrowcolor\": \"#2a3f5f\", \"arrowhead\": 0, \"arrowwidth\": 1}, \"coloraxis\": {\"colorbar\": {\"outlinewidth\": 0, \"ticks\": \"\"}}, \"colorscale\": {\"diverging\": [[0, \"#8e0152\"], [0.1, \"#c51b7d\"], [0.2, \"#de77ae\"], [0.3, \"#f1b6da\"], [0.4, \"#fde0ef\"], [0.5, \"#f7f7f7\"], [0.6, \"#e6f5d0\"], [0.7, \"#b8e186\"], [0.8, \"#7fbc41\"], [0.9, \"#4d9221\"], [1, \"#276419\"]], \"sequential\": [[0.0, \"#0d0887\"], [0.1111111111111111, \"#46039f\"], [0.2222222222222222, \"#7201a8\"], [0.3333333333333333, \"#9c179e\"], [0.4444444444444444, \"#bd3786\"], [0.5555555555555556, \"#d8576b\"], [0.6666666666666666, \"#ed7953\"], [0.7777777777777778, \"#fb9f3a\"], [0.8888888888888888, \"#fdca26\"], [1.0, \"#f0f921\"]], \"sequentialminus\": [[0.0, \"#0d0887\"], [0.1111111111111111, \"#46039f\"], [0.2222222222222222, \"#7201a8\"], [0.3333333333333333, \"#9c179e\"], [0.4444444444444444, \"#bd3786\"], [0.5555555555555556, \"#d8576b\"], [0.6666666666666666, \"#ed7953\"], [0.7777777777777778, \"#fb9f3a\"], [0.8888888888888888, \"#fdca26\"], [1.0, \"#f0f921\"]]}, \"colorway\": [\"#636efa\", \"#EF553B\", \"#00cc96\", \"#ab63fa\", \"#FFA15A\", \"#19d3f3\", \"#FF6692\", \"#B6E880\", \"#FF97FF\", \"#FECB52\"], \"font\": {\"color\": \"#2a3f5f\"}, \"geo\": {\"bgcolor\": \"white\", \"lakecolor\": \"white\", \"landcolor\": \"#E5ECF6\", \"showlakes\": true, \"showland\": true, \"subunitcolor\": \"white\"}, \"hoverlabel\": {\"align\": \"left\"}, \"hovermode\": \"closest\", \"mapbox\": {\"style\": \"light\"}, \"paper_bgcolor\": \"white\", \"plot_bgcolor\": \"#E5ECF6\", \"polar\": {\"angularaxis\": {\"gridcolor\": \"white\", \"linecolor\": \"white\", \"ticks\": \"\"}, \"bgcolor\": \"#E5ECF6\", \"radialaxis\": {\"gridcolor\": \"white\", \"linecolor\": \"white\", \"ticks\": \"\"}}, \"scene\": {\"xaxis\": {\"backgroundcolor\": \"#E5ECF6\", \"gridcolor\": \"white\", \"gridwidth\": 2, \"linecolor\": \"white\", \"showbackground\": true, \"ticks\": \"\", \"zerolinecolor\": \"white\"}, \"yaxis\": {\"backgroundcolor\": \"#E5ECF6\", \"gridcolor\": \"white\", \"gridwidth\": 2, \"linecolor\": \"white\", \"showbackground\": true, \"ticks\": \"\", \"zerolinecolor\": \"white\"}, \"zaxis\": {\"backgroundcolor\": \"#E5ECF6\", \"gridcolor\": \"white\", \"gridwidth\": 2, \"linecolor\": \"white\", \"showbackground\": true, \"ticks\": \"\", \"zerolinecolor\": \"white\"}}, \"shapedefaults\": {\"line\": {\"color\": \"#2a3f5f\"}}, \"ternary\": {\"aaxis\": {\"gridcolor\": \"white\", \"linecolor\": \"white\", \"ticks\": \"\"}, \"baxis\": {\"gridcolor\": \"white\", \"linecolor\": \"white\", \"ticks\": \"\"}, \"bgcolor\": \"#E5ECF6\", \"caxis\": {\"gridcolor\": \"white\", \"linecolor\": \"white\", \"ticks\": \"\"}}, \"title\": {\"x\": 0.05}, \"xaxis\": {\"automargin\": true, \"gridcolor\": \"white\", \"linecolor\": \"white\", \"ticks\": \"\", \"title\": {\"standoff\": 15}, \"zerolinecolor\": \"white\", \"zerolinewidth\": 2}, \"yaxis\": {\"automargin\": true, \"gridcolor\": \"white\", \"linecolor\": \"white\", \"ticks\": \"\", \"title\": {\"standoff\": 15}, \"zerolinecolor\": \"white\", \"zerolinewidth\": 2}}}, \"xaxis\": {\"anchor\": \"y\", \"domain\": [0.0, 1.0], \"title\": {\"text\": \"Age\"}}, \"xaxis2\": {\"anchor\": \"y2\", \"domain\": [0.0, 1.0], \"matches\": \"x\", \"showgrid\": true, \"showticklabels\": false}, \"yaxis\": {\"anchor\": \"x\", \"domain\": [0.0, 0.7326], \"title\": {\"text\": \"count\"}}, \"yaxis2\": {\"anchor\": \"x2\", \"domain\": [0.7426, 1.0], \"matches\": \"y2\", \"showgrid\": false, \"showline\": false, \"showticklabels\": false, \"ticks\": \"\"}},\n",
       "                        {\"responsive\": true}\n",
       "                    ).then(function(){\n",
       "                            \n",
       "var gd = document.getElementById('efa06ad9-e16d-4747-87cb-d6e07040c305');\n",
       "var x = new MutationObserver(function (mutations, observer) {{\n",
       "        var display = window.getComputedStyle(gd).display;\n",
       "        if (!display || display === 'none') {{\n",
       "            console.log([gd, 'removed!']);\n",
       "            Plotly.purge(gd);\n",
       "            observer.disconnect();\n",
       "        }}\n",
       "}});\n",
       "\n",
       "// Listen for the removal of the full notebook cells\n",
       "var notebookContainer = gd.closest('#notebook-container');\n",
       "if (notebookContainer) {{\n",
       "    x.observe(notebookContainer, {childList: true});\n",
       "}}\n",
       "\n",
       "// Listen for the clearing of the current output cell\n",
       "var outputEl = gd.closest('.output');\n",
       "if (outputEl) {{\n",
       "    x.observe(outputEl, {childList: true});\n",
       "}}\n",
       "\n",
       "                        })\n",
       "                };\n",
       "                });\n",
       "            </script>\n",
       "        </div>"
      ]
     },
     "metadata": {},
     "output_type": "display_data"
    }
   ],
   "source": [
    "# plot a model\n",
    "plot_model(kmeans,plot='distribution',feature='Age') "
   ]
  },
  {
   "cell_type": "code",
   "execution_count": 10,
   "metadata": {
    "scrolled": true
   },
   "outputs": [
    {
     "data": {
      "text/html": [
       "        <script type=\"text/javascript\">\n",
       "        window.PlotlyConfig = {MathJaxConfig: 'local'};\n",
       "        if (window.MathJax) {MathJax.Hub.Config({SVG: {font: \"STIX-Web\"}});}\n",
       "        if (typeof require !== 'undefined') {\n",
       "        require.undef(\"plotly\");\n",
       "        requirejs.config({\n",
       "            paths: {\n",
       "                'plotly': ['https://cdn.plot.ly/plotly-latest.min']\n",
       "            }\n",
       "        });\n",
       "        require(['plotly'], function(Plotly) {\n",
       "            window._Plotly = Plotly;\n",
       "        });\n",
       "        }\n",
       "        </script>\n",
       "        "
      ]
     },
     "metadata": {},
     "output_type": "display_data"
    },
    {
     "data": {
      "application/vnd.plotly.v1+json": {
       "config": {
        "plotlyServerURL": "https://plot.ly"
       },
       "data": [
        {
         "alignmentgroup": "True",
         "bingroup": "x",
         "hoverlabel": {
          "namelength": 0
         },
         "hovertemplate": "Cluster=Cluster 0<br>Income=%{x}<br>count=%{y}",
         "legendgroup": "Cluster=Cluster 0",
         "marker": {
          "color": "#636efa",
          "opacity": 0.7
         },
         "name": "Cluster=Cluster 0",
         "offsetgroup": "Cluster=Cluster 0",
         "orientation": "v",
         "showlegend": true,
         "type": "histogram",
         "x": [
          30267,
          29082,
          22484,
          33490,
          17672,
          26940,
          28409,
          30178,
          31994,
          33610,
          12038,
          35051,
          12000,
          36639,
          22288,
          21250,
          30148,
          26351,
          28401,
          34634,
          34001,
          42018,
          26092,
          28352,
          28779,
          38923,
          25252,
          25566,
          27384,
          28777,
          27168,
          22602,
          28802,
          24520,
          29750,
          33259,
          33311,
          18162,
          26882,
          18812,
          29492,
          18937,
          20719,
          38201,
          19510,
          30794,
          24221,
          32494,
          16950,
          20681,
          20292,
          27179,
          24578,
          34425,
          20440,
          27544,
          27038,
          26127,
          46977,
          27599,
          25701,
          35877,
          19202,
          29204,
          33251,
          35998,
          27169,
          18459,
          29610,
          28497,
          46910,
          17388,
          38042,
          34802,
          25237,
          30178,
          32708,
          31096,
          27169,
          32915,
          25733,
          26355,
          28585,
          27771,
          22286,
          26424,
          17946,
          30812,
          36031,
          30492,
          33170,
          25886,
          15695,
          22008,
          36032,
          23042,
          36463,
          30721,
          23206,
          28408,
          33188,
          27271,
          18724,
          23322,
          28165,
          28727,
          31481,
          26917,
          33636,
          24370,
          24376,
          23400,
          21652,
          22782,
          18244,
          26665,
          24105,
          31366,
          22672,
          30481,
          23854,
          28160,
          33550,
          34524,
          37503,
          35297,
          17851,
          33303,
          19934,
          29029,
          26045,
          30102,
          30756,
          17760,
          15671,
          35484,
          20704,
          29909,
          42592,
          34384,
          32421,
          22616,
          36991,
          34529,
          27705,
          27693,
          24391
         ],
         "xaxis": "x",
         "yaxis": "y"
        },
        {
         "alignmentgroup": "True",
         "customdata": [
          [
           89,
           30267,
           0.2893100658351509,
           14386.351879589123,
           "Cluster 0"
          ],
          [
           91,
           29082,
           0.28248852137129143,
           18794.488169074688,
           "Cluster 0"
          ],
          [
           92,
           22484,
           0.3317732623948493,
           18615.632589788456,
           "Cluster 0"
          ],
          [
           90,
           33490,
           0.4199085281737912,
           17091.904228934392,
           "Cluster 0"
          ],
          [
           93,
           17672,
           0.3032923688871533,
           18516.451810726718,
           "Cluster 0"
          ],
          [
           89,
           26940,
           0.3260051328059917,
           16555.159377159824,
           "Cluster 0"
          ],
          [
           88,
           28409,
           0.30565353367521064,
           17326.175608364214,
           "Cluster 0"
          ],
          [
           87,
           30178,
           0.2793159778940049,
           16123.070750832,
           "Cluster 0"
          ],
          [
           86,
           31994,
           0.24947694035510065,
           18210.088099070614,
           "Cluster 0"
          ],
          [
           82,
           33610,
           0.3012532342412973,
           17755.664940228176,
           "Cluster 0"
          ],
          [
           91,
           12038,
           0.3498032558856572,
           16464.960504438823,
           "Cluster 0"
          ],
          [
           88,
           35051,
           0.3860515062876169,
           17593.24679258195,
           "Cluster 0"
          ],
          [
           87,
           12000,
           0.3429910076112659,
           16180.26525174153,
           "Cluster 0"
          ],
          [
           91,
           36639,
           0.3261988874784867,
           16275.703341192586,
           "Cluster 0"
          ],
          [
           90,
           22288,
           0.2713268321051208,
           18434.099152391347,
           "Cluster 0"
          ],
          [
           85,
           21250,
           0.3104101151420252,
           16033.971166673777,
           "Cluster 0"
          ],
          [
           91,
           30148,
           0.2773889467565771,
           15324.287405101717,
           "Cluster 0"
          ],
          [
           88,
           26351,
           0.3041682062164747,
           14035.917553542351,
           "Cluster 0"
          ],
          [
           85,
           28401,
           0.3694371368158697,
           15990.49413056604,
           "Cluster 0"
          ],
          [
           85,
           34634,
           0.3690001696241634,
           16719.815875018445,
           "Cluster 0"
          ],
          [
           88,
           34001,
           0.33756932388752803,
           15530.934134298665,
           "Cluster 0"
          ],
          [
           84,
           42018,
           0.29799360218993026,
           16148.370454036614,
           "Cluster 0"
          ],
          [
           88,
           26092,
           0.3128732065230775,
           17105.79392615357,
           "Cluster 0"
          ],
          [
           94,
           28352,
           0.37687573531685575,
           16798.886114738052,
           "Cluster 0"
          ],
          [
           86,
           28779,
           0.3365233301816881,
           16047.268331461928,
           "Cluster 0"
          ],
          [
           94,
           38923,
           0.33022601809734325,
           16971.181554867213,
           "Cluster 0"
          ],
          [
           89,
           25252,
           0.32176522093208865,
           16539.364186086335,
           "Cluster 0"
          ],
          [
           87,
           25566,
           0.3167603729756968,
           15188.058749407255,
           "Cluster 0"
          ],
          [
           84,
           27384,
           0.31364671699548896,
           16734.672754073246,
           "Cluster 0"
          ],
          [
           91,
           28777,
           0.324193555035782,
           17808.2662415687,
           "Cluster 0"
          ],
          [
           91,
           27168,
           0.3322388165540652,
           15893.729773516614,
           "Cluster 0"
          ],
          [
           88,
           22602,
           0.35674482887974684,
           16740.343496726702,
           "Cluster 0"
          ],
          [
           88,
           28802,
           0.4083878319987073,
           16293.038332542192,
           "Cluster 0"
          ],
          [
           89,
           24520,
           0.44383270684567067,
           13556.9358834699,
           "Cluster 0"
          ],
          [
           91,
           29750,
           0.2884703320713124,
           19201.11991627576,
           "Cluster 0"
          ],
          [
           90,
           33259,
           0.377571058498228,
           15315.028503741696,
           "Cluster 0"
          ],
          [
           89,
           33311,
           0.3761469685086391,
           17093.06995548225,
           "Cluster 0"
          ],
          [
           83,
           18162,
           0.3013734548863509,
           16029.469213914268,
           "Cluster 0"
          ],
          [
           83,
           26882,
           0.34797963237384105,
           17775.22817123954,
           "Cluster 0"
          ],
          [
           86,
           18812,
           0.34154576038705153,
           16157.734142403422,
           "Cluster 0"
          ],
          [
           84,
           29492,
           0.3336031402694437,
           17954.09505703969,
           "Cluster 0"
          ],
          [
           94,
           18937,
           0.3470950600753079,
           17739.776098377628,
           "Cluster 0"
          ],
          [
           94,
           20719,
           0.336402269797664,
           16281.832273239006,
           "Cluster 0"
          ],
          [
           79,
           38201,
           0.3697828881534748,
           16393.395697309446,
           "Cluster 0"
          ],
          [
           88,
           19510,
           0.3167510258154691,
           16529.20080632274,
           "Cluster 0"
          ],
          [
           85,
           30794,
           0.2862292747117072,
           17096.39150937826,
           "Cluster 0"
          ],
          [
           82,
           24221,
           0.4735496605323542,
           16251.759445212669,
           "Cluster 0"
          ],
          [
           82,
           32494,
           0.3273154026360584,
           16799.444266662453,
           "Cluster 0"
          ],
          [
           91,
           16950,
           0.32300404344763,
           17172.609400509067,
           "Cluster 0"
          ],
          [
           91,
           20681,
           0.3546791690549572,
           18401.08844474873,
           "Cluster 0"
          ],
          [
           89,
           20292,
           0.3121481952107594,
           16023.4456584523,
           "Cluster 0"
          ],
          [
           84,
           27179,
           0.3474234168306904,
           15612.628547766899,
           "Cluster 0"
          ],
          [
           87,
           24578,
           0.37616545875063534,
           17789.247521813828,
           "Cluster 0"
          ],
          [
           81,
           34425,
           0.2726097792323641,
           16262.623790655764,
           "Cluster 0"
          ],
          [
           93,
           20440,
           0.2975730342292497,
           17406.074017844054,
           "Cluster 0"
          ],
          [
           84,
           27544,
           0.2309337663207005,
           18207.36169648481,
           "Cluster 0"
          ],
          [
           95,
           27038,
           0.3313520070109344,
           18126.577451151075,
           "Cluster 0"
          ],
          [
           89,
           26127,
           0.3044743722681633,
           17194.828018777476,
           "Cluster 0"
          ],
          [
           86,
           46977,
           0.2827283910152334,
           15628.957075805025,
           "Cluster 0"
          ],
          [
           85,
           27599,
           0.2819950483303406,
           13470.97060503703,
           "Cluster 0"
          ],
          [
           87,
           25701,
           0.3152205738281265,
           15738.859295516553,
           "Cluster 0"
          ],
          [
           92,
           35877,
           0.3668917159124752,
           17287.907016982324,
           "Cluster 0"
          ],
          [
           89,
           19202,
           0.3819877440174351,
           16626.22236147723,
           "Cluster 0"
          ],
          [
           85,
           29204,
           0.3254914498834959,
           16918.903460369133,
           "Cluster 0"
          ],
          [
           88,
           33251,
           0.3043913649608802,
           18868.24161249696,
           "Cluster 0"
          ],
          [
           86,
           35998,
           0.3216356471662456,
           20000,
           "Cluster 0"
          ],
          [
           94,
           27169,
           0.3141730453838618,
           15061.776215142369,
           "Cluster 0"
          ],
          [
           87,
           18459,
           0.2645499059687874,
           15637.59765457844,
           "Cluster 0"
          ],
          [
           85,
           29610,
           0.3181352453742131,
           18475.487468080933,
           "Cluster 0"
          ],
          [
           83,
           28497,
           0.3938023931664613,
           15510.112981164848,
           "Cluster 0"
          ],
          [
           87,
           46910,
           0.3085616998317755,
           14789.14847617646,
           "Cluster 0"
          ],
          [
           88,
           17388,
           0.4661894446652393,
           16698.6210372462,
           "Cluster 0"
          ],
          [
           84,
           38042,
           0.3660858718547989,
           17465.856285855403,
           "Cluster 0"
          ],
          [
           85,
           34802,
           0.2987969233586417,
           16450.003270402787,
           "Cluster 0"
          ],
          [
           91,
           25237,
           0.3535018242414266,
           17292.733103848248,
           "Cluster 0"
          ],
          [
           90,
           30178,
           0.2823512821567113,
           16182.8384364088,
           "Cluster 0"
          ],
          [
           88,
           32708,
           0.3682153159958089,
           16711.0679804242,
           "Cluster 0"
          ],
          [
           89,
           31096,
           0.2785878455435617,
           17736.94259966666,
           "Cluster 0"
          ],
          [
           88,
           27169,
           0.28005950486141434,
           15260.635546195437,
           "Cluster 0"
          ],
          [
           92,
           32915,
           0.3885749195868542,
           16694.706839244012,
           "Cluster 0"
          ],
          [
           90,
           25733,
           0.3385629680709827,
           17631.56888411863,
           "Cluster 0"
          ],
          [
           85,
           26355,
           0.34234066669498114,
           17971.19363998381,
           "Cluster 0"
          ],
          [
           88,
           28585,
           0.3977396663840213,
           16725.841854363774,
           "Cluster 0"
          ],
          [
           94,
           27771,
           0.3025032231546657,
           17303.957194969433,
           "Cluster 0"
          ],
          [
           84,
           22286,
           0.3955062459001081,
           17886.53737311577,
           "Cluster 0"
          ],
          [
           91,
           26424,
           0.3193886529047028,
           16501.46877669979,
           "Cluster 0"
          ],
          [
           88,
           17946,
           0.26964363039994416,
           16715.160017840968,
           "Cluster 0"
          ],
          [
           87,
           30812,
           0.3144631516753479,
           15238.118997598334,
           "Cluster 0"
          ],
          [
           86,
           36031,
           0.2401766350783482,
           16945.326244896307,
           "Cluster 0"
          ],
          [
           83,
           30492,
           0.3016314685914632,
           15365.85846293255,
           "Cluster 0"
          ],
          [
           83,
           33170,
           0.24107774427464634,
           16620.010473689304,
           "Cluster 0"
          ],
          [
           91,
           25886,
           0.30175376758370465,
           17266.045729118025,
           "Cluster 0"
          ],
          [
           86,
           15695,
           0.25717496647489363,
           17366.186263516567,
           "Cluster 0"
          ],
          [
           89,
           22008,
           0.3819060693389532,
           16458.398097731253,
           "Cluster 0"
          ],
          [
           92,
           36032,
           0.3369683066109672,
           17348.5998812573,
           "Cluster 0"
          ],
          [
           87,
           23042,
           0.3663120107544869,
           18149.035872923057,
           "Cluster 0"
          ],
          [
           84,
           36463,
           0.3536209572557781,
           16563.372591147832,
           "Cluster 0"
          ],
          [
           83,
           30721,
           0.3311418077630257,
           17705.99238527814,
           "Cluster 0"
          ],
          [
           83,
           23206,
           0.3212403632065312,
           16870.672003783384,
           "Cluster 0"
          ],
          [
           85,
           28408,
           0.3580738593579665,
           15063.335797441836,
           "Cluster 0"
          ],
          [
           90,
           33188,
           0.24881006879023135,
           15866.913937696345,
           "Cluster 0"
          ],
          [
           97,
           27271,
           0.28392289527040304,
           14928.165597390327,
           "Cluster 0"
          ],
          [
           92,
           18724,
           0.3278623148176303,
           15341.381109594675,
           "Cluster 0"
          ],
          [
           87,
           23322,
           0.30682119734644964,
           16131.267659393414,
           "Cluster 0"
          ],
          [
           91,
           28165,
           0.3036929225036061,
           17460.179350212424,
           "Cluster 0"
          ],
          [
           83,
           28727,
           0.3082630418510537,
           18205.33626089001,
           "Cluster 0"
          ],
          [
           87,
           31481,
           0.317423970601333,
           16180.68808203422,
           "Cluster 0"
          ],
          [
           91,
           26917,
           0.37671353045834655,
           17986.618644605885,
           "Cluster 0"
          ],
          [
           82,
           33636,
           0.3717829785401914,
           17866.83359752812,
           "Cluster 0"
          ],
          [
           91,
           24370,
           0.2963285713632805,
           16141.048981383728,
           "Cluster 0"
          ],
          [
           90,
           24376,
           0.2812794569155436,
           15134.994226396464,
           "Cluster 0"
          ],
          [
           86,
           23400,
           0.27803553844702666,
           15215.28126373834,
           "Cluster 0"
          ],
          [
           85,
           21652,
           0.3184561372216806,
           14175.16988549895,
           "Cluster 0"
          ],
          [
           90,
           22782,
           0.3563068710287742,
           15924.071707885845,
           "Cluster 0"
          ],
          [
           84,
           18244,
           0.29266337446440194,
           17815.348406878897,
           "Cluster 0"
          ],
          [
           87,
           26665,
           0.4021456613889217,
           17376.914743318182,
           "Cluster 0"
          ],
          [
           84,
           24105,
           0.2718090229374729,
           16524.902538052145,
           "Cluster 0"
          ],
          [
           88,
           31366,
           0.3796208481334848,
           16079.622699815933,
           "Cluster 0"
          ],
          [
           91,
           22672,
           0.2710645345158169,
           15407.646761130874,
           "Cluster 0"
          ],
          [
           84,
           30481,
           0.3970228936031003,
           16837.205964813103,
           "Cluster 0"
          ],
          [
           94,
           23854,
           0.3144466826182581,
           16828.410118749016,
           "Cluster 0"
          ],
          [
           89,
           28160,
           0.3388488510290433,
           15607.061781887898,
           "Cluster 0"
          ],
          [
           92,
           33550,
           0.3685156285793065,
           17106.32591058189,
           "Cluster 0"
          ],
          [
           89,
           34524,
           0.348118273264174,
           14051.256515312789,
           "Cluster 0"
          ],
          [
           90,
           37503,
           0.35778831446458764,
           17258.57497274541,
           "Cluster 0"
          ],
          [
           90,
           35297,
           0.35514901905663643,
           16091.401954058958,
           "Cluster 0"
          ],
          [
           88,
           17851,
           0.2898659849627828,
           17472.470686173863,
           "Cluster 0"
          ],
          [
           88,
           33303,
           0.39971568554521497,
           15232.598068845287,
           "Cluster 0"
          ],
          [
           93,
           19934,
           0.20314023979537812,
           17969.693768505334,
           "Cluster 0"
          ],
          [
           90,
           29029,
           0.30375897133462404,
           15592.991530526488,
           "Cluster 0"
          ],
          [
           87,
           26045,
           0.3752921226023748,
           15903.558359374925,
           "Cluster 0"
          ],
          [
           87,
           30102,
           0.3903905943444749,
           16330.081190027211,
           "Cluster 0"
          ],
          [
           91,
           30756,
           0.30369803009825364,
           15492.004711465304,
           "Cluster 0"
          ],
          [
           87,
           17760,
           0.34877754843050746,
           16869.507130301474,
           "Cluster 0"
          ],
          [
           87,
           15671,
           0.3507250914944152,
           14326.601120246103,
           "Cluster 0"
          ],
          [
           92,
           35484,
           0.3970636039704499,
           17324.045112814925,
           "Cluster 0"
          ],
          [
           84,
           20704,
           0.3794963151514172,
           16816.911895743782,
           "Cluster 0"
          ],
          [
           87,
           29909,
           0.3421516318130469,
           18142.232746738577,
           "Cluster 0"
          ],
          [
           87,
           42592,
           0.35528968203827593,
           18086.287157859304,
           "Cluster 0"
          ],
          [
           83,
           34384,
           0.3247186821733417,
           14783.379085794499,
           "Cluster 0"
          ],
          [
           79,
           32421,
           0.3032762059432743,
           15319.467662272391,
           "Cluster 0"
          ],
          [
           92,
           22616,
           0.3228506824321553,
           17275.66131398456,
           "Cluster 0"
          ],
          [
           91,
           36991,
           0.2685979050949868,
           19047.77233878285,
           "Cluster 0"
          ],
          [
           83,
           34529,
           0.3172075114569807,
           16517.208746949746,
           "Cluster 0"
          ],
          [
           86,
           27705,
           0.3293769514872405,
           17130.85610211788,
           "Cluster 0"
          ],
          [
           84,
           27693,
           0.3670629731870412,
           17879.558905551898,
           "Cluster 0"
          ],
          [
           82,
           24391,
           0.27610134635529604,
           17053.03010738692,
           "Cluster 0"
          ]
         ],
         "hoverlabel": {
          "namelength": 0
         },
         "hovertemplate": "Cluster=%{customdata[4]}<br>Income=%{customdata[1]}<br>Age=%{customdata[0]}<br>SpendingScore=%{customdata[2]}<br>Savings=%{customdata[3]}",
         "legendgroup": "Cluster=Cluster 0",
         "marker": {
          "color": "#636efa"
         },
         "name": "Cluster=Cluster 0",
         "notched": true,
         "offsetgroup": "Cluster=Cluster 0",
         "showlegend": false,
         "type": "box",
         "x": [
          30267,
          29082,
          22484,
          33490,
          17672,
          26940,
          28409,
          30178,
          31994,
          33610,
          12038,
          35051,
          12000,
          36639,
          22288,
          21250,
          30148,
          26351,
          28401,
          34634,
          34001,
          42018,
          26092,
          28352,
          28779,
          38923,
          25252,
          25566,
          27384,
          28777,
          27168,
          22602,
          28802,
          24520,
          29750,
          33259,
          33311,
          18162,
          26882,
          18812,
          29492,
          18937,
          20719,
          38201,
          19510,
          30794,
          24221,
          32494,
          16950,
          20681,
          20292,
          27179,
          24578,
          34425,
          20440,
          27544,
          27038,
          26127,
          46977,
          27599,
          25701,
          35877,
          19202,
          29204,
          33251,
          35998,
          27169,
          18459,
          29610,
          28497,
          46910,
          17388,
          38042,
          34802,
          25237,
          30178,
          32708,
          31096,
          27169,
          32915,
          25733,
          26355,
          28585,
          27771,
          22286,
          26424,
          17946,
          30812,
          36031,
          30492,
          33170,
          25886,
          15695,
          22008,
          36032,
          23042,
          36463,
          30721,
          23206,
          28408,
          33188,
          27271,
          18724,
          23322,
          28165,
          28727,
          31481,
          26917,
          33636,
          24370,
          24376,
          23400,
          21652,
          22782,
          18244,
          26665,
          24105,
          31366,
          22672,
          30481,
          23854,
          28160,
          33550,
          34524,
          37503,
          35297,
          17851,
          33303,
          19934,
          29029,
          26045,
          30102,
          30756,
          17760,
          15671,
          35484,
          20704,
          29909,
          42592,
          34384,
          32421,
          22616,
          36991,
          34529,
          27705,
          27693,
          24391
         ],
         "xaxis": "x2",
         "yaxis": "y2"
        },
        {
         "alignmentgroup": "True",
         "bingroup": "x",
         "hoverlabel": {
          "namelength": 0
         },
         "hovertemplate": "Cluster=Cluster 1<br>Income=%{x}<br>count=%{y}",
         "legendgroup": "Cluster=Cluster 1",
         "marker": {
          "color": "#EF553B",
          "opacity": 0.7
         },
         "name": "Cluster=Cluster 1",
         "offsetgroup": "Cluster=Cluster 1",
         "orientation": "v",
         "showlegend": true,
         "type": "histogram",
         "x": [
          70430,
          69655,
          71229,
          69408,
          73495,
          65942,
          73895,
          75078,
          62747,
          75505,
          59243,
          77559,
          77052,
          70272,
          65608,
          76573,
          71672,
          69460,
          77648,
          74282,
          70369,
          75495,
          71171,
          76410,
          56875,
          78801,
          67731,
          67372,
          73675,
          68663,
          78837,
          72055,
          67370,
          80431,
          72086,
          82199,
          80248,
          64768,
          68842,
          76831,
          78611,
          68944,
          69247,
          78702,
          73516,
          73596,
          90422,
          79794,
          70054,
          80914,
          65914,
          74460,
          73350,
          64803,
          56321,
          67401,
          70676,
          70580,
          72027,
          65313,
          76052,
          75599,
          68038,
          72060,
          63476,
          78992,
          82343,
          78078,
          77978,
          69326,
          69115,
          67346,
          74430,
          62886,
          80876,
          73057,
          65647,
          64331,
          77769,
          76594,
          70798,
          86484,
          85761,
          70259,
          79969,
          69879,
          73480,
          72571,
          64866,
          72815,
          71692,
          63596,
          62650,
          71436,
          65736,
          70663,
          80705,
          84386,
          75757,
          71050,
          68698,
          67781,
          66017,
          80093,
          67988,
          88361,
          82526,
          74576,
          72588,
          81799,
          74751,
          74373,
          76500,
          71933,
          71621,
          76667,
          78761,
          76955,
          65700,
          69738,
          63866,
          74117,
          63846,
          70012,
          75332,
          73245,
          74356,
          62117,
          69001,
          60493,
          69741,
          71056,
          74340,
          79470,
          77101,
          76364,
          74014,
          67030,
          68463,
          74996,
          65340,
          60059,
          78413,
          69698,
          68279,
          76057,
          67491,
          83351,
          71033,
          71302,
          80278,
          67274,
          65054,
          69391,
          78635,
          86283,
          69849
         ],
         "xaxis": "x",
         "yaxis": "y"
        },
        {
         "alignmentgroup": "True",
         "customdata": [
          [
           65,
           70430,
           0.6969942581249643,
           6971.164886262858,
           "Cluster 1"
          ],
          [
           57,
           69655,
           0.6748906779058501,
           5889.831167170132,
           "Cluster 1"
          ],
          [
           65,
           71229,
           0.7878897626638453,
           9024.337460598084,
           "Cluster 1"
          ],
          [
           59,
           69408,
           0.8799059975919311,
           6491.771149967824,
           "Cluster 1"
          ],
          [
           61,
           73495,
           0.7727563051023116,
           9288.189785744367,
           "Cluster 1"
          ],
          [
           60,
           65942,
           0.8005783854654352,
           5253.2650066086435,
           "Cluster 1"
          ],
          [
           55,
           73895,
           0.7471254610291731,
           5563.906948891499,
           "Cluster 1"
          ],
          [
           63,
           75078,
           0.7831591503681397,
           7468.8510795028005,
           "Cluster 1"
          ],
          [
           62,
           62747,
           0.7705945596869115,
           5852.326242628098,
           "Cluster 1"
          ],
          [
           59,
           75505,
           0.7682786576081454,
           5006.528691371692,
           "Cluster 1"
          ],
          [
           67,
           59243,
           0.7436599996604758,
           5446.557472721708,
           "Cluster 1"
          ],
          [
           58,
           77559,
           0.7122963723872477,
           5742.524488088997,
           "Cluster 1"
          ],
          [
           66,
           77052,
           0.7072624347132287,
           6296.417311227459,
           "Cluster 1"
          ],
          [
           58,
           70272,
           0.8229596005059499,
           5290.087044285296,
           "Cluster 1"
          ],
          [
           57,
           65608,
           0.7662313009024402,
           6904.318224287022,
           "Cluster 1"
          ],
          [
           57,
           76573,
           0.8405990704520518,
           6225.3760824332285,
           "Cluster 1"
          ],
          [
           66,
           71672,
           0.7538892176112998,
           7387.835437850721,
           "Cluster 1"
          ],
          [
           59,
           69460,
           0.7527238381125997,
           6101.372146632121,
           "Cluster 1"
          ],
          [
           68,
           77648,
           0.7965446939835457,
           6190.864082788901,
           "Cluster 1"
          ],
          [
           61,
           74282,
           0.6922364738673796,
           7286.754751068365,
           "Cluster 1"
          ],
          [
           58,
           70369,
           0.9045204855363144,
           7461.567502649429,
           "Cluster 1"
          ],
          [
           59,
           75495,
           0.7945029052198103,
           6702.9519263157545,
           "Cluster 1"
          ],
          [
           61,
           71171,
           0.7210804930623951,
           6457.790641224788,
           "Cluster 1"
          ],
          [
           64,
           76410,
           0.7756041848937439,
           6135.308197117819,
           "Cluster 1"
          ],
          [
           63,
           56875,
           0.7622805817657738,
           7837.233619544163,
           "Cluster 1"
          ],
          [
           64,
           78801,
           0.7403674891662984,
           6420.9440712002615,
           "Cluster 1"
          ],
          [
           62,
           67731,
           0.8191699488980382,
           5956.555677017446,
           "Cluster 1"
          ],
          [
           61,
           67372,
           0.7340673095092516,
           6618.549336247915,
           "Cluster 1"
          ],
          [
           62,
           73675,
           0.7966191667425384,
           4688.657157271711,
           "Cluster 1"
          ],
          [
           67,
           68663,
           0.7738336308243648,
           7451.9940140258705,
           "Cluster 1"
          ],
          [
           61,
           78837,
           0.7459489746307642,
           6811.303235949058,
           "Cluster 1"
          ],
          [
           57,
           72055,
           0.7549723463413129,
           6544.847498075687,
           "Cluster 1"
          ],
          [
           63,
           67370,
           0.8999405530923943,
           5985.077029740457,
           "Cluster 1"
          ],
          [
           56,
           80431,
           0.7594315957853627,
           8150.55743948241,
           "Cluster 1"
          ],
          [
           51,
           72086,
           0.7911147257599156,
           6732.096068632267,
           "Cluster 1"
          ],
          [
           59,
           82199,
           0.8035145098215853,
           5880.814834306347,
           "Cluster 1"
          ],
          [
           58,
           80248,
           0.7249557054919687,
           7641.16038162423,
           "Cluster 1"
          ],
          [
           55,
           64768,
           0.7332568512323248,
           6486.353872691102,
           "Cluster 1"
          ],
          [
           61,
           68842,
           0.7544065421993587,
           4077.6586565080543,
           "Cluster 1"
          ],
          [
           55,
           76831,
           0.7421137340413241,
           7806.398750466399,
           "Cluster 1"
          ],
          [
           58,
           78611,
           0.910416682938019,
           7665.884294519009,
           "Cluster 1"
          ],
          [
           68,
           68944,
           0.7455674638713768,
           6828.709702363695,
           "Cluster 1"
          ],
          [
           58,
           69247,
           0.7237211912021976,
           8715.67957429646,
           "Cluster 1"
          ],
          [
           67,
           78702,
           0.7632736815688779,
           5030.364838791924,
           "Cluster 1"
          ],
          [
           56,
           73516,
           0.806499154055182,
           7696.832373798451,
           "Cluster 1"
          ],
          [
           59,
           73596,
           0.8567042188430352,
           8281.718740320448,
           "Cluster 1"
          ],
          [
           59,
           90422,
           0.8062102206275251,
           6746.281083820821,
           "Cluster 1"
          ],
          [
           57,
           79794,
           0.82240840085096,
           5893.975284946178,
           "Cluster 1"
          ],
          [
           60,
           70054,
           0.7143393610830643,
           6609.918507412548,
           "Cluster 1"
          ],
          [
           67,
           80914,
           0.8196642592960329,
           6833.507136694643,
           "Cluster 1"
          ],
          [
           61,
           65914,
           0.7781022309770123,
           6406.8771303520325,
           "Cluster 1"
          ],
          [
           60,
           74460,
           0.7545393292392412,
           7567.6476522203675,
           "Cluster 1"
          ],
          [
           59,
           73350,
           0.6797735912164855,
           6710.5740183754415,
           "Cluster 1"
          ],
          [
           57,
           64803,
           0.7285849289103553,
           6255.552641057161,
           "Cluster 1"
          ],
          [
           59,
           56321,
           0.806565925193039,
           6129.288986032587,
           "Cluster 1"
          ],
          [
           59,
           67401,
           0.7114339697492305,
           6529.586309935448,
           "Cluster 1"
          ],
          [
           58,
           70676,
           0.7640283880376706,
           7664.415650964042,
           "Cluster 1"
          ],
          [
           63,
           70580,
           0.7665090449070475,
           7262.108723452133,
           "Cluster 1"
          ],
          [
           61,
           72027,
           0.7623249166772856,
           6926.123598416466,
           "Cluster 1"
          ],
          [
           56,
           65313,
           0.7546029986455771,
           5574.2436767070985,
           "Cluster 1"
          ],
          [
           58,
           76052,
           0.7215881830727278,
           6681.9843863770275,
           "Cluster 1"
          ],
          [
           56,
           75599,
           0.7737370986430746,
           6799.625271842961,
           "Cluster 1"
          ],
          [
           59,
           68038,
           0.8014869916095588,
           7719.283632687176,
           "Cluster 1"
          ],
          [
           61,
           72060,
           0.8334590233217959,
           7924.6411381540165,
           "Cluster 1"
          ],
          [
           60,
           63476,
           0.7519000198498227,
           7543.542801728056,
           "Cluster 1"
          ],
          [
           56,
           78992,
           0.8122757021441627,
           7285.18043685174,
           "Cluster 1"
          ],
          [
           63,
           82343,
           0.7323186222078123,
           8090.706739679063,
           "Cluster 1"
          ],
          [
           58,
           78078,
           0.7837795500405715,
           6483.049643745244,
           "Cluster 1"
          ],
          [
           59,
           77978,
           0.7188952048526104,
           8316.31110205122,
           "Cluster 1"
          ],
          [
           62,
           69326,
           0.7980123380544829,
           7003.095703317772,
           "Cluster 1"
          ],
          [
           59,
           69115,
           0.7598834338453199,
           5997.690199856996,
           "Cluster 1"
          ],
          [
           59,
           67346,
           0.7251568963089163,
           8857.849116294088,
           "Cluster 1"
          ],
          [
           65,
           74430,
           0.7517741617758547,
           7145.251128357927,
           "Cluster 1"
          ],
          [
           64,
           62886,
           0.7480162682831766,
           8302.588638401632,
           "Cluster 1"
          ],
          [
           59,
           80876,
           0.6573140731575163,
           7232.825142650888,
           "Cluster 1"
          ],
          [
           59,
           73057,
           0.8302949092020397,
           7819.393215767329,
           "Cluster 1"
          ],
          [
           61,
           65647,
           0.7174899773841509,
           7497.231607003855,
           "Cluster 1"
          ],
          [
           64,
           64331,
           0.7571277508774099,
           5815.660096290825,
           "Cluster 1"
          ],
          [
           58,
           77769,
           0.7913287771988531,
           6559.8299230048315,
           "Cluster 1"
          ],
          [
           57,
           76594,
           0.7906578552491133,
           6584.654681310476,
           "Cluster 1"
          ],
          [
           58,
           70798,
           0.7535283874245788,
           5330.73989989779,
           "Cluster 1"
          ],
          [
           56,
           86484,
           0.7321233689266612,
           8777.496176839057,
           "Cluster 1"
          ],
          [
           63,
           85761,
           0.8005979105724924,
           7175.090218501247,
           "Cluster 1"
          ],
          [
           58,
           70259,
           0.7697129169369328,
           7101.674514204499,
           "Cluster 1"
          ],
          [
           60,
           79969,
           0.812104912914789,
           4879.334872972362,
           "Cluster 1"
          ],
          [
           58,
           69879,
           0.7209986871945887,
           6669.033518051874,
           "Cluster 1"
          ],
          [
           62,
           73480,
           0.7391949797931453,
           6277.675150528886,
           "Cluster 1"
          ],
          [
           66,
           72571,
           0.8115483367376335,
           6509.41150610998,
           "Cluster 1"
          ],
          [
           66,
           64866,
           0.7665941891374249,
           5037.899138583947,
           "Cluster 1"
          ],
          [
           63,
           72815,
           0.8200359737627068,
           5504.385543801038,
           "Cluster 1"
          ],
          [
           64,
           71692,
           0.8426521453196145,
           7002.9765543033545,
           "Cluster 1"
          ],
          [
           62,
           63596,
           0.7453271943508174,
           6142.201619345869,
           "Cluster 1"
          ],
          [
           62,
           62650,
           0.766572365027147,
           7533.673609198676,
           "Cluster 1"
          ],
          [
           60,
           71436,
           0.8320590985324969,
           8557.86012627717,
           "Cluster 1"
          ],
          [
           65,
           65736,
           0.7785687658100923,
           6387.2196944302905,
           "Cluster 1"
          ],
          [
           60,
           70663,
           0.7153396972946453,
           7557.937593550947,
           "Cluster 1"
          ],
          [
           63,
           80705,
           0.7626699527314824,
           5154.330634621805,
           "Cluster 1"
          ],
          [
           56,
           84386,
           0.7849450699605269,
           7270.41953428175,
           "Cluster 1"
          ],
          [
           58,
           75757,
           0.8097944168848634,
           7390.5772934370325,
           "Cluster 1"
          ],
          [
           62,
           71050,
           0.7353568506694507,
           6988.197368273879,
           "Cluster 1"
          ],
          [
           56,
           68698,
           0.7162678503859907,
           7070.967006969191,
           "Cluster 1"
          ],
          [
           59,
           67781,
           0.7225483489421433,
           6701.527664794541,
           "Cluster 1"
          ],
          [
           65,
           66017,
           0.7861892594159869,
           6159.662935925753,
           "Cluster 1"
          ],
          [
           62,
           80093,
           0.6909167811268888,
           6756.749072752337,
           "Cluster 1"
          ],
          [
           59,
           67988,
           0.8114707012366371,
           7255.903114334659,
           "Cluster 1"
          ],
          [
           64,
           88361,
           0.7745562258521365,
           7240.759687480846,
           "Cluster 1"
          ],
          [
           66,
           82526,
           0.7696800667721441,
           6205.662650191712,
           "Cluster 1"
          ],
          [
           59,
           74576,
           0.7812961239072382,
           10547.775367695343,
           "Cluster 1"
          ],
          [
           59,
           72588,
           0.8017156979122673,
           6300.8437570950255,
           "Cluster 1"
          ],
          [
           59,
           81799,
           0.7910820467274178,
           5417.661426197439,
           "Cluster 1"
          ],
          [
           62,
           74751,
           0.7026569520102857,
           9258.99296503407,
           "Cluster 1"
          ],
          [
           59,
           74373,
           0.7656795619984281,
           7346.334503537976,
           "Cluster 1"
          ],
          [
           54,
           76500,
           0.7851978501165687,
           6878.884248553974,
           "Cluster 1"
          ],
          [
           61,
           71933,
           0.8441067966472876,
           8022.208541100706,
           "Cluster 1"
          ],
          [
           55,
           71621,
           0.7533426836166189,
           7780.589913955977,
           "Cluster 1"
          ],
          [
           53,
           76667,
           0.7600576501232099,
           5168.225474983632,
           "Cluster 1"
          ],
          [
           55,
           78761,
           0.8271741985123882,
           8376.74947779104,
           "Cluster 1"
          ],
          [
           61,
           76955,
           0.7771175646074471,
           7467.036702314494,
           "Cluster 1"
          ],
          [
           59,
           65700,
           0.8114711740198254,
           6932.487932327357,
           "Cluster 1"
          ],
          [
           59,
           69738,
           0.7421121217155721,
           7151.650866065035,
           "Cluster 1"
          ],
          [
           56,
           63866,
           0.7618879582513512,
           7762.255066659051,
           "Cluster 1"
          ],
          [
           61,
           74117,
           0.7702140596767938,
           5103.609230428381,
           "Cluster 1"
          ],
          [
           61,
           63846,
           0.8278622414878984,
           7283.504772674617,
           "Cluster 1"
          ],
          [
           60,
           70012,
           0.7944610508231513,
           7263.242447729872,
           "Cluster 1"
          ],
          [
           57,
           75332,
           0.7215024376129366,
           6845.056822204781,
           "Cluster 1"
          ],
          [
           61,
           73245,
           0.811160373170345,
           7413.784487271215,
           "Cluster 1"
          ],
          [
           55,
           74356,
           0.7998269700906482,
           6484.630737953294,
           "Cluster 1"
          ],
          [
           53,
           62117,
           0.7331388477995737,
           7500.452413594261,
           "Cluster 1"
          ],
          [
           61,
           69001,
           0.8216687745413516,
           5074.12121172259,
           "Cluster 1"
          ],
          [
           64,
           60493,
           0.7680563479442216,
           7708.112609459162,
           "Cluster 1"
          ],
          [
           62,
           69741,
           0.8462196017575947,
           5781.658046536959,
           "Cluster 1"
          ],
          [
           55,
           71056,
           0.7565897119333272,
           7464.163256732262,
           "Cluster 1"
          ],
          [
           58,
           74340,
           0.7351650452097145,
           7259.540921675672,
           "Cluster 1"
          ],
          [
           57,
           79470,
           0.7734352958312237,
           6773.049089777121,
           "Cluster 1"
          ],
          [
           58,
           77101,
           0.7667195837506832,
           8148.49184821177,
           "Cluster 1"
          ],
          [
           64,
           76364,
           0.6993887663543108,
           5772.1171358549755,
           "Cluster 1"
          ],
          [
           57,
           74014,
           0.787378081122989,
           5783.846928267082,
           "Cluster 1"
          ],
          [
           62,
           67030,
           0.7467384433463651,
           6740.765182071713,
           "Cluster 1"
          ],
          [
           56,
           68463,
           0.8157116929554062,
           8995.180087953215,
           "Cluster 1"
          ],
          [
           53,
           74996,
           0.7387310917031671,
           7821.447803561914,
           "Cluster 1"
          ],
          [
           60,
           65340,
           0.7316484923943142,
           8354.196507802662,
           "Cluster 1"
          ],
          [
           56,
           60059,
           0.7275840223364691,
           7166.858605155183,
           "Cluster 1"
          ],
          [
           62,
           78413,
           0.7907090657200839,
           6961.2041923680945,
           "Cluster 1"
          ],
          [
           61,
           69698,
           0.7416839698444291,
           8777.077471725162,
           "Cluster 1"
          ],
          [
           62,
           68279,
           0.7196850779929922,
           7028.675510384212,
           "Cluster 1"
          ],
          [
           55,
           76057,
           0.8778279844516369,
           6132.898204816149,
           "Cluster 1"
          ],
          [
           60,
           67491,
           0.84661848692906,
           7180.713788260257,
           "Cluster 1"
          ],
          [
           58,
           83351,
           0.8406978038692191,
           6673.909711092488,
           "Cluster 1"
          ],
          [
           61,
           71033,
           0.8380950724014863,
           9456.876962701137,
           "Cluster 1"
          ],
          [
           59,
           71302,
           0.7020090041734849,
           6595.726010227134,
           "Cluster 1"
          ],
          [
           58,
           80278,
           0.8233589910091558,
           6335.97831998802,
           "Cluster 1"
          ],
          [
           56,
           67274,
           0.7798516671891869,
           6652.391024403152,
           "Cluster 1"
          ],
          [
           60,
           65054,
           0.7086131723969877,
           5417.237293788358,
           "Cluster 1"
          ],
          [
           62,
           69391,
           0.7921059737158539,
           6518.283467894094,
           "Cluster 1"
          ],
          [
           58,
           78635,
           0.7864400503429185,
           7162.739043055361,
           "Cluster 1"
          ],
          [
           64,
           86283,
           0.7568019251873561,
           6852.5548669147165,
           "Cluster 1"
          ],
          [
           63,
           69849,
           0.7403870808915297,
           7670.6909659413295,
           "Cluster 1"
          ]
         ],
         "hoverlabel": {
          "namelength": 0
         },
         "hovertemplate": "Cluster=%{customdata[4]}<br>Income=%{customdata[1]}<br>Age=%{customdata[0]}<br>SpendingScore=%{customdata[2]}<br>Savings=%{customdata[3]}",
         "legendgroup": "Cluster=Cluster 1",
         "marker": {
          "color": "#EF553B"
         },
         "name": "Cluster=Cluster 1",
         "notched": true,
         "offsetgroup": "Cluster=Cluster 1",
         "showlegend": false,
         "type": "box",
         "x": [
          70430,
          69655,
          71229,
          69408,
          73495,
          65942,
          73895,
          75078,
          62747,
          75505,
          59243,
          77559,
          77052,
          70272,
          65608,
          76573,
          71672,
          69460,
          77648,
          74282,
          70369,
          75495,
          71171,
          76410,
          56875,
          78801,
          67731,
          67372,
          73675,
          68663,
          78837,
          72055,
          67370,
          80431,
          72086,
          82199,
          80248,
          64768,
          68842,
          76831,
          78611,
          68944,
          69247,
          78702,
          73516,
          73596,
          90422,
          79794,
          70054,
          80914,
          65914,
          74460,
          73350,
          64803,
          56321,
          67401,
          70676,
          70580,
          72027,
          65313,
          76052,
          75599,
          68038,
          72060,
          63476,
          78992,
          82343,
          78078,
          77978,
          69326,
          69115,
          67346,
          74430,
          62886,
          80876,
          73057,
          65647,
          64331,
          77769,
          76594,
          70798,
          86484,
          85761,
          70259,
          79969,
          69879,
          73480,
          72571,
          64866,
          72815,
          71692,
          63596,
          62650,
          71436,
          65736,
          70663,
          80705,
          84386,
          75757,
          71050,
          68698,
          67781,
          66017,
          80093,
          67988,
          88361,
          82526,
          74576,
          72588,
          81799,
          74751,
          74373,
          76500,
          71933,
          71621,
          76667,
          78761,
          76955,
          65700,
          69738,
          63866,
          74117,
          63846,
          70012,
          75332,
          73245,
          74356,
          62117,
          69001,
          60493,
          69741,
          71056,
          74340,
          79470,
          77101,
          76364,
          74014,
          67030,
          68463,
          74996,
          65340,
          60059,
          78413,
          69698,
          68279,
          76057,
          67491,
          83351,
          71033,
          71302,
          80278,
          67274,
          65054,
          69391,
          78635,
          86283,
          69849
         ],
         "xaxis": "x2",
         "yaxis": "y2"
        },
        {
         "alignmentgroup": "True",
         "bingroup": "x",
         "hoverlabel": {
          "namelength": 0
         },
         "hovertemplate": "Cluster=Cluster 2<br>Income=%{x}<br>count=%{y}",
         "legendgroup": "Cluster=Cluster 2",
         "marker": {
          "color": "#00cc96",
          "opacity": 0.7
         },
         "name": "Cluster=Cluster 2",
         "offsetgroup": "Cluster=Cluster 2",
         "orientation": "v",
         "showlegend": true,
         "type": "histogram",
         "x": [
          104738,
          112531,
          109809,
          110882,
          100661,
          123651,
          124372,
          108499,
          96241,
          106588,
          101503,
          106894,
          107302,
          109038,
          103204,
          98033,
          101811,
          101905,
          117943,
          112943,
          108651,
          100158,
          124170,
          105006,
          110732,
          104678,
          92569,
          114406,
          107958,
          99161,
          114642,
          106543,
          105036,
          103223,
          98137,
          105826,
          117668,
          106757,
          107100,
          119697,
          101943,
          108417,
          122696,
          101073,
          120678,
          94775,
          122879,
          107963,
          99949,
          99780,
          111389,
          98030,
          101206,
          107877,
          119366,
          102618,
          106014,
          101209,
          101058,
          101481,
          119429,
          98993,
          109152,
          117564,
          102291,
          106772,
          107994,
          114833,
          107932,
          110106,
          100592,
          116616,
          111449,
          94762,
          100540,
          96336,
          117050,
          126601,
          104285,
          104284,
          110595,
          94964,
          101641,
          100275,
          97750,
          110564,
          107115,
          111426,
          108004,
          128378,
          114555,
          116451,
          98821,
          105991,
          102035,
          106664,
          89598,
          107255,
          115237,
          126257,
          114767,
          118169,
          117112,
          111813,
          105667,
          91375,
          117347,
          99611,
          99457,
          97831,
          108067,
          106345,
          107926,
          108581,
          98165,
          106350,
          107525,
          115689,
          102028,
          102056,
          111937,
          97678,
          108635,
          121642,
          106990,
          97965,
          108928,
          95536,
          107131,
          101691,
          104388,
          102308,
          99637,
          110860,
          112878,
          115146,
          111303,
          108345,
          110439,
          98752,
          116247,
          106758,
          99216,
          113659,
          110582,
          128596,
          103428,
          109075,
          105567,
          118794,
          119877
         ],
         "xaxis": "x",
         "yaxis": "y"
        },
        {
         "alignmentgroup": "True",
         "customdata": [
          [
           38,
           104738,
           0.4059588503683713,
           15634.313868027426,
           "Cluster 2"
          ],
          [
           29,
           112531,
           0.3427661743407053,
           14361.334979176147,
           "Cluster 2"
          ],
          [
           36,
           109809,
           0.355660187354229,
           14978.502144076487,
           "Cluster 2"
          ],
          [
           31,
           110882,
           0.3252806065281125,
           14004.61374291491,
           "Cluster 2"
          ],
          [
           39,
           100661,
           0.3766412501689559,
           16873.128638209408,
           "Cluster 2"
          ],
          [
           88,
           123651,
           0.02902714029105191,
           13504.577571797938,
           "Cluster 2"
          ],
          [
           86,
           124372,
           0,
           15374.465952896948,
           "Cluster 2"
          ],
          [
           35,
           108499,
           0.2612719132713158,
           16046.08301542436,
           "Cluster 2"
          ],
          [
           30,
           96241,
           0.3773384910014747,
           15485.156009739387,
           "Cluster 2"
          ],
          [
           35,
           106588,
           0.3422142051018276,
           15648.65667046098,
           "Cluster 2"
          ],
          [
           25,
           101503,
           0.28846885607409833,
           15026.262148820157,
           "Cluster 2"
          ],
          [
           37,
           106894,
           0.3432357689892068,
           14075.217365594552,
           "Cluster 2"
          ],
          [
           30,
           107302,
           0.2396771776819925,
           13993.24401848172,
           "Cluster 2"
          ],
          [
           36,
           109038,
           0.3242132027621541,
           16502.389477657125,
           "Cluster 2"
          ],
          [
           34,
           103204,
           0.30108735378393314,
           15149.810421179482,
           "Cluster 2"
          ],
          [
           33,
           98033,
           0.30951111585458696,
           15774.690605560645,
           "Cluster 2"
          ],
          [
           36,
           101811,
           0.3406667947415742,
           15048.89961242685,
           "Cluster 2"
          ],
          [
           32,
           101905,
           0.3074763135926987,
           17532.16478349903,
           "Cluster 2"
          ],
          [
           83,
           117943,
           0.07721324003343044,
           15391.95219220651,
           "Cluster 2"
          ],
          [
           31,
           112943,
           0.34123950330738706,
           14297.702229457283,
           "Cluster 2"
          ],
          [
           37,
           108651,
           0.1923436158292553,
           15881.242198260683,
           "Cluster 2"
          ],
          [
           36,
           100158,
           0.31606041409802405,
           13832.379370734528,
           "Cluster 2"
          ],
          [
           90,
           124170,
           0.030751314393913882,
           14773.407205599842,
           "Cluster 2"
          ],
          [
           31,
           105006,
           0.3741658782934958,
           15419.41776312329,
           "Cluster 2"
          ],
          [
           37,
           110732,
           0.3226762482802641,
           14265.351840497759,
           "Cluster 2"
          ],
          [
           35,
           104678,
           0.3279928581002429,
           15422.055799721802,
           "Cluster 2"
          ],
          [
           33,
           92569,
           0.33607980556714456,
           13765.685995748696,
           "Cluster 2"
          ],
          [
           84,
           114406,
           0.12383837464097253,
           16840.570583774286,
           "Cluster 2"
          ],
          [
           37,
           107958,
           0.34666907654318496,
           13641.009538079368,
           "Cluster 2"
          ],
          [
           29,
           99161,
           0.3079200040396055,
           15631.836772980834,
           "Cluster 2"
          ],
          [
           44,
           114642,
           0.3092049154534188,
           14067.617788950563,
           "Cluster 2"
          ],
          [
           32,
           106543,
           0.3107432443044589,
           14337.288328489092,
           "Cluster 2"
          ],
          [
           31,
           105036,
           0.2722279930569666,
           16465.063521972657,
           "Cluster 2"
          ],
          [
           29,
           103223,
           0.3388162937437745,
           16252.883053065632,
           "Cluster 2"
          ],
          [
           36,
           98137,
           0.29740129315965397,
           15978.332837131276,
           "Cluster 2"
          ],
          [
           31,
           105826,
           0.2862743235826754,
           13856.805832195869,
           "Cluster 2"
          ],
          [
           90,
           117668,
           0.08272274299401555,
           12554.692742420659,
           "Cluster 2"
          ],
          [
           33,
           106757,
           0.25839611372125515,
           14431.652799234367,
           "Cluster 2"
          ],
          [
           33,
           107100,
           0.3424354833732075,
           14895.473479049117,
           "Cluster 2"
          ],
          [
           89,
           119697,
           0.0916792017028315,
           16215.399076555514,
           "Cluster 2"
          ],
          [
           29,
           101943,
           0.3256230614429721,
           14619.354282159029,
           "Cluster 2"
          ],
          [
           32,
           108417,
           0.28737086714008075,
           16696.398659007995,
           "Cluster 2"
          ],
          [
           84,
           122696,
           0.08218683192473558,
           13809.734086698068,
           "Cluster 2"
          ],
          [
           30,
           101073,
           0.3143871202044516,
           14324.555977118509,
           "Cluster 2"
          ],
          [
           88,
           120678,
           0.06327285129660287,
           14264.473846639943,
           "Cluster 2"
          ],
          [
           38,
           94775,
           0.3803902009461493,
           16867.13082002739,
           "Cluster 2"
          ],
          [
           92,
           122879,
           0.0607240352184939,
           13709.670274517475,
           "Cluster 2"
          ],
          [
           31,
           107963,
           0.2905086327499087,
           13407.081391032512,
           "Cluster 2"
          ],
          [
           30,
           99949,
           0.344679223509786,
           13621.639726331408,
           "Cluster 2"
          ],
          [
           36,
           99780,
           0.2654326074020303,
           16398.40133318453,
           "Cluster 2"
          ],
          [
           85,
           111389,
           0.0367953622110323,
           16009.237762922363,
           "Cluster 2"
          ],
          [
           30,
           98030,
           0.4111117138132285,
           16316.842905166694,
           "Cluster 2"
          ],
          [
           28,
           101206,
           0.3874406981253433,
           14936.775388622864,
           "Cluster 2"
          ],
          [
           37,
           107877,
           0.3346179841546032,
           17968.55392863446,
           "Cluster 2"
          ],
          [
           29,
           119366,
           0.3587713900686116,
           15012.853014226299,
           "Cluster 2"
          ],
          [
           31,
           102618,
           0.2763779214063509,
           13209.301612848929,
           "Cluster 2"
          ],
          [
           29,
           106014,
           0.34794511357773106,
           15038.010746320377,
           "Cluster 2"
          ],
          [
           31,
           101209,
           0.3043229953712128,
           16917.571691218804,
           "Cluster 2"
          ],
          [
           33,
           101058,
           0.3150815497840024,
           14911.868398206978,
           "Cluster 2"
          ],
          [
           31,
           101481,
           0.2702350511848681,
           15226.614133627569,
           "Cluster 2"
          ],
          [
           83,
           119429,
           0.042154801078558464,
           15607.561541234569,
           "Cluster 2"
          ],
          [
           34,
           98993,
           0.3229930887837502,
           16138.079373431863,
           "Cluster 2"
          ],
          [
           22,
           109152,
           0.32344641636242355,
           16022.482482363523,
           "Cluster 2"
          ],
          [
           87,
           117564,
           0.1282795957567026,
           14000.248964992143,
           "Cluster 2"
          ],
          [
           34,
           102291,
           0.24786227611431386,
           15819.577601160518,
           "Cluster 2"
          ],
          [
           25,
           106772,
           0.3909047196000217,
           16353.471790615497,
           "Cluster 2"
          ],
          [
           31,
           107994,
           0.2944689389706671,
           13685.972361738892,
           "Cluster 2"
          ],
          [
           31,
           114833,
           0.3050696862135815,
           13953.029721407644,
           "Cluster 2"
          ],
          [
           31,
           107932,
           0.3742421881649845,
           12207.526078087714,
           "Cluster 2"
          ],
          [
           35,
           110106,
           0.2867692710102035,
           14924.537223475552,
           "Cluster 2"
          ],
          [
           28,
           100592,
           0.2595983487762325,
           15520.355775683653,
           "Cluster 2"
          ],
          [
           33,
           116616,
           0.3209300476959025,
           15104.49811363824,
           "Cluster 2"
          ],
          [
           31,
           111449,
           0.29410620308282165,
           13929.62155143948,
           "Cluster 2"
          ],
          [
           28,
           94762,
           0.3035961911057213,
           15352.521936894913,
           "Cluster 2"
          ],
          [
           39,
           100540,
           0.3849229829012918,
           16741.013894847743,
           "Cluster 2"
          ],
          [
           36,
           96336,
           0.28809756719298163,
           15286.769335194167,
           "Cluster 2"
          ],
          [
           32,
           117050,
           0.3113555349689566,
           14310.546206532163,
           "Cluster 2"
          ],
          [
           93,
           126601,
           0.025170169477345742,
           14117.44703707058,
           "Cluster 2"
          ],
          [
           36,
           104285,
           0.2123600508972585,
           13347.558779497918,
           "Cluster 2"
          ],
          [
           34,
           104284,
           0.34454541177986714,
           13541.801770810564,
           "Cluster 2"
          ],
          [
           37,
           110595,
           0.28664850500199834,
           15235.445457133224,
           "Cluster 2"
          ],
          [
           33,
           94964,
           0.3302325026567214,
           14018.349867336628,
           "Cluster 2"
          ],
          [
           43,
           101641,
           0.3819838041034955,
           14424.097995592982,
           "Cluster 2"
          ],
          [
           33,
           100275,
           0.3630856827120957,
           13735.438742381079,
           "Cluster 2"
          ],
          [
           26,
           97750,
           0.2934087605160681,
           15823.032361634105,
           "Cluster 2"
          ],
          [
           24,
           110564,
           0.3049430059244969,
           14967.839625179657,
           "Cluster 2"
          ],
          [
           31,
           107115,
           0.3280420856997338,
           15693.499570389358,
           "Cluster 2"
          ],
          [
           29,
           111426,
           0.4002811559385194,
           14352.643773230728,
           "Cluster 2"
          ],
          [
           36,
           108004,
           0.3089229914936124,
           15813.964573146997,
           "Cluster 2"
          ],
          [
           86,
           128378,
           0.12608340975849852,
           13585.778624417357,
           "Cluster 2"
          ],
          [
           33,
           114555,
           0.2792568364789493,
           13746.745438440072,
           "Cluster 2"
          ],
          [
           29,
           116451,
           0.3406596106851227,
           15294.661511529368,
           "Cluster 2"
          ],
          [
           40,
           98821,
           0.27908085018704903,
           15995.160053914664,
           "Cluster 2"
          ],
          [
           35,
           105991,
           0.34337797815210225,
           16616.088239618915,
           "Cluster 2"
          ],
          [
           32,
           102035,
           0.26207035616469115,
           14209.932802396092,
           "Cluster 2"
          ],
          [
           37,
           106664,
           0.2775867542026021,
           14479.374117495967,
           "Cluster 2"
          ],
          [
           34,
           89598,
           0.3401523810436963,
           12832.768720823738,
           "Cluster 2"
          ],
          [
           34,
           107255,
           0.3283430294033384,
           15130.595225546444,
           "Cluster 2"
          ],
          [
           84,
           115237,
           0.06877820981367339,
           14396.568282311468,
           "Cluster 2"
          ],
          [
           82,
           126257,
           0.07809619439943333,
           15816.101922357922,
           "Cluster 2"
          ],
          [
           88,
           114767,
           0.032207542338926365,
           17833.093470094427,
           "Cluster 2"
          ],
          [
           85,
           118169,
           0.123196057747337,
           14855.951023927619,
           "Cluster 2"
          ],
          [
           35,
           117112,
           0.3047918711384766,
           15908.035997555322,
           "Cluster 2"
          ],
          [
           33,
           111813,
           0.2382437868013801,
           15901.238967721652,
           "Cluster 2"
          ],
          [
           33,
           105667,
           0.25075080562386165,
           12869.761073905089,
           "Cluster 2"
          ],
          [
           29,
           91375,
           0.2354504258588228,
           13104.962760687613,
           "Cluster 2"
          ],
          [
           83,
           117347,
           0.15569409232860987,
           15086.701120471576,
           "Cluster 2"
          ],
          [
           28,
           99611,
           0.2795578681222758,
           15345.658121390226,
           "Cluster 2"
          ],
          [
           31,
           99457,
           0.3658064971511749,
           14580.613477014092,
           "Cluster 2"
          ],
          [
           37,
           97831,
           0.3744658274308825,
           14935.144813058325,
           "Cluster 2"
          ],
          [
           31,
           108067,
           0.2686742663930692,
           13316.767286164832,
           "Cluster 2"
          ],
          [
           33,
           106345,
           0.3392354218755358,
           15300.45379012999,
           "Cluster 2"
          ],
          [
           30,
           107926,
           0.2301607310342209,
           15520.536309707046,
           "Cluster 2"
          ],
          [
           30,
           108581,
           0.3094467811568005,
           15628.791650531211,
           "Cluster 2"
          ],
          [
           34,
           98165,
           0.17412049382306485,
           15721.86284266975,
           "Cluster 2"
          ],
          [
           30,
           106350,
           0.3694162857692797,
           14863.233588279092,
           "Cluster 2"
          ],
          [
           30,
           107525,
           0.2948164301396663,
           12702.847385049918,
           "Cluster 2"
          ],
          [
           86,
           115689,
           0.057842956133581036,
           14803.153273493916,
           "Cluster 2"
          ],
          [
           29,
           102028,
           0.2889604994756899,
           14634.430692347907,
           "Cluster 2"
          ],
          [
           30,
           102056,
           0.2607006223919937,
           15370.66882713054,
           "Cluster 2"
          ],
          [
           28,
           111937,
           0.2537347301209012,
           13669.110632506934,
           "Cluster 2"
          ],
          [
           37,
           97678,
           0.2574704443875843,
           15834.113173627364,
           "Cluster 2"
          ],
          [
           37,
           108635,
           0.28649570314839057,
           14558.054542315444,
           "Cluster 2"
          ],
          [
           82,
           121642,
           0.054653190464209855,
           14177.513323069668,
           "Cluster 2"
          ],
          [
           42,
           106990,
           0.330065422314764,
           14856.938997469417,
           "Cluster 2"
          ],
          [
           28,
           97965,
           0.3134915614599665,
           14981.402201916082,
           "Cluster 2"
          ],
          [
           30,
           108928,
           0.30386361503665704,
           14339.652917342728,
           "Cluster 2"
          ],
          [
           32,
           95536,
           0.26624605681014885,
           15420.625644002741,
           "Cluster 2"
          ],
          [
           35,
           107131,
           0.2424731551814769,
           16200.013010637644,
           "Cluster 2"
          ],
          [
           35,
           101691,
           0.3491110181825554,
           14152.671689505803,
           "Cluster 2"
          ],
          [
           31,
           104388,
           0.2864732316476225,
           14406.561248437842,
           "Cluster 2"
          ],
          [
           35,
           102308,
           0.2751372175012177,
           14874.557991326978,
           "Cluster 2"
          ],
          [
           33,
           99637,
           0.2282170773869075,
           15139.403142647532,
           "Cluster 2"
          ],
          [
           29,
           110860,
           0.31944030103524745,
           16260.42103081417,
           "Cluster 2"
          ],
          [
           35,
           112878,
           0.3009135799974076,
           13755.48230187328,
           "Cluster 2"
          ],
          [
           38,
           115146,
           0.3144900731288347,
           14798.868153501797,
           "Cluster 2"
          ],
          [
           34,
           111303,
           0.34531257710928803,
           14624.318634976555,
           "Cluster 2"
          ],
          [
           33,
           108345,
           0.32541328975821004,
           15646.32171735943,
           "Cluster 2"
          ],
          [
           32,
           110439,
           0.30699015827427256,
           13873.50756985278,
           "Cluster 2"
          ],
          [
           34,
           98752,
           0.3720337099315751,
           14975.384238944334,
           "Cluster 2"
          ],
          [
           31,
           116247,
           0.2943151380482853,
           16178.204715186297,
           "Cluster 2"
          ],
          [
           27,
           106758,
           0.2662947092346973,
           14942.560723173168,
           "Cluster 2"
          ],
          [
           39,
           99216,
           0.21660614339457274,
           15230.345105300736,
           "Cluster 2"
          ],
          [
           38,
           113659,
           0.3334859873871594,
           14364.693391419,
           "Cluster 2"
          ],
          [
           84,
           110582,
           0.07904903227945975,
           14937.995169685584,
           "Cluster 2"
          ],
          [
           77,
           128596,
           0.04082407066250976,
           14503.410786381415,
           "Cluster 2"
          ],
          [
           34,
           103428,
           0.2474244093916156,
           13791.035761571968,
           "Cluster 2"
          ],
          [
           28,
           109075,
           0.36276196062401134,
           14082.458238005996,
           "Cluster 2"
          ],
          [
           36,
           105567,
           0.3126388486955741,
           14355.31094653896,
           "Cluster 2"
          ],
          [
           91,
           118794,
           0.0192120658984376,
           14047.388986415735,
           "Cluster 2"
          ],
          [
           34,
           119877,
           0.3054369951589357,
           15634.788286084158,
           "Cluster 2"
          ]
         ],
         "hoverlabel": {
          "namelength": 0
         },
         "hovertemplate": "Cluster=%{customdata[4]}<br>Income=%{customdata[1]}<br>Age=%{customdata[0]}<br>SpendingScore=%{customdata[2]}<br>Savings=%{customdata[3]}",
         "legendgroup": "Cluster=Cluster 2",
         "marker": {
          "color": "#00cc96"
         },
         "name": "Cluster=Cluster 2",
         "notched": true,
         "offsetgroup": "Cluster=Cluster 2",
         "showlegend": false,
         "type": "box",
         "x": [
          104738,
          112531,
          109809,
          110882,
          100661,
          123651,
          124372,
          108499,
          96241,
          106588,
          101503,
          106894,
          107302,
          109038,
          103204,
          98033,
          101811,
          101905,
          117943,
          112943,
          108651,
          100158,
          124170,
          105006,
          110732,
          104678,
          92569,
          114406,
          107958,
          99161,
          114642,
          106543,
          105036,
          103223,
          98137,
          105826,
          117668,
          106757,
          107100,
          119697,
          101943,
          108417,
          122696,
          101073,
          120678,
          94775,
          122879,
          107963,
          99949,
          99780,
          111389,
          98030,
          101206,
          107877,
          119366,
          102618,
          106014,
          101209,
          101058,
          101481,
          119429,
          98993,
          109152,
          117564,
          102291,
          106772,
          107994,
          114833,
          107932,
          110106,
          100592,
          116616,
          111449,
          94762,
          100540,
          96336,
          117050,
          126601,
          104285,
          104284,
          110595,
          94964,
          101641,
          100275,
          97750,
          110564,
          107115,
          111426,
          108004,
          128378,
          114555,
          116451,
          98821,
          105991,
          102035,
          106664,
          89598,
          107255,
          115237,
          126257,
          114767,
          118169,
          117112,
          111813,
          105667,
          91375,
          117347,
          99611,
          99457,
          97831,
          108067,
          106345,
          107926,
          108581,
          98165,
          106350,
          107525,
          115689,
          102028,
          102056,
          111937,
          97678,
          108635,
          121642,
          106990,
          97965,
          108928,
          95536,
          107131,
          101691,
          104388,
          102308,
          99637,
          110860,
          112878,
          115146,
          111303,
          108345,
          110439,
          98752,
          116247,
          106758,
          99216,
          113659,
          110582,
          128596,
          103428,
          109075,
          105567,
          118794,
          119877
         ],
         "xaxis": "x2",
         "yaxis": "y2"
        },
        {
         "alignmentgroup": "True",
         "bingroup": "x",
         "hoverlabel": {
          "namelength": 0
         },
         "hovertemplate": "Cluster=Cluster 3<br>Income=%{x}<br>count=%{y}",
         "legendgroup": "Cluster=Cluster 3",
         "marker": {
          "color": "#ab63fa",
          "opacity": 0.7
         },
         "name": "Cluster=Cluster 3",
         "offsetgroup": "Cluster=Cluster 3",
         "orientation": "v",
         "showlegend": true,
         "type": "histogram",
         "x": [
          122671,
          138443,
          138021,
          134734,
          129087,
          129469,
          129937,
          123005,
          126500,
          121468,
          120226,
          122924,
          134209,
          130974,
          131578,
          132948,
          123153,
          131827,
          128625,
          136644,
          134389,
          130934,
          122581,
          122788,
          130361,
          123229,
          129142,
          127352,
          120525,
          126617,
          123828,
          125662,
          127699,
          130813,
          123678,
          129726,
          134966,
          125008,
          131009,
          120465,
          129019,
          127320,
          117108,
          120957,
          134384,
          136255,
          142000,
          122264,
          121216,
          123718
         ],
         "xaxis": "x",
         "yaxis": "y"
        },
        {
         "alignmentgroup": "True",
         "customdata": [
          [
           27,
           122671,
           0.910107112831516,
           4206.287238709509,
           "Cluster 3"
          ],
          [
           23,
           138443,
           0.9226565539031124,
           3297.058843994153,
           "Cluster 3"
          ],
          [
           25,
           138021,
           0.944017175810026,
           3005.577482475175,
           "Cluster 3"
          ],
          [
           17,
           134734,
           0.8579216672301577,
           0,
           "Cluster 3"
          ],
          [
           24,
           129087,
           0.8271179432765905,
           3290.829468618805,
           "Cluster 3"
          ],
          [
           20,
           129469,
           0.9399954311014268,
           5522.573424346325,
           "Cluster 3"
          ],
          [
           23,
           129937,
           0.8727356634334804,
           4102.065424707484,
           "Cluster 3"
          ],
          [
           26,
           123005,
           0.9845261943505972,
           4371.23473281147,
           "Cluster 3"
          ],
          [
           23,
           126500,
           0.8650328592458483,
           3270.150434407087,
           "Cluster 3"
          ],
          [
           27,
           121468,
           0.9206489879585448,
           5011.112062373318,
           "Cluster 3"
          ],
          [
           23,
           120226,
           0.8819129663041946,
           4698.294710949844,
           "Cluster 3"
          ],
          [
           31,
           122924,
           0.89046022417733,
           3071.944576152969,
           "Cluster 3"
          ],
          [
           22,
           134209,
           0.8706980046008759,
           5138.109568643242,
           "Cluster 3"
          ],
          [
           24,
           130974,
           0.9118386021444842,
           4420.0727101369375,
           "Cluster 3"
          ],
          [
           29,
           131578,
           0.8470341025128371,
           3535.5143522162816,
           "Cluster 3"
          ],
          [
           22,
           132948,
           0.8898001728484242,
           2839.7863574778585,
           "Cluster 3"
          ],
          [
           28,
           123153,
           0.9842407862639496,
           3697.5136453853297,
           "Cluster 3"
          ],
          [
           26,
           131827,
           0.8807194909406801,
           4352.699304837541,
           "Cluster 3"
          ],
          [
           25,
           128625,
           0.8167389887954251,
           4914.117127206949,
           "Cluster 3"
          ],
          [
           24,
           136644,
           0.8716976842508705,
           1617.2257000775644,
           "Cluster 3"
          ],
          [
           24,
           134389,
           0.9388521378701832,
           4573.60634580409,
           "Cluster 3"
          ],
          [
           25,
           130934,
           0.9137660194970426,
           3942.389134492165,
           "Cluster 3"
          ],
          [
           20,
           122581,
           0.8940806156500202,
           4444.4476842520535,
           "Cluster 3"
          ],
          [
           30,
           122788,
           0.8728724057273831,
           5706.149573297764,
           "Cluster 3"
          ],
          [
           25,
           130361,
           0.9254385568124625,
           4691.55213906238,
           "Cluster 3"
          ],
          [
           28,
           123229,
           0.8733219541371664,
           610.4462190811464,
           "Cluster 3"
          ],
          [
           20,
           129142,
           0.8870519941988757,
           5603.121027746489,
           "Cluster 3"
          ],
          [
           24,
           127352,
           0.9054521594192038,
           2961.716874324024,
           "Cluster 3"
          ],
          [
           22,
           120525,
           1,
           5495.165732288548,
           "Cluster 3"
          ],
          [
           26,
           126617,
           0.8770521049168103,
           2913.368146562765,
           "Cluster 3"
          ],
          [
           17,
           123828,
           0.9420129076091708,
           3798.8403998790254,
           "Cluster 3"
          ],
          [
           26,
           125662,
           0.9268183658411524,
           6089.47832250152,
           "Cluster 3"
          ],
          [
           28,
           127699,
           0.8814245468734898,
           5490.814955670689,
           "Cluster 3"
          ],
          [
           18,
           130813,
           0.8908912472675831,
           5256.434559627984,
           "Cluster 3"
          ],
          [
           21,
           123678,
           0.8320252689431032,
           2838.8158208359087,
           "Cluster 3"
          ],
          [
           21,
           129726,
           0.9517923119702948,
           4550.7995216878835,
           "Cluster 3"
          ],
          [
           17,
           134966,
           0.9072421746334024,
           4128.044795832438,
           "Cluster 3"
          ],
          [
           27,
           125008,
           0.9596454072349518,
           2963.6377080587795,
           "Cluster 3"
          ],
          [
           25,
           131009,
           0.8640569016468125,
           4792.426581212785,
           "Cluster 3"
          ],
          [
           24,
           120465,
           0.9074853865005544,
           4838.348350281593,
           "Cluster 3"
          ],
          [
           28,
           129019,
           0.9308319590820414,
           3016.8206434862623,
           "Cluster 3"
          ],
          [
           26,
           127320,
           0.8250298045601994,
           5495.642137901324,
           "Cluster 3"
          ],
          [
           28,
           117108,
           0.857078493256913,
           4749.879237491619,
           "Cluster 3"
          ],
          [
           25,
           120957,
           0.8776734245644572,
           5590.447216086322,
           "Cluster 3"
          ],
          [
           24,
           134384,
           0.8747208244890404,
           3731.3397614449186,
           "Cluster 3"
          ],
          [
           17,
           136255,
           0.935876103673024,
           4126.226651408871,
           "Cluster 3"
          ],
          [
           29,
           142000,
           0.9400873084125808,
           5349.821181717665,
           "Cluster 3"
          ],
          [
           29,
           122264,
           0.8985788437238403,
           2494.55627432471,
           "Cluster 3"
          ],
          [
           28,
           121216,
           0.8569692823607705,
           5349.065446955783,
           "Cluster 3"
          ],
          [
           18,
           123718,
           0.8065528615489801,
           4420.445820614172,
           "Cluster 3"
          ]
         ],
         "hoverlabel": {
          "namelength": 0
         },
         "hovertemplate": "Cluster=%{customdata[4]}<br>Income=%{customdata[1]}<br>Age=%{customdata[0]}<br>SpendingScore=%{customdata[2]}<br>Savings=%{customdata[3]}",
         "legendgroup": "Cluster=Cluster 3",
         "marker": {
          "color": "#ab63fa"
         },
         "name": "Cluster=Cluster 3",
         "notched": true,
         "offsetgroup": "Cluster=Cluster 3",
         "showlegend": false,
         "type": "box",
         "x": [
          122671,
          138443,
          138021,
          134734,
          129087,
          129469,
          129937,
          123005,
          126500,
          121468,
          120226,
          122924,
          134209,
          130974,
          131578,
          132948,
          123153,
          131827,
          128625,
          136644,
          134389,
          130934,
          122581,
          122788,
          130361,
          123229,
          129142,
          127352,
          120525,
          126617,
          123828,
          125662,
          127699,
          130813,
          123678,
          129726,
          134966,
          125008,
          131009,
          120465,
          129019,
          127320,
          117108,
          120957,
          134384,
          136255,
          142000,
          122264,
          121216,
          123718
         ],
         "xaxis": "x2",
         "yaxis": "y2"
        }
       ],
       "layout": {
        "barmode": "relative",
        "legend": {
         "tracegroupgap": 0
        },
        "margin": {
         "t": 60
        },
        "template": {
         "data": {
          "bar": [
           {
            "error_x": {
             "color": "#2a3f5f"
            },
            "error_y": {
             "color": "#2a3f5f"
            },
            "marker": {
             "line": {
              "color": "#E5ECF6",
              "width": 0.5
             }
            },
            "type": "bar"
           }
          ],
          "barpolar": [
           {
            "marker": {
             "line": {
              "color": "#E5ECF6",
              "width": 0.5
             }
            },
            "type": "barpolar"
           }
          ],
          "carpet": [
           {
            "aaxis": {
             "endlinecolor": "#2a3f5f",
             "gridcolor": "white",
             "linecolor": "white",
             "minorgridcolor": "white",
             "startlinecolor": "#2a3f5f"
            },
            "baxis": {
             "endlinecolor": "#2a3f5f",
             "gridcolor": "white",
             "linecolor": "white",
             "minorgridcolor": "white",
             "startlinecolor": "#2a3f5f"
            },
            "type": "carpet"
           }
          ],
          "choropleth": [
           {
            "colorbar": {
             "outlinewidth": 0,
             "ticks": ""
            },
            "type": "choropleth"
           }
          ],
          "contour": [
           {
            "colorbar": {
             "outlinewidth": 0,
             "ticks": ""
            },
            "colorscale": [
             [
              0,
              "#0d0887"
             ],
             [
              0.1111111111111111,
              "#46039f"
             ],
             [
              0.2222222222222222,
              "#7201a8"
             ],
             [
              0.3333333333333333,
              "#9c179e"
             ],
             [
              0.4444444444444444,
              "#bd3786"
             ],
             [
              0.5555555555555556,
              "#d8576b"
             ],
             [
              0.6666666666666666,
              "#ed7953"
             ],
             [
              0.7777777777777778,
              "#fb9f3a"
             ],
             [
              0.8888888888888888,
              "#fdca26"
             ],
             [
              1,
              "#f0f921"
             ]
            ],
            "type": "contour"
           }
          ],
          "contourcarpet": [
           {
            "colorbar": {
             "outlinewidth": 0,
             "ticks": ""
            },
            "type": "contourcarpet"
           }
          ],
          "heatmap": [
           {
            "colorbar": {
             "outlinewidth": 0,
             "ticks": ""
            },
            "colorscale": [
             [
              0,
              "#0d0887"
             ],
             [
              0.1111111111111111,
              "#46039f"
             ],
             [
              0.2222222222222222,
              "#7201a8"
             ],
             [
              0.3333333333333333,
              "#9c179e"
             ],
             [
              0.4444444444444444,
              "#bd3786"
             ],
             [
              0.5555555555555556,
              "#d8576b"
             ],
             [
              0.6666666666666666,
              "#ed7953"
             ],
             [
              0.7777777777777778,
              "#fb9f3a"
             ],
             [
              0.8888888888888888,
              "#fdca26"
             ],
             [
              1,
              "#f0f921"
             ]
            ],
            "type": "heatmap"
           }
          ],
          "heatmapgl": [
           {
            "colorbar": {
             "outlinewidth": 0,
             "ticks": ""
            },
            "colorscale": [
             [
              0,
              "#0d0887"
             ],
             [
              0.1111111111111111,
              "#46039f"
             ],
             [
              0.2222222222222222,
              "#7201a8"
             ],
             [
              0.3333333333333333,
              "#9c179e"
             ],
             [
              0.4444444444444444,
              "#bd3786"
             ],
             [
              0.5555555555555556,
              "#d8576b"
             ],
             [
              0.6666666666666666,
              "#ed7953"
             ],
             [
              0.7777777777777778,
              "#fb9f3a"
             ],
             [
              0.8888888888888888,
              "#fdca26"
             ],
             [
              1,
              "#f0f921"
             ]
            ],
            "type": "heatmapgl"
           }
          ],
          "histogram": [
           {
            "marker": {
             "colorbar": {
              "outlinewidth": 0,
              "ticks": ""
             }
            },
            "type": "histogram"
           }
          ],
          "histogram2d": [
           {
            "colorbar": {
             "outlinewidth": 0,
             "ticks": ""
            },
            "colorscale": [
             [
              0,
              "#0d0887"
             ],
             [
              0.1111111111111111,
              "#46039f"
             ],
             [
              0.2222222222222222,
              "#7201a8"
             ],
             [
              0.3333333333333333,
              "#9c179e"
             ],
             [
              0.4444444444444444,
              "#bd3786"
             ],
             [
              0.5555555555555556,
              "#d8576b"
             ],
             [
              0.6666666666666666,
              "#ed7953"
             ],
             [
              0.7777777777777778,
              "#fb9f3a"
             ],
             [
              0.8888888888888888,
              "#fdca26"
             ],
             [
              1,
              "#f0f921"
             ]
            ],
            "type": "histogram2d"
           }
          ],
          "histogram2dcontour": [
           {
            "colorbar": {
             "outlinewidth": 0,
             "ticks": ""
            },
            "colorscale": [
             [
              0,
              "#0d0887"
             ],
             [
              0.1111111111111111,
              "#46039f"
             ],
             [
              0.2222222222222222,
              "#7201a8"
             ],
             [
              0.3333333333333333,
              "#9c179e"
             ],
             [
              0.4444444444444444,
              "#bd3786"
             ],
             [
              0.5555555555555556,
              "#d8576b"
             ],
             [
              0.6666666666666666,
              "#ed7953"
             ],
             [
              0.7777777777777778,
              "#fb9f3a"
             ],
             [
              0.8888888888888888,
              "#fdca26"
             ],
             [
              1,
              "#f0f921"
             ]
            ],
            "type": "histogram2dcontour"
           }
          ],
          "mesh3d": [
           {
            "colorbar": {
             "outlinewidth": 0,
             "ticks": ""
            },
            "type": "mesh3d"
           }
          ],
          "parcoords": [
           {
            "line": {
             "colorbar": {
              "outlinewidth": 0,
              "ticks": ""
             }
            },
            "type": "parcoords"
           }
          ],
          "pie": [
           {
            "automargin": true,
            "type": "pie"
           }
          ],
          "scatter": [
           {
            "marker": {
             "colorbar": {
              "outlinewidth": 0,
              "ticks": ""
             }
            },
            "type": "scatter"
           }
          ],
          "scatter3d": [
           {
            "line": {
             "colorbar": {
              "outlinewidth": 0,
              "ticks": ""
             }
            },
            "marker": {
             "colorbar": {
              "outlinewidth": 0,
              "ticks": ""
             }
            },
            "type": "scatter3d"
           }
          ],
          "scattercarpet": [
           {
            "marker": {
             "colorbar": {
              "outlinewidth": 0,
              "ticks": ""
             }
            },
            "type": "scattercarpet"
           }
          ],
          "scattergeo": [
           {
            "marker": {
             "colorbar": {
              "outlinewidth": 0,
              "ticks": ""
             }
            },
            "type": "scattergeo"
           }
          ],
          "scattergl": [
           {
            "marker": {
             "colorbar": {
              "outlinewidth": 0,
              "ticks": ""
             }
            },
            "type": "scattergl"
           }
          ],
          "scattermapbox": [
           {
            "marker": {
             "colorbar": {
              "outlinewidth": 0,
              "ticks": ""
             }
            },
            "type": "scattermapbox"
           }
          ],
          "scatterpolar": [
           {
            "marker": {
             "colorbar": {
              "outlinewidth": 0,
              "ticks": ""
             }
            },
            "type": "scatterpolar"
           }
          ],
          "scatterpolargl": [
           {
            "marker": {
             "colorbar": {
              "outlinewidth": 0,
              "ticks": ""
             }
            },
            "type": "scatterpolargl"
           }
          ],
          "scatterternary": [
           {
            "marker": {
             "colorbar": {
              "outlinewidth": 0,
              "ticks": ""
             }
            },
            "type": "scatterternary"
           }
          ],
          "surface": [
           {
            "colorbar": {
             "outlinewidth": 0,
             "ticks": ""
            },
            "colorscale": [
             [
              0,
              "#0d0887"
             ],
             [
              0.1111111111111111,
              "#46039f"
             ],
             [
              0.2222222222222222,
              "#7201a8"
             ],
             [
              0.3333333333333333,
              "#9c179e"
             ],
             [
              0.4444444444444444,
              "#bd3786"
             ],
             [
              0.5555555555555556,
              "#d8576b"
             ],
             [
              0.6666666666666666,
              "#ed7953"
             ],
             [
              0.7777777777777778,
              "#fb9f3a"
             ],
             [
              0.8888888888888888,
              "#fdca26"
             ],
             [
              1,
              "#f0f921"
             ]
            ],
            "type": "surface"
           }
          ],
          "table": [
           {
            "cells": {
             "fill": {
              "color": "#EBF0F8"
             },
             "line": {
              "color": "white"
             }
            },
            "header": {
             "fill": {
              "color": "#C8D4E3"
             },
             "line": {
              "color": "white"
             }
            },
            "type": "table"
           }
          ]
         },
         "layout": {
          "annotationdefaults": {
           "arrowcolor": "#2a3f5f",
           "arrowhead": 0,
           "arrowwidth": 1
          },
          "coloraxis": {
           "colorbar": {
            "outlinewidth": 0,
            "ticks": ""
           }
          },
          "colorscale": {
           "diverging": [
            [
             0,
             "#8e0152"
            ],
            [
             0.1,
             "#c51b7d"
            ],
            [
             0.2,
             "#de77ae"
            ],
            [
             0.3,
             "#f1b6da"
            ],
            [
             0.4,
             "#fde0ef"
            ],
            [
             0.5,
             "#f7f7f7"
            ],
            [
             0.6,
             "#e6f5d0"
            ],
            [
             0.7,
             "#b8e186"
            ],
            [
             0.8,
             "#7fbc41"
            ],
            [
             0.9,
             "#4d9221"
            ],
            [
             1,
             "#276419"
            ]
           ],
           "sequential": [
            [
             0,
             "#0d0887"
            ],
            [
             0.1111111111111111,
             "#46039f"
            ],
            [
             0.2222222222222222,
             "#7201a8"
            ],
            [
             0.3333333333333333,
             "#9c179e"
            ],
            [
             0.4444444444444444,
             "#bd3786"
            ],
            [
             0.5555555555555556,
             "#d8576b"
            ],
            [
             0.6666666666666666,
             "#ed7953"
            ],
            [
             0.7777777777777778,
             "#fb9f3a"
            ],
            [
             0.8888888888888888,
             "#fdca26"
            ],
            [
             1,
             "#f0f921"
            ]
           ],
           "sequentialminus": [
            [
             0,
             "#0d0887"
            ],
            [
             0.1111111111111111,
             "#46039f"
            ],
            [
             0.2222222222222222,
             "#7201a8"
            ],
            [
             0.3333333333333333,
             "#9c179e"
            ],
            [
             0.4444444444444444,
             "#bd3786"
            ],
            [
             0.5555555555555556,
             "#d8576b"
            ],
            [
             0.6666666666666666,
             "#ed7953"
            ],
            [
             0.7777777777777778,
             "#fb9f3a"
            ],
            [
             0.8888888888888888,
             "#fdca26"
            ],
            [
             1,
             "#f0f921"
            ]
           ]
          },
          "colorway": [
           "#636efa",
           "#EF553B",
           "#00cc96",
           "#ab63fa",
           "#FFA15A",
           "#19d3f3",
           "#FF6692",
           "#B6E880",
           "#FF97FF",
           "#FECB52"
          ],
          "font": {
           "color": "#2a3f5f"
          },
          "geo": {
           "bgcolor": "white",
           "lakecolor": "white",
           "landcolor": "#E5ECF6",
           "showlakes": true,
           "showland": true,
           "subunitcolor": "white"
          },
          "hoverlabel": {
           "align": "left"
          },
          "hovermode": "closest",
          "mapbox": {
           "style": "light"
          },
          "paper_bgcolor": "white",
          "plot_bgcolor": "#E5ECF6",
          "polar": {
           "angularaxis": {
            "gridcolor": "white",
            "linecolor": "white",
            "ticks": ""
           },
           "bgcolor": "#E5ECF6",
           "radialaxis": {
            "gridcolor": "white",
            "linecolor": "white",
            "ticks": ""
           }
          },
          "scene": {
           "xaxis": {
            "backgroundcolor": "#E5ECF6",
            "gridcolor": "white",
            "gridwidth": 2,
            "linecolor": "white",
            "showbackground": true,
            "ticks": "",
            "zerolinecolor": "white"
           },
           "yaxis": {
            "backgroundcolor": "#E5ECF6",
            "gridcolor": "white",
            "gridwidth": 2,
            "linecolor": "white",
            "showbackground": true,
            "ticks": "",
            "zerolinecolor": "white"
           },
           "zaxis": {
            "backgroundcolor": "#E5ECF6",
            "gridcolor": "white",
            "gridwidth": 2,
            "linecolor": "white",
            "showbackground": true,
            "ticks": "",
            "zerolinecolor": "white"
           }
          },
          "shapedefaults": {
           "line": {
            "color": "#2a3f5f"
           }
          },
          "ternary": {
           "aaxis": {
            "gridcolor": "white",
            "linecolor": "white",
            "ticks": ""
           },
           "baxis": {
            "gridcolor": "white",
            "linecolor": "white",
            "ticks": ""
           },
           "bgcolor": "#E5ECF6",
           "caxis": {
            "gridcolor": "white",
            "linecolor": "white",
            "ticks": ""
           }
          },
          "title": {
           "x": 0.05
          },
          "xaxis": {
           "automargin": true,
           "gridcolor": "white",
           "linecolor": "white",
           "ticks": "",
           "title": {
            "standoff": 15
           },
           "zerolinecolor": "white",
           "zerolinewidth": 2
          },
          "yaxis": {
           "automargin": true,
           "gridcolor": "white",
           "linecolor": "white",
           "ticks": "",
           "title": {
            "standoff": 15
           },
           "zerolinecolor": "white",
           "zerolinewidth": 2
          }
         }
        },
        "xaxis": {
         "anchor": "y",
         "domain": [
          0,
          1
         ],
         "title": {
          "text": "Income"
         }
        },
        "xaxis2": {
         "anchor": "y2",
         "domain": [
          0,
          1
         ],
         "matches": "x",
         "showgrid": true,
         "showticklabels": false
        },
        "yaxis": {
         "anchor": "x",
         "domain": [
          0,
          0.7326
         ],
         "title": {
          "text": "count"
         }
        },
        "yaxis2": {
         "anchor": "x2",
         "domain": [
          0.7426,
          1
         ],
         "matches": "y2",
         "showgrid": false,
         "showline": false,
         "showticklabels": false,
         "ticks": ""
        }
       }
      },
      "text/html": [
       "<div>\n",
       "        \n",
       "        \n",
       "            <div id=\"3719ce00-7e5b-447d-ae9e-2325d43d4330\" class=\"plotly-graph-div\" style=\"height:525px; width:100%;\"></div>\n",
       "            <script type=\"text/javascript\">\n",
       "                require([\"plotly\"], function(Plotly) {\n",
       "                    window.PLOTLYENV=window.PLOTLYENV || {};\n",
       "                    \n",
       "                if (document.getElementById(\"3719ce00-7e5b-447d-ae9e-2325d43d4330\")) {\n",
       "                    Plotly.newPlot(\n",
       "                        '3719ce00-7e5b-447d-ae9e-2325d43d4330',\n",
       "                        [{\"alignmentgroup\": \"True\", \"bingroup\": \"x\", \"hoverlabel\": {\"namelength\": 0}, \"hovertemplate\": \"Cluster=Cluster 0<br>Income=%{x}<br>count=%{y}\", \"legendgroup\": \"Cluster=Cluster 0\", \"marker\": {\"color\": \"#636efa\", \"opacity\": 0.7}, \"name\": \"Cluster=Cluster 0\", \"offsetgroup\": \"Cluster=Cluster 0\", \"orientation\": \"v\", \"showlegend\": true, \"type\": \"histogram\", \"x\": [30267, 29082, 22484, 33490, 17672, 26940, 28409, 30178, 31994, 33610, 12038, 35051, 12000, 36639, 22288, 21250, 30148, 26351, 28401, 34634, 34001, 42018, 26092, 28352, 28779, 38923, 25252, 25566, 27384, 28777, 27168, 22602, 28802, 24520, 29750, 33259, 33311, 18162, 26882, 18812, 29492, 18937, 20719, 38201, 19510, 30794, 24221, 32494, 16950, 20681, 20292, 27179, 24578, 34425, 20440, 27544, 27038, 26127, 46977, 27599, 25701, 35877, 19202, 29204, 33251, 35998, 27169, 18459, 29610, 28497, 46910, 17388, 38042, 34802, 25237, 30178, 32708, 31096, 27169, 32915, 25733, 26355, 28585, 27771, 22286, 26424, 17946, 30812, 36031, 30492, 33170, 25886, 15695, 22008, 36032, 23042, 36463, 30721, 23206, 28408, 33188, 27271, 18724, 23322, 28165, 28727, 31481, 26917, 33636, 24370, 24376, 23400, 21652, 22782, 18244, 26665, 24105, 31366, 22672, 30481, 23854, 28160, 33550, 34524, 37503, 35297, 17851, 33303, 19934, 29029, 26045, 30102, 30756, 17760, 15671, 35484, 20704, 29909, 42592, 34384, 32421, 22616, 36991, 34529, 27705, 27693, 24391], \"xaxis\": \"x\", \"yaxis\": \"y\"}, {\"alignmentgroup\": \"True\", \"customdata\": [[89.0, 30267.0, 0.2893100658351509, 14386.351879589123, \"Cluster 0\"], [91.0, 29082.0, 0.28248852137129143, 18794.488169074688, \"Cluster 0\"], [92.0, 22484.0, 0.3317732623948493, 18615.632589788456, \"Cluster 0\"], [90.0, 33490.0, 0.4199085281737912, 17091.904228934392, \"Cluster 0\"], [93.0, 17672.0, 0.3032923688871533, 18516.451810726718, \"Cluster 0\"], [89.0, 26940.0, 0.3260051328059917, 16555.159377159824, \"Cluster 0\"], [88.0, 28409.0, 0.30565353367521064, 17326.175608364214, \"Cluster 0\"], [87.0, 30178.0, 0.2793159778940049, 16123.070750832, \"Cluster 0\"], [86.0, 31994.0, 0.24947694035510065, 18210.088099070614, \"Cluster 0\"], [82.0, 33610.0, 0.3012532342412973, 17755.664940228176, \"Cluster 0\"], [91.0, 12038.0, 0.3498032558856572, 16464.960504438823, \"Cluster 0\"], [88.0, 35051.0, 0.3860515062876169, 17593.24679258195, \"Cluster 0\"], [87.0, 12000.0, 0.3429910076112659, 16180.26525174153, \"Cluster 0\"], [91.0, 36639.0, 0.3261988874784867, 16275.703341192586, \"Cluster 0\"], [90.0, 22288.0, 0.2713268321051208, 18434.099152391347, \"Cluster 0\"], [85.0, 21250.0, 0.3104101151420252, 16033.971166673777, \"Cluster 0\"], [91.0, 30148.0, 0.2773889467565771, 15324.287405101717, \"Cluster 0\"], [88.0, 26351.0, 0.3041682062164747, 14035.917553542351, \"Cluster 0\"], [85.0, 28401.0, 0.3694371368158697, 15990.49413056604, \"Cluster 0\"], [85.0, 34634.0, 0.3690001696241634, 16719.815875018445, \"Cluster 0\"], [88.0, 34001.0, 0.33756932388752803, 15530.934134298665, \"Cluster 0\"], [84.0, 42018.0, 0.29799360218993026, 16148.370454036614, \"Cluster 0\"], [88.0, 26092.0, 0.3128732065230775, 17105.79392615357, \"Cluster 0\"], [94.0, 28352.0, 0.37687573531685575, 16798.886114738052, \"Cluster 0\"], [86.0, 28779.0, 0.3365233301816881, 16047.268331461928, \"Cluster 0\"], [94.0, 38923.0, 0.33022601809734325, 16971.181554867213, \"Cluster 0\"], [89.0, 25252.0, 0.32176522093208865, 16539.364186086335, \"Cluster 0\"], [87.0, 25566.0, 0.3167603729756968, 15188.058749407255, \"Cluster 0\"], [84.0, 27384.0, 0.31364671699548896, 16734.672754073246, \"Cluster 0\"], [91.0, 28777.0, 0.324193555035782, 17808.2662415687, \"Cluster 0\"], [91.0, 27168.0, 0.3322388165540652, 15893.729773516614, \"Cluster 0\"], [88.0, 22602.0, 0.35674482887974684, 16740.343496726702, \"Cluster 0\"], [88.0, 28802.0, 0.4083878319987073, 16293.038332542192, \"Cluster 0\"], [89.0, 24520.0, 0.44383270684567067, 13556.9358834699, \"Cluster 0\"], [91.0, 29750.0, 0.2884703320713124, 19201.11991627576, \"Cluster 0\"], [90.0, 33259.0, 0.377571058498228, 15315.028503741696, \"Cluster 0\"], [89.0, 33311.0, 0.3761469685086391, 17093.06995548225, \"Cluster 0\"], [83.0, 18162.0, 0.3013734548863509, 16029.469213914268, \"Cluster 0\"], [83.0, 26882.0, 0.34797963237384105, 17775.22817123954, \"Cluster 0\"], [86.0, 18812.0, 0.34154576038705153, 16157.734142403422, \"Cluster 0\"], [84.0, 29492.0, 0.3336031402694437, 17954.09505703969, \"Cluster 0\"], [94.0, 18937.0, 0.3470950600753079, 17739.776098377628, \"Cluster 0\"], [94.0, 20719.0, 0.336402269797664, 16281.832273239006, \"Cluster 0\"], [79.0, 38201.0, 0.3697828881534748, 16393.395697309446, \"Cluster 0\"], [88.0, 19510.0, 0.3167510258154691, 16529.20080632274, \"Cluster 0\"], [85.0, 30794.0, 0.2862292747117072, 17096.39150937826, \"Cluster 0\"], [82.0, 24221.0, 0.4735496605323542, 16251.759445212669, \"Cluster 0\"], [82.0, 32494.0, 0.3273154026360584, 16799.444266662453, \"Cluster 0\"], [91.0, 16950.0, 0.32300404344763, 17172.609400509067, \"Cluster 0\"], [91.0, 20681.0, 0.3546791690549572, 18401.08844474873, \"Cluster 0\"], [89.0, 20292.0, 0.3121481952107594, 16023.4456584523, \"Cluster 0\"], [84.0, 27179.0, 0.3474234168306904, 15612.628547766899, \"Cluster 0\"], [87.0, 24578.0, 0.37616545875063534, 17789.247521813828, \"Cluster 0\"], [81.0, 34425.0, 0.2726097792323641, 16262.623790655764, \"Cluster 0\"], [93.0, 20440.0, 0.2975730342292497, 17406.074017844054, \"Cluster 0\"], [84.0, 27544.0, 0.2309337663207005, 18207.36169648481, \"Cluster 0\"], [95.0, 27038.0, 0.3313520070109344, 18126.577451151075, \"Cluster 0\"], [89.0, 26127.0, 0.3044743722681633, 17194.828018777476, \"Cluster 0\"], [86.0, 46977.0, 0.2827283910152334, 15628.957075805025, \"Cluster 0\"], [85.0, 27599.0, 0.2819950483303406, 13470.97060503703, \"Cluster 0\"], [87.0, 25701.0, 0.3152205738281265, 15738.859295516553, \"Cluster 0\"], [92.0, 35877.0, 0.3668917159124752, 17287.907016982324, \"Cluster 0\"], [89.0, 19202.0, 0.3819877440174351, 16626.22236147723, \"Cluster 0\"], [85.0, 29204.0, 0.3254914498834959, 16918.903460369133, \"Cluster 0\"], [88.0, 33251.0, 0.3043913649608802, 18868.24161249696, \"Cluster 0\"], [86.0, 35998.0, 0.3216356471662456, 20000.0, \"Cluster 0\"], [94.0, 27169.0, 0.3141730453838618, 15061.776215142369, \"Cluster 0\"], [87.0, 18459.0, 0.2645499059687874, 15637.59765457844, \"Cluster 0\"], [85.0, 29610.0, 0.3181352453742131, 18475.487468080933, \"Cluster 0\"], [83.0, 28497.0, 0.3938023931664613, 15510.112981164848, \"Cluster 0\"], [87.0, 46910.0, 0.3085616998317755, 14789.14847617646, \"Cluster 0\"], [88.0, 17388.0, 0.4661894446652393, 16698.6210372462, \"Cluster 0\"], [84.0, 38042.0, 0.3660858718547989, 17465.856285855403, \"Cluster 0\"], [85.0, 34802.0, 0.2987969233586417, 16450.003270402787, \"Cluster 0\"], [91.0, 25237.0, 0.3535018242414266, 17292.733103848248, \"Cluster 0\"], [90.0, 30178.0, 0.2823512821567113, 16182.8384364088, \"Cluster 0\"], [88.0, 32708.0, 0.3682153159958089, 16711.0679804242, \"Cluster 0\"], [89.0, 31096.0, 0.2785878455435617, 17736.94259966666, \"Cluster 0\"], [88.0, 27169.0, 0.28005950486141434, 15260.635546195437, \"Cluster 0\"], [92.0, 32915.0, 0.3885749195868542, 16694.706839244012, \"Cluster 0\"], [90.0, 25733.0, 0.3385629680709827, 17631.56888411863, \"Cluster 0\"], [85.0, 26355.0, 0.34234066669498114, 17971.19363998381, \"Cluster 0\"], [88.0, 28585.0, 0.3977396663840213, 16725.841854363774, \"Cluster 0\"], [94.0, 27771.0, 0.3025032231546657, 17303.957194969433, \"Cluster 0\"], [84.0, 22286.0, 0.3955062459001081, 17886.53737311577, \"Cluster 0\"], [91.0, 26424.0, 0.3193886529047028, 16501.46877669979, \"Cluster 0\"], [88.0, 17946.0, 0.26964363039994416, 16715.160017840968, \"Cluster 0\"], [87.0, 30812.0, 0.3144631516753479, 15238.118997598334, \"Cluster 0\"], [86.0, 36031.0, 0.2401766350783482, 16945.326244896307, \"Cluster 0\"], [83.0, 30492.0, 0.3016314685914632, 15365.85846293255, \"Cluster 0\"], [83.0, 33170.0, 0.24107774427464634, 16620.010473689304, \"Cluster 0\"], [91.0, 25886.0, 0.30175376758370465, 17266.045729118025, \"Cluster 0\"], [86.0, 15695.0, 0.25717496647489363, 17366.186263516567, \"Cluster 0\"], [89.0, 22008.0, 0.3819060693389532, 16458.398097731253, \"Cluster 0\"], [92.0, 36032.0, 0.3369683066109672, 17348.5998812573, \"Cluster 0\"], [87.0, 23042.0, 0.3663120107544869, 18149.035872923057, \"Cluster 0\"], [84.0, 36463.0, 0.3536209572557781, 16563.372591147832, \"Cluster 0\"], [83.0, 30721.0, 0.3311418077630257, 17705.99238527814, \"Cluster 0\"], [83.0, 23206.0, 0.3212403632065312, 16870.672003783384, \"Cluster 0\"], [85.0, 28408.0, 0.3580738593579665, 15063.335797441836, \"Cluster 0\"], [90.0, 33188.0, 0.24881006879023135, 15866.913937696345, \"Cluster 0\"], [97.0, 27271.0, 0.28392289527040304, 14928.165597390327, \"Cluster 0\"], [92.0, 18724.0, 0.3278623148176303, 15341.381109594675, \"Cluster 0\"], [87.0, 23322.0, 0.30682119734644964, 16131.267659393414, \"Cluster 0\"], [91.0, 28165.0, 0.3036929225036061, 17460.179350212424, \"Cluster 0\"], [83.0, 28727.0, 0.3082630418510537, 18205.33626089001, \"Cluster 0\"], [87.0, 31481.0, 0.317423970601333, 16180.68808203422, \"Cluster 0\"], [91.0, 26917.0, 0.37671353045834655, 17986.618644605885, \"Cluster 0\"], [82.0, 33636.0, 0.3717829785401914, 17866.83359752812, \"Cluster 0\"], [91.0, 24370.0, 0.2963285713632805, 16141.048981383728, \"Cluster 0\"], [90.0, 24376.0, 0.2812794569155436, 15134.994226396464, \"Cluster 0\"], [86.0, 23400.0, 0.27803553844702666, 15215.28126373834, \"Cluster 0\"], [85.0, 21652.0, 0.3184561372216806, 14175.16988549895, \"Cluster 0\"], [90.0, 22782.0, 0.3563068710287742, 15924.071707885845, \"Cluster 0\"], [84.0, 18244.0, 0.29266337446440194, 17815.348406878897, \"Cluster 0\"], [87.0, 26665.0, 0.4021456613889217, 17376.914743318182, \"Cluster 0\"], [84.0, 24105.0, 0.2718090229374729, 16524.902538052145, \"Cluster 0\"], [88.0, 31366.0, 0.3796208481334848, 16079.622699815933, \"Cluster 0\"], [91.0, 22672.0, 0.2710645345158169, 15407.646761130874, \"Cluster 0\"], [84.0, 30481.0, 0.3970228936031003, 16837.205964813103, \"Cluster 0\"], [94.0, 23854.0, 0.3144466826182581, 16828.410118749016, \"Cluster 0\"], [89.0, 28160.0, 0.3388488510290433, 15607.061781887898, \"Cluster 0\"], [92.0, 33550.0, 0.3685156285793065, 17106.32591058189, \"Cluster 0\"], [89.0, 34524.0, 0.348118273264174, 14051.256515312789, \"Cluster 0\"], [90.0, 37503.0, 0.35778831446458764, 17258.57497274541, \"Cluster 0\"], [90.0, 35297.0, 0.35514901905663643, 16091.401954058958, \"Cluster 0\"], [88.0, 17851.0, 0.2898659849627828, 17472.470686173863, \"Cluster 0\"], [88.0, 33303.0, 0.39971568554521497, 15232.598068845287, \"Cluster 0\"], [93.0, 19934.0, 0.20314023979537812, 17969.693768505334, \"Cluster 0\"], [90.0, 29029.0, 0.30375897133462404, 15592.991530526488, \"Cluster 0\"], [87.0, 26045.0, 0.3752921226023748, 15903.558359374925, \"Cluster 0\"], [87.0, 30102.0, 0.3903905943444749, 16330.081190027211, \"Cluster 0\"], [91.0, 30756.0, 0.30369803009825364, 15492.004711465304, \"Cluster 0\"], [87.0, 17760.0, 0.34877754843050746, 16869.507130301474, \"Cluster 0\"], [87.0, 15671.0, 0.3507250914944152, 14326.601120246103, \"Cluster 0\"], [92.0, 35484.0, 0.3970636039704499, 17324.045112814925, \"Cluster 0\"], [84.0, 20704.0, 0.3794963151514172, 16816.911895743782, \"Cluster 0\"], [87.0, 29909.0, 0.3421516318130469, 18142.232746738577, \"Cluster 0\"], [87.0, 42592.0, 0.35528968203827593, 18086.287157859304, \"Cluster 0\"], [83.0, 34384.0, 0.3247186821733417, 14783.379085794499, \"Cluster 0\"], [79.0, 32421.0, 0.3032762059432743, 15319.467662272391, \"Cluster 0\"], [92.0, 22616.0, 0.3228506824321553, 17275.66131398456, \"Cluster 0\"], [91.0, 36991.0, 0.2685979050949868, 19047.77233878285, \"Cluster 0\"], [83.0, 34529.0, 0.3172075114569807, 16517.208746949746, \"Cluster 0\"], [86.0, 27705.0, 0.3293769514872405, 17130.85610211788, \"Cluster 0\"], [84.0, 27693.0, 0.3670629731870412, 17879.558905551898, \"Cluster 0\"], [82.0, 24391.0, 0.27610134635529604, 17053.03010738692, \"Cluster 0\"]], \"hoverlabel\": {\"namelength\": 0}, \"hovertemplate\": \"Cluster=%{customdata[4]}<br>Income=%{customdata[1]}<br>Age=%{customdata[0]}<br>SpendingScore=%{customdata[2]}<br>Savings=%{customdata[3]}\", \"legendgroup\": \"Cluster=Cluster 0\", \"marker\": {\"color\": \"#636efa\"}, \"name\": \"Cluster=Cluster 0\", \"notched\": true, \"offsetgroup\": \"Cluster=Cluster 0\", \"showlegend\": false, \"type\": \"box\", \"x\": [30267, 29082, 22484, 33490, 17672, 26940, 28409, 30178, 31994, 33610, 12038, 35051, 12000, 36639, 22288, 21250, 30148, 26351, 28401, 34634, 34001, 42018, 26092, 28352, 28779, 38923, 25252, 25566, 27384, 28777, 27168, 22602, 28802, 24520, 29750, 33259, 33311, 18162, 26882, 18812, 29492, 18937, 20719, 38201, 19510, 30794, 24221, 32494, 16950, 20681, 20292, 27179, 24578, 34425, 20440, 27544, 27038, 26127, 46977, 27599, 25701, 35877, 19202, 29204, 33251, 35998, 27169, 18459, 29610, 28497, 46910, 17388, 38042, 34802, 25237, 30178, 32708, 31096, 27169, 32915, 25733, 26355, 28585, 27771, 22286, 26424, 17946, 30812, 36031, 30492, 33170, 25886, 15695, 22008, 36032, 23042, 36463, 30721, 23206, 28408, 33188, 27271, 18724, 23322, 28165, 28727, 31481, 26917, 33636, 24370, 24376, 23400, 21652, 22782, 18244, 26665, 24105, 31366, 22672, 30481, 23854, 28160, 33550, 34524, 37503, 35297, 17851, 33303, 19934, 29029, 26045, 30102, 30756, 17760, 15671, 35484, 20704, 29909, 42592, 34384, 32421, 22616, 36991, 34529, 27705, 27693, 24391], \"xaxis\": \"x2\", \"yaxis\": \"y2\"}, {\"alignmentgroup\": \"True\", \"bingroup\": \"x\", \"hoverlabel\": {\"namelength\": 0}, \"hovertemplate\": \"Cluster=Cluster 1<br>Income=%{x}<br>count=%{y}\", \"legendgroup\": \"Cluster=Cluster 1\", \"marker\": {\"color\": \"#EF553B\", \"opacity\": 0.7}, \"name\": \"Cluster=Cluster 1\", \"offsetgroup\": \"Cluster=Cluster 1\", \"orientation\": \"v\", \"showlegend\": true, \"type\": \"histogram\", \"x\": [70430, 69655, 71229, 69408, 73495, 65942, 73895, 75078, 62747, 75505, 59243, 77559, 77052, 70272, 65608, 76573, 71672, 69460, 77648, 74282, 70369, 75495, 71171, 76410, 56875, 78801, 67731, 67372, 73675, 68663, 78837, 72055, 67370, 80431, 72086, 82199, 80248, 64768, 68842, 76831, 78611, 68944, 69247, 78702, 73516, 73596, 90422, 79794, 70054, 80914, 65914, 74460, 73350, 64803, 56321, 67401, 70676, 70580, 72027, 65313, 76052, 75599, 68038, 72060, 63476, 78992, 82343, 78078, 77978, 69326, 69115, 67346, 74430, 62886, 80876, 73057, 65647, 64331, 77769, 76594, 70798, 86484, 85761, 70259, 79969, 69879, 73480, 72571, 64866, 72815, 71692, 63596, 62650, 71436, 65736, 70663, 80705, 84386, 75757, 71050, 68698, 67781, 66017, 80093, 67988, 88361, 82526, 74576, 72588, 81799, 74751, 74373, 76500, 71933, 71621, 76667, 78761, 76955, 65700, 69738, 63866, 74117, 63846, 70012, 75332, 73245, 74356, 62117, 69001, 60493, 69741, 71056, 74340, 79470, 77101, 76364, 74014, 67030, 68463, 74996, 65340, 60059, 78413, 69698, 68279, 76057, 67491, 83351, 71033, 71302, 80278, 67274, 65054, 69391, 78635, 86283, 69849], \"xaxis\": \"x\", \"yaxis\": \"y\"}, {\"alignmentgroup\": \"True\", \"customdata\": [[65.0, 70430.0, 0.6969942581249643, 6971.164886262858, \"Cluster 1\"], [57.0, 69655.0, 0.6748906779058501, 5889.831167170132, \"Cluster 1\"], [65.0, 71229.0, 0.7878897626638453, 9024.337460598084, \"Cluster 1\"], [59.0, 69408.0, 0.8799059975919311, 6491.771149967824, \"Cluster 1\"], [61.0, 73495.0, 0.7727563051023116, 9288.189785744367, \"Cluster 1\"], [60.0, 65942.0, 0.8005783854654352, 5253.2650066086435, \"Cluster 1\"], [55.0, 73895.0, 0.7471254610291731, 5563.906948891499, \"Cluster 1\"], [63.0, 75078.0, 0.7831591503681397, 7468.8510795028005, \"Cluster 1\"], [62.0, 62747.0, 0.7705945596869115, 5852.326242628098, \"Cluster 1\"], [59.0, 75505.0, 0.7682786576081454, 5006.528691371692, \"Cluster 1\"], [67.0, 59243.0, 0.7436599996604758, 5446.557472721708, \"Cluster 1\"], [58.0, 77559.0, 0.7122963723872477, 5742.524488088997, \"Cluster 1\"], [66.0, 77052.0, 0.7072624347132287, 6296.417311227459, \"Cluster 1\"], [58.0, 70272.0, 0.8229596005059499, 5290.087044285296, \"Cluster 1\"], [57.0, 65608.0, 0.7662313009024402, 6904.318224287022, \"Cluster 1\"], [57.0, 76573.0, 0.8405990704520518, 6225.3760824332285, \"Cluster 1\"], [66.0, 71672.0, 0.7538892176112998, 7387.835437850721, \"Cluster 1\"], [59.0, 69460.0, 0.7527238381125997, 6101.372146632121, \"Cluster 1\"], [68.0, 77648.0, 0.7965446939835457, 6190.864082788901, \"Cluster 1\"], [61.0, 74282.0, 0.6922364738673796, 7286.754751068365, \"Cluster 1\"], [58.0, 70369.0, 0.9045204855363144, 7461.567502649429, \"Cluster 1\"], [59.0, 75495.0, 0.7945029052198103, 6702.9519263157545, \"Cluster 1\"], [61.0, 71171.0, 0.7210804930623951, 6457.790641224788, \"Cluster 1\"], [64.0, 76410.0, 0.7756041848937439, 6135.308197117819, \"Cluster 1\"], [63.0, 56875.0, 0.7622805817657738, 7837.233619544163, \"Cluster 1\"], [64.0, 78801.0, 0.7403674891662984, 6420.9440712002615, \"Cluster 1\"], [62.0, 67731.0, 0.8191699488980382, 5956.555677017446, \"Cluster 1\"], [61.0, 67372.0, 0.7340673095092516, 6618.549336247915, \"Cluster 1\"], [62.0, 73675.0, 0.7966191667425384, 4688.657157271711, \"Cluster 1\"], [67.0, 68663.0, 0.7738336308243648, 7451.9940140258705, \"Cluster 1\"], [61.0, 78837.0, 0.7459489746307642, 6811.303235949058, \"Cluster 1\"], [57.0, 72055.0, 0.7549723463413129, 6544.847498075687, \"Cluster 1\"], [63.0, 67370.0, 0.8999405530923943, 5985.077029740457, \"Cluster 1\"], [56.0, 80431.0, 0.7594315957853627, 8150.55743948241, \"Cluster 1\"], [51.0, 72086.0, 0.7911147257599156, 6732.096068632267, \"Cluster 1\"], [59.0, 82199.0, 0.8035145098215853, 5880.814834306347, \"Cluster 1\"], [58.0, 80248.0, 0.7249557054919687, 7641.16038162423, \"Cluster 1\"], [55.0, 64768.0, 0.7332568512323248, 6486.353872691102, \"Cluster 1\"], [61.0, 68842.0, 0.7544065421993587, 4077.6586565080543, \"Cluster 1\"], [55.0, 76831.0, 0.7421137340413241, 7806.398750466399, \"Cluster 1\"], [58.0, 78611.0, 0.910416682938019, 7665.884294519009, \"Cluster 1\"], [68.0, 68944.0, 0.7455674638713768, 6828.709702363695, \"Cluster 1\"], [58.0, 69247.0, 0.7237211912021976, 8715.67957429646, \"Cluster 1\"], [67.0, 78702.0, 0.7632736815688779, 5030.364838791924, \"Cluster 1\"], [56.0, 73516.0, 0.806499154055182, 7696.832373798451, \"Cluster 1\"], [59.0, 73596.0, 0.8567042188430352, 8281.718740320448, \"Cluster 1\"], [59.0, 90422.0, 0.8062102206275251, 6746.281083820821, \"Cluster 1\"], [57.0, 79794.0, 0.82240840085096, 5893.975284946178, \"Cluster 1\"], [60.0, 70054.0, 0.7143393610830643, 6609.918507412548, \"Cluster 1\"], [67.0, 80914.0, 0.8196642592960329, 6833.507136694643, \"Cluster 1\"], [61.0, 65914.0, 0.7781022309770123, 6406.8771303520325, \"Cluster 1\"], [60.0, 74460.0, 0.7545393292392412, 7567.6476522203675, \"Cluster 1\"], [59.0, 73350.0, 0.6797735912164855, 6710.5740183754415, \"Cluster 1\"], [57.0, 64803.0, 0.7285849289103553, 6255.552641057161, \"Cluster 1\"], [59.0, 56321.0, 0.806565925193039, 6129.288986032587, \"Cluster 1\"], [59.0, 67401.0, 0.7114339697492305, 6529.586309935448, \"Cluster 1\"], [58.0, 70676.0, 0.7640283880376706, 7664.415650964042, \"Cluster 1\"], [63.0, 70580.0, 0.7665090449070475, 7262.108723452133, \"Cluster 1\"], [61.0, 72027.0, 0.7623249166772856, 6926.123598416466, \"Cluster 1\"], [56.0, 65313.0, 0.7546029986455771, 5574.2436767070985, \"Cluster 1\"], [58.0, 76052.0, 0.7215881830727278, 6681.9843863770275, \"Cluster 1\"], [56.0, 75599.0, 0.7737370986430746, 6799.625271842961, \"Cluster 1\"], [59.0, 68038.0, 0.8014869916095588, 7719.283632687176, \"Cluster 1\"], [61.0, 72060.0, 0.8334590233217959, 7924.6411381540165, \"Cluster 1\"], [60.0, 63476.0, 0.7519000198498227, 7543.542801728056, \"Cluster 1\"], [56.0, 78992.0, 0.8122757021441627, 7285.18043685174, \"Cluster 1\"], [63.0, 82343.0, 0.7323186222078123, 8090.706739679063, \"Cluster 1\"], [58.0, 78078.0, 0.7837795500405715, 6483.049643745244, \"Cluster 1\"], [59.0, 77978.0, 0.7188952048526104, 8316.31110205122, \"Cluster 1\"], [62.0, 69326.0, 0.7980123380544829, 7003.095703317772, \"Cluster 1\"], [59.0, 69115.0, 0.7598834338453199, 5997.690199856996, \"Cluster 1\"], [59.0, 67346.0, 0.7251568963089163, 8857.849116294088, \"Cluster 1\"], [65.0, 74430.0, 0.7517741617758547, 7145.251128357927, \"Cluster 1\"], [64.0, 62886.0, 0.7480162682831766, 8302.588638401632, \"Cluster 1\"], [59.0, 80876.0, 0.6573140731575163, 7232.825142650888, \"Cluster 1\"], [59.0, 73057.0, 0.8302949092020397, 7819.393215767329, \"Cluster 1\"], [61.0, 65647.0, 0.7174899773841509, 7497.231607003855, \"Cluster 1\"], [64.0, 64331.0, 0.7571277508774099, 5815.660096290825, \"Cluster 1\"], [58.0, 77769.0, 0.7913287771988531, 6559.8299230048315, \"Cluster 1\"], [57.0, 76594.0, 0.7906578552491133, 6584.654681310476, \"Cluster 1\"], [58.0, 70798.0, 0.7535283874245788, 5330.73989989779, \"Cluster 1\"], [56.0, 86484.0, 0.7321233689266612, 8777.496176839057, \"Cluster 1\"], [63.0, 85761.0, 0.8005979105724924, 7175.090218501247, \"Cluster 1\"], [58.0, 70259.0, 0.7697129169369328, 7101.674514204499, \"Cluster 1\"], [60.0, 79969.0, 0.812104912914789, 4879.334872972362, \"Cluster 1\"], [58.0, 69879.0, 0.7209986871945887, 6669.033518051874, \"Cluster 1\"], [62.0, 73480.0, 0.7391949797931453, 6277.675150528886, \"Cluster 1\"], [66.0, 72571.0, 0.8115483367376335, 6509.41150610998, \"Cluster 1\"], [66.0, 64866.0, 0.7665941891374249, 5037.899138583947, \"Cluster 1\"], [63.0, 72815.0, 0.8200359737627068, 5504.385543801038, \"Cluster 1\"], [64.0, 71692.0, 0.8426521453196145, 7002.9765543033545, \"Cluster 1\"], [62.0, 63596.0, 0.7453271943508174, 6142.201619345869, \"Cluster 1\"], [62.0, 62650.0, 0.766572365027147, 7533.673609198676, \"Cluster 1\"], [60.0, 71436.0, 0.8320590985324969, 8557.86012627717, \"Cluster 1\"], [65.0, 65736.0, 0.7785687658100923, 6387.2196944302905, \"Cluster 1\"], [60.0, 70663.0, 0.7153396972946453, 7557.937593550947, \"Cluster 1\"], [63.0, 80705.0, 0.7626699527314824, 5154.330634621805, \"Cluster 1\"], [56.0, 84386.0, 0.7849450699605269, 7270.41953428175, \"Cluster 1\"], [58.0, 75757.0, 0.8097944168848634, 7390.5772934370325, \"Cluster 1\"], [62.0, 71050.0, 0.7353568506694507, 6988.197368273879, \"Cluster 1\"], [56.0, 68698.0, 0.7162678503859907, 7070.967006969191, \"Cluster 1\"], [59.0, 67781.0, 0.7225483489421433, 6701.527664794541, \"Cluster 1\"], [65.0, 66017.0, 0.7861892594159869, 6159.662935925753, \"Cluster 1\"], [62.0, 80093.0, 0.6909167811268888, 6756.749072752337, \"Cluster 1\"], [59.0, 67988.0, 0.8114707012366371, 7255.903114334659, \"Cluster 1\"], [64.0, 88361.0, 0.7745562258521365, 7240.759687480846, \"Cluster 1\"], [66.0, 82526.0, 0.7696800667721441, 6205.662650191712, \"Cluster 1\"], [59.0, 74576.0, 0.7812961239072382, 10547.775367695343, \"Cluster 1\"], [59.0, 72588.0, 0.8017156979122673, 6300.8437570950255, \"Cluster 1\"], [59.0, 81799.0, 0.7910820467274178, 5417.661426197439, \"Cluster 1\"], [62.0, 74751.0, 0.7026569520102857, 9258.99296503407, \"Cluster 1\"], [59.0, 74373.0, 0.7656795619984281, 7346.334503537976, \"Cluster 1\"], [54.0, 76500.0, 0.7851978501165687, 6878.884248553974, \"Cluster 1\"], [61.0, 71933.0, 0.8441067966472876, 8022.208541100706, \"Cluster 1\"], [55.0, 71621.0, 0.7533426836166189, 7780.589913955977, \"Cluster 1\"], [53.0, 76667.0, 0.7600576501232099, 5168.225474983632, \"Cluster 1\"], [55.0, 78761.0, 0.8271741985123882, 8376.74947779104, \"Cluster 1\"], [61.0, 76955.0, 0.7771175646074471, 7467.036702314494, \"Cluster 1\"], [59.0, 65700.0, 0.8114711740198254, 6932.487932327357, \"Cluster 1\"], [59.0, 69738.0, 0.7421121217155721, 7151.650866065035, \"Cluster 1\"], [56.0, 63866.0, 0.7618879582513512, 7762.255066659051, \"Cluster 1\"], [61.0, 74117.0, 0.7702140596767938, 5103.609230428381, \"Cluster 1\"], [61.0, 63846.0, 0.8278622414878984, 7283.504772674617, \"Cluster 1\"], [60.0, 70012.0, 0.7944610508231513, 7263.242447729872, \"Cluster 1\"], [57.0, 75332.0, 0.7215024376129366, 6845.056822204781, \"Cluster 1\"], [61.0, 73245.0, 0.811160373170345, 7413.784487271215, \"Cluster 1\"], [55.0, 74356.0, 0.7998269700906482, 6484.630737953294, \"Cluster 1\"], [53.0, 62117.0, 0.7331388477995737, 7500.452413594261, \"Cluster 1\"], [61.0, 69001.0, 0.8216687745413516, 5074.12121172259, \"Cluster 1\"], [64.0, 60493.0, 0.7680563479442216, 7708.112609459162, \"Cluster 1\"], [62.0, 69741.0, 0.8462196017575947, 5781.658046536959, \"Cluster 1\"], [55.0, 71056.0, 0.7565897119333272, 7464.163256732262, \"Cluster 1\"], [58.0, 74340.0, 0.7351650452097145, 7259.540921675672, \"Cluster 1\"], [57.0, 79470.0, 0.7734352958312237, 6773.049089777121, \"Cluster 1\"], [58.0, 77101.0, 0.7667195837506832, 8148.49184821177, \"Cluster 1\"], [64.0, 76364.0, 0.6993887663543108, 5772.1171358549755, \"Cluster 1\"], [57.0, 74014.0, 0.787378081122989, 5783.846928267082, \"Cluster 1\"], [62.0, 67030.0, 0.7467384433463651, 6740.765182071713, \"Cluster 1\"], [56.0, 68463.0, 0.8157116929554062, 8995.180087953215, \"Cluster 1\"], [53.0, 74996.0, 0.7387310917031671, 7821.447803561914, \"Cluster 1\"], [60.0, 65340.0, 0.7316484923943142, 8354.196507802662, \"Cluster 1\"], [56.0, 60059.0, 0.7275840223364691, 7166.858605155183, \"Cluster 1\"], [62.0, 78413.0, 0.7907090657200839, 6961.2041923680945, \"Cluster 1\"], [61.0, 69698.0, 0.7416839698444291, 8777.077471725162, \"Cluster 1\"], [62.0, 68279.0, 0.7196850779929922, 7028.675510384212, \"Cluster 1\"], [55.0, 76057.0, 0.8778279844516369, 6132.898204816149, \"Cluster 1\"], [60.0, 67491.0, 0.84661848692906, 7180.713788260257, \"Cluster 1\"], [58.0, 83351.0, 0.8406978038692191, 6673.909711092488, \"Cluster 1\"], [61.0, 71033.0, 0.8380950724014863, 9456.876962701137, \"Cluster 1\"], [59.0, 71302.0, 0.7020090041734849, 6595.726010227134, \"Cluster 1\"], [58.0, 80278.0, 0.8233589910091558, 6335.97831998802, \"Cluster 1\"], [56.0, 67274.0, 0.7798516671891869, 6652.391024403152, \"Cluster 1\"], [60.0, 65054.0, 0.7086131723969877, 5417.237293788358, \"Cluster 1\"], [62.0, 69391.0, 0.7921059737158539, 6518.283467894094, \"Cluster 1\"], [58.0, 78635.0, 0.7864400503429185, 7162.739043055361, \"Cluster 1\"], [64.0, 86283.0, 0.7568019251873561, 6852.5548669147165, \"Cluster 1\"], [63.0, 69849.0, 0.7403870808915297, 7670.6909659413295, \"Cluster 1\"]], \"hoverlabel\": {\"namelength\": 0}, \"hovertemplate\": \"Cluster=%{customdata[4]}<br>Income=%{customdata[1]}<br>Age=%{customdata[0]}<br>SpendingScore=%{customdata[2]}<br>Savings=%{customdata[3]}\", \"legendgroup\": \"Cluster=Cluster 1\", \"marker\": {\"color\": \"#EF553B\"}, \"name\": \"Cluster=Cluster 1\", \"notched\": true, \"offsetgroup\": \"Cluster=Cluster 1\", \"showlegend\": false, \"type\": \"box\", \"x\": [70430, 69655, 71229, 69408, 73495, 65942, 73895, 75078, 62747, 75505, 59243, 77559, 77052, 70272, 65608, 76573, 71672, 69460, 77648, 74282, 70369, 75495, 71171, 76410, 56875, 78801, 67731, 67372, 73675, 68663, 78837, 72055, 67370, 80431, 72086, 82199, 80248, 64768, 68842, 76831, 78611, 68944, 69247, 78702, 73516, 73596, 90422, 79794, 70054, 80914, 65914, 74460, 73350, 64803, 56321, 67401, 70676, 70580, 72027, 65313, 76052, 75599, 68038, 72060, 63476, 78992, 82343, 78078, 77978, 69326, 69115, 67346, 74430, 62886, 80876, 73057, 65647, 64331, 77769, 76594, 70798, 86484, 85761, 70259, 79969, 69879, 73480, 72571, 64866, 72815, 71692, 63596, 62650, 71436, 65736, 70663, 80705, 84386, 75757, 71050, 68698, 67781, 66017, 80093, 67988, 88361, 82526, 74576, 72588, 81799, 74751, 74373, 76500, 71933, 71621, 76667, 78761, 76955, 65700, 69738, 63866, 74117, 63846, 70012, 75332, 73245, 74356, 62117, 69001, 60493, 69741, 71056, 74340, 79470, 77101, 76364, 74014, 67030, 68463, 74996, 65340, 60059, 78413, 69698, 68279, 76057, 67491, 83351, 71033, 71302, 80278, 67274, 65054, 69391, 78635, 86283, 69849], \"xaxis\": \"x2\", \"yaxis\": \"y2\"}, {\"alignmentgroup\": \"True\", \"bingroup\": \"x\", \"hoverlabel\": {\"namelength\": 0}, \"hovertemplate\": \"Cluster=Cluster 2<br>Income=%{x}<br>count=%{y}\", \"legendgroup\": \"Cluster=Cluster 2\", \"marker\": {\"color\": \"#00cc96\", \"opacity\": 0.7}, \"name\": \"Cluster=Cluster 2\", \"offsetgroup\": \"Cluster=Cluster 2\", \"orientation\": \"v\", \"showlegend\": true, \"type\": \"histogram\", \"x\": [104738, 112531, 109809, 110882, 100661, 123651, 124372, 108499, 96241, 106588, 101503, 106894, 107302, 109038, 103204, 98033, 101811, 101905, 117943, 112943, 108651, 100158, 124170, 105006, 110732, 104678, 92569, 114406, 107958, 99161, 114642, 106543, 105036, 103223, 98137, 105826, 117668, 106757, 107100, 119697, 101943, 108417, 122696, 101073, 120678, 94775, 122879, 107963, 99949, 99780, 111389, 98030, 101206, 107877, 119366, 102618, 106014, 101209, 101058, 101481, 119429, 98993, 109152, 117564, 102291, 106772, 107994, 114833, 107932, 110106, 100592, 116616, 111449, 94762, 100540, 96336, 117050, 126601, 104285, 104284, 110595, 94964, 101641, 100275, 97750, 110564, 107115, 111426, 108004, 128378, 114555, 116451, 98821, 105991, 102035, 106664, 89598, 107255, 115237, 126257, 114767, 118169, 117112, 111813, 105667, 91375, 117347, 99611, 99457, 97831, 108067, 106345, 107926, 108581, 98165, 106350, 107525, 115689, 102028, 102056, 111937, 97678, 108635, 121642, 106990, 97965, 108928, 95536, 107131, 101691, 104388, 102308, 99637, 110860, 112878, 115146, 111303, 108345, 110439, 98752, 116247, 106758, 99216, 113659, 110582, 128596, 103428, 109075, 105567, 118794, 119877], \"xaxis\": \"x\", \"yaxis\": \"y\"}, {\"alignmentgroup\": \"True\", \"customdata\": [[38.0, 104738.0, 0.4059588503683713, 15634.313868027426, \"Cluster 2\"], [29.0, 112531.0, 0.3427661743407053, 14361.334979176147, \"Cluster 2\"], [36.0, 109809.0, 0.355660187354229, 14978.502144076487, \"Cluster 2\"], [31.0, 110882.0, 0.3252806065281125, 14004.61374291491, \"Cluster 2\"], [39.0, 100661.0, 0.3766412501689559, 16873.128638209408, \"Cluster 2\"], [88.0, 123651.0, 0.02902714029105191, 13504.577571797938, \"Cluster 2\"], [86.0, 124372.0, 0.0, 15374.465952896948, \"Cluster 2\"], [35.0, 108499.0, 0.2612719132713158, 16046.08301542436, \"Cluster 2\"], [30.0, 96241.0, 0.3773384910014747, 15485.156009739387, \"Cluster 2\"], [35.0, 106588.0, 0.3422142051018276, 15648.65667046098, \"Cluster 2\"], [25.0, 101503.0, 0.28846885607409833, 15026.262148820157, \"Cluster 2\"], [37.0, 106894.0, 0.3432357689892068, 14075.217365594552, \"Cluster 2\"], [30.0, 107302.0, 0.2396771776819925, 13993.24401848172, \"Cluster 2\"], [36.0, 109038.0, 0.3242132027621541, 16502.389477657125, \"Cluster 2\"], [34.0, 103204.0, 0.30108735378393314, 15149.810421179482, \"Cluster 2\"], [33.0, 98033.0, 0.30951111585458696, 15774.690605560645, \"Cluster 2\"], [36.0, 101811.0, 0.3406667947415742, 15048.89961242685, \"Cluster 2\"], [32.0, 101905.0, 0.3074763135926987, 17532.16478349903, \"Cluster 2\"], [83.0, 117943.0, 0.07721324003343044, 15391.95219220651, \"Cluster 2\"], [31.0, 112943.0, 0.34123950330738706, 14297.702229457283, \"Cluster 2\"], [37.0, 108651.0, 0.1923436158292553, 15881.242198260683, \"Cluster 2\"], [36.0, 100158.0, 0.31606041409802405, 13832.379370734528, \"Cluster 2\"], [90.0, 124170.0, 0.030751314393913882, 14773.407205599842, \"Cluster 2\"], [31.0, 105006.0, 0.3741658782934958, 15419.41776312329, \"Cluster 2\"], [37.0, 110732.0, 0.3226762482802641, 14265.351840497759, \"Cluster 2\"], [35.0, 104678.0, 0.3279928581002429, 15422.055799721802, \"Cluster 2\"], [33.0, 92569.0, 0.33607980556714456, 13765.685995748696, \"Cluster 2\"], [84.0, 114406.0, 0.12383837464097253, 16840.570583774286, \"Cluster 2\"], [37.0, 107958.0, 0.34666907654318496, 13641.009538079368, \"Cluster 2\"], [29.0, 99161.0, 0.3079200040396055, 15631.836772980834, \"Cluster 2\"], [44.0, 114642.0, 0.3092049154534188, 14067.617788950563, \"Cluster 2\"], [32.0, 106543.0, 0.3107432443044589, 14337.288328489092, \"Cluster 2\"], [31.0, 105036.0, 0.2722279930569666, 16465.063521972657, \"Cluster 2\"], [29.0, 103223.0, 0.3388162937437745, 16252.883053065632, \"Cluster 2\"], [36.0, 98137.0, 0.29740129315965397, 15978.332837131276, \"Cluster 2\"], [31.0, 105826.0, 0.2862743235826754, 13856.805832195869, \"Cluster 2\"], [90.0, 117668.0, 0.08272274299401555, 12554.692742420659, \"Cluster 2\"], [33.0, 106757.0, 0.25839611372125515, 14431.652799234367, \"Cluster 2\"], [33.0, 107100.0, 0.3424354833732075, 14895.473479049117, \"Cluster 2\"], [89.0, 119697.0, 0.0916792017028315, 16215.399076555514, \"Cluster 2\"], [29.0, 101943.0, 0.3256230614429721, 14619.354282159029, \"Cluster 2\"], [32.0, 108417.0, 0.28737086714008075, 16696.398659007995, \"Cluster 2\"], [84.0, 122696.0, 0.08218683192473558, 13809.734086698068, \"Cluster 2\"], [30.0, 101073.0, 0.3143871202044516, 14324.555977118509, \"Cluster 2\"], [88.0, 120678.0, 0.06327285129660287, 14264.473846639943, \"Cluster 2\"], [38.0, 94775.0, 0.3803902009461493, 16867.13082002739, \"Cluster 2\"], [92.0, 122879.0, 0.0607240352184939, 13709.670274517475, \"Cluster 2\"], [31.0, 107963.0, 0.2905086327499087, 13407.081391032512, \"Cluster 2\"], [30.0, 99949.0, 0.344679223509786, 13621.639726331408, \"Cluster 2\"], [36.0, 99780.0, 0.2654326074020303, 16398.40133318453, \"Cluster 2\"], [85.0, 111389.0, 0.0367953622110323, 16009.237762922363, \"Cluster 2\"], [30.0, 98030.0, 0.4111117138132285, 16316.842905166694, \"Cluster 2\"], [28.0, 101206.0, 0.3874406981253433, 14936.775388622864, \"Cluster 2\"], [37.0, 107877.0, 0.3346179841546032, 17968.55392863446, \"Cluster 2\"], [29.0, 119366.0, 0.3587713900686116, 15012.853014226299, \"Cluster 2\"], [31.0, 102618.0, 0.2763779214063509, 13209.301612848929, \"Cluster 2\"], [29.0, 106014.0, 0.34794511357773106, 15038.010746320377, \"Cluster 2\"], [31.0, 101209.0, 0.3043229953712128, 16917.571691218804, \"Cluster 2\"], [33.0, 101058.0, 0.3150815497840024, 14911.868398206978, \"Cluster 2\"], [31.0, 101481.0, 0.2702350511848681, 15226.614133627569, \"Cluster 2\"], [83.0, 119429.0, 0.042154801078558464, 15607.561541234569, \"Cluster 2\"], [34.0, 98993.0, 0.3229930887837502, 16138.079373431863, \"Cluster 2\"], [22.0, 109152.0, 0.32344641636242355, 16022.482482363523, \"Cluster 2\"], [87.0, 117564.0, 0.1282795957567026, 14000.248964992143, \"Cluster 2\"], [34.0, 102291.0, 0.24786227611431386, 15819.577601160518, \"Cluster 2\"], [25.0, 106772.0, 0.3909047196000217, 16353.471790615497, \"Cluster 2\"], [31.0, 107994.0, 0.2944689389706671, 13685.972361738892, \"Cluster 2\"], [31.0, 114833.0, 0.3050696862135815, 13953.029721407644, \"Cluster 2\"], [31.0, 107932.0, 0.3742421881649845, 12207.526078087714, \"Cluster 2\"], [35.0, 110106.0, 0.2867692710102035, 14924.537223475552, \"Cluster 2\"], [28.0, 100592.0, 0.2595983487762325, 15520.355775683653, \"Cluster 2\"], [33.0, 116616.0, 0.3209300476959025, 15104.49811363824, \"Cluster 2\"], [31.0, 111449.0, 0.29410620308282165, 13929.62155143948, \"Cluster 2\"], [28.0, 94762.0, 0.3035961911057213, 15352.521936894913, \"Cluster 2\"], [39.0, 100540.0, 0.3849229829012918, 16741.013894847743, \"Cluster 2\"], [36.0, 96336.0, 0.28809756719298163, 15286.769335194167, \"Cluster 2\"], [32.0, 117050.0, 0.3113555349689566, 14310.546206532163, \"Cluster 2\"], [93.0, 126601.0, 0.025170169477345742, 14117.44703707058, \"Cluster 2\"], [36.0, 104285.0, 0.2123600508972585, 13347.558779497918, \"Cluster 2\"], [34.0, 104284.0, 0.34454541177986714, 13541.801770810564, \"Cluster 2\"], [37.0, 110595.0, 0.28664850500199834, 15235.445457133224, \"Cluster 2\"], [33.0, 94964.0, 0.3302325026567214, 14018.349867336628, \"Cluster 2\"], [43.0, 101641.0, 0.3819838041034955, 14424.097995592982, \"Cluster 2\"], [33.0, 100275.0, 0.3630856827120957, 13735.438742381079, \"Cluster 2\"], [26.0, 97750.0, 0.2934087605160681, 15823.032361634105, \"Cluster 2\"], [24.0, 110564.0, 0.3049430059244969, 14967.839625179657, \"Cluster 2\"], [31.0, 107115.0, 0.3280420856997338, 15693.499570389358, \"Cluster 2\"], [29.0, 111426.0, 0.4002811559385194, 14352.643773230728, \"Cluster 2\"], [36.0, 108004.0, 0.3089229914936124, 15813.964573146997, \"Cluster 2\"], [86.0, 128378.0, 0.12608340975849852, 13585.778624417357, \"Cluster 2\"], [33.0, 114555.0, 0.2792568364789493, 13746.745438440072, \"Cluster 2\"], [29.0, 116451.0, 0.3406596106851227, 15294.661511529368, \"Cluster 2\"], [40.0, 98821.0, 0.27908085018704903, 15995.160053914664, \"Cluster 2\"], [35.0, 105991.0, 0.34337797815210225, 16616.088239618915, \"Cluster 2\"], [32.0, 102035.0, 0.26207035616469115, 14209.932802396092, \"Cluster 2\"], [37.0, 106664.0, 0.2775867542026021, 14479.374117495967, \"Cluster 2\"], [34.0, 89598.0, 0.3401523810436963, 12832.768720823738, \"Cluster 2\"], [34.0, 107255.0, 0.3283430294033384, 15130.595225546444, \"Cluster 2\"], [84.0, 115237.0, 0.06877820981367339, 14396.568282311468, \"Cluster 2\"], [82.0, 126257.0, 0.07809619439943333, 15816.101922357922, \"Cluster 2\"], [88.0, 114767.0, 0.032207542338926365, 17833.093470094427, \"Cluster 2\"], [85.0, 118169.0, 0.123196057747337, 14855.951023927619, \"Cluster 2\"], [35.0, 117112.0, 0.3047918711384766, 15908.035997555322, \"Cluster 2\"], [33.0, 111813.0, 0.2382437868013801, 15901.238967721652, \"Cluster 2\"], [33.0, 105667.0, 0.25075080562386165, 12869.761073905089, \"Cluster 2\"], [29.0, 91375.0, 0.2354504258588228, 13104.962760687613, \"Cluster 2\"], [83.0, 117347.0, 0.15569409232860987, 15086.701120471576, \"Cluster 2\"], [28.0, 99611.0, 0.2795578681222758, 15345.658121390226, \"Cluster 2\"], [31.0, 99457.0, 0.3658064971511749, 14580.613477014092, \"Cluster 2\"], [37.0, 97831.0, 0.3744658274308825, 14935.144813058325, \"Cluster 2\"], [31.0, 108067.0, 0.2686742663930692, 13316.767286164832, \"Cluster 2\"], [33.0, 106345.0, 0.3392354218755358, 15300.45379012999, \"Cluster 2\"], [30.0, 107926.0, 0.2301607310342209, 15520.536309707046, \"Cluster 2\"], [30.0, 108581.0, 0.3094467811568005, 15628.791650531211, \"Cluster 2\"], [34.0, 98165.0, 0.17412049382306485, 15721.86284266975, \"Cluster 2\"], [30.0, 106350.0, 0.3694162857692797, 14863.233588279092, \"Cluster 2\"], [30.0, 107525.0, 0.2948164301396663, 12702.847385049918, \"Cluster 2\"], [86.0, 115689.0, 0.057842956133581036, 14803.153273493916, \"Cluster 2\"], [29.0, 102028.0, 0.2889604994756899, 14634.430692347907, \"Cluster 2\"], [30.0, 102056.0, 0.2607006223919937, 15370.66882713054, \"Cluster 2\"], [28.0, 111937.0, 0.2537347301209012, 13669.110632506934, \"Cluster 2\"], [37.0, 97678.0, 0.2574704443875843, 15834.113173627364, \"Cluster 2\"], [37.0, 108635.0, 0.28649570314839057, 14558.054542315444, \"Cluster 2\"], [82.0, 121642.0, 0.054653190464209855, 14177.513323069668, \"Cluster 2\"], [42.0, 106990.0, 0.330065422314764, 14856.938997469417, \"Cluster 2\"], [28.0, 97965.0, 0.3134915614599665, 14981.402201916082, \"Cluster 2\"], [30.0, 108928.0, 0.30386361503665704, 14339.652917342728, \"Cluster 2\"], [32.0, 95536.0, 0.26624605681014885, 15420.625644002741, \"Cluster 2\"], [35.0, 107131.0, 0.2424731551814769, 16200.013010637644, \"Cluster 2\"], [35.0, 101691.0, 0.3491110181825554, 14152.671689505803, \"Cluster 2\"], [31.0, 104388.0, 0.2864732316476225, 14406.561248437842, \"Cluster 2\"], [35.0, 102308.0, 0.2751372175012177, 14874.557991326978, \"Cluster 2\"], [33.0, 99637.0, 0.2282170773869075, 15139.403142647532, \"Cluster 2\"], [29.0, 110860.0, 0.31944030103524745, 16260.42103081417, \"Cluster 2\"], [35.0, 112878.0, 0.3009135799974076, 13755.48230187328, \"Cluster 2\"], [38.0, 115146.0, 0.3144900731288347, 14798.868153501797, \"Cluster 2\"], [34.0, 111303.0, 0.34531257710928803, 14624.318634976555, \"Cluster 2\"], [33.0, 108345.0, 0.32541328975821004, 15646.32171735943, \"Cluster 2\"], [32.0, 110439.0, 0.30699015827427256, 13873.50756985278, \"Cluster 2\"], [34.0, 98752.0, 0.3720337099315751, 14975.384238944334, \"Cluster 2\"], [31.0, 116247.0, 0.2943151380482853, 16178.204715186297, \"Cluster 2\"], [27.0, 106758.0, 0.2662947092346973, 14942.560723173168, \"Cluster 2\"], [39.0, 99216.0, 0.21660614339457274, 15230.345105300736, \"Cluster 2\"], [38.0, 113659.0, 0.3334859873871594, 14364.693391419, \"Cluster 2\"], [84.0, 110582.0, 0.07904903227945975, 14937.995169685584, \"Cluster 2\"], [77.0, 128596.0, 0.04082407066250976, 14503.410786381415, \"Cluster 2\"], [34.0, 103428.0, 0.2474244093916156, 13791.035761571968, \"Cluster 2\"], [28.0, 109075.0, 0.36276196062401134, 14082.458238005996, \"Cluster 2\"], [36.0, 105567.0, 0.3126388486955741, 14355.31094653896, \"Cluster 2\"], [91.0, 118794.0, 0.0192120658984376, 14047.388986415735, \"Cluster 2\"], [34.0, 119877.0, 0.3054369951589357, 15634.788286084158, \"Cluster 2\"]], \"hoverlabel\": {\"namelength\": 0}, \"hovertemplate\": \"Cluster=%{customdata[4]}<br>Income=%{customdata[1]}<br>Age=%{customdata[0]}<br>SpendingScore=%{customdata[2]}<br>Savings=%{customdata[3]}\", \"legendgroup\": \"Cluster=Cluster 2\", \"marker\": {\"color\": \"#00cc96\"}, \"name\": \"Cluster=Cluster 2\", \"notched\": true, \"offsetgroup\": \"Cluster=Cluster 2\", \"showlegend\": false, \"type\": \"box\", \"x\": [104738, 112531, 109809, 110882, 100661, 123651, 124372, 108499, 96241, 106588, 101503, 106894, 107302, 109038, 103204, 98033, 101811, 101905, 117943, 112943, 108651, 100158, 124170, 105006, 110732, 104678, 92569, 114406, 107958, 99161, 114642, 106543, 105036, 103223, 98137, 105826, 117668, 106757, 107100, 119697, 101943, 108417, 122696, 101073, 120678, 94775, 122879, 107963, 99949, 99780, 111389, 98030, 101206, 107877, 119366, 102618, 106014, 101209, 101058, 101481, 119429, 98993, 109152, 117564, 102291, 106772, 107994, 114833, 107932, 110106, 100592, 116616, 111449, 94762, 100540, 96336, 117050, 126601, 104285, 104284, 110595, 94964, 101641, 100275, 97750, 110564, 107115, 111426, 108004, 128378, 114555, 116451, 98821, 105991, 102035, 106664, 89598, 107255, 115237, 126257, 114767, 118169, 117112, 111813, 105667, 91375, 117347, 99611, 99457, 97831, 108067, 106345, 107926, 108581, 98165, 106350, 107525, 115689, 102028, 102056, 111937, 97678, 108635, 121642, 106990, 97965, 108928, 95536, 107131, 101691, 104388, 102308, 99637, 110860, 112878, 115146, 111303, 108345, 110439, 98752, 116247, 106758, 99216, 113659, 110582, 128596, 103428, 109075, 105567, 118794, 119877], \"xaxis\": \"x2\", \"yaxis\": \"y2\"}, {\"alignmentgroup\": \"True\", \"bingroup\": \"x\", \"hoverlabel\": {\"namelength\": 0}, \"hovertemplate\": \"Cluster=Cluster 3<br>Income=%{x}<br>count=%{y}\", \"legendgroup\": \"Cluster=Cluster 3\", \"marker\": {\"color\": \"#ab63fa\", \"opacity\": 0.7}, \"name\": \"Cluster=Cluster 3\", \"offsetgroup\": \"Cluster=Cluster 3\", \"orientation\": \"v\", \"showlegend\": true, \"type\": \"histogram\", \"x\": [122671, 138443, 138021, 134734, 129087, 129469, 129937, 123005, 126500, 121468, 120226, 122924, 134209, 130974, 131578, 132948, 123153, 131827, 128625, 136644, 134389, 130934, 122581, 122788, 130361, 123229, 129142, 127352, 120525, 126617, 123828, 125662, 127699, 130813, 123678, 129726, 134966, 125008, 131009, 120465, 129019, 127320, 117108, 120957, 134384, 136255, 142000, 122264, 121216, 123718], \"xaxis\": \"x\", \"yaxis\": \"y\"}, {\"alignmentgroup\": \"True\", \"customdata\": [[27.0, 122671.0, 0.910107112831516, 4206.287238709509, \"Cluster 3\"], [23.0, 138443.0, 0.9226565539031124, 3297.058843994153, \"Cluster 3\"], [25.0, 138021.0, 0.944017175810026, 3005.577482475175, \"Cluster 3\"], [17.0, 134734.0, 0.8579216672301577, 0.0, \"Cluster 3\"], [24.0, 129087.0, 0.8271179432765905, 3290.829468618805, \"Cluster 3\"], [20.0, 129469.0, 0.9399954311014268, 5522.573424346325, \"Cluster 3\"], [23.0, 129937.0, 0.8727356634334804, 4102.065424707484, \"Cluster 3\"], [26.0, 123005.0, 0.9845261943505972, 4371.23473281147, \"Cluster 3\"], [23.0, 126500.0, 0.8650328592458483, 3270.150434407087, \"Cluster 3\"], [27.0, 121468.0, 0.9206489879585448, 5011.112062373318, \"Cluster 3\"], [23.0, 120226.0, 0.8819129663041946, 4698.294710949844, \"Cluster 3\"], [31.0, 122924.0, 0.89046022417733, 3071.944576152969, \"Cluster 3\"], [22.0, 134209.0, 0.8706980046008759, 5138.109568643242, \"Cluster 3\"], [24.0, 130974.0, 0.9118386021444842, 4420.0727101369375, \"Cluster 3\"], [29.0, 131578.0, 0.8470341025128371, 3535.5143522162816, \"Cluster 3\"], [22.0, 132948.0, 0.8898001728484242, 2839.7863574778585, \"Cluster 3\"], [28.0, 123153.0, 0.9842407862639496, 3697.5136453853297, \"Cluster 3\"], [26.0, 131827.0, 0.8807194909406801, 4352.699304837541, \"Cluster 3\"], [25.0, 128625.0, 0.8167389887954251, 4914.117127206949, \"Cluster 3\"], [24.0, 136644.0, 0.8716976842508705, 1617.2257000775644, \"Cluster 3\"], [24.0, 134389.0, 0.9388521378701832, 4573.60634580409, \"Cluster 3\"], [25.0, 130934.0, 0.9137660194970426, 3942.389134492165, \"Cluster 3\"], [20.0, 122581.0, 0.8940806156500202, 4444.4476842520535, \"Cluster 3\"], [30.0, 122788.0, 0.8728724057273831, 5706.149573297764, \"Cluster 3\"], [25.0, 130361.0, 0.9254385568124625, 4691.55213906238, \"Cluster 3\"], [28.0, 123229.0, 0.8733219541371664, 610.4462190811464, \"Cluster 3\"], [20.0, 129142.0, 0.8870519941988757, 5603.121027746489, \"Cluster 3\"], [24.0, 127352.0, 0.9054521594192038, 2961.716874324024, \"Cluster 3\"], [22.0, 120525.0, 1.0, 5495.165732288548, \"Cluster 3\"], [26.0, 126617.0, 0.8770521049168103, 2913.368146562765, \"Cluster 3\"], [17.0, 123828.0, 0.9420129076091708, 3798.8403998790254, \"Cluster 3\"], [26.0, 125662.0, 0.9268183658411524, 6089.47832250152, \"Cluster 3\"], [28.0, 127699.0, 0.8814245468734898, 5490.814955670689, \"Cluster 3\"], [18.0, 130813.0, 0.8908912472675831, 5256.434559627984, \"Cluster 3\"], [21.0, 123678.0, 0.8320252689431032, 2838.8158208359087, \"Cluster 3\"], [21.0, 129726.0, 0.9517923119702948, 4550.7995216878835, \"Cluster 3\"], [17.0, 134966.0, 0.9072421746334024, 4128.044795832438, \"Cluster 3\"], [27.0, 125008.0, 0.9596454072349518, 2963.6377080587795, \"Cluster 3\"], [25.0, 131009.0, 0.8640569016468125, 4792.426581212785, \"Cluster 3\"], [24.0, 120465.0, 0.9074853865005544, 4838.348350281593, \"Cluster 3\"], [28.0, 129019.0, 0.9308319590820414, 3016.8206434862623, \"Cluster 3\"], [26.0, 127320.0, 0.8250298045601994, 5495.642137901324, \"Cluster 3\"], [28.0, 117108.0, 0.857078493256913, 4749.879237491619, \"Cluster 3\"], [25.0, 120957.0, 0.8776734245644572, 5590.447216086322, \"Cluster 3\"], [24.0, 134384.0, 0.8747208244890404, 3731.3397614449186, \"Cluster 3\"], [17.0, 136255.0, 0.935876103673024, 4126.226651408871, \"Cluster 3\"], [29.0, 142000.0, 0.9400873084125808, 5349.821181717665, \"Cluster 3\"], [29.0, 122264.0, 0.8985788437238403, 2494.55627432471, \"Cluster 3\"], [28.0, 121216.0, 0.8569692823607705, 5349.065446955783, \"Cluster 3\"], [18.0, 123718.0, 0.8065528615489801, 4420.445820614172, \"Cluster 3\"]], \"hoverlabel\": {\"namelength\": 0}, \"hovertemplate\": \"Cluster=%{customdata[4]}<br>Income=%{customdata[1]}<br>Age=%{customdata[0]}<br>SpendingScore=%{customdata[2]}<br>Savings=%{customdata[3]}\", \"legendgroup\": \"Cluster=Cluster 3\", \"marker\": {\"color\": \"#ab63fa\"}, \"name\": \"Cluster=Cluster 3\", \"notched\": true, \"offsetgroup\": \"Cluster=Cluster 3\", \"showlegend\": false, \"type\": \"box\", \"x\": [122671, 138443, 138021, 134734, 129087, 129469, 129937, 123005, 126500, 121468, 120226, 122924, 134209, 130974, 131578, 132948, 123153, 131827, 128625, 136644, 134389, 130934, 122581, 122788, 130361, 123229, 129142, 127352, 120525, 126617, 123828, 125662, 127699, 130813, 123678, 129726, 134966, 125008, 131009, 120465, 129019, 127320, 117108, 120957, 134384, 136255, 142000, 122264, 121216, 123718], \"xaxis\": \"x2\", \"yaxis\": \"y2\"}],\n",
       "                        {\"barmode\": \"relative\", \"legend\": {\"tracegroupgap\": 0}, \"margin\": {\"t\": 60}, \"template\": {\"data\": {\"bar\": [{\"error_x\": {\"color\": \"#2a3f5f\"}, \"error_y\": {\"color\": \"#2a3f5f\"}, \"marker\": {\"line\": {\"color\": \"#E5ECF6\", \"width\": 0.5}}, \"type\": \"bar\"}], \"barpolar\": [{\"marker\": {\"line\": {\"color\": \"#E5ECF6\", \"width\": 0.5}}, \"type\": \"barpolar\"}], \"carpet\": [{\"aaxis\": {\"endlinecolor\": \"#2a3f5f\", \"gridcolor\": \"white\", \"linecolor\": \"white\", \"minorgridcolor\": \"white\", \"startlinecolor\": \"#2a3f5f\"}, \"baxis\": {\"endlinecolor\": \"#2a3f5f\", \"gridcolor\": \"white\", \"linecolor\": \"white\", \"minorgridcolor\": \"white\", \"startlinecolor\": \"#2a3f5f\"}, \"type\": \"carpet\"}], \"choropleth\": [{\"colorbar\": {\"outlinewidth\": 0, \"ticks\": \"\"}, \"type\": \"choropleth\"}], \"contour\": [{\"colorbar\": {\"outlinewidth\": 0, \"ticks\": \"\"}, \"colorscale\": [[0.0, \"#0d0887\"], [0.1111111111111111, \"#46039f\"], [0.2222222222222222, \"#7201a8\"], [0.3333333333333333, \"#9c179e\"], [0.4444444444444444, \"#bd3786\"], [0.5555555555555556, \"#d8576b\"], [0.6666666666666666, \"#ed7953\"], [0.7777777777777778, \"#fb9f3a\"], [0.8888888888888888, \"#fdca26\"], [1.0, \"#f0f921\"]], \"type\": \"contour\"}], \"contourcarpet\": [{\"colorbar\": {\"outlinewidth\": 0, \"ticks\": \"\"}, \"type\": \"contourcarpet\"}], \"heatmap\": [{\"colorbar\": {\"outlinewidth\": 0, \"ticks\": \"\"}, \"colorscale\": [[0.0, \"#0d0887\"], [0.1111111111111111, \"#46039f\"], [0.2222222222222222, \"#7201a8\"], [0.3333333333333333, \"#9c179e\"], [0.4444444444444444, \"#bd3786\"], [0.5555555555555556, \"#d8576b\"], [0.6666666666666666, \"#ed7953\"], [0.7777777777777778, \"#fb9f3a\"], [0.8888888888888888, \"#fdca26\"], [1.0, \"#f0f921\"]], \"type\": \"heatmap\"}], \"heatmapgl\": [{\"colorbar\": {\"outlinewidth\": 0, \"ticks\": \"\"}, \"colorscale\": [[0.0, \"#0d0887\"], [0.1111111111111111, \"#46039f\"], [0.2222222222222222, \"#7201a8\"], [0.3333333333333333, \"#9c179e\"], [0.4444444444444444, \"#bd3786\"], [0.5555555555555556, \"#d8576b\"], [0.6666666666666666, \"#ed7953\"], [0.7777777777777778, \"#fb9f3a\"], [0.8888888888888888, \"#fdca26\"], [1.0, \"#f0f921\"]], \"type\": \"heatmapgl\"}], \"histogram\": [{\"marker\": {\"colorbar\": {\"outlinewidth\": 0, \"ticks\": \"\"}}, \"type\": \"histogram\"}], \"histogram2d\": [{\"colorbar\": {\"outlinewidth\": 0, \"ticks\": \"\"}, \"colorscale\": [[0.0, \"#0d0887\"], [0.1111111111111111, \"#46039f\"], [0.2222222222222222, \"#7201a8\"], [0.3333333333333333, \"#9c179e\"], [0.4444444444444444, \"#bd3786\"], [0.5555555555555556, \"#d8576b\"], [0.6666666666666666, \"#ed7953\"], [0.7777777777777778, \"#fb9f3a\"], [0.8888888888888888, \"#fdca26\"], [1.0, \"#f0f921\"]], \"type\": \"histogram2d\"}], \"histogram2dcontour\": [{\"colorbar\": {\"outlinewidth\": 0, \"ticks\": \"\"}, \"colorscale\": [[0.0, \"#0d0887\"], [0.1111111111111111, \"#46039f\"], [0.2222222222222222, \"#7201a8\"], [0.3333333333333333, \"#9c179e\"], [0.4444444444444444, \"#bd3786\"], [0.5555555555555556, \"#d8576b\"], [0.6666666666666666, \"#ed7953\"], [0.7777777777777778, \"#fb9f3a\"], [0.8888888888888888, \"#fdca26\"], [1.0, \"#f0f921\"]], \"type\": \"histogram2dcontour\"}], \"mesh3d\": [{\"colorbar\": {\"outlinewidth\": 0, \"ticks\": \"\"}, \"type\": \"mesh3d\"}], \"parcoords\": [{\"line\": {\"colorbar\": {\"outlinewidth\": 0, \"ticks\": \"\"}}, \"type\": \"parcoords\"}], \"pie\": [{\"automargin\": true, \"type\": \"pie\"}], \"scatter\": [{\"marker\": {\"colorbar\": {\"outlinewidth\": 0, \"ticks\": \"\"}}, \"type\": \"scatter\"}], \"scatter3d\": [{\"line\": {\"colorbar\": {\"outlinewidth\": 0, \"ticks\": \"\"}}, \"marker\": {\"colorbar\": {\"outlinewidth\": 0, \"ticks\": \"\"}}, \"type\": \"scatter3d\"}], \"scattercarpet\": [{\"marker\": {\"colorbar\": {\"outlinewidth\": 0, \"ticks\": \"\"}}, \"type\": \"scattercarpet\"}], \"scattergeo\": [{\"marker\": {\"colorbar\": {\"outlinewidth\": 0, \"ticks\": \"\"}}, \"type\": \"scattergeo\"}], \"scattergl\": [{\"marker\": {\"colorbar\": {\"outlinewidth\": 0, \"ticks\": \"\"}}, \"type\": \"scattergl\"}], \"scattermapbox\": [{\"marker\": {\"colorbar\": {\"outlinewidth\": 0, \"ticks\": \"\"}}, \"type\": \"scattermapbox\"}], \"scatterpolar\": [{\"marker\": {\"colorbar\": {\"outlinewidth\": 0, \"ticks\": \"\"}}, \"type\": \"scatterpolar\"}], \"scatterpolargl\": [{\"marker\": {\"colorbar\": {\"outlinewidth\": 0, \"ticks\": \"\"}}, \"type\": \"scatterpolargl\"}], \"scatterternary\": [{\"marker\": {\"colorbar\": {\"outlinewidth\": 0, \"ticks\": \"\"}}, \"type\": \"scatterternary\"}], \"surface\": [{\"colorbar\": {\"outlinewidth\": 0, \"ticks\": \"\"}, \"colorscale\": [[0.0, \"#0d0887\"], [0.1111111111111111, \"#46039f\"], [0.2222222222222222, \"#7201a8\"], [0.3333333333333333, \"#9c179e\"], [0.4444444444444444, \"#bd3786\"], [0.5555555555555556, \"#d8576b\"], [0.6666666666666666, \"#ed7953\"], [0.7777777777777778, \"#fb9f3a\"], [0.8888888888888888, \"#fdca26\"], [1.0, \"#f0f921\"]], \"type\": \"surface\"}], \"table\": [{\"cells\": {\"fill\": {\"color\": \"#EBF0F8\"}, \"line\": {\"color\": \"white\"}}, \"header\": {\"fill\": {\"color\": \"#C8D4E3\"}, \"line\": {\"color\": \"white\"}}, \"type\": \"table\"}]}, \"layout\": {\"annotationdefaults\": {\"arrowcolor\": \"#2a3f5f\", \"arrowhead\": 0, \"arrowwidth\": 1}, \"coloraxis\": {\"colorbar\": {\"outlinewidth\": 0, \"ticks\": \"\"}}, \"colorscale\": {\"diverging\": [[0, \"#8e0152\"], [0.1, \"#c51b7d\"], [0.2, \"#de77ae\"], [0.3, \"#f1b6da\"], [0.4, \"#fde0ef\"], [0.5, \"#f7f7f7\"], [0.6, \"#e6f5d0\"], [0.7, \"#b8e186\"], [0.8, \"#7fbc41\"], [0.9, \"#4d9221\"], [1, \"#276419\"]], \"sequential\": [[0.0, \"#0d0887\"], [0.1111111111111111, \"#46039f\"], [0.2222222222222222, \"#7201a8\"], [0.3333333333333333, \"#9c179e\"], [0.4444444444444444, \"#bd3786\"], [0.5555555555555556, \"#d8576b\"], [0.6666666666666666, \"#ed7953\"], [0.7777777777777778, \"#fb9f3a\"], [0.8888888888888888, \"#fdca26\"], [1.0, \"#f0f921\"]], \"sequentialminus\": [[0.0, \"#0d0887\"], [0.1111111111111111, \"#46039f\"], [0.2222222222222222, \"#7201a8\"], [0.3333333333333333, \"#9c179e\"], [0.4444444444444444, \"#bd3786\"], [0.5555555555555556, \"#d8576b\"], [0.6666666666666666, \"#ed7953\"], [0.7777777777777778, \"#fb9f3a\"], [0.8888888888888888, \"#fdca26\"], [1.0, \"#f0f921\"]]}, \"colorway\": [\"#636efa\", \"#EF553B\", \"#00cc96\", \"#ab63fa\", \"#FFA15A\", \"#19d3f3\", \"#FF6692\", \"#B6E880\", \"#FF97FF\", \"#FECB52\"], \"font\": {\"color\": \"#2a3f5f\"}, \"geo\": {\"bgcolor\": \"white\", \"lakecolor\": \"white\", \"landcolor\": \"#E5ECF6\", \"showlakes\": true, \"showland\": true, \"subunitcolor\": \"white\"}, \"hoverlabel\": {\"align\": \"left\"}, \"hovermode\": \"closest\", \"mapbox\": {\"style\": \"light\"}, \"paper_bgcolor\": \"white\", \"plot_bgcolor\": \"#E5ECF6\", \"polar\": {\"angularaxis\": {\"gridcolor\": \"white\", \"linecolor\": \"white\", \"ticks\": \"\"}, \"bgcolor\": \"#E5ECF6\", \"radialaxis\": {\"gridcolor\": \"white\", \"linecolor\": \"white\", \"ticks\": \"\"}}, \"scene\": {\"xaxis\": {\"backgroundcolor\": \"#E5ECF6\", \"gridcolor\": \"white\", \"gridwidth\": 2, \"linecolor\": \"white\", \"showbackground\": true, \"ticks\": \"\", \"zerolinecolor\": \"white\"}, \"yaxis\": {\"backgroundcolor\": \"#E5ECF6\", \"gridcolor\": \"white\", \"gridwidth\": 2, \"linecolor\": \"white\", \"showbackground\": true, \"ticks\": \"\", \"zerolinecolor\": \"white\"}, \"zaxis\": {\"backgroundcolor\": \"#E5ECF6\", \"gridcolor\": \"white\", \"gridwidth\": 2, \"linecolor\": \"white\", \"showbackground\": true, \"ticks\": \"\", \"zerolinecolor\": \"white\"}}, \"shapedefaults\": {\"line\": {\"color\": \"#2a3f5f\"}}, \"ternary\": {\"aaxis\": {\"gridcolor\": \"white\", \"linecolor\": \"white\", \"ticks\": \"\"}, \"baxis\": {\"gridcolor\": \"white\", \"linecolor\": \"white\", \"ticks\": \"\"}, \"bgcolor\": \"#E5ECF6\", \"caxis\": {\"gridcolor\": \"white\", \"linecolor\": \"white\", \"ticks\": \"\"}}, \"title\": {\"x\": 0.05}, \"xaxis\": {\"automargin\": true, \"gridcolor\": \"white\", \"linecolor\": \"white\", \"ticks\": \"\", \"title\": {\"standoff\": 15}, \"zerolinecolor\": \"white\", \"zerolinewidth\": 2}, \"yaxis\": {\"automargin\": true, \"gridcolor\": \"white\", \"linecolor\": \"white\", \"ticks\": \"\", \"title\": {\"standoff\": 15}, \"zerolinecolor\": \"white\", \"zerolinewidth\": 2}}}, \"xaxis\": {\"anchor\": \"y\", \"domain\": [0.0, 1.0], \"title\": {\"text\": \"Income\"}}, \"xaxis2\": {\"anchor\": \"y2\", \"domain\": [0.0, 1.0], \"matches\": \"x\", \"showgrid\": true, \"showticklabels\": false}, \"yaxis\": {\"anchor\": \"x\", \"domain\": [0.0, 0.7326], \"title\": {\"text\": \"count\"}}, \"yaxis2\": {\"anchor\": \"x2\", \"domain\": [0.7426, 1.0], \"matches\": \"y2\", \"showgrid\": false, \"showline\": false, \"showticklabels\": false, \"ticks\": \"\"}},\n",
       "                        {\"responsive\": true}\n",
       "                    ).then(function(){\n",
       "                            \n",
       "var gd = document.getElementById('3719ce00-7e5b-447d-ae9e-2325d43d4330');\n",
       "var x = new MutationObserver(function (mutations, observer) {{\n",
       "        var display = window.getComputedStyle(gd).display;\n",
       "        if (!display || display === 'none') {{\n",
       "            console.log([gd, 'removed!']);\n",
       "            Plotly.purge(gd);\n",
       "            observer.disconnect();\n",
       "        }}\n",
       "}});\n",
       "\n",
       "// Listen for the removal of the full notebook cells\n",
       "var notebookContainer = gd.closest('#notebook-container');\n",
       "if (notebookContainer) {{\n",
       "    x.observe(notebookContainer, {childList: true});\n",
       "}}\n",
       "\n",
       "// Listen for the clearing of the current output cell\n",
       "var outputEl = gd.closest('.output');\n",
       "if (outputEl) {{\n",
       "    x.observe(outputEl, {childList: true});\n",
       "}}\n",
       "\n",
       "                        })\n",
       "                };\n",
       "                });\n",
       "            </script>\n",
       "        </div>"
      ]
     },
     "metadata": {},
     "output_type": "display_data"
    }
   ],
   "source": [
    "# plot a model\n",
    "plot_model(kmeans,plot='distribution',feature='Income') "
   ]
  },
  {
   "cell_type": "markdown",
   "metadata": {},
   "source": [
    "# Assign Model"
   ]
  },
  {
   "cell_type": "code",
   "execution_count": 12,
   "metadata": {
    "scrolled": true
   },
   "outputs": [
    {
     "data": {
      "text/html": [
       "<div>\n",
       "<style scoped>\n",
       "    .dataframe tbody tr th:only-of-type {\n",
       "        vertical-align: middle;\n",
       "    }\n",
       "\n",
       "    .dataframe tbody tr th {\n",
       "        vertical-align: top;\n",
       "    }\n",
       "\n",
       "    .dataframe thead th {\n",
       "        text-align: right;\n",
       "    }\n",
       "</style>\n",
       "<table border=\"1\" class=\"dataframe\">\n",
       "  <thead>\n",
       "    <tr style=\"text-align: right;\">\n",
       "      <th></th>\n",
       "      <th>Age</th>\n",
       "      <th>Income</th>\n",
       "      <th>SpendingScore</th>\n",
       "      <th>Savings</th>\n",
       "      <th>Cluster</th>\n",
       "    </tr>\n",
       "  </thead>\n",
       "  <tbody>\n",
       "    <tr>\n",
       "      <th>0</th>\n",
       "      <td>58</td>\n",
       "      <td>77769</td>\n",
       "      <td>0.791329</td>\n",
       "      <td>6559.829923</td>\n",
       "      <td>Cluster 1</td>\n",
       "    </tr>\n",
       "    <tr>\n",
       "      <th>1</th>\n",
       "      <td>59</td>\n",
       "      <td>81799</td>\n",
       "      <td>0.791082</td>\n",
       "      <td>5417.661426</td>\n",
       "      <td>Cluster 1</td>\n",
       "    </tr>\n",
       "    <tr>\n",
       "      <th>2</th>\n",
       "      <td>62</td>\n",
       "      <td>74751</td>\n",
       "      <td>0.702657</td>\n",
       "      <td>9258.992965</td>\n",
       "      <td>Cluster 1</td>\n",
       "    </tr>\n",
       "    <tr>\n",
       "      <th>3</th>\n",
       "      <td>59</td>\n",
       "      <td>74373</td>\n",
       "      <td>0.765680</td>\n",
       "      <td>7346.334504</td>\n",
       "      <td>Cluster 1</td>\n",
       "    </tr>\n",
       "    <tr>\n",
       "      <th>4</th>\n",
       "      <td>87</td>\n",
       "      <td>17760</td>\n",
       "      <td>0.348778</td>\n",
       "      <td>16869.507130</td>\n",
       "      <td>Cluster 0</td>\n",
       "    </tr>\n",
       "  </tbody>\n",
       "</table>\n",
       "</div>"
      ],
      "text/plain": [
       "   Age  Income  SpendingScore       Savings    Cluster\n",
       "0   58   77769       0.791329   6559.829923  Cluster 1\n",
       "1   59   81799       0.791082   5417.661426  Cluster 1\n",
       "2   62   74751       0.702657   9258.992965  Cluster 1\n",
       "3   59   74373       0.765680   7346.334504  Cluster 1\n",
       "4   87   17760       0.348778  16869.507130  Cluster 0"
      ]
     },
     "execution_count": 12,
     "metadata": {},
     "output_type": "execute_result"
    }
   ],
   "source": [
    "# assign labels using trained model\n",
    "kmeans_result = assign_model(kmeans)\n",
    "kmeans_result.head()"
   ]
  },
  {
   "cell_type": "markdown",
   "metadata": {},
   "source": [
    "# Predict Model"
   ]
  },
  {
   "cell_type": "code",
   "execution_count": 13,
   "metadata": {},
   "outputs": [
    {
     "data": {
      "text/html": [
       "<div>\n",
       "<style scoped>\n",
       "    .dataframe tbody tr th:only-of-type {\n",
       "        vertical-align: middle;\n",
       "    }\n",
       "\n",
       "    .dataframe tbody tr th {\n",
       "        vertical-align: top;\n",
       "    }\n",
       "\n",
       "    .dataframe thead th {\n",
       "        text-align: right;\n",
       "    }\n",
       "</style>\n",
       "<table border=\"1\" class=\"dataframe\">\n",
       "  <thead>\n",
       "    <tr style=\"text-align: right;\">\n",
       "      <th></th>\n",
       "      <th>Age</th>\n",
       "      <th>Income</th>\n",
       "      <th>SpendingScore</th>\n",
       "      <th>Savings</th>\n",
       "      <th>Cluster</th>\n",
       "    </tr>\n",
       "  </thead>\n",
       "  <tbody>\n",
       "    <tr>\n",
       "      <th>0</th>\n",
       "      <td>58</td>\n",
       "      <td>77769</td>\n",
       "      <td>0.791329</td>\n",
       "      <td>6559.829923</td>\n",
       "      <td>Cluster 1</td>\n",
       "    </tr>\n",
       "    <tr>\n",
       "      <th>1</th>\n",
       "      <td>59</td>\n",
       "      <td>81799</td>\n",
       "      <td>0.791082</td>\n",
       "      <td>5417.661426</td>\n",
       "      <td>Cluster 1</td>\n",
       "    </tr>\n",
       "    <tr>\n",
       "      <th>2</th>\n",
       "      <td>62</td>\n",
       "      <td>74751</td>\n",
       "      <td>0.702657</td>\n",
       "      <td>9258.992965</td>\n",
       "      <td>Cluster 1</td>\n",
       "    </tr>\n",
       "    <tr>\n",
       "      <th>3</th>\n",
       "      <td>59</td>\n",
       "      <td>74373</td>\n",
       "      <td>0.765680</td>\n",
       "      <td>7346.334504</td>\n",
       "      <td>Cluster 1</td>\n",
       "    </tr>\n",
       "    <tr>\n",
       "      <th>4</th>\n",
       "      <td>87</td>\n",
       "      <td>17760</td>\n",
       "      <td>0.348778</td>\n",
       "      <td>16869.507130</td>\n",
       "      <td>Cluster 0</td>\n",
       "    </tr>\n",
       "  </tbody>\n",
       "</table>\n",
       "</div>"
      ],
      "text/plain": [
       "   Age  Income  SpendingScore       Savings    Cluster\n",
       "0   58   77769       0.791329   6559.829923  Cluster 1\n",
       "1   59   81799       0.791082   5417.661426  Cluster 1\n",
       "2   62   74751       0.702657   9258.992965  Cluster 1\n",
       "3   59   74373       0.765680   7346.334504  Cluster 1\n",
       "4   87   17760       0.348778  16869.507130  Cluster 0"
      ]
     },
     "execution_count": 13,
     "metadata": {},
     "output_type": "execute_result"
    }
   ],
   "source": [
    "# generate predictions\n",
    "kmeans_predictions = predict_model(kmeans, data = jewellery)\n",
    "kmeans_predictions.head()"
   ]
  }
 ],
 "metadata": {
  "kernelspec": {
   "display_name": "Python 3",
   "language": "python",
   "name": "python3"
  },
  "language_info": {
   "codemirror_mode": {
    "name": "ipython",
    "version": 3
   },
   "file_extension": ".py",
   "mimetype": "text/x-python",
   "name": "python",
   "nbconvert_exporter": "python",
   "pygments_lexer": "ipython3",
   "version": "3.6.10"
  }
 },
 "nbformat": 4,
 "nbformat_minor": 4
}
